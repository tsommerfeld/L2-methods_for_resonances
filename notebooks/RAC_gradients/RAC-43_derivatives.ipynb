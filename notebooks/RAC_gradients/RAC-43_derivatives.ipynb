{
 "cells": [
  {
   "cell_type": "code",
   "execution_count": 1,
   "metadata": {},
   "outputs": [
    {
     "name": "stdout",
     "output_type": "stream",
     "text": [
      "IPython console for SymPy 1.6 (Python 3.7.3-64-bit) (ground types: python)\n",
      "\n",
      "These commands were executed:\n",
      ">>> from __future__ import division\n",
      ">>> from sympy import *\n",
      ">>> x, y, z, t = symbols('x y z t')\n",
      ">>> k, m, n = symbols('k m n', integer=True)\n",
      ">>> f, g, h = symbols('f g h', cls=Function)\n",
      ">>> init_printing()\n",
      "\n",
      "Documentation can be found at https://docs.sympy.org/1.6/\n",
      "\n"
     ]
    }
   ],
   "source": [
    "from sympy import init_session\n",
    "init_session()"
   ]
  },
  {
   "cell_type": "code",
   "execution_count": 3,
   "metadata": {},
   "outputs": [],
   "source": [
    "a, b, g, d, o, r, k, l0 = symbols('a b g d o r k l0', real=True, positive=True)"
   ]
  },
  {
   "cell_type": "code",
   "execution_count": 4,
   "metadata": {},
   "outputs": [
    {
     "data": {
      "image/png": "[encoded data removed]",
      "text/latex": [
       "$\\displaystyle \\frac{l_{0} \\left(d^{2} k^{2} + g^{2} k + 1\\right) \\left(a^{4} + 2 a^{2} k + b^{2} + k^{2}\\right)}{a^{4} + b^{2} + k^{3} r^{2} + k^{2} o^{2} + k \\left(2 a^{2} + g^{2} \\left(a^{4} + b^{2}\\right)\\right)}$"
      ],
      "text/plain": [
       "     ⎛ 2  2    2      ⎞ ⎛ 4      2      2    2⎞  \n",
       "  l₀⋅⎝d ⋅k  + g ⋅k + 1⎠⋅⎝a  + 2⋅a ⋅k + b  + k ⎠  \n",
       "─────────────────────────────────────────────────\n",
       " 4    2    3  2    2  2     ⎛   2    2 ⎛ 4    2⎞⎞\n",
       "a  + b  + k ⋅r  + k ⋅o  + k⋅⎝2⋅a  + g ⋅⎝a  + b ⎠⎠"
      ]
     },
     "execution_count": 4,
     "metadata": {},
     "output_type": "execute_result"
    }
   ],
   "source": [
    "ksq=k**2\n",
    "A, B, G, D, O, R = a**2, b**2, g**2, d**2, o**2, r**2\n",
    "TA = 2*A\n",
    "A2B = A*A + B\n",
    "C = TA + G*A2B\n",
    "f1 = ksq + TA*k + A2B\n",
    "f2 = 1 + G*k + D*ksq\n",
    "den = A2B + C*k + O*ksq + R*ksq*k\n",
    "f = l0 * f1 * f2 / den\n",
    "f"
   ]
  },
  {
   "cell_type": "code",
   "execution_count": 5,
   "metadata": {},
   "outputs": [
    {
     "data": {
      "image/png": "[encoded data removed]",
      "text/latex": [
       "$\\displaystyle \\frac{\\left(d^{2} k^{2} + g^{2} k + 1\\right) \\left(a^{4} + 2 a^{2} k + b^{2} + k^{2}\\right)}{a^{4} + b^{2} + k^{3} r^{2} + k^{2} o^{2} + k \\left(2 a^{2} + g^{2} \\left(a^{4} + b^{2}\\right)\\right)}$"
      ],
      "text/plain": [
       "    ⎛ 2  2    2      ⎞ ⎛ 4      2      2    2⎞   \n",
       "    ⎝d ⋅k  + g ⋅k + 1⎠⋅⎝a  + 2⋅a ⋅k + b  + k ⎠   \n",
       "─────────────────────────────────────────────────\n",
       " 4    2    3  2    2  2     ⎛   2    2 ⎛ 4    2⎞⎞\n",
       "a  + b  + k ⋅r  + k ⋅o  + k⋅⎝2⋅a  + g ⋅⎝a  + b ⎠⎠"
      ]
     },
     "execution_count": 5,
     "metadata": {},
     "output_type": "execute_result"
    }
   ],
   "source": [
    "diff(f,l0)"
   ]
  },
  {
   "cell_type": "code",
   "execution_count": 6,
   "metadata": {},
   "outputs": [
    {
     "data": {
      "image/png": "[encoded data removed]",
      "text/latex": [
       "$\\displaystyle \\frac{4 a k^{2} l_{0} \\left(d^{2} k^{2} + g^{2} k + 1\\right) \\left(- a^{4} g^{2} - a^{2} g^{2} k + a^{2} k r^{2} + a^{2} o^{2} - a^{2} + b^{2} g^{2} + k^{2} r^{2} + k o^{2} - k\\right)}{\\left(a^{4} g^{2} k + a^{4} + 2 a^{2} k + b^{2} g^{2} k + b^{2} + k^{3} r^{2} + k^{2} o^{2}\\right)^{2}}$"
      ],
      "text/plain": [
       "     2    ⎛ 2  2    2      ⎞ ⎛   4  2    2  2      2    2    2  2    2    2  2\n",
       "4⋅a⋅k ⋅l₀⋅⎝d ⋅k  + g ⋅k + 1⎠⋅⎝- a ⋅g  - a ⋅g ⋅k + a ⋅k⋅r  + a ⋅o  - a  + b ⋅g \n",
       "──────────────────────────────────────────────────────────────────────────────\n",
       "                                                                           2  \n",
       "                     ⎛ 4  2      4      2      2  2      2    3  2    2  2⎞   \n",
       "                     ⎝a ⋅g ⋅k + a  + 2⋅a ⋅k + b ⋅g ⋅k + b  + k ⋅r  + k ⋅o ⎠   \n",
       "\n",
       "    2  2      2    ⎞\n",
       " + k ⋅r  + k⋅o  - k⎠\n",
       "────────────────────\n",
       "                    \n",
       "                    \n",
       "                    "
      ]
     },
     "execution_count": 6,
     "metadata": {},
     "output_type": "execute_result"
    }
   ],
   "source": [
    "da=diff(f,a)\n",
    "da.factor()"
   ]
  },
  {
   "cell_type": "code",
   "execution_count": 7,
   "metadata": {},
   "outputs": [
    {
     "data": {
      "image/png": "[encoded data removed]",
      "text/latex": [
       "$\\displaystyle \\frac{2 b k^{2} l_{0} \\left(d^{2} k^{2} + g^{2} k + 1\\right) \\left(- 2 a^{2} g^{2} - g^{2} k + k r^{2} + o^{2} - 1\\right)}{\\left(a^{4} g^{2} k + a^{4} + 2 a^{2} k + b^{2} g^{2} k + b^{2} + k^{3} r^{2} + k^{2} o^{2}\\right)^{2}}$"
      ],
      "text/plain": [
       "     2    ⎛ 2  2    2      ⎞ ⎛     2  2    2        2    2    ⎞\n",
       "2⋅b⋅k ⋅l₀⋅⎝d ⋅k  + g ⋅k + 1⎠⋅⎝- 2⋅a ⋅g  - g ⋅k + k⋅r  + o  - 1⎠\n",
       "───────────────────────────────────────────────────────────────\n",
       "                                                          2    \n",
       "    ⎛ 4  2      4      2      2  2      2    3  2    2  2⎞     \n",
       "    ⎝a ⋅g ⋅k + a  + 2⋅a ⋅k + b ⋅g ⋅k + b  + k ⋅r  + k ⋅o ⎠     "
      ]
     },
     "execution_count": 7,
     "metadata": {},
     "output_type": "execute_result"
    }
   ],
   "source": [
    "db=diff(f,b)\n",
    "db.factor()"
   ]
  },
  {
   "cell_type": "code",
   "execution_count": 8,
   "metadata": {},
   "outputs": [
    {
     "data": {
      "image/png": "[encoded data removed]",
      "text/latex": [
       "$\\displaystyle \\frac{2 g k^{2} l_{0} \\left(a^{4} + 2 a^{2} k + b^{2} + k^{2}\\right) \\left(- a^{4} d^{2} k + 2 a^{2} - b^{2} d^{2} k + k^{2} r^{2} + k o^{2}\\right)}{\\left(a^{4} g^{2} k + a^{4} + 2 a^{2} k + b^{2} g^{2} k + b^{2} + k^{3} r^{2} + k^{2} o^{2}\\right)^{2}}$"
      ],
      "text/plain": [
       "     2    ⎛ 4      2      2    2⎞ ⎛   4  2        2    2  2      2  2      2⎞\n",
       "2⋅g⋅k ⋅l₀⋅⎝a  + 2⋅a ⋅k + b  + k ⎠⋅⎝- a ⋅d ⋅k + 2⋅a  - b ⋅d ⋅k + k ⋅r  + k⋅o ⎠\n",
       "─────────────────────────────────────────────────────────────────────────────\n",
       "                                                                 2           \n",
       "           ⎛ 4  2      4      2      2  2      2    3  2    2  2⎞            \n",
       "           ⎝a ⋅g ⋅k + a  + 2⋅a ⋅k + b ⋅g ⋅k + b  + k ⋅r  + k ⋅o ⎠            "
      ]
     },
     "execution_count": 8,
     "metadata": {},
     "output_type": "execute_result"
    }
   ],
   "source": [
    "dg=diff(f,g)\n",
    "dg.factor()"
   ]
  },
  {
   "cell_type": "code",
   "execution_count": 9,
   "metadata": {},
   "outputs": [
    {
     "data": {
      "image/png": "[encoded data removed]",
      "text/latex": [
       "$\\displaystyle \\frac{2 d k^{2} l_{0} \\left(a^{4} + 2 a^{2} k + b^{2} + k^{2}\\right)}{a^{4} g^{2} k + a^{4} + 2 a^{2} k + b^{2} g^{2} k + b^{2} + k^{3} r^{2} + k^{2} o^{2}}$"
      ],
      "text/plain": [
       "              2    ⎛ 4      2      2    2⎞          \n",
       "         2⋅d⋅k ⋅l₀⋅⎝a  + 2⋅a ⋅k + b  + k ⎠          \n",
       "────────────────────────────────────────────────────\n",
       " 4  2      4      2      2  2      2    3  2    2  2\n",
       "a ⋅g ⋅k + a  + 2⋅a ⋅k + b ⋅g ⋅k + b  + k ⋅r  + k ⋅o "
      ]
     },
     "execution_count": 9,
     "metadata": {},
     "output_type": "execute_result"
    }
   ],
   "source": [
    "dd=diff(f,d)\n",
    "dd.factor()"
   ]
  },
  {
   "cell_type": "code",
   "execution_count": 10,
   "metadata": {},
   "outputs": [
    {
     "data": {
      "image/png": "[encoded data removed]",
      "text/latex": [
       "$\\displaystyle - \\frac{2 k^{2} l_{0} o \\left(d^{2} k^{2} + g^{2} k + 1\\right) \\left(a^{4} + 2 a^{2} k + b^{2} + k^{2}\\right)}{\\left(a^{4} g^{2} k + a^{4} + 2 a^{2} k + b^{2} g^{2} k + b^{2} + k^{3} r^{2} + k^{2} o^{2}\\right)^{2}}$"
      ],
      "text/plain": [
       "     2      ⎛ 2  2    2      ⎞ ⎛ 4      2      2    2⎞ \n",
       " -2⋅k ⋅l₀⋅o⋅⎝d ⋅k  + g ⋅k + 1⎠⋅⎝a  + 2⋅a ⋅k + b  + k ⎠ \n",
       "───────────────────────────────────────────────────────\n",
       "                                                      2\n",
       "⎛ 4  2      4      2      2  2      2    3  2    2  2⎞ \n",
       "⎝a ⋅g ⋅k + a  + 2⋅a ⋅k + b ⋅g ⋅k + b  + k ⋅r  + k ⋅o ⎠ "
      ]
     },
     "execution_count": 10,
     "metadata": {},
     "output_type": "execute_result"
    }
   ],
   "source": [
    "do=diff(f,o)\n",
    "do.factor()"
   ]
  },
  {
   "cell_type": "code",
   "execution_count": 11,
   "metadata": {},
   "outputs": [
    {
     "data": {
      "image/png": "[encoded data removed]",
      "text/latex": [
       "$\\displaystyle - \\frac{2 k^{3} l_{0} r \\left(d^{2} k^{2} + g^{2} k + 1\\right) \\left(a^{4} + 2 a^{2} k + b^{2} + k^{2}\\right)}{\\left(a^{4} g^{2} k + a^{4} + 2 a^{2} k + b^{2} g^{2} k + b^{2} + k^{3} r^{2} + k^{2} o^{2}\\right)^{2}}$"
      ],
      "text/plain": [
       "     3      ⎛ 2  2    2      ⎞ ⎛ 4      2      2    2⎞ \n",
       " -2⋅k ⋅l₀⋅r⋅⎝d ⋅k  + g ⋅k + 1⎠⋅⎝a  + 2⋅a ⋅k + b  + k ⎠ \n",
       "───────────────────────────────────────────────────────\n",
       "                                                      2\n",
       "⎛ 4  2      4      2      2  2      2    3  2    2  2⎞ \n",
       "⎝a ⋅g ⋅k + a  + 2⋅a ⋅k + b ⋅g ⋅k + b  + k ⋅r  + k ⋅o ⎠ "
      ]
     },
     "execution_count": 11,
     "metadata": {},
     "output_type": "execute_result"
    }
   ],
   "source": [
    "dr=diff(f,r)\n",
    "dr.factor()"
   ]
  },
  {
   "cell_type": "code",
   "execution_count": null,
   "metadata": {},
   "outputs": [],
   "source": []
  }
 ],
 "metadata": {
  "kernelspec": {
   "display_name": "Python 3",
   "language": "python",
   "name": "python3"
  },
  "language_info": {
   "codemirror_mode": {
    "name": "ipython",
    "version": 3
   },
   "file_extension": ".py",
   "mimetype": "text/x-python",
   "name": "python",
   "nbconvert_exporter": "python",
   "pygments_lexer": "ipython3",
   "version": "3.7.3"
  }
 },
 "nbformat": 4,
 "nbformat_minor": 4
}
