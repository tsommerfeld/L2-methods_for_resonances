{
 "cells": [
  {
   "cell_type": "code",
   "execution_count": 1,
   "metadata": {},
   "outputs": [
    {
     "name": "stdout",
     "output_type": "stream",
     "text": [
      "IPython console for SymPy 1.6 (Python 3.7.3-64-bit) (ground types: python)\n",
      "\n",
      "These commands were executed:\n",
      ">>> from __future__ import division\n",
      ">>> from sympy import *\n",
      ">>> x, y, z, t = symbols('x y z t')\n",
      ">>> k, m, n = symbols('k m n', integer=True)\n",
      ">>> f, g, h = symbols('f g h', cls=Function)\n",
      ">>> init_printing()\n",
      "\n",
      "Documentation can be found at https://docs.sympy.org/1.6/\n",
      "\n"
     ]
    }
   ],
   "source": [
    "from sympy import init_session\n",
    "init_session()"
   ]
  },
  {
   "cell_type": "code",
   "execution_count": 4,
   "metadata": {},
   "outputs": [],
   "source": [
    "a, b, g, d, e, o, k, l0 = symbols('a b g d e o k l0', real=True, positive=True)"
   ]
  },
  {
   "cell_type": "code",
   "execution_count": 13,
   "metadata": {},
   "outputs": [
    {
     "data": {
      "image/png": "[encoded data removed]",
      "text/latex": [
       "$\\displaystyle \\frac{l_{0} \\left(e^{2} k + 1\\right) \\left(d^{2} k^{2} + g^{2} k + 1\\right) \\left(a^{4} + 2 a^{2} k + b^{2} + k^{2}\\right)}{a^{4} + b^{2} + k^{2} o^{2} + k \\left(2 a^{2} + \\left(a^{4} + b^{2}\\right) \\left(e^{2} + g^{2}\\right)\\right)}$"
      ],
      "text/plain": [
       "   ⎛ 2      ⎞ ⎛ 2  2    2      ⎞ ⎛ 4      2      2    2⎞\n",
       "l₀⋅⎝e ⋅k + 1⎠⋅⎝d ⋅k  + g ⋅k + 1⎠⋅⎝a  + 2⋅a ⋅k + b  + k ⎠\n",
       "────────────────────────────────────────────────────────\n",
       "     4    2    2  2     ⎛   2   ⎛ 4    2⎞ ⎛ 2    2⎞⎞    \n",
       "    a  + b  + k ⋅o  + k⋅⎝2⋅a  + ⎝a  + b ⎠⋅⎝e  + g ⎠⎠    "
      ]
     },
     "execution_count": 13,
     "metadata": {},
     "output_type": "execute_result"
    }
   ],
   "source": [
    "ksq=k**2\n",
    "A, B, G, D, E, O = a**2, b**2, g**2, d**2, e**2, o**2\n",
    "TA = 2*A\n",
    "A2B = A*A + B\n",
    "C = TA + (G+E)*A2B\n",
    "f1 = ksq + TA*k + A2B\n",
    "f2 = 1 + G*k + D*ksq\n",
    "f3 = 1 + E*k\n",
    "den = A2B + C*k + O*ksq\n",
    "f = l0*f1*f2*f3/den\n",
    "f"
   ]
  },
  {
   "cell_type": "code",
   "execution_count": 14,
   "metadata": {},
   "outputs": [
    {
     "data": {
      "image/png": "[encoded data removed]",
      "text/latex": [
       "$\\displaystyle \\frac{\\left(e^{2} k + 1\\right) \\left(d^{2} k^{2} + g^{2} k + 1\\right) \\left(a^{4} + 2 a^{2} k + b^{2} + k^{2}\\right)}{a^{4} + b^{2} + k^{2} o^{2} + k \\left(2 a^{2} + \\left(a^{4} + b^{2}\\right) \\left(e^{2} + g^{2}\\right)\\right)}$"
      ],
      "text/plain": [
       "⎛ 2      ⎞ ⎛ 2  2    2      ⎞ ⎛ 4      2      2    2⎞\n",
       "⎝e ⋅k + 1⎠⋅⎝d ⋅k  + g ⋅k + 1⎠⋅⎝a  + 2⋅a ⋅k + b  + k ⎠\n",
       "─────────────────────────────────────────────────────\n",
       "    4    2    2  2     ⎛   2   ⎛ 4    2⎞ ⎛ 2    2⎞⎞  \n",
       "   a  + b  + k ⋅o  + k⋅⎝2⋅a  + ⎝a  + b ⎠⋅⎝e  + g ⎠⎠  "
      ]
     },
     "execution_count": 14,
     "metadata": {},
     "output_type": "execute_result"
    }
   ],
   "source": [
    "diff(f,l0)"
   ]
  },
  {
   "cell_type": "code",
   "execution_count": 15,
   "metadata": {},
   "outputs": [
    {
     "data": {
      "image/png": "[encoded data removed]",
      "text/latex": [
       "$\\displaystyle - \\frac{4 a k^{2} l_{0} \\left(e^{2} k + 1\\right) \\left(d^{2} k^{2} + g^{2} k + 1\\right) \\left(a^{4} e^{2} + a^{4} g^{2} + a^{2} e^{2} k + a^{2} g^{2} k - a^{2} o^{2} + a^{2} - b^{2} e^{2} - b^{2} g^{2} - k o^{2} + k\\right)}{\\left(a^{4} e^{2} k + a^{4} g^{2} k + a^{4} + 2 a^{2} k + b^{2} e^{2} k + b^{2} g^{2} k + b^{2} + k^{2} o^{2}\\right)^{2}}$"
      ],
      "text/plain": [
       "      2    ⎛ 2      ⎞ ⎛ 2  2    2      ⎞ ⎛ 4  2    4  2    2  2      2  2     \n",
       "-4⋅a⋅k ⋅l₀⋅⎝e ⋅k + 1⎠⋅⎝d ⋅k  + g ⋅k + 1⎠⋅⎝a ⋅e  + a ⋅g  + a ⋅e ⋅k + a ⋅g ⋅k - \n",
       "──────────────────────────────────────────────────────────────────────────────\n",
       "                                                                              \n",
       "                         ⎛ 4  2      4  2      4      2      2  2      2  2   \n",
       "                         ⎝a ⋅e ⋅k + a ⋅g ⋅k + a  + 2⋅a ⋅k + b ⋅e ⋅k + b ⋅g ⋅k \n",
       "\n",
       " 2  2    2    2  2    2  2      2    ⎞ \n",
       "a ⋅o  + a  - b ⋅e  - b ⋅g  - k⋅o  + k⎠ \n",
       "───────────────────────────────────────\n",
       "             2                         \n",
       "   2    2  2⎞                          \n",
       "+ b  + k ⋅o ⎠                          "
      ]
     },
     "execution_count": 15,
     "metadata": {},
     "output_type": "execute_result"
    }
   ],
   "source": [
    "da=diff(f,a)\n",
    "da.factor()"
   ]
  },
  {
   "cell_type": "code",
   "execution_count": 16,
   "metadata": {},
   "outputs": [
    {
     "data": {
      "image/png": "[encoded data removed]",
      "text/latex": [
       "$\\displaystyle - \\frac{2 b k^{2} l_{0} \\left(e^{2} k + 1\\right) \\left(d^{2} k^{2} + g^{2} k + 1\\right) \\left(2 a^{2} e^{2} + 2 a^{2} g^{2} + e^{2} k + g^{2} k - o^{2} + 1\\right)}{\\left(a^{4} e^{2} k + a^{4} g^{2} k + a^{4} + 2 a^{2} k + b^{2} e^{2} k + b^{2} g^{2} k + b^{2} + k^{2} o^{2}\\right)^{2}}$"
      ],
      "text/plain": [
       "      2    ⎛ 2      ⎞ ⎛ 2  2    2      ⎞ ⎛   2  2      2  2    2      2      2\n",
       "-2⋅b⋅k ⋅l₀⋅⎝e ⋅k + 1⎠⋅⎝d ⋅k  + g ⋅k + 1⎠⋅⎝2⋅a ⋅e  + 2⋅a ⋅g  + e ⋅k + g ⋅k - o \n",
       "──────────────────────────────────────────────────────────────────────────────\n",
       "                                                                          2   \n",
       "        ⎛ 4  2      4  2      4      2      2  2      2  2      2    2  2⎞    \n",
       "        ⎝a ⋅e ⋅k + a ⋅g ⋅k + a  + 2⋅a ⋅k + b ⋅e ⋅k + b ⋅g ⋅k + b  + k ⋅o ⎠    \n",
       "\n",
       "    ⎞ \n",
       " + 1⎠ \n",
       "──────\n",
       "      \n",
       "      \n",
       "      "
      ]
     },
     "execution_count": 16,
     "metadata": {},
     "output_type": "execute_result"
    }
   ],
   "source": [
    "db=diff(f,b)\n",
    "db.factor()"
   ]
  },
  {
   "cell_type": "code",
   "execution_count": 17,
   "metadata": {},
   "outputs": [
    {
     "data": {
      "image/png": "[encoded data removed]",
      "text/latex": [
       "$\\displaystyle - \\frac{2 g k^{2} l_{0} \\left(e^{2} k + 1\\right) \\left(a^{4} + 2 a^{2} k + b^{2} + k^{2}\\right) \\left(a^{4} d^{2} k - a^{4} e^{2} - 2 a^{2} + b^{2} d^{2} k - b^{2} e^{2} - k o^{2}\\right)}{\\left(a^{4} e^{2} k + a^{4} g^{2} k + a^{4} + 2 a^{2} k + b^{2} e^{2} k + b^{2} g^{2} k + b^{2} + k^{2} o^{2}\\right)^{2}}$"
      ],
      "text/plain": [
       "      2    ⎛ 2      ⎞ ⎛ 4      2      2    2⎞ ⎛ 4  2      4  2      2    2  2 \n",
       "-2⋅g⋅k ⋅l₀⋅⎝e ⋅k + 1⎠⋅⎝a  + 2⋅a ⋅k + b  + k ⎠⋅⎝a ⋅d ⋅k - a ⋅e  - 2⋅a  + b ⋅d ⋅\n",
       "──────────────────────────────────────────────────────────────────────────────\n",
       "                                                                              \n",
       "              ⎛ 4  2      4  2      4      2      2  2      2  2      2    2  \n",
       "              ⎝a ⋅e ⋅k + a ⋅g ⋅k + a  + 2⋅a ⋅k + b ⋅e ⋅k + b ⋅g ⋅k + b  + k ⋅o\n",
       "\n",
       "     2  2      2⎞ \n",
       "k - b ⋅e  - k⋅o ⎠ \n",
       "──────────────────\n",
       "  2               \n",
       "2⎞                \n",
       " ⎠                "
      ]
     },
     "execution_count": 17,
     "metadata": {},
     "output_type": "execute_result"
    }
   ],
   "source": [
    "dg=diff(f,g)\n",
    "dg.factor()"
   ]
  },
  {
   "cell_type": "code",
   "execution_count": 18,
   "metadata": {},
   "outputs": [
    {
     "data": {
      "image/png": "[encoded data removed]",
      "text/latex": [
       "$\\displaystyle \\frac{2 d k^{2} l_{0} \\left(e^{2} k + 1\\right) \\left(a^{4} + 2 a^{2} k + b^{2} + k^{2}\\right)}{a^{4} e^{2} k + a^{4} g^{2} k + a^{4} + 2 a^{2} k + b^{2} e^{2} k + b^{2} g^{2} k + b^{2} + k^{2} o^{2}}$"
      ],
      "text/plain": [
       "               2    ⎛ 2      ⎞ ⎛ 4      2      2    2⎞          \n",
       "          2⋅d⋅k ⋅l₀⋅⎝e ⋅k + 1⎠⋅⎝a  + 2⋅a ⋅k + b  + k ⎠          \n",
       "────────────────────────────────────────────────────────────────\n",
       " 4  2      4  2      4      2      2  2      2  2      2    2  2\n",
       "a ⋅e ⋅k + a ⋅g ⋅k + a  + 2⋅a ⋅k + b ⋅e ⋅k + b ⋅g ⋅k + b  + k ⋅o "
      ]
     },
     "execution_count": 18,
     "metadata": {},
     "output_type": "execute_result"
    }
   ],
   "source": [
    "dd=diff(f,d)\n",
    "dd.factor()"
   ]
  },
  {
   "cell_type": "code",
   "execution_count": 19,
   "metadata": {},
   "outputs": [
    {
     "data": {
      "image/png": "[encoded data removed]",
      "text/latex": [
       "$\\displaystyle \\frac{2 e k^{2} l_{0} \\left(d^{2} k^{2} + g^{2} k + 1\\right) \\left(a^{4} + 2 a^{2} k + b^{2} + k^{2}\\right) \\left(a^{4} g^{2} + 2 a^{2} + b^{2} g^{2} + k o^{2}\\right)}{\\left(a^{4} e^{2} k + a^{4} g^{2} k + a^{4} + 2 a^{2} k + b^{2} e^{2} k + b^{2} g^{2} k + b^{2} + k^{2} o^{2}\\right)^{2}}$"
      ],
      "text/plain": [
       "     2    ⎛ 2  2    2      ⎞ ⎛ 4      2      2    2⎞ ⎛ 4  2      2    2  2    \n",
       "2⋅e⋅k ⋅l₀⋅⎝d ⋅k  + g ⋅k + 1⎠⋅⎝a  + 2⋅a ⋅k + b  + k ⎠⋅⎝a ⋅g  + 2⋅a  + b ⋅g  + k\n",
       "──────────────────────────────────────────────────────────────────────────────\n",
       "                                                                         2    \n",
       "       ⎛ 4  2      4  2      4      2      2  2      2  2      2    2  2⎞     \n",
       "       ⎝a ⋅e ⋅k + a ⋅g ⋅k + a  + 2⋅a ⋅k + b ⋅e ⋅k + b ⋅g ⋅k + b  + k ⋅o ⎠     \n",
       "\n",
       "  2⎞\n",
       "⋅o ⎠\n",
       "────\n",
       "    \n",
       "    \n",
       "    "
      ]
     },
     "execution_count": 19,
     "metadata": {},
     "output_type": "execute_result"
    }
   ],
   "source": [
    "de=diff(f,e)\n",
    "de.factor()"
   ]
  },
  {
   "cell_type": "code",
   "execution_count": null,
   "metadata": {},
   "outputs": [],
   "source": [
    "do=diff(f,o)\n",
    "dd.factor()"
   ]
  }
 ],
 "metadata": {
  "kernelspec": {
   "display_name": "Python 3",
   "language": "python",
   "name": "python3"
  },
  "language_info": {
   "codemirror_mode": {
    "name": "ipython",
    "version": 3
   },
   "file_extension": ".py",
   "mimetype": "text/x-python",
   "name": "python",
   "nbconvert_exporter": "python",
   "pygments_lexer": "ipython3",
   "version": "3.7.3"
  }
 },
 "nbformat": 4,
 "nbformat_minor": 4
}
