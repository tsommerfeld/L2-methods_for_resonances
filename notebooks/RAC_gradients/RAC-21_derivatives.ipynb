{
 "cells": [
  {
   "cell_type": "code",
   "execution_count": 1,
   "metadata": {},
   "outputs": [
    {
     "name": "stdout",
     "output_type": "stream",
     "text": [
      "IPython console for SymPy 1.6 (Python 3.7.3-64-bit) (ground types: python)\n",
      "\n",
      "These commands were executed:\n",
      ">>> from __future__ import division\n",
      ">>> from sympy import *\n",
      ">>> x, y, z, t = symbols('x y z t')\n",
      ">>> k, m, n = symbols('k m n', integer=True)\n",
      ">>> f, g, h = symbols('f g h', cls=Function)\n",
      ">>> init_printing()\n",
      "\n",
      "Documentation can be found at https://docs.sympy.org/1.6/\n",
      "\n"
     ]
    }
   ],
   "source": [
    "from sympy import init_session\n",
    "init_session()"
   ]
  },
  {
   "cell_type": "code",
   "execution_count": 2,
   "metadata": {},
   "outputs": [],
   "source": [
    "a, b, k, l0 = symbols('a b k l0', real=True, positive=True)"
   ]
  },
  {
   "cell_type": "code",
   "execution_count": 3,
   "metadata": {},
   "outputs": [
    {
     "data": {
      "image/png": "[encoded data removed]",
      "text/latex": [
       "$\\displaystyle \\frac{l_{0} \\left(a^{4} + 2 a^{2} k + b^{2} + k^{2}\\right)}{a^{4} + 2 a^{2} k + b^{2}}$"
      ],
      "text/plain": [
       "   ⎛ 4      2      2    2⎞\n",
       "l₀⋅⎝a  + 2⋅a ⋅k + b  + k ⎠\n",
       "──────────────────────────\n",
       "      4      2      2     \n",
       "     a  + 2⋅a ⋅k + b      "
      ]
     },
     "execution_count": 3,
     "metadata": {},
     "output_type": "execute_result"
    }
   ],
   "source": [
    "A, B = a**2, b**2\n",
    "TA = 2*A\n",
    "A2B = A*A + B\n",
    "f1 = k**2 + TA*k + A2B\n",
    "den = A2B + TA*k\n",
    "\n",
    "f=l0 * f1 / den\n",
    "f"
   ]
  },
  {
   "cell_type": "code",
   "execution_count": 4,
   "metadata": {},
   "outputs": [
    {
     "data": {
      "image/png": "[encoded data removed]",
      "text/latex": [
       "$\\displaystyle \\frac{a^{4} + 2 a^{2} k + b^{2} + k^{2}}{a^{4} + 2 a^{2} k + b^{2}}$"
      ],
      "text/plain": [
       " 4      2      2    2\n",
       "a  + 2⋅a ⋅k + b  + k \n",
       "─────────────────────\n",
       "    4      2      2  \n",
       "   a  + 2⋅a ⋅k + b   "
      ]
     },
     "execution_count": 4,
     "metadata": {},
     "output_type": "execute_result"
    }
   ],
   "source": [
    "diff(f,l0)"
   ]
  },
  {
   "cell_type": "code",
   "execution_count": 5,
   "metadata": {},
   "outputs": [
    {
     "data": {
      "image/png": "[encoded data removed]",
      "text/latex": [
       "$\\displaystyle - \\frac{4 a k^{2} l_{0} \\left(a^{2} + k\\right)}{\\left(a^{4} + 2 a^{2} k + b^{2}\\right)^{2}}$"
      ],
      "text/plain": [
       "      2    ⎛ 2    ⎞ \n",
       "-4⋅a⋅k ⋅l₀⋅⎝a  + k⎠ \n",
       "────────────────────\n",
       "                  2 \n",
       "⎛ 4      2      2⎞  \n",
       "⎝a  + 2⋅a ⋅k + b ⎠  "
      ]
     },
     "execution_count": 5,
     "metadata": {},
     "output_type": "execute_result"
    }
   ],
   "source": [
    "da=diff(f,a)\n",
    "da.factor()"
   ]
  },
  {
   "cell_type": "code",
   "execution_count": 6,
   "metadata": {},
   "outputs": [
    {
     "data": {
      "image/png": "[encoded data removed]",
      "text/latex": [
       "$\\displaystyle - \\frac{2 b k^{2} l_{0}}{\\left(a^{4} + 2 a^{2} k + b^{2}\\right)^{2}}$"
      ],
      "text/plain": [
       "          2        \n",
       "    -2⋅b⋅k ⋅l₀     \n",
       "───────────────────\n",
       "                  2\n",
       "⎛ 4      2      2⎞ \n",
       "⎝a  + 2⋅a ⋅k + b ⎠ "
      ]
     },
     "execution_count": 6,
     "metadata": {},
     "output_type": "execute_result"
    }
   ],
   "source": [
    "db=diff(f,b)\n",
    "db.factor()"
   ]
  },
  {
   "cell_type": "code",
   "execution_count": null,
   "metadata": {},
   "outputs": [],
   "source": []
  }
 ],
 "metadata": {
  "kernelspec": {
   "display_name": "Python 3",
   "language": "python",
   "name": "python3"
  },
  "language_info": {
   "codemirror_mode": {
    "name": "ipython",
    "version": 3
   },
   "file_extension": ".py",
   "mimetype": "text/x-python",
   "name": "python",
   "nbconvert_exporter": "python",
   "pygments_lexer": "ipython3",
   "version": "3.7.3"
  }
 },
 "nbformat": 4,
 "nbformat_minor": 4
}
