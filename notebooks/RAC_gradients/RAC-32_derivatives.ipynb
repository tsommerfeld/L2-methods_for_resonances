{
 "cells": [
  {
   "cell_type": "code",
   "execution_count": 1,
   "metadata": {},
   "outputs": [
    {
     "name": "stdout",
     "output_type": "stream",
     "text": [
      "IPython console for SymPy 1.6 (Python 3.7.3-64-bit) (ground types: python)\n",
      "\n",
      "These commands were executed:\n",
      ">>> from __future__ import division\n",
      ">>> from sympy import *\n",
      ">>> x, y, z, t = symbols('x y z t')\n",
      ">>> k, m, n = symbols('k m n', integer=True)\n",
      ">>> f, g, h = symbols('f g h', cls=Function)\n",
      ">>> init_printing()\n",
      "\n",
      "Documentation can be found at https://docs.sympy.org/1.6/\n",
      "\n"
     ]
    }
   ],
   "source": [
    "from sympy import init_session\n",
    "init_session()"
   ]
  },
  {
   "cell_type": "code",
   "execution_count": 5,
   "metadata": {},
   "outputs": [],
   "source": [
    "# this is for rac[4,2]\n",
    "a, b, d, e, k, l0 = symbols('a b d e k l0', real=True, positive=True)"
   ]
  },
  {
   "cell_type": "code",
   "execution_count": 12,
   "metadata": {},
   "outputs": [
    {
     "data": {
      "image/png": "[encoded data removed]",
      "text/latex": [
       "$\\displaystyle \\frac{l_{0} \\left(d^{2} k + 1\\right) \\left(a^{4} + 2 a^{2} k + b^{2} + k^{2}\\right)}{a^{4} d^{2} k + a^{4} + 2 a^{2} k + b^{2} d^{2} k + b^{2} + e^{2} k^{2}}$"
      ],
      "text/plain": [
       "      ⎛ 2      ⎞ ⎛ 4      2      2    2⎞    \n",
       "   l₀⋅⎝d ⋅k + 1⎠⋅⎝a  + 2⋅a ⋅k + b  + k ⎠    \n",
       "────────────────────────────────────────────\n",
       " 4  2      4      2      2  2      2    2  2\n",
       "a ⋅d ⋅k + a  + 2⋅a ⋅k + b ⋅d ⋅k + b  + e ⋅k "
      ]
     },
     "execution_count": 12,
     "metadata": {},
     "output_type": "execute_result"
    }
   ],
   "source": [
    "A, B, D, E = a**2, b**2, d**2, e**2\n",
    "TA = 2*A\n",
    "A2B = A*A + B\n",
    "    \n",
    "f1 = k**2 + TA*k + A2B\n",
    "f2 = 1 + D*k\n",
    "den = A2B + k*(TA + D*(A2B)) + E*k**2\n",
    "f= l0 * f1 * f2 /den\n",
    "f.factor()"
   ]
  },
  {
   "cell_type": "code",
   "execution_count": 9,
   "metadata": {},
   "outputs": [
    {
     "data": {
      "image/png": "[encoded data removed]",
      "text/latex": [
       "$\\displaystyle \\frac{\\left(d^{2} k + 1\\right) \\left(a^{4} + 2 a^{2} k + b^{2} + k^{2}\\right)}{a^{4} + b^{2} + e^{2} k^{2} + k \\left(2 a^{2} + d^{2} \\left(a^{4} + b^{2}\\right)\\right)}$"
      ],
      "text/plain": [
       "    ⎛ 2      ⎞ ⎛ 4      2      2    2⎞   \n",
       "    ⎝d ⋅k + 1⎠⋅⎝a  + 2⋅a ⋅k + b  + k ⎠   \n",
       "─────────────────────────────────────────\n",
       " 4    2    2  2     ⎛   2    2 ⎛ 4    2⎞⎞\n",
       "a  + b  + e ⋅k  + k⋅⎝2⋅a  + d ⋅⎝a  + b ⎠⎠"
      ]
     },
     "execution_count": 9,
     "metadata": {},
     "output_type": "execute_result"
    }
   ],
   "source": [
    "diff(f,l0)"
   ]
  },
  {
   "cell_type": "code",
   "execution_count": 10,
   "metadata": {},
   "outputs": [
    {
     "data": {
      "image/png": "[encoded data removed]",
      "text/latex": [
       "$\\displaystyle - \\frac{4 a k^{2} l_{0} \\left(d^{2} k + 1\\right) \\left(a^{4} d^{2} + a^{2} d^{2} k - a^{2} e^{2} + a^{2} - b^{2} d^{2} - e^{2} k + k\\right)}{\\left(a^{4} d^{2} k + a^{4} + 2 a^{2} k + b^{2} d^{2} k + b^{2} + e^{2} k^{2}\\right)^{2}}$"
      ],
      "text/plain": [
       "      2    ⎛ 2      ⎞ ⎛ 4  2    2  2      2  2    2    2  2    2      ⎞ \n",
       "-4⋅a⋅k ⋅l₀⋅⎝d ⋅k + 1⎠⋅⎝a ⋅d  + a ⋅d ⋅k - a ⋅e  + a  - b ⋅d  - e ⋅k + k⎠ \n",
       "────────────────────────────────────────────────────────────────────────\n",
       "                                                          2             \n",
       "            ⎛ 4  2      4      2      2  2      2    2  2⎞              \n",
       "            ⎝a ⋅d ⋅k + a  + 2⋅a ⋅k + b ⋅d ⋅k + b  + e ⋅k ⎠              "
      ]
     },
     "execution_count": 10,
     "metadata": {},
     "output_type": "execute_result"
    }
   ],
   "source": [
    "da=diff(f,a)\n",
    "da.factor()"
   ]
  },
  {
   "cell_type": "code",
   "execution_count": 11,
   "metadata": {},
   "outputs": [
    {
     "data": {
      "image/png": "[encoded data removed]",
      "text/latex": [
       "$\\displaystyle - \\frac{2 b k^{2} l_{0} \\left(d^{2} k + 1\\right) \\left(2 a^{2} d^{2} + d^{2} k - e^{2} + 1\\right)}{\\left(a^{4} d^{2} k + a^{4} + 2 a^{2} k + b^{2} d^{2} k + b^{2} + e^{2} k^{2}\\right)^{2}}$"
      ],
      "text/plain": [
       "      2    ⎛ 2      ⎞ ⎛   2  2    2      2    ⎞ \n",
       "-2⋅b⋅k ⋅l₀⋅⎝d ⋅k + 1⎠⋅⎝2⋅a ⋅d  + d ⋅k - e  + 1⎠ \n",
       "────────────────────────────────────────────────\n",
       "                                              2 \n",
       "⎛ 4  2      4      2      2  2      2    2  2⎞  \n",
       "⎝a ⋅d ⋅k + a  + 2⋅a ⋅k + b ⋅d ⋅k + b  + e ⋅k ⎠  "
      ]
     },
     "execution_count": 11,
     "metadata": {},
     "output_type": "execute_result"
    }
   ],
   "source": [
    "db=diff(f,b)\n",
    "db.factor()"
   ]
  },
  {
   "cell_type": "code",
   "execution_count": 13,
   "metadata": {},
   "outputs": [
    {
     "data": {
      "image/png": "[encoded data removed]",
      "text/latex": [
       "$\\displaystyle \\frac{2 d k^{2} l_{0} \\left(2 a^{2} + e^{2} k\\right) \\left(a^{4} + 2 a^{2} k + b^{2} + k^{2}\\right)}{\\left(a^{4} d^{2} k + a^{4} + 2 a^{2} k + b^{2} d^{2} k + b^{2} + e^{2} k^{2}\\right)^{2}}$"
      ],
      "text/plain": [
       "     2    ⎛   2    2  ⎞ ⎛ 4      2      2    2⎞\n",
       "2⋅d⋅k ⋅l₀⋅⎝2⋅a  + e ⋅k⎠⋅⎝a  + 2⋅a ⋅k + b  + k ⎠\n",
       "───────────────────────────────────────────────\n",
       "                                              2\n",
       "⎛ 4  2      4      2      2  2      2    2  2⎞ \n",
       "⎝a ⋅d ⋅k + a  + 2⋅a ⋅k + b ⋅d ⋅k + b  + e ⋅k ⎠ "
      ]
     },
     "execution_count": 13,
     "metadata": {},
     "output_type": "execute_result"
    }
   ],
   "source": [
    "dd=diff(f,d)\n",
    "dd.factor()"
   ]
  },
  {
   "cell_type": "code",
   "execution_count": 14,
   "metadata": {},
   "outputs": [
    {
     "data": {
      "image/png": "[encoded data removed]",
      "text/latex": [
       "$\\displaystyle - \\frac{2 e k^{2} l_{0} \\left(d^{2} k + 1\\right) \\left(a^{4} + 2 a^{2} k + b^{2} + k^{2}\\right)}{\\left(a^{4} d^{2} k + a^{4} + 2 a^{2} k + b^{2} d^{2} k + b^{2} + e^{2} k^{2}\\right)^{2}}$"
      ],
      "text/plain": [
       "       2    ⎛ 2      ⎞ ⎛ 4      2      2    2⎞ \n",
       " -2⋅e⋅k ⋅l₀⋅⎝d ⋅k + 1⎠⋅⎝a  + 2⋅a ⋅k + b  + k ⎠ \n",
       "───────────────────────────────────────────────\n",
       "                                              2\n",
       "⎛ 4  2      4      2      2  2      2    2  2⎞ \n",
       "⎝a ⋅d ⋅k + a  + 2⋅a ⋅k + b ⋅d ⋅k + b  + e ⋅k ⎠ "
      ]
     },
     "execution_count": 14,
     "metadata": {},
     "output_type": "execute_result"
    }
   ],
   "source": [
    "de=diff(f,e)\n",
    "de.factor()"
   ]
  },
  {
   "cell_type": "code",
   "execution_count": null,
   "metadata": {},
   "outputs": [],
   "source": []
  }
 ],
 "metadata": {
  "kernelspec": {
   "display_name": "Python 3",
   "language": "python",
   "name": "python3"
  },
  "language_info": {
   "codemirror_mode": {
    "name": "ipython",
    "version": 3
   },
   "file_extension": ".py",
   "mimetype": "text/x-python",
   "name": "python",
   "nbconvert_exporter": "python",
   "pygments_lexer": "ipython3",
   "version": "3.7.3"
  }
 },
 "nbformat": 4,
 "nbformat_minor": 4
}
