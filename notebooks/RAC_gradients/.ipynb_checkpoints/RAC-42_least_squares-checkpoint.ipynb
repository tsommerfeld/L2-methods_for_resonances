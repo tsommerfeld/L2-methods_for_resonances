{
 "cells": [
  {
   "cell_type": "code",
   "execution_count": 1,
   "metadata": {},
   "outputs": [],
   "source": [
    "import numpy as np\n",
    "from scipy.optimize import least_squares\n",
    "#from pandas import Series, DataFrame\n",
    "import pandas as pd\n",
    "import matplotlib\n",
    "import matplotlib.pyplot as plt\n",
    "matplotlib.use('Qt5Agg')\n",
    "%matplotlib qt5\n",
    "#\n",
    "# if pade.py is not in the current directory, set this path:\n",
    "#\n",
    "#import sys\n",
    "#sys.path.append('../Python_libs')\n",
    "from rac_aux import *"
   ]
  },
  {
   "cell_type": "code",
   "execution_count": 2,
   "metadata": {},
   "outputs": [
    {
     "data": {
      "text/html": [
       "<div>\n",
       "<style scoped>\n",
       "    .dataframe tbody tr th:only-of-type {\n",
       "        vertical-align: middle;\n",
       "    }\n",
       "\n",
       "    .dataframe tbody tr th {\n",
       "        vertical-align: top;\n",
       "    }\n",
       "\n",
       "    .dataframe thead th {\n",
       "        text-align: right;\n",
       "    }\n",
       "</style>\n",
       "<table border=\"1\" class=\"dataframe\">\n",
       "  <thead>\n",
       "    <tr style=\"text-align: right;\">\n",
       "      <th></th>\n",
       "      <th>l</th>\n",
       "      <th>E1</th>\n",
       "      <th>E2</th>\n",
       "      <th>E3</th>\n",
       "      <th>E4</th>\n",
       "    </tr>\n",
       "  </thead>\n",
       "  <tbody>\n",
       "    <tr>\n",
       "      <th>0</th>\n",
       "      <td>0.0</td>\n",
       "      <td>0.469219</td>\n",
       "      <td>1.365173</td>\n",
       "      <td>1.938043</td>\n",
       "      <td>3.271038</td>\n",
       "    </tr>\n",
       "    <tr>\n",
       "      <th>1</th>\n",
       "      <td>0.2</td>\n",
       "      <td>0.457846</td>\n",
       "      <td>1.314401</td>\n",
       "      <td>1.844238</td>\n",
       "      <td>3.242423</td>\n",
       "    </tr>\n",
       "    <tr>\n",
       "      <th>2</th>\n",
       "      <td>0.4</td>\n",
       "      <td>0.446073</td>\n",
       "      <td>1.251127</td>\n",
       "      <td>1.760926</td>\n",
       "      <td>3.215267</td>\n",
       "    </tr>\n",
       "    <tr>\n",
       "      <th>3</th>\n",
       "      <td>0.6</td>\n",
       "      <td>0.433754</td>\n",
       "      <td>1.173608</td>\n",
       "      <td>1.690292</td>\n",
       "      <td>3.189317</td>\n",
       "    </tr>\n",
       "    <tr>\n",
       "      <th>4</th>\n",
       "      <td>0.8</td>\n",
       "      <td>0.420648</td>\n",
       "      <td>1.082215</td>\n",
       "      <td>1.632448</td>\n",
       "      <td>3.164365</td>\n",
       "    </tr>\n",
       "  </tbody>\n",
       "</table>\n",
       "</div>"
      ],
      "text/plain": [
       "     l        E1        E2        E3        E4\n",
       "0  0.0  0.469219  1.365173  1.938043  3.271038\n",
       "1  0.2  0.457846  1.314401  1.844238  3.242423\n",
       "2  0.4  0.446073  1.251127  1.760926  3.215267\n",
       "3  0.6  0.433754  1.173608  1.690292  3.189317\n",
       "4  0.8  0.420648  1.082215  1.632448  3.164365"
      ]
     },
     "execution_count": 2,
     "metadata": {},
     "output_type": "execute_result"
    }
   ],
   "source": [
    "Angs2Bohr=1.8897259886\n",
    "au2eV=27.211386027\n",
    "au2cm=219474.63068\n",
    "#\n",
    "#  files in the current directory do not need the path name\n",
    "#\n",
    "#df = pd.read_csv(\"/home/thomas/Python/StabPlots/Stab_data/1D_a0.2_b0_c0.14/crossing_1.dat\", delim_whitespace=True)\n",
    "df = pd.read_csv(\"sb_rac.csv\")\n",
    "#df = pd.read_csv(\"crossing_1.dat\", delim_whitespace=True)\n",
    "\n",
    "plot_it=False\n",
    "if plot_it:\n",
    "    plt.cla()\n",
    "    plt.plot(df.l.values, df.E1.values, 'o-')\n",
    "    plt.plot(df.l.values, df.E2.values, 'o-')\n",
    "    plt.plot(df.l.values, df.E3.values, 'o-')\n",
    "    plt.show()\n",
    "df[:5]"
   ]
  },
  {
   "cell_type": "code",
   "execution_count": 3,
   "metadata": {},
   "outputs": [
    {
     "name": "stdout",
     "output_type": "stream",
     "text": [
      "N= 89\n"
     ]
    }
   ],
   "source": [
    "i_neg = np.argmin(abs(df.E1.values))\n",
    "if df.E1[i_neg] > 0:\n",
    "    i_neg += 1\n",
    "ls = df.l.values[i_neg:]\n",
    "print('N=',len(ls))\n",
    "Es = df.E1.values[i_neg:]\n",
    "if plot_it:\n",
    "    plt.cla()\n",
    "    plt.plot(df.l.values, df.E1.values, 'b-')\n",
    "    plt.plot(df.l.values, df.E2.values, 'b-')\n",
    "    plt.plot(df.l.values, df.E3.values, 'b-')\n",
    "    plt.plot(ls, Es, 'o', color=\"orange\")\n",
    "    plt.show()"
   ]
  },
  {
   "cell_type": "code",
   "execution_count": 9,
   "metadata": {},
   "outputs": [],
   "source": [
    "k2s = -Es\n",
    "ks  = np.sqrt(k2s)\n",
    "sigmas = weights(len(Es), 'ones')\n",
    "#sigmas = weights(len(Es), 'energy', E0=Es[11], Es=Es)\n",
    "parg=(ks,k2s,ls,sigmas)"
   ]
  },
  {
   "cell_type": "code",
   "execution_count": 5,
   "metadata": {},
   "outputs": [
    {
     "name": "stdout",
     "output_type": "stream",
     "text": [
      "[2.4, 0.2704669890140844, 1.4666963639216455, 0.570916223186097, 3.29172828739109, 10]\n",
      "91.97737298598086\n"
     ]
    }
   ],
   "source": [
    "# start params\n",
    "p31_opt = [2.40228618, 0.27139798, 1.28131923]\n",
    "E0 = linear_extra(ls,Es)\n",
    "G0 = 0.2*E0\n",
    "p0s=[ls[0]] + guess(E0, G0) + guess(5*E0,10*G0) + [10]\n",
    "print(p0s)\n",
    "print(chi2_gen(p0s, ks, k2s, ls, sigmas, pade_42_lsq))"
   ]
  },
  {
   "cell_type": "code",
   "execution_count": 6,
   "metadata": {},
   "outputs": [
    {
     "name": "stdout",
     "output_type": "stream",
     "text": [
      "num grad:\n",
      " [[ 0.18532753  0.11067531  0.07962435  0.00968018  0.26619462 -0.0886066 ]\n",
      " [ 0.18730182  0.11135237  0.07961289  0.00972349  0.26906722 -0.08955365]\n",
      " [ 0.18927726  0.11202569  0.07960158  0.00976665  0.27194146 -0.09050125]\n",
      " [ 0.19125386  0.11269536  0.07959042  0.00980967  0.27481733 -0.09144939]\n",
      " [ 0.19323159  0.11336142  0.0795794   0.00985255  0.27769481 -0.09239808]\n",
      " [ 0.19521045  0.11402394  0.07956852  0.00989529  0.28057389 -0.0933473 ]]\n",
      "ana grad:\n",
      " [[ 0.18532753  0.11067531  0.07962435  0.00968018  0.26619462 -0.0886066 ]\n",
      " [ 0.18730182  0.11135237  0.07961289  0.00972349  0.26906722 -0.08955365]\n",
      " [ 0.18927726  0.11202569  0.07960158  0.00976665  0.27194146 -0.09050125]\n",
      " [ 0.19125386  0.11269536  0.07959042  0.00980967  0.27481733 -0.09144939]\n",
      " [ 0.19323159  0.11336142  0.0795794   0.00985255  0.27769481 -0.09239808]\n",
      " [ 0.19521045  0.11402394  0.07956852  0.00989529  0.28057389 -0.0933473 ]]\n"
     ]
    },
    {
     "data": {
      "text/plain": [
       "7.665854031523986e-11"
      ]
     },
     "execution_count": 6,
     "metadata": {},
     "output_type": "execute_result"
    }
   ],
   "source": [
    "#\n",
    "#  the derivative of [4,2] works\n",
    "#\n",
    "\n",
    "N=6\n",
    "\n",
    "df1s = pade_gen_j_lsq(p0s, ks[-N:], k2s[-N:], ls[-N:], sigmas[-N:], pade_42_lsq)\n",
    "print(\"num grad:\\n\", df1s)\n",
    "\n",
    "df2s = pade_42j_lsq(p0s, ks[-N:], k2s[-N:], ls[-N:], sigmas[-N:])\n",
    "print(\"ana grad:\\n\", df2s)\n",
    "\n",
    "np.sqrt(np.sum(np.square(df1s-df2s)))"
   ]
  },
  {
   "cell_type": "code",
   "execution_count": null,
   "metadata": {},
   "outputs": [],
   "source": [
    "# start params\n",
    "E0 = linear_extra(ls,Es)\n",
    "G0 = 0.2*E0\n",
    "p0s=[ls[0]] + guess(E0, G0) + [10]\n",
    "print(chi2_gen(p0s, ks, k2s, ls, sigmas, pade_31))"
   ]
  },
  {
   "cell_type": "code",
   "execution_count": 10,
   "metadata": {},
   "outputs": [
    {
     "name": "stdout",
     "output_type": "stream",
     "text": [
      "Start parameters: [2.4, 0.2704669890140844, 1.4666963639216455, 0.570916223186097, 3.29172828739109, 10]\n",
      "Least squares, 2-point jac\n",
      "njev: 130\n",
      "cost: 1.1085497974776012e-08\n",
      "grad: [-9.02839693e-10 -6.60386126e-11  2.08013370e-09 -2.41140907e-10\n",
      " -1.57057604e-09  1.38274789e-09]\n",
      "message: `gtol` termination condition is satisfied.\n",
      "success: True\n",
      "x: [2.39193213 0.29644107 1.31873181 1.37364513 0.29655559 0.50789994]\n",
      "chi2 = 2.217e-08\n",
      "Er=1.731331,  Gamma=0.463546\n"
     ]
    }
   ],
   "source": [
    "#\n",
    "#  test results of other minimizers wrt least squares\n",
    "#\n",
    "#p0s=res.x\n",
    "\n",
    "print(\"Start parameters:\",p0s)\n",
    "print('Least squares, 2-point jac')\n",
    "res = least_squares(pade_42_lsq, p0s, method='trf', jac='2-point', args=parg)\n",
    "print(\"njev:\",res.njev)\n",
    "print(\"cost:\",res.cost)\n",
    "print(\"grad:\",res.grad)\n",
    "print(\"message:\",res.message)\n",
    "print(\"success:\",res.success)\n",
    "print(\"x:\", res.x)\n",
    "print('chi2 = %.3e' % (res.cost*2))\n",
    "print(\"Er=%f,  Gamma=%f\" % res_ene(res.x[1], res.x[2]))"
   ]
  },
  {
   "cell_type": "code",
   "execution_count": 11,
   "metadata": {},
   "outputs": [
    {
     "name": "stdout",
     "output_type": "stream",
     "text": [
      "Least squares, trust-region-reflective (default) with analytic jac\n",
      "njev: 130\n",
      "cost: 1.1085497975801688e-08\n",
      "grad: [-1.81855587e-09 -1.36487573e-10  4.18591813e-09 -4.88443797e-10\n",
      " -3.16489138e-09  2.77862501e-09]\n",
      "message: `gtol` termination condition is satisfied.\n",
      "success: True\n",
      "x: [2.39193216 0.29644157 1.3187318  1.37363492 0.29655053 0.50789244]\n",
      "chi2 = 2.217e-08\n",
      "Er=1.731331,  Gamma=0.463548\n"
     ]
    }
   ],
   "source": [
    "print('Least squares, trust-region-reflective (default) with analytic jac')\n",
    "res = least_squares(pade_42_lsq, p0s, method='trf', jac=pade_42j_lsq, args=parg)\n",
    "print(\"njev:\",res.njev)\n",
    "print(\"cost:\",res.cost)\n",
    "print(\"grad:\",res.grad)\n",
    "print(\"message:\",res.message)\n",
    "print(\"success:\",res.success)\n",
    "print(\"x:\", res.x)\n",
    "print('chi2 = %.3e' % (res.cost*2))\n",
    "print(\"Er=%f,  Gamma=%f\" % res_ene(res.x[1], res.x[2]))"
   ]
  },
  {
   "cell_type": "code",
   "execution_count": 12,
   "metadata": {},
   "outputs": [
    {
     "name": "stdout",
     "output_type": "stream",
     "text": [
      "Least squares, Levenberg-Marquardt with analytic jac\n",
      "njev: 115\n",
      "cost: 1.1085497971876375e-08\n",
      "grad: [-6.21347434e-11  4.61935423e-12  1.42939762e-10 -1.65103095e-11\n",
      " -1.08147487e-10  9.51434945e-11]\n",
      "message: `ftol` termination condition is satisfied.\n",
      "success: True\n",
      "x: [ 2.39193215 -0.29644125  1.31873181  1.37364139  0.29655374  0.50789719]\n",
      "chi2 = 2.217e-08\n",
      "Er=1.731331,  Gamma=0.463547\n"
     ]
    }
   ],
   "source": [
    "print('Least squares, Levenberg-Marquardt with analytic jac')\n",
    "res = least_squares(pade_42_lsq, p0s, method='lm', jac=pade_42j_lsq, args=parg)\n",
    "print(\"njev:\",res.njev)\n",
    "print(\"cost:\",res.cost)\n",
    "print(\"grad:\",res.grad)\n",
    "print(\"message:\",res.message)\n",
    "print(\"success:\",res.success)\n",
    "print(\"x:\", res.x)\n",
    "print('chi2 = %.3e' % (res.cost*2))\n",
    "print(\"Er=%f,  Gamma=%f\" % res_ene(res.x[1], res.x[2]))"
   ]
  },
  {
   "cell_type": "code",
   "execution_count": 14,
   "metadata": {},
   "outputs": [
    {
     "name": "stdout",
     "output_type": "stream",
     "text": [
      "Least squares, TRF with bounds\n",
      "njev: 78\n",
      "cost: 1.4141440494052522e-07\n",
      "grad: [-8.15888908e-10 -5.12910417e-10  1.49574074e-09 -2.84594073e-11\n",
      " -2.77777093e-10  9.63458486e-10]\n",
      "message: `gtol` termination condition is satisfied.\n",
      "success: True\n",
      "x: [ 2.3869999   0.2661623   1.30779814 10.620911    3.55279391  5.63319681]\n",
      "chi2 = 2.828e-07\n",
      "Er=1.705317,  Gamma=0.370590\n"
     ]
    }
   ],
   "source": [
    "print('Least squares, TRF with bounds')\n",
    "\n",
    "bnds=([0,0,0, 0,0,0],[np.inf,np.inf,np.inf, np.inf,np.inf,np.inf])\n",
    "\n",
    "res = least_squares(pade_42_lsq, p0s, jac=pade_42j_lsq, bounds=bnds, args=parg)\n",
    "print(\"njev:\",res.njev)\n",
    "print(\"cost:\",res.cost)\n",
    "print(\"grad:\",res.grad)\n",
    "print(\"message:\",res.message)\n",
    "print(\"success:\",res.success)\n",
    "print(\"x:\", res.x)\n",
    "print('chi2 = %.3e' % (res.cost*2))\n",
    "print(\"Er=%f,  Gamma=%f\" % res_ene(res.x[1], res.x[2]))"
   ]
  },
  {
   "cell_type": "code",
   "execution_count": null,
   "metadata": {},
   "outputs": [],
   "source": [
    "l0, a, b, d = res.x"
   ]
  },
  {
   "cell_type": "code",
   "execution_count": 16,
   "metadata": {},
   "outputs": [
    {
     "name": "stdout",
     "output_type": "stream",
     "text": [
      "All weights equal:  chi2 = 2.217e-08  Er=1.731331,  Gamma=0.463548\n",
      "Filter E =  -0.00:  chi2 = 2.914e-08  Er=1.732732,  Gamma=0.482646\n",
      "Filter E =  -3.30:  chi2 = 9.531e-10  Er=1.736061,  Gamma=0.403119\n",
      "Filter E =  -6.81:  chi2 = 6.791e-10  Er=1.734841,  Gamma=0.399011\n",
      "Filter E = -10.43:  chi2 = 5.849e-10  Er=1.734051,  Gamma=0.397569\n",
      "Filter E = -14.11:  chi2 = 6.730e-10  Er=1.732868,  Gamma=0.396394\n"
     ]
    }
   ],
   "source": [
    "#\n",
    "# swipe energy filter \n",
    "#\n",
    "M=len(Es)\n",
    "sigmas = weights(M, 'ones')\n",
    "res = least_squares(pade_42_lsq, p0s, method='trf', jac=pade_42j_lsq, \n",
    "                    args=(ks, k2s, ls, sigmas))\n",
    "Er, G = res_ene(res.x[1], res.x[2])\n",
    "print('All weights equal:  chi2 = %.3e  Er=%f,  Gamma=%f' % (res.cost*2, Er, G))\n",
    "M=len(Es)\n",
    "for n in [0, M//4, M//2, 3*M//4, M-1]:\n",
    "    sigmas = weights(M, 'energy', E0=Es[n], Es=Es)\n",
    "    res = least_squares(pade_42_lsq, p0s, method='trf', jac=pade_42j_lsq, \n",
    "                        args=(ks, k2s, ls, sigmas))\n",
    "    Er, G = res_ene(res.x[1], res.x[2])\n",
    "    print('Filter E = %6.2f:  chi2 = %.3e  Er=%f,  Gamma=%f' % (Es[n], res.cost*2, Er, G))"
   ]
  },
  {
   "cell_type": "code",
   "execution_count": null,
   "metadata": {},
   "outputs": [],
   "source": []
  }
 ],
 "metadata": {
  "kernelspec": {
   "display_name": "Python 3",
   "language": "python",
   "name": "python3"
  },
  "language_info": {
   "codemirror_mode": {
    "name": "ipython",
    "version": 3
   },
   "file_extension": ".py",
   "mimetype": "text/x-python",
   "name": "python",
   "nbconvert_exporter": "python",
   "pygments_lexer": "ipython3",
   "version": "3.6.9"
  }
 },
 "nbformat": 4,
 "nbformat_minor": 4
}
