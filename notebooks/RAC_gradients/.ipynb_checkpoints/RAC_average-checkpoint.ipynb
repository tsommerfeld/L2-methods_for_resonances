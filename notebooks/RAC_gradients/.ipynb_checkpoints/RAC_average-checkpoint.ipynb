{
 "cells": [
  {
   "cell_type": "markdown",
   "metadata": {},
   "source": [
    "# RAC step 2:\n",
    "1. select data\n",
    "2. fit data to a Pade approximant\n",
    "3. analytical continuation to $\\lambda = 0$"
   ]
  },
  {
   "cell_type": "code",
   "execution_count": 1,
   "metadata": {},
   "outputs": [],
   "source": [
    "import sys\n",
    "import numpy as np\n",
    "from scipy.optimize import least_squares\n",
    "import pandas as pd\n",
    "#import matplotlib.pyplot as plt\n",
    "#import matplotlib\n",
    "#matplotlib.use('Qt5Agg')\n",
    "#%matplotlib qt5"
   ]
  },
  {
   "cell_type": "markdown",
   "metadata": {},
   "source": [
    "library with Pade approximants and their second derivatives "
   ]
  },
  {
   "cell_type": "code",
   "execution_count": 2,
   "metadata": {},
   "outputs": [],
   "source": [
    "#root='/home/thomas/Current_Work/Jolanta-by-dvr/'\n",
    "#sys.path.append(root + 'RAC')\n",
    "from rac_aux import *\n",
    "au2eV=27.2114"
   ]
  },
  {
   "cell_type": "markdown",
   "metadata": {},
   "source": [
    "Pade[3,1] is very robust and fulfills all boundary conditions.\n",
    "Change `nm` only if you know what you are doing."
   ]
  },
  {
   "cell_type": "code",
   "execution_count": 3,
   "metadata": {},
   "outputs": [],
   "source": [
    "nm=31\n",
    "\n",
    "pade_fns = {\"21\":(pade_21_lsq, pade_21j_lsq), \n",
    "            \"31\":(pade_31_lsq, pade_31j_lsq), \n",
    "            \"32\":(pade_32_lsq, pade_32j_lsq),\n",
    "            \"41\":(pade_41_lsq, pade_41j_lsq),\n",
    "            \"42\":(pade_42_lsq, pade_42j_lsq),\n",
    "            \"43\":(pade_43_lsq, pade_43j_lsq),\n",
    "            \"52\":(pade_52_lsq, pade_52j_lsq),\n",
    "            \"53\":(pade_53_lsq, pade_53j_lsq)}\n",
    "\n",
    "fun=pade_fns[str(nm)][0]\n",
    "jac=pade_fns[str(nm)][1]"
   ]
  },
  {
   "cell_type": "markdown",
   "metadata": {},
   "source": [
    "Set data either to `CCSD(T)` or to `EOM-CCSD`"
   ]
  },
  {
   "cell_type": "code",
   "execution_count": 31,
   "metadata": {},
   "outputs": [
    {
     "data": {
      "text/plain": [
       "<AxesSubplot:xlabel='Q', ylabel='Eb'>"
      ]
     },
     "execution_count": 31,
     "metadata": {},
     "output_type": "execute_result"
    },
    {
     "data": {
      "image/png": "[encoded data removed]",
      "text/plain": [
       "<Figure size 432x288 with 1 Axes>"
      ]
     },
     "metadata": {
      "needs_background": "light"
     },
     "output_type": "display_data"
    }
   ],
   "source": [
    "#data = 'CCSD(T)'\n",
    "data = 'EOM-CCSD'\n",
    "if data == 'CCSD(T)':\n",
    "    df = pd.read_csv('CCSDpT_data.csv', delim_whitespace=True)\n",
    "    df['Eb'] = (df['E1'] - df['E0'])*au2eV\n",
    "elif data == 'EOM-CCSD':\n",
    "    df = pd.read_csv('EOM-CCSD_data.csv', delim_whitespace=True)\n",
    "else:\n",
    "    print('Data set not yet implemented:', data)\n",
    "df.tail()\n",
    "df.plot.scatter(x = 'Q', y = 'Eb')"
   ]
  },
  {
   "cell_type": "markdown",
   "metadata": {},
   "source": [
    "## Data selection\n",
    "Rule of thunmb: use all $E_b < -0.5$ eV"
   ]
  },
  {
   "cell_type": "code",
   "execution_count": 32,
   "metadata": {},
   "outputs": [
    {
     "data": {
      "text/plain": [
       "0   -0.105093\n",
       "1   -0.401180\n",
       "2   -0.699047\n",
       "3   -0.998686\n",
       "4   -1.300095\n",
       "5   -1.603267\n",
       "6   -1.908198\n",
       "7   -2.214883\n",
       "8   -2.523317\n",
       "9   -2.833495\n",
       "Name: Eb, dtype: float64"
      ]
     },
     "execution_count": 32,
     "metadata": {},
     "output_type": "execute_result"
    }
   ],
   "source": [
    "df['Eb'].head(10)"
   ]
  },
  {
   "cell_type": "code",
   "execution_count": 33,
   "metadata": {},
   "outputs": [
    {
     "name": "stdout",
     "output_type": "stream",
     "text": [
      "80 bound energies between -0.401180 and -28.969173\n"
     ]
    }
   ],
   "source": [
    "Estart=-0.5\n",
    "n_first=np.argmin(np.abs(df.Eb.values-Estart))\n",
    "ls=np.copy(df.Q.values[n_first:])\n",
    "Es=np.copy(df.Eb.values[n_first:])\n",
    "Nval=len(ls)\n",
    "print('%d bound energies between %f and %f' % (Nval, Es[0], Es[-1]))"
   ]
  },
  {
   "cell_type": "markdown",
   "metadata": {},
   "source": [
    "## Fitting procedure\n",
    "1. Heuristic linear guess for $E_r$\n",
    "2. Fit all selected binding energies to get good guess for $E_r$ \n",
    "3. Average over various selection ranges from -0.5 to $n \\times E_r$"
   ]
  },
  {
   "cell_type": "code",
   "execution_count": 34,
   "metadata": {},
   "outputs": [
    {
     "name": "stdout",
     "output_type": "stream",
     "text": [
      "Linear estimation of Er = 3.078191\n",
      "Start parameters:  [0.325, 0.2959977817829793, 1.7566635733333853, 0.5]\n"
     ]
    }
   ],
   "source": [
    "E0 = 0.75*linear_extra(ls[:Nval//2], Es[:Nval//2])\n",
    "print(\"Linear estimation of Er = %f\" % (E0))\n",
    "G0 = 0.2*E0\n",
    "p0=[ls[0]] + guess(E0, G0) + [0.5]\n",
    "print(\"Start parameters: \", p0)"
   ]
  },
  {
   "cell_type": "markdown",
   "metadata": {},
   "source": [
    "Prepare $\\kappa^2=-E_b$, $\\kappa$, and fitting weights (set to 1) which are all going to be passed to the optimizer."
   ]
  },
  {
   "cell_type": "code",
   "execution_count": 35,
   "metadata": {},
   "outputs": [],
   "source": [
    "k2s = -Es\n",
    "ks  = np.sqrt(k2s)\n",
    "sigmas = weights(Nval, 'ones')"
   ]
  },
  {
   "cell_type": "markdown",
   "metadata": {},
   "source": [
    "Fit `Nval` data points to get a good guess for $E_r$ and provide abundant output to check the optimizer."
   ]
  },
  {
   "cell_type": "code",
   "execution_count": 36,
   "metadata": {},
   "outputs": [
    {
     "name": "stdout",
     "output_type": "stream",
     "text": [
      "Least squares, trust-region-reflective (default) with analytic jac\n",
      "Jacobi-evaluations, njev: 14\n",
      "chi**2 = 2*cost: 1.1654709671734032e-06\n",
      "gradient: [ 8.63660108e-11 -3.24075751e-11 -1.73329729e-11  2.41117957e-10]\n",
      "message: `gtol` termination condition is satisfied.\n",
      "success: True\n",
      "x: [2.82259247e-01 3.21945651e-01 1.70902925e+00 2.65241614e-06]\n",
      "chi2 = 2.331e-06\n",
      "Er=2.910038,  Gamma=0.708557\n"
     ]
    }
   ],
   "source": [
    "print('Least squares, trust-region-reflective (default) with analytic jac')\n",
    "parg=(ks,k2s,ls,sigmas)\n",
    "res = least_squares(fun, p0, method='trf', jac=jac, args=parg)\n",
    "print(\"Jacobi-evaluations, njev:\",res.njev)\n",
    "print(\"chi**2 = 2*cost:\",res.cost)\n",
    "print(\"gradient:\",res.grad)\n",
    "print(\"message:\",res.message)\n",
    "print(\"success:\",res.success)\n",
    "print(\"x:\", res.x)\n",
    "print('chi2 = %.3e' % (res.cost*2))\n",
    "(Er,G) = res_ene(res.x[1], res.x[2])\n",
    "print(\"Er=%f,  Gamma=%f\" % (Er,G))"
   ]
  },
  {
   "cell_type": "markdown",
   "metadata": {},
   "source": [
    "### Energy ranges for averaging procedure\n",
    "* Start with all energies from $-0.5$ to $-4*E_r$\n",
    "* Stop with all energies from $-0.5$ to $-7*E_r$"
   ]
  },
  {
   "cell_type": "code",
   "execution_count": 37,
   "metadata": {},
   "outputs": [
    {
     "name": "stdout",
     "output_type": "stream",
     "text": [
      "First energy:                  E=-0.40118\n",
      "Index for -4*Er0:          34; E=-11.49240\n",
      "Index for -7*Er0:          58; E=-20.44379\n",
      "Last index:                79; E=-28.96917\n"
     ]
    }
   ],
   "source": [
    "Estop1=-4.0*Er\n",
    "Estop2=-7.0*Er\n",
    "jmx1=np.argmin(np.abs(Es-Estop1))\n",
    "jmx2=np.argmin(np.abs(Es-Estop2))\n",
    "print('First energy:                  E=%.5f' % (Es[0]))\n",
    "print('Index for -4*Er0:         %3d; E=%.5f' % (jmx1,Es[jmx1]))\n",
    "print('Index for -7*Er0:         %3d; E=%.5f' % (jmx2,Es[jmx2]))\n",
    "print('Last index:               %3d; E=%.5f' % (Nval-1,Es[-1]))"
   ]
  },
  {
   "cell_type": "markdown",
   "metadata": {},
   "source": [
    "Loop over different ranges: \n",
    "* start with $\\lambda(E=-0.5)$ to $\\lambda(E=-4)$\n",
    "* stop with $\\lambda(E=-0.5)$ to $\\lambda(E=-7)$"
   ]
  },
  {
   "cell_type": "code",
   "execution_count": 40,
   "metadata": {},
   "outputs": [
    {
     "name": "stdout",
     "output_type": "stream",
     "text": [
      "  'lambda'       Emax/Er        Er       Gamma      chi**2\n",
      "  1.175000      3.652926     3.146081   0.600009   8.182e-08\n",
      "  1.200000      3.773563     3.139629   0.604720   9.306e-08\n",
      "  1.225000      3.895125     3.133241   0.609261   1.054e-07\n",
      "  1.250000      4.017608     3.126915   0.613641   1.188e-07\n",
      "  1.275000      4.141010     3.120653   0.617866   1.335e-07\n",
      "  1.300000      4.265327     3.114453   0.621941   1.493e-07\n",
      "  1.325000      4.390556     3.108315   0.625874   1.665e-07\n",
      "  1.350000      4.516694     3.102239   0.629668   1.850e-07\n",
      "  1.375000      4.643735     3.096225   0.633331   2.050e-07\n",
      "  1.400000      4.771678     3.090272   0.636866   2.263e-07\n",
      "  1.425000      4.900519     3.084380   0.640278   2.492e-07\n",
      "  1.450000      5.030252     3.078548   0.643573   2.737e-07\n",
      "  1.475000      5.160876     3.072777   0.646753   2.997e-07\n",
      "  1.500000      5.292385     3.067065   0.649824   3.274e-07\n",
      "  1.525000      5.424776     3.061413   0.652789   3.567e-07\n",
      "  1.550000      5.558044     3.055821   0.655653   3.878e-07\n",
      "  1.575000      5.692186     3.050287   0.658417   4.207e-07\n",
      "  1.600000      5.827197     3.044812   0.661087   4.554e-07\n",
      "  1.625000      5.963073     3.039395   0.663665   4.919e-07\n",
      "  1.650000      6.099810     3.034036   0.666154   5.303e-07\n",
      "  1.675000      6.237403     3.028735   0.668557   5.706e-07\n",
      "  1.700000      6.375848     3.023491   0.670878   6.129e-07\n",
      "  1.725000      6.515140     3.018305   0.673119   6.571e-07\n",
      "  1.750000      6.655275     3.013174   0.675282   7.033e-07\n",
      "  1.775000      6.796248     3.008100   0.677371   7.515e-07\n"
     ]
    }
   ],
   "source": [
    "Emaxs = []\n",
    "Ers = []\n",
    "Gs = []\n",
    "chi2s = []\n",
    "print(\"  'lambda'       Emax/Er        Er       Gamma      chi**2\")\n",
    "for j in range(jmx1,jmx2+1):\n",
    "    parg=(ks[:j], k2s[:j], ls[:j], sigmas[:j])\n",
    "    res = least_squares(fun, p0, method='trf', jac=jac, args=parg)\n",
    "    chi2s.append(res.cost*2)\n",
    "    Er, G = res_ene(res.x[1], res.x[2])\n",
    "    print(\"%10f    %10f   %10f %10f   %.3e\" % (ls[j], -Es[j]/Er, Er, G, res.cost*2))\n",
    "    Emaxs.append(-Es[j]/Er)\n",
    "    Ers.append(Er)\n",
    "    Gs.append(G)"
   ]
  },
  {
   "cell_type": "markdown",
   "metadata": {},
   "source": [
    "Compute simple and weighted averages using $\\chi^2$ as weights. "
   ]
  },
  {
   "cell_type": "code",
   "execution_count": 39,
   "metadata": {},
   "outputs": [
    {
     "name": "stdout",
     "output_type": "stream",
     "text": [
      "Simple average\n",
      "  Er = 3.074334   STD = 0.041462\n",
      "  G  = 0.643863   STD = 0.023139\n",
      "Weighted average:\n",
      "  Er = 3.101094\n",
      "  G  = 0.628559\n"
     ]
    }
   ],
   "source": [
    "Ers=np.array(Ers)\n",
    "Gs=np.array(Gs)\n",
    "chi2s=np.array(chi2s)\n",
    "print(\"Simple average\")\n",
    "print(\"  Er = %f   STD = %f\" % (np.mean(Ers), np.std(Ers)))\n",
    "print(\"  G  = %f   STD = %f\" % (np.mean(Gs), np.std(Gs)))\n",
    "print(\"Weighted average:\")\n",
    "print(\"  Er = %f\" % (np.average(Ers,weights=1.0/chi2s)))\n",
    "print(\"  G  = %f\" % (np.average(Gs,weights=1.0/chi2s)))"
   ]
  },
  {
   "cell_type": "code",
   "execution_count": null,
   "metadata": {},
   "outputs": [],
   "source": []
  }
 ],
 "metadata": {
  "kernelspec": {
   "display_name": "Python 3",
   "language": "python",
   "name": "python3"
  },
  "language_info": {
   "codemirror_mode": {
    "name": "ipython",
    "version": 3
   },
   "file_extension": ".py",
   "mimetype": "text/x-python",
   "name": "python",
   "nbconvert_exporter": "python",
   "pygments_lexer": "ipython3",
   "version": "3.6.11"
  }
 },
 "nbformat": 4,
 "nbformat_minor": 4
}
