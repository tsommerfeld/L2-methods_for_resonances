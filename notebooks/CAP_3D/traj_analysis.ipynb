{
 "cells": [
  {
   "cell_type": "markdown",
   "metadata": {},
   "source": [
    "# Analysis of CAP trajectories\n",
    "\n",
    "* complex analysis: *J. Phys. B* **26**, 4503 (1993)\n",
    "* real/imaginary analysis: *J. Phys. Chem. Lett.* **5**, 310 (2014)"
   ]
  },
  {
   "cell_type": "code",
   "execution_count": 4,
   "metadata": {},
   "outputs": [],
   "source": [
    "import numpy as np\n",
    "from scipy.linalg import eig, eigh, eigvals, eigvalsh\n",
    "import matplotlib.pyplot as plt\n",
    "#import matplotlib\n",
    "#matplotlib.use('Qt5Agg')\n",
    "%matplotlib qt5\n",
    "import pandas as pd"
   ]
  },
  {
   "cell_type": "code",
   "execution_count": 5,
   "metadata": {},
   "outputs": [],
   "source": [
    "import sys\n",
    "sys.path.append('../../Python_libs')\n",
    "import captools as ct"
   ]
  },
  {
   "cell_type": "code",
   "execution_count": 38,
   "metadata": {},
   "outputs": [
    {
     "data": {
      "text/html": [
       "<div>\n",
       "<style scoped>\n",
       "    .dataframe tbody tr th:only-of-type {\n",
       "        vertical-align: middle;\n",
       "    }\n",
       "\n",
       "    .dataframe tbody tr th {\n",
       "        vertical-align: top;\n",
       "    }\n",
       "\n",
       "    .dataframe thead th {\n",
       "        text-align: right;\n",
       "    }\n",
       "</style>\n",
       "<table border=\"1\" class=\"dataframe\">\n",
       "  <thead>\n",
       "    <tr style=\"text-align: right;\">\n",
       "      <th></th>\n",
       "      <th>eta</th>\n",
       "      <th>ReE</th>\n",
       "      <th>ImE</th>\n",
       "    </tr>\n",
       "  </thead>\n",
       "  <tbody>\n",
       "    <tr>\n",
       "      <th>121</th>\n",
       "      <td>0.691831</td>\n",
       "      <td>3.707236</td>\n",
       "      <td>-3.548586</td>\n",
       "    </tr>\n",
       "    <tr>\n",
       "      <th>122</th>\n",
       "      <td>0.758578</td>\n",
       "      <td>3.706827</td>\n",
       "      <td>-3.890446</td>\n",
       "    </tr>\n",
       "    <tr>\n",
       "      <th>123</th>\n",
       "      <td>0.831764</td>\n",
       "      <td>3.706352</td>\n",
       "      <td>-4.265384</td>\n",
       "    </tr>\n",
       "    <tr>\n",
       "      <th>124</th>\n",
       "      <td>0.912011</td>\n",
       "      <td>3.705806</td>\n",
       "      <td>-4.676597</td>\n",
       "    </tr>\n",
       "    <tr>\n",
       "      <th>125</th>\n",
       "      <td>1.000000</td>\n",
       "      <td>3.705183</td>\n",
       "      <td>-5.127589</td>\n",
       "    </tr>\n",
       "  </tbody>\n",
       "</table>\n",
       "</div>"
      ],
      "text/plain": [
       "          eta       ReE       ImE\n",
       "121  0.691831  3.707236 -3.548586\n",
       "122  0.758578  3.706827 -3.890446\n",
       "123  0.831764  3.706352 -4.265384\n",
       "124  0.912011  3.705806 -4.676597\n",
       "125  1.000000  3.705183 -5.127589"
      ]
     },
     "execution_count": 38,
     "metadata": {},
     "output_type": "execute_result"
    }
   ],
   "source": [
    "df = pd.read_csv('Traj_GTO_DZ_7.csv')\n",
    "df.tail(5)"
   ]
  },
  {
   "cell_type": "code",
   "execution_count": 39,
   "metadata": {},
   "outputs": [],
   "source": [
    "etas=df['eta'].values\n",
    "n_eta=len(etas)\n",
    "es=df['ReE'].values  + 1j*df['ImE'].values\n"
   ]
  },
  {
   "cell_type": "markdown",
   "metadata": {},
   "source": [
    "Compute first and second derivatives and corrected energies."
   ]
  },
  {
   "cell_type": "code",
   "execution_count": 40,
   "metadata": {},
   "outputs": [],
   "source": [
    "corrs, absd1, absd2 = ct.trajectory_derivatives(etas, es)\n",
    "\n",
    "plt.cla()\n",
    "plt.figure(1)\n",
    "plt.plot(es.real, es.imag, 'o-', color=\"blue\")\n",
    "plt.plot(corrs.real, corrs.imag, 'o-', color=\"brown\")\n",
    "plt.figure(2)\n",
    "plt.plot(etas, absd1, 'o-', color=\"blue\")\n",
    "plt.plot(etas, absd2, 'o-', color=\"brown\")\n",
    "plt.xscale(\"log\")\n",
    "plt.yscale(\"log\")\n",
    "plt.show()"
   ]
  },
  {
   "cell_type": "code",
   "execution_count": 41,
   "metadata": {},
   "outputs": [
    {
     "name": "stdout",
     "output_type": "stream",
     "text": [
      "Uncorrected minima:\n",
      "   73  8.32e-03  (3.627701,-0.158282)  2.99e-02\n",
      "Corrected minima:\n",
      "    3  1.32e-05  (3.082955,-0.000006)  2.99e-02\n",
      "   80  1.58e-02  (3.604004,-0.123715)  2.99e-02\n",
      "  120  6.31e-01  (3.711060,-0.006666)  2.99e-02\n"
     ]
    }
   ],
   "source": [
    "fmt=\"  %3d  %8.2e  (%8.6f,%8.6f)  %8.2e\"\n",
    "mlist =  ct.find_local_minima(etas, absd1)\n",
    "print('Uncorrected minima:')\n",
    "for eta, d1 in mlist:\n",
    "    j = np.argmin(np.abs(etas-eta))\n",
    "    print(fmt % (j, eta, es[j].real, es[j].imag, d1))\n",
    "print('Corrected minima:')\n",
    "mlist =  ct.find_local_minima(etas, absd2)\n",
    "for eta, d2 in mlist:\n",
    "    j = np.argmin(np.abs(etas-eta))\n",
    "    print(fmt % (j, eta, corrs[j].real, corrs[j].imag, d1))"
   ]
  },
  {
   "cell_type": "code",
   "execution_count": 35,
   "metadata": {},
   "outputs": [],
   "source": [
    "#\n",
    "#  print the full trajectory\n",
    "#\n",
    "# fm0 = \"{0:2d} {1:8.2e} {2:8.6f},{3:8.6f} {4:8.2e}  {5:8.6f},{6:8.6f} {7:8.2e}\"\n",
    "# fm1 = \"{0:2d} {1:8.2e} {2:8.6f},{3:8.6f} {4:8.2e}* {5:8.6f},{6:8.6f} {7:8.2e}\"\n",
    "# fm2 = \"{0:2d} {1:8.2e} {2:8.6f},{3:8.6f} {4:8.2e}  {5:8.6f},{6:8.6f} {7:8.2e}*\"\n",
    "# fm3 = \"{0:2d} {1:8.2e} {2:8.6f},{3:8.6f} {4:8.2e}* {5:8.6f},{6:8.6f} {7:8.2e}*\"\n",
    "\n",
    "# i=0\n",
    "# print(fm0.format(0, etas[i], es[i].real, es[i].imag, absd1[i], corrs[i].real, corrs[i].imag, absd2[i]))\n",
    "# for i in range(1, n_eta):\n",
    "#     der1_neg = (absd1[i]-absd1[i-1] < 0)\n",
    "#     der2_neg = (absd2[i]-absd2[i-1] < 0)\n",
    "#     if der1_neg and der2_neg:\n",
    "#         frmt = fm3\n",
    "#     elif der1_neg:\n",
    "#         frmt = fm1\n",
    "#     elif der2_neg:\n",
    "#         frmt = fm2\n",
    "#     else:\n",
    "#         frmt = fm0\n",
    "#     print(frmt.format(i, etas[i], es[i].real, es[i].imag, absd1[i], corrs[i].real, corrs[i].imag, absd2[i]))"
   ]
  },
  {
   "cell_type": "code",
   "execution_count": 42,
   "metadata": {},
   "outputs": [
    {
     "name": "stdout",
     "output_type": "stream",
     "text": [
      "R0:     3.0714       -0.1577     3.3e-04       9.1e-03 \n"
     ]
    }
   ],
   "source": [
    "ct.JZBEK_plot(etas, es)\n",
    "#print(\"min(Re(Es)):\\n\", ct.find_local_minima(etas, es.real))\n",
    "#print(\"max(Im(Es)):\\n\", ct.find_local_maxima(etas, es.imag))\n",
    "\n",
    "format = 'R0:     %.4f       %.4f     %.1e       %.1e '\n",
    "rlist =  ct.find_local_minima(etas, es.real)\n",
    "ilist =  ct.find_local_maxima(etas, es.imag)\n",
    "for etar, er in rlist:\n",
    "    for etai, ei in ilist:\n",
    "        print(format % (er, ei, etar, etai))"
   ]
  },
  {
   "cell_type": "code",
   "execution_count": 44,
   "metadata": {},
   "outputs": [
    {
     "name": "stdout",
     "output_type": "stream",
     "text": [
      "R1:     2.3417       0.0040     1.3e-03       9.1e-01 \n",
      "R1:     3.5988       0.0040     1.1e-02       9.1e-01 \n"
     ]
    }
   ],
   "source": [
    "ct.JZBEK_plot(etas, corrs)\n",
    "format = 'R1:     %.4f       %.4f     %.1e       %.1e '\n",
    "rlist =  ct.find_local_minima(etas, corrs.real)\n",
    "ilist =  ct.find_local_maxima(etas, corrs.imag)\n",
    "for etar, er in rlist:\n",
    "    for etai, ei in ilist:\n",
    "        print(format % (er, ei, etar, etai))"
   ]
  },
  {
   "cell_type": "code",
   "execution_count": null,
   "metadata": {},
   "outputs": [],
   "source": []
  }
 ],
 "metadata": {
  "kernelspec": {
   "display_name": "Python 3",
   "language": "python",
   "name": "python3"
  },
  "language_info": {
   "codemirror_mode": {
    "name": "ipython",
    "version": 3
   },
   "file_extension": ".py",
   "mimetype": "text/x-python",
   "name": "python",
   "nbconvert_exporter": "python",
   "pygments_lexer": "ipython3",
   "version": "3.8.8"
  }
 },
 "nbformat": 4,
 "nbformat_minor": 4
}
