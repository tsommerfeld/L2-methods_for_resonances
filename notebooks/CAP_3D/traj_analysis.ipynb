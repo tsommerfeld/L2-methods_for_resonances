{
 "cells": [
  {
   "cell_type": "markdown",
   "metadata": {},
   "source": [
    "## Analysis of CAP trajectories\n",
    "\n",
    "* complex analysis: *J. Phys. B* **26**, 4503 (1993)\n",
    "* real/imaginary analysis: *J. Phys. Chem. Lett.* **5**, 310 (2014)"
   ]
  },
  {
   "cell_type": "code",
   "execution_count": 14,
   "metadata": {},
   "outputs": [],
   "source": [
    "show_complex_plots=False"
   ]
  },
  {
   "cell_type": "code",
   "execution_count": 15,
   "metadata": {},
   "outputs": [],
   "source": [
    "import numpy as np\n",
    "from scipy.linalg import eig, eigh, eigvals, eigvalsh\n",
    "import matplotlib.pyplot as plt\n",
    "#import matplotlib\n",
    "#matplotlib.use('Qt5Agg')\n",
    "%matplotlib qt5\n",
    "import pandas as pd"
   ]
  },
  {
   "cell_type": "code",
   "execution_count": 16,
   "metadata": {},
   "outputs": [],
   "source": [
    "import sys\n",
    "sys.path.append('../../Python_libs')\n",
    "import captools as ct"
   ]
  },
  {
   "cell_type": "code",
   "execution_count": 45,
   "metadata": {},
   "outputs": [
    {
     "data": {
      "text/html": [
       "<div>\n",
       "<style scoped>\n",
       "    .dataframe tbody tr th:only-of-type {\n",
       "        vertical-align: middle;\n",
       "    }\n",
       "\n",
       "    .dataframe tbody tr th {\n",
       "        vertical-align: top;\n",
       "    }\n",
       "\n",
       "    .dataframe thead th {\n",
       "        text-align: right;\n",
       "    }\n",
       "</style>\n",
       "<table border=\"1\" class=\"dataframe\">\n",
       "  <thead>\n",
       "    <tr style=\"text-align: right;\">\n",
       "      <th></th>\n",
       "      <th>eta</th>\n",
       "      <th>ReE</th>\n",
       "      <th>ImE</th>\n",
       "    </tr>\n",
       "  </thead>\n",
       "  <tbody>\n",
       "    <tr>\n",
       "      <th>121</th>\n",
       "      <td>0.691831</td>\n",
       "      <td>8.966711</td>\n",
       "      <td>-2.803278</td>\n",
       "    </tr>\n",
       "    <tr>\n",
       "      <th>122</th>\n",
       "      <td>0.758578</td>\n",
       "      <td>9.142368</td>\n",
       "      <td>-2.575495</td>\n",
       "    </tr>\n",
       "    <tr>\n",
       "      <th>123</th>\n",
       "      <td>0.831764</td>\n",
       "      <td>9.274049</td>\n",
       "      <td>-2.366587</td>\n",
       "    </tr>\n",
       "    <tr>\n",
       "      <th>124</th>\n",
       "      <td>0.912011</td>\n",
       "      <td>9.374020</td>\n",
       "      <td>-2.179254</td>\n",
       "    </tr>\n",
       "    <tr>\n",
       "      <th>125</th>\n",
       "      <td>1.000000</td>\n",
       "      <td>9.450999</td>\n",
       "      <td>-2.013272</td>\n",
       "    </tr>\n",
       "  </tbody>\n",
       "</table>\n",
       "</div>"
      ],
      "text/plain": [
       "          eta       ReE       ImE\n",
       "121  0.691831  8.966711 -2.803278\n",
       "122  0.758578  9.142368 -2.575495\n",
       "123  0.831764  9.274049 -2.366587\n",
       "124  0.912011  9.374020 -2.179254\n",
       "125  1.000000  9.450999 -2.013272"
      ]
     },
     "execution_count": 45,
     "metadata": {},
     "output_type": "execute_result"
    }
   ],
   "source": [
    "#df = pd.read_csv('Traj_GTO_unc_7.csv')\n",
    "df = pd.read_csv('Traj_GTO_unc_5.csv')\n",
    "\n",
    "#df = pd.read_csv('Traj_DVR_25.csv')\n",
    "df.tail(5)"
   ]
  },
  {
   "cell_type": "code",
   "execution_count": 46,
   "metadata": {},
   "outputs": [],
   "source": [
    "etas=df['eta'].values\n",
    "n_eta=len(etas)\n",
    "es=df['ReE'].values  + 1j*df['ImE'].values"
   ]
  },
  {
   "cell_type": "markdown",
   "metadata": {},
   "source": [
    "Compute first and second derivatives and corrected energies."
   ]
  },
  {
   "cell_type": "code",
   "execution_count": 47,
   "metadata": {},
   "outputs": [],
   "source": [
    "corrs, absd1, absd2 = ct.trajectory_derivatives(etas, es)\n",
    "if show_complex_plots:\n",
    "    plt.cla()\n",
    "    plt.figure(1)\n",
    "    plt.plot(es.real, es.imag, 'o-', color=\"blue\", label='Uncorrected')\n",
    "    plt.plot(corrs.real, corrs.imag, 'o-', color=\"brown\", label='Corrected')\n",
    "    plt.title('Complex trajectories.')\n",
    "    plt.legend()\n",
    "    plt.figure(2)\n",
    "    plt.plot(etas, absd1, 'o-', color=\"blue\", label='Uncorrected')\n",
    "    plt.plot(etas, absd2, 'o-', color=\"brown\", label='Corrected')\n",
    "    plt.legend()\n",
    "    plt.title('Speeds: $dE/d\\ln\\eta$ vs $\\ln\\eta$')\n",
    "    plt.xscale(\"log\")\n",
    "    plt.yscale(\"log\")\n",
    "    plt.show()"
   ]
  },
  {
   "cell_type": "markdown",
   "metadata": {},
   "source": [
    "Analysis of the complex tractory: *J. Phys. B* **26**, 4503 (1993)"
   ]
  },
  {
   "cell_type": "code",
   "execution_count": 48,
   "metadata": {},
   "outputs": [
    {
     "name": "stdout",
     "output_type": "stream",
     "text": [
      "Uncorrected minima:\n",
      "   49  9.12e-04  (3.244215,-0.203135)  2.26e-02\n",
      "   95  6.31e-02  (4.536816,-1.123345)  5.33e-01\n",
      "Corrected minima:\n",
      "   58  2.09e-03  (3.192006,-0.128497)  6.30e-02\n",
      "   77  1.20e-02  (3.349195,-0.275058)  3.70e-02\n",
      "  103  1.32e-01  (4.322762,-0.538953)  3.79e-01\n"
     ]
    }
   ],
   "source": [
    "fmt=\"  %3d  %8.2e  (%8.6f,%8.6f)  %8.2e\"\n",
    "mlist =  ct.find_local_minima(etas, absd1)\n",
    "print('Uncorrected minima:')\n",
    "for eta, d1 in mlist:\n",
    "    j = np.argmin(np.abs(etas-eta))\n",
    "    print(fmt % (j, eta, es[j].real, es[j].imag, d1))\n",
    "print('Corrected minima:')\n",
    "mlist =  ct.find_local_minima(etas, absd2)\n",
    "for eta, d2 in mlist:\n",
    "    j = np.argmin(np.abs(etas-eta))\n",
    "    print(fmt % (j, eta, corrs[j].real, corrs[j].imag, d2))"
   ]
  },
  {
   "cell_type": "code",
   "execution_count": 28,
   "metadata": {},
   "outputs": [],
   "source": [
    "#\n",
    "#  print the full trajectory\n",
    "#\n",
    "# fm0 = \"{0:2d} {1:8.2e} {2:8.6f},{3:8.6f} {4:8.2e}  {5:8.6f},{6:8.6f} {7:8.2e}\"\n",
    "# fm1 = \"{0:2d} {1:8.2e} {2:8.6f},{3:8.6f} {4:8.2e}* {5:8.6f},{6:8.6f} {7:8.2e}\"\n",
    "# fm2 = \"{0:2d} {1:8.2e} {2:8.6f},{3:8.6f} {4:8.2e}  {5:8.6f},{6:8.6f} {7:8.2e}*\"\n",
    "# fm3 = \"{0:2d} {1:8.2e} {2:8.6f},{3:8.6f} {4:8.2e}* {5:8.6f},{6:8.6f} {7:8.2e}*\"\n",
    "\n",
    "# i=0\n",
    "# print(fm0.format(0, etas[i], es[i].real, es[i].imag, absd1[i], corrs[i].real, corrs[i].imag, absd2[i]))\n",
    "# for i in range(1, n_eta):\n",
    "#     der1_neg = (absd1[i]-absd1[i-1] < 0)\n",
    "#     der2_neg = (absd2[i]-absd2[i-1] < 0)\n",
    "#     if der1_neg and der2_neg:\n",
    "#         frmt = fm3\n",
    "#     elif der1_neg:\n",
    "#         frmt = fm1\n",
    "#     elif der2_neg:\n",
    "#         frmt = fm2\n",
    "#     else:\n",
    "#         frmt = fm0\n",
    "#     print(frmt.format(i, etas[i], es[i].real, es[i].imag, absd1[i], corrs[i].real, corrs[i].imag, absd2[i]))"
   ]
  },
  {
   "cell_type": "markdown",
   "metadata": {},
   "source": [
    "Separate analysis of the real and imaginary parts of the complex trajectory following \n",
    "\n",
    "*J. Chem. Phys. Lett.* **5**, 310 (2014)"
   ]
  },
  {
   "cell_type": "code",
   "execution_count": 49,
   "metadata": {},
   "outputs": [
    {
     "name": "stdout",
     "output_type": "stream",
     "text": [
      "Minima of Re(E2)\n",
      "Maximua of Im(E2)\n",
      "8.77e-04   -0.2030\n"
     ]
    }
   ],
   "source": [
    "ln_eta_min, min_ReE, ln_eta_max, max_ImE = ct.JZBEK_analysis(etas, es)\n",
    "print('Minima of Re(E2)')\n",
    "for ln_eta, ReE in zip(ln_eta_min, min_ReE):\n",
    "    print('%.2e   %.4f' % (np.exp(ln_eta), ReE))\n",
    "print('Maximua of Im(E2)')\n",
    "for ln_eta, ImE in zip(ln_eta_max, max_ImE):\n",
    "    print('%.2e   %.4f' % (np.exp(ln_eta), ImE))"
   ]
  },
  {
   "cell_type": "code",
   "execution_count": 50,
   "metadata": {},
   "outputs": [
    {
     "name": "stdout",
     "output_type": "stream",
     "text": [
      "Minima of Re(E1)\n",
      "2.93e-04   2.9329\n",
      "3.36e-03   3.1708\n",
      "2.22e-02   3.3165\n",
      "4.33e-01   2.5103\n",
      "Maximua of Im(E1)\n",
      "1.24e-05   -0.0000\n",
      "2.11e-03   -0.1285\n",
      "1.10e-02   -0.2742\n",
      "1.84e-01   -0.4743\n"
     ]
    }
   ],
   "source": [
    "ln_eta_min, min_ReE, ln_eta_max, max_ImE = ct.JZBEK_analysis(etas, corrs)\n",
    "print('Minima of Re(E1)')\n",
    "for ln_eta, ReE in zip(ln_eta_min, min_ReE):\n",
    "    print('%.2e   %.4f' % (np.exp(ln_eta), ReE))\n",
    "print('Maximua of Im(E1)')\n",
    "for ln_eta, ImE in zip(ln_eta_max, max_ImE):\n",
    "    print('%.2e   %.4f' % (np.exp(ln_eta), ImE))"
   ]
  },
  {
   "cell_type": "code",
   "execution_count": null,
   "metadata": {},
   "outputs": [],
   "source": []
  }
 ],
 "metadata": {
  "kernelspec": {
   "display_name": "Python 3",
   "language": "python",
   "name": "python3"
  },
  "language_info": {
   "codemirror_mode": {
    "name": "ipython",
    "version": 3
   },
   "file_extension": ".py",
   "mimetype": "text/x-python",
   "name": "python",
   "nbconvert_exporter": "python",
   "pygments_lexer": "ipython3",
   "version": "3.8.8"
  }
 },
 "nbformat": 4,
 "nbformat_minor": 4
}
