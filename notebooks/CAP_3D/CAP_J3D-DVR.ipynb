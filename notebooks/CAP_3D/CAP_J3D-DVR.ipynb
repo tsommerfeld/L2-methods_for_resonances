{
 "cells": [
  {
   "cell_type": "markdown",
   "metadata": {},
   "source": [
    "## CAP/DVR step 1"
   ]
  },
  {
   "cell_type": "code",
   "execution_count": 1,
   "metadata": {},
   "outputs": [],
   "source": [
    "import numpy as np\n",
    "import cmath\n",
    "from numpy.linalg import eig, eigvals\n",
    "import matplotlib\n",
    "import matplotlib.pyplot as plt\n",
    "matplotlib.use('Qt5Agg')\n",
    "%matplotlib qt5\n",
    "import pandas as pd"
   ]
  },
  {
   "cell_type": "markdown",
   "metadata": {},
   "source": [
    "imports from local libs"
   ]
  },
  {
   "cell_type": "code",
   "execution_count": 2,
   "metadata": {},
   "outputs": [],
   "source": [
    "import sys\n",
    "sys.path.append('../../Python_libs')\n",
    "import dvr\n",
    "from jolanta import Jolanta_3D\n",
    "import captools as ct"
   ]
  },
  {
   "cell_type": "code",
   "execution_count": 3,
   "metadata": {},
   "outputs": [],
   "source": [
    "amu_to_au=1822.888486192\n",
    "au2cm=219474.63068\n",
    "au2eV=27.211386027\n",
    "Angs2Bohr=1.8897259886"
   ]
  },
  {
   "cell_type": "code",
   "execution_count": 4,
   "metadata": {},
   "outputs": [],
   "source": [
    "#\n",
    "# Jolanata-3D parameters a, b, c: (0.028, 1.0, 0.028)\n",
    "#\n",
    "#   CS-DVR:   \n",
    "#      bound state:  -7.17051 eV\n",
    "#      resonance (3.1729556 - 0.16085j) eV\n",
    "#\n",
    "jparam=(0.028, 1.0, 0.028)"
   ]
  },
  {
   "cell_type": "code",
   "execution_count": 5,
   "metadata": {},
   "outputs": [],
   "source": [
    "def Vcap(x, xcut=10):\n",
    "    xabs = abs(x)\n",
    "    if xabs < xcut:\n",
    "        return 0\n",
    "    else:\n",
    "        return (xabs-xcut)**2"
   ]
  },
  {
   "cell_type": "code",
   "execution_count": 6,
   "metadata": {},
   "outputs": [
    {
     "name": "stdout",
     "output_type": "stream",
     "text": [
      "nGrid = 450\n",
      "  1   -0.26351131 au =     -7.17051 eV\n",
      "  2    0.01683168 au =      0.45801 eV\n",
      "  3    0.05606363 au =      1.52557 eV\n",
      "  4    0.10555774 au =      2.87237 eV\n",
      "  5    0.12662372 au =      3.44561 eV\n",
      "  6    0.18685288 au =      5.08453 eV\n",
      "  7    0.26221360 au =      7.13520 eV\n"
     ]
    }
   ],
   "source": [
    "#\n",
    "#  compute DVR of T, V, and W\n",
    "#  then show the density of states\n",
    "#  in a potential + energy-levels plot\n",
    "#\n",
    "xmax=30\n",
    "xmin=0   # grid from -xmin to xmax\n",
    "thresh = 7   # maximum energy for state in the plot in eV\n",
    "ppB = 15     # grid points per Bohr\n",
    "xcut=15\n",
    "\n",
    "nGrid=int((xmax-xmin)*ppB)\n",
    "print(\"nGrid = %d\" % nGrid)\n",
    "xs = dvr.DVRGrid(xmin, xmax, nGrid)\n",
    "Vs = Jolanta_3D(xs, jparam)\n",
    "Ws=np.array([Vcap(xs[i], xcut=xcut) for i in range(nGrid)])\n",
    "Ts = dvr.KineticEnergy(1, xmin, xmax, nGrid)\n",
    "[energy, wf] = dvr.DVRDiag2(nGrid, Ts, Vs, wf=True)\n",
    "\n",
    "n_ene=0\n",
    "for i in range(nGrid):\n",
    "    print(\"%3d  %12.8f au = %12.5f eV\" % (i+1, energy[i], energy[i]*au2eV))\n",
    "    n_ene += 1\n",
    "    if energy[i]*au2eV > thresh:\n",
    "        break\n",
    "\n",
    "# \"DVR normalization\", sum(wf[:,0]**2)\n",
    "# this is correct for plotting\n",
    "\n",
    "c=[\"orange\", \"blue\"]\n",
    "#h=float(xmax) / (nGrid+1.0)\n",
    "scale=400\n",
    "\n",
    "eta=2e-3\n",
    "plt.cla()\n",
    "plt.plot(xs,Vs*au2eV, '-', color=\"black\")\n",
    "plt.plot(xs,Ws*au2eV*eta, '-', color=\"green\")\n",
    "for i in range(n_ene):\n",
    "    plt.plot(xs, scale*wf[:,i]**2+energy[i]*au2eV, '-', color=c[i%len(c)])\n",
    "plt.ylim(energy[0]*au2eV-1, energy[n_ene-1]*au2eV+1)\n",
    "plt.xlabel('$x$ [Bohr]')\n",
    "plt.ylabel('$E$ [eV]')\n",
    "plt.show()"
   ]
  },
  {
   "cell_type": "code",
   "execution_count": 9,
   "metadata": {},
   "outputs": [
    {
     "name": "stdout",
     "output_type": "stream",
     "text": [
      "eta = 0.000800\n"
     ]
    },
    {
     "data": {
      "text/plain": [
       "array([ -7.17050798-6.19764584e-11j,   0.94632115-5.18420571e-01j,\n",
       "         1.64676727-1.55889259e+00j,   3.00538087-9.20129542e-01j,\n",
       "         3.18658026-1.74608787e-01j,   5.02009331-8.97099869e-01j,\n",
       "         7.09095443-8.33952308e-01j,   9.33990877-8.07634906e-01j,\n",
       "        11.87330385-8.18257153e-01j,  14.74464007-8.27690189e-01j,\n",
       "        17.94083962-8.30921863e-01j,  21.4507634 -8.31466353e-01j,\n",
       "        25.26926172-8.31346273e-01j,  29.39500087-8.30903506e-01j,\n",
       "        33.82619855-8.30272233e-01j,  38.56191119-8.29575160e-01j,\n",
       "        43.60094213-8.28815644e-01j,  48.94264849-8.28095781e-01j,\n",
       "        54.58626337-8.27365041e-01j,  60.53135113-8.26704600e-01j,\n",
       "        66.77740071-8.26050839e-01j,  73.32410857-8.25470838e-01j,\n",
       "        80.17112384-8.24902555e-01j,  87.31823074-8.24402169e-01j,\n",
       "        94.76518248-8.23913813e-01j, 102.51182294-8.23484882e-01j,\n",
       "       110.55797482-8.23066635e-01j, 118.90352331-8.22699289e-01j,\n",
       "       127.54833868-8.22340854e-01j, 136.49233521-8.22025640e-01j])"
      ]
     },
     "execution_count": 9,
     "metadata": {},
     "output_type": "execute_result"
    }
   ],
   "source": [
    "\"\"\" complex diagonalization example \"\"\"\n",
    "\n",
    "eta=8e-4\n",
    "print(\"eta = %f\" % (eta))\n",
    "H_eta = Ts + np.diag(Vs) - 1j*eta*np.diag(Ws)\n",
    "energies = eigvals(H_eta)\n",
    "energies.sort()\n",
    "plt.cla()\n",
    "plt.plot(energies.real*au2eV, energies.imag*au2eV, 'o')\n",
    "plt.xlim(-1,10)\n",
    "plt.ylim(-1.0,0.1)\n",
    "plt.show()\n",
    "energies[:30]*au2eV"
   ]
  },
  {
   "cell_type": "code",
   "execution_count": 10,
   "metadata": {},
   "outputs": [
    {
     "name": "stdout",
     "output_type": "stream",
     "text": [
      "1 2 3 4 5 6 7 8 9 10 \n",
      "11 12 13 14 15 16 17 18 19 20 \n",
      "21 22 23 24 25 26 27 28 29 30 \n",
      "31 32 33 34 35 36 37 38 39 40 \n",
      "41 42 43 44 45 46 47 48 49 50 \n",
      "51 52 53 54 55 56 57 58 59 60 \n",
      "61 62 63 64 65 66 67 68 69 70 \n",
      "71 72 73 74 75 76 77 78 79 80 \n",
      "81 82 83 84 85 86 87 88 89 90 \n",
      "91 92 93 94 95 96 97 98 99 100 \n",
      "101 "
     ]
    }
   ],
   "source": [
    "#\n",
    "#  eta loop: \n",
    "#\n",
    "\n",
    "n_keep=25\n",
    "log_eta_min=-5\n",
    "log_eta_max=-1\n",
    "n_eta=25*(log_eta_max - log_eta_min)+1\n",
    "etas=np.logspace(log_eta_min, log_eta_max, num=n_eta)\n",
    "\n",
    "erdata = np.zeros((n_eta,n_keep), complex)  # array used to collect all theta-run data\n",
    "\n",
    "for i_eta in range(n_eta):\n",
    "    eta=etas[i_eta]\n",
    "    H_eta = Ts + np.diag(Vs) - 1j*eta*np.diag(Ws)\n",
    "    energies = eigvals(H_eta)\n",
    "    energies.sort()\n",
    "    erdata[i_eta,:] = energies[0:n_keep]\n",
    "    print(i_eta+1, end=\" \")\n",
    "    if (i_eta+1)%10==0:\n",
    "        print()\n",
    "\n",
    "erdata *= au2eV"
   ]
  },
  {
   "cell_type": "code",
   "execution_count": 12,
   "metadata": {},
   "outputs": [],
   "source": [
    "#\n",
    "# useful piece of the complex plane \n",
    "# (if unknown, plot all and zoom with matplotlib)\n",
    "#\n",
    "plt.cla()\n",
    "for i in range(0, n_keep):\n",
    "    plt.plot(erdata[:,i].real,  erdata[:,i].imag, 'o')\n",
    "plt.xlim(0,8)\n",
    "plt.ylim(-1,0)\n",
    "plt.show()"
   ]
  },
  {
   "cell_type": "code",
   "execution_count": 13,
   "metadata": {},
   "outputs": [],
   "source": [
    "#\n",
    "#  get trajectory\n",
    "#\n",
    "follow=3.4  # for xmax=25 or 30\n",
    "#follow=3.1\n",
    "es=np.zeros(n_eta,complex)\n",
    "\n",
    "for j in range(0,n_eta):\n",
    "    i = np.argmin(abs(erdata[j,:]-follow))\n",
    "    es[j] = erdata[j,i]\n",
    "    follow = es[j]\n",
    "plt.cla()\n",
    "plt.plot(es.real, es.imag, 'o-')\n",
    "plt.show()"
   ]
  },
  {
   "cell_type": "code",
   "execution_count": 14,
   "metadata": {},
   "outputs": [
    {
     "data": {
      "text/html": [
       "<div>\n",
       "<style scoped>\n",
       "    .dataframe tbody tr th:only-of-type {\n",
       "        vertical-align: middle;\n",
       "    }\n",
       "\n",
       "    .dataframe tbody tr th {\n",
       "        vertical-align: top;\n",
       "    }\n",
       "\n",
       "    .dataframe thead th {\n",
       "        text-align: right;\n",
       "    }\n",
       "</style>\n",
       "<table border=\"1\" class=\"dataframe\">\n",
       "  <thead>\n",
       "    <tr style=\"text-align: right;\">\n",
       "      <th></th>\n",
       "      <th>eta</th>\n",
       "      <th>ReE</th>\n",
       "      <th>ImE</th>\n",
       "    </tr>\n",
       "  </thead>\n",
       "  <tbody>\n",
       "    <tr>\n",
       "      <th>0</th>\n",
       "      <td>0.000010</td>\n",
       "      <td>3.445541</td>\n",
       "      <td>-0.006558</td>\n",
       "    </tr>\n",
       "    <tr>\n",
       "      <th>1</th>\n",
       "      <td>0.000011</td>\n",
       "      <td>3.445528</td>\n",
       "      <td>-0.007191</td>\n",
       "    </tr>\n",
       "    <tr>\n",
       "      <th>2</th>\n",
       "      <td>0.000012</td>\n",
       "      <td>3.445512</td>\n",
       "      <td>-0.007884</td>\n",
       "    </tr>\n",
       "    <tr>\n",
       "      <th>3</th>\n",
       "      <td>0.000013</td>\n",
       "      <td>3.445493</td>\n",
       "      <td>-0.008645</td>\n",
       "    </tr>\n",
       "    <tr>\n",
       "      <th>4</th>\n",
       "      <td>0.000014</td>\n",
       "      <td>3.445470</td>\n",
       "      <td>-0.009479</td>\n",
       "    </tr>\n",
       "  </tbody>\n",
       "</table>\n",
       "</div>"
      ],
      "text/plain": [
       "        eta       ReE       ImE\n",
       "0  0.000010  3.445541 -0.006558\n",
       "1  0.000011  3.445528 -0.007191\n",
       "2  0.000012  3.445512 -0.007884\n",
       "3  0.000013  3.445493 -0.008645\n",
       "4  0.000014  3.445470 -0.009479"
      ]
     },
     "execution_count": 14,
     "metadata": {},
     "output_type": "execute_result"
    }
   ],
   "source": [
    "df = pd.DataFrame({\"eta\": etas, \"ReE\":es.real, \"ImE\":es.imag})\n",
    "df.to_csv('Traj_DVR_30.csv', index=False)\n",
    "df.head(5)"
   ]
  },
  {
   "cell_type": "code",
   "execution_count": null,
   "metadata": {},
   "outputs": [],
   "source": [
    "#\n",
    "#  compute first and second derivative\n",
    "#\n",
    "\n",
    "corrs, absd1, absd2 = ct.trajectory_derivatives(etas, es)\n",
    "\n",
    "plt.cla()\n",
    "plt.figure(1)\n",
    "plt.plot(es.real, es.imag, 'o-', color=\"blue\")\n",
    "plt.plot(corrs.real, corrs.imag, 'o-', color=\"brown\")\n",
    "plt.figure(2)\n",
    "plt.plot(etas, absd1, 'o-', color=\"blue\")\n",
    "plt.plot(etas, absd2, 'o-', color=\"brown\")\n",
    "plt.xscale(\"log\")\n",
    "plt.show()"
   ]
  },
  {
   "cell_type": "code",
   "execution_count": null,
   "metadata": {},
   "outputs": [],
   "source": [
    "fm0 = \"{0:2d} {1:8.2e} {2:8.6f},{3:8.6f} {4:8.2e}  {5:8.6f},{6:8.6f} {7:8.2e}\"\n",
    "fm1 = \"{0:2d} {1:8.2e} {2:8.6f},{3:8.6f} {4:8.2e}* {5:8.6f},{6:8.6f} {7:8.2e}\"\n",
    "fm2 = \"{0:2d} {1:8.2e} {2:8.6f},{3:8.6f} {4:8.2e}  {5:8.6f},{6:8.6f} {7:8.2e}*\"\n",
    "fm3 = \"{0:2d} {1:8.2e} {2:8.6f},{3:8.6f} {4:8.2e}* {5:8.6f},{6:8.6f} {7:8.2e}*\"\n",
    "\n",
    "\n",
    "print(fm0.format(0, etas[i], es[i].real, es[i].imag, absd1[i], corrs[i].real, corrs[i].imag, absd2[i]))\n",
    "for i in range(1, n_eta):\n",
    "    der1_neg = (absd1[i]-absd1[i-1] < 0)\n",
    "    der2_neg = (absd2[i]-absd2[i-1] < 0)\n",
    "    if der1_neg and der2_neg:\n",
    "        frmt = fm3\n",
    "    elif der1_neg:\n",
    "        frmt = fm1\n",
    "    elif der2_neg:\n",
    "        frmt = fm2\n",
    "    else:\n",
    "        frmt = fm0\n",
    "    print(frmt.format(i, etas[i], es[i].real, es[i].imag, absd1[i], corrs[i].real, corrs[i].imag, absd2[i]))"
   ]
  },
  {
   "cell_type": "markdown",
   "metadata": {},
   "source": [
    "### CAP-results\n",
    "\n",
    "$r_{cut} = 15$ Bohr\n",
    "\n",
    "Complex stabilization:\n",
    "\n",
    " |         | $E_r$      | $E_i$    | $\\eta_{opt}$ | abs(der) |\n",
    " | :---    | ---        | ---      | ---          | --- |\n",
    " | CS      | 3.1729556  | -0.16085 |          $-$ | $-$ |\n",
    " | CAP0-25 | 3.177      | -0.131   |  3.3e-03 | 1.1e-02 |\n",
    " | CAP1-25 | 3.146      | -0.131   |  3.3e-03 | 1.9e-02 |\n",
    " | CAP0-30 | 3.168      | -0.155   |  1.7e-03 | 2.4e-02 | \n",
    " | CAP1-30 | 3.195      | -0.176   |  1.3e-03 | 5.5e-02 |\n",
    " | CAP0-35 | 3.173      | -0.161   |  7.6e-04 | 2.1e-03 |\n",
    " | CAP1-35 | 3.174      | -0.160   |  9.1e-04 | 1.6e-02 | \n",
    "\n",
    "| Remarks about complex trajectory |\n",
    "| --- |\n",
    "| $r_{max}=25$ Bohr: one sharp minimum |\n",
    "| $r_{max}=30$ Bohr: long flat stretches |\n",
    "| $r_{max}=35$ Bohr: one sharp minimium much lower than 25 or 30 |\n",
    "\n",
    "Real stabilization needs to bedone for R0 and R1. Use GTO boxes.\n",
    "\n",
    "|         | $E_r$      | $E_i$    | $\\eta_{opt}$ | $\\eta_{opt}^\\prime$ |\n",
    "| :---    | ---        | ---      | ---          | --- |\n",
    "| CS      | 3.1729556  | -0.16085 |          $-$ | $-$ |\n",
    "| CAP0-25 | 3.177      | -0.125   | 3.3e-3  | 7.6e-3 |\n",
    "| CAP1-25 | 3.146      | -0.109   | 5.8e-3  | 2.1e-2 |\n",
    "| CAP0-30 | 3.167      | -0.125   | 2.1e-3  | 7.6e-3 |\n",
    "| CAP1-30 | 3.144      | -0.175   | 4.4e-3  | 1.4e-3 |\n",
    "|         | 3.144      | -0.109   | 4.4e-3  | 2.1e-2 |\n",
    "| CAP0-35 | 3.166      | -0.160   | 2.1e-3  | 8.3e-4 | \n",
    "|         | 3.166      | -0.125   | 2.1e-3  | 7.6e-3 | \n",
    "| CAP1-35 | 3.012      | -0.160   | 2.1e-4  | 9.1e-4 | \n",
    "|         | 3.144      | -0.109   | 4.4e-3  | 2.1e-2 | \n",
    "\n",
    "\n",
    "Seems for a short absorbance region, there is not much difference. But for a longer absorbance region, stabilization of the complex trajectory works better. "
   ]
  },
  {
   "cell_type": "code",
   "execution_count": null,
   "metadata": {},
   "outputs": [],
   "source": [
    "ct.JZBEK_plot(etas, corrs)\n",
    "print(\"min(Re(Es)):\", ct.find_local_minima(etas, corrs.real))\n",
    "print(\"max(Im(Es)):\", ct.find_local_maxima(etas, corrs.imag))"
   ]
  },
  {
   "cell_type": "markdown",
   "metadata": {},
   "source": [
    "### Now get the complex wavefunction for plotting"
   ]
  },
  {
   "cell_type": "code",
   "execution_count": null,
   "metadata": {},
   "outputs": [],
   "source": [
    "eta=8.04e-04 # eta_opt for xmax=35, xcut=15\n",
    "Eres=3.17-1j*0.16\n",
    "H_eta = Ts + np.diag(Vs) - 1j*eta*np.diag(Ws)\n",
    "energies, wfs = eig(H_eta)\n",
    "energies*=au2eV\n",
    "i_res=np.argmin(abs(energies-Eres))\n",
    "print(energies[i_res])\n",
    "wf=wfs[:,i_res]"
   ]
  },
  {
   "cell_type": "code",
   "execution_count": null,
   "metadata": {},
   "outputs": [],
   "source": [
    "plt.cla()\n",
    "plt.figure(1)\n",
    "plt.plot(xs, wf.real, '-')\n",
    "plt.plot(xs, wf.imag, '-')\n",
    "plt.figure(2)\n",
    "plt.plot(xs, 20*abs(wf), '-')\n",
    "plt.plot(xs, np.angle(wf), '-')\n",
    "plt.show()"
   ]
  },
  {
   "cell_type": "code",
   "execution_count": null,
   "metadata": {},
   "outputs": [],
   "source": []
  },
  {
   "cell_type": "code",
   "execution_count": null,
   "metadata": {},
   "outputs": [],
   "source": []
  }
 ],
 "metadata": {
  "kernelspec": {
   "display_name": "Python 3",
   "language": "python",
   "name": "python3"
  },
  "language_info": {
   "codemirror_mode": {
    "name": "ipython",
    "version": 3
   },
   "file_extension": ".py",
   "mimetype": "text/x-python",
   "name": "python",
   "nbconvert_exporter": "python",
   "pygments_lexer": "ipython3",
   "version": "3.8.8"
  }
 },
 "nbformat": 4,
 "nbformat_minor": 4
}
