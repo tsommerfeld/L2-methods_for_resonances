{
 "cells": [
  {
   "cell_type": "markdown",
   "metadata": {},
   "source": [
    "## CAP/GBR step 1"
   ]
  },
  {
   "cell_type": "code",
   "execution_count": 9,
   "metadata": {},
   "outputs": [],
   "source": [
    "show_plots=False"
   ]
  },
  {
   "cell_type": "code",
   "execution_count": 2,
   "metadata": {},
   "outputs": [],
   "source": [
    "import numpy as np\n",
    "from scipy.linalg import eig, eigh, eigvals, eigvalsh\n",
    "import matplotlib.pyplot as plt\n",
    "#import matplotlib\n",
    "#matplotlib.use('Qt5Agg')\n",
    "%matplotlib qt5\n",
    "import pandas as pd"
   ]
  },
  {
   "cell_type": "code",
   "execution_count": 3,
   "metadata": {},
   "outputs": [],
   "source": [
    "import sys\n",
    "sys.path.append('../../Python_libs')\n",
    "from GTO_basis import GBR\n",
    "from jolanta import Jolanta_3D"
   ]
  },
  {
   "cell_type": "code",
   "execution_count": 4,
   "metadata": {},
   "outputs": [],
   "source": [
    "amu_to_au=1822.888486192\n",
    "au2cm=219474.63068\n",
    "au2eV=27.211386027\n",
    "Angs2Bohr=1.8897259886"
   ]
  },
  {
   "cell_type": "code",
   "execution_count": 5,
   "metadata": {},
   "outputs": [],
   "source": [
    "#\n",
    "# Jolanata parameters a, b, c:\n",
    "#\n",
    "#   CS-DVR:   \n",
    "#      bound state:  -7.17051 eV\n",
    "#      resonance (3.1729556 - 0.16085j) eV\n",
    "#\n",
    "jparam=(0.028, 1.0, 0.028)"
   ]
  },
  {
   "cell_type": "markdown",
   "metadata": {},
   "source": [
    "* Create a valence set $[\\alpha_0, \\alpha_0/s, \\alpha_0/s^2, ..., \\alpha_N]$ and set the CAP radius $r_c$\n",
    "* Diagonalize **H** to compare with $E_0^{DVR}$\n",
    "* Add diffuse functions $[\\alpha_N/s_{df}, ...]$\n",
    "* Diagonalize **H** again"
   ]
  },
  {
   "cell_type": "code",
   "execution_count": 49,
   "metadata": {},
   "outputs": [
    {
     "name": "stdout",
     "output_type": "stream",
     "text": [
      "Traj_GTO_unc_5.csv\n"
     ]
    }
   ],
   "source": [
    "sets=['GTO_unc', 'GTO_DZ', 'GTO_TZ']\n",
    "bas = sets[0]\n",
    "nval=10\n",
    "a0=17.0\n",
    "s=2\n",
    "ndf=4\n",
    "sdf=1.5\n",
    "if bas == 'GTO_unc':\n",
    "    contract = (0,0)\n",
    "elif bas == 'GTO_DZ':\n",
    "    contract = (1,1)  # one contracted, one uncontracted function\n",
    "elif bas == 'GTO_TZ':\n",
    "    contract = (1,2)  # one contracted, two uncontracted function\n",
    "else:\n",
    "    print('No such basis.')\n",
    "\n",
    "rc=7 # start for the CAP\n",
    "rc=5\n",
    "fname = 'Traj_' + bas + '_' + str(rc) + '.csv'\n",
    "print(fname)"
   ]
  },
  {
   "cell_type": "markdown",
   "metadata": {},
   "source": [
    "### Valence set\n",
    "Compare the bound state with DVR: $E_0 = -7.17051$ eV"
   ]
  },
  {
   "cell_type": "code",
   "execution_count": 50,
   "metadata": {},
   "outputs": [
    {
     "name": "stdout",
     "output_type": "stream",
     "text": [
      "E0 = -7.170439   Emax = 2419.320761\n"
     ]
    }
   ],
   "source": [
    "alpha_val=[a0]\n",
    "for i in range(nval-1):\n",
    "    alpha_val.append(alpha_val[-1]/s)\n",
    "Val = GBR(alpha_val, jparam, contract=contract, diffuse=(0,0))\n",
    "S, T, V = Val.STV()\n",
    "Es, cs = eigh(T+V, b=S)\n",
    "print(f'E0 = {Es[0]*au2eV:.6f}   Emax = {Es[-1]*au2eV:.6f}')\n",
    "#Val.print_exp()\n",
    "\n",
    "if show_plots:\n",
    "    scale=10\n",
    "    xmax=15\n",
    "    xs=np.linspace(0.1,xmax,200)\n",
    "    Vs=Jolanta_3D(xs, jparam)\n",
    "    plt.cla()\n",
    "    plt.plot(xs,Vs*au2eV, '-', color=\"blue\")\n",
    "    for i in range(len(Es)):\n",
    "        ys=Val.eval_vector(cs[:,i], xs)\n",
    "        plt.plot(xs,scale*ys**2+Es[i]*au2eV, '-')\n",
    "    plt.ylim(-8,10)\n",
    "    plt.show()"
   ]
  },
  {
   "cell_type": "markdown",
   "metadata": {},
   "source": [
    "### Extend the basis by a diffuse set"
   ]
  },
  {
   "cell_type": "code",
   "execution_count": 51,
   "metadata": {},
   "outputs": [
    {
     "name": "stdout",
     "output_type": "stream",
     "text": [
      "E0 = -7.170447   Emax = 2421.905980\n"
     ]
    }
   ],
   "source": [
    "Bas = GBR(alpha_val, jparam, contract=contract, diffuse=(ndf,sdf))\n",
    "S, T, V = Bas.STV()\n",
    "Es, cs = eigh(T+V, b=S)\n",
    "nEs = len(Es)\n",
    "print(f'E0 = {Es[0]*au2eV:.6f}   Emax = {Es[-1]*au2eV:.6f}')\n",
    "\n",
    "if show_plots:\n",
    "    Emax=10 # eV\n",
    "    plt.cla()\n",
    "    plt.plot(xs,Vs*au2eV, '-', color=\"blue\")\n",
    "    for i, E in enumerate(Es):\n",
    "        ys=Bas.eval_vector(cs[:,i], xs)\n",
    "        plt.plot(xs,scale*ys**2+E*au2eV, '-')\n",
    "        if E*au2eV > Emax:\n",
    "            break\n",
    "\n",
    "    plt.ylim(-10,Emax+1)\n",
    "    plt.show()"
   ]
  },
  {
   "cell_type": "markdown",
   "metadata": {},
   "source": [
    "## CAP"
   ]
  },
  {
   "cell_type": "code",
   "execution_count": 52,
   "metadata": {},
   "outputs": [
    {
     "data": {
      "text/plain": [
       "array([ 0.00000000e+000, -6.06589018e-186, -1.66336265e-093,\n",
       "       -3.27559837e-047, -5.46638222e-024,  5.90510417e-012,\n",
       "        5.37825528e-006,  6.84173269e-003,  3.43575779e-001,\n",
       "        3.59316286e+000,  9.66794702e+000,  2.20063339e+001,\n",
       "        4.47519311e+001,  8.42063227e+001])"
      ]
     },
     "execution_count": 52,
     "metadata": {},
     "output_type": "execute_result"
    }
   ],
   "source": [
    "W = Bas.Wcap(rc)\n",
    "np.diag(W)\n",
    "# Testing library: nval=10, a0=17.0, s=2, ndf=4, sdf=1.5\n",
    "#array([0.00000000e+000,  0.00000000e+000, -5.90256357e-182,\n",
    "#      -2.30877456e-091, -5.43012033e-046, -3.13170550e-023,\n",
    "#       1.99268280e-011,  1.39385969e-005,  1.55622760e-002,\n",
    "#       7.33295233e-001,  3.21481773e+000,  1.00955294e+001,\n",
    "#       2.54624133e+001,  5.55012418e+001])"
   ]
  },
  {
   "cell_type": "markdown",
   "metadata": {},
   "source": [
    "### $\\eta$-run\n",
    "\n",
    "We are looking for $min\\vert \\frac{dE}{d\\ln\\eta}\\vert$, so use a $\\log\\eta$ scale."
   ]
  },
  {
   "cell_type": "code",
   "execution_count": 53,
   "metadata": {},
   "outputs": [
    {
     "name": "stdout",
     "output_type": "stream",
     "text": [
      "1 2 3 4 5 6 7 8 9 10 \n",
      "11 12 13 14 15 16 17 18 19 20 \n",
      "21 22 23 24 25 26 27 28 29 30 \n",
      "31 32 33 34 35 36 37 38 39 40 \n",
      "41 42 43 44 45 46 47 48 49 50 \n",
      "51 52 53 54 55 56 57 58 59 60 \n",
      "61 62 63 64 65 66 67 68 69 70 \n",
      "71 72 73 74 75 76 77 78 79 80 \n",
      "81 82 83 84 85 86 87 88 89 90 \n",
      "91 92 93 94 95 96 97 98 99 100 \n",
      "101 102 103 104 105 106 107 108 109 110 \n",
      "111 112 113 114 115 116 117 118 119 120 \n",
      "121 122 123 124 125 126 "
     ]
    }
   ],
   "source": [
    "n_keep=nEs\n",
    "log_eta_min=-5\n",
    "log_eta_max=0\n",
    "n_eta=25*(log_eta_max - log_eta_min)+1\n",
    "etas=np.logspace(log_eta_min, log_eta_max, num=n_eta)\n",
    "\n",
    "erdata = np.zeros((n_eta,n_keep), complex)  # array used to collect all theta-run data\n",
    "\n",
    "for i_eta in range(n_eta):\n",
    "    eta=etas[i_eta]\n",
    "    H_eta = T + V - 1j*eta*W\n",
    "    energies = eigvals(H_eta, b=S)\n",
    "    energies.sort()\n",
    "    erdata[i_eta,:] = energies[0:n_keep]\n",
    "    print(i_eta+1, end=\" \")\n",
    "    if (i_eta+1)%10==0:\n",
    "        print()\n",
    "\n",
    "erdata *= au2eV"
   ]
  },
  {
   "cell_type": "markdown",
   "metadata": {},
   "source": [
    "<br> Raw $\\eta$ trajectories"
   ]
  },
  {
   "cell_type": "code",
   "execution_count": 54,
   "metadata": {},
   "outputs": [],
   "source": [
    "plt.cla()\n",
    "for i in range(0, n_keep):\n",
    "    plt.plot(erdata[:,i].real,  erdata[:,i].imag, 'o')\n",
    "plt.xlim(0,6)\n",
    "plt.ylim(-0.5,0)\n",
    "plt.show()"
   ]
  },
  {
   "cell_type": "markdown",
   "metadata": {},
   "source": [
    "<br> Get the resonance trajectory by naive nearest follow"
   ]
  },
  {
   "cell_type": "code",
   "execution_count": 55,
   "metadata": {},
   "outputs": [],
   "source": [
    "follow=3.3\n",
    "es=np.zeros(n_eta,complex)\n",
    "\n",
    "for j in range(0,n_eta):\n",
    "    i = np.argmin(abs(erdata[j,:]-follow))\n",
    "    es[j] = erdata[j,i]\n",
    "    follow = es[j]\n",
    "plt.cla()\n",
    "plt.plot(es.real, es.imag, 'o-')\n",
    "plt.show()"
   ]
  },
  {
   "cell_type": "code",
   "execution_count": 56,
   "metadata": {},
   "outputs": [
    {
     "name": "stdout",
     "output_type": "stream",
     "text": [
      "Wrote Traj_GTO_unc_5.csv\n"
     ]
    }
   ],
   "source": [
    "df = pd.DataFrame({\"eta\": etas, \"ReE\":es.real, \"ImE\":es.imag})\n",
    "df.to_csv(fname, index=False)\n",
    "print('Wrote',fname)"
   ]
  },
  {
   "cell_type": "markdown",
   "metadata": {},
   "source": [
    "### Analyze with traj_analysis.ipynb"
   ]
  },
  {
   "cell_type": "code",
   "execution_count": null,
   "metadata": {},
   "outputs": [],
   "source": []
  }
 ],
 "metadata": {
  "kernelspec": {
   "display_name": "Python 3",
   "language": "python",
   "name": "python3"
  },
  "language_info": {
   "codemirror_mode": {
    "name": "ipython",
    "version": 3
   },
   "file_extension": ".py",
   "mimetype": "text/x-python",
   "name": "python",
   "nbconvert_exporter": "python",
   "pygments_lexer": "ipython3",
   "version": "3.8.8"
  }
 },
 "nbformat": 4,
 "nbformat_minor": 4
}
