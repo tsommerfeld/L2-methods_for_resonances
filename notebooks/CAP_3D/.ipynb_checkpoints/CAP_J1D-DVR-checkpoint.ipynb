{
 "cells": [
  {
   "cell_type": "code",
   "execution_count": 106,
   "metadata": {},
   "outputs": [],
   "source": [
    "import numpy as np\n",
    "import cmath\n",
    "from numpy.linalg import eig, eigvals\n",
    "import matplotlib\n",
    "import matplotlib.pyplot as plt\n",
    "matplotlib.use('Qt5Agg')\n",
    "%matplotlib qt5\n",
    "#import pandas as pd"
   ]
  },
  {
   "cell_type": "code",
   "execution_count": 3,
   "metadata": {},
   "outputs": [],
   "source": [
    "#\n",
    "#  extend path by location of the dvr package\n",
    "#\n",
    "import sys\n",
    "sys.path.append('/home/thomas/Current_Work/Jolanta-by-dvr/Python_libs')\n",
    "import dvr\n",
    "from jolanta import Jolanta_1Db\n",
    "#import read_write"
   ]
  },
  {
   "cell_type": "code",
   "execution_count": 4,
   "metadata": {},
   "outputs": [],
   "source": [
    "amu_to_au=1822.888486192\n",
    "au2cm=219474.63068\n",
    "au2eV=27.211386027\n",
    "Angs2Bohr=1.8897259886"
   ]
  },
  {
   "cell_type": "code",
   "execution_count": 5,
   "metadata": {},
   "outputs": [],
   "source": [
    "#\n",
    "#   reference result from complex scaling\n",
    "#\n",
    "#   jparam=(0.2, 0.8, 0.14):    Eres = (3.279526396851306-0.207971322889114j)\n",
    "#\n",
    "#   xmax   xcut   E0                                 Ecorr     \n",
    "#   25      10    3.271165,-0.212786 (3.17e-02)    3.303201,-0.180935 (6.64e-02)\n",
    "#   35      15    3.280801,-0.207480 (3.52e-03)    3.287364,-0.206996 (1.99e-02)\n",
    "#                 (eta_opt = 8e-4)"
   ]
  },
  {
   "cell_type": "code",
   "execution_count": 6,
   "metadata": {},
   "outputs": [],
   "source": [
    "#\n",
    "# Jolanata parameters a, b, c:\n",
    "#\n",
    "jparam=(0.2, 0.8, 0.14)"
   ]
  },
  {
   "cell_type": "code",
   "execution_count": 33,
   "metadata": {},
   "outputs": [],
   "source": [
    "def Vcap(x, xcut=10):\n",
    "    xabs = abs(x)\n",
    "    if xabs < xcut:\n",
    "        return 0\n",
    "    else:\n",
    "        return (xabs-xcut)**2"
   ]
  },
  {
   "cell_type": "code",
   "execution_count": 79,
   "metadata": {},
   "outputs": [
    {
     "name": "stdout",
     "output_type": "stream",
     "text": [
      "nGrid = 1050\n",
      "  1   -0.45067001 au =    -12.26336 eV\n",
      "  2    0.00521115 au =      0.14180 eV\n",
      "  3    0.00522621 au =      0.14221 eV\n",
      "  4    0.02076661 au =      0.56509 eV\n",
      "  5    0.02084659 au =      0.56726 eV\n",
      "  6    0.04638090 au =      1.26209 eV\n",
      "  7    0.04668467 au =      1.27035 eV\n",
      "  8    0.08107355 au =      2.20612 eV\n",
      "  9    0.08243828 au =      2.24326 eV\n",
      " 10    0.11483991 au =      3.12495 eV\n",
      " 11    0.12765665 au =      3.47371 eV\n",
      " 12    0.13665352 au =      3.71853 eV\n",
      " 13    0.18167855 au =      4.94373 eV\n",
      " 14    0.18680410 au =      5.08320 eV\n",
      " 15    0.24347945 au =      6.62541 eV\n",
      " 16    0.24991042 au =      6.80041 eV\n",
      " 17    0.31137285 au =      8.47289 eV\n"
     ]
    }
   ],
   "source": [
    "#\n",
    "#  compute DVR of T, V, and W\n",
    "#  then show the density of states\n",
    "#  in a potential + energy-levels plot\n",
    "#\n",
    "xmax=35\n",
    "xmin=-xmax   # grid from -xmin to xmax\n",
    "thresh = 7   # maximum energy for state in the plot in eV\n",
    "ppB = 15     # grid points per Bohr\n",
    "xcut=15\n",
    "\n",
    "nGrid=int((xmax-xmin)*ppB)\n",
    "print(\"nGrid = %d\" % nGrid)\n",
    "xs = dvr.DVRGrid(xmin, xmax, nGrid)\n",
    "Vs = Jolanta_1Db(xs, jparam)\n",
    "Ws=np.array([Vcap(xs[i], xcut=xcut) for i in range(nGrid)])\n",
    "Ts = dvr.KineticEnergy(1, xmin, xmax, nGrid)\n",
    "[energy, wf] = dvr.DVRDiag2(nGrid, Ts, Vs)\n",
    "\n",
    "n_ene=0\n",
    "for i in range(nGrid):\n",
    "    print(\"%3d  %12.8f au = %12.5f eV\" % (i+1, energy[i], energy[i]*au2eV))\n",
    "    n_ene += 1\n",
    "    if energy[i]*au2eV > thresh:\n",
    "        break\n",
    "\n",
    "# \"DVR normalization\", sum(wf[:,0]**2)\n",
    "# this is correct for plotting\n",
    "\n",
    "c=[\"orange\", \"blue\"]\n",
    "#h=float(xmax) / (nGrid+1.0)\n",
    "scale=150\n",
    "\n",
    "eta=1e-3\n",
    "plt.cla()\n",
    "plt.plot(xs,Vs*au2eV, '-', color=\"black\")\n",
    "plt.plot(xs,Ws*au2eV*eta, '-', color=\"green\")\n",
    "for i in range(n_ene):\n",
    "    plt.plot(xs, scale*wf[:,i]**2+energy[i]*au2eV, '-', color=c[i%len(c)])\n",
    "plt.ylim(energy[0]*au2eV-1, energy[n_ene-1]*au2eV+1)\n",
    "plt.xlabel('$x$ [Bohr]')\n",
    "plt.ylabel('$E$ [eV]')\n",
    "plt.show()"
   ]
  },
  {
   "cell_type": "code",
   "execution_count": 80,
   "metadata": {},
   "outputs": [
    {
     "name": "stdout",
     "output_type": "stream",
     "text": [
      "eta = 0.001000\n"
     ]
    },
    {
     "data": {
      "text/plain": [
       "array([-12.26335568-9.18800837e-14j,   0.40611433-1.37979330e-01j,\n",
       "         0.40817055-1.39413885e-01j,   1.44384008-5.85487721e-01j,\n",
       "         1.45004202-6.00993944e-01j,   2.54551121-5.97858952e+00j,\n",
       "         2.54551122-5.97858953e+00j,   2.67550318-1.33421462e+00j,\n",
       "         2.71416649-1.29666023e+00j,   3.27948048-2.07643154e-01j,\n",
       "         3.75091516-2.52806928e+00j,   3.75447401-2.54419395e+00j,\n",
       "         4.49410717-2.11496051e+00j,   4.60390933-2.10796872e+00j,\n",
       "         6.35782466-2.09030583e+00j,   6.49818511-2.13918869e+00j,\n",
       "         8.29878718-2.00976045e+00j,   8.53245671-2.13592731e+00j,\n",
       "        10.29064057-1.87535784e+00j,  10.74836464-2.11431213e+00j,\n",
       "        12.28316472-1.80173798e+00j,  13.15315577-2.08979564e+00j,\n",
       "        14.47092423-1.89020931e+00j,  15.73577454-2.06218977e+00j,\n",
       "        17.00591869-1.98813857e+00j,  18.49676592-2.04446648e+00j,\n",
       "        19.82832536-2.03683807e+00j,  21.44939179-2.03691217e+00j,\n",
       "        22.89879065-2.05763715e+00j,  24.60628177-2.03886932e+00j])"
      ]
     },
     "execution_count": 80,
     "metadata": {},
     "output_type": "execute_result"
    }
   ],
   "source": [
    "\"\"\" complex diagonalization example \"\"\"\n",
    "\n",
    "eta=8e-4  # eta_opt for xmax=35, xcut=15\n",
    "print(\"eta = %f\" % (eta))\n",
    "H_eta = Ts + np.diag(Vs) - 1j*eta*np.diag(Ws)\n",
    "energies = eigvals(H_eta)\n",
    "energies.sort()\n",
    "plt.cla()\n",
    "plt.plot(energies.real*au2eV, energies.imag*au2eV, 'o')\n",
    "plt.xlim(-1,10)\n",
    "plt.ylim(-1.0,0.1)\n",
    "plt.show()\n",
    "energies[:30]*au2eV"
   ]
  },
  {
   "cell_type": "code",
   "execution_count": 82,
   "metadata": {},
   "outputs": [
    {
     "name": "stdout",
     "output_type": "stream",
     "text": [
      "1 2 3 4 5 6 7 8 9 10 \n",
      "11 12 13 14 15 16 17 18 19 20 \n",
      "21 22 23 24 25 26 27 28 29 30 \n",
      "31 32 33 34 35 36 37 38 39 40 \n",
      "41 42 43 44 45 46 47 48 49 50 \n",
      "51 52 53 54 55 56 57 58 59 60 \n",
      "61 62 63 64 65 66 67 68 69 70 \n",
      "71 72 73 74 75 "
     ]
    }
   ],
   "source": [
    "#\n",
    "#  eta loop: \n",
    "#\n",
    "\n",
    "n_keep=30\n",
    "log_eta_min=-6\n",
    "log_eta_max=-1\n",
    "n_eta=15*(log_eta_max - log_eta_min)\n",
    "etas=np.logspace(log_eta_min, log_eta_max, num=n_eta)\n",
    "\n",
    "erdata = np.zeros((n_eta,n_keep), complex)  # array used to collect all theta-run data\n",
    "\n",
    "for i_eta in range(n_eta):\n",
    "    eta=etas[i_eta]\n",
    "    H_eta = Ts + np.diag(Vs) - 1j*eta*np.diag(Ws)\n",
    "    energies = eigvals(H_eta)\n",
    "    energies.sort()\n",
    "    erdata[i_eta,:] = energies[0:n_keep]\n",
    "    print(i_eta+1, end=\" \")\n",
    "    if (i_eta+1)%10==0:\n",
    "        print()\n",
    "\n",
    "erdata *= au2eV"
   ]
  },
  {
   "cell_type": "code",
   "execution_count": 83,
   "metadata": {},
   "outputs": [],
   "source": [
    "#\n",
    "# useful piece of the complex plane \n",
    "# (if unknown, plot all and zoom with matplotlib)\n",
    "#\n",
    "plt.cla()\n",
    "for i in range(0, n_keep):\n",
    "    plt.plot(erdata[:,i].real,  erdata[:,i].imag, 'o')\n",
    "plt.xlim(-1,10)\n",
    "plt.ylim(-1,0)\n",
    "plt.show()"
   ]
  },
  {
   "cell_type": "code",
   "execution_count": 84,
   "metadata": {},
   "outputs": [],
   "source": [
    "#\n",
    "#  get trajectory\n",
    "#\n",
    "follow=3.12\n",
    "es=np.zeros(n_eta,complex)\n",
    "\n",
    "for j in range(0,n_eta):\n",
    "    i = np.argmin(abs(erdata[j,:]-follow))\n",
    "    es[j] = erdata[j,i]\n",
    "    follow = es[j]\n",
    "plt.cla()\n",
    "plt.plot(es.real, es.imag, 'o-')\n",
    "plt.show()"
   ]
  },
  {
   "cell_type": "code",
   "execution_count": null,
   "metadata": {},
   "outputs": [],
   "source": []
  },
  {
   "cell_type": "code",
   "execution_count": 85,
   "metadata": {},
   "outputs": [],
   "source": [
    "#\n",
    "#  compute first and second derivative\n",
    "#\n",
    "ders=np.zeros(n_eta, complex)\n",
    "corrs=np.zeros(n_eta, complex)\n",
    "for i in range(1,n_eta-1):\n",
    "    ders[i] = etas[i]*(es[i+1]-es[i-1])/(etas[i+1]-etas[i-1])\n",
    "    corrs[i] = es[i] - ders[i]\n",
    "    #print i, etas[i], es[i], ders[i] \n",
    "secders=np.zeros(n_eta)\n",
    "for i in range(2,n_eta-2):\n",
    "    secders[i] = np.abs( etas[i]*(corrs[i+1]-corrs[i-1])/(etas[i+1]-etas[i-1]) )\n",
    "    #print i, etas[i], es[i], ders[i]\n",
    "ders[0]=ders[1]\n",
    "ders[-1]=ders[-2]\n",
    "corrs[0] = es[0] - ders[0]\n",
    "corrs[-1] = es[-1] - ders[-1]\n",
    "secders[0]=secders[1]=secders[2]\n",
    "secders[-1]=secders[-2]=secders[-3]\n",
    "    \n",
    "plt.cla()\n",
    "plt.plot(etas, secders, 'o-', color=\"brown\")\n",
    "plt.plot(etas, abs(ders), 'o-', color=\"blue\")\n",
    "plt.xscale(\"log\")\n",
    "plt.show()"
   ]
  },
  {
   "cell_type": "code",
   "execution_count": 86,
   "metadata": {},
   "outputs": [
    {
     "name": "stdout",
     "output_type": "stream",
     "text": [
      " 0 1.00e-06 3.124954,-0.000993 1.16e-03  3.124951,0.000167 3.67e-06\n",
      " 1 1.17e-06 3.124954,-0.001161 1.16e-03  3.124952,-0.000000 3.67e-06\n",
      " 2 1.37e-06 3.124955,-0.001356 1.36e-03  3.124951,-0.000000 3.67e-06\n",
      " 3 1.59e-06 3.124955,-0.001584 1.58e-03  3.124951,-0.000000 5.01e-06\n",
      " 4 1.86e-06 3.124956,-0.001851 1.85e-03  3.124950,-0.000000 6.84e-06\n",
      " 5 2.18e-06 3.124958,-0.002162 2.16e-03  3.124948,-0.000000 9.34e-06\n",
      " 6 2.54e-06 3.124959,-0.002526 2.53e-03  3.124947,-0.000000 1.28e-05\n",
      " 7 2.97e-06 3.124961,-0.002952 2.95e-03  3.124944,-0.000000 1.74e-05\n",
      " 8 3.47e-06 3.124965,-0.003449 3.45e-03  3.124941,-0.000000 2.38e-05\n",
      " 9 4.06e-06 3.124969,-0.004029 4.03e-03  3.124937,-0.000000 3.24e-05\n",
      "10 4.74e-06 3.124974,-0.004707 4.71e-03  3.124931,-0.000000 4.43e-05\n",
      "11 5.54e-06 3.124982,-0.005500 5.50e-03  3.124923,-0.000001 6.05e-05\n",
      "12 6.47e-06 3.124993,-0.006425 6.42e-03  3.124912,-0.000001 8.26e-05\n",
      "13 7.56e-06 3.125007,-0.007507 7.51e-03  3.124897,-0.000001 1.13e-04\n",
      "14 8.83e-06 3.125027,-0.008770 8.77e-03  3.124877,-0.000002 1.54e-04\n",
      "15 1.03e-05 3.125054,-0.010246 1.02e-02  3.124849,-0.000004 2.11e-04\n",
      "16 1.21e-05 3.125091,-0.011970 1.20e-02  3.124811,-0.000006 2.88e-04\n",
      "17 1.41e-05 3.125142,-0.013984 1.40e-02  3.124760,-0.000009 3.94e-04\n",
      "18 1.65e-05 3.125211,-0.016336 1.63e-02  3.124689,-0.000015 5.39e-04\n",
      "19 1.92e-05 3.125305,-0.019083 1.91e-02  3.124592,-0.000023 7.38e-04\n",
      "20 2.25e-05 3.125433,-0.022290 2.23e-02  3.124459,-0.000037 1.01e-03\n",
      "21 2.62e-05 3.125609,-0.026035 2.60e-02  3.124277,-0.000059 1.39e-03\n",
      "22 3.07e-05 3.125850,-0.030406 3.04e-02  3.124028,-0.000095 1.92e-03\n",
      "23 3.58e-05 3.126178,-0.035505 3.54e-02  3.123685,-0.000151 2.65e-03\n",
      "24 4.18e-05 3.126628,-0.041451 4.13e-02  3.123213,-0.000242 3.68e-03\n",
      "25 4.89e-05 3.127246,-0.048379 4.82e-02  3.122560,-0.000389 5.14e-03\n",
      "26 5.71e-05 3.128092,-0.056444 5.62e-02  3.121653,-0.000624 7.23e-03\n",
      "27 6.67e-05 3.129257,-0.065818 6.54e-02  3.120387,-0.001006 1.03e-02\n",
      "28 7.80e-05 3.130864,-0.076692 7.61e-02  3.118605,-0.001627 1.48e-02\n",
      "29 9.11e-05 3.133087,-0.089269 8.83e-02  3.116073,-0.002649 2.16e-02\n",
      "30 1.06e-04 3.136179,-0.103754 1.02e-01  3.112434,-0.004348 3.22e-02\n",
      "31 1.24e-04 3.140506,-0.120325 1.18e-01  3.107131,-0.007231 4.91e-02\n",
      "32 1.45e-04 3.146606,-0.139086 1.35e-01  3.099298,-0.012262 7.71e-02\n",
      "33 1.70e-04 3.155286,-0.159947 1.54e-01  3.087657,-0.021416 1.25e-01\n",
      "34 1.98e-04 3.167735,-0.182366 1.73e-01  3.070811,-0.039032 2.08e-01\n",
      "35 2.32e-04 3.185566,-0.204727 1.88e-01  3.050180,-0.074482 3.35e-01\n",
      "36 2.71e-04 3.210032,-0.223057 1.88e-01  3.041812,-0.139588 4.68e-01\n",
      "37 3.16e-04 3.238121,-0.230804 1.61e-01  3.077517,-0.217966 5.25e-01\n",
      "38 3.69e-04 3.260207,-0.227068 1.15e-01  3.150618,-0.262279 4.64e-01\n",
      "39 4.32e-04 3.272359,-0.219804 7.09e-02  3.215503,-0.262095 3.31e-01\n",
      "40 5.04e-04 3.277970,-0.213855 4.02e-02  3.252689,-0.245059 2.07e-01\n",
      "41 5.89e-04 3.280257,-0.210055 2.07e-02  3.270712,-0.228461 1.25e-01\n",
      "42 6.88e-04 3.280952,-0.208105 8.42e-03  3.279210,-0.216347 7.46e-02\n",
      "43 8.04e-04 3.280801,-0.207480 3.52e-03  3.283867,-0.209208 3.97e-02\n",
      "44 9.40e-04 3.279994,-0.207565 7.39e-03  3.287364,-0.206996 1.99e-02\n",
      "45 1.10e-03 3.278499,-0.207658 1.17e-02  3.290090,-0.209399 2.91e-02\n",
      "46 1.28e-03 3.276373,-0.207021 1.67e-02  3.290819,-0.215405 4.38e-02\n",
      "47 1.50e-03 3.273986,-0.205039 2.27e-02  3.287917,-0.222913 5.42e-02\n",
      "48 1.75e-03 3.272021,-0.201437 2.90e-02  3.280843,-0.229072 6.11e-02\n",
      "49 2.05e-03 3.271229,-0.196405 3.51e-02  3.270860,-0.231471 6.57e-02\n",
      "50 2.39e-03 3.272136,-0.190482 4.05e-02  3.260316,-0.229214 6.82e-02\n",
      "51 2.79e-03 3.274922,-0.184304 4.53e-02  3.251350,-0.222937 6.87e-02\n",
      "52 3.26e-03 3.279500,-0.178413 4.95e-02  3.245160,-0.214024 6.79e-02\n",
      "53 3.81e-03 3.285650,-0.173179 5.33e-02  3.242051,-0.203872 6.64e-02\n",
      "54 4.45e-03 3.293122,-0.168823 5.70e-02  3.241789,-0.193548 6.47e-02\n",
      "55 5.20e-03 3.301688,-0.165455 6.06e-02  3.243921,-0.183744 6.30e-02\n",
      "56 6.08e-03 3.311169,-0.163110 6.43e-02  3.247963,-0.174856 6.15e-02\n",
      "57 7.10e-03 3.321434,-0.161785 6.82e-02  3.253482,-0.167086 6.02e-02\n",
      "58 8.30e-03 3.332398,-0.161453 7.23e-02  3.260121,-0.160513 5.92e-02\n",
      "59 9.69e-03 3.344015,-0.162078 7.67e-02  3.267603,-0.155154 5.85e-02\n",
      "60 1.13e-02 3.356270,-0.163617 8.15e-02  3.275719,-0.150995 5.82e-02\n",
      "61 1.32e-02 3.369180,-0.166021 8.67e-02  3.284321,-0.148018 5.84e-02\n",
      "62 1.55e-02 3.382782,-0.169241 9.24e-02  3.293311,-0.146208 5.92e-02\n",
      "63 1.81e-02 3.397132,-0.173217 9.85e-02  3.302639,-0.145569 6.08e-02\n",
      "64 2.11e-02 3.412303,-0.177879 1.05e-01  3.312302,-0.146118 6.35e-02\n",
      "65 2.47e-02 3.428375,-0.183140 1.12e-01  3.322347,-0.147888 6.76e-02\n",
      "66 2.88e-02 3.445428,-0.188893 1.19e-01  3.332877,-0.150913 7.33e-02\n",
      "67 3.37e-02 3.463537,-0.195005 1.26e-01  3.344048,-0.155215 8.07e-02\n",
      "68 3.93e-02 3.482758,-0.201324 1.33e-01  3.356072,-0.160775 8.96e-02\n",
      "69 4.59e-02 3.503117,-0.207674 1.40e-01  3.369193,-0.167514 9.98e-02\n",
      "70 5.37e-02 3.524598,-0.213870 1.46e-01  3.383663,-0.175269 1.11e-01\n",
      "71 6.27e-02 3.547147,-0.219733 1.52e-01  3.399696,-0.183796 1.22e-01\n",
      "72 7.33e-02 3.570664,-0.225098 1.57e-01  3.417439,-0.192781 1.33e-01\n",
      "73 8.56e-02 3.595017,-0.229830 1.61e-01  3.436939,-0.201877 1.33e-01\n",
      "74 1.00e-01 3.620051,-0.233831 1.61e-01  3.461973,-0.205878 1.33e-01\n"
     ]
    }
   ],
   "source": [
    "for i in range(n_eta):\n",
    "    print(\"{0:2d} {1:8.2e} {2:8.6f},{3:8.6f} {4:8.2e}  {5:8.6f},{6:8.6f} {7:8.2e}\".format(i, etas[i], es[i].real, es[i].imag, abs(ders[i]), corrs[i].real, corrs[i].imag, secders[i]))"
   ]
  },
  {
   "cell_type": "markdown",
   "metadata": {},
   "source": [
    "### Now get the complex wavefunction for plotting"
   ]
  },
  {
   "cell_type": "code",
   "execution_count": 100,
   "metadata": {},
   "outputs": [
    {
     "name": "stdout",
     "output_type": "stream",
     "text": [
      "(3.280817322145642-0.20748619666522836j)\n"
     ]
    }
   ],
   "source": [
    "eta=  # eta_opt for xmax=35, xcut=15\n",
    "Eres=3.28-1j*0.207\n",
    "H_eta = Ts + np.diag(Vs) - 1j*eta*np.diag(Ws)\n",
    "energies, wfs = eig(H_eta)\n",
    "energies*=au2eV\n",
    "i_res=np.argmin(abs(energies-Eres))\n",
    "print(energies[i_res])\n",
    "wf=wfs[:,i_res]"
   ]
  },
  {
   "cell_type": "code",
   "execution_count": 116,
   "metadata": {},
   "outputs": [],
   "source": [
    "plt.cla()\n",
    "plt.plot(xs, wf.real, '-')\n",
    "plt.plot(xs, wf.imag, '-')\n",
    "plt.show()"
   ]
  },
  {
   "cell_type": "code",
   "execution_count": 117,
   "metadata": {},
   "outputs": [],
   "source": [
    "plt.cla()\n",
    "plt.plot(xs, 10*abs(wf), '-')\n",
    "plt.plot(xs, np.angle(wf), '-')\n",
    "plt.show()"
   ]
  },
  {
   "cell_type": "code",
   "execution_count": null,
   "metadata": {},
   "outputs": [],
   "source": []
  }
 ],
 "metadata": {
  "kernelspec": {
   "display_name": "Python 3",
   "language": "python",
   "name": "python3"
  },
  "language_info": {
   "codemirror_mode": {
    "name": "ipython",
    "version": 3
   },
   "file_extension": ".py",
   "mimetype": "text/x-python",
   "name": "python",
   "nbconvert_exporter": "python",
   "pygments_lexer": "ipython3",
   "version": "3.6.9"
  }
 },
 "nbformat": 4,
 "nbformat_minor": 4
}
