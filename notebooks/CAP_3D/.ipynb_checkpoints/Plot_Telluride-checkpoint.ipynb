{
 "cells": [
  {
   "cell_type": "code",
   "execution_count": 1,
   "metadata": {},
   "outputs": [],
   "source": [
    "import numpy as np\n",
    "#import cmath\n",
    "#from numpy.linalg import eig, eigvals\n",
    "import matplotlib\n",
    "import matplotlib.pyplot as plt\n",
    "matplotlib.use('Qt5Agg')\n",
    "%matplotlib qt5\n",
    "import pandas as pd"
   ]
  },
  {
   "cell_type": "code",
   "execution_count": 2,
   "metadata": {},
   "outputs": [],
   "source": [
    "import sys\n",
    "sys.path.append('../../Python_libs')\n",
    "import dvr\n",
    "from jolanta import Jolanta_3D\n",
    "import captools as ct"
   ]
  },
  {
   "cell_type": "code",
   "execution_count": 3,
   "metadata": {},
   "outputs": [],
   "source": [
    "amu_to_au=1822.888486192\n",
    "au2cm=219474.63068\n",
    "au2eV=27.211386027\n",
    "Angs2Bohr=1.8897259886"
   ]
  },
  {
   "cell_type": "code",
   "execution_count": 4,
   "metadata": {},
   "outputs": [],
   "source": [
    "#\n",
    "# Jolanata-3D parameters a, b, c: (0.028, 1.0, 0.028)\n",
    "#\n",
    "#   CS-DVR:   \n",
    "#      bound state:  -7.17051 eV\n",
    "#      resonance (3.1729556 - 0.16085j) eV\n",
    "#\n",
    "jparam=(0.028, 1.0, 0.028)"
   ]
  },
  {
   "cell_type": "code",
   "execution_count": 5,
   "metadata": {},
   "outputs": [],
   "source": [
    "def Vcap(x, xcut=10):\n",
    "    xabs = abs(x)\n",
    "    if xabs < xcut:\n",
    "        return 0\n",
    "    else:\n",
    "        return (xabs-xcut)**2"
   ]
  },
  {
   "cell_type": "code",
   "execution_count": 6,
   "metadata": {},
   "outputs": [
    {
     "name": "stdout",
     "output_type": "stream",
     "text": [
      " -0.26351131 au =     -7.17051 eV\n"
     ]
    }
   ],
   "source": [
    "xmax=30\n",
    "xmin=0   # grid from -xmin to xmax\n",
    "ppB = 15     # grid points per Bohr\n",
    "xcut1=15\n",
    "xcut2=7\n",
    "nGrid=int((xmax-xmin)*ppB)\n",
    "scale=200\n",
    "\n",
    "xs = dvr.DVRGrid(xmin, xmax, nGrid)\n",
    "Vs = Jolanta_3D(xs, jparam)\n",
    "W1s=np.array([Vcap(xs[i], xcut=xcut1) for i in range(nGrid)])\n",
    "W2s=np.array([Vcap(xs[i], xcut=xcut2) for i in range(nGrid)])\n",
    "Ts = dvr.KineticEnergy(1, xmin, xmax, nGrid)\n",
    "[energy, wf] = dvr.DVRDiag2(nGrid, Ts, Vs, wf=True)\n",
    "E0=energy[0]*au2eV\n",
    "print(\"%12.8f au = %12.5f eV\" % (energy[0], E0))\n",
    "\n",
    "\n",
    "dens0=scale*wf[:,0]**2+E0\n",
    "dens4=scale*wf[:,4]**2+energy[4]*au2eV\n",
    "\n",
    "\n",
    "eta=2e-3\n",
    "plt.cla()\n",
    "plt.plot(xs,Vs*au2eV, '-', color=\"darkblue\")\n",
    "#plt.plot(xs,W1s*au2eV*eta, '-', color=\"green\")\n",
    "plt.plot(xs[:nGrid//4], dens0[:nGrid//4], '-', color=\"brown\")\n",
    "plt.plot(xs[:nGrid], dens4[:nGrid], '-', color=\"brown\")\n",
    "plt.ylim(-15, 10)\n",
    "plt.xlabel('$r$ [Bohr]')\n",
    "plt.ylabel('$E$ [eV]  and  $s \\cdot |u(r)|^2$')\n",
    "plt.show()"
   ]
  },
  {
   "cell_type": "code",
   "execution_count": 7,
   "metadata": {},
   "outputs": [],
   "source": [
    "df = pd.read_csv('Traj_DVR_30.csv')\n",
    "etas=df['eta'].values\n",
    "e_dvr=df['ReE'].values  + 1j*df['ImE'].values\n",
    "corr_dvr, absd1, absd2 = ct.trajectory_derivatives(etas, e_dvr)"
   ]
  },
  {
   "cell_type": "code",
   "execution_count": 8,
   "metadata": {},
   "outputs": [],
   "source": [
    "df = pd.read_csv('Traj_GTO_TZ_7.csv')\n",
    "etas=df['eta'].values\n",
    "e_gto=df['ReE'].values  + 1j*df['ImE'].values\n",
    "corr_gto, absd1, absd2 = ct.trajectory_derivatives(etas, e_gto)"
   ]
  },
  {
   "cell_type": "code",
   "execution_count": 11,
   "metadata": {},
   "outputs": [],
   "source": [
    "plot1 = plt.subplot2grid((2, 2), (0, 0), rowspan=2)\n",
    "plot2 = plt.subplot2grid((2, 2), (0, 1))\n",
    "plot3 = plt.subplot2grid((2, 2), (1, 1))\n",
    "plot1.set_ylim((-15,10))\n",
    "#plot2.set_ylim((0,6))\n",
    "#plot3.set_ylim((1,5))\n",
    "\n",
    "plot1.set_xlabel(\"$r$ [Bohr]\", fontsize=12)\n",
    "plot1.set_ylabel(\"$E$ [eV]\", fontsize=12)\n",
    "plot1.plot(xs,Vs*au2eV, '-', color=\"darkblue\")\n",
    "plot1.plot(xs,W1s*au2eV*eta, '-', color=\"green\")\n",
    "plot1.plot(xs,W2s*au2eV*eta, '-', color=\"purple\")\n",
    "plot1.text(23.5,1.5,\"W(DVR)\", color='green')\n",
    "plot1.text(14.5,8.5,\"W(GTO)\", color='purple')\n",
    "\n",
    "plot2.plot(e_dvr.real, e_dvr.imag, '.', color=\"blue\")\n",
    "plot2.plot(corr_dvr.real, corr_dvr.imag, '.', color=\"brown\")\n",
    "plot2.text(2.93,-0.35,\"$E(0)$\", color='blue')\n",
    "plot2.text(2.93,-0.41,\"$E(1)$\", color='brown')\n",
    "plot2.text(2.93,-0.07,\"DVR\", fontsize=12)\n",
    "plot2.set_ylabel(\"$E_i$ [eV]\", fontsize=12)\n",
    "plot2.set_ylim((-0.49,0))\n",
    "plot2.set_xlim((2.88,3.70))\n",
    "\n",
    "\n",
    "plot3.plot(e_gto.real, e_gto.imag, '.', color=\"blue\")\n",
    "plot3.plot(corr_gto.real, corr_gto.imag, '.', color=\"brown\")\n",
    "plot3.text(2.93,-0.35,\"$E(0)$\", color='blue')\n",
    "plot3.text(2.93,-0.41,\"$E(1)$\", color='brown')\n",
    "plot3.text(3.5,-0.07,\"TZ\", fontsize=12)\n",
    "plot3.set_ylabel(\"$E_i$ [eV]\", fontsize=12)\n",
    "plot3.set_xlabel(\"$E_r$ [eV]\", fontsize=12)\n",
    "plot3.set_ylim((-0.49,0))\n",
    "plot3.set_xlim((2.88,3.70))\n",
    "\n",
    "plt.tight_layout()\n",
    "plt.show()"
   ]
  },
  {
   "cell_type": "code",
   "execution_count": null,
   "metadata": {},
   "outputs": [],
   "source": []
  }
 ],
 "metadata": {
  "kernelspec": {
   "display_name": "Python 3",
   "language": "python",
   "name": "python3"
  },
  "language_info": {
   "codemirror_mode": {
    "name": "ipython",
    "version": 3
   },
   "file_extension": ".py",
   "mimetype": "text/x-python",
   "name": "python",
   "nbconvert_exporter": "python",
   "pygments_lexer": "ipython3",
   "version": "3.8.8"
  }
 },
 "nbformat": 4,
 "nbformat_minor": 4
}
