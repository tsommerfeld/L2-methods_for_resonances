{
 "cells": [
  {
   "cell_type": "markdown",
   "metadata": {},
   "source": [
    "## Complex absorbing potentials\n",
    "Old:\n",
    "1. Doesn't use the GBR class.\n",
    "2. Only uncontracted GTO sets."
   ]
  },
  {
   "cell_type": "code",
   "execution_count": 1,
   "metadata": {},
   "outputs": [],
   "source": [
    "import numpy as np\n",
    "from scipy.linalg import eig, eigh, eigvals, eigvalsh\n",
    "import matplotlib\n",
    "import matplotlib.pyplot as plt\n",
    "matplotlib.use('Qt5Agg')\n",
    "%matplotlib qt5\n",
    "import pandas as pd"
   ]
  },
  {
   "cell_type": "code",
   "execution_count": 2,
   "metadata": {},
   "outputs": [],
   "source": [
    "import sys\n",
    "sys.path.append('../../Python_libs')\n",
    "import captools as ct\n",
    "from GTO_basis import Jolanta_3D_PNorm, Jolanta_3D_GTO, Jolanta_3D_Wcap\n",
    "from GTO_basis import Jolanta_GTO_H, Jolanta_GTO_W\n",
    "from GTO_basis import Eval_GTO_wf_3D\n",
    "from jolanta import Jolanta_3D"
   ]
  },
  {
   "cell_type": "code",
   "execution_count": 3,
   "metadata": {},
   "outputs": [],
   "source": [
    "amu_to_au=1822.888486192\n",
    "au2cm=219474.63068\n",
    "au2eV=27.211386027\n",
    "Angs2Bohr=1.8897259886"
   ]
  },
  {
   "cell_type": "code",
   "execution_count": 5,
   "metadata": {},
   "outputs": [],
   "source": [
    "#\n",
    "# Jolanata parameters a, b, c:\n",
    "#\n",
    "#   CS-DVR:   \n",
    "#      bound state:  -7.17051 eV\n",
    "#      resonance (3.1729556 - 0.16085j) eV\n",
    "#\n",
    "jparam=(0.028, 1.0, 0.028)"
   ]
  },
  {
   "cell_type": "markdown",
   "metadata": {},
   "source": [
    "* Create a GTO basis set $[\\alpha_0, \\alpha_1, ...]$ and $[N_0, N_1, ...]$\n",
    "* Build **S**, **T**, and **V**\n",
    "* Diagonalize **H**\n",
    "* Compare $E_0$ to DVR: $E_0^{DVR}$ = -7.17051 eV"
   ]
  },
  {
   "cell_type": "code",
   "execution_count": 6,
   "metadata": {},
   "outputs": [
    {
     "name": "stdout",
     "output_type": "stream",
     "text": [
      "GTO2\n"
     ]
    }
   ],
   "source": [
    "sets=['GTO1', 'GTO2', 'GTO3']\n",
    "bas = sets[1]\n",
    "print(bas)\n",
    "if bas == 'GTO1':\n",
    "    \"\"\" val: (4, 1.6e-2); last = 2.8e-3\"\"\"\n",
    "    nval=6\n",
    "    a0=4\n",
    "    s=3\n",
    "    ndiff=3\n",
    "    s_diff=1.4\n",
    "elif bas == 'GTO2':\n",
    "    \"\"\" val: (16, 1.45e-3); last = 1.8e-3\"\"\"\n",
    "    nval=9\n",
    "    a0=16.0\n",
    "    s=2.4\n",
    "    ndiff=4\n",
    "    s_diff=1.4\n",
    "elif bas == 'GTO3':\n",
    "    \"\"\" (16, 1.56e-3); last = 1.9e-3\"\"\"\n",
    "    nval=11\n",
    "    a0=16.0\n",
    "    s=2\n",
    "    ndiff=4\n",
    "    s_diff=1.4\n",
    "else:\n",
    "    print('No such basis.')"
   ]
  },
  {
   "cell_type": "markdown",
   "metadata": {},
   "source": [
    "### valence set"
   ]
  },
  {
   "cell_type": "code",
   "execution_count": 8,
   "metadata": {},
   "outputs": [
    {
     "name": "stdout",
     "output_type": "stream",
     "text": [
      "E0= -7.1601005205039465\n",
      "       alpha          c_gs[alpha]   1/sqrt(alpha)  Norm\n",
      "   1.60000000e+01     4.4595e-04    2.5000e-01    9.3354e+01\n",
      "   6.66666667e+00    -2.0869e-03    3.8730e-01    3.1251e+01\n",
      "   2.77777778e+00     6.7929e-03    6.0000e-01    1.0462e+01\n",
      "   1.15740741e+00    -2.0348e-02    9.2952e-01    3.5022e+00\n",
      "   4.82253086e-01     6.3852e-02    1.4400e+00    1.1724e+00\n",
      "   2.00938786e-01    -5.1407e-01    2.2308e+00    3.9248e-01\n",
      "   8.37244942e-02    -6.2074e-01    3.4560e+00    1.3139e-01\n",
      "   3.48852059e-02     7.8403e-02    5.3540e+00    4.3983e-02\n",
      "   1.45355025e-02    -3.1919e-02    8.2944e+00    1.4724e-02\n"
     ]
    }
   ],
   "source": [
    "alpha_val=[a0]\n",
    "for i in range(nval-1):\n",
    "    alpha_val.append(alpha_val[-1]/s)\n",
    "N_val=[]\n",
    "for a in alpha_val:\n",
    "    N_val.append(Jolanta_3D_PNorm(a))\n",
    "S, T, V = Jolanta_GTO_H(alpha_val, N_val, jparam)\n",
    "Es, cs = eigh(T+V, b=S)\n",
    "\n",
    "print(\"E0=\", Es[0]*au2eV)\n",
    "print(\"       alpha          c_gs[alpha]   1/sqrt(alpha)  Norm\")\n",
    "for i, a in enumerate(alpha_val):\n",
    "    print(\"%17.8e    %11.4e    %10.4e    %10.4e\" % (a, cs[i,0], np.sqrt(1/a), N_val[i]))"
   ]
  },
  {
   "cell_type": "markdown",
   "metadata": {},
   "source": [
    "### Extend the basis by a diffuse set to be scaled"
   ]
  },
  {
   "cell_type": "code",
   "execution_count": 9,
   "metadata": {},
   "outputs": [
    {
     "name": "stdout",
     "output_type": "stream",
     "text": [
      "       alpha                   1/sqrt(alpha)            Norm\n",
      "    4.8451674867e-03        1.4366322218e+01        3.7292404423e-03\n",
      "    3.4608339191e-03        1.6998461687e+01        2.4488396065e-03\n",
      "    2.4720242279e-03        2.0112851106e+01        1.6080527687e-03\n",
      "    1.7657315914e-03        2.3797846361e+01        1.0559424554e-03\n"
     ]
    }
   ],
   "source": [
    "alpha_diff, N_diff = [], []\n",
    "if ndiff > 0:\n",
    "    alpha_diff.append(alpha_val[-1]/3)\n",
    "    for i in range(ndiff-1):\n",
    "        alpha_diff.append(alpha_diff[-1]/s_diff)\n",
    "print(\"       alpha                   1/sqrt(alpha)            Norm\")\n",
    "for a in alpha_diff:\n",
    "    N_diff.append(Jolanta_3D_PNorm(a))\n",
    "    print(\"%20.10e    %20.10e    %20.10e\" % (a, np.sqrt(1/a), N_diff[-1]))"
   ]
  },
  {
   "cell_type": "code",
   "execution_count": 10,
   "metadata": {},
   "outputs": [
    {
     "name": "stdout",
     "output_type": "stream",
     "text": [
      "min(S) = 9.187877228164081e-05\n",
      "[-7.16153827  0.07417491  0.2552666   0.60380346  1.51003955  3.19052226]\n"
     ]
    }
   ],
   "source": [
    "alphas = alpha_val + alpha_diff\n",
    "Ns = N_val + N_diff\n",
    "S, T, V = Jolanta_GTO_H(alphas, Ns, jparam)\n",
    "Seig = eigvalsh(S)\n",
    "Es, cs = eigh(T+V, b=S)\n",
    "Es*au2eV\n",
    "print('min(S) =', min(Seig))\n",
    "print(Es[:6]*au2eV)\n",
    "\n",
    "# xmax=25\n",
    "# xs=np.linspace(0.1,xmax,200)\n",
    "# Vs=Jolanta_3D(xs, jparam)\n",
    "# Ws=\n",
    "# scale=10\n",
    "# Emax=9 #eV\n",
    "# plt.cla()\n",
    "# plt.plot(xs,Vs*au2eV, '-', color=\"blue\")\n",
    "# for i in range(len(alphas)):\n",
    "#     if Es[i]*au2eV > Emax:\n",
    "#         break\n",
    "#     ys=Eval_GTO_wf_3D(alphas, Ns, cs[:,i], xs, u=True)\n",
    "#     plt.plot(xs,scale*ys**2+Es[i]*au2eV, '-')\n",
    "        \n",
    "# plt.ylim(0,Emax+1)\n",
    "# plt.show()"
   ]
  },
  {
   "cell_type": "markdown",
   "metadata": {},
   "source": [
    "### CAP"
   ]
  },
  {
   "cell_type": "code",
   "execution_count": 11,
   "metadata": {},
   "outputs": [
    {
     "data": {
      "text/plain": [
       "array([ 0.00000000e+000, -6.57462475e-285, -3.32988426e-119,\n",
       "       -4.75214833e-050, -4.00077033e-021,  1.34003490e-008,\n",
       "        2.38223502e-003,  5.94001532e-001,  1.04852151e+001,\n",
       "        9.29293548e+001,  1.56971243e+002,  2.55082430e+002,\n",
       "        4.02472284e+002])"
      ]
     },
     "execution_count": 11,
     "metadata": {},
     "output_type": "execute_result"
    }
   ],
   "source": [
    "rc=7\n",
    "W = Jolanta_GTO_W(Jolanta_3D_Wcap, alphas, Ns, rc)\n",
    "np.diag(W)"
   ]
  },
  {
   "cell_type": "markdown",
   "metadata": {},
   "source": [
    "Complex diagonalization example"
   ]
  },
  {
   "cell_type": "code",
   "execution_count": 12,
   "metadata": {},
   "outputs": [],
   "source": [
    "# eta=1e-3\n",
    "# print(\"eta = %f\" % (eta))\n",
    "# H_eta = T + V - 1j*eta*W\n",
    "# energies = au2eV*eigvals(H_eta, b=S)\n",
    "# energies.sort()\n",
    "# plt.cla()\n",
    "# plt.plot(energies.real, energies.imag, 'o')\n",
    "# plt.xlim(-1,10)\n",
    "# plt.ylim(-1.0,0.1)\n",
    "# plt.show()\n",
    "# for e in energies:\n",
    "#     print(\"(%f, %f)\" % (e.real, e.imag))"
   ]
  },
  {
   "cell_type": "markdown",
   "metadata": {},
   "source": [
    "### $\\eta$-run"
   ]
  },
  {
   "cell_type": "code",
   "execution_count": 13,
   "metadata": {},
   "outputs": [
    {
     "name": "stdout",
     "output_type": "stream",
     "text": [
      "1 2 3 4 5 6 7 8 9 10 \n",
      "11 12 13 14 15 16 17 18 19 20 \n",
      "21 22 23 24 25 26 27 28 29 30 \n",
      "31 32 33 34 35 36 37 38 39 40 \n",
      "41 42 43 44 45 46 47 48 49 50 \n",
      "51 52 53 54 55 56 57 58 59 60 \n",
      "61 62 63 64 65 66 67 68 69 70 \n",
      "71 72 73 74 75 76 77 78 79 80 \n",
      "81 82 83 84 85 86 87 88 89 90 \n",
      "91 92 93 94 95 96 97 98 99 100 \n",
      "101 102 103 104 105 106 107 108 109 110 \n",
      "111 112 113 114 115 116 117 118 119 120 \n",
      "121 122 123 124 125 126 "
     ]
    }
   ],
   "source": [
    "n_keep=len(Ns)\n",
    "log_eta_min=-5\n",
    "log_eta_max=0\n",
    "n_eta=25*(log_eta_max - log_eta_min)+1\n",
    "etas=np.logspace(log_eta_min, log_eta_max, num=n_eta)\n",
    "\n",
    "erdata = np.zeros((n_eta,n_keep), complex)  # array used to collect all theta-run data\n",
    "\n",
    "for i_eta in range(n_eta):\n",
    "    eta=etas[i_eta]\n",
    "    H_eta = T + V - 1j*eta*W\n",
    "    energies = eigvals(H_eta, b=S)\n",
    "    energies.sort()\n",
    "    erdata[i_eta,:] = energies[0:n_keep]\n",
    "    print(i_eta+1, end=\" \")\n",
    "    if (i_eta+1)%10==0:\n",
    "        print()\n",
    "\n",
    "erdata *= au2eV"
   ]
  },
  {
   "cell_type": "markdown",
   "metadata": {},
   "source": [
    "<br> Raw $\\eta$ trajectories"
   ]
  },
  {
   "cell_type": "code",
   "execution_count": 14,
   "metadata": {},
   "outputs": [],
   "source": [
    "plt.cla()\n",
    "for i in range(0, n_keep):\n",
    "    plt.plot(erdata[:,i].real,  erdata[:,i].imag, 'o')\n",
    "plt.xlim(0,6)\n",
    "plt.ylim(-0.5,0)\n",
    "plt.show()"
   ]
  },
  {
   "cell_type": "markdown",
   "metadata": {},
   "source": [
    "<br> Get the resonance trajectory by naive nearest follow"
   ]
  },
  {
   "cell_type": "code",
   "execution_count": 15,
   "metadata": {},
   "outputs": [],
   "source": [
    "follow=3.3\n",
    "es=np.zeros(n_eta,complex)\n",
    "\n",
    "for j in range(0,n_eta):\n",
    "    i = np.argmin(abs(erdata[j,:]-follow))\n",
    "    es[j] = erdata[j,i]\n",
    "    follow = es[j]\n",
    "plt.cla()\n",
    "plt.plot(es.real, es.imag, 'o-')\n",
    "plt.show()"
   ]
  },
  {
   "cell_type": "code",
   "execution_count": 16,
   "metadata": {},
   "outputs": [],
   "source": [
    "df = pd.DataFrame({\"eta\": etas, \"ReE\":es.real, \"ImE\":es.imag})\n",
    "fname = 'Traj_' + bas + '_' + str(rc) + '.csv'\n",
    "df.to_csv(fname, index=False)"
   ]
  },
  {
   "cell_type": "markdown",
   "metadata": {},
   "source": [
    "## Use traj_analysis.ipynb \n",
    "The next few boxes are very old."
   ]
  },
  {
   "cell_type": "code",
   "execution_count": null,
   "metadata": {},
   "outputs": [],
   "source": [
    "#\n",
    "#  compute first and second derivative\n",
    "#\n",
    "corrs, absd1, absd2 = ct.trajectory_derivatives(etas, es)\n",
    "\n",
    "plt.cla()\n",
    "plt.figure(1)\n",
    "plt.plot(es.real, es.imag, 'o-', color=\"blue\")\n",
    "plt.plot(corrs.real, corrs.imag, 'o-', color=\"brown\")\n",
    "plt.figure(2)\n",
    "plt.plot(etas, absd1, 'o-', color=\"blue\")\n",
    "plt.plot(etas, absd2, 'o-', color=\"brown\")\n",
    "plt.xscale(\"log\")\n",
    "plt.show()"
   ]
  },
  {
   "cell_type": "code",
   "execution_count": null,
   "metadata": {},
   "outputs": [],
   "source": [
    "fm0 = \"{0:2d} {1:8.2e} {2:8.6f},{3:8.6f} {4:8.2e}  {5:8.6f},{6:8.6f} {7:8.2e}\"\n",
    "fm1 = \"{0:2d} {1:8.2e} {2:8.6f},{3:8.6f} {4:8.2e}* {5:8.6f},{6:8.6f} {7:8.2e}\"\n",
    "fm2 = \"{0:2d} {1:8.2e} {2:8.6f},{3:8.6f} {4:8.2e}  {5:8.6f},{6:8.6f} {7:8.2e}*\"\n",
    "fm3 = \"{0:2d} {1:8.2e} {2:8.6f},{3:8.6f} {4:8.2e}* {5:8.6f},{6:8.6f} {7:8.2e}*\"\n",
    "\n",
    "\n",
    "print(fm0.format(0, etas[i], es[i].real, es[i].imag, absd1[i], corrs[i].real, corrs[i].imag, absd2[i]))\n",
    "for i in range(1, n_eta):\n",
    "    der1_neg = (absd1[i]-absd1[i-1] < 0)\n",
    "    der2_neg = (absd2[i]-absd2[i-1] < 0)\n",
    "    if der1_neg and der2_neg:\n",
    "        frmt = fm3\n",
    "    elif der1_neg:\n",
    "        frmt = fm1\n",
    "    elif der2_neg:\n",
    "        frmt = fm2\n",
    "    else:\n",
    "        frmt = fm0\n",
    "    print(frmt.format(i, etas[i], es[i].real, es[i].imag, absd1[i], corrs[i].real, corrs[i].imag, absd2[i]))"
   ]
  },
  {
   "cell_type": "code",
   "execution_count": null,
   "metadata": {},
   "outputs": [],
   "source": [
    "ct.JZBEK_plot(etas, es)\n",
    "#print(\"min(Re(Es)):\\n\", ct.find_local_minima(etas, es.real))\n",
    "#print(\"max(Im(Es)):\\n\", ct.find_local_maxima(etas, es.imag))\n",
    "\n",
    "format = ' |           | R0    | %.3f      | %.3f   |  %.1e      | %.1e |'\n",
    "rlist =  ct.find_local_minima(etas, es.real)\n",
    "ilist =  ct.find_local_maxima(etas, es.imag)\n",
    "for etar, er in rlist:\n",
    "    for etai, ei in ilist:\n",
    "        print(format % (er, ei, etar, etai))\n"
   ]
  },
  {
   "cell_type": "code",
   "execution_count": null,
   "metadata": {},
   "outputs": [],
   "source": [
    "ct.JZBEK_plot(etas, corrs)\n",
    "format = ' |           | R1    | %.3f      | %.3f   |  %.1e      | %.1e |'\n",
    "rlist =  ct.find_local_minima(etas, corrs.real)\n",
    "ilist =  ct.find_local_maxima(etas, corrs.imag)\n",
    "for etar, er in rlist:\n",
    "    for etai, ei in ilist:\n",
    "        print(format % (er, ei, etar, etai))"
   ]
  }
 ],
 "metadata": {
  "kernelspec": {
   "display_name": "Python 3",
   "language": "python",
   "name": "python3"
  },
  "language_info": {
   "codemirror_mode": {
    "name": "ipython",
    "version": 3
   },
   "file_extension": ".py",
   "mimetype": "text/x-python",
   "name": "python",
   "nbconvert_exporter": "python",
   "pygments_lexer": "ipython3",
   "version": "3.8.8"
  }
 },
 "nbformat": 4,
 "nbformat_minor": 4
}
