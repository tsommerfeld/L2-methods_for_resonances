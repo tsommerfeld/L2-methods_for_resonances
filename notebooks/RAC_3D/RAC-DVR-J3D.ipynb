{
 "cells": [
  {
   "cell_type": "markdown",
   "metadata": {},
   "source": [
    "## RAC/DVR: step 1"
   ]
  },
  {
   "cell_type": "code",
   "execution_count": 1,
   "metadata": {},
   "outputs": [],
   "source": [
    "turning_points=True\n",
    "safe_data=False"
   ]
  },
  {
   "cell_type": "code",
   "execution_count": 2,
   "metadata": {},
   "outputs": [],
   "source": [
    "import numpy as np\n",
    "import sys\n",
    "from scipy.optimize import root_scalar\n",
    "import matplotlib.pyplot as plt\n",
    "%matplotlib qt5\n",
    "import pandas as pd\n",
    "#\n",
    "#  extend path by location of the dvr package\n",
    "#\n",
    "sys.path.append('../../Python_libs')\n",
    "import dvr\n",
    "import jolanta"
   ]
  },
  {
   "cell_type": "code",
   "execution_count": 3,
   "metadata": {},
   "outputs": [],
   "source": [
    "amu_to_au=1822.888486192\n",
    "au2cm=219474.63068\n",
    "au2eV=27.211386027\n",
    "Angs2Bohr=1.8897259886"
   ]
  },
  {
   "cell_type": "code",
   "execution_count": 4,
   "metadata": {},
   "outputs": [],
   "source": [
    "#\n",
    "# Jolanata-3D parameters a, b, c: (0.028, 1.0, 0.028)\n",
    "#\n",
    "#   CS-DVR:   \n",
    "#      bound state:  -7.17051 eV\n",
    "#      resonance (3.1729556 - 0.16085j) eV\n",
    "#\n",
    "jparam=(0.028, 1.0, 0.028)"
   ]
  },
  {
   "cell_type": "code",
   "execution_count": 5,
   "metadata": {},
   "outputs": [
    {
     "name": "stdout",
     "output_type": "stream",
     "text": [
      "  1   -0.26351095 au =     -7.17050 eV\n",
      "  2    0.11989697 au =      3.26256 eV\n",
      "  3    0.28142119 au =      7.65786 eV\n",
      "  4    0.52212147 au =     14.20765 eV\n"
     ]
    }
   ],
   "source": [
    "#\n",
    "#  compute DVR of T and V\n",
    "#  then show the density of states\n",
    "#  in a potential + energy-levels plot\n",
    "#  the standard 3D-Jolanta is used (resonance at 1.75 -0.2i eV)\n",
    "#\n",
    "rmin=0\n",
    "rmax=12      # grid from 0 to rmax\n",
    "thresh = 8   # maximum energy for plot\n",
    "ppB = 15     # grid points per Bohr\n",
    "\n",
    "nGrid=int((rmax-rmin)*ppB)\n",
    "rs = dvr.DVRGrid(rmin, rmax, nGrid)\n",
    "Vs = jolanta.Jolanta_3D(rs, jparam)\n",
    "Ts = dvr.KineticEnergy(1, rmin, rmax, nGrid)\n",
    "[energy, wf] = dvr.DVRDiag2(nGrid, Ts, Vs, wf=True)\n",
    "\n",
    "n_ene=0\n",
    "for i in range(nGrid):\n",
    "    print(\"%3d  %12.8f au = %12.5f eV\" % (i+1, energy[i], energy[i]*au2eV))\n",
    "    n_ene += 1\n",
    "    if energy[i]*au2eV > thresh:\n",
    "        break\n",
    "\n",
    "# \"DVR normalization\", sum(wf[:,0]**2)\n",
    "# this is correct for plotting\n",
    "\n",
    "c=[\"orange\", \"blue\"]\n",
    "#h=float(xmax) / (nGrid+1.0)\n",
    "scale=3*au2eV\n",
    "\n",
    "plt.cla()\n",
    "plt.plot(rs,Vs*au2eV, '-', color=\"black\")\n",
    "for i in range(n_ene):\n",
    "    plt.plot(rs, scale*wf[:,i]**2+energy[i]*au2eV, '-', color=c[i%len(c)])\n",
    "plt.ylim(-8, 1.5*thresh)\n",
    "plt.xlabel('$r$ [Bohr]')\n",
    "plt.ylabel('$E$ [eV]')\n",
    "plt.show()"
   ]
  },
  {
   "cell_type": "markdown",
   "metadata": {},
   "source": [
    "### Test a turning point search\n",
    "\n",
    "Find the outer turning point of $V(\\lambda)$ at $E_r$"
   ]
  },
  {
   "cell_type": "code",
   "execution_count": 13,
   "metadata": {},
   "outputs": [
    {
     "name": "stdout",
     "output_type": "stream",
     "text": [
      "[2.187845303867403, 8.353591160220994]\n",
      "0.1198969707674879\n",
      "Turning point at 7.095117 Bohr.\n"
     ]
    }
   ],
   "source": [
    "def f(x, E, jparam):\n",
    "    \"\"\"  equation V(x) - E = 0  \"\"\"\n",
    "    return jolanta.Jolanta_3D(x, jparam) - E\n",
    "\n",
    "def find_brackets(rs, vs):\n",
    "    \"\"\"  from V(r) on DVR grid get [r(V_min), r(V(max+)] \"\"\"\n",
    "    imin = np.argmin(vs)\n",
    "    imax = np.argmax(vs[imin:])\n",
    "    return [rs[imin], rs[imin+imax]]\n",
    "\n",
    "args=(energy[1],jparam)\n",
    "bracket=find_brackets(rs,Vs)\n",
    "print(bracket)\n",
    "print(energy[1])\n",
    "sol=root_scalar(f, args=args, bracket=bracket)\n",
    "print('Turning point at %f Bohr.' % (sol.root))"
   ]
  },
  {
   "cell_type": "markdown",
   "metadata": {},
   "source": [
    "## RAC by increasing $b$\n",
    "\n",
    "The last energy needs to be about $7E_r \\approx 22$eV"
   ]
  },
  {
   "cell_type": "code",
   "execution_count": 7,
   "metadata": {
    "jupyter": {
     "source_hidden": true
    },
    "tags": []
   },
   "outputs": [],
   "source": [
    "#\n",
    "#  show the potential\n",
    "#\n",
    "a_ref, b_ref, c_ref = jparam\n",
    "plt.cla()\n",
    "for b_curr in [1.1, 1.3, 1.5, 1.7]:\n",
    "    param = [a_ref, b_curr, c_ref]\n",
    "    plt.plot(rs, jolanta.Jolanta_3D(rs, param)*au2eV)\n",
    "\n",
    "plt.ylim(-30, 10)\n",
    "plt.show()"
   ]
  },
  {
   "cell_type": "code",
   "execution_count": 14,
   "metadata": {},
   "outputs": [
    {
     "name": "stdout",
     "output_type": "stream",
     "text": [
      "1 2 3 4 5 6 7 8 9 10 \n",
      "11 12 13 14 15 16 17 18 19 20 \n",
      "21 22 23 24 25 26 27 28 29 30 \n",
      "31 32 33 34 35 36 37 38 39 40 \n",
      "41 42 43 44 45 46 47 48 49 50 \n",
      "51 52 53 54 55 56 57 58 59 60 \n",
      "61 62 63 64 65 66 67 68 69 70 \n",
      "71 72 73 74 75 76 77 78 79 80 \n",
      "81 82 83 84 85 86 87 88 89 90 \n",
      "91 92 93 94 95 96 97 98 99 100 \n",
      "101 [  2.5        -40.14360549 -21.72431982  -7.33018023   1.92800864]\n"
     ]
    }
   ],
   "source": [
    "a_ref, b_ref, c_ref = jparam\n",
    "\n",
    "b_min=b_ref\n",
    "b_max=2.5\n",
    "nEs_keep=4    # how many energies are kept\n",
    "\n",
    "n_b=101\n",
    "\n",
    "bs=np.linspace(b_min, b_max, num=n_b, endpoint=True)\n",
    "\n",
    "rtp_b=np.zeros(n_b)\n",
    "\n",
    "run_data = np.zeros((n_b, nEs_keep+1))  # array used to collect all eta-run data\n",
    "run_data[:,0]=bs\n",
    "\n",
    "for l, b_curr in enumerate(bs):\n",
    "    param = [a_ref, b_curr, c_ref]\n",
    "    Vs = jolanta.Jolanta_3D(rs, param)\n",
    "    energy = dvr.DVRDiag2(nGrid, Ts, Vs)\n",
    "    run_data[l,1:] = au2eV*energy[0:nEs_keep]\n",
    "    if turning_points:\n",
    "        args=(energy[1],param)\n",
    "        bracket = find_brackets(rs,Vs)\n",
    "        sol=root_scalar(f, args=args, bracket=bracket)\n",
    "        rtp_b[l]=sol.root\n",
    "    print(l+1, end=\" \")\n",
    "    if (l+1)%10==0:\n",
    "        print()\n",
    "\n",
    "if turning_points:\n",
    "    Ebs = run_data[:,1]\n",
    "        \n",
    "print(run_data[-1,:])"
   ]
  },
  {
   "cell_type": "code",
   "execution_count": 15,
   "metadata": {},
   "outputs": [],
   "source": [
    "plt.cla()\n",
    "for i in range(0, nEs_keep):\n",
    "    plt.plot(bs, run_data[:,i+1], 'o-')\n",
    "plt.ylim(-25,5)\n",
    "plt.show()"
   ]
  },
  {
   "cell_type": "code",
   "execution_count": 16,
   "metadata": {},
   "outputs": [],
   "source": [
    "if turning_points:\n",
    "    plt.cla()\n",
    "    plt.plot(Ebs, rtp_b, '.-', label=\"b-scaling\")\n",
    "    plt.legend()\n",
    "    plt.show()  "
   ]
  },
  {
   "cell_type": "code",
   "execution_count": 17,
   "metadata": {},
   "outputs": [],
   "source": [
    "if safe_data:\n",
    "    cols = ['z']\n",
    "    for i in range(nEs_keep):\n",
    "        cols.append('E'+str(i+1))\n",
    "    df = pd.DataFrame(run_data, columns=cols)\n",
    "    df.to_csv('rac_DVR_3D_b-scale_rmax_12.csv', index=False)\n",
    "    df.head(5)"
   ]
  },
  {
   "cell_type": "markdown",
   "metadata": {},
   "source": [
    "## RAC with Coulomb potential"
   ]
  },
  {
   "cell_type": "code",
   "execution_count": 34,
   "metadata": {},
   "outputs": [],
   "source": [
    "def coulomb(r, lbd=1.0):\n",
    "    \"\"\" attractive Coulomb potential with strength lbd = lamda \"\"\"\n",
    "    return -lbd/r\n",
    "\n",
    "def f(x, E, jparam, l_curr):\n",
    "    return jolanta.Jolanta_3D(x, jparam) + coulomb(x, lbd=l_curr) - E"
   ]
  },
  {
   "cell_type": "code",
   "execution_count": 35,
   "metadata": {},
   "outputs": [
    {
     "name": "stdout",
     "output_type": "stream",
     "text": [
      "[2.187845303867403, 8.353591160220994]\n",
      "[1.856353591160221, 8.552486187845304]\n",
      "[1.5248618784530386, 8.817679558011049]\n",
      "[1.1933701657458564, 9.082872928176796]\n",
      "[0.9281767955801106, 9.348066298342541]\n"
     ]
    }
   ],
   "source": [
    "#\n",
    "#  show the potential\n",
    "#\n",
    "plt.cla()\n",
    "for l_curr in [0, 0.5, 1.0, 1.5, 2.0]:\n",
    "    vs = jolanta.Jolanta_3D(rs, jparam)+coulomb(rs, lbd=l_curr)\n",
    "    plt.plot(rs, vs*au2eV)\n",
    "    if turning_points:\n",
    "        print(find_brackets(rs,vs))\n",
    "        \n",
    "#plt.xlim(0,15)\n",
    "plt.ylim(-30, 10)\n",
    "plt.show()"
   ]
  },
  {
   "cell_type": "code",
   "execution_count": 38,
   "metadata": {},
   "outputs": [
    {
     "name": "stdout",
     "output_type": "stream",
     "text": [
      "1 2 3 4 5 6 7 8 9 10 \n",
      "11 12 13 14 15 16 17 18 19 20 \n",
      "21 22 23 24 25 26 27 28 29 30 \n",
      "31 32 33 34 35 36 37 38 39 40 \n",
      "41 42 43 44 45 46 47 48 49 50 \n",
      "51 52 53 54 55 56 57 58 59 60 \n",
      "61 62 63 64 65 66 67 68 69 70 \n",
      "71 72 73 74 75 76 77 78 79 80 \n",
      "81 82 83 84 85 86 87 88 89 90 \n",
      "91 92 93 94 95 96 97 98 99 100 \n",
      "101 [  2.4        -41.37210293 -19.35877462  -6.10967756   0.17117461]\n"
     ]
    }
   ],
   "source": [
    "l_min=0.0\n",
    "l_max=2.4\n",
    "nEs_keep=4    # how many energies are kept\n",
    "\n",
    "npts=101\n",
    "\n",
    "ls=np.linspace(l_min, l_max, num=npts, endpoint=True)\n",
    "\n",
    "rtp_C=np.zeros(npts)\n",
    "\n",
    "\n",
    "run_data = np.zeros((npts, nEs_keep+1))  # array used to collect all eta-run data\n",
    "run_data[:,0]=ls\n",
    "\n",
    "VJs = jolanta.Jolanta_3D(rs, jparam)\n",
    "Ws = coulomb(rs, lbd=1.0)\n",
    "\n",
    "for j, l_curr in enumerate(ls):\n",
    "    Vs = VJs + l_curr*Ws\n",
    "    energy = dvr.DVRDiag2(nGrid, Ts, Vs)\n",
    "    run_data[j,1:] = au2eV*energy[0:nEs_keep]\n",
    "    if turning_points:\n",
    "        args=(energy[1],jparam,l_curr)\n",
    "        bracket = find_brackets(rs,Vs)\n",
    "        sol=root_scalar(f, args=args, bracket=bracket)\n",
    "        rtp_C[j]=sol.root\n",
    "    print(j+1, end=\" \")\n",
    "    if (j+1)%10==0:\n",
    "        print()\n",
    "\n",
    "if turning_points:\n",
    "    ECs = run_data[:,1]\n",
    "print(run_data[-1,:])"
   ]
  },
  {
   "cell_type": "code",
   "execution_count": 42,
   "metadata": {},
   "outputs": [],
   "source": [
    "if turning_points:\n",
    "    plt.cla()\n",
    "    plt.plot(Ebs, rtp_b, '.-', label=\"b-scaling\")\n",
    "    plt.plot(ECs, rtp_C, '.-', label=\"Coulomb\")\n",
    "    plt.legend()\n",
    "    plt.show()  "
   ]
  },
  {
   "cell_type": "code",
   "execution_count": 43,
   "metadata": {},
   "outputs": [],
   "source": [
    "plt.cla()\n",
    "for i in range(0, nEs_keep):\n",
    "    plt.plot(ls, run_data[:,i+1], 'o-')\n",
    "plt.ylim(-25,5)\n",
    "plt.show()"
   ]
  },
  {
   "cell_type": "code",
   "execution_count": 44,
   "metadata": {},
   "outputs": [],
   "source": [
    "if safe_data:\n",
    "    cols = ['z']\n",
    "    for i in range(nEs_keep):\n",
    "        cols.append('E'+str(i+1))\n",
    "    df = pd.DataFrame(run_data, columns=cols)\n",
    "    df.to_csv('rac_DVR_3D_coulomb_rmax_12.csv', index=False)\n",
    "    df.head(5)"
   ]
  },
  {
   "cell_type": "markdown",
   "metadata": {},
   "source": [
    "## RAC with soft-box"
   ]
  },
  {
   "cell_type": "code",
   "execution_count": 45,
   "metadata": {},
   "outputs": [],
   "source": [
    "def softbox(r, rcut=1.0, lbd=1.0):\n",
    "    \"\"\" \n",
    "    Softbox: \n",
    "    -1 at the origin, rises at r0 softly to asymptotic 0\n",
    "    based on Gaussian with inverted scale\n",
    "    \"\"\"\n",
    "    return lbd*(np.exp(-(2*rcut)**2/r**2) - 1)\n",
    "\n",
    "def f(x, E, jparam, l_curr):\n",
    "    return jolanta.Jolanta_3D(x, jparam) + softbox(x, rcut=3.0, lbd=l_curr) - E"
   ]
  },
  {
   "cell_type": "code",
   "execution_count": 46,
   "metadata": {},
   "outputs": [],
   "source": [
    "#\n",
    "#  show the box potential\n",
    "#\n",
    "plt.cla()\n",
    "for l_curr in [0.1, 0.2, 0.3, 0.4, 0.5]:\n",
    "    Vs = jolanta.Jolanta_3D(rs, jparam)\n",
    "    Ws = softbox(rs, rcut=3.0, lbd=l_curr)\n",
    "    plt.plot(rs, Ws*au2eV)\n",
    "\n",
    "plt.xlim(0,20)\n",
    "plt.ylim(-15, 0)\n",
    "plt.show()"
   ]
  },
  {
   "cell_type": "code",
   "execution_count": 47,
   "metadata": {},
   "outputs": [
    {
     "name": "stdout",
     "output_type": "stream",
     "text": [
      "[2.187845303867403, 8.552486187845304]\n",
      "[2.187845303867403, 8.817679558011049]\n",
      "[2.187845303867403, 9.082872928176796]\n",
      "[2.187845303867403, 9.414364640883978]\n",
      "[2.187845303867403, 9.679558011049723]\n"
     ]
    }
   ],
   "source": [
    "#\n",
    "#  show the full potential\n",
    "#\n",
    "plt.cla()\n",
    "for l_curr in [0.1, 0.2, 0.3, 0.4, 0.5]:\n",
    "    Vs = jolanta.Jolanta_3D(rs, jparam)\n",
    "    Ws = softbox(rs, rcut=3.0, lbd=l_curr)\n",
    "    plt.plot(rs, (Vs+Ws)*au2eV)\n",
    "    if turning_points:\n",
    "        print(find_brackets(rs,Vs+Ws))\n",
    "\n",
    "#plt.xlim(0,20)\n",
    "plt.ylim(-30, 8)\n",
    "plt.show()"
   ]
  },
  {
   "cell_type": "code",
   "execution_count": 51,
   "metadata": {},
   "outputs": [
    {
     "name": "stdout",
     "output_type": "stream",
     "text": [
      "1 2 3 4 5 6 7 8 9 10 \n",
      "11 12 13 14 15 16 17 18 19 20 \n",
      "21 22 23 24 25 26 27 28 29 30 \n",
      "31 32 33 34 35 36 37 38 39 40 \n",
      "41 42 43 44 45 46 47 48 49 50 \n",
      "51 52 53 54 55 56 57 58 59 60 \n",
      "61 62 63 64 65 66 67 68 69 70 \n",
      "71 72 73 74 75 76 77 78 79 80 \n",
      "81 82 83 84 85 86 87 88 89 90 \n",
      "91 92 93 94 95 96 97 98 99 100 \n",
      "101 [  1.25       -39.8962075  -24.06967741 -11.79294632  -4.15997774]\n"
     ]
    }
   ],
   "source": [
    "l_min=0.0\n",
    "l_max=1.25\n",
    "nEs_keep=4    # how many energies are kept\n",
    "\n",
    "npts=101\n",
    "\n",
    "ls=np.linspace(l_min, l_max, num=npts, endpoint=True)\n",
    "\n",
    "rtp_SB=np.zeros(npts)\n",
    "\n",
    "\n",
    "run_data = np.zeros((npts, nEs_keep+1))  # array used to collect all eta-run data\n",
    "run_data[:,0]=ls\n",
    "\n",
    "VJs = jolanta.Jolanta_3D(rs, jparam)\n",
    "Ws = softbox(rs, rcut=3.0, lbd=1.0)\n",
    "\n",
    "for j, l_curr in enumerate(ls):\n",
    "    Vs = VJs + l_curr*Ws\n",
    "    energy = dvr.DVRDiag2(nGrid, Ts, Vs)\n",
    "    run_data[j,1:] = au2eV*energy[0:nEs_keep]\n",
    "    if turning_points:\n",
    "        args=(energy[1],jparam,l_curr)\n",
    "        bracket = find_brackets(rs,Vs)\n",
    "        sol=root_scalar(f, args=args, bracket=bracket)\n",
    "        rtp_SB[j]=sol.root\n",
    "    print(j+1, end=\" \")\n",
    "    if (j+1)%10==0:\n",
    "        print()\n",
    "\n",
    "if turning_points:\n",
    "    ESBs = run_data[:,1]\n",
    "        \n",
    "print(run_data[-1,:])"
   ]
  },
  {
   "cell_type": "code",
   "execution_count": 52,
   "metadata": {},
   "outputs": [],
   "source": [
    "plt.cla()\n",
    "for i in range(0, nEs_keep):\n",
    "    plt.plot(ls, run_data[:,i+1], 'o-')\n",
    "plt.ylim(-25,5)\n",
    "plt.show()"
   ]
  },
  {
   "cell_type": "code",
   "execution_count": 53,
   "metadata": {},
   "outputs": [],
   "source": [
    "if turning_points:\n",
    "    plt.cla()\n",
    "    plt.plot(Ebs, rtp_b, '.-', label=\"b-scaling\")\n",
    "    plt.plot(ECs, rtp_C, '.-', label=\"Coulomb\")\n",
    "    plt.plot(ESBs, rtp_SB, '.-', label=\"soft-box\")\n",
    "    plt.legend()\n",
    "    plt.show() "
   ]
  },
  {
   "cell_type": "code",
   "execution_count": 12,
   "metadata": {},
   "outputs": [],
   "source": [
    "if safe_data:\n",
    "    cols = ['z']\n",
    "    for i in range(nEs_keep):\n",
    "        cols.append('E'+str(i+1))\n",
    "    df = pd.DataFrame(run_data, columns=cols)\n",
    "    df.to_csv('rac_DVR_3D_softbox_rmax_12.csv', index=False)\n",
    "    df.head(5)"
   ]
  },
  {
   "cell_type": "code",
   "execution_count": null,
   "metadata": {},
   "outputs": [],
   "source": []
  }
 ],
 "metadata": {
  "kernelspec": {
   "display_name": "Python 3",
   "language": "python",
   "name": "python3"
  },
  "language_info": {
   "codemirror_mode": {
    "name": "ipython",
    "version": 3
   },
   "file_extension": ".py",
   "mimetype": "text/x-python",
   "name": "python",
   "nbconvert_exporter": "python",
   "pygments_lexer": "ipython3",
   "version": "3.8.8"
  }
 },
 "nbformat": 4,
 "nbformat_minor": 4
}
