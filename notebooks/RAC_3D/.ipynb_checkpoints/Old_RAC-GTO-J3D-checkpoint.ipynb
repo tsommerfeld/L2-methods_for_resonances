{
 "cells": [
  {
   "cell_type": "markdown",
   "metadata": {},
   "source": [
    "# RAC step 1 in a GTO basis\n",
    "\n",
    "Old:\n",
    "1. Doesn't use the **GRB** class.\n",
    "2. Only uncontracted basis functions.\n",
    "\n",
    "Three artifical stabilizing potentials:\n",
    "1. Increase of the Jolanta parameter *b*\n",
    "2. Add a Coulomb to **H**\n",
    "3. Add a soft-box to **H**"
   ]
  },
  {
   "cell_type": "code",
   "execution_count": 3,
   "metadata": {},
   "outputs": [],
   "source": [
    "show_plots=True"
   ]
  },
  {
   "cell_type": "code",
   "execution_count": 1,
   "metadata": {},
   "outputs": [],
   "source": [
    "import numpy as np\n",
    "from scipy.linalg import eigh, eigvalsh\n",
    "import matplotlib.pyplot as plt\n",
    "%matplotlib qt5\n",
    "#import matplotlib\n",
    "#matplotlib.use('Qt5Agg')\n",
    "import pandas as pd"
   ]
  },
  {
   "cell_type": "code",
   "execution_count": 2,
   "metadata": {},
   "outputs": [],
   "source": [
    "import sys\n",
    "sys.path.append('../../Python_libs')\n",
    "import dvr\n",
    "from GTO_basis import Jolanta_3D_PNorm, Jolanta_3D_GTO, Jolanta_GTO_H\n",
    "from GTO_basis import Jolanta_3D_Coulomb, Jolanta_3D_softbox\n",
    "from GTO_basis import Jolanta_GTO_H, Jolanta_GTO_W\n",
    "from GTO_basis import Eval_GTO_wf_3D\n",
    "from jolanta import Jolanta_3D"
   ]
  },
  {
   "cell_type": "code",
   "execution_count": 8,
   "metadata": {},
   "outputs": [],
   "source": [
    "amu_to_au=1822.888486192\n",
    "au2cm=219474.63068\n",
    "au2eV=27.211386027\n",
    "Angs2Bohr=1.8897259886"
   ]
  },
  {
   "cell_type": "code",
   "execution_count": 9,
   "metadata": {},
   "outputs": [],
   "source": [
    "#\n",
    "# Jolanata parameters a, b, c:\n",
    "#\n",
    "#    bound state:  -12.26336 eV\n",
    "#    resonance: (3.279526396 - 0.2079713j)  eV\n",
    "jparam=(0.028, 1.0, 0.028)"
   ]
  },
  {
   "cell_type": "markdown",
   "metadata": {},
   "source": [
    "* Create a GTO basis set $[\\alpha_0, \\alpha_1, ...]$ and $[N_0, N_1, ...]$\n",
    "* Build **S**, **T**, and **V**\n",
    "* Diagonalize **H**\n",
    "* Compare $E_0$ to DVR: $E_0^{DVR}$ = -7.17051 eV"
   ]
  },
  {
   "cell_type": "code",
   "execution_count": 10,
   "metadata": {},
   "outputs": [
    {
     "name": "stdout",
     "output_type": "stream",
     "text": [
      "GTO1\n"
     ]
    }
   ],
   "source": [
    "sets=['GTO1', 'GTO2', 'GTO3']\n",
    "bas = sets[0]\n",
    "print(bas)\n",
    "if bas == 'GTO1':\n",
    "    \"\"\" val: (4, 1.6e-2); last = 2.8e-3\"\"\"\n",
    "    nval=6\n",
    "    a0=4\n",
    "    s=3\n",
    "    ndiff=0\n",
    "    s_diff=1.4\n",
    "elif bas == 'GTO2':\n",
    "    \"\"\" val: (16, 1.45e-3); last = 1.8e-3\"\"\"\n",
    "    nval=9\n",
    "    a0=16.0\n",
    "    s=2.4\n",
    "    ndiff=0\n",
    "    s_diff=1.4\n",
    "elif bas == 'GTO3':\n",
    "    \"\"\" (16, 1.56e-3); last = 1.9e-3\"\"\"\n",
    "    nval=11\n",
    "    a0=16.0\n",
    "    s=2\n",
    "    ndiff=0\n",
    "    s_diff=1.4\n",
    "else:\n",
    "    print('No such basis.')"
   ]
  },
  {
   "cell_type": "markdown",
   "metadata": {},
   "source": [
    "### Valence set\n",
    "Compare the bound state with DVR: $E_0 = -7.17051$ eV"
   ]
  },
  {
   "cell_type": "code",
   "execution_count": 11,
   "metadata": {},
   "outputs": [
    {
     "name": "stdout",
     "output_type": "stream",
     "text": [
      "E0= -7.157620369021858\n",
      "       alpha          c_gs[alpha]   1/sqrt(alpha)  Norm\n",
      "   4.00000000e+00    -6.2333e-04    5.0000e-01    1.6503e+01\n",
      "   1.33333333e+00     3.0511e-03    8.6603e-01    4.1798e+00\n",
      "   4.44444444e-01    -5.1863e-03    1.5000e+00    1.0587e+00\n",
      "   1.48148148e-01     8.4495e-01    2.5981e+00    2.6814e-01\n",
      "   4.93827160e-02     2.2807e-01    4.5000e+00    6.7913e-02\n",
      "   1.64609053e-02    -3.9599e-02    7.7942e+00    1.7201e-02\n"
     ]
    }
   ],
   "source": [
    "alpha_val=[a0]\n",
    "for i in range(nval-1):\n",
    "    alpha_val.append(alpha_val[-1]/s)\n",
    "N_val=[]\n",
    "for a in alpha_val:\n",
    "    N_val.append(Jolanta_3D_PNorm(a))\n",
    "    \n",
    "S, T, V = Jolanta_GTO_H(alpha_val, N_val, jparam)\n",
    "Es, cs = eigh(T+V, b=S)\n",
    "\n",
    "print(\"E0=\", Es[0]*au2eV)\n",
    "print(\"       alpha          c_gs[alpha]   1/sqrt(alpha)  Norm\")\n",
    "for i, a in enumerate(alpha_val):\n",
    "    print(\"%17.8e    %11.4e    %10.4e    %10.4e\" % (a, cs[i,0], np.sqrt(1/a), N_val[i]))"
   ]
  },
  {
   "cell_type": "code",
   "execution_count": 12,
   "metadata": {},
   "outputs": [],
   "source": [
    "if show_plots:\n",
    "    xmax=25\n",
    "    xs=np.linspace(0.1,xmax,200)\n",
    "    Vs=Jolanta_3D(xs, jparam)\n",
    "\n",
    "    scale=10\n",
    "    Emax=10\n",
    "    plt.cla()\n",
    "    plt.plot(xs,Vs*au2eV, '-', color=\"blue\")\n",
    "    for i in range(nval):\n",
    "        if Es[i] > Emax:\n",
    "            break\n",
    "        ys=Eval_GTO_wf_3D(alpha_val, N_val, cs[:,i], xs, u=True)\n",
    "        plt.plot(xs,scale*ys**2+Es[i]*au2eV, '-')\n",
    "\n",
    "    plt.ylim(-8,10)\n",
    "    plt.show()"
   ]
  },
  {
   "cell_type": "markdown",
   "metadata": {},
   "source": [
    "## RAC by increasing $b$\n",
    "\n",
    "The last energy needs to be about $7E_r \\approx 22$eV"
   ]
  },
  {
   "cell_type": "code",
   "execution_count": 26,
   "metadata": {},
   "outputs": [
    {
     "name": "stdout",
     "output_type": "stream",
     "text": [
      "1 2 3 4 5 6 7 8 9 10 \n",
      "11 12 13 14 15 16 17 18 19 20 \n",
      "21 22 23 24 25 26 27 28 29 30 \n",
      "31 32 33 34 35 36 37 38 39 40 \n",
      "41 42 43 44 45 46 47 48 49 50 \n",
      "51 52 53 54 55 56 57 58 59 60 \n",
      "61 62 63 64 65 66 67 68 69 70 \n",
      "71 72 73 74 75 76 77 78 79 80 \n",
      "81 82 83 84 85 86 87 88 89 90 \n",
      "91 92 93 94 95 96 97 98 99 100 \n",
      "101 \n",
      "Last point:\n",
      "[  2.6        -42.302404   -21.78280579  -8.16932864   1.01068071]\n"
     ]
    }
   ],
   "source": [
    "a_ref, b_ref, c_ref = jparam\n",
    "\n",
    "b_min=b_ref\n",
    "b_max=2.6\n",
    "nEs_keep=4    # how many energies are kept\n",
    "\n",
    "n_b=101\n",
    "\n",
    "bs=np.linspace(b_min, b_max, num=n_b, endpoint=True)\n",
    "\n",
    "run_data = np.zeros((n_b, nEs_keep+1))  # array used to collect all eta-run data\n",
    "run_data[:,0]=bs\n",
    "\n",
    "for l, b_curr in enumerate(bs):\n",
    "    param = [a_ref, b_curr, c_ref]\n",
    "    S, T, V = Jolanta_GTO_H(alpha_val, N_val, param)\n",
    "    energy = eigvalsh(T+V, b=S)\n",
    "    run_data[l,1:] = au2eV*energy[0:nEs_keep]\n",
    "    print(l+1, end=\" \")\n",
    "    if (l+1)%10==0:\n",
    "        print()\n",
    "\n",
    "print('\\nLast point:')\n",
    "print(run_data[-1,:])"
   ]
  },
  {
   "cell_type": "code",
   "execution_count": 27,
   "metadata": {},
   "outputs": [],
   "source": [
    "plt.cla()\n",
    "for i in range(0, nEs_keep):\n",
    "    plt.plot(bs, run_data[:,i+1], 'o-')\n",
    "plt.ylim(-25,5)\n",
    "plt.xlabel('$b$')\n",
    "plt.ylabel('$E$ [eV]')\n",
    "plt.show()"
   ]
  },
  {
   "cell_type": "code",
   "execution_count": 18,
   "metadata": {},
   "outputs": [
    {
     "data": {
      "text/html": [
       "<div>\n",
       "<style scoped>\n",
       "    .dataframe tbody tr th:only-of-type {\n",
       "        vertical-align: middle;\n",
       "    }\n",
       "\n",
       "    .dataframe tbody tr th {\n",
       "        vertical-align: top;\n",
       "    }\n",
       "\n",
       "    .dataframe thead th {\n",
       "        text-align: right;\n",
       "    }\n",
       "</style>\n",
       "<table border=\"1\" class=\"dataframe\">\n",
       "  <thead>\n",
       "    <tr style=\"text-align: right;\">\n",
       "      <th></th>\n",
       "      <th>z</th>\n",
       "      <th>E1</th>\n",
       "      <th>E2</th>\n",
       "      <th>E3</th>\n",
       "      <th>E4</th>\n",
       "    </tr>\n",
       "  </thead>\n",
       "  <tbody>\n",
       "    <tr>\n",
       "      <th>0</th>\n",
       "      <td>1.000</td>\n",
       "      <td>-7.157620</td>\n",
       "      <td>3.075487</td>\n",
       "      <td>4.721781</td>\n",
       "      <td>22.496246</td>\n",
       "    </tr>\n",
       "    <tr>\n",
       "      <th>1</th>\n",
       "      <td>1.016</td>\n",
       "      <td>-7.492550</td>\n",
       "      <td>2.926867</td>\n",
       "      <td>4.606664</td>\n",
       "      <td>22.152999</td>\n",
       "    </tr>\n",
       "    <tr>\n",
       "      <th>2</th>\n",
       "      <td>1.032</td>\n",
       "      <td>-7.828048</td>\n",
       "      <td>2.768477</td>\n",
       "      <td>4.501205</td>\n",
       "      <td>21.810402</td>\n",
       "    </tr>\n",
       "    <tr>\n",
       "      <th>3</th>\n",
       "      <td>1.048</td>\n",
       "      <td>-8.164102</td>\n",
       "      <td>2.601167</td>\n",
       "      <td>4.404525</td>\n",
       "      <td>21.468469</td>\n",
       "    </tr>\n",
       "    <tr>\n",
       "      <th>4</th>\n",
       "      <td>1.064</td>\n",
       "      <td>-8.500697</td>\n",
       "      <td>2.425920</td>\n",
       "      <td>4.315613</td>\n",
       "      <td>21.127215</td>\n",
       "    </tr>\n",
       "  </tbody>\n",
       "</table>\n",
       "</div>"
      ],
      "text/plain": [
       "       z        E1        E2        E3         E4\n",
       "0  1.000 -7.157620  3.075487  4.721781  22.496246\n",
       "1  1.016 -7.492550  2.926867  4.606664  22.152999\n",
       "2  1.032 -7.828048  2.768477  4.501205  21.810402\n",
       "3  1.048 -8.164102  2.601167  4.404525  21.468469\n",
       "4  1.064 -8.500697  2.425920  4.315613  21.127215"
      ]
     },
     "execution_count": 18,
     "metadata": {},
     "output_type": "execute_result"
    }
   ],
   "source": [
    "cols = ['z']\n",
    "for i in range(nEs_keep):\n",
    "    cols.append('E'+str(i+1))\n",
    "df = pd.DataFrame(run_data, columns=cols)\n",
    "fname = 'rac_' + bas + '_b-scale.csv'\n",
    "df.to_csv(fname, index=False)\n",
    "df.head(5)"
   ]
  },
  {
   "cell_type": "markdown",
   "metadata": {},
   "source": [
    "## RAC with Coulomb potential\n",
    "\n",
    "$\\mathbf{H}(\\lambda) = \\mathbf{H} - \\frac{\\lambda}{r}$"
   ]
  },
  {
   "cell_type": "code",
   "execution_count": 19,
   "metadata": {},
   "outputs": [
    {
     "name": "stdout",
     "output_type": "stream",
     "text": [
      "1 2 3 4 5 6 7 8 9 10 \n",
      "11 12 13 14 15 16 17 18 19 20 \n",
      "21 22 23 24 25 26 27 28 29 30 \n",
      "31 32 33 34 35 36 37 38 39 40 \n",
      "41 42 43 44 45 46 47 48 49 50 \n",
      "51 52 53 54 55 56 57 58 59 60 \n",
      "61 62 63 64 65 66 67 68 69 70 \n",
      "71 72 73 74 75 76 77 78 79 80 \n",
      "81 82 83 84 85 86 87 88 89 90 \n",
      "91 92 93 94 95 96 97 98 99 100 \n",
      "101 [  2.6        -45.26924048 -21.7154092   -7.49471638  -2.79882043]\n"
     ]
    }
   ],
   "source": [
    "l_min=0.0\n",
    "l_max=2.6\n",
    "nEs_keep=4    # how many energies are kept\n",
    "\n",
    "npts=101\n",
    "\n",
    "ls=np.linspace(l_min, l_max, num=npts, endpoint=True)\n",
    "\n",
    "run_data = np.zeros((npts, nEs_keep+1))  # array used to collect all eta-run data\n",
    "run_data[:,0]=ls\n",
    "\n",
    "S, T, V = Jolanta_GTO_H(alpha_val, N_val, jparam)\n",
    "W = Jolanta_GTO_W(Jolanta_3D_Coulomb, alpha_val, N_val, 1.0)\n",
    "\n",
    "for j, l_curr in enumerate(ls):\n",
    "    VpW = V + l_curr*W\n",
    "    energy = eigvalsh(T+VpW, b=S)\n",
    "    run_data[j,1:] = au2eV*energy[0:nEs_keep]\n",
    "    print(j+1, end=\" \")\n",
    "    if (j+1)%10==0:\n",
    "        print()\n",
    "\n",
    "print('\\nLast point:')\n",
    "print(run_data[-1,:])"
   ]
  },
  {
   "cell_type": "code",
   "execution_count": 23,
   "metadata": {},
   "outputs": [],
   "source": [
    "plt.cla()\n",
    "for i in range(0, nEs_keep):\n",
    "    plt.plot(ls, run_data[:,i+1], 'o-')\n",
    "plt.ylim(-25,5)\n",
    "plt.xlabel('$\\lambda$')\n",
    "plt.ylabel('$E$ [eV]')\n",
    "plt.show()"
   ]
  },
  {
   "cell_type": "code",
   "execution_count": 20,
   "metadata": {},
   "outputs": [
    {
     "data": {
      "text/html": [
       "<div>\n",
       "<style scoped>\n",
       "    .dataframe tbody tr th:only-of-type {\n",
       "        vertical-align: middle;\n",
       "    }\n",
       "\n",
       "    .dataframe tbody tr th {\n",
       "        vertical-align: top;\n",
       "    }\n",
       "\n",
       "    .dataframe thead th {\n",
       "        text-align: right;\n",
       "    }\n",
       "</style>\n",
       "<table border=\"1\" class=\"dataframe\">\n",
       "  <thead>\n",
       "    <tr style=\"text-align: right;\">\n",
       "      <th></th>\n",
       "      <th>z</th>\n",
       "      <th>E1</th>\n",
       "      <th>E2</th>\n",
       "      <th>E3</th>\n",
       "      <th>E4</th>\n",
       "    </tr>\n",
       "  </thead>\n",
       "  <tbody>\n",
       "    <tr>\n",
       "      <th>0</th>\n",
       "      <td>0.000</td>\n",
       "      <td>-7.157620</td>\n",
       "      <td>3.075487</td>\n",
       "      <td>4.721781</td>\n",
       "      <td>22.496246</td>\n",
       "    </tr>\n",
       "    <tr>\n",
       "      <th>1</th>\n",
       "      <td>0.026</td>\n",
       "      <td>-7.430125</td>\n",
       "      <td>2.937300</td>\n",
       "      <td>4.594006</td>\n",
       "      <td>22.103908</td>\n",
       "    </tr>\n",
       "    <tr>\n",
       "      <th>2</th>\n",
       "      <td>0.052</td>\n",
       "      <td>-7.704192</td>\n",
       "      <td>2.794894</td>\n",
       "      <td>4.470095</td>\n",
       "      <td>21.712583</td>\n",
       "    </tr>\n",
       "    <tr>\n",
       "      <th>3</th>\n",
       "      <td>0.078</td>\n",
       "      <td>-7.979833</td>\n",
       "      <td>2.648357</td>\n",
       "      <td>4.349926</td>\n",
       "      <td>21.322306</td>\n",
       "    </tr>\n",
       "    <tr>\n",
       "      <th>4</th>\n",
       "      <td>0.104</td>\n",
       "      <td>-8.257059</td>\n",
       "      <td>2.497819</td>\n",
       "      <td>4.233332</td>\n",
       "      <td>20.933115</td>\n",
       "    </tr>\n",
       "  </tbody>\n",
       "</table>\n",
       "</div>"
      ],
      "text/plain": [
       "       z        E1        E2        E3         E4\n",
       "0  0.000 -7.157620  3.075487  4.721781  22.496246\n",
       "1  0.026 -7.430125  2.937300  4.594006  22.103908\n",
       "2  0.052 -7.704192  2.794894  4.470095  21.712583\n",
       "3  0.078 -7.979833  2.648357  4.349926  21.322306\n",
       "4  0.104 -8.257059  2.497819  4.233332  20.933115"
      ]
     },
     "execution_count": 20,
     "metadata": {},
     "output_type": "execute_result"
    }
   ],
   "source": [
    "cols = ['z']\n",
    "for i in range(nEs_keep):\n",
    "    cols.append('E'+str(i+1))\n",
    "df = pd.DataFrame(run_data, columns=cols)\n",
    "fname = 'rac_' + bas + '_coulomb.csv'\n",
    "df.to_csv(fname, index=False)\n",
    "df.head(5)"
   ]
  },
  {
   "cell_type": "markdown",
   "metadata": {},
   "source": [
    "## RAC with soft-box\n",
    "\n",
    "$\\mathbf{H}(\\lambda) = \\mathbf{H} - \\lambda \\mathbf{W}\\;$ with \n",
    "$\\;\\mathbf{W}(r) = \\exp(-4r_c^2/r^2) - 1$\n",
    "\n",
    "For Jolanta, $r_c = 3\\,a_0$"
   ]
  },
  {
   "cell_type": "code",
   "execution_count": 22,
   "metadata": {},
   "outputs": [
    {
     "name": "stdout",
     "output_type": "stream",
     "text": [
      "1 2 3 4 5 6 7 8 9 10 \n",
      "11 12 13 14 15 16 17 18 19 20 \n",
      "21 22 23 24 25 26 27 28 29 30 \n",
      "31 32 33 34 35 36 37 38 39 40 \n",
      "41 42 43 44 45 46 47 48 49 50 \n",
      "51 52 53 54 55 56 57 58 59 60 \n",
      "61 62 63 64 65 66 67 68 69 70 \n",
      "71 72 73 74 75 76 77 78 79 80 \n",
      "81 82 83 84 85 86 87 88 89 90 \n",
      "91 92 93 94 95 96 97 98 99 100 \n",
      "101 \n",
      "Last point:\n",
      "[  1.2        -38.57268975 -21.20182523  -8.6456432   -4.27364964]\n"
     ]
    }
   ],
   "source": [
    "l_min=0.0\n",
    "l_max=1.2\n",
    "nEs_keep=4    # how many energies are kept\n",
    "\n",
    "npts=101\n",
    "\n",
    "ls=np.linspace(l_min, l_max, num=npts, endpoint=True)\n",
    "\n",
    "run_data = np.zeros((npts, nEs_keep+1))  # array used to collect all eta-run data\n",
    "run_data[:,0]=ls\n",
    "\n",
    "S, T, V = Jolanta_GTO_H(alpha_val, N_val, jparam)\n",
    "W = Jolanta_GTO_W(Jolanta_3D_softbox, alpha_val, N_val, 3.0)\n",
    "\n",
    "for j, l_curr in enumerate(ls):\n",
    "    VpW = V + l_curr*W\n",
    "    energy = eigvalsh(T+VpW, b=S)\n",
    "    run_data[j,1:] = au2eV*energy[0:nEs_keep]\n",
    "    print(j+1, end=\" \")\n",
    "    if (j+1)%10==0:\n",
    "        print()\n",
    "\n",
    "print('\\nLast point:')\n",
    "print(run_data[-1,:])"
   ]
  },
  {
   "cell_type": "code",
   "execution_count": 24,
   "metadata": {},
   "outputs": [],
   "source": [
    "plt.cla()\n",
    "for i in range(0, nEs_keep):\n",
    "    plt.plot(ls, run_data[:,i+1], 'o-')\n",
    "plt.ylim(-25,5)\n",
    "plt.xlabel('$\\lambda$')\n",
    "plt.ylabel('$E$ [eV]')\n",
    "plt.show()"
   ]
  },
  {
   "cell_type": "code",
   "execution_count": 25,
   "metadata": {},
   "outputs": [
    {
     "data": {
      "text/html": [
       "<div>\n",
       "<style scoped>\n",
       "    .dataframe tbody tr th:only-of-type {\n",
       "        vertical-align: middle;\n",
       "    }\n",
       "\n",
       "    .dataframe tbody tr th {\n",
       "        vertical-align: top;\n",
       "    }\n",
       "\n",
       "    .dataframe thead th {\n",
       "        text-align: right;\n",
       "    }\n",
       "</style>\n",
       "<table border=\"1\" class=\"dataframe\">\n",
       "  <thead>\n",
       "    <tr style=\"text-align: right;\">\n",
       "      <th></th>\n",
       "      <th>z</th>\n",
       "      <th>E1</th>\n",
       "      <th>E2</th>\n",
       "      <th>E3</th>\n",
       "      <th>E4</th>\n",
       "    </tr>\n",
       "  </thead>\n",
       "  <tbody>\n",
       "    <tr>\n",
       "      <th>0</th>\n",
       "      <td>0.000</td>\n",
       "      <td>-7.157620</td>\n",
       "      <td>3.075487</td>\n",
       "      <td>4.721781</td>\n",
       "      <td>22.496246</td>\n",
       "    </tr>\n",
       "    <tr>\n",
       "      <th>1</th>\n",
       "      <td>0.012</td>\n",
       "      <td>-7.468155</td>\n",
       "      <td>2.886998</td>\n",
       "      <td>4.563302</td>\n",
       "      <td>22.195786</td>\n",
       "    </tr>\n",
       "    <tr>\n",
       "      <th>2</th>\n",
       "      <td>0.024</td>\n",
       "      <td>-7.778809</td>\n",
       "      <td>2.693125</td>\n",
       "      <td>4.410124</td>\n",
       "      <td>21.895522</td>\n",
       "    </tr>\n",
       "    <tr>\n",
       "      <th>3</th>\n",
       "      <td>0.036</td>\n",
       "      <td>-8.089581</td>\n",
       "      <td>2.494239</td>\n",
       "      <td>4.261871</td>\n",
       "      <td>21.595458</td>\n",
       "    </tr>\n",
       "    <tr>\n",
       "      <th>4</th>\n",
       "      <td>0.048</td>\n",
       "      <td>-8.400469</td>\n",
       "      <td>2.290753</td>\n",
       "      <td>4.118125</td>\n",
       "      <td>21.295598</td>\n",
       "    </tr>\n",
       "  </tbody>\n",
       "</table>\n",
       "</div>"
      ],
      "text/plain": [
       "       z        E1        E2        E3         E4\n",
       "0  0.000 -7.157620  3.075487  4.721781  22.496246\n",
       "1  0.012 -7.468155  2.886998  4.563302  22.195786\n",
       "2  0.024 -7.778809  2.693125  4.410124  21.895522\n",
       "3  0.036 -8.089581  2.494239  4.261871  21.595458\n",
       "4  0.048 -8.400469  2.290753  4.118125  21.295598"
      ]
     },
     "execution_count": 25,
     "metadata": {},
     "output_type": "execute_result"
    }
   ],
   "source": [
    "cols = ['z']\n",
    "for i in range(nEs_keep):\n",
    "    cols.append('E'+str(i+1))\n",
    "df = pd.DataFrame(run_data, columns=cols)\n",
    "fname = 'rac_' + bas + '_softbox.csv'\n",
    "df.to_csv(fname, index=False)\n",
    "df.head(5)"
   ]
  },
  {
   "cell_type": "code",
   "execution_count": null,
   "metadata": {},
   "outputs": [],
   "source": []
  },
  {
   "cell_type": "code",
   "execution_count": null,
   "metadata": {},
   "outputs": [],
   "source": []
  }
 ],
 "metadata": {
  "kernelspec": {
   "display_name": "Python 3",
   "language": "python",
   "name": "python3"
  },
  "language_info": {
   "codemirror_mode": {
    "name": "ipython",
    "version": 3
   },
   "file_extension": ".py",
   "mimetype": "text/x-python",
   "name": "python",
   "nbconvert_exporter": "python",
   "pygments_lexer": "ipython3",
   "version": "3.8.8"
  }
 },
 "nbformat": 4,
 "nbformat_minor": 4
}
