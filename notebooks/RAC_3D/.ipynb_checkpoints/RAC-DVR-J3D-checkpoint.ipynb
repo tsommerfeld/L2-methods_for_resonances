{
 "cells": [
  {
   "cell_type": "markdown",
   "metadata": {},
   "source": [
    "## RAC/DVR step 1: diagonalize **H**($\\lambda$)"
   ]
  },
  {
   "cell_type": "code",
   "execution_count": 1,
   "metadata": {},
   "outputs": [],
   "source": [
    "import numpy as np\n",
    "import sys\n",
    "import matplotlib.pyplot as plt\n",
    "%matplotlib qt5\n",
    "import pandas as pd\n",
    "#\n",
    "#  extend path by location of the dvr package\n",
    "#\n",
    "sys.path.append('../../Python_libs')\n",
    "import dvr\n",
    "import jolanta"
   ]
  },
  {
   "cell_type": "code",
   "execution_count": 3,
   "metadata": {},
   "outputs": [],
   "source": [
    "amu_to_au=1822.888486192\n",
    "au2cm=219474.63068\n",
    "au2eV=27.211386027\n",
    "Angs2Bohr=1.8897259886"
   ]
  },
  {
   "cell_type": "code",
   "execution_count": 4,
   "metadata": {},
   "outputs": [],
   "source": [
    "#\n",
    "# Jolanata-3D parameters a, b, c: (0.028, 1.0, 0.028)\n",
    "#\n",
    "#   CS-DVR:   \n",
    "#      bound state:  -7.17051 eV\n",
    "#      resonance (3.1729556 - 0.16085j) eV\n",
    "#\n",
    "jparam=(0.028, 1.0, 0.028)"
   ]
  },
  {
   "cell_type": "code",
   "execution_count": 5,
   "metadata": {},
   "outputs": [
    {
     "name": "stdout",
     "output_type": "stream",
     "text": [
      "  1   -0.26351095 au =     -7.17050 eV\n",
      "  2    0.11989697 au =      3.26256 eV\n",
      "  3    0.28142119 au =      7.65786 eV\n",
      "  4    0.52212147 au =     14.20765 eV\n"
     ]
    }
   ],
   "source": [
    "#\n",
    "#  compute DVR of T and V\n",
    "#  then show the density of states\n",
    "#  in a potential + energy-levels plot\n",
    "#  the standard 3D-Jolanta is used (resonance at 1.75 -0.2i eV)\n",
    "#\n",
    "rmin=0\n",
    "rmax=12      # grid from 0 to rmax\n",
    "thresh = 8   # maximum energy for plot\n",
    "ppB = 15     # grid points per Bohr\n",
    "\n",
    "nGrid=int((rmax-rmin)*ppB)\n",
    "rs = dvr.DVRGrid(rmin, rmax, nGrid)\n",
    "Vs = jolanta.Jolanta_3D(rs, jparam)\n",
    "Ts = dvr.KineticEnergy(1, rmin, rmax, nGrid)\n",
    "[energy, wf] = dvr.DVRDiag2(nGrid, Ts, Vs, wf=True)\n",
    "\n",
    "n_ene=0\n",
    "for i in range(nGrid):\n",
    "    print(\"%3d  %12.8f au = %12.5f eV\" % (i+1, energy[i], energy[i]*au2eV))\n",
    "    n_ene += 1\n",
    "    if energy[i]*au2eV > thresh:\n",
    "        break\n",
    "\n",
    "# \"DVR normalization\", sum(wf[:,0]**2)\n",
    "# this is correct for plotting\n",
    "\n",
    "c=[\"orange\", \"blue\"]\n",
    "#h=float(xmax) / (nGrid+1.0)\n",
    "scale=3*au2eV\n",
    "\n",
    "plt.cla()\n",
    "plt.plot(rs,Vs*au2eV, '-', color=\"black\")\n",
    "for i in range(n_ene):\n",
    "    plt.plot(rs, scale*wf[:,i]**2+energy[i]*au2eV, '-', color=c[i%len(c)])\n",
    "plt.ylim(-8, 1.5*thresh)\n",
    "plt.xlabel('$r$ [Bohr]')\n",
    "plt.ylabel('$E$ [eV]')\n",
    "plt.show()"
   ]
  },
  {
   "cell_type": "markdown",
   "metadata": {},
   "source": [
    "## RAC by increasing $b$\n",
    "\n",
    "The last energy needs to be about $7E_r \\approx 22$eV"
   ]
  },
  {
   "cell_type": "code",
   "execution_count": 6,
   "metadata": {},
   "outputs": [],
   "source": [
    "#\n",
    "#  show the potential\n",
    "#\n",
    "a_ref, b_ref, c_ref = jparam\n",
    "plt.cla()\n",
    "for b_curr in [1.1, 1.3, 1.5, 1.7]:\n",
    "    param = [a_ref, b_curr, c_ref]\n",
    "    plt.plot(rs, jolanta.Jolanta_3D(rs, param)*au2eV)\n",
    "\n",
    "plt.ylim(-30, 10)\n",
    "plt.show()"
   ]
  },
  {
   "cell_type": "code",
   "execution_count": 7,
   "metadata": {},
   "outputs": [
    {
     "name": "stdout",
     "output_type": "stream",
     "text": [
      "1 2 3 4 5 6 7 8 9 10 \n",
      "11 12 13 14 15 16 17 18 19 20 \n",
      "21 22 23 24 25 26 27 28 29 30 \n",
      "31 32 33 34 35 36 37 38 39 40 \n",
      "41 42 43 44 45 46 47 48 49 50 \n",
      "51 52 53 54 55 56 57 58 59 60 \n",
      "61 62 63 64 65 66 67 68 69 70 \n",
      "71 72 73 74 75 76 77 78 79 80 \n",
      "81 82 83 84 85 86 87 88 89 90 \n",
      "91 92 93 94 95 96 97 98 99 100 \n",
      "101 [  2.5        -40.14360549 -21.72431982  -7.33018023   1.92800864]\n"
     ]
    }
   ],
   "source": [
    "a_ref, b_ref, c_ref = jparam\n",
    "\n",
    "b_min=b_ref\n",
    "b_max=2.5\n",
    "nEs_keep=4    # how many energies are kept\n",
    "\n",
    "n_b=101\n",
    "\n",
    "bs=np.linspace(b_min, b_max, num=n_b, endpoint=True)\n",
    "\n",
    "run_data = np.zeros((n_b, nEs_keep+1))  # array used to collect all eta-run data\n",
    "run_data[:,0]=bs\n",
    "\n",
    "for l, b_curr in enumerate(bs):\n",
    "    param = [a_ref, b_curr, c_ref]\n",
    "    Vs = jolanta.Jolanta_3D(rs, param)\n",
    "    energy = dvr.DVRDiag2(nGrid, Ts, Vs)\n",
    "    run_data[l,1:] = au2eV*energy[0:nEs_keep]\n",
    "    print(l+1, end=\" \")\n",
    "    if (l+1)%10==0:\n",
    "        print()\n",
    "\n",
    "print(run_data[-1,:])"
   ]
  },
  {
   "cell_type": "code",
   "execution_count": 8,
   "metadata": {},
   "outputs": [],
   "source": [
    "plt.cla()\n",
    "for i in range(0, nEs_keep):\n",
    "    plt.plot(bs, run_data[:,i+1], 'o-')\n",
    "plt.ylim(-25,5)\n",
    "plt.show()"
   ]
  },
  {
   "cell_type": "code",
   "execution_count": 9,
   "metadata": {},
   "outputs": [
    {
     "data": {
      "text/html": [
       "<div>\n",
       "<style scoped>\n",
       "    .dataframe tbody tr th:only-of-type {\n",
       "        vertical-align: middle;\n",
       "    }\n",
       "\n",
       "    .dataframe tbody tr th {\n",
       "        vertical-align: top;\n",
       "    }\n",
       "\n",
       "    .dataframe thead th {\n",
       "        text-align: right;\n",
       "    }\n",
       "</style>\n",
       "<table border=\"1\" class=\"dataframe\">\n",
       "  <thead>\n",
       "    <tr style=\"text-align: right;\">\n",
       "      <th></th>\n",
       "      <th>z</th>\n",
       "      <th>E1</th>\n",
       "      <th>E2</th>\n",
       "      <th>E3</th>\n",
       "      <th>E4</th>\n",
       "    </tr>\n",
       "  </thead>\n",
       "  <tbody>\n",
       "    <tr>\n",
       "      <th>0</th>\n",
       "      <td>1.000</td>\n",
       "      <td>-7.170498</td>\n",
       "      <td>3.262563</td>\n",
       "      <td>7.657861</td>\n",
       "      <td>14.207649</td>\n",
       "    </tr>\n",
       "    <tr>\n",
       "      <th>1</th>\n",
       "      <td>1.015</td>\n",
       "      <td>-7.483851</td>\n",
       "      <td>3.074405</td>\n",
       "      <td>7.549007</td>\n",
       "      <td>14.061701</td>\n",
       "    </tr>\n",
       "    <tr>\n",
       "      <th>2</th>\n",
       "      <td>1.030</td>\n",
       "      <td>-7.797711</td>\n",
       "      <td>2.883511</td>\n",
       "      <td>7.441114</td>\n",
       "      <td>13.916111</td>\n",
       "    </tr>\n",
       "    <tr>\n",
       "      <th>3</th>\n",
       "      <td>1.045</td>\n",
       "      <td>-8.112067</td>\n",
       "      <td>2.689977</td>\n",
       "      <td>7.334070</td>\n",
       "      <td>13.770886</td>\n",
       "    </tr>\n",
       "    <tr>\n",
       "      <th>4</th>\n",
       "      <td>1.060</td>\n",
       "      <td>-8.426911</td>\n",
       "      <td>2.493894</td>\n",
       "      <td>7.227769</td>\n",
       "      <td>13.626032</td>\n",
       "    </tr>\n",
       "  </tbody>\n",
       "</table>\n",
       "</div>"
      ],
      "text/plain": [
       "       z        E1        E2        E3         E4\n",
       "0  1.000 -7.170498  3.262563  7.657861  14.207649\n",
       "1  1.015 -7.483851  3.074405  7.549007  14.061701\n",
       "2  1.030 -7.797711  2.883511  7.441114  13.916111\n",
       "3  1.045 -8.112067  2.689977  7.334070  13.770886\n",
       "4  1.060 -8.426911  2.493894  7.227769  13.626032"
      ]
     },
     "execution_count": 9,
     "metadata": {},
     "output_type": "execute_result"
    }
   ],
   "source": [
    "cols = ['z']\n",
    "for i in range(nEs_keep):\n",
    "    cols.append('E'+str(i+1))\n",
    "df = pd.DataFrame(run_data, columns=cols)\n",
    "df.to_csv('rac_DVR_3D_b-scale_rmax_12.csv', index=False)\n",
    "df.head(5)"
   ]
  },
  {
   "cell_type": "markdown",
   "metadata": {},
   "source": [
    "## RAC with Coulomb potential"
   ]
  },
  {
   "cell_type": "code",
   "execution_count": 10,
   "metadata": {},
   "outputs": [],
   "source": [
    "#\n",
    "#  show the potential\n",
    "#\n",
    "def coulomb(r, lbd=1.0):\n",
    "    \"\"\" attractive Coulomb potential with strength lbd = lamda \"\"\"\n",
    "    return -lbd/r\n",
    "    \n",
    "plt.cla()\n",
    "for l_curr in [0, 0.5, 1.0, 1.5, 2.0]:\n",
    "    plt.plot(rs, (jolanta.Jolanta_3D(rs, jparam)+coulomb(rs, lbd=l_curr))*au2eV)\n",
    "\n",
    "#plt.xlim(0,15)\n",
    "plt.ylim(-30, 10)\n",
    "plt.show()"
   ]
  },
  {
   "cell_type": "code",
   "execution_count": 11,
   "metadata": {},
   "outputs": [
    {
     "name": "stdout",
     "output_type": "stream",
     "text": [
      "1 2 3 4 5 6 7 8 9 10 \n",
      "11 12 13 14 15 16 17 18 19 20 \n",
      "21 22 23 24 25 26 27 28 29 30 \n",
      "31 32 33 34 35 36 37 38 39 40 \n",
      "41 42 43 44 45 46 47 48 49 50 \n",
      "51 52 53 54 55 56 57 58 59 60 \n",
      "61 62 63 64 65 66 67 68 69 70 \n",
      "71 72 73 74 75 76 77 78 79 80 \n",
      "81 82 83 84 85 86 87 88 89 90 \n",
      "91 92 93 94 95 96 97 98 99 100 \n",
      "101 [  2.6        -45.3121785  -21.77660986  -7.6859924   -0.87078918]\n"
     ]
    }
   ],
   "source": [
    "l_min=0.0\n",
    "l_max=2.6\n",
    "nEs_keep=4    # how many energies are kept\n",
    "\n",
    "npts=101\n",
    "\n",
    "ls=np.linspace(l_min, l_max, num=npts, endpoint=True)\n",
    "\n",
    "run_data = np.zeros((npts, nEs_keep+1))  # array used to collect all eta-run data\n",
    "run_data[:,0]=ls\n",
    "\n",
    "VJs = jolanta.Jolanta_3D(rs, jparam)\n",
    "Ws = coulomb(rs, lbd=1.0)\n",
    "\n",
    "for j, l_curr in enumerate(ls):\n",
    "    Vs = VJs + l_curr*Ws\n",
    "    energy = dvr.DVRDiag2(nGrid, Ts, Vs)\n",
    "    run_data[j,1:] = au2eV*energy[0:nEs_keep]\n",
    "    print(j+1, end=\" \")\n",
    "    if (j+1)%10==0:\n",
    "        print()\n",
    "\n",
    "print(run_data[-1,:])"
   ]
  },
  {
   "cell_type": "code",
   "execution_count": 26,
   "metadata": {},
   "outputs": [],
   "source": [
    "plt.cla()\n",
    "for i in range(0, nEs_keep):\n",
    "    plt.plot(ls, run_data[:,i+1], 'o-')\n",
    "plt.ylim(-25,5)\n",
    "plt.show()"
   ]
  },
  {
   "cell_type": "code",
   "execution_count": 19,
   "metadata": {},
   "outputs": [
    {
     "data": {
      "text/html": [
       "<div>\n",
       "<style scoped>\n",
       "    .dataframe tbody tr th:only-of-type {\n",
       "        vertical-align: middle;\n",
       "    }\n",
       "\n",
       "    .dataframe tbody tr th {\n",
       "        vertical-align: top;\n",
       "    }\n",
       "\n",
       "    .dataframe thead th {\n",
       "        text-align: right;\n",
       "    }\n",
       "</style>\n",
       "<table border=\"1\" class=\"dataframe\">\n",
       "  <thead>\n",
       "    <tr style=\"text-align: right;\">\n",
       "      <th></th>\n",
       "      <th>z</th>\n",
       "      <th>E1</th>\n",
       "      <th>E2</th>\n",
       "      <th>E3</th>\n",
       "      <th>E4</th>\n",
       "    </tr>\n",
       "  </thead>\n",
       "  <tbody>\n",
       "    <tr>\n",
       "      <th>0</th>\n",
       "      <td>0.000</td>\n",
       "      <td>-7.170498</td>\n",
       "      <td>3.262563</td>\n",
       "      <td>7.657861</td>\n",
       "      <td>14.207649</td>\n",
       "    </tr>\n",
       "    <tr>\n",
       "      <th>1</th>\n",
       "      <td>0.026</td>\n",
       "      <td>-7.441807</td>\n",
       "      <td>3.088504</td>\n",
       "      <td>7.527836</td>\n",
       "      <td>14.046357</td>\n",
       "    </tr>\n",
       "    <tr>\n",
       "      <th>2</th>\n",
       "      <td>0.052</td>\n",
       "      <td>-7.714752</td>\n",
       "      <td>2.912665</td>\n",
       "      <td>7.398241</td>\n",
       "      <td>13.885040</td>\n",
       "    </tr>\n",
       "    <tr>\n",
       "      <th>3</th>\n",
       "      <td>0.078</td>\n",
       "      <td>-7.989346</td>\n",
       "      <td>2.735048</td>\n",
       "      <td>7.269054</td>\n",
       "      <td>13.723701</td>\n",
       "    </tr>\n",
       "    <tr>\n",
       "      <th>4</th>\n",
       "      <td>0.104</td>\n",
       "      <td>-8.265605</td>\n",
       "      <td>2.555657</td>\n",
       "      <td>7.140253</td>\n",
       "      <td>13.562343</td>\n",
       "    </tr>\n",
       "  </tbody>\n",
       "</table>\n",
       "</div>"
      ],
      "text/plain": [
       "       z        E1        E2        E3         E4\n",
       "0  0.000 -7.170498  3.262563  7.657861  14.207649\n",
       "1  0.026 -7.441807  3.088504  7.527836  14.046357\n",
       "2  0.052 -7.714752  2.912665  7.398241  13.885040\n",
       "3  0.078 -7.989346  2.735048  7.269054  13.723701\n",
       "4  0.104 -8.265605  2.555657  7.140253  13.562343"
      ]
     },
     "execution_count": 19,
     "metadata": {},
     "output_type": "execute_result"
    }
   ],
   "source": [
    "cols = ['z']\n",
    "for i in range(nEs_keep):\n",
    "    cols.append('E'+str(i+1))\n",
    "df = pd.DataFrame(run_data, columns=cols)\n",
    "df.to_csv('rac_DVR_3D_coulomb_rmax_12.csv', index=False)\n",
    "df.head(5)"
   ]
  },
  {
   "cell_type": "markdown",
   "metadata": {},
   "source": [
    "## RAC with soft-box"
   ]
  },
  {
   "cell_type": "code",
   "execution_count": 20,
   "metadata": {},
   "outputs": [],
   "source": [
    "#\n",
    "#  show the box potential\n",
    "#\n",
    "def softbox(r, rcut=1.0, lbd=1.0):\n",
    "    \"\"\" \n",
    "    Softbox: \n",
    "    -1 at the origin, rises at r0 softly to asymptotic 0\n",
    "    based on Gaussian with inverted scale\n",
    "    \"\"\"\n",
    "    return lbd*(np.exp(-(2*rcut)**2/r**2) - 1)\n",
    "\n",
    "plt.cla()\n",
    "for l_curr in [0.1, 0.2, 0.3, 0.4, 0.5]:\n",
    "    Vs = jolanta.Jolanta_3D(rs, jparam)\n",
    "    Ws = softbox(rs, rcut=5.0, lbd=l_curr)\n",
    "    plt.plot(rs, Ws*au2eV)\n",
    "\n",
    "plt.xlim(0,20)\n",
    "plt.ylim(-15, 0)\n",
    "plt.show()"
   ]
  },
  {
   "cell_type": "code",
   "execution_count": 21,
   "metadata": {},
   "outputs": [],
   "source": [
    "#\n",
    "#  show the full potential\n",
    "#\n",
    "plt.cla()\n",
    "for l_curr in [0.1, 0.2, 0.3, 0.4, 0.5]:\n",
    "    Vs = jolanta.Jolanta_3D(rs, jparam)\n",
    "    Ws = softbox(rs, rcut=3.0, lbd=l_curr)\n",
    "    plt.plot(rs, (Vs+Ws)*au2eV)\n",
    "\n",
    "#plt.xlim(0,20)\n",
    "plt.ylim(-30, 8)\n",
    "plt.show()"
   ]
  },
  {
   "cell_type": "code",
   "execution_count": 22,
   "metadata": {},
   "outputs": [
    {
     "name": "stdout",
     "output_type": "stream",
     "text": [
      "1 2 3 4 5 6 7 8 9 10 \n",
      "11 12 13 14 15 16 17 18 19 20 \n",
      "21 22 23 24 25 26 27 28 29 30 \n",
      "31 32 33 34 35 36 37 38 39 40 \n",
      "41 42 43 44 45 46 47 48 49 50 \n",
      "51 52 53 54 55 56 57 58 59 60 \n",
      "61 62 63 64 65 66 67 68 69 70 \n",
      "71 72 73 74 75 76 77 78 79 80 \n",
      "81 82 83 84 85 86 87 88 89 90 \n",
      "91 92 93 94 95 96 97 98 99 100 \n",
      "101 [  1.2        -38.57676846 -22.90126541 -10.86827086  -3.4565116 ]\n"
     ]
    }
   ],
   "source": [
    "l_min=0.0\n",
    "l_max=1.2\n",
    "nEs_keep=4    # how many energies are kept\n",
    "\n",
    "npts=101\n",
    "\n",
    "ls=np.linspace(l_min, l_max, num=npts, endpoint=True)\n",
    "\n",
    "run_data = np.zeros((npts, nEs_keep+1))  # array used to collect all eta-run data\n",
    "run_data[:,0]=ls\n",
    "\n",
    "VJs = jolanta.Jolanta_3D(rs, jparam)\n",
    "Ws = softbox(rs, rcut=3.0, lbd=1.0)\n",
    "\n",
    "for j, l_curr in enumerate(ls):\n",
    "    Vs = VJs + l_curr*Ws\n",
    "    energy = dvr.DVRDiag2(nGrid, Ts, Vs)\n",
    "    run_data[j,1:] = au2eV*energy[0:nEs_keep]\n",
    "    print(j+1, end=\" \")\n",
    "    if (j+1)%10==0:\n",
    "        print()\n",
    "\n",
    "print(run_data[-1,:])"
   ]
  },
  {
   "cell_type": "code",
   "execution_count": 23,
   "metadata": {},
   "outputs": [],
   "source": [
    "plt.cla()\n",
    "for i in range(0, nEs_keep):\n",
    "    plt.plot(ls, run_data[:,i+1], 'o-')\n",
    "plt.ylim(-25,5)\n",
    "plt.show()"
   ]
  },
  {
   "cell_type": "code",
   "execution_count": 24,
   "metadata": {},
   "outputs": [
    {
     "data": {
      "text/html": [
       "<div>\n",
       "<style scoped>\n",
       "    .dataframe tbody tr th:only-of-type {\n",
       "        vertical-align: middle;\n",
       "    }\n",
       "\n",
       "    .dataframe tbody tr th {\n",
       "        vertical-align: top;\n",
       "    }\n",
       "\n",
       "    .dataframe thead th {\n",
       "        text-align: right;\n",
       "    }\n",
       "</style>\n",
       "<table border=\"1\" class=\"dataframe\">\n",
       "  <thead>\n",
       "    <tr style=\"text-align: right;\">\n",
       "      <th></th>\n",
       "      <th>z</th>\n",
       "      <th>E1</th>\n",
       "      <th>E2</th>\n",
       "      <th>E3</th>\n",
       "      <th>E4</th>\n",
       "    </tr>\n",
       "  </thead>\n",
       "  <tbody>\n",
       "    <tr>\n",
       "      <th>0</th>\n",
       "      <td>0.000</td>\n",
       "      <td>-7.170498</td>\n",
       "      <td>3.262563</td>\n",
       "      <td>7.657861</td>\n",
       "      <td>14.207649</td>\n",
       "    </tr>\n",
       "    <tr>\n",
       "      <th>1</th>\n",
       "      <td>0.012</td>\n",
       "      <td>-7.480868</td>\n",
       "      <td>3.036171</td>\n",
       "      <td>7.493931</td>\n",
       "      <td>14.017346</td>\n",
       "    </tr>\n",
       "    <tr>\n",
       "      <th>2</th>\n",
       "      <td>0.024</td>\n",
       "      <td>-7.791352</td>\n",
       "      <td>2.808331</td>\n",
       "      <td>7.330435</td>\n",
       "      <td>13.827244</td>\n",
       "    </tr>\n",
       "    <tr>\n",
       "      <th>3</th>\n",
       "      <td>0.036</td>\n",
       "      <td>-8.101948</td>\n",
       "      <td>2.579084</td>\n",
       "      <td>7.167323</td>\n",
       "      <td>13.637347</td>\n",
       "    </tr>\n",
       "    <tr>\n",
       "      <th>4</th>\n",
       "      <td>0.048</td>\n",
       "      <td>-8.412653</td>\n",
       "      <td>2.348473</td>\n",
       "      <td>7.004549</td>\n",
       "      <td>13.447656</td>\n",
       "    </tr>\n",
       "  </tbody>\n",
       "</table>\n",
       "</div>"
      ],
      "text/plain": [
       "       z        E1        E2        E3         E4\n",
       "0  0.000 -7.170498  3.262563  7.657861  14.207649\n",
       "1  0.012 -7.480868  3.036171  7.493931  14.017346\n",
       "2  0.024 -7.791352  2.808331  7.330435  13.827244\n",
       "3  0.036 -8.101948  2.579084  7.167323  13.637347\n",
       "4  0.048 -8.412653  2.348473  7.004549  13.447656"
      ]
     },
     "execution_count": 24,
     "metadata": {},
     "output_type": "execute_result"
    }
   ],
   "source": [
    "cols = ['z']\n",
    "for i in range(nEs_keep):\n",
    "    cols.append('E'+str(i+1))\n",
    "df = pd.DataFrame(run_data, columns=cols)\n",
    "df.to_csv('rac_DVR_3D_softbox_rmax_12.csv', index=False)\n",
    "df.head(5)"
   ]
  },
  {
   "cell_type": "code",
   "execution_count": null,
   "metadata": {},
   "outputs": [],
   "source": []
  }
 ],
 "metadata": {
  "kernelspec": {
   "display_name": "Python 3",
   "language": "python",
   "name": "python3"
  },
  "language_info": {
   "codemirror_mode": {
    "name": "ipython",
    "version": 3
   },
   "file_extension": ".py",
   "mimetype": "text/x-python",
   "name": "python",
   "nbconvert_exporter": "python",
   "pygments_lexer": "ipython3",
   "version": "3.8.8"
  }
 },
 "nbformat": 4,
 "nbformat_minor": 4
}
