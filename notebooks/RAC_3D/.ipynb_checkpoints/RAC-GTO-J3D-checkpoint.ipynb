{
 "cells": [
  {
   "cell_type": "markdown",
   "metadata": {},
   "source": [
    "# RAC step 1 in a GTO basis\n",
    "\n",
    "Three artifical stabilizing potentials:\n",
    "1. Increase of the Jolanta parameter *b*\n",
    "2. Add a Coulomb to **H**\n",
    "3. Add a soft-box to **H**"
   ]
  },
  {
   "cell_type": "code",
   "execution_count": 1,
   "metadata": {},
   "outputs": [],
   "source": [
    "show_plots=1  # 0: no plots, 1: RAC plots, 2: all plots "
   ]
  },
  {
   "cell_type": "code",
   "execution_count": 2,
   "metadata": {},
   "outputs": [],
   "source": [
    "import numpy as np\n",
    "from scipy.linalg import eigh, eigvalsh\n",
    "import matplotlib.pyplot as plt\n",
    "%matplotlib qt5\n",
    "#import matplotlib\n",
    "#matplotlib.use('Qt5Agg')\n",
    "import pandas as pd"
   ]
  },
  {
   "cell_type": "code",
   "execution_count": 3,
   "metadata": {},
   "outputs": [],
   "source": [
    "import sys\n",
    "sys.path.append('../../Python_libs')\n",
    "from GTO_basis import GBR\n",
    "from jolanta import Jolanta_3D"
   ]
  },
  {
   "cell_type": "code",
   "execution_count": 4,
   "metadata": {},
   "outputs": [],
   "source": [
    "amu_to_au=1822.888486192\n",
    "au2cm=219474.63068\n",
    "au2eV=27.211386027\n",
    "Angs2Bohr=1.8897259886"
   ]
  },
  {
   "cell_type": "code",
   "execution_count": 5,
   "metadata": {},
   "outputs": [],
   "source": [
    "#\n",
    "# Jolanata parameters a, b, c:\n",
    "#\n",
    "#    bound state:  -12.26336 eV\n",
    "#    resonance: (3.279526396 - 0.2079713j)  eV\n",
    "jparam=(0.028, 1.0, 0.028)"
   ]
  },
  {
   "cell_type": "markdown",
   "metadata": {},
   "source": [
    "* Create a valence set $[\\alpha_0, \\alpha_0/s, \\alpha_0/s^2, ..., \\alpha_N]$\n",
    "* Diagonalize **H** to compare with $E_0^{DVR}$\n",
    "* The recommendation for RAC is to use no diffuse function as a diffuse set may spell trouble at threshold, in particular, if with long-range artifical potentials."
   ]
  },
  {
   "cell_type": "code",
   "execution_count": 33,
   "metadata": {},
   "outputs": [
    {
     "name": "stdout",
     "output_type": "stream",
     "text": [
      "GTO_TZ_0\n"
     ]
    }
   ],
   "source": [
    "sets=['GTO_unc', 'GTO_DZ', 'GTO_TZ']\n",
    "bas = sets[2]\n",
    "nval=10\n",
    "a0=17.0\n",
    "s=2\n",
    "ndf=0\n",
    "sdf=1.5\n",
    "if bas == 'GTO_unc':\n",
    "    contract = (0,0)\n",
    "elif bas == 'GTO_DZ':\n",
    "    contract = (1,1)  # one contracted, one uncontracted function\n",
    "elif bas == 'GTO_TZ':\n",
    "    contract = (1,2)  # one contracted, two uncontracted function\n",
    "else:\n",
    "    print('No such basis.')\n",
    "\n",
    "bas_name=bas+'_'+str(ndf)\n",
    "print(bas_name)"
   ]
  },
  {
   "cell_type": "markdown",
   "metadata": {},
   "source": [
    "### Basis set\n",
    "* Compare the bound state with DVR: $E_0 = -7.17051$ eV"
   ]
  },
  {
   "cell_type": "code",
   "execution_count": 34,
   "metadata": {},
   "outputs": [
    {
     "name": "stdout",
     "output_type": "stream",
     "text": [
      "E0 = -7.170439   Emax = 7.526354\n",
      "      alpha         r0=1/sqrt(alpha)     Norm\n",
      "   1.70000000e+01    2.42535625e-01    1.0070e+02\n",
      "   8.50000000e+00    3.42997170e-01    4.2341e+01\n",
      "   4.25000000e+00    4.85071250e-01    1.7802e+01\n",
      "   2.12500000e+00    6.85994341e-01    7.4848e+00\n",
      "   1.06250000e+00    9.70142500e-01    3.1470e+00\n",
      "   5.31250000e-01    1.37198868e+00    1.3231e+00\n",
      "   2.65625000e-01    1.94028500e+00    5.5631e-01\n",
      "   1.32812500e-01    2.74397736e+00    2.3390e-01\n",
      "   6.64062500e-02    3.88057000e+00    9.8343e-02\n",
      "   3.32031250e-02    5.48795472e+00    4.1348e-02\n"
     ]
    }
   ],
   "source": [
    "alpha_val=[a0]\n",
    "for i in range(nval-1):\n",
    "    alpha_val.append(alpha_val[-1]/s)\n",
    "Bas = GBR(alpha_val, jparam, contract=contract, diffuse=(ndf,sdf))\n",
    "S, T, V = Bas.STV()\n",
    "Es, cs = eigh(T+V, b=S)\n",
    "print(f'E0 = {Es[0]*au2eV:.6f}   Emax = {Es[-1]*au2eV:.6f}')\n",
    "Bas.print_exp()\n",
    "\n",
    "if show_plots > 1:\n",
    "    scale=10\n",
    "    xmax=15\n",
    "    xs=np.linspace(0.1,xmax,200)\n",
    "    Vs=Jolanta_3D(xs, jparam)\n",
    "    plt.cla()\n",
    "    plt.plot(xs,Vs*au2eV, '-', color=\"blue\")\n",
    "    for i in range(len(Es)):\n",
    "        ys=Bas.eval_vector(cs[:,i], xs)\n",
    "        plt.plot(xs,scale*ys**2+Es[i]*au2eV, '-')\n",
    "    plt.ylim(-8,10)\n",
    "    plt.show()"
   ]
  },
  {
   "cell_type": "markdown",
   "metadata": {},
   "source": [
    "## RAC by increasing $b$\n",
    "\n",
    "The last energy needs to be about $7E_r \\approx 22$eV"
   ]
  },
  {
   "cell_type": "code",
   "execution_count": 39,
   "metadata": {},
   "outputs": [
    {
     "name": "stdout",
     "output_type": "stream",
     "text": [
      "1 2 3 4 5 6 7 8 9 10 \n",
      "11 12 13 14 15 16 17 18 19 20 \n",
      "21 22 23 24 25 26 27 28 29 30 \n",
      "31 32 33 34 35 36 37 38 39 40 \n",
      "41 42 43 44 45 46 47 48 49 50 \n",
      "51 52 53 54 55 56 57 58 59 60 \n",
      "61 62 63 64 65 66 67 68 69 70 \n",
      "71 72 73 74 75 76 77 78 79 80 \n",
      "81 82 83 84 85 86 87 88 89 90 \n",
      "91 92 93 94 95 96 97 98 99 100 \n",
      "101 \n",
      "Last point:\n",
      "[  2.8        -46.51913749 -22.55470413]\n"
     ]
    }
   ],
   "source": [
    "a_ref, b_ref, c_ref = jparam\n",
    "\n",
    "b_min=b_ref\n",
    "b_max=2.5  # uncontracted\n",
    "b_max=4.0  # DZ\n",
    "b_max=2.8  # TZ\n",
    "nEs_keep=2    # how many energies are kept\n",
    "\n",
    "n_b=101\n",
    "\n",
    "bs=np.linspace(b_min, b_max, num=n_b, endpoint=True)\n",
    "\n",
    "run_data = np.zeros((n_b, nEs_keep+1))  # array used to collect all eta-run data\n",
    "run_data[:,0]=bs\n",
    "\n",
    "for l, b_curr in enumerate(bs):\n",
    "    param = [a_ref, b_curr, c_ref]\n",
    "    Vb = Bas.V_jolanta(param)\n",
    "    energy = eigvalsh(T+Vb, b=S)\n",
    "    run_data[l,1:] = au2eV*energy[0:nEs_keep]\n",
    "    print(l+1, end=\" \")\n",
    "    if (l+1)%10==0:\n",
    "        print()\n",
    "\n",
    "print('\\nLast point:')\n",
    "print(run_data[-1,:])"
   ]
  },
  {
   "cell_type": "code",
   "execution_count": 40,
   "metadata": {},
   "outputs": [],
   "source": [
    "if show_plots > 0:\n",
    "    plt.cla()\n",
    "    for i in range(0, nEs_keep):\n",
    "        plt.plot(bs, run_data[:,i+1], 'o-')\n",
    "    plt.ylim(-25,5)\n",
    "    plt.xlabel('$b$')\n",
    "    plt.ylabel('$E$ [eV]')\n",
    "    plt.show()"
   ]
  },
  {
   "cell_type": "code",
   "execution_count": 41,
   "metadata": {},
   "outputs": [
    {
     "name": "stdout",
     "output_type": "stream",
     "text": [
      "rac_GTO_TZ_0_b-scale.csv\n"
     ]
    },
    {
     "data": {
      "text/html": [
       "<div>\n",
       "<style scoped>\n",
       "    .dataframe tbody tr th:only-of-type {\n",
       "        vertical-align: middle;\n",
       "    }\n",
       "\n",
       "    .dataframe tbody tr th {\n",
       "        vertical-align: top;\n",
       "    }\n",
       "\n",
       "    .dataframe thead th {\n",
       "        text-align: right;\n",
       "    }\n",
       "</style>\n",
       "<table border=\"1\" class=\"dataframe\">\n",
       "  <thead>\n",
       "    <tr style=\"text-align: right;\">\n",
       "      <th></th>\n",
       "      <th>z</th>\n",
       "      <th>E1</th>\n",
       "      <th>E2</th>\n",
       "    </tr>\n",
       "  </thead>\n",
       "  <tbody>\n",
       "    <tr>\n",
       "      <th>0</th>\n",
       "      <td>1.000</td>\n",
       "      <td>-7.170439</td>\n",
       "      <td>3.298521</td>\n",
       "    </tr>\n",
       "    <tr>\n",
       "      <th>1</th>\n",
       "      <td>1.018</td>\n",
       "      <td>-7.546503</td>\n",
       "      <td>3.081174</td>\n",
       "    </tr>\n",
       "    <tr>\n",
       "      <th>2</th>\n",
       "      <td>1.036</td>\n",
       "      <td>-7.923260</td>\n",
       "      <td>2.860235</td>\n",
       "    </tr>\n",
       "    <tr>\n",
       "      <th>3</th>\n",
       "      <td>1.054</td>\n",
       "      <td>-8.300690</td>\n",
       "      <td>2.635890</td>\n",
       "    </tr>\n",
       "    <tr>\n",
       "      <th>4</th>\n",
       "      <td>1.072</td>\n",
       "      <td>-8.678773</td>\n",
       "      <td>2.408328</td>\n",
       "    </tr>\n",
       "  </tbody>\n",
       "</table>\n",
       "</div>"
      ],
      "text/plain": [
       "       z        E1        E2\n",
       "0  1.000 -7.170439  3.298521\n",
       "1  1.018 -7.546503  3.081174\n",
       "2  1.036 -7.923260  2.860235\n",
       "3  1.054 -8.300690  2.635890\n",
       "4  1.072 -8.678773  2.408328"
      ]
     },
     "execution_count": 41,
     "metadata": {},
     "output_type": "execute_result"
    }
   ],
   "source": [
    "cols = ['z']\n",
    "for i in range(nEs_keep):\n",
    "    cols.append('E'+str(i+1))\n",
    "df = pd.DataFrame(run_data, columns=cols)\n",
    "fname = 'rac_' + bas_name + '_b-scale.csv'\n",
    "print(fname)\n",
    "df.to_csv(fname, index=False)\n",
    "df.head(5)"
   ]
  },
  {
   "cell_type": "markdown",
   "metadata": {},
   "source": [
    "## RAC with Coulomb potential\n",
    "\n",
    "$\\mathbf{H}(\\lambda) = \\mathbf{H} - \\frac{\\lambda}{r}$"
   ]
  },
  {
   "cell_type": "code",
   "execution_count": 43,
   "metadata": {},
   "outputs": [
    {
     "name": "stdout",
     "output_type": "stream",
     "text": [
      "1 2 3 4 5 6 7 8 9 10 \n",
      "11 12 13 14 15 16 17 18 19 20 \n",
      "21 22 23 24 25 26 27 28 29 30 \n",
      "31 32 33 34 35 36 37 38 39 40 \n",
      "41 42 43 44 45 46 47 48 49 50 \n",
      "51 52 53 54 55 56 57 58 59 60 \n",
      "61 62 63 64 65 66 67 68 69 70 \n",
      "71 72 73 74 75 76 77 78 79 80 \n",
      "81 82 83 84 85 86 87 88 89 90 \n",
      "91 92 93 94 95 96 97 98 99 100 \n",
      "101 \n",
      "Last point:\n",
      "[  4.         -55.0153913  -22.57357925]\n"
     ]
    }
   ],
   "source": [
    "l_min=0.0\n",
    "l_max=2.6  # uncontracted\n",
    "l_max=5.6  # DZ\n",
    "l_max=4.0  # TZ\n",
    "\n",
    "\n",
    "npts=101\n",
    "\n",
    "ls=np.linspace(l_min, l_max, num=npts, endpoint=True)\n",
    "\n",
    "run_data = np.zeros((npts, nEs_keep+1))  # array used to collect all eta-run data\n",
    "run_data[:,0]=ls\n",
    "\n",
    "W = Bas.V_Coulomb()\n",
    "\n",
    "for j, l_curr in enumerate(ls):\n",
    "    VpW = V + l_curr*W\n",
    "    energy = eigvalsh(T+VpW, b=S)\n",
    "    run_data[j,1:] = au2eV*energy[0:nEs_keep]\n",
    "    print(j+1, end=\" \")\n",
    "    if (j+1)%10==0:\n",
    "        print()\n",
    "\n",
    "print('\\nLast point:')\n",
    "print(run_data[-1,:])"
   ]
  },
  {
   "cell_type": "code",
   "execution_count": 46,
   "metadata": {},
   "outputs": [],
   "source": [
    "if show_plots > 0:\n",
    "    plt.cla()\n",
    "    for i in range(0, nEs_keep):\n",
    "        plt.plot(ls, run_data[:,i+1], 'o-')\n",
    "    plt.ylim(-25,5)\n",
    "    plt.xlabel('$\\lambda$')\n",
    "    plt.ylabel('$E$ [eV]')\n",
    "    plt.show()"
   ]
  },
  {
   "cell_type": "code",
   "execution_count": 45,
   "metadata": {},
   "outputs": [
    {
     "name": "stdout",
     "output_type": "stream",
     "text": [
      "rac_GTO_TZ_0_coulomb.csv\n"
     ]
    },
    {
     "data": {
      "text/html": [
       "<div>\n",
       "<style scoped>\n",
       "    .dataframe tbody tr th:only-of-type {\n",
       "        vertical-align: middle;\n",
       "    }\n",
       "\n",
       "    .dataframe tbody tr th {\n",
       "        vertical-align: top;\n",
       "    }\n",
       "\n",
       "    .dataframe thead th {\n",
       "        text-align: right;\n",
       "    }\n",
       "</style>\n",
       "<table border=\"1\" class=\"dataframe\">\n",
       "  <thead>\n",
       "    <tr style=\"text-align: right;\">\n",
       "      <th></th>\n",
       "      <th>z</th>\n",
       "      <th>E1</th>\n",
       "      <th>E2</th>\n",
       "    </tr>\n",
       "  </thead>\n",
       "  <tbody>\n",
       "    <tr>\n",
       "      <th>0</th>\n",
       "      <td>0.00</td>\n",
       "      <td>-7.170439</td>\n",
       "      <td>3.298521</td>\n",
       "    </tr>\n",
       "    <tr>\n",
       "      <th>1</th>\n",
       "      <td>0.04</td>\n",
       "      <td>-7.587957</td>\n",
       "      <td>3.047132</td>\n",
       "    </tr>\n",
       "    <tr>\n",
       "      <th>2</th>\n",
       "      <td>0.08</td>\n",
       "      <td>-8.008184</td>\n",
       "      <td>2.793364</td>\n",
       "    </tr>\n",
       "    <tr>\n",
       "      <th>3</th>\n",
       "      <td>0.12</td>\n",
       "      <td>-8.431057</td>\n",
       "      <td>2.537413</td>\n",
       "    </tr>\n",
       "    <tr>\n",
       "      <th>4</th>\n",
       "      <td>0.16</td>\n",
       "      <td>-8.856508</td>\n",
       "      <td>2.279476</td>\n",
       "    </tr>\n",
       "  </tbody>\n",
       "</table>\n",
       "</div>"
      ],
      "text/plain": [
       "      z        E1        E2\n",
       "0  0.00 -7.170439  3.298521\n",
       "1  0.04 -7.587957  3.047132\n",
       "2  0.08 -8.008184  2.793364\n",
       "3  0.12 -8.431057  2.537413\n",
       "4  0.16 -8.856508  2.279476"
      ]
     },
     "execution_count": 45,
     "metadata": {},
     "output_type": "execute_result"
    }
   ],
   "source": [
    "cols = ['z']\n",
    "for i in range(nEs_keep):\n",
    "    cols.append('E'+str(i+1))\n",
    "df = pd.DataFrame(run_data, columns=cols)\n",
    "fname = 'rac_' + bas_name + '_coulomb.csv'\n",
    "print(fname)\n",
    "df.to_csv(fname, index=False)\n",
    "df.head(5)"
   ]
  },
  {
   "cell_type": "markdown",
   "metadata": {},
   "source": [
    "## RAC with soft-box\n",
    "\n",
    "$\\mathbf{H}(\\lambda) = \\mathbf{H} - \\lambda \\mathbf{W}\\;$ with \n",
    "$\\;\\mathbf{W}(r) = \\exp(-4r_c^2/r^2) - 1$\n",
    "\n",
    "For Jolanta, $r_c = 3\\,a_0$"
   ]
  },
  {
   "cell_type": "code",
   "execution_count": 50,
   "metadata": {},
   "outputs": [
    {
     "name": "stdout",
     "output_type": "stream",
     "text": [
      "1 2 3 4 5 6 7 8 9 10 \n",
      "11 12 13 14 15 16 17 18 19 20 \n",
      "21 22 23 24 25 26 27 28 29 30 \n",
      "31 32 33 34 35 36 37 38 39 40 \n",
      "41 42 43 44 45 46 47 48 49 50 \n",
      "51 52 53 54 55 56 57 58 59 60 \n",
      "61 62 63 64 65 66 67 68 69 70 \n",
      "71 72 73 74 75 76 77 78 79 80 \n",
      "81 82 83 84 85 86 87 88 89 90 \n",
      "91 92 93 94 95 96 97 98 99 100 \n",
      "101 \n",
      "Last point:\n",
      "[  1.3        -41.20455264 -23.65921876]\n"
     ]
    }
   ],
   "source": [
    "l_min=0.0\n",
    "l_max=1.2  # uncontracted\n",
    "l_max=1.6  # DZ\n",
    "l_max=1.3  # TZ\n",
    "\n",
    "rc=3.0\n",
    "\n",
    "\n",
    "npts=101\n",
    "\n",
    "ls=np.linspace(l_min, l_max, num=npts, endpoint=True)\n",
    "\n",
    "run_data = np.zeros((npts, nEs_keep+1))  # array used to collect all eta-run data\n",
    "run_data[:,0]=ls\n",
    "\n",
    "W = Bas.V_softbox(rc)\n",
    "\n",
    "for j, l_curr in enumerate(ls):\n",
    "    VpW = V + l_curr*W\n",
    "    energy = eigvalsh(T+VpW, b=S)\n",
    "    run_data[j,1:] = au2eV*energy[0:nEs_keep]\n",
    "    print(j+1, end=\" \")\n",
    "    if (j+1)%10==0:\n",
    "        print()\n",
    "\n",
    "print('\\nLast point:')\n",
    "print(run_data[-1,:])"
   ]
  },
  {
   "cell_type": "code",
   "execution_count": 51,
   "metadata": {},
   "outputs": [],
   "source": [
    "if show_plots > 0:\n",
    "    plt.cla()\n",
    "    for i in range(0, nEs_keep):\n",
    "        plt.plot(ls, run_data[:,i+1], 'o-')\n",
    "    plt.ylim(-25,5)\n",
    "    plt.xlabel('$\\lambda$')\n",
    "    plt.ylabel('$E$ [eV]')\n",
    "    plt.show()"
   ]
  },
  {
   "cell_type": "code",
   "execution_count": 52,
   "metadata": {},
   "outputs": [
    {
     "name": "stdout",
     "output_type": "stream",
     "text": [
      "rac_GTO_TZ_0_softbox.csv\n"
     ]
    },
    {
     "data": {
      "text/html": [
       "<div>\n",
       "<style scoped>\n",
       "    .dataframe tbody tr th:only-of-type {\n",
       "        vertical-align: middle;\n",
       "    }\n",
       "\n",
       "    .dataframe tbody tr th {\n",
       "        vertical-align: top;\n",
       "    }\n",
       "\n",
       "    .dataframe thead th {\n",
       "        text-align: right;\n",
       "    }\n",
       "</style>\n",
       "<table border=\"1\" class=\"dataframe\">\n",
       "  <thead>\n",
       "    <tr style=\"text-align: right;\">\n",
       "      <th></th>\n",
       "      <th>z</th>\n",
       "      <th>E1</th>\n",
       "      <th>E2</th>\n",
       "    </tr>\n",
       "  </thead>\n",
       "  <tbody>\n",
       "    <tr>\n",
       "      <th>0</th>\n",
       "      <td>0.000</td>\n",
       "      <td>-7.170439</td>\n",
       "      <td>3.298521</td>\n",
       "    </tr>\n",
       "    <tr>\n",
       "      <th>1</th>\n",
       "      <td>0.013</td>\n",
       "      <td>-7.506676</td>\n",
       "      <td>3.057427</td>\n",
       "    </tr>\n",
       "    <tr>\n",
       "      <th>2</th>\n",
       "      <td>0.026</td>\n",
       "      <td>-7.843046</td>\n",
       "      <td>2.814717</td>\n",
       "    </tr>\n",
       "    <tr>\n",
       "      <th>3</th>\n",
       "      <td>0.039</td>\n",
       "      <td>-8.179546</td>\n",
       "      <td>2.570440</td>\n",
       "    </tr>\n",
       "    <tr>\n",
       "      <th>4</th>\n",
       "      <td>0.052</td>\n",
       "      <td>-8.516174</td>\n",
       "      <td>2.324650</td>\n",
       "    </tr>\n",
       "  </tbody>\n",
       "</table>\n",
       "</div>"
      ],
      "text/plain": [
       "       z        E1        E2\n",
       "0  0.000 -7.170439  3.298521\n",
       "1  0.013 -7.506676  3.057427\n",
       "2  0.026 -7.843046  2.814717\n",
       "3  0.039 -8.179546  2.570440\n",
       "4  0.052 -8.516174  2.324650"
      ]
     },
     "execution_count": 52,
     "metadata": {},
     "output_type": "execute_result"
    }
   ],
   "source": [
    "cols = ['z']\n",
    "for i in range(nEs_keep):\n",
    "    cols.append('E'+str(i+1))\n",
    "df = pd.DataFrame(run_data, columns=cols)\n",
    "fname = 'rac_' + bas_name + '_softbox.csv'\n",
    "print(fname)\n",
    "df.to_csv(fname, index=False)\n",
    "df.head(5)"
   ]
  },
  {
   "cell_type": "code",
   "execution_count": null,
   "metadata": {},
   "outputs": [],
   "source": []
  },
  {
   "cell_type": "code",
   "execution_count": null,
   "metadata": {},
   "outputs": [],
   "source": []
  }
 ],
 "metadata": {
  "kernelspec": {
   "display_name": "Python 3",
   "language": "python",
   "name": "python3"
  },
  "language_info": {
   "codemirror_mode": {
    "name": "ipython",
    "version": 3
   },
   "file_extension": ".py",
   "mimetype": "text/x-python",
   "name": "python",
   "nbconvert_exporter": "python",
   "pygments_lexer": "ipython3",
   "version": "3.8.8"
  }
 },
 "nbformat": 4,
 "nbformat_minor": 4
}
