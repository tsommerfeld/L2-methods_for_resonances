{
 "cells": [
  {
   "cell_type": "code",
   "execution_count": 1,
   "metadata": {},
   "outputs": [],
   "source": [
    "import numpy as np\n",
    "import sys\n",
    "import matplotlib.pyplot as plt\n",
    "%matplotlib qt5\n",
    "import pandas as pd\n",
    "#\n",
    "#  extend path by location of the dvr package\n",
    "#\n",
    "jolanta_root=\"/home/thomas/Current_Work/Jolanta-by-dvr/\"\n",
    "sys.path.append(jolanta_root+'Python_libs')\n",
    "import dvr\n",
    "import jolanta"
   ]
  },
  {
   "cell_type": "code",
   "execution_count": 2,
   "metadata": {},
   "outputs": [],
   "source": [
    "amu_to_au=1822.888486192\n",
    "au2cm=219474.63068\n",
    "au2eV=27.211386027\n",
    "Angs2Bohr=1.8897259886"
   ]
  },
  {
   "cell_type": "code",
   "execution_count": 3,
   "metadata": {},
   "outputs": [],
   "source": [
    "#\n",
    "# Jolanata-3D parameters a, b, c: (0.028, 1.0, 0.028)\n",
    "#\n",
    "#   CS-DVR:   \n",
    "#      bound state:  -7.17051 eV\n",
    "#      resonance (3.1729556 - 0.16085j) eV\n",
    "#\n",
    "jparam=(0.028, 1.0, 0.028)"
   ]
  },
  {
   "cell_type": "code",
   "execution_count": 8,
   "metadata": {},
   "outputs": [],
   "source": [
    "#\n",
    "#  compute DVR of T and V\n",
    "#  then show the density of states\n",
    "#  in a potential + energy-levels plot\n",
    "#  the standard 3D-Jolanta is used (resonance at 1.75 -0.2i eV)\n",
    "#\n",
    "rmin=0\n",
    "rmax=15      # grid from 0 to rmax\n",
    "ppB = 15     # grid points per Bohr\n",
    "\n",
    "nGrid=int((rmax-rmin)*ppB)\n",
    "rs = dvr.DVRGrid(rmin, rmax, nGrid)\n",
    "Vs = jolanta.Jolanta_3D(rs, jparam)\n",
    "#Ts = dvr.KineticEnergy(1, rmin, rmax, nGrid)\n",
    "#[energy, wf] = dvr.DVRDiag2(nGrid, Ts, Vs, wf=True)\n",
    "\n",
    "# \"DVR normalization\", sum(wf[:,0]**2)\n",
    "# this is correct for plotting\n",
    "\n",
    "#c=[\"orange\", \"blue\"]\n",
    "#h=float(xmax) / (nGrid+1.0)\n",
    "#scale=3*au2eV\n",
    "\n",
    "plt.cla()\n",
    "plt.plot(rs,Vs*au2eV, '-', color=\"black\")\n",
    "#for i in range(n_ene):\n",
    "#    plt.plot(rs, scale*wf[:,i]**2+energy[i]*au2eV, '-', color=c[i%len(c)])\n",
    "plt.ylim(-15, 10)\n",
    "plt.xlabel('$r$ [Bohr]')\n",
    "plt.ylabel('$E$ [eV]')\n",
    "plt.show()"
   ]
  },
  {
   "cell_type": "markdown",
   "metadata": {},
   "source": [
    "## RAC by increasing $b$"
   ]
  },
  {
   "cell_type": "code",
   "execution_count": 14,
   "metadata": {},
   "outputs": [],
   "source": [
    "a_ref, b_ref, c_ref = jparam\n",
    "plt.cla()\n",
    "for b_curr in [1.0, 1.2, 1.4, 1.6]:\n",
    "    param = [a_ref, b_curr, c_ref]\n",
    "    plt.plot(rs, jolanta.Jolanta_3D(rs, param)*au2eV)\n",
    "\n",
    "plt.ylim(-30, 10)\n",
    "plt.show()"
   ]
  },
  {
   "cell_type": "markdown",
   "metadata": {},
   "source": [
    "## RAC with Coulomb potential"
   ]
  },
  {
   "cell_type": "code",
   "execution_count": 16,
   "metadata": {},
   "outputs": [],
   "source": [
    "#\n",
    "#  show the potential\n",
    "#\n",
    "def coulomb(r, lbd=1.0):\n",
    "    \"\"\" attractive Coulomb potential with strength lbd = lamda \"\"\"\n",
    "    return -lbd/r\n",
    "    \n",
    "plt.cla()\n",
    "for l_curr in [0, 0.33, 0.66, 1.0]:\n",
    "    plt.plot(rs, (jolanta.Jolanta_3D(rs, jparam)+coulomb(rs, lbd=l_curr))*au2eV)\n",
    "\n",
    "#plt.xlim(0,15)\n",
    "plt.ylim(-30, 10)\n",
    "plt.show()"
   ]
  },
  {
   "cell_type": "markdown",
   "metadata": {},
   "source": [
    "## RAC with soft-box"
   ]
  },
  {
   "cell_type": "code",
   "execution_count": 23,
   "metadata": {},
   "outputs": [],
   "source": [
    "def softbox(r, rcut=1.0, lbd=1.0):\n",
    "    \"\"\" \n",
    "    Softbox: \n",
    "    -1 at the origin, rises at r0 softly to asymptotic 0\n",
    "    based on Gaussian with inverted scale\n",
    "    \"\"\"\n",
    "    return lbd*(np.exp(-(2*rcut)**2/r**2) - 1)\n",
    "\n",
    "plt.cla()\n",
    "for l_curr in [0.0, 0.166, 0.333, 0.5]:\n",
    "    Vs = jolanta.Jolanta_3D(rs, jparam)\n",
    "    Ws = softbox(rs, rcut=5.0, lbd=l_curr)\n",
    "    plt.plot(rs, (Vs+Ws)*au2eV)\n",
    "\n",
    "plt.xlim(0,rmax)\n",
    "plt.ylim(-30, 10)\n",
    "plt.show()"
   ]
  },
  {
   "cell_type": "code",
   "execution_count": 26,
   "metadata": {},
   "outputs": [],
   "source": [
    "plot1 = plt.subplot2grid((1, 3), (0, 0))\n",
    "plot2 = plt.subplot2grid((1, 3), (0, 1))\n",
    "plot3 = plt.subplot2grid((1, 3), (0, 2))\n",
    "\n",
    "plot1.set_title(\"b-scaling\")\n",
    "plot2.set_title(\"Coulomb\")\n",
    "plot3.set_title(\"soft-box\")\n",
    "\n",
    "plot1.set_ylim((-30,10))\n",
    "plot1.set_xlim((0,rmax))\n",
    "plot2.set_ylim((-30,10))\n",
    "plot2.set_xlim((0,rmax))\n",
    "plot3.set_ylim((-30,10))\n",
    "plot3.set_xlim((0,rmax))\n",
    "\n",
    "plot1.set_xlabel(\"$r$ [Bohr]\", fontsize=12)\n",
    "plot1.set_ylabel(\"$E$ [eV]\", fontsize=12)\n",
    "plot2.set_xlabel(\"$r$ [Bohr]\", fontsize=12)\n",
    "plot3.set_xlabel(\"$r$ [Bohr]\", fontsize=12)\n",
    "\n",
    "for b_curr in [1.0, 1.2, 1.4, 1.6]:\n",
    "    param = [a_ref, b_curr, c_ref]\n",
    "    plot1.plot(rs, jolanta.Jolanta_3D(rs, param)*au2eV)\n",
    "\n",
    "for l_curr in [0, 0.33, 0.66, 1.0]:\n",
    "    plot2.plot(rs, (jolanta.Jolanta_3D(rs, jparam)+coulomb(rs, lbd=l_curr))*au2eV)\n",
    "\n",
    "Vs = jolanta.Jolanta_3D(rs, jparam)\n",
    "for l_curr in [0.0, 0.166, 0.333, 0.5]:\n",
    "    Ws = softbox(rs, rcut=5.0, lbd=l_curr)\n",
    "    plot3.plot(rs, (Vs+Ws)*au2eV)\n",
    "\n",
    "plt.tight_layout()\n",
    "plt.show()"
   ]
  },
  {
   "cell_type": "code",
   "execution_count": null,
   "metadata": {},
   "outputs": [],
   "source": []
  }
 ],
 "metadata": {
  "kernelspec": {
   "display_name": "Python 3",
   "language": "python",
   "name": "python3"
  },
  "language_info": {
   "codemirror_mode": {
    "name": "ipython",
    "version": 3
   },
   "file_extension": ".py",
   "mimetype": "text/x-python",
   "name": "python",
   "nbconvert_exporter": "python",
   "pygments_lexer": "ipython3",
   "version": "3.8.8"
  }
 },
 "nbformat": 4,
 "nbformat_minor": 4
}
