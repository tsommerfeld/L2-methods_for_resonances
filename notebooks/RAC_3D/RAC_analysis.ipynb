{
 "cells": [
  {
   "cell_type": "markdown",
   "metadata": {},
   "source": [
    "# RAC step 2:\n",
    "1. select data\n",
    "2. fit data to a Pade approximant\n",
    "3. analytical continuation to $\\lambda = 0$\n",
    "\n",
    "see *J. Chem. Phys.* **143**, 184102 (2015)"
   ]
  },
  {
   "cell_type": "code",
   "execution_count": 1,
   "metadata": {},
   "outputs": [],
   "source": [
    "show_plot=True"
   ]
  },
  {
   "cell_type": "code",
   "execution_count": 2,
   "metadata": {},
   "outputs": [],
   "source": [
    "import sys\n",
    "import numpy as np\n",
    "from scipy.optimize import least_squares\n",
    "import pandas as pd\n",
    "import matplotlib.pyplot as plt\n",
    "#%matplotlib qt5\n",
    "#import matplotlib\n",
    "#matplotlib.use('Qt5Agg')"
   ]
  },
  {
   "cell_type": "markdown",
   "metadata": {},
   "source": [
    "library with Pade approximants and their second derivatives "
   ]
  },
  {
   "cell_type": "code",
   "execution_count": 3,
   "metadata": {},
   "outputs": [],
   "source": [
    "sys.path.append('../../RAC')\n",
    "from rac_aux import *\n",
    "from params import Params\n",
    "from fitman import bh_with_lsq\n",
    "au2eV=27.2114"
   ]
  },
  {
   "cell_type": "markdown",
   "metadata": {},
   "source": [
    "### Select Pade order ([3,1] is recommended.)"
   ]
  },
  {
   "cell_type": "code",
   "execution_count": 4,
   "metadata": {},
   "outputs": [],
   "source": [
    "nm=32\n",
    "\n",
    "pade_fns = {\"21\":(pade_21_lsq, pade_21j_lsq), \n",
    "            \"31\":(pade_31_lsq, pade_31j_lsq), \n",
    "            \"32\":(pade_32_lsq, pade_32j_lsq),\n",
    "            \"41\":(pade_41_lsq, pade_41j_lsq),\n",
    "            \"42\":(pade_42_lsq, pade_42j_lsq),\n",
    "            \"43\":(pade_43_lsq, pade_43j_lsq),\n",
    "            \"52\":(pade_52_lsq, pade_52j_lsq),\n",
    "            \"53\":(pade_53_lsq, pade_53j_lsq)}\n",
    "\n",
    "fun=pade_fns[str(nm)][0]\n",
    "jac=pade_fns[str(nm)][1]"
   ]
  },
  {
   "cell_type": "markdown",
   "metadata": {},
   "source": [
    "Set data either to `total` or to `relative`. The former is for CCSD(T) total energies for neutral and anion; the latter is for EOM-CCSD attachment data. For the Jolanta potential, all energies are `relative`.\n",
    "\n",
    "Also, for standard Jolanta-3D, the resonance is the second state. "
   ]
  },
  {
   "cell_type": "code",
   "execution_count": 5,
   "metadata": {},
   "outputs": [
    {
     "data": {
      "text/html": [
       "<div>\n",
       "<style scoped>\n",
       "    .dataframe tbody tr th:only-of-type {\n",
       "        vertical-align: middle;\n",
       "    }\n",
       "\n",
       "    .dataframe tbody tr th {\n",
       "        vertical-align: top;\n",
       "    }\n",
       "\n",
       "    .dataframe thead th {\n",
       "        text-align: right;\n",
       "    }\n",
       "</style>\n",
       "<table border=\"1\" class=\"dataframe\">\n",
       "  <thead>\n",
       "    <tr style=\"text-align: right;\">\n",
       "      <th></th>\n",
       "      <th>z</th>\n",
       "      <th>E1</th>\n",
       "      <th>E2</th>\n",
       "      <th>Eb</th>\n",
       "    </tr>\n",
       "  </thead>\n",
       "  <tbody>\n",
       "    <tr>\n",
       "      <th>0</th>\n",
       "      <td>0.000</td>\n",
       "      <td>-7.170439</td>\n",
       "      <td>3.532459</td>\n",
       "      <td>3.532459</td>\n",
       "    </tr>\n",
       "    <tr>\n",
       "      <th>1</th>\n",
       "      <td>0.056</td>\n",
       "      <td>-7.754129</td>\n",
       "      <td>3.247214</td>\n",
       "      <td>3.247214</td>\n",
       "    </tr>\n",
       "    <tr>\n",
       "      <th>2</th>\n",
       "      <td>0.112</td>\n",
       "      <td>-8.339889</td>\n",
       "      <td>2.964037</td>\n",
       "      <td>2.964037</td>\n",
       "    </tr>\n",
       "    <tr>\n",
       "      <th>3</th>\n",
       "      <td>0.168</td>\n",
       "      <td>-8.927554</td>\n",
       "      <td>2.682766</td>\n",
       "      <td>2.682766</td>\n",
       "    </tr>\n",
       "    <tr>\n",
       "      <th>4</th>\n",
       "      <td>0.224</td>\n",
       "      <td>-9.516979</td>\n",
       "      <td>2.403256</td>\n",
       "      <td>2.403256</td>\n",
       "    </tr>\n",
       "  </tbody>\n",
       "</table>\n",
       "</div>"
      ],
      "text/plain": [
       "       z        E1        E2        Eb\n",
       "0  0.000 -7.170439  3.532459  3.532459\n",
       "1  0.056 -7.754129  3.247214  3.247214\n",
       "2  0.112 -8.339889  2.964037  2.964037\n",
       "3  0.168 -8.927554  2.682766  2.682766\n",
       "4  0.224 -9.516979  2.403256  2.403256"
      ]
     },
     "execution_count": 5,
     "metadata": {},
     "output_type": "execute_result"
    }
   ],
   "source": [
    "#data = 'total'\n",
    "data = 'relative'\n",
    "n_state = 'E2'\n",
    "if data == 'total':\n",
    "    df = pd.read_csv('CCSDpT_data.csv', delim_whitespace=True)\n",
    "    df['Eb'] = (df['E1'] - df['E0'])*au2eV\n",
    "elif data == 'relative':\n",
    "    #df = pd.read_csv('rac_DVR_b-scale_rmax_12.csv')\n",
    "    #df = pd.read_csv('rac_DVR_coulomb_rmax_12.csv')\n",
    "    #df = pd.read_csv('rac_DVR_softbox_rmax_12.csv')\n",
    "    #df = pd.read_csv('rac_GTO_TZ_0_b-scale.csv')\n",
    "    df = pd.read_csv('rac_GTO_DZ_0_coulomb.csv')\n",
    "    #df = pd.read_csv('rac_GTO_TZ_0_softbox.csv')\n",
    "    df['Eb']=df[n_state]\n",
    "else:\n",
    "    print('Data organization not yet implemented:', data)\n",
    "df.head()"
   ]
  },
  {
   "cell_type": "markdown",
   "metadata": {},
   "source": [
    "## Data selection\n",
    "Rule of thumb: use all $E_b < -0.5$ eV"
   ]
  },
  {
   "cell_type": "code",
   "execution_count": 6,
   "metadata": {},
   "outputs": [
    {
     "name": "stdout",
     "output_type": "stream",
     "text": [
      "86 bound energies between -0.586212 and -22.315115\n"
     ]
    },
    {
     "data": {
      "image/png": "[encoded data removed]",
      "text/plain": [
       "<Figure size 432x288 with 1 Axes>"
      ]
     },
     "metadata": {
      "needs_background": "light"
     },
     "output_type": "display_data"
    }
   ],
   "source": [
    "Estart=-0.5\n",
    "n_first=np.argmin(np.abs(df.Eb.values-Estart))\n",
    "z0=df['z'][0]\n",
    "ls=np.copy(df.z.values[n_first:]) - z0\n",
    "Es=np.copy(df.E2.values[n_first:])\n",
    "Nval=len(ls)\n",
    "print('%d bound energies between %f and %f' % (Nval, Es[0], Es[-1]))\n",
    "if show_plot:\n",
    "    plt.cla()\n",
    "    plt.plot(ls,Es)\n",
    "    plt.show()"
   ]
  },
  {
   "cell_type": "markdown",
   "metadata": {},
   "source": [
    "Prepare $\\kappa^2=-E_b$, $\\kappa$, and fitting weights (set to 1) which are all going to be passed to the optimizer."
   ]
  },
  {
   "cell_type": "code",
   "execution_count": 30,
   "metadata": {},
   "outputs": [],
   "source": [
    "k2s = -Es\n",
    "ks  = np.sqrt(k2s)\n",
    "sigmas = weights(Nval, 'ones')\n",
    "parg=(ks,k2s,ls,sigmas)"
   ]
  },
  {
   "cell_type": "markdown",
   "metadata": {},
   "source": [
    "## Fitting procedure\n",
    "1. Heuristic guess on the basis of linear real extrapolation\n",
    "2. Fit all selected binding energies to get good guess for $E_r$ \n",
    "3. Average over various selection ranges from -0.5 to $n \\times E_r$, $n=4-7$"
   ]
  },
  {
   "cell_type": "code",
   "execution_count": 31,
   "metadata": {},
   "outputs": [
    {
     "name": "stdout",
     "output_type": "stream",
     "text": [
      "Start parameters:  [0.82736951 0.2670501  1.35369463 0.83537072 4.86987899]\n"
     ]
    }
   ],
   "source": [
    "E0 = 0.6*linear_extra(ls,Es)\n",
    "P0 = Params(E0, ls[0])\n",
    "p0 = np.array(P0.start(str(nm), adhoc=True, noise=0.05))\n",
    "print(\"Start parameters: \", p0)"
   ]
  },
  {
   "cell_type": "code",
   "execution_count": 32,
   "metadata": {},
   "outputs": [
    {
     "name": "stdout",
     "output_type": "stream",
     "text": [
      "  Doing 200 basin hops.\n",
      "  minimization failures: 15\n",
      "  11 sane minima found\n",
      "  Best:  3.133802  0.000000  6.0846e-05\n",
      "  Sane:  2.819380  0.012558  3.6648e-04\n"
     ]
    }
   ],
   "source": [
    "n_bh=200\n",
    "sane_bnds = (E0-1, E0+1, 0.01, 1.5)\n",
    "args = (ks, k2s, ls, sigmas, fun, jac)\n",
    "best, sane, p0s, df = bh_with_lsq(p0, n_bh, args, sane_bnds, T=1e-4, verbose=1)"
   ]
  },
  {
   "cell_type": "code",
   "execution_count": 33,
   "metadata": {},
   "outputs": [
    {
     "data": {
      "text/html": [
       "<div>\n",
       "<style scoped>\n",
       "    .dataframe tbody tr th:only-of-type {\n",
       "        vertical-align: middle;\n",
       "    }\n",
       "\n",
       "    .dataframe tbody tr th {\n",
       "        vertical-align: top;\n",
       "    }\n",
       "\n",
       "    .dataframe thead th {\n",
       "        text-align: right;\n",
       "    }\n",
       "</style>\n",
       "<table border=\"1\" class=\"dataframe\">\n",
       "  <thead>\n",
       "    <tr style=\"text-align: right;\">\n",
       "      <th></th>\n",
       "      <th>chis</th>\n",
       "      <th>Er</th>\n",
       "      <th>G</th>\n",
       "      <th>logs</th>\n",
       "      <th>Er_rounded</th>\n",
       "      <th>G_rounded</th>\n",
       "    </tr>\n",
       "  </thead>\n",
       "  <tbody>\n",
       "    <tr>\n",
       "      <th>60</th>\n",
       "      <td>0.000366</td>\n",
       "      <td>2.819380</td>\n",
       "      <td>0.012558</td>\n",
       "      <td>-3.435945</td>\n",
       "      <td>2.8194</td>\n",
       "      <td>0.01256</td>\n",
       "    </tr>\n",
       "    <tr>\n",
       "      <th>191</th>\n",
       "      <td>0.000392</td>\n",
       "      <td>2.800932</td>\n",
       "      <td>0.058897</td>\n",
       "      <td>-3.407103</td>\n",
       "      <td>2.8009</td>\n",
       "      <td>0.05890</td>\n",
       "    </tr>\n",
       "    <tr>\n",
       "      <th>109</th>\n",
       "      <td>0.000665</td>\n",
       "      <td>2.624770</td>\n",
       "      <td>0.021789</td>\n",
       "      <td>-3.177499</td>\n",
       "      <td>2.6248</td>\n",
       "      <td>0.02179</td>\n",
       "    </tr>\n",
       "    <tr>\n",
       "      <th>112</th>\n",
       "      <td>0.000685</td>\n",
       "      <td>2.623973</td>\n",
       "      <td>0.038878</td>\n",
       "      <td>-3.164138</td>\n",
       "      <td>2.6240</td>\n",
       "      <td>0.03888</td>\n",
       "    </tr>\n",
       "    <tr>\n",
       "      <th>197</th>\n",
       "      <td>0.000779</td>\n",
       "      <td>2.629635</td>\n",
       "      <td>0.036992</td>\n",
       "      <td>-3.108708</td>\n",
       "      <td>2.6296</td>\n",
       "      <td>0.03699</td>\n",
       "    </tr>\n",
       "    <tr>\n",
       "      <th>99</th>\n",
       "      <td>0.000825</td>\n",
       "      <td>2.558024</td>\n",
       "      <td>0.027262</td>\n",
       "      <td>-3.083357</td>\n",
       "      <td>2.5580</td>\n",
       "      <td>0.02726</td>\n",
       "    </tr>\n",
       "    <tr>\n",
       "      <th>93</th>\n",
       "      <td>0.002634</td>\n",
       "      <td>2.705178</td>\n",
       "      <td>0.044181</td>\n",
       "      <td>-2.579439</td>\n",
       "      <td>2.7052</td>\n",
       "      <td>0.04418</td>\n",
       "    </tr>\n",
       "    <tr>\n",
       "      <th>67</th>\n",
       "      <td>0.003628</td>\n",
       "      <td>2.707805</td>\n",
       "      <td>0.072292</td>\n",
       "      <td>-2.440379</td>\n",
       "      <td>2.7078</td>\n",
       "      <td>0.07229</td>\n",
       "    </tr>\n",
       "    <tr>\n",
       "      <th>82</th>\n",
       "      <td>0.003779</td>\n",
       "      <td>2.727092</td>\n",
       "      <td>0.070691</td>\n",
       "      <td>-2.422588</td>\n",
       "      <td>2.7271</td>\n",
       "      <td>0.07069</td>\n",
       "    </tr>\n",
       "    <tr>\n",
       "      <th>78</th>\n",
       "      <td>0.095064</td>\n",
       "      <td>1.911751</td>\n",
       "      <td>0.016875</td>\n",
       "      <td>-1.021983</td>\n",
       "      <td>1.9118</td>\n",
       "      <td>0.01688</td>\n",
       "    </tr>\n",
       "    <tr>\n",
       "      <th>76</th>\n",
       "      <td>0.133357</td>\n",
       "      <td>1.512853</td>\n",
       "      <td>0.075191</td>\n",
       "      <td>-0.874983</td>\n",
       "      <td>1.5129</td>\n",
       "      <td>0.07519</td>\n",
       "    </tr>\n",
       "  </tbody>\n",
       "</table>\n",
       "</div>"
      ],
      "text/plain": [
       "         chis        Er         G      logs  Er_rounded  G_rounded\n",
       "60   0.000366  2.819380  0.012558 -3.435945      2.8194    0.01256\n",
       "191  0.000392  2.800932  0.058897 -3.407103      2.8009    0.05890\n",
       "109  0.000665  2.624770  0.021789 -3.177499      2.6248    0.02179\n",
       "112  0.000685  2.623973  0.038878 -3.164138      2.6240    0.03888\n",
       "197  0.000779  2.629635  0.036992 -3.108708      2.6296    0.03699\n",
       "99   0.000825  2.558024  0.027262 -3.083357      2.5580    0.02726\n",
       "93   0.002634  2.705178  0.044181 -2.579439      2.7052    0.04418\n",
       "67   0.003628  2.707805  0.072292 -2.440379      2.7078    0.07229\n",
       "82   0.003779  2.727092  0.070691 -2.422588      2.7271    0.07069\n",
       "78   0.095064  1.911751  0.016875 -1.021983      1.9118    0.01688\n",
       "76   0.133357  1.512853  0.075191 -0.874983      1.5129    0.07519"
      ]
     },
     "execution_count": 33,
     "metadata": {},
     "output_type": "execute_result"
    }
   ],
   "source": [
    "df['Er_rounded']=np.round(df['Er'], decimals=4)\n",
    "df['G_rounded']=np.round(df['G'], decimals=5)\n",
    "df.drop_duplicates(subset=[\"Er_rounded\", \"G_rounded\"])"
   ]
  },
  {
   "cell_type": "markdown",
   "metadata": {},
   "source": [
    "Fit `Nval` data points to get a good guess for $E_r$ and provide abundant output to check the optimizer."
   ]
  },
  {
   "cell_type": "code",
   "execution_count": 34,
   "metadata": {},
   "outputs": [
    {
     "name": "stdout",
     "output_type": "stream",
     "text": [
      "Least squares, trust-region-reflective (default) with analytic jac\n",
      "Jacobi-evaluations, njev: 2\n",
      "chi**2 = 2*cost: 0.00017308111854457588\n",
      "gradient: [ 4.94444340e-03 -1.12720377e-04 -3.02227296e-03 -1.54474894e-11\n",
      " -7.84924093e-11]\n",
      "message: `xtol` termination condition is satisfied.\n",
      "success: True\n",
      "x: [ 6.63609700e-01 -1.82779333e-02  1.67726459e+00  6.60078256e+06\n",
      " -1.29904941e+06]\n",
      "chi2 = 3.462e-04\n",
      "Er=2.813216,  Gamma=0.002241\n"
     ]
    }
   ],
   "source": [
    "print('Least squares, trust-region-reflective (default) with analytic jac')\n",
    "res = least_squares(fun, p0s, method='trf', jac=jac, args=parg)\n",
    "print(\"Jacobi-evaluations, njev:\",res.njev)\n",
    "print(\"chi**2 = 2*cost:\",res.cost)\n",
    "print(\"gradient:\",res.grad)\n",
    "print(\"message:\",res.message)\n",
    "print(\"success:\",res.success)\n",
    "print(\"x:\", res.x)\n",
    "print('chi2 = %.3e' % (res.cost*2))\n",
    "(Er,G) = res_ene(res.x[1], res.x[2])\n",
    "print(\"Er=%f,  Gamma=%f\" % (Er,G))"
   ]
  },
  {
   "cell_type": "markdown",
   "metadata": {},
   "source": [
    "### Energy ranges for averaging procedure\n",
    "* Start with all energies from $-0.5$ to $-4*E_r$\n",
    "* Stop with all energies from $-0.5$ to $-7*E_r$"
   ]
  },
  {
   "cell_type": "code",
   "execution_count": 35,
   "metadata": {},
   "outputs": [
    {
     "name": "stdout",
     "output_type": "stream",
     "text": [
      "First energy:                  E=-0.58621\n",
      "Index for -4*Er0:          41; E=-11.18572\n",
      "Index for -7*Er0:          75; E=-19.79378\n",
      "Last index:                85; E=-22.31511\n"
     ]
    }
   ],
   "source": [
    "Estop1=-4.0*Er\n",
    "Estop2=-7.0*Er\n",
    "jmx1=np.argmin(np.abs(Es-Estop1))\n",
    "jmx2=np.argmin(np.abs(Es-Estop2))\n",
    "print('First energy:                  E=%.5f' % (Es[0]))\n",
    "print('Index for -4*Er0:         %3d; E=%.5f' % (jmx1,Es[jmx1]))\n",
    "print('Index for -7*Er0:         %3d; E=%.5f' % (jmx2,Es[jmx2]))\n",
    "print('Last index:               %3d; E=%.5f' % (Nval-1,Es[-1]))"
   ]
  },
  {
   "cell_type": "markdown",
   "metadata": {},
   "source": [
    "Loop over different ranges: \n",
    "* start with $\\lambda(E=-0.5)$ to $\\lambda(E=-4)$\n",
    "* stop with $\\lambda(E=-0.5)$ to $\\lambda(E=-7)$"
   ]
  },
  {
   "cell_type": "code",
   "execution_count": 36,
   "metadata": {},
   "outputs": [
    {
     "name": "stdout",
     "output_type": "stream",
     "text": [
      "  'lambda'       Emax/Er        Er       Gamma      chi**2\n",
      "  3.136000      3.652034     3.062874   0.007096   2.349e-05\n",
      "  3.192000      3.741990     3.057219   0.006203   2.564e-05\n",
      "  3.248000      3.832228     3.051580   0.005409   2.793e-05\n",
      "  3.304000      3.922750     3.045955   0.004704   3.037e-05\n",
      "  3.360000      4.013557     3.040345   0.004078   3.297e-05\n",
      "  3.416000      4.104654     3.034747   0.003522   3.573e-05\n",
      "  3.472000      4.196042     3.029162   0.003029   3.866e-05\n",
      "  3.528000      4.287723     3.023588   0.002592   4.176e-05\n",
      "  3.584000      4.379700     3.018026   0.002206   4.504e-05\n",
      "  3.640000      4.471975     3.012474   0.001866   4.851e-05\n",
      "  3.696000      4.564550     3.006933   0.001567   5.217e-05\n",
      "  3.752000      4.657428     3.001401   0.001305   5.604e-05\n",
      "  3.808000      4.750610     2.995878   0.001077   6.010e-05\n",
      "  3.864000      4.844099     2.990364   0.000878   6.438e-05\n",
      "  3.920000      4.937897     2.984859   0.000707   6.888e-05\n",
      "  3.976000      5.035519     2.977285   0.001806   6.789e-05\n",
      "  4.032000      5.130188     2.971694   0.002050   7.270e-05\n",
      "  4.088000      5.225178     2.966114   0.002300   7.775e-05\n",
      "  4.144000      5.320490     2.960542   0.002551   8.304e-05\n",
      "  4.200000      5.416126     2.954979   0.002804   8.859e-05\n",
      "  4.256000      5.512088     2.949425   0.003058   9.441e-05\n",
      "  4.312000      5.608376     2.943880   0.003310   1.005e-04\n",
      "  4.368000      5.704993     2.938343   0.003560   1.068e-04\n",
      "  4.424000      5.801941     2.932815   0.003806   1.135e-04\n",
      "  4.480000      5.899220     2.927296   0.004049   1.204e-04\n",
      "  4.536000      5.996834     2.921785   0.004287   1.277e-04\n",
      "  4.592000      6.094783     2.916283   0.004519   1.352e-04\n",
      "  4.648000      6.193068     2.910789   0.004744   1.431e-04\n",
      "  4.704000      6.291693     2.905303   0.004962   1.513e-04\n",
      "  4.760000      6.390657     2.899826   0.005172   1.598e-04\n",
      "  4.816000      6.489964     2.894356   0.005374   1.686e-04\n",
      "  4.872000      6.607853     2.880921   0.005532   1.776e-04\n",
      "  4.928000      6.705543     2.876590   0.004864   1.869e-04\n",
      "  4.984000      6.803989     2.872059   0.004311   1.966e-04\n",
      "  5.040000      6.903060     2.867392   0.003854   2.067e-04\n"
     ]
    }
   ],
   "source": [
    "Emaxs = []\n",
    "Ers = []\n",
    "Gs = []\n",
    "chi2s = []\n",
    "print(\"  'lambda'       Emax/Er        Er       Gamma      chi**2\")\n",
    "for j in range(jmx1,jmx2+1):\n",
    "    parg=(ks[:j], k2s[:j], ls[:j], sigmas[:j])\n",
    "    res = least_squares(fun, p0s, method='trf', jac=jac, args=parg)\n",
    "    chi2s.append(res.cost*2)\n",
    "    Er, G = res_ene(res.x[1], res.x[2])\n",
    "    print(\"%10f    %10f   %10f %10f   %.3e\" % (ls[j], -Es[j]/Er, Er, G, res.cost*2))\n",
    "    Emaxs.append(-Es[j]/Er)\n",
    "    Ers.append(Er)\n",
    "    Gs.append(G)"
   ]
  },
  {
   "cell_type": "markdown",
   "metadata": {},
   "source": [
    "Compute simple and weighted averages using $\\chi^2$ as weights. "
   ]
  },
  {
   "cell_type": "code",
   "execution_count": 37,
   "metadata": {},
   "outputs": [
    {
     "name": "stdout",
     "output_type": "stream",
     "text": [
      "Simple average\n",
      "  Er = 2.966374   STD = 0.057942\n",
      "  G  = 0.003519   STD = 0.001577\n",
      "Weighted average:\n",
      "  Er = 3.001419\n",
      "  G  = 0.003662\n"
     ]
    }
   ],
   "source": [
    "Ers=np.array(Ers)\n",
    "Gs=np.array(Gs)\n",
    "chi2s=np.array(chi2s)\n",
    "print(\"Simple average\")\n",
    "print(\"  Er = %f   STD = %f\" % (np.mean(Ers), np.std(Ers)))\n",
    "print(\"  G  = %f   STD = %f\" % (np.mean(Gs), np.std(Gs)))\n",
    "print(\"Weighted average:\")\n",
    "print(\"  Er = %f\" % (np.average(Ers,weights=1.0/chi2s)))\n",
    "print(\"  G  = %f\" % (np.average(Gs,weights=1.0/chi2s)))"
   ]
  },
  {
   "cell_type": "code",
   "execution_count": null,
   "metadata": {},
   "outputs": [],
   "source": []
  },
  {
   "cell_type": "code",
   "execution_count": null,
   "metadata": {},
   "outputs": [],
   "source": []
  }
 ],
 "metadata": {
  "kernelspec": {
   "display_name": "Python 3 (ipykernel)",
   "language": "python",
   "name": "python3"
  },
  "language_info": {
   "codemirror_mode": {
    "name": "ipython",
    "version": 3
   },
   "file_extension": ".py",
   "mimetype": "text/x-python",
   "name": "python",
   "nbconvert_exporter": "python",
   "pygments_lexer": "ipython3",
   "version": "3.8.12"
  }
 },
 "nbformat": 4,
 "nbformat_minor": 4
}
