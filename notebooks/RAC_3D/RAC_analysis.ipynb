{
 "cells": [
  {
   "cell_type": "markdown",
   "metadata": {},
   "source": [
    "# RAC step 2:\n",
    "1. select data\n",
    "2. fit data to a Pade approximant\n",
    "3. analytical continuation to $\\lambda = 0$\n",
    "\n",
    "see *J. Chem. Phys.* **143**, 184102 (2015)"
   ]
  },
  {
   "cell_type": "code",
   "execution_count": 1,
   "metadata": {},
   "outputs": [],
   "source": [
    "show_plot=False"
   ]
  },
  {
   "cell_type": "code",
   "execution_count": 2,
   "metadata": {},
   "outputs": [],
   "source": [
    "import sys\n",
    "import numpy as np\n",
    "from scipy.optimize import least_squares\n",
    "import pandas as pd\n",
    "import matplotlib.pyplot as plt\n",
    "#%matplotlib qt5\n",
    "#import matplotlib\n",
    "#matplotlib.use('Qt5Agg')"
   ]
  },
  {
   "cell_type": "markdown",
   "metadata": {},
   "source": [
    "library with Pade approximants and their second derivatives "
   ]
  },
  {
   "cell_type": "code",
   "execution_count": 3,
   "metadata": {},
   "outputs": [],
   "source": [
    "sys.path.append('../../RAC_LIBS')\n",
    "from rac_aux import *\n",
    "from params import Params\n",
    "from fitman import bh_with_lsq\n",
    "au2eV=27.2114"
   ]
  },
  {
   "cell_type": "markdown",
   "metadata": {},
   "source": [
    "### Select Pade order ([3,1] is recommended.)"
   ]
  },
  {
   "cell_type": "code",
   "execution_count": 4,
   "metadata": {},
   "outputs": [],
   "source": [
    "nm=31\n",
    "\n",
    "pade_fns = {\"21\":(pade_21_lsq, pade_21j_lsq), \n",
    "            \"31\":(pade_31_lsq, pade_31j_lsq), \n",
    "            \"32\":(pade_32_lsq, pade_32j_lsq),\n",
    "            \"41\":(pade_41_lsq, pade_41j_lsq),\n",
    "            \"42\":(pade_42_lsq, pade_42j_lsq),\n",
    "            \"43\":(pade_43_lsq, pade_43j_lsq),\n",
    "            \"52\":(pade_52_lsq, pade_52j_lsq),\n",
    "            \"53\":(pade_53_lsq, pade_53j_lsq)}\n",
    "\n",
    "fun=pade_fns[str(nm)][0]\n",
    "jac=pade_fns[str(nm)][1]"
   ]
  },
  {
   "cell_type": "markdown",
   "metadata": {},
   "source": [
    "Set data either to `total` or to `relative`. The former is for CCSD(T) total energies for neutral and anion; the latter is for EOM-CCSD attachment data. For the Jolanta potential, all energies are `relative`.\n",
    "\n",
    "Also, for standard Jolanta-3D, the resonance is the second state. "
   ]
  },
  {
   "cell_type": "code",
   "execution_count": 55,
   "metadata": {},
   "outputs": [
    {
     "data": {
      "text/html": [
       "<div>\n",
       "<style scoped>\n",
       "    .dataframe tbody tr th:only-of-type {\n",
       "        vertical-align: middle;\n",
       "    }\n",
       "\n",
       "    .dataframe tbody tr th {\n",
       "        vertical-align: top;\n",
       "    }\n",
       "\n",
       "    .dataframe thead th {\n",
       "        text-align: right;\n",
       "    }\n",
       "</style>\n",
       "<table border=\"1\" class=\"dataframe\">\n",
       "  <thead>\n",
       "    <tr style=\"text-align: right;\">\n",
       "      <th></th>\n",
       "      <th>z</th>\n",
       "      <th>E1</th>\n",
       "      <th>E2</th>\n",
       "      <th>Eb</th>\n",
       "    </tr>\n",
       "  </thead>\n",
       "  <tbody>\n",
       "    <tr>\n",
       "      <th>0</th>\n",
       "      <td>0.000</td>\n",
       "      <td>-7.170439</td>\n",
       "      <td>3.298521</td>\n",
       "      <td>3.298521</td>\n",
       "    </tr>\n",
       "    <tr>\n",
       "      <th>1</th>\n",
       "      <td>0.013</td>\n",
       "      <td>-7.506676</td>\n",
       "      <td>3.057427</td>\n",
       "      <td>3.057427</td>\n",
       "    </tr>\n",
       "    <tr>\n",
       "      <th>2</th>\n",
       "      <td>0.026</td>\n",
       "      <td>-7.843046</td>\n",
       "      <td>2.814717</td>\n",
       "      <td>2.814717</td>\n",
       "    </tr>\n",
       "    <tr>\n",
       "      <th>3</th>\n",
       "      <td>0.039</td>\n",
       "      <td>-8.179546</td>\n",
       "      <td>2.570440</td>\n",
       "      <td>2.570440</td>\n",
       "    </tr>\n",
       "    <tr>\n",
       "      <th>4</th>\n",
       "      <td>0.052</td>\n",
       "      <td>-8.516174</td>\n",
       "      <td>2.324650</td>\n",
       "      <td>2.324650</td>\n",
       "    </tr>\n",
       "  </tbody>\n",
       "</table>\n",
       "</div>"
      ],
      "text/plain": [
       "       z        E1        E2        Eb\n",
       "0  0.000 -7.170439  3.298521  3.298521\n",
       "1  0.013 -7.506676  3.057427  3.057427\n",
       "2  0.026 -7.843046  2.814717  2.814717\n",
       "3  0.039 -8.179546  2.570440  2.570440\n",
       "4  0.052 -8.516174  2.324650  2.324650"
      ]
     },
     "execution_count": 55,
     "metadata": {},
     "output_type": "execute_result"
    }
   ],
   "source": [
    "#data = 'total'\n",
    "data = 'relative'\n",
    "n_state = 'E2'\n",
    "if data == 'total':\n",
    "    df = pd.read_csv('CCSDpT_data.csv', delim_whitespace=True)\n",
    "    df['Eb'] = (df['E1'] - df['E0'])*au2eV\n",
    "elif data == 'relative':\n",
    "    #df = pd.read_csv('rac_DVR_b-scale_rmax_12.csv')\n",
    "    #df = pd.read_csv('rac_DVR_coulomb_rmax_12.csv')\n",
    "    #df = pd.read_csv('rac_DVR_softbox_rmax_12.csv')\n",
    "    #df = pd.read_csv('rac_GTO_TZ_0_b-scale.csv')\n",
    "    #df = pd.read_csv('rac_GTO_TZ_0_coulomb.csv')\n",
    "    df = pd.read_csv('rac_GTO_TZ_0_softbox.csv')\n",
    "    df['Eb']=df[n_state]\n",
    "else:\n",
    "    print('Data organization not yet implemented:', data)\n",
    "df.head()"
   ]
  },
  {
   "cell_type": "markdown",
   "metadata": {},
   "source": [
    "## Data selection\n",
    "Rule of thumb: use all $E_b < -0.5$ eV"
   ]
  },
  {
   "cell_type": "code",
   "execution_count": 56,
   "metadata": {},
   "outputs": [
    {
     "name": "stdout",
     "output_type": "stream",
     "text": [
      "86 bound energies between -0.463485 and -23.659219\n"
     ]
    }
   ],
   "source": [
    "Estart=-0.5\n",
    "n_first=np.argmin(np.abs(df.Eb.values-Estart))\n",
    "z0=df['z'][0]\n",
    "ls=np.copy(df.z.values[n_first:]) - z0\n",
    "Es=np.copy(df.E2.values[n_first:])\n",
    "Nval=len(ls)\n",
    "print('%d bound energies between %f and %f' % (Nval, Es[0], Es[-1]))\n",
    "if show_plot:\n",
    "    plt.cla()\n",
    "    plt.plot(ls,Es)\n",
    "    plt.show()"
   ]
  },
  {
   "cell_type": "markdown",
   "metadata": {},
   "source": [
    "Prepare $\\kappa^2=-E_b$, $\\kappa$, and fitting weights (set to 1) which are all going to be passed to the optimizer."
   ]
  },
  {
   "cell_type": "code",
   "execution_count": 57,
   "metadata": {},
   "outputs": [],
   "source": [
    "k2s = -Es\n",
    "ks  = np.sqrt(k2s)\n",
    "sigmas = weights(Nval, 'ones')\n",
    "parg=(ks,k2s,ls,sigmas)"
   ]
  },
  {
   "cell_type": "markdown",
   "metadata": {},
   "source": [
    "## Fitting procedure\n",
    "1. Heuristic guess on the basis of linear real extrapolation\n",
    "2. Fit all selected binding energies to get good guess for $E_r$ \n",
    "3. Average over various selection ranges from -0.5 to $n \\times E_r$, $n=4-7$"
   ]
  },
  {
   "cell_type": "code",
   "execution_count": 58,
   "metadata": {},
   "outputs": [
    {
     "name": "stdout",
     "output_type": "stream",
     "text": [
      "Start parameters:  [0.19482518 0.27406077 1.52029792 0.82649047]\n"
     ]
    }
   ],
   "source": [
    "E0 = 0.6*linear_extra(ls,Es)\n",
    "P0 = Params(E0, ls[0])\n",
    "p0 = np.array(P0.start(str(nm), adhoc=True, noise=0.05))\n",
    "print(\"Start parameters: \", p0)"
   ]
  },
  {
   "cell_type": "code",
   "execution_count": 59,
   "metadata": {},
   "outputs": [
    {
     "name": "stdout",
     "output_type": "stream",
     "text": [
      "  Doing 200 basin hops.\n",
      "  minimization failures: 0\n",
      "  0 sane minima found\n",
      "  Best:  3.461630  0.759058  1.3589e-08\n",
      "  Sane:  0.000000  0.000000  0.0000e+00\n"
     ]
    }
   ],
   "source": [
    "n_bh=200\n",
    "sane_bnds = (E0-1, E0+1, 0.01, 1.5)\n",
    "args = (ks, k2s, ls, sigmas, fun, jac)\n",
    "best, sane, p0s, df = bh_with_lsq(p0, n_bh, args, sane_bnds, T=1e-4, verbose=1)"
   ]
  },
  {
   "cell_type": "code",
   "execution_count": 60,
   "metadata": {},
   "outputs": [
    {
     "data": {
      "text/html": [
       "<div>\n",
       "<style scoped>\n",
       "    .dataframe tbody tr th:only-of-type {\n",
       "        vertical-align: middle;\n",
       "    }\n",
       "\n",
       "    .dataframe tbody tr th {\n",
       "        vertical-align: top;\n",
       "    }\n",
       "\n",
       "    .dataframe thead th {\n",
       "        text-align: right;\n",
       "    }\n",
       "</style>\n",
       "<table border=\"1\" class=\"dataframe\">\n",
       "  <thead>\n",
       "    <tr style=\"text-align: right;\">\n",
       "      <th></th>\n",
       "      <th>chis</th>\n",
       "      <th>Er</th>\n",
       "      <th>G</th>\n",
       "      <th>Er_rounded</th>\n",
       "      <th>G_rounded</th>\n",
       "    </tr>\n",
       "  </thead>\n",
       "  <tbody>\n",
       "    <tr>\n",
       "      <th>0</th>\n",
       "      <td>1.358918e-08</td>\n",
       "      <td>3.461629</td>\n",
       "      <td>0.759057</td>\n",
       "      <td>3.4616</td>\n",
       "      <td>0.75906</td>\n",
       "    </tr>\n",
       "    <tr>\n",
       "      <th>1</th>\n",
       "      <td>1.358918e-08</td>\n",
       "      <td>3.461634</td>\n",
       "      <td>0.759065</td>\n",
       "      <td>3.4616</td>\n",
       "      <td>0.75907</td>\n",
       "    </tr>\n",
       "    <tr>\n",
       "      <th>2</th>\n",
       "      <td>1.358918e-08</td>\n",
       "      <td>3.461626</td>\n",
       "      <td>0.759053</td>\n",
       "      <td>3.4616</td>\n",
       "      <td>0.75905</td>\n",
       "    </tr>\n",
       "    <tr>\n",
       "      <th>167</th>\n",
       "      <td>1.358918e-08</td>\n",
       "      <td>3.461617</td>\n",
       "      <td>0.759038</td>\n",
       "      <td>3.4616</td>\n",
       "      <td>0.75904</td>\n",
       "    </tr>\n",
       "  </tbody>\n",
       "</table>\n",
       "</div>"
      ],
      "text/plain": [
       "             chis        Er         G  Er_rounded  G_rounded\n",
       "0    1.358918e-08  3.461629  0.759057      3.4616    0.75906\n",
       "1    1.358918e-08  3.461634  0.759065      3.4616    0.75907\n",
       "2    1.358918e-08  3.461626  0.759053      3.4616    0.75905\n",
       "167  1.358918e-08  3.461617  0.759038      3.4616    0.75904"
      ]
     },
     "execution_count": 60,
     "metadata": {},
     "output_type": "execute_result"
    }
   ],
   "source": [
    "df['Er_rounded']=np.round(df['Er'], decimals=4)\n",
    "df['G_rounded']=np.round(df['G'], decimals=5)\n",
    "df.drop_duplicates(subset=[\"Er_rounded\", \"G_rounded\"])"
   ]
  },
  {
   "cell_type": "markdown",
   "metadata": {},
   "source": [
    "Fit `Nval` data points to get a good guess for $E_r$ and provide abundant output to check the optimizer."
   ]
  },
  {
   "cell_type": "code",
   "execution_count": 61,
   "metadata": {},
   "outputs": [
    {
     "name": "stdout",
     "output_type": "stream",
     "text": [
      "Least squares, trust-region-reflective (default) with analytic jac\n",
      "Jacobi-evaluations, njev: 1\n",
      "chi**2 = 2*cost: 6.794590451626926e-09\n",
      "gradient: [-6.84645418e-11  1.30602448e-12  9.75577454e-12 -1.25851665e-12]\n",
      "message: `gtol` termination condition is satisfied.\n",
      "success: True\n",
      "x: [0.17018621 0.319126   1.86333055 0.89821535]\n",
      "chi2 = 1.359e-08\n",
      "Er=3.461629,  Gamma=0.759057\n"
     ]
    }
   ],
   "source": [
    "print('Least squares, trust-region-reflective (default) with analytic jac')\n",
    "res = least_squares(fun, p0s, method='trf', jac=jac, args=parg)\n",
    "print(\"Jacobi-evaluations, njev:\",res.njev)\n",
    "print(\"chi**2 = 2*cost:\",res.cost)\n",
    "print(\"gradient:\",res.grad)\n",
    "print(\"message:\",res.message)\n",
    "print(\"success:\",res.success)\n",
    "print(\"x:\", res.x)\n",
    "print('chi2 = %.3e' % (res.cost*2))\n",
    "(Er,G) = res_ene(res.x[1], res.x[2])\n",
    "print(\"Er=%f,  Gamma=%f\" % (Er,G))"
   ]
  },
  {
   "cell_type": "markdown",
   "metadata": {},
   "source": [
    "### Energy ranges for averaging procedure\n",
    "* Start with all energies from $-0.5$ to $-4*E_r$\n",
    "* Stop with all energies from $-0.5$ to $-7*E_r$"
   ]
  },
  {
   "cell_type": "code",
   "execution_count": 62,
   "metadata": {},
   "outputs": [
    {
     "name": "stdout",
     "output_type": "stream",
     "text": [
      "First energy:                  E=-0.46349\n",
      "Index for -4*Er0:          49; E=-13.71398\n",
      "Index for -7*Er0:          85; E=-23.65922\n",
      "Last index:                85; E=-23.65922\n"
     ]
    }
   ],
   "source": [
    "Estop1=-4.0*Er\n",
    "Estop2=-7.0*Er\n",
    "jmx1=np.argmin(np.abs(Es-Estop1))\n",
    "jmx2=np.argmin(np.abs(Es-Estop2))\n",
    "print('First energy:                  E=%.5f' % (Es[0]))\n",
    "print('Index for -4*Er0:         %3d; E=%.5f' % (jmx1,Es[jmx1]))\n",
    "print('Index for -7*Er0:         %3d; E=%.5f' % (jmx2,Es[jmx2]))\n",
    "print('Last index:               %3d; E=%.5f' % (Nval-1,Es[-1]))"
   ]
  },
  {
   "cell_type": "markdown",
   "metadata": {},
   "source": [
    "Loop over different ranges: \n",
    "* start with $\\lambda(E=-0.5)$ to $\\lambda(E=-4)$\n",
    "* stop with $\\lambda(E=-0.5)$ to $\\lambda(E=-7)$"
   ]
  },
  {
   "cell_type": "code",
   "execution_count": 63,
   "metadata": {},
   "outputs": [
    {
     "name": "stdout",
     "output_type": "stream",
     "text": [
      "  'lambda'       Emax/Er        Er       Gamma      chi**2\n",
      "  0.832000      4.089950     3.353093   0.465921   7.881e-10\n",
      "  0.845000      4.170829     3.354114   0.475108   8.748e-10\n",
      "  0.858000      4.251558     3.355233   0.484360   9.688e-10\n",
      "  0.871000      4.332128     3.356450   0.493610   1.071e-09\n",
      "  0.884000      4.412525     3.357768   0.502902   1.181e-09\n",
      "  0.897000      4.492741     3.359188   0.512192   1.299e-09\n",
      "  0.910000      4.572765     3.360713   0.521472   1.427e-09\n",
      "  0.923000      4.652588     3.362344   0.530730   1.565e-09\n",
      "  0.936000      4.732194     3.364085   0.539996   1.713e-09\n",
      "  0.949000      4.811576     3.365937   0.549239   1.872e-09\n",
      "  0.962000      4.890721     3.367901   0.558455   2.042e-09\n",
      "  0.975000      4.969620     3.369980   0.567636   2.224e-09\n",
      "  0.988000      5.048259     3.372176   0.576786   2.419e-09\n",
      "  1.001000      5.126632     3.374488   0.585874   2.627e-09\n",
      "  1.014000      5.204737     3.376912   0.594869   2.849e-09\n",
      "  1.027000      5.282555     3.379456   0.603801   3.085e-09\n",
      "  1.040000      5.360085     3.382115   0.612634   3.337e-09\n",
      "  1.053000      5.437311     3.384894   0.621382   3.604e-09\n",
      "  1.066000      5.514231     3.387789   0.630018   3.888e-09\n",
      "  1.079000      5.590812     3.390816   0.638602   4.190e-09\n",
      "  1.092000      5.667137     3.393919   0.646895   4.510e-09\n",
      "  1.105000      5.743105     3.397157   0.655135   4.848e-09\n",
      "  1.118000      5.818704     3.400530   0.663305   5.207e-09\n",
      "  1.131000      5.894049     3.403968   0.671155   5.586e-09\n",
      "  1.144000      5.969021     3.407536   0.678911   5.986e-09\n",
      "  1.157000      6.043668     3.411203   0.686466   6.409e-09\n",
      "  1.170000      6.117983     3.414970   0.693823   6.856e-09\n",
      "  1.183000      6.191967     3.418832   0.700971   7.326e-09\n",
      "  1.196000      6.265623     3.422786   0.707901   7.822e-09\n",
      "  1.209000      6.338954     3.426826   0.714602   8.344e-09\n",
      "  1.222000      6.411944     3.430960   0.721092   8.893e-09\n",
      "  1.235000      6.484638     3.435160   0.727310   9.470e-09\n",
      "  1.248000      6.557037     3.439424   0.733261   1.008e-08\n",
      "  1.261000      6.629115     3.443764   0.738974   1.071e-08\n",
      "  1.274000      6.700920     3.448153   0.744400   1.138e-08\n",
      "  1.287000      6.772414     3.452610   0.749580   1.208e-08\n",
      "  1.300000      6.843675     3.457093   0.754448   1.282e-08\n"
     ]
    }
   ],
   "source": [
    "Emaxs = []\n",
    "Ers = []\n",
    "Gs = []\n",
    "chi2s = []\n",
    "print(\"  'lambda'       Emax/Er        Er       Gamma      chi**2\")\n",
    "for j in range(jmx1,jmx2+1):\n",
    "    parg=(ks[:j], k2s[:j], ls[:j], sigmas[:j])\n",
    "    res = least_squares(fun, p0s, method='trf', jac=jac, args=parg)\n",
    "    chi2s.append(res.cost*2)\n",
    "    Er, G = res_ene(res.x[1], res.x[2])\n",
    "    print(\"%10f    %10f   %10f %10f   %.3e\" % (ls[j], -Es[j]/Er, Er, G, res.cost*2))\n",
    "    Emaxs.append(-Es[j]/Er)\n",
    "    Ers.append(Er)\n",
    "    Gs.append(G)"
   ]
  },
  {
   "cell_type": "markdown",
   "metadata": {},
   "source": [
    "Compute simple and weighted averages using $\\chi^2$ as weights. "
   ]
  },
  {
   "cell_type": "code",
   "execution_count": 64,
   "metadata": {},
   "outputs": [
    {
     "name": "stdout",
     "output_type": "stream",
     "text": [
      "Simple average\n",
      "  Er = 3.394063   STD = 0.031592\n",
      "  G  = 0.623076   STD = 0.087952\n",
      "Weighted average:\n",
      "  Er = 3.372211\n",
      "  G  = 0.554514\n"
     ]
    }
   ],
   "source": [
    "Ers=np.array(Ers)\n",
    "Gs=np.array(Gs)\n",
    "chi2s=np.array(chi2s)\n",
    "print(\"Simple average\")\n",
    "print(\"  Er = %f   STD = %f\" % (np.mean(Ers), np.std(Ers)))\n",
    "print(\"  G  = %f   STD = %f\" % (np.mean(Gs), np.std(Gs)))\n",
    "print(\"Weighted average:\")\n",
    "print(\"  Er = %f\" % (np.average(Ers,weights=1.0/chi2s)))\n",
    "print(\"  G  = %f\" % (np.average(Gs,weights=1.0/chi2s)))"
   ]
  },
  {
   "cell_type": "code",
   "execution_count": null,
   "metadata": {},
   "outputs": [],
   "source": []
  },
  {
   "cell_type": "code",
   "execution_count": null,
   "metadata": {},
   "outputs": [],
   "source": []
  }
 ],
 "metadata": {
  "kernelspec": {
   "display_name": "Python 3",
   "language": "python",
   "name": "python3"
  },
  "language_info": {
   "codemirror_mode": {
    "name": "ipython",
    "version": 3
   },
   "file_extension": ".py",
   "mimetype": "text/x-python",
   "name": "python",
   "nbconvert_exporter": "python",
   "pygments_lexer": "ipython3",
   "version": "3.8.8"
  }
 },
 "nbformat": 4,
 "nbformat_minor": 4
}
