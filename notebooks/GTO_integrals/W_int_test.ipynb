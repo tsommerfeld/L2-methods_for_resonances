{
 "cells": [
  {
   "cell_type": "code",
   "execution_count": 2,
   "id": "8fe28f95",
   "metadata": {},
   "outputs": [],
   "source": [
    "import numpy as np\n",
    "from scipy.integrate import quad\n",
    "import sys\n",
    "sys.path.append('../../Python_libs')\n",
    "from GTO_basis import Jolanta_3D_Wcap"
   ]
  },
  {
   "cell_type": "code",
   "execution_count": 3,
   "id": "aa56d052",
   "metadata": {},
   "outputs": [],
   "source": [
    "a1s=[0.5, 0.2]\n",
    "a2s=[1.0, 3.0]\n",
    "rc=1.2"
   ]
  },
  {
   "cell_type": "code",
   "execution_count": 9,
   "id": "cd582f34-7a47-44c3-8427-3f96b84f29c3",
   "metadata": {},
   "outputs": [],
   "source": [
    "#quad?"
   ]
  },
  {
   "cell_type": "code",
   "execution_count": 10,
   "id": "d24d14de",
   "metadata": {},
   "outputs": [
    {
     "name": "stdout",
     "output_type": "stream",
     "text": [
      "0.5 1.0 5.898059818321144e-17\n",
      "0.5 3.0 2.556033726688889e-15\n",
      "0.2 1.0 5.037636974236648e-15\n",
      "0.2 3.0 1.5141588070172185e-14\n"
     ]
    }
   ],
   "source": [
    "def p(x, a1=1.0, a2=1.0, rc=1.0):\n",
    "    x**2*np.exp(-a1*x**2) * (x-rc)**2 * x**2*np.exp(-a2*x**2)\n",
    "\n",
    "for a1 in a1s:\n",
    "    for a2 in a2s:\n",
    "        result = quad(lambda x: x**4*np.exp(-(a1+a2)*x**2) * (x-rc)**2, rc, np.inf)\n",
    "        print(a1,a2,result[0]-Jolanta_3D_Wcap(a1+a2, rc))\n",
    "        #print(a1,a2,result)"
   ]
  },
  {
   "cell_type": "code",
   "execution_count": 5,
   "id": "d9b35f33",
   "metadata": {},
   "outputs": [
    {
     "name": "stdout",
     "output_type": "stream",
     "text": [
      "0.023099367500247735\n",
      "7.100057328585818e-05\n",
      "0.07814270603102502\n",
      "0.00014771692591831808\n"
     ]
    }
   ],
   "source": [
    "for a1 in a1s:\n",
    "    for a2 in a2s:\n",
    "        print(Jolanta_3D_Wcap(a1+a2, rc))"
   ]
  },
  {
   "cell_type": "code",
   "execution_count": null,
   "id": "8987b938",
   "metadata": {},
   "outputs": [],
   "source": []
  }
 ],
 "metadata": {
  "kernelspec": {
   "display_name": "Python 3",
   "language": "python",
   "name": "python3"
  },
  "language_info": {
   "codemirror_mode": {
    "name": "ipython",
    "version": 3
   },
   "file_extension": ".py",
   "mimetype": "text/x-python",
   "name": "python",
   "nbconvert_exporter": "python",
   "pygments_lexer": "ipython3",
   "version": "3.8.8"
  }
 },
 "nbformat": 4,
 "nbformat_minor": 5
}
