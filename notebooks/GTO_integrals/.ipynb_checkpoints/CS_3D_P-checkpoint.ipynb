{
 "cells": [
  {
   "cell_type": "code",
   "execution_count": 2,
   "metadata": {},
   "outputs": [
    {
     "name": "stdout",
     "output_type": "stream",
     "text": [
      "IPython console for SymPy 1.5.1 (Python 3.6.9-64-bit) (ground types: gmpy)\n",
      "\n",
      "These commands were executed:\n",
      ">>> from __future__ import division\n",
      ">>> from sympy import *\n",
      ">>> x, y, z, t = symbols('x y z t')\n",
      ">>> k, m, n = symbols('k m n', integer=True)\n",
      ">>> f, g, h = symbols('f g h', cls=Function)\n",
      ">>> init_printing()\n",
      "\n",
      "Documentation can be found at https://docs.sympy.org/1.5.1/\n",
      "\n"
     ]
    }
   ],
   "source": [
    "from sympy import init_session\n",
    "init_session()"
   ]
  },
  {
   "cell_type": "code",
   "execution_count": 3,
   "metadata": {
    "jupyter": {
     "source_hidden": true
    }
   },
   "outputs": [],
   "source": [
    "#init_printing?"
   ]
  },
  {
   "cell_type": "markdown",
   "metadata": {},
   "source": [
    "### Jolanta parameters and one product Gaussians"
   ]
  },
  {
   "cell_type": "code",
   "execution_count": 4,
   "metadata": {},
   "outputs": [],
   "source": [
    "a, b, c, a12, t = symbols('a b c a12 t', positive=True, real=True)"
   ]
  },
  {
   "cell_type": "code",
   "execution_count": 6,
   "metadata": {},
   "outputs": [
    {
     "data": {
      "image/png": "[encoded data removed]",
      "text/latex": [
       "$\\displaystyle x^{4} e^{- a_{12} x^{2}}$"
      ],
      "text/plain": [
       "          2\n",
       " 4  -a₁₂⋅x \n",
       "x ⋅ℯ       "
      ]
     },
     "execution_count": 6,
     "metadata": {},
     "output_type": "execute_result"
    }
   ],
   "source": [
    "gp = x**4*exp(-a12*x**2)\n",
    "gp"
   ]
  },
  {
   "cell_type": "markdown",
   "metadata": {},
   "source": [
    "<br>\n",
    "\n",
    "### Theory  (Fingers crossed)\n",
    "We don't solve the radial equation for $R(r)$, but rather for $u(r) = r \\cdot R(r)$.\n",
    "So, if $R$ is a s-function, $u$ is a p-function, and if $R$ is a p-function, $u$ is a d-function, etc. <br>\n",
    "\n",
    "$gp(r) = u_1(r)u_2(r) = r^4 e^{-r^2}$ with $a=a_1 + a_2$\n",
    "\n",
    "$S = \\int r^2dr R^2 = \\int dr\\, u^2$<br>\n",
    "$T = \\int r^2dr R_1 \\hat{T} R_2 = \\int dr\\, u_1\\, \\frac{d^2}{dr^2} \\, u_2 $\n",
    "<br>"
   ]
  },
  {
   "cell_type": "markdown",
   "metadata": {},
   "source": [
    "### real potential"
   ]
  },
  {
   "cell_type": "code",
   "execution_count": 7,
   "metadata": {},
   "outputs": [
    {
     "data": {
      "image/png": "[encoded data removed]",
      "text/latex": [
       "$\\displaystyle \\left( a x^{2} e^{- c x^{2}}, \\  b e^{- c x^{2}}\\right)$"
      ],
      "text/plain": [
       "⎛          2         2⎞\n",
       "⎜   2  -c⋅x      -c⋅x ⎟\n",
       "⎝a⋅x ⋅ℯ     , b⋅ℯ     ⎠"
      ]
     },
     "execution_count": 7,
     "metadata": {},
     "output_type": "execute_result"
    }
   ],
   "source": [
    "va=a*x**2*exp(-c*x**2)\n",
    "vb=b*exp(-c*x**2)\n",
    "va, vb"
   ]
  },
  {
   "cell_type": "code",
   "execution_count": 8,
   "metadata": {},
   "outputs": [
    {
     "data": {
      "image/png": "[encoded data removed]",
      "text/latex": [
       "$\\displaystyle \\frac{15 \\sqrt{\\pi} a}{16 \\left(a_{12} + c\\right)^{\\frac{7}{2}}}$"
      ],
      "text/plain": [
       "    15⋅√π⋅a    \n",
       "───────────────\n",
       "            7/2\n",
       "16⋅(a₁₂ + c)   "
      ]
     },
     "execution_count": 8,
     "metadata": {},
     "output_type": "execute_result"
    }
   ],
   "source": [
    "Va = integrate(gp*va, (x, 0, oo))\n",
    "Va.simplify()"
   ]
  },
  {
   "cell_type": "code",
   "execution_count": 9,
   "metadata": {},
   "outputs": [
    {
     "data": {
      "image/png": "[encoded data removed]",
      "text/latex": [
       "$\\displaystyle \\frac{3 \\sqrt{\\pi} b}{8 \\left(a_{12} + c\\right)^{\\frac{5}{2}}}$"
      ],
      "text/plain": [
       "    3⋅√π⋅b    \n",
       "──────────────\n",
       "           5/2\n",
       "8⋅(a₁₂ + c)   "
      ]
     },
     "execution_count": 9,
     "metadata": {},
     "output_type": "execute_result"
    }
   ],
   "source": [
    "Vb = integrate(gp*vb, (x, 0, oo))\n",
    "Vb.simplify()"
   ]
  },
  {
   "cell_type": "code",
   "execution_count": 10,
   "metadata": {},
   "outputs": [
    {
     "data": {
      "image/png": "[encoded data removed]",
      "text/latex": [
       "$\\displaystyle \\frac{3 \\sqrt{\\pi} \\left(5 a - 2 a_{12} b - 2 b c\\right)}{16 \\left(a_{12} + c\\right)^{\\frac{7}{2}}}$"
      ],
      "text/plain": [
       "3⋅√π⋅(5⋅a - 2⋅a₁₂⋅b - 2⋅b⋅c)\n",
       "────────────────────────────\n",
       "                  7/2       \n",
       "      16⋅(a₁₂ + c)          "
      ]
     },
     "execution_count": 10,
     "metadata": {},
     "output_type": "execute_result"
    }
   ],
   "source": [
    "(Va-Vb).factor()"
   ]
  },
  {
   "cell_type": "code",
   "execution_count": 11,
   "metadata": {},
   "outputs": [
    {
     "data": {
      "image/png": "[encoded data removed]",
      "text/latex": [
       "$\\displaystyle e^{2 i t}$"
      ],
      "text/plain": [
       " 2⋅ⅈ⋅t\n",
       "ℯ     "
      ]
     },
     "execution_count": 11,
     "metadata": {},
     "output_type": "execute_result"
    }
   ],
   "source": [
    "f=exp(2*I*t)\n",
    "f"
   ]
  },
  {
   "cell_type": "markdown",
   "metadata": {},
   "source": [
    "### Potential $V(x) = (ax^2 - b)e^{-cx^2}$"
   ]
  },
  {
   "cell_type": "code",
   "execution_count": 12,
   "metadata": {},
   "outputs": [
    {
     "data": {
      "image/png": "[encoded data removed]",
      "text/latex": [
       "$\\displaystyle \\left( a x^{2} e^{2 i t} e^{- c x^{2} e^{2 i t}}, \\  b e^{- c x^{2} e^{2 i t}}\\right)$"
      ],
      "text/plain": [
       "⎛                 2  2⋅ⅈ⋅t         2  2⋅ⅈ⋅t⎞\n",
       "⎜   2  2⋅ⅈ⋅t  -c⋅x ⋅ℯ          -c⋅x ⋅ℯ     ⎟\n",
       "⎝a⋅x ⋅ℯ     ⋅ℯ            , b⋅ℯ            ⎠"
      ]
     },
     "execution_count": 12,
     "metadata": {},
     "output_type": "execute_result"
    }
   ],
   "source": [
    "va=a*x**2*f*exp(-c*x**2*f)\n",
    "vb=b*exp(-c*x**2*f)\n",
    "va, vb"
   ]
  },
  {
   "cell_type": "code",
   "execution_count": 13,
   "metadata": {},
   "outputs": [
    {
     "data": {
      "image/png": "[encoded data removed]",
      "text/latex": [
       "$\\displaystyle \\begin{cases} \\frac{15 \\sqrt{\\pi} a e^{2 i t}}{16 \\left(a_{12} + c e^{2 i t}\\right)^{\\frac{7}{2}}} & \\text{for}\\: \\left|{\\arg{\\left(e^{2 i t} \\right)}}\\right| \\leq \\frac{\\pi}{2} \\\\a e^{2 i t} \\int\\limits_{0}^{\\infty} x^{6} e^{- x^{2} \\left(a_{12} + c e^{2 i t}\\right)}\\, dx & \\text{otherwise} \\end{cases}$"
      ],
      "text/plain": [
       "⎧                     2⋅ⅈ⋅t                                   \n",
       "⎪            15⋅√π⋅a⋅ℯ                       │   ⎛ 2⋅ⅈ⋅t⎞│   π\n",
       "⎪        ──────────────────────          for │arg⎝ℯ     ⎠│ ≤ ─\n",
       "⎪                           7/2                              2\n",
       "⎪           ⎛         2⋅ⅈ⋅t⎞                                  \n",
       "⎪        16⋅⎝a₁₂ + c⋅ℯ     ⎠                                  \n",
       "⎪                                                             \n",
       "⎨         ∞                                                   \n",
       "⎪         ⌠                                                   \n",
       "⎪         ⎮       2 ⎛         2⋅ⅈ⋅t⎞                          \n",
       "⎪   2⋅ⅈ⋅t ⎮  6  -x ⋅⎝a₁₂ + c⋅ℯ     ⎠                          \n",
       "⎪a⋅ℯ     ⋅⎮ x ⋅ℯ                     dx        otherwise      \n",
       "⎪         ⌡                                                   \n",
       "⎪         0                                                   \n",
       "⎩                                                             "
      ]
     },
     "execution_count": 13,
     "metadata": {},
     "output_type": "execute_result"
    }
   ],
   "source": [
    "Va = integrate(gp*va, (x, 0, oo))\n",
    "Va.simplify()"
   ]
  },
  {
   "cell_type": "code",
   "execution_count": 23,
   "metadata": {},
   "outputs": [
    {
     "data": {
      "text/plain": [
       "'Piecewise((15*sqrt(pi)*a*exp(2*I*t)/(16*(a1 + c*exp(2*I*t))**(7/2)), Abs(arg(exp(2*I*t))) <= pi/2), (a*exp(2*I*t)*Integral(x**6*exp(-x**2*(a1 + c*exp(2*I*t))), (x, 0, oo)), True))'"
      ]
     },
     "execution_count": 23,
     "metadata": {},
     "output_type": "execute_result"
    }
   ],
   "source": [
    "printing.sstrrepr(Va.simplify())"
   ]
  },
  {
   "cell_type": "code",
   "execution_count": 14,
   "metadata": {},
   "outputs": [
    {
     "data": {
      "image/png": "[encoded data removed]",
      "text/latex": [
       "$\\displaystyle \\begin{cases} \\frac{3 \\sqrt{\\pi} b}{8 \\left(a_{12} + c e^{2 i t}\\right)^{\\frac{5}{2}}} & \\text{for}\\: \\left|{\\arg{\\left(e^{2 i t} \\right)}}\\right| \\leq \\frac{\\pi}{2} \\\\b \\int\\limits_{0}^{\\infty} x^{4} e^{- x^{2} \\left(a_{12} + c e^{2 i t}\\right)}\\, dx & \\text{otherwise} \\end{cases}$"
      ],
      "text/plain": [
       "⎧             3⋅√π⋅b                  │   ⎛ 2⋅ⅈ⋅t⎞│   π\n",
       "⎪     ─────────────────────       for │arg⎝ℯ     ⎠│ ≤ ─\n",
       "⎪                       5/2                           2\n",
       "⎪       ⎛         2⋅ⅈ⋅t⎞                               \n",
       "⎪     8⋅⎝a₁₂ + c⋅ℯ     ⎠                               \n",
       "⎪                                                      \n",
       "⎨  ∞                                                   \n",
       "⎪  ⌠                                                   \n",
       "⎪  ⎮       2 ⎛         2⋅ⅈ⋅t⎞                          \n",
       "⎪  ⎮  4  -x ⋅⎝a₁₂ + c⋅ℯ     ⎠                          \n",
       "⎪b⋅⎮ x ⋅ℯ                     dx        otherwise      \n",
       "⎪  ⌡                                                   \n",
       "⎩  0                                                   "
      ]
     },
     "execution_count": 14,
     "metadata": {},
     "output_type": "execute_result"
    }
   ],
   "source": [
    "Vb = integrate(gp*vb, (x, 0, oo))\n",
    "Vb.simplify()"
   ]
  },
  {
   "cell_type": "code",
   "execution_count": 26,
   "metadata": {},
   "outputs": [
    {
     "data": {
      "text/plain": [
       "'Piecewise((3*sqrt(pi)*b/(8*(a1 + c*exp(2*I*t))**(5/2)), Abs(arg(exp(2*I*t))) <= pi/2), (b*Integral(x**4*exp(-x**2*(a1 + c*exp(2*I*t))), (x, 0, oo)), True))'"
      ]
     },
     "execution_count": 26,
     "metadata": {},
     "output_type": "execute_result"
    }
   ],
   "source": [
    "printing.sstrrepr(Vb.simplify())"
   ]
  },
  {
   "cell_type": "code",
   "execution_count": 18,
   "metadata": {},
   "outputs": [],
   "source": [
    "VJ=(Va.simplify()-Vb.simplify()).simplify()"
   ]
  },
  {
   "cell_type": "code",
   "execution_count": 19,
   "metadata": {},
   "outputs": [
    {
     "data": {
      "image/png": "[encoded data removed]",
      "text/latex": [
       "$\\displaystyle \\begin{cases} \\frac{3 \\sqrt{\\pi} \\left(5 a e^{2 i t} - 2 b \\left(a_{12} + c e^{2 i t}\\right)\\right)}{16 \\left(a_{12} + c e^{2 i t}\\right)^{\\frac{7}{2}}} & \\text{for}\\: \\left|{\\arg{\\left(e^{2 i t} \\right)}}\\right| \\leq \\frac{\\pi}{2} \\vee \\left|{\\arg{\\left(a_{12} + c e^{2 i t} \\right)}}\\right| < \\frac{\\pi}{2} \\\\a e^{2 i t} \\int\\limits_{0}^{\\infty} x^{6} e^{- x^{2} \\left(a_{12} + c e^{2 i t}\\right)}\\, dx - b \\int\\limits_{0}^{\\infty} x^{4} e^{- x^{2} \\left(a_{12} + c e^{2 i t}\\right)}\\, dx & \\text{otherwise} \\end{cases}$"
      ],
      "text/plain": [
       "⎧                     ⎛     2⋅ⅈ⋅t       ⎛         2⋅ⅈ⋅t⎞⎞                     \n",
       "⎪                3⋅√π⋅⎝5⋅a⋅ℯ      - 2⋅b⋅⎝a₁₂ + c⋅ℯ     ⎠⎠                     \n",
       "⎪                ────────────────────────────────────────                  for\n",
       "⎪                                            7/2                              \n",
       "⎪                            ⎛         2⋅ⅈ⋅t⎞                                 \n",
       "⎪                         16⋅⎝a₁₂ + c⋅ℯ     ⎠                                 \n",
       "⎪                                                                             \n",
       "⎨         ∞                                 ∞                                 \n",
       "⎪         ⌠                                 ⌠                                 \n",
       "⎪         ⎮       2 ⎛         2⋅ⅈ⋅t⎞        ⎮       2 ⎛         2⋅ⅈ⋅t⎞        \n",
       "⎪   2⋅ⅈ⋅t ⎮  6  -x ⋅⎝a₁₂ + c⋅ℯ     ⎠        ⎮  4  -x ⋅⎝a₁₂ + c⋅ℯ     ⎠        \n",
       "⎪a⋅ℯ     ⋅⎮ x ⋅ℯ                     dx - b⋅⎮ x ⋅ℯ                     dx     \n",
       "⎪         ⌡                                 ⌡                                 \n",
       "⎪         0                                 0                                 \n",
       "⎩                                                                             \n",
       "\n",
       "                                              \n",
       " │   ⎛ 2⋅ⅈ⋅t⎞│   π   │   ⎛         2⋅ⅈ⋅t⎞│   π\n",
       " │arg⎝ℯ     ⎠│ ≤ ─ ∨ │arg⎝a₁₂ + c⋅ℯ     ⎠│ < ─\n",
       "                 2                           2\n",
       "                                              \n",
       "                                              \n",
       "                                              \n",
       "                                              \n",
       "                                              \n",
       "                                              \n",
       "                                              \n",
       "                 otherwise                    \n",
       "                                              \n",
       "                                              \n",
       "                                              "
      ]
     },
     "execution_count": 19,
     "metadata": {},
     "output_type": "execute_result"
    }
   ],
   "source": [
    "VJ"
   ]
  },
  {
   "cell_type": "code",
   "execution_count": 20,
   "metadata": {},
   "outputs": [
    {
     "data": {
      "text/plain": [
       "'Piecewise((3*sqrt(pi)*(5*a*exp(2*I*t) - 2*b*(a12 + c*exp(2*I*t)))/(16*(a12 + c*exp(2*I*t))**(7/2)), (Abs(arg(exp(2*I*t))) <= pi/2) | (Abs(arg(a12 + c*exp(2*I*t))) < pi/2)), (a*exp(2*I*t)*Integral(x**6*exp(-x**2*(a12 + c*exp(2*I*t))), (x, 0, oo)) - b*Integral(x**4*exp(-x**2*(a12 + c*exp(2*I*t))), (x, 0, oo)), True))'"
      ]
     },
     "execution_count": 20,
     "metadata": {},
     "output_type": "execute_result"
    }
   ],
   "source": [
    "printing.sstrrepr(VJ)"
   ]
  },
  {
   "cell_type": "code",
   "execution_count": null,
   "metadata": {},
   "outputs": [],
   "source": []
  },
  {
   "cell_type": "markdown",
   "metadata": {},
   "source": [
    "For some reason *arg()* works only for specific numbers. "
   ]
  },
  {
   "cell_type": "code",
   "execution_count": 41,
   "metadata": {},
   "outputs": [],
   "source": [
    "from sympy.assumptions import assuming, Q"
   ]
  },
  {
   "cell_type": "code",
   "execution_count": 49,
   "metadata": {},
   "outputs": [
    {
     "name": "stdout",
     "output_type": "stream",
     "text": [
      "arg(exp(I*t))\n"
     ]
    }
   ],
   "source": [
    "with assuming(Q.is_true(t <= pi/2)):\n",
    "    print((arg(exp(I*t))).simplify())"
   ]
  },
  {
   "cell_type": "code",
   "execution_count": 51,
   "metadata": {},
   "outputs": [
    {
     "data": {
      "image/png": "[encoded data removed]",
      "text/latex": [
       "$\\displaystyle \\frac{\\pi}{2}$"
      ],
      "text/plain": [
       "π\n",
       "─\n",
       "2"
      ]
     },
     "execution_count": 51,
     "metadata": {},
     "output_type": "execute_result"
    }
   ],
   "source": [
    "arg(exp(I*pi/2))"
   ]
  },
  {
   "cell_type": "code",
   "execution_count": null,
   "metadata": {},
   "outputs": [],
   "source": []
  }
 ],
 "metadata": {
  "kernelspec": {
   "display_name": "Python 3",
   "language": "python",
   "name": "python3"
  },
  "language_info": {
   "codemirror_mode": {
    "name": "ipython",
    "version": 3
   },
   "file_extension": ".py",
   "mimetype": "text/x-python",
   "name": "python",
   "nbconvert_exporter": "python",
   "pygments_lexer": "ipython3",
   "version": "3.6.9"
  }
 },
 "nbformat": 4,
 "nbformat_minor": 4
}
