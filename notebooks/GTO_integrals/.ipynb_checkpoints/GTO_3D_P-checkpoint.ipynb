{
 "cells": [
  {
   "cell_type": "code",
   "execution_count": 2,
   "metadata": {},
   "outputs": [
    {
     "name": "stdout",
     "output_type": "stream",
     "text": [
      "IPython console for SymPy 1.5.1 (Python 3.6.9-64-bit) (ground types: gmpy)\n",
      "\n",
      "These commands were executed:\n",
      ">>> from __future__ import division\n",
      ">>> from sympy import *\n",
      ">>> x, y, z, t = symbols('x y z t')\n",
      ">>> k, m, n = symbols('k m n', integer=True)\n",
      ">>> f, g, h = symbols('f g h', cls=Function)\n",
      ">>> init_printing()\n",
      "\n",
      "Documentation can be found at https://docs.sympy.org/1.5.1/\n",
      "\n"
     ]
    }
   ],
   "source": [
    "from sympy import init_session\n",
    "init_session()"
   ]
  },
  {
   "cell_type": "code",
   "execution_count": 2,
   "metadata": {},
   "outputs": [],
   "source": [
    "#init_printing?"
   ]
  },
  {
   "cell_type": "markdown",
   "metadata": {},
   "source": [
    "### Parameters and two Gaussians"
   ]
  },
  {
   "cell_type": "code",
   "execution_count": 3,
   "metadata": {},
   "outputs": [],
   "source": [
    "a, b, c, a1, a2 = symbols('a b c a1 a2', positive=True, real=True)"
   ]
  },
  {
   "cell_type": "code",
   "execution_count": 4,
   "metadata": {},
   "outputs": [
    {
     "data": {
      "image/png": "[encoded data removed]",
      "text/latex": [
       "$\\displaystyle \\left( x^{2} e^{- a_{1} x^{2}}, \\  x^{2} e^{- a_{2} x^{2}}\\right)$"
      ],
      "text/plain": [
       "⎛         2           2⎞\n",
       "⎜ 2  -a₁⋅x    2  -a₂⋅x ⎟\n",
       "⎝x ⋅ℯ      , x ⋅ℯ      ⎠"
      ]
     },
     "execution_count": 4,
     "metadata": {},
     "output_type": "execute_result"
    }
   ],
   "source": [
    "u1=x**2*exp(-a1*x**2)\n",
    "u2=x**2*exp(-a2*x**2)\n",
    "u1, u2"
   ]
  },
  {
   "cell_type": "markdown",
   "metadata": {},
   "source": [
    "We don't solve the radial equation for $R(r)$, but rather for $u(r) = r \\cdot R(r)$.\n",
    "So, if $R$ is a s-function, $u$ is a p-function, and if $R$ is a p-function, $u$ is a d-function, etc. <br>\n",
    "\n",
    "$S = \\int r^2dr R^2 = \\int dr\\, u^2$<br>\n",
    "$T = \\int r^2dr R_1 \\hat{T} R_2 = \\int dr\\, u_1\\, \\frac{d^2}{dr^2} \\, u_2 $\n",
    "<br>"
   ]
  },
  {
   "cell_type": "markdown",
   "metadata": {},
   "source": [
    "### Normalization constant"
   ]
  },
  {
   "cell_type": "code",
   "execution_count": 6,
   "metadata": {},
   "outputs": [
    {
     "data": {
      "image/png": "[encoded data removed]",
      "text/latex": [
       "$\\displaystyle \\frac{3 \\sqrt{2} \\sqrt{\\pi}}{64 a_{1}^{\\frac{5}{2}}}$"
      ],
      "text/plain": [
       "3⋅√2⋅√π \n",
       "────────\n",
       "     5/2\n",
       "64⋅a₁   "
      ]
     },
     "execution_count": 6,
     "metadata": {},
     "output_type": "execute_result"
    }
   ],
   "source": [
    "N=integrate(u1*u1, (x, 0, oo))\n",
    "N"
   ]
  },
  {
   "cell_type": "code",
   "execution_count": 7,
   "metadata": {},
   "outputs": [
    {
     "data": {
      "image/png": "[encoded data removed]",
      "text/latex": [
       "$\\displaystyle \\frac{4 \\cdot 2^{\\frac{3}{4}} \\sqrt{3} a_{1}^{\\frac{5}{4}}}{3 \\sqrt[4]{\\pi}}$"
      ],
      "text/plain": [
       "   3/4      5/4\n",
       "4⋅2   ⋅√3⋅a₁   \n",
       "───────────────\n",
       "      4 ___    \n",
       "    3⋅╲╱ π     "
      ]
     },
     "execution_count": 7,
     "metadata": {},
     "output_type": "execute_result"
    }
   ],
   "source": [
    "1/sqrt(N)"
   ]
  },
  {
   "cell_type": "code",
   "execution_count": 8,
   "metadata": {},
   "outputs": [
    {
     "data": {
      "text/plain": [
       "'4*2**(3/4)*sqrt(3)*a1**(5/4)/(3*pi**(1/4))'"
      ]
     },
     "execution_count": 8,
     "metadata": {},
     "output_type": "execute_result"
    }
   ],
   "source": [
    "printing.sstrrepr(1/sqrt(N))"
   ]
  },
  {
   "cell_type": "markdown",
   "metadata": {},
   "source": [
    "### Overlap integral S"
   ]
  },
  {
   "cell_type": "code",
   "execution_count": 9,
   "metadata": {},
   "outputs": [
    {
     "data": {
      "image/png": "[encoded data removed]",
      "text/latex": [
       "$\\displaystyle \\frac{3 \\sqrt{\\pi}}{8 a_{1}^{\\frac{5}{2}} \\left(1 + \\frac{a_{2}}{a_{1}}\\right)^{\\frac{5}{2}}}$"
      ],
      "text/plain": [
       "        3⋅√π       \n",
       "───────────────────\n",
       "                5/2\n",
       "    5/2 ⎛    a₂⎞   \n",
       "8⋅a₁   ⋅⎜1 + ──⎟   \n",
       "        ⎝    a₁⎠   "
      ]
     },
     "execution_count": 9,
     "metadata": {},
     "output_type": "execute_result"
    }
   ],
   "source": [
    "S=integrate(u1*u2, (x, 0, oo))\n",
    "S"
   ]
  },
  {
   "cell_type": "code",
   "execution_count": 10,
   "metadata": {},
   "outputs": [
    {
     "data": {
      "image/png": "[encoded data removed]",
      "text/latex": [
       "$\\displaystyle \\frac{3 \\sqrt{\\pi}}{8 \\left(a_{1} + a_{2}\\right)^{\\frac{5}{2}}}$"
      ],
      "text/plain": [
       "     3⋅√π     \n",
       "──────────────\n",
       "           5/2\n",
       "8⋅(a₁ + a₂)   "
      ]
     },
     "execution_count": 10,
     "metadata": {},
     "output_type": "execute_result"
    }
   ],
   "source": [
    "S.simplify()"
   ]
  },
  {
   "cell_type": "code",
   "execution_count": 11,
   "metadata": {},
   "outputs": [
    {
     "data": {
      "text/plain": [
       "'3*sqrt(pi)/(8*(a1 + a2)**(5/2))'"
      ]
     },
     "execution_count": 11,
     "metadata": {},
     "output_type": "execute_result"
    }
   ],
   "source": [
    "printing.sstrrepr(S.simplify())"
   ]
  },
  {
   "cell_type": "markdown",
   "metadata": {},
   "source": [
    "### Kinetic energy $T = -\\frac{\\hbar^2}{2m} \\frac{d^2}{dx^2} = \\frac{1}{2m}\\left(\\frac{\\hbar}{i}\\frac{d}{dx} \\right)^2$"
   ]
  },
  {
   "cell_type": "code",
   "execution_count": 12,
   "metadata": {},
   "outputs": [
    {
     "data": {
      "image/png": "[encoded data removed]",
      "text/latex": [
       "$\\displaystyle \\left( - 2 a_{1} x^{3} e^{- a_{1} x^{2}} + 2 x e^{- a_{1} x^{2}}, \\  - 2 a_{2} x^{3} e^{- a_{2} x^{2}} + 2 x e^{- a_{2} x^{2}}\\right)$"
      ],
      "text/plain": [
       "⎛                2             2                  2             2⎞\n",
       "⎜        3  -a₁⋅x         -a₁⋅x           3  -a₂⋅x         -a₂⋅x ⎟\n",
       "⎝- 2⋅a₁⋅x ⋅ℯ       + 2⋅x⋅ℯ      , - 2⋅a₂⋅x ⋅ℯ       + 2⋅x⋅ℯ      ⎠"
      ]
     },
     "execution_count": 12,
     "metadata": {},
     "output_type": "execute_result"
    }
   ],
   "source": [
    "d1=diff(u1,x)\n",
    "d2=diff(u2,x)\n",
    "d1, d2"
   ]
  },
  {
   "cell_type": "code",
   "execution_count": 26,
   "metadata": {},
   "outputs": [
    {
     "data": {
      "image/png": "[encoded data removed]",
      "text/latex": [
       "$\\displaystyle \\frac{\\sqrt{\\pi} \\left(1.875 a_{1} a_{2} - 0.25 \\left(a_{1} + a_{2}\\right)^{2}\\right)}{\\left(a_{1} + a_{2}\\right)^{\\frac{7}{2}}}$"
      ],
      "text/plain": [
       "   ⎛                            2⎞\n",
       "√π⋅⎝1.875⋅a₁⋅a₂ - 0.25⋅(a₁ + a₂) ⎠\n",
       "──────────────────────────────────\n",
       "                    7/2           \n",
       "           (a₁ + a₂)              "
      ]
     },
     "execution_count": 26,
     "metadata": {},
     "output_type": "execute_result"
    }
   ],
   "source": [
    "Tsym = 1/2 * integrate(d1*d2, (x, 0, oo))\n",
    "#T=T.simplify()\n",
    "#T=T.factor()\n",
    "Tsym.factor()\n",
    "Tsym.simplify()"
   ]
  },
  {
   "cell_type": "code",
   "execution_count": 17,
   "metadata": {},
   "outputs": [
    {
     "data": {
      "image/png": "[encoded data removed]",
      "text/latex": [
       "$\\displaystyle \\left( 2 \\left(a_{1} x^{2} \\left(2 a_{1} x^{2} - 1\\right) - 4 a_{1} x^{2} + 1\\right) e^{- a_{1} x^{2}}, \\  2 \\left(a_{2} x^{2} \\left(2 a_{2} x^{2} - 1\\right) - 4 a_{2} x^{2} + 1\\right) e^{- a_{2} x^{2}}\\right)$"
      ],
      "text/plain": [
       "⎛                                            2                                \n",
       "⎜  ⎛    2 ⎛      2    ⎞         2    ⎞  -a₁⋅x     ⎛    2 ⎛      2    ⎞        \n",
       "⎝2⋅⎝a₁⋅x ⋅⎝2⋅a₁⋅x  - 1⎠ - 4⋅a₁⋅x  + 1⎠⋅ℯ      , 2⋅⎝a₂⋅x ⋅⎝2⋅a₂⋅x  - 1⎠ - 4⋅a₂⋅\n",
       "\n",
       "              2⎞\n",
       " 2    ⎞  -a₂⋅x ⎟\n",
       "x  + 1⎠⋅ℯ      ⎠"
      ]
     },
     "execution_count": 17,
     "metadata": {},
     "output_type": "execute_result"
    }
   ],
   "source": [
    "dd1=diff(u1,x,2)\n",
    "dd2=diff(u2,x,2)\n",
    "dd1, dd2"
   ]
  },
  {
   "cell_type": "code",
   "execution_count": 20,
   "metadata": {},
   "outputs": [
    {
     "data": {
      "image/png": "[encoded data removed]",
      "text/latex": [
       "$\\displaystyle - \\frac{1.375 \\sqrt{\\pi} \\left(0.181818181818182 a_{1}^{2} - 1.0 a_{1} a_{2} + 0.181818181818182 a_{2}^{2}\\right)}{\\left(a_{1} + a_{2}\\right)^{\\frac{7}{2}}}$"
      ],
      "text/plain": [
       "          ⎛                    2                                   2⎞ \n",
       "-1.375⋅√π⋅⎝0.181818181818182⋅a₁  - 1.0⋅a₁⋅a₂ + 0.181818181818182⋅a₂ ⎠ \n",
       "──────────────────────────────────────────────────────────────────────\n",
       "                                      7/2                             \n",
       "                             (a₁ + a₂)                                "
      ]
     },
     "execution_count": 20,
     "metadata": {},
     "output_type": "execute_result"
    }
   ],
   "source": [
    "T1 = -1/2 * integrate(u1*dd2, (x, 0, oo))\n",
    "T1.factor()"
   ]
  },
  {
   "cell_type": "code",
   "execution_count": 21,
   "metadata": {},
   "outputs": [
    {
     "data": {
      "image/png": "[encoded data removed]",
      "text/latex": [
       "$\\displaystyle - \\frac{1.375 \\sqrt{\\pi} \\left(0.181818181818182 a_{1}^{2} - 1.0 a_{1} a_{2} + 0.181818181818182 a_{2}^{2}\\right)}{\\left(a_{1} + a_{2}\\right)^{\\frac{7}{2}}}$"
      ],
      "text/plain": [
       "          ⎛                    2                                   2⎞ \n",
       "-1.375⋅√π⋅⎝0.181818181818182⋅a₁  - 1.0⋅a₁⋅a₂ + 0.181818181818182⋅a₂ ⎠ \n",
       "──────────────────────────────────────────────────────────────────────\n",
       "                                      7/2                             \n",
       "                             (a₁ + a₂)                                "
      ]
     },
     "execution_count": 21,
     "metadata": {},
     "output_type": "execute_result"
    }
   ],
   "source": [
    "T2 = -1/2 * integrate(u2*dd1, (x, 0, oo))\n",
    "T2.factor()"
   ]
  },
  {
   "cell_type": "code",
   "execution_count": 24,
   "metadata": {},
   "outputs": [
    {
     "data": {
      "image/png": "[encoded data removed]",
      "text/latex": [
       "$\\displaystyle 0.18181818181818182$"
      ],
      "text/plain": [
       "0.18181818181818182"
      ]
     },
     "execution_count": 24,
     "metadata": {},
     "output_type": "execute_result"
    }
   ],
   "source": [
    "2/11"
   ]
  },
  {
   "cell_type": "code",
   "execution_count": 31,
   "metadata": {},
   "outputs": [
    {
     "data": {
      "text/plain": [
       "'sqrt(pi)*(1.875*a1*a2 - 0.25*(a1 + a2)**2)/(a1 + a2)**(7/2)'"
      ]
     },
     "execution_count": 31,
     "metadata": {},
     "output_type": "execute_result"
    }
   ],
   "source": [
    "printing.sstrrepr(Tsym.simplify())"
   ]
  },
  {
   "cell_type": "markdown",
   "metadata": {},
   "source": [
    "### Potential $V(x) = (ax^2 - b)e^{-cx^2}$"
   ]
  },
  {
   "cell_type": "code",
   "execution_count": 32,
   "metadata": {},
   "outputs": [
    {
     "data": {
      "image/png": "[encoded data removed]",
      "text/latex": [
       "$\\displaystyle \\left(a x^{2} - b\\right) e^{- c x^{2}}$"
      ],
      "text/plain": [
       "                2\n",
       "⎛   2    ⎞  -c⋅x \n",
       "⎝a⋅x  - b⎠⋅ℯ     "
      ]
     },
     "execution_count": 32,
     "metadata": {},
     "output_type": "execute_result"
    }
   ],
   "source": [
    "v=(a*x**2-b)*exp(-c*x**2)\n",
    "v"
   ]
  },
  {
   "cell_type": "code",
   "execution_count": 33,
   "metadata": {},
   "outputs": [
    {
     "data": {
      "image/png": "[encoded data removed]",
      "text/latex": [
       "$\\displaystyle \\frac{15 \\sqrt{\\pi} a}{16 \\left(a_{1} + a_{2}\\right)^{\\frac{7}{2}} \\left(\\frac{c}{a_{1} + a_{2}} + 1\\right)^{\\frac{7}{2}}} - \\frac{3 \\sqrt{\\pi} b}{8 \\left(a_{1} + a_{2}\\right)^{\\frac{5}{2}} \\left(\\frac{c}{a_{1} + a_{2}} + 1\\right)^{\\frac{5}{2}}}$"
      ],
      "text/plain": [
       "            15⋅√π⋅a                             3⋅√π⋅b            \n",
       "──────────────────────────────── - ───────────────────────────────\n",
       "                             7/2                               5/2\n",
       "            7/2 ⎛   c       ⎞                 5/2 ⎛   c       ⎞   \n",
       "16⋅(a₁ + a₂)   ⋅⎜─────── + 1⎟      8⋅(a₁ + a₂)   ⋅⎜─────── + 1⎟   \n",
       "                ⎝a₁ + a₂    ⎠                     ⎝a₁ + a₂    ⎠   "
      ]
     },
     "execution_count": 33,
     "metadata": {},
     "output_type": "execute_result"
    }
   ],
   "source": [
    "V = integrate(u1*v*u2, (x, 0, oo))\n",
    "V"
   ]
  },
  {
   "cell_type": "code",
   "execution_count": 34,
   "metadata": {},
   "outputs": [
    {
     "data": {
      "image/png": "[encoded data removed]",
      "text/latex": [
       "$\\displaystyle \\frac{3 \\sqrt{\\pi} \\left(5 a - 2 a_{1} b - 2 a_{2} b - 2 b c\\right)}{16 \\left(a_{1} + a_{2} + c\\right)^{\\frac{7}{2}}}$"
      ],
      "text/plain": [
       "3⋅√π⋅(5⋅a - 2⋅a₁⋅b - 2⋅a₂⋅b - 2⋅b⋅c)\n",
       "────────────────────────────────────\n",
       "                        7/2         \n",
       "        16⋅(a₁ + a₂ + c)            "
      ]
     },
     "execution_count": 34,
     "metadata": {},
     "output_type": "execute_result"
    }
   ],
   "source": [
    "V.factor()"
   ]
  },
  {
   "cell_type": "code",
   "execution_count": 35,
   "metadata": {},
   "outputs": [
    {
     "data": {
      "text/plain": [
       "'3*sqrt(pi)*(5*a - 2*a1*b - 2*a2*b - 2*b*c)/(16*(a1 + a2 + c)**(7/2))'"
      ]
     },
     "execution_count": 35,
     "metadata": {},
     "output_type": "execute_result"
    }
   ],
   "source": [
    "printing.sstrrepr(V.factor())"
   ]
  },
  {
   "cell_type": "markdown",
   "metadata": {},
   "source": [
    "<br>\n",
    "\n",
    "Angular momentum potential: $V = \\frac{l(l+1)}{2\\mu r^2 }$; for $l=1$: $V = \\frac{1}{\\mu r^2 }$"
   ]
  },
  {
   "cell_type": "code",
   "execution_count": 38,
   "metadata": {},
   "outputs": [
    {
     "data": {
      "image/png": "[encoded data removed]",
      "text/latex": [
       "$\\displaystyle \\frac{1}{x^{2}}$"
      ],
      "text/plain": [
       "1 \n",
       "──\n",
       " 2\n",
       "x "
      ]
     },
     "execution_count": 38,
     "metadata": {},
     "output_type": "execute_result"
    }
   ],
   "source": [
    "vL=1/x**2\n",
    "vL"
   ]
  },
  {
   "cell_type": "code",
   "execution_count": 40,
   "metadata": {},
   "outputs": [
    {
     "data": {
      "image/png": "[encoded data removed]",
      "text/latex": [
       "$\\displaystyle \\frac{\\sqrt{\\pi}}{4 \\left(a_{1} + a_{2}\\right)^{\\frac{3}{2}}}$"
      ],
      "text/plain": [
       "      √π      \n",
       "──────────────\n",
       "           3/2\n",
       "4⋅(a₁ + a₂)   "
      ]
     },
     "execution_count": 40,
     "metadata": {},
     "output_type": "execute_result"
    }
   ],
   "source": [
    "VL = integrate(u1*vL*u2, (x, 0, oo))\n",
    "VL.simplify()"
   ]
  },
  {
   "cell_type": "code",
   "execution_count": 41,
   "metadata": {},
   "outputs": [
    {
     "data": {
      "text/plain": [
       "'sqrt(pi)/(4*(a1 + a2)**(3/2))'"
      ]
     },
     "execution_count": 41,
     "metadata": {},
     "output_type": "execute_result"
    }
   ],
   "source": [
    "printing.sstrrepr(VL.simplify())"
   ]
  },
  {
   "cell_type": "code",
   "execution_count": null,
   "metadata": {},
   "outputs": [],
   "source": []
  }
 ],
 "metadata": {
  "kernelspec": {
   "display_name": "Python 3",
   "language": "python",
   "name": "python3"
  },
  "language_info": {
   "codemirror_mode": {
    "name": "ipython",
    "version": 3
   },
   "file_extension": ".py",
   "mimetype": "text/x-python",
   "name": "python",
   "nbconvert_exporter": "python",
   "pygments_lexer": "ipython3",
   "version": "3.8.8"
  }
 },
 "nbformat": 4,
 "nbformat_minor": 4
}
