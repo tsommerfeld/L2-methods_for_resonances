{
 "cells": [
  {
   "cell_type": "code",
   "execution_count": 2,
   "metadata": {},
   "outputs": [
    {
     "name": "stdout",
     "output_type": "stream",
     "text": [
      "IPython console for SymPy 1.5.1 (Python 3.6.9-64-bit) (ground types: gmpy)\n",
      "\n",
      "These commands were executed:\n",
      ">>> from __future__ import division\n",
      ">>> from sympy import *\n",
      ">>> x, y, z, t = symbols('x y z t')\n",
      ">>> k, m, n = symbols('k m n', integer=True)\n",
      ">>> f, g, h = symbols('f g h', cls=Function)\n",
      ">>> init_printing()\n",
      "\n",
      "Documentation can be found at https://docs.sympy.org/1.5.1/\n",
      "\n"
     ]
    }
   ],
   "source": [
    "from sympy import init_session\n",
    "init_session()"
   ]
  },
  {
   "cell_type": "code",
   "execution_count": 2,
   "metadata": {},
   "outputs": [],
   "source": [
    "#init_printing?"
   ]
  },
  {
   "cell_type": "markdown",
   "metadata": {},
   "source": [
    "### Parameters and two Gaussians"
   ]
  },
  {
   "cell_type": "code",
   "execution_count": 3,
   "metadata": {},
   "outputs": [],
   "source": [
    "rc, a, a1, a2 = symbols('rc, a, a1 a2', positive=True, real=True)"
   ]
  },
  {
   "cell_type": "code",
   "execution_count": 19,
   "metadata": {},
   "outputs": [
    {
     "data": {
      "image/png": "[encoded data removed]",
      "text/latex": [
       "$\\displaystyle \\left( x^{2} e^{- a_{1} x^{2}}, \\  x^{2} e^{- a_{2} x^{2}}, \\  x^{4} e^{- a x^{2}}, \\  - \\frac{1}{x}, \\  -1 + e^{- \\frac{4 rc^{2}}{x^{2}}}\\right)$"
      ],
      "text/plain": [
       "⎛                                                   2 ⎞\n",
       "⎜                                              -4⋅rc  ⎟\n",
       "⎜                                              ───────⎟\n",
       "⎜         2           2          2                 2  ⎟\n",
       "⎜ 2  -a₁⋅x    2  -a₂⋅x    4  -a⋅x   -1            x   ⎟\n",
       "⎜x ⋅ℯ      , x ⋅ℯ      , x ⋅ℯ     , ───, -1 + ℯ       ⎟\n",
       "⎝                                    x                ⎠"
      ]
     },
     "execution_count": 19,
     "metadata": {},
     "output_type": "execute_result"
    }
   ],
   "source": [
    "u1=x**2*exp(-a1*x**2)\n",
    "u2=x**2*exp(-a2*x**2)\n",
    "gp=x**4*exp(-a*x**2)\n",
    "wc=-1/x\n",
    "wb=exp(-4*rc**2/x**2) - 1\n",
    "u1, u2, gp, wc, wb"
   ]
  },
  {
   "cell_type": "markdown",
   "metadata": {},
   "source": [
    "<br>\n",
    "\n",
    "### Radial wavefunction $u$\n",
    "We don't solve the radial equation for $R(r)$, but rather for $u(r) = r \\cdot R(r)$.\n",
    "So, if $R$ is a s-function, $u$ is a p-function, and if $R$ is a p-function, $u$ is a d-function, etc. <br>\n",
    "\n",
    "$S = \\int r^2dr R^2 = \\int dr\\, u^2$<br>\n",
    "$T = \\int r^2dr R_1 \\hat{T} R_2 = \\int dr\\, u_1\\, \\frac{d^2}{dr^2} \\, u_2 $\n",
    "<br>"
   ]
  },
  {
   "cell_type": "markdown",
   "metadata": {},
   "source": [
    "### Normalization constant"
   ]
  },
  {
   "cell_type": "code",
   "execution_count": 6,
   "metadata": {},
   "outputs": [
    {
     "data": {
      "image/png": "[encoded data removed]",
      "text/latex": [
       "$\\displaystyle \\frac{3 \\sqrt{2} \\sqrt{\\pi}}{64 a_{1}^{\\frac{5}{2}}}$"
      ],
      "text/plain": [
       "3⋅√2⋅√π \n",
       "────────\n",
       "     5/2\n",
       "64⋅a₁   "
      ]
     },
     "execution_count": 6,
     "metadata": {},
     "output_type": "execute_result"
    }
   ],
   "source": [
    "N=integrate(u1*u1, (x, 0, oo))\n",
    "N"
   ]
  },
  {
   "cell_type": "code",
   "execution_count": null,
   "metadata": {},
   "outputs": [],
   "source": [
    "1/sqrt(N)"
   ]
  },
  {
   "cell_type": "code",
   "execution_count": null,
   "metadata": {},
   "outputs": [],
   "source": [
    "printing.sstrrepr(1/sqrt(N))"
   ]
  },
  {
   "cell_type": "markdown",
   "metadata": {},
   "source": [
    "### Coulomb"
   ]
  },
  {
   "cell_type": "code",
   "execution_count": 20,
   "metadata": {},
   "outputs": [
    {
     "data": {
      "image/png": "[encoded data removed]",
      "text/latex": [
       "$\\displaystyle - \\frac{1}{2 a^{2}}$"
      ],
      "text/plain": [
       "-1  \n",
       "────\n",
       "   2\n",
       "2⋅a "
      ]
     },
     "execution_count": 20,
     "metadata": {},
     "output_type": "execute_result"
    }
   ],
   "source": [
    "W=integrate(gp*wc, (x, 0, oo))\n",
    "W"
   ]
  },
  {
   "cell_type": "code",
   "execution_count": 21,
   "metadata": {},
   "outputs": [
    {
     "data": {
      "image/png": "[encoded data removed]",
      "text/latex": [
       "$\\displaystyle - \\frac{1}{2 a^{2}}$"
      ],
      "text/plain": [
       "-1  \n",
       "────\n",
       "   2\n",
       "2⋅a "
      ]
     },
     "execution_count": 21,
     "metadata": {},
     "output_type": "execute_result"
    }
   ],
   "source": [
    "Ws=W.simplify()\n",
    "Ws"
   ]
  },
  {
   "cell_type": "code",
   "execution_count": 22,
   "metadata": {},
   "outputs": [
    {
     "data": {
      "text/plain": [
       "'-1/(2*a**2)'"
      ]
     },
     "execution_count": 22,
     "metadata": {},
     "output_type": "execute_result"
    }
   ],
   "source": [
    "printing.sstrrepr(Ws)"
   ]
  },
  {
   "cell_type": "markdown",
   "metadata": {},
   "source": [
    "### Soft-box"
   ]
  },
  {
   "cell_type": "code",
   "execution_count": 23,
   "metadata": {},
   "outputs": [
    {
     "data": {
      "image/png": "[encoded data removed]",
      "text/latex": [
       "$\\displaystyle \\frac{\\sqrt{\\pi} a^{\\frac{5}{2}} rc^{5} \\left(\\frac{3 \\cosh{\\left(4 \\sqrt{a} rc \\right)}}{a^{2} rc^{4}} - \\frac{\\left(48 a rc^{2} + 9\\right) \\sinh{\\left(4 \\sqrt{a} rc \\right)}}{12 a^{\\frac{5}{2}} rc^{5}}\\right) + \\sqrt{\\pi} \\left(- 3 \\sqrt{a} rc \\sinh{\\left(4 \\sqrt{a} rc \\right)} + \\frac{3 \\left(\\frac{16 a rc^{2}}{3} + 1\\right) \\cosh{\\left(4 \\sqrt{a} rc \\right)}}{4}\\right)}{2 a^{\\frac{5}{2}}} - \\frac{3 \\sqrt{\\pi}}{8 a^{\\frac{5}{2}}}$"
      ],
      "text/plain": [
       "                                                                  ⎛           \n",
       "                                                                  ⎜           \n",
       "            ⎛                  ⎛       2    ⎞              ⎞      ⎜           \n",
       "    5/2   5 ⎜3⋅cosh(4⋅√a⋅rc)   ⎝48⋅a⋅rc  + 9⎠⋅sinh(4⋅√a⋅rc)⎟      ⎜           \n",
       "√π⋅a   ⋅rc ⋅⎜─────────────── - ────────────────────────────⎟ + √π⋅⎜-3⋅√a⋅rc⋅si\n",
       "            ⎜      2   4                   5/2   5         ⎟      ⎝           \n",
       "            ⎝     a ⋅rc                12⋅a   ⋅rc          ⎠                  \n",
       "──────────────────────────────────────────────────────────────────────────────\n",
       "                                                              5/2             \n",
       "                                                           2⋅a                \n",
       "\n",
       "                ⎛       2    ⎞              ⎞         \n",
       "                ⎜16⋅a⋅rc     ⎟              ⎟         \n",
       "              3⋅⎜──────── + 1⎟⋅cosh(4⋅√a⋅rc)⎟         \n",
       "                ⎝   3        ⎠              ⎟         \n",
       "nh(4⋅√a⋅rc) + ──────────────────────────────⎟         \n",
       "                            4               ⎠         \n",
       "                                                 3⋅√π \n",
       "───────────────────────────────────────────── - ──────\n",
       "                                                   5/2\n",
       "                                                8⋅a   "
      ]
     },
     "execution_count": 23,
     "metadata": {},
     "output_type": "execute_result"
    }
   ],
   "source": [
    "W=integrate(gp*wb, (x, 0, oo))\n",
    "W"
   ]
  },
  {
   "cell_type": "code",
   "execution_count": 24,
   "metadata": {},
   "outputs": [
    {
     "data": {
      "image/png": "[encoded data removed]",
      "text/latex": [
       "$\\displaystyle \\frac{\\sqrt{\\pi} \\left(- 12 a^{\\frac{5}{2}} rc \\sinh{\\left(4 \\sqrt{a} rc \\right)} + 12 a^{\\frac{5}{2}} rc \\cosh{\\left(4 \\sqrt{a} rc \\right)} - 16 a^{3} rc^{2} \\sinh{\\left(4 \\sqrt{a} rc \\right)} + 16 a^{3} rc^{2} \\cosh{\\left(4 \\sqrt{a} rc \\right)} - 3 a^{2} \\sinh{\\left(4 \\sqrt{a} rc \\right)} + 3 a^{2} \\cosh{\\left(4 \\sqrt{a} rc \\right)} - 3 a^{2}\\right)}{8 a^{\\frac{9}{2}}}$"
      ],
      "text/plain": [
       "   ⎛      5/2                        5/2                        3   2         \n",
       "√π⋅⎝- 12⋅a   ⋅rc⋅sinh(4⋅√a⋅rc) + 12⋅a   ⋅rc⋅cosh(4⋅√a⋅rc) - 16⋅a ⋅rc ⋅sinh(4⋅√\n",
       "──────────────────────────────────────────────────────────────────────────────\n",
       "                                                                              \n",
       "                                                                             8\n",
       "\n",
       "            3   2                    2                    2                   \n",
       "a⋅rc) + 16⋅a ⋅rc ⋅cosh(4⋅√a⋅rc) - 3⋅a ⋅sinh(4⋅√a⋅rc) + 3⋅a ⋅cosh(4⋅√a⋅rc) - 3⋅\n",
       "──────────────────────────────────────────────────────────────────────────────\n",
       "  9/2                                                                         \n",
       "⋅a                                                                            \n",
       "\n",
       " 2⎞\n",
       "a ⎠\n",
       "───\n",
       "   \n",
       "   "
      ]
     },
     "execution_count": 24,
     "metadata": {},
     "output_type": "execute_result"
    }
   ],
   "source": [
    "Wf=W.factor()\n",
    "Wf"
   ]
  },
  {
   "cell_type": "code",
   "execution_count": 25,
   "metadata": {},
   "outputs": [
    {
     "data": {
      "image/png": "[encoded data removed]",
      "text/latex": [
       "$\\displaystyle - \\frac{\\sqrt{\\pi} \\left(- 12 a^{\\frac{5}{2}} rc \\cosh{\\left(4 \\sqrt{a} rc \\right)} + a^{2} \\left(16 a rc^{2} + 3\\right) \\sinh{\\left(4 \\sqrt{a} rc \\right)} + a^{2} \\left(12 \\sqrt{a} rc \\sinh{\\left(4 \\sqrt{a} rc \\right)} - \\left(16 a rc^{2} + 3\\right) \\cosh{\\left(4 \\sqrt{a} rc \\right)}\\right) + 3 a^{2}\\right)}{8 a^{\\frac{9}{2}}}$"
      ],
      "text/plain": [
       "    ⎛      5/2                     2 ⎛       2    ⎞                  2 ⎛      \n",
       "-√π⋅⎝- 12⋅a   ⋅rc⋅cosh(4⋅√a⋅rc) + a ⋅⎝16⋅a⋅rc  + 3⎠⋅sinh(4⋅√a⋅rc) + a ⋅⎝12⋅√a⋅\n",
       "──────────────────────────────────────────────────────────────────────────────\n",
       "                                                                    9/2       \n",
       "                                                                 8⋅a          \n",
       "\n",
       "                   ⎛       2    ⎞              ⎞      2⎞ \n",
       "rc⋅sinh(4⋅√a⋅rc) - ⎝16⋅a⋅rc  + 3⎠⋅cosh(4⋅√a⋅rc)⎠ + 3⋅a ⎠ \n",
       "─────────────────────────────────────────────────────────\n",
       "                                                         \n",
       "                                                         "
      ]
     },
     "execution_count": 25,
     "metadata": {},
     "output_type": "execute_result"
    }
   ],
   "source": [
    "Ws=W.simplify()\n",
    "Ws"
   ]
  },
  {
   "cell_type": "code",
   "execution_count": 27,
   "metadata": {},
   "outputs": [
    {
     "data": {
      "image/png": "[encoded data removed]",
      "text/latex": [
       "$\\displaystyle - \\frac{3 \\sqrt{\\pi} rc \\sinh{\\left(4 \\sqrt{a} rc \\right)}}{2 a^{2}} + \\frac{3 \\sqrt{\\pi} rc \\cosh{\\left(4 \\sqrt{a} rc \\right)}}{2 a^{2}} - \\frac{2 \\sqrt{\\pi} rc^{2} \\sinh{\\left(4 \\sqrt{a} rc \\right)}}{a^{\\frac{3}{2}}} + \\frac{2 \\sqrt{\\pi} rc^{2} \\cosh{\\left(4 \\sqrt{a} rc \\right)}}{a^{\\frac{3}{2}}} - \\frac{3 \\sqrt{\\pi} \\sinh{\\left(4 \\sqrt{a} rc \\right)}}{8 a^{\\frac{5}{2}}} + \\frac{3 \\sqrt{\\pi} \\cosh{\\left(4 \\sqrt{a} rc \\right)}}{8 a^{\\frac{5}{2}}} - \\frac{3 \\sqrt{\\pi}}{8 a^{\\frac{5}{2}}}$"
      ],
      "text/plain": [
       "                                                         2                    \n",
       "  3⋅√π⋅rc⋅sinh(4⋅√a⋅rc)   3⋅√π⋅rc⋅cosh(4⋅√a⋅rc)   2⋅√π⋅rc ⋅sinh(4⋅√a⋅rc)   2⋅√\n",
       "- ───────────────────── + ───────────────────── - ────────────────────── + ───\n",
       "              2                       2                     3/2               \n",
       "           2⋅a                     2⋅a                     a                  \n",
       "\n",
       "    2                                                                 \n",
       "π⋅rc ⋅cosh(4⋅√a⋅rc)   3⋅√π⋅sinh(4⋅√a⋅rc)   3⋅√π⋅cosh(4⋅√a⋅rc)    3⋅√π \n",
       "─────────────────── - ────────────────── + ────────────────── - ──────\n",
       "       3/2                     5/2                  5/2            5/2\n",
       "      a                     8⋅a                  8⋅a            8⋅a   "
      ]
     },
     "execution_count": 27,
     "metadata": {},
     "output_type": "execute_result"
    }
   ],
   "source": [
    "Ws.expand()"
   ]
  },
  {
   "cell_type": "code",
   "execution_count": 31,
   "metadata": {},
   "outputs": [
    {
     "data": {
      "text/plain": [
       "'-3*sqrt(pi)*rc*sinh(4*sqrt(a)*rc)/(2*a**2) + 3*sqrt(pi)*rc*cosh(4*sqrt(a)*rc)/(2*a**2) - 2*sqrt(pi)*rc**2*sinh(4*sqrt(a)*rc)/a**(3/2) + 2*sqrt(pi)*rc**2*cosh(4*sqrt(a)*rc)/a**(3/2) - 3*sqrt(pi)*sinh(4*sqrt(a)*rc)/(8*a**(5/2)) + 3*sqrt(pi)*cosh(4*sqrt(a)*rc)/(8*a**(5/2)) - 3*sqrt(pi)/(8*a**(5/2))'"
      ]
     },
     "execution_count": 31,
     "metadata": {},
     "output_type": "execute_result"
    }
   ],
   "source": [
    "printing.sstrrepr(Ws.expand())"
   ]
  },
  {
   "cell_type": "code",
   "execution_count": 30,
   "metadata": {},
   "outputs": [
    {
     "data": {
      "image/png": "[encoded data removed]",
      "text/latex": [
       "$\\displaystyle e^{- a}$"
      ],
      "text/plain": [
       " -a\n",
       "ℯ  "
      ]
     },
     "execution_count": 30,
     "metadata": {},
     "output_type": "execute_result"
    }
   ],
   "source": [
    "(cosh(a)-sinh(a)).simplify()"
   ]
  },
  {
   "cell_type": "code",
   "execution_count": null,
   "metadata": {},
   "outputs": [],
   "source": []
  }
 ],
 "metadata": {
  "kernelspec": {
   "display_name": "Python 3",
   "language": "python",
   "name": "python3"
  },
  "language_info": {
   "codemirror_mode": {
    "name": "ipython",
    "version": 3
   },
   "file_extension": ".py",
   "mimetype": "text/x-python",
   "name": "python",
   "nbconvert_exporter": "python",
   "pygments_lexer": "ipython3",
   "version": "3.8.8"
  }
 },
 "nbformat": 4,
 "nbformat_minor": 4
}
