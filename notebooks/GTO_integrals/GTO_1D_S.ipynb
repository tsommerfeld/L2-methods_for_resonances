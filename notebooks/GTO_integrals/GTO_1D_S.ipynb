{
 "cells": [
  {
   "cell_type": "code",
   "execution_count": 1,
   "metadata": {},
   "outputs": [
    {
     "name": "stdout",
     "output_type": "stream",
     "text": [
      "IPython console for SymPy 1.5.1 (Python 3.6.10-64-bit) (ground types: gmpy)\n",
      "\n",
      "These commands were executed:\n",
      ">>> from __future__ import division\n",
      ">>> from sympy import *\n",
      ">>> x, y, z, t = symbols('x y z t')\n",
      ">>> k, m, n = symbols('k m n', integer=True)\n",
      ">>> f, g, h = symbols('f g h', cls=Function)\n",
      ">>> init_printing()\n",
      "\n",
      "Documentation can be found at https://docs.sympy.org/1.5.1/\n",
      "\n"
     ]
    }
   ],
   "source": [
    "from sympy import init_session\n",
    "init_session()"
   ]
  },
  {
   "cell_type": "code",
   "execution_count": 2,
   "metadata": {},
   "outputs": [],
   "source": [
    "#init_printing?"
   ]
  },
  {
   "cell_type": "markdown",
   "metadata": {},
   "source": [
    "### Parameters and two Gaussians"
   ]
  },
  {
   "cell_type": "code",
   "execution_count": 3,
   "metadata": {},
   "outputs": [],
   "source": [
    "a, b, c, a1, a2 = symbols('a b c a1 a2', positive=True, real=True)"
   ]
  },
  {
   "cell_type": "code",
   "execution_count": 4,
   "metadata": {},
   "outputs": [
    {
     "data": {
      "image/png": "[encoded data removed]",
      "text/latex": [
       "$\\displaystyle \\left( e^{- a_{1} x^{2}}, \\  e^{- a_{2} x^{2}}\\right)$"
      ],
      "text/plain": [
       "⎛      2        2⎞\n",
       "⎜ -a₁⋅x    -a₂⋅x ⎟\n",
       "⎝ℯ      , ℯ      ⎠"
      ]
     },
     "execution_count": 4,
     "metadata": {},
     "output_type": "execute_result"
    }
   ],
   "source": [
    "g1=exp(-a1*x**2)\n",
    "g2=exp(-a2*x**2)\n",
    "g1, g2"
   ]
  },
  {
   "cell_type": "markdown",
   "metadata": {},
   "source": [
    "### Normalization constant"
   ]
  },
  {
   "cell_type": "code",
   "execution_count": 5,
   "metadata": {},
   "outputs": [
    {
     "data": {
      "image/png": "[encoded data removed]",
      "text/latex": [
       "$\\displaystyle \\frac{\\sqrt{2} \\sqrt{\\pi}}{2 \\sqrt{a_{1}}}$"
      ],
      "text/plain": [
       " √2⋅√π  \n",
       "────────\n",
       "    ____\n",
       "2⋅╲╱ a₁ "
      ]
     },
     "execution_count": 5,
     "metadata": {},
     "output_type": "execute_result"
    }
   ],
   "source": [
    "N=integrate(g1*g1, (x, -oo, oo))\n",
    "N"
   ]
  },
  {
   "cell_type": "code",
   "execution_count": 6,
   "metadata": {},
   "outputs": [
    {
     "data": {
      "image/png": "[encoded data removed]",
      "text/latex": [
       "$\\displaystyle \\frac{\\sqrt[4]{2} \\sqrt[4]{a_{1}}}{\\sqrt[4]{\\pi}}$"
      ],
      "text/plain": [
       "4 ___ 4 ____\n",
       "╲╱ 2 ⋅╲╱ a₁ \n",
       "────────────\n",
       "   4 ___    \n",
       "   ╲╱ π     "
      ]
     },
     "execution_count": 6,
     "metadata": {},
     "output_type": "execute_result"
    }
   ],
   "source": [
    "1/sqrt(N)"
   ]
  },
  {
   "cell_type": "code",
   "execution_count": 7,
   "metadata": {},
   "outputs": [
    {
     "data": {
      "text/plain": [
       "'2**(1/4)*a1**(1/4)/pi**(1/4)'"
      ]
     },
     "execution_count": 7,
     "metadata": {},
     "output_type": "execute_result"
    }
   ],
   "source": [
    "printing.sstrrepr(1/sqrt(N))"
   ]
  },
  {
   "cell_type": "markdown",
   "metadata": {},
   "source": [
    "### Overlap integral S"
   ]
  },
  {
   "cell_type": "code",
   "execution_count": 8,
   "metadata": {},
   "outputs": [
    {
     "data": {
      "image/png": "[encoded data removed]",
      "text/latex": [
       "$\\displaystyle \\frac{\\sqrt{\\pi}}{\\sqrt{a_{1}} \\sqrt{1 + \\frac{a_{2}}{a_{1}}}}$"
      ],
      "text/plain": [
       "         √π        \n",
       "───────────────────\n",
       "           ________\n",
       "  ____    ╱     a₂ \n",
       "╲╱ a₁ ⋅  ╱  1 + ── \n",
       "       ╲╱       a₁ "
      ]
     },
     "execution_count": 8,
     "metadata": {},
     "output_type": "execute_result"
    }
   ],
   "source": [
    "S=integrate(g1*g2, (x, -oo, oo))\n",
    "S"
   ]
  },
  {
   "cell_type": "code",
   "execution_count": 9,
   "metadata": {},
   "outputs": [
    {
     "data": {
      "image/png": "[encoded data removed]",
      "text/latex": [
       "$\\displaystyle \\frac{\\sqrt{\\pi}}{\\sqrt{a_{1} + a_{2}}}$"
      ],
      "text/plain": [
       "     √π    \n",
       "───────────\n",
       "  _________\n",
       "╲╱ a₁ + a₂ "
      ]
     },
     "execution_count": 9,
     "metadata": {},
     "output_type": "execute_result"
    }
   ],
   "source": [
    "S.simplify()"
   ]
  },
  {
   "cell_type": "code",
   "execution_count": 10,
   "metadata": {},
   "outputs": [
    {
     "data": {
      "text/plain": [
       "'sqrt(pi)/sqrt(a1 + a2)'"
      ]
     },
     "execution_count": 10,
     "metadata": {},
     "output_type": "execute_result"
    }
   ],
   "source": [
    "printing.sstrrepr(S.simplify())"
   ]
  },
  {
   "cell_type": "markdown",
   "metadata": {},
   "source": [
    "### Kinetic energy $T = -\\frac{\\hbar^2}{2m} \\frac{d^2}{dx^2} = \\frac{1}{2m}\\left(\\frac{\\hbar}{i}\\frac{d}{dx} \\right)^2$"
   ]
  },
  {
   "cell_type": "code",
   "execution_count": 11,
   "metadata": {},
   "outputs": [
    {
     "data": {
      "image/png": "[encoded data removed]",
      "text/latex": [
       "$\\displaystyle \\left( - 2 a_{1} x e^{- a_{1} x^{2}}, \\  - 2 a_{2} x e^{- a_{2} x^{2}}\\right)$"
      ],
      "text/plain": [
       "⎛              2                2⎞\n",
       "⎜         -a₁⋅x            -a₂⋅x ⎟\n",
       "⎝-2⋅a₁⋅x⋅ℯ      , -2⋅a₂⋅x⋅ℯ      ⎠"
      ]
     },
     "execution_count": 11,
     "metadata": {},
     "output_type": "execute_result"
    }
   ],
   "source": [
    "d1=diff(g1,x)\n",
    "d2=diff(g2,x)\n",
    "d1, d2"
   ]
  },
  {
   "cell_type": "code",
   "execution_count": 12,
   "metadata": {},
   "outputs": [
    {
     "data": {
      "image/png": "[encoded data removed]",
      "text/latex": [
       "$\\displaystyle \\frac{1.0 \\sqrt{\\pi} a_{1} a_{2}}{\\left(a_{1} + a_{2}\\right)^{\\frac{3}{2}}}$"
      ],
      "text/plain": [
       "1.0⋅√π⋅a₁⋅a₂\n",
       "────────────\n",
       "         3/2\n",
       "(a₁ + a₂)   "
      ]
     },
     "execution_count": 12,
     "metadata": {},
     "output_type": "execute_result"
    }
   ],
   "source": [
    "T = 1/2 * integrate(d1*d2, (x, -oo, oo))\n",
    "#T=T.simplify()\n",
    "#T=T.factor()\n",
    "T.factor()"
   ]
  },
  {
   "cell_type": "code",
   "execution_count": 13,
   "metadata": {},
   "outputs": [
    {
     "data": {
      "text/plain": [
       "'1.0*sqrt(pi)*a1*a2/(a1 + a2)**(3/2)'"
      ]
     },
     "execution_count": 13,
     "metadata": {},
     "output_type": "execute_result"
    }
   ],
   "source": [
    "printing.sstrrepr(T.factor())"
   ]
  },
  {
   "cell_type": "markdown",
   "metadata": {},
   "source": [
    "### Potential $V(x) = (ax^2 - b)e^{-cx^2}$"
   ]
  },
  {
   "cell_type": "code",
   "execution_count": 14,
   "metadata": {},
   "outputs": [
    {
     "data": {
      "image/png": "[encoded data removed]",
      "text/latex": [
       "$\\displaystyle \\left(a x^{2} - b\\right) e^{- c x^{2}}$"
      ],
      "text/plain": [
       "                2\n",
       "⎛   2    ⎞  -c⋅x \n",
       "⎝a⋅x  - b⎠⋅ℯ     "
      ]
     },
     "execution_count": 14,
     "metadata": {},
     "output_type": "execute_result"
    }
   ],
   "source": [
    "v=(a*x**2-b)*exp(-c*x**2)\n",
    "v"
   ]
  },
  {
   "cell_type": "code",
   "execution_count": 15,
   "metadata": {},
   "outputs": [
    {
     "data": {
      "image/png": "[encoded data removed]",
      "text/latex": [
       "$\\displaystyle \\frac{\\sqrt{\\pi} a}{2 \\left(a_{1} + a_{2}\\right)^{\\frac{3}{2}} \\left(\\frac{c}{a_{1} + a_{2}} + 1\\right)^{\\frac{3}{2}}} - \\frac{\\sqrt{\\pi} b}{\\sqrt{a_{1} + a_{2}} \\sqrt{\\frac{c}{a_{1} + a_{2}} + 1}}$"
      ],
      "text/plain": [
       "              √π⋅a                             √π⋅b            \n",
       "─────────────────────────────── - ─────────────────────────────\n",
       "                            3/2                   _____________\n",
       "           3/2 ⎛   c       ⎞        _________    ╱    c        \n",
       "2⋅(a₁ + a₂)   ⋅⎜─────── + 1⎟      ╲╱ a₁ + a₂ ⋅  ╱  ─────── + 1 \n",
       "               ⎝a₁ + a₂    ⎠                  ╲╱   a₁ + a₂     "
      ]
     },
     "execution_count": 15,
     "metadata": {},
     "output_type": "execute_result"
    }
   ],
   "source": [
    "V = integrate(g1*v*g2, (x, -oo, oo))\n",
    "V"
   ]
  },
  {
   "cell_type": "code",
   "execution_count": 16,
   "metadata": {},
   "outputs": [
    {
     "data": {
      "image/png": "[encoded data removed]",
      "text/latex": [
       "$\\displaystyle \\frac{\\sqrt{\\pi} \\left(a - 2 a_{1} b - 2 a_{2} b - 2 b c\\right)}{2 \\left(a_{1} + a_{2} + c\\right)^{\\frac{3}{2}}}$"
      ],
      "text/plain": [
       "√π⋅(a - 2⋅a₁⋅b - 2⋅a₂⋅b - 2⋅b⋅c)\n",
       "────────────────────────────────\n",
       "                      3/2       \n",
       "       2⋅(a₁ + a₂ + c)          "
      ]
     },
     "execution_count": 16,
     "metadata": {},
     "output_type": "execute_result"
    }
   ],
   "source": [
    "V.factor()"
   ]
  },
  {
   "cell_type": "code",
   "execution_count": 17,
   "metadata": {},
   "outputs": [
    {
     "data": {
      "text/plain": [
       "'sqrt(pi)*(a - 2*a1*b - 2*a2*b - 2*b*c)/(2*(a1 + a2 + c)**(3/2))'"
      ]
     },
     "execution_count": 17,
     "metadata": {},
     "output_type": "execute_result"
    }
   ],
   "source": [
    "printing.sstrrepr(V.factor())"
   ]
  },
  {
   "cell_type": "code",
   "execution_count": null,
   "metadata": {},
   "outputs": [],
   "source": []
  }
 ],
 "metadata": {
  "kernelspec": {
   "display_name": "Python 3",
   "language": "python",
   "name": "python3"
  },
  "language_info": {
   "codemirror_mode": {
    "name": "ipython",
    "version": 3
   },
   "file_extension": ".py",
   "mimetype": "text/x-python",
   "name": "python",
   "nbconvert_exporter": "python",
   "pygments_lexer": "ipython3",
   "version": "3.6.10"
  }
 },
 "nbformat": 4,
 "nbformat_minor": 4
}
