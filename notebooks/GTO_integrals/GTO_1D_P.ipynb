{
 "cells": [
  {
   "cell_type": "code",
   "execution_count": 1,
   "metadata": {},
   "outputs": [
    {
     "name": "stdout",
     "output_type": "stream",
     "text": [
      "IPython console for SymPy 1.5.1 (Python 3.6.10-64-bit) (ground types: gmpy)\n",
      "\n",
      "These commands were executed:\n",
      ">>> from __future__ import division\n",
      ">>> from sympy import *\n",
      ">>> x, y, z, t = symbols('x y z t')\n",
      ">>> k, m, n = symbols('k m n', integer=True)\n",
      ">>> f, g, h = symbols('f g h', cls=Function)\n",
      ">>> init_printing()\n",
      "\n",
      "Documentation can be found at https://docs.sympy.org/1.5.1/\n",
      "\n"
     ]
    }
   ],
   "source": [
    "from sympy import init_session\n",
    "init_session()"
   ]
  },
  {
   "cell_type": "code",
   "execution_count": 2,
   "metadata": {},
   "outputs": [],
   "source": [
    "#init_printing?"
   ]
  },
  {
   "cell_type": "markdown",
   "metadata": {},
   "source": [
    "### Parameters and two Gaussians"
   ]
  },
  {
   "cell_type": "code",
   "execution_count": 3,
   "metadata": {},
   "outputs": [],
   "source": [
    "a, b, c, a1, a2 = symbols('a b c a1 a2', positive=True, real=True)"
   ]
  },
  {
   "cell_type": "code",
   "execution_count": 4,
   "metadata": {},
   "outputs": [
    {
     "data": {
      "image/png": "[encoded data removed]",
      "text/latex": [
       "$\\displaystyle \\left( x e^{- a_{1} x^{2}}, \\  x e^{- a_{2} x^{2}}\\right)$"
      ],
      "text/plain": [
       "⎛        2          2⎞\n",
       "⎜   -a₁⋅x      -a₂⋅x ⎟\n",
       "⎝x⋅ℯ      , x⋅ℯ      ⎠"
      ]
     },
     "execution_count": 4,
     "metadata": {},
     "output_type": "execute_result"
    }
   ],
   "source": [
    "g1=x*exp(-a1*x**2)\n",
    "g2=x*exp(-a2*x**2)\n",
    "g1, g2"
   ]
  },
  {
   "cell_type": "markdown",
   "metadata": {},
   "source": [
    "### Normalization constant"
   ]
  },
  {
   "cell_type": "code",
   "execution_count": 5,
   "metadata": {},
   "outputs": [
    {
     "data": {
      "image/png": "[encoded data removed]",
      "text/latex": [
       "$\\displaystyle \\frac{\\sqrt{2} \\sqrt{\\pi}}{8 a_{1}^{\\frac{3}{2}}}$"
      ],
      "text/plain": [
       " √2⋅√π \n",
       "───────\n",
       "    3/2\n",
       "8⋅a₁   "
      ]
     },
     "execution_count": 5,
     "metadata": {},
     "output_type": "execute_result"
    }
   ],
   "source": [
    "N=integrate(g1*g1, (x, -oo, oo))\n",
    "N"
   ]
  },
  {
   "cell_type": "code",
   "execution_count": 6,
   "metadata": {},
   "outputs": [
    {
     "data": {
      "image/png": "[encoded data removed]",
      "text/latex": [
       "$\\displaystyle \\frac{2 \\sqrt[4]{2} a_{1}^{\\frac{3}{4}}}{\\sqrt[4]{\\pi}}$"
      ],
      "text/plain": [
       "  4 ___   3/4\n",
       "2⋅╲╱ 2 ⋅a₁   \n",
       "─────────────\n",
       "    4 ___    \n",
       "    ╲╱ π     "
      ]
     },
     "execution_count": 6,
     "metadata": {},
     "output_type": "execute_result"
    }
   ],
   "source": [
    "1/sqrt(N)"
   ]
  },
  {
   "cell_type": "code",
   "execution_count": 7,
   "metadata": {},
   "outputs": [
    {
     "data": {
      "text/plain": [
       "'2*2**(1/4)*a1**(3/4)/pi**(1/4)'"
      ]
     },
     "execution_count": 7,
     "metadata": {},
     "output_type": "execute_result"
    }
   ],
   "source": [
    "printing.sstrrepr(1/sqrt(N))"
   ]
  },
  {
   "cell_type": "markdown",
   "metadata": {},
   "source": [
    "### Overlap integral S"
   ]
  },
  {
   "cell_type": "code",
   "execution_count": 13,
   "metadata": {},
   "outputs": [
    {
     "data": {
      "image/png": "[encoded data removed]",
      "text/latex": [
       "$\\displaystyle \\frac{\\sqrt{\\pi}}{2 a_{1}^{\\frac{3}{2}} \\left(1 + \\frac{a_{2}}{a_{1}}\\right)^{\\frac{3}{2}}}$"
      ],
      "text/plain": [
       "         √π        \n",
       "───────────────────\n",
       "                3/2\n",
       "    3/2 ⎛    a₂⎞   \n",
       "2⋅a₁   ⋅⎜1 + ──⎟   \n",
       "        ⎝    a₁⎠   "
      ]
     },
     "execution_count": 13,
     "metadata": {},
     "output_type": "execute_result"
    }
   ],
   "source": [
    "S=integrate(g1*g2, (x, -oo, oo))\n",
    "S"
   ]
  },
  {
   "cell_type": "code",
   "execution_count": 18,
   "metadata": {},
   "outputs": [
    {
     "data": {
      "image/png": "[encoded data removed]",
      "text/latex": [
       "$\\displaystyle \\frac{\\sqrt{\\pi}}{2 \\left(a_{1} + a_{2}\\right)^{\\frac{3}{2}}}$"
      ],
      "text/plain": [
       "      √π      \n",
       "──────────────\n",
       "           3/2\n",
       "2⋅(a₁ + a₂)   "
      ]
     },
     "execution_count": 18,
     "metadata": {},
     "output_type": "execute_result"
    }
   ],
   "source": [
    "S.simplify()"
   ]
  },
  {
   "cell_type": "code",
   "execution_count": 35,
   "metadata": {},
   "outputs": [
    {
     "data": {
      "text/plain": [
       "'sqrt(pi)/(2*(a1 + a2)**(3/2))'"
      ]
     },
     "execution_count": 35,
     "metadata": {},
     "output_type": "execute_result"
    }
   ],
   "source": [
    "printing.sstrrepr(S.simplify())"
   ]
  },
  {
   "cell_type": "markdown",
   "metadata": {},
   "source": [
    "### Kinetic energy $T = -\\frac{\\hbar^2}{2m} \\frac{d^2}{dx^2} = \\frac{1}{2m}\\left(\\frac{\\hbar}{i}\\frac{d}{dx} \\right)^2$"
   ]
  },
  {
   "cell_type": "code",
   "execution_count": 27,
   "metadata": {},
   "outputs": [
    {
     "data": {
      "image/png": "[encoded data removed]",
      "text/latex": [
       "$\\displaystyle \\left( - 2 a_{1} x^{2} e^{- a_{1} x^{2}} + e^{- a_{1} x^{2}}, \\  - 2 a_{2} x^{2} e^{- a_{2} x^{2}} + e^{- a_{2} x^{2}}\\right)$"
      ],
      "text/plain": [
       "⎛                2         2                  2         2⎞\n",
       "⎜        2  -a₁⋅x     -a₁⋅x           2  -a₂⋅x     -a₂⋅x ⎟\n",
       "⎝- 2⋅a₁⋅x ⋅ℯ       + ℯ      , - 2⋅a₂⋅x ⋅ℯ       + ℯ      ⎠"
      ]
     },
     "execution_count": 27,
     "metadata": {},
     "output_type": "execute_result"
    }
   ],
   "source": [
    "d1=diff(g1,x)\n",
    "d2=diff(g2,x)\n",
    "d1, d2"
   ]
  },
  {
   "cell_type": "code",
   "execution_count": 45,
   "metadata": {},
   "outputs": [
    {
     "data": {
      "image/png": "[encoded data removed]",
      "text/latex": [
       "$\\displaystyle \\frac{1.5 \\sqrt{\\pi} a_{1} a_{2}}{\\left(a_{1} + a_{2}\\right)^{\\frac{5}{2}}}$"
      ],
      "text/plain": [
       "1.5⋅√π⋅a₁⋅a₂\n",
       "────────────\n",
       "         5/2\n",
       "(a₁ + a₂)   "
      ]
     },
     "execution_count": 45,
     "metadata": {},
     "output_type": "execute_result"
    }
   ],
   "source": [
    "T = 1/2 * integrate(d1*d2, (x, -oo, oo))\n",
    "#T=T.simplify()\n",
    "#T=T.factor()\n",
    "T.factor()"
   ]
  },
  {
   "cell_type": "code",
   "execution_count": 44,
   "metadata": {},
   "outputs": [
    {
     "data": {
      "text/plain": [
       "'1.5*sqrt(pi)*a1*a2/(a1 + a2)**(5/2)'"
      ]
     },
     "execution_count": 44,
     "metadata": {},
     "output_type": "execute_result"
    }
   ],
   "source": [
    "printing.sstrrepr(T.factor())"
   ]
  },
  {
   "cell_type": "markdown",
   "metadata": {},
   "source": [
    "### Potential $V(x) = (ax^2 - b)e^{-cx^2}$"
   ]
  },
  {
   "cell_type": "code",
   "execution_count": 38,
   "metadata": {},
   "outputs": [
    {
     "data": {
      "image/png": "[encoded data removed]",
      "text/latex": [
       "$\\displaystyle \\left(a x^{2} - b\\right) e^{- c x^{2}}$"
      ],
      "text/plain": [
       "                2\n",
       "⎛   2    ⎞  -c⋅x \n",
       "⎝a⋅x  - b⎠⋅ℯ     "
      ]
     },
     "execution_count": 38,
     "metadata": {},
     "output_type": "execute_result"
    }
   ],
   "source": [
    "v=(a*x**2-b)*exp(-c*x**2)\n",
    "v"
   ]
  },
  {
   "cell_type": "code",
   "execution_count": 39,
   "metadata": {},
   "outputs": [
    {
     "data": {
      "image/png": "[encoded data removed]",
      "text/latex": [
       "$\\displaystyle \\frac{3 \\sqrt{\\pi} a}{4 \\left(a_{1} + a_{2}\\right)^{\\frac{5}{2}} \\left(\\frac{c}{a_{1} + a_{2}} + 1\\right)^{\\frac{5}{2}}} - \\frac{\\sqrt{\\pi} b}{2 \\left(a_{1} + a_{2}\\right)^{\\frac{3}{2}} \\left(\\frac{c}{a_{1} + a_{2}} + 1\\right)^{\\frac{3}{2}}}$"
      ],
      "text/plain": [
       "             3⋅√π⋅a                             √π⋅b             \n",
       "─────────────────────────────── - ───────────────────────────────\n",
       "                            5/2                               3/2\n",
       "           5/2 ⎛   c       ⎞                 3/2 ⎛   c       ⎞   \n",
       "4⋅(a₁ + a₂)   ⋅⎜─────── + 1⎟      2⋅(a₁ + a₂)   ⋅⎜─────── + 1⎟   \n",
       "               ⎝a₁ + a₂    ⎠                     ⎝a₁ + a₂    ⎠   "
      ]
     },
     "execution_count": 39,
     "metadata": {},
     "output_type": "execute_result"
    }
   ],
   "source": [
    "V = integrate(g1*v*g2, (x, -oo, oo))\n",
    "V"
   ]
  },
  {
   "cell_type": "code",
   "execution_count": 41,
   "metadata": {},
   "outputs": [
    {
     "data": {
      "image/png": "[encoded data removed]",
      "text/latex": [
       "$\\displaystyle \\frac{\\sqrt{\\pi} \\left(3 a - 2 a_{1} b - 2 a_{2} b - 2 b c\\right)}{4 \\left(a_{1} + a_{2} + c\\right)^{\\frac{5}{2}}}$"
      ],
      "text/plain": [
       "√π⋅(3⋅a - 2⋅a₁⋅b - 2⋅a₂⋅b - 2⋅b⋅c)\n",
       "──────────────────────────────────\n",
       "                       5/2        \n",
       "        4⋅(a₁ + a₂ + c)           "
      ]
     },
     "execution_count": 41,
     "metadata": {},
     "output_type": "execute_result"
    }
   ],
   "source": [
    "V.factor()"
   ]
  },
  {
   "cell_type": "code",
   "execution_count": 42,
   "metadata": {},
   "outputs": [
    {
     "data": {
      "text/plain": [
       "'sqrt(pi)*(3*a - 2*a1*b - 2*a2*b - 2*b*c)/(4*(a1 + a2 + c)**(5/2))'"
      ]
     },
     "execution_count": 42,
     "metadata": {},
     "output_type": "execute_result"
    }
   ],
   "source": [
    "printing.sstrrepr(V.factor())"
   ]
  },
  {
   "cell_type": "code",
   "execution_count": null,
   "metadata": {},
   "outputs": [],
   "source": []
  }
 ],
 "metadata": {
  "kernelspec": {
   "display_name": "Python 3",
   "language": "python",
   "name": "python3"
  },
  "language_info": {
   "codemirror_mode": {
    "name": "ipython",
    "version": 3
   },
   "file_extension": ".py",
   "mimetype": "text/x-python",
   "name": "python",
   "nbconvert_exporter": "python",
   "pygments_lexer": "ipython3",
   "version": "3.6.10"
  }
 },
 "nbformat": 4,
 "nbformat_minor": 4
}
