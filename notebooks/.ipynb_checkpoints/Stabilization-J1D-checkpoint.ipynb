{
 "cells": [
  {
   "cell_type": "code",
   "execution_count": 1,
   "metadata": {},
   "outputs": [],
   "source": [
    "import numpy as np\n",
    "import sys\n",
    "import matplotlib.pyplot as plt\n",
    "%matplotlib qt5\n",
    "#\n",
    "#  extend path by location of the dvr package\n",
    "#\n",
    "sys.path.append('/home/thomas/Python')\n",
    "import dvr"
   ]
  },
  {
   "cell_type": "code",
   "execution_count": 2,
   "metadata": {},
   "outputs": [],
   "source": [
    "amu_to_au=1822.888486192\n",
    "au2cm=219474.63068\n",
    "au2eV=27.211386027\n",
    "Angs2Bohr=1.8897259886"
   ]
  },
  {
   "cell_type": "code",
   "execution_count": 3,
   "metadata": {},
   "outputs": [],
   "source": [
    "#\n",
    "#  default potential has a resonance just below 7 eV\n",
    "#\n",
    "def Jolanta(x, a=0.2, b=0.0, c=0.14):\n",
    "    return (a*x*x-b)*np.exp(-c*x*x)"
   ]
  },
  {
   "cell_type": "code",
   "execution_count": 4,
   "metadata": {},
   "outputs": [
    {
     "name": "stdout",
     "output_type": "stream",
     "text": [
      "  1    0.02022873 au =      0.55045 eV\n",
      "  2    0.02023240 au =      0.55055 eV\n",
      "  3    0.07953495 au =      2.16426 eV\n",
      "  4    0.07957183 au =      2.16526 eV\n",
      "  5    0.17374559 au =      4.72786 eV\n",
      "  6    0.17423234 au =      4.74110 eV\n",
      "  7    0.25134114 au =      6.83934 eV\n",
      "  8    0.29832436 au =      8.11782 eV\n",
      "  9    0.30362777 au =      8.26213 eV\n",
      " 10    0.44165015 au =     12.01791 eV\n",
      " 11    0.45174551 au =     12.29262 eV\n",
      " 12    0.57822676 au =     15.73435 eV\n",
      " 13    0.61891287 au =     16.84148 eV\n",
      " 14    0.70442189 au =     19.16830 eV\n",
      " 15    0.79792077 au =     21.71253 eV\n",
      " 16    0.87792666 au =     23.88960 eV\n",
      " 17    0.99084369 au =     26.96223 eV\n",
      " 18    1.08851490 au =     29.62000 eV\n"
     ]
    }
   ],
   "source": [
    "#\n",
    "#  compute DVR of T and V\n",
    "#  then show the density of states\n",
    "#  in a potential + energy-levels plot\n",
    "#\n",
    "xmax=20      # grid from -xmax to xmax\n",
    "thresh = 1   # maximum energy for plot\n",
    "ppB = 10     # grid points per Bohr\n",
    "\n",
    "xmin=-xmax\n",
    "nGrid=int((xmax-xmin)*ppB)\n",
    "xs = dvr.DVRGrid(xmin, xmax, nGrid)\n",
    "Vs = Jolanta(xs)\n",
    "Ts = dvr.KineticEnergy(1, xmin, xmax, nGrid)\n",
    "Vs=Jolanta(xs)\n",
    "[energy, wf] = dvr.DVRDiag2(nGrid, Ts, Vs)\n",
    "\n",
    "n_ene=0\n",
    "for i in range(nGrid):\n",
    "    print(\"%3d  %12.8f au = %12.5f eV\" % (i+1, energy[i], energy[i]*au2eV))\n",
    "    n_ene += 1\n",
    "    if energy[i] > thresh:\n",
    "        break\n",
    "\n",
    "# \"DVR normalization\", sum(wf[:,0]**2)\n",
    "# this is correct for plotting\n",
    "\n",
    "c=[\"orange\", \"blue\"]\n",
    "h=float(xmax) / (nGrid+1.0)\n",
    "scale=3\n",
    "\n",
    "plt.plot(xs,Vs*au2eV, '-', color=\"black\")\n",
    "for i in range(n_ene):\n",
    "    plt.plot(xs, scale*wf[:,i]**2+energy[i]*au2eV, '-', color=c[i%len(c)])\n",
    "plt.ylim(0, 20)\n",
    "plt.xlabel('$x$ [Bohr]')\n",
    "plt.ylabel('$E$ [eV]')\n",
    "plt.show()"
   ]
  },
  {
   "cell_type": "code",
   "execution_count": 5,
   "metadata": {},
   "outputs": [
    {
     "name": "stdout",
     "output_type": "stream",
     "text": [
      "1 2 3 4 5 6 7 8 9 10 \n",
      "11 12 13 14 15 16 17 18 19 20 \n",
      "21 22 23 24 25 26 27 28 29 30 \n",
      "31 32 33 34 35 36 37 38 39 40 \n",
      "41 42 43 44 45 46 47 48 49 50 \n",
      "51 52 53 54 55 56 57 58 59 60 \n",
      "61 62 63 64 65 66 67 68 69 70 \n",
      "71 72 73 74 75 76 77 78 79 80 \n",
      "81 82 83 84 85 86 87 88 89 90 \n",
      "91 92 93 94 95 96 97 98 99 100 \n",
      "101 102 103 104 105 106 107 108 109 110 \n",
      "111 112 113 114 115 116 117 118 119 120 \n",
      "121 122 123 124 125 126 127 128 129 130 \n",
      "131 132 133 134 135 136 137 138 139 140 \n",
      "141 "
     ]
    }
   ],
   "source": [
    "#\n",
    "#  Stabilization calculation: \n",
    "#\n",
    "#  put the system into a box, change the box length \n",
    "#  our box length = 2L: from -L to L\n",
    "#\n",
    "\n",
    "L_min=10       # smallest grid extent (box size)\n",
    "L_max=24       # largest grid extent (box size)\n",
    "nEs_keep=30    # how many energies are kept\n",
    "\n",
    "\n",
    "n_L=141 # ~ (L_max - L_min)/stepsize + 1  with stepsize = 0.1 Bohr\n",
    "\n",
    "\n",
    "L=np.linspace(L_min, L_max, num=n_L, endpoint=True)\n",
    "\n",
    "run_data = np.zeros((n_L,nEs_keep))  # array used to collect all eta-run data\n",
    "\n",
    "for iL in range(n_L):\n",
    "    xmax=L[iL]\n",
    "    xmin=-xmax\n",
    "    nGrid=int((xmax-xmin)*ppB)\n",
    "    xs = dvr.DVRGrid(xmin, xmax, nGrid)\n",
    "    Vs = Jolanta(xs)\n",
    "    Ts = dvr.KineticEnergy(1, xmin, xmax, nGrid)\n",
    "    Vs=Jolanta(xs)\n",
    "    [energy, wf] = dvr.DVRDiag2(nGrid, Ts, Vs)\n",
    "    run_data[iL,:] = energy[0:nEs_keep]\n",
    "    print(iL+1, end=\" \")\n",
    "    if (iL+1)%10==0:\n",
    "        print()\n",
    "\n",
    "run_data *= au2eV"
   ]
  },
  {
   "cell_type": "code",
   "execution_count": 8,
   "metadata": {},
   "outputs": [],
   "source": [
    "#\n",
    "# even states in blue, odd states in yellow\n",
    "#\n",
    "plt.cla()\n",
    "for i in range(0, nEs_keep, 2):\n",
    "    plt.plot(L,run_data[:,i], '-', color='blue')\n",
    "    plt.plot(L,run_data[:,i+1], '-', color=\"orange\")\n",
    "plt.ylim(0,20)\n",
    "plt.show()"
   ]
  },
  {
   "cell_type": "code",
   "execution_count": 14,
   "metadata": {},
   "outputs": [],
   "source": [
    "#\n",
    "# copy the 7 lowest even states from run_data to stab_data\n",
    "#\n",
    "nEs=7\n",
    "stab_data = np.zeros((n_L,nEs))\n",
    "i = 0\n",
    "for i in range(nEs):\n",
    "    stab_data[:,i] = run_data[:,2*i]\n",
    "\n",
    "# plot directly vs box-size L    \n",
    "# vs 1/L**1.5 seems to give most linear results \n",
    "# even though it should is should be 1/L**2\n",
    "\n",
    "plt.cla()\n",
    "for i in range(nEs):\n",
    "    plt.plot(1/L**1.5,stab_data[:,i], '-', color='blue')\n",
    "plt.ylim(0,20)\n",
    "plt.show()"
   ]
  },
  {
   "cell_type": "code",
   "execution_count": 8,
   "metadata": {},
   "outputs": [],
   "source": [
    "#\n",
    "# You have to hand-select the L-ranges for your choice of a, b, c,\n",
    "# and grid parameters\n",
    "#\n",
    "# I suggest you put the crossing_j.dat files into a directory \n",
    "# with a useful name\n",
    "#"
   ]
  },
  {
   "cell_type": "code",
   "execution_count": 9,
   "metadata": {},
   "outputs": [
    {
     "data": {
      "image/png": "[encoded data removed]",
      "text/plain": [
       "<Figure size 432x288 with 1 Axes>"
      ]
     },
     "metadata": {
      "needs_background": "light"
     },
     "output_type": "display_data"
    }
   ],
   "source": [
    "#\n",
    "fn=\"crossing_1.dat\"\n",
    "#\n",
    "Lmin=11\n",
    "Lmax=14\n",
    "i=1\n",
    "j=2\n",
    "idx_min = np.searchsorted(L, Lmin, side=\"left\")\n",
    "idx_max = np.searchsorted(L, Lmax, side=\"right\")\n",
    "nL = idx_max - idx_min\n",
    "crossing = np.zeros((nL,3))\n",
    "crossing[:,0] = L[idx_min:idx_max]\n",
    "crossing[:,1] = stab_data[idx_min:idx_max,i]\n",
    "crossing[:,2] = stab_data[idx_min:idx_max,j]\n",
    "for i in range(nEs):\n",
    "    plt.plot(L,stab_data[:,i], '-', color='blue')\n",
    "plt.ylim(0,15)\n",
    "plt.plot(crossing[:,0], crossing[:,1], 'o-', color=\"orange\")\n",
    "plt.plot(crossing[:,0], crossing[:,2], 'o-', color=\"orange\")\n",
    "np.savetxt(fn, crossing, fmt='%15.12f', delimiter=' ', header='  L E1 E2', comments='')"
   ]
  },
  {
   "cell_type": "code",
   "execution_count": 10,
   "metadata": {},
   "outputs": [
    {
     "data": {
      "image/png": "[encoded data removed]",
      "text/plain": [
       "<Figure size 432x288 with 1 Axes>"
      ]
     },
     "metadata": {
      "needs_background": "light"
     },
     "output_type": "display_data"
    }
   ],
   "source": [
    "#\n",
    "fn=\"crossing_2.dat\"\n",
    "#\n",
    "Lmin=15.6\n",
    "Lmax=18.2\n",
    "i=2\n",
    "j=3\n",
    "idx_min = np.searchsorted(L, Lmin, side=\"left\")\n",
    "idx_max = np.searchsorted(L, Lmax, side=\"right\")\n",
    "nL = idx_max - idx_min\n",
    "crossing = np.zeros((nL,3))\n",
    "crossing[:,0] = L[idx_min:idx_max]\n",
    "crossing[:,1] = stab_data[idx_min:idx_max,i]\n",
    "crossing[:,2] = stab_data[idx_min:idx_max,j]\n",
    "for i in range(nEs):\n",
    "    plt.plot(L,stab_data[:,i], '-', color='blue')\n",
    "plt.ylim(0,15)\n",
    "plt.plot(crossing[:,0], crossing[:,1], 'o-', color=\"orange\")\n",
    "plt.plot(crossing[:,0], crossing[:,2], 'o-', color=\"orange\")\n",
    "np.savetxt(fn, crossing, fmt='%15.12f', delimiter=' ', header='  L E1 E2', comments='')"
   ]
  },
  {
   "cell_type": "code",
   "execution_count": 11,
   "metadata": {},
   "outputs": [
    {
     "data": {
      "image/png": "[encoded data removed]",
      "text/plain": [
       "<Figure size 432x288 with 1 Axes>"
      ]
     },
     "metadata": {
      "needs_background": "light"
     },
     "output_type": "display_data"
    }
   ],
   "source": [
    "#\n",
    "fn=\"crossing_3.dat\"\n",
    "#\n",
    "Lmin=20\n",
    "Lmax=23\n",
    "i=3\n",
    "j=4\n",
    "idx_min = np.searchsorted(L, Lmin, side=\"left\")\n",
    "idx_max = np.searchsorted(L, Lmax, side=\"right\")\n",
    "nL = idx_max - idx_min\n",
    "crossing = np.zeros((nL,3))\n",
    "crossing[:,0] = L[idx_min:idx_max]\n",
    "crossing[:,1] = stab_data[idx_min:idx_max,i]\n",
    "crossing[:,2] = stab_data[idx_min:idx_max,j]\n",
    "for i in range(nEs):\n",
    "    plt.plot(L,stab_data[:,i], '-', color='blue')\n",
    "plt.ylim(0,15)\n",
    "plt.plot(crossing[:,0], crossing[:,1], 'o-', color=\"orange\")\n",
    "plt.plot(crossing[:,0], crossing[:,2], 'o-', color=\"orange\")\n",
    "np.savetxt(fn, crossing, fmt='%15.12f', delimiter=' ', header='  L E1 E2', comments='')"
   ]
  },
  {
   "cell_type": "code",
   "execution_count": null,
   "metadata": {},
   "outputs": [],
   "source": []
  }
 ],
 "metadata": {
  "kernelspec": {
   "display_name": "Python 3",
   "language": "python",
   "name": "python3"
  },
  "language_info": {
   "codemirror_mode": {
    "name": "ipython",
    "version": 3
   },
   "file_extension": ".py",
   "mimetype": "text/x-python",
   "name": "python",
   "nbconvert_exporter": "python",
   "pygments_lexer": "ipython3",
   "version": "3.6.9"
  }
 },
 "nbformat": 4,
 "nbformat_minor": 2
}
