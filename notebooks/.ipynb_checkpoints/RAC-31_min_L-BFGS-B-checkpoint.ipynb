{
 "cells": [
  {
   "cell_type": "code",
   "execution_count": 1,
   "metadata": {},
   "outputs": [],
   "source": [
    "import numpy as np\n",
    "from scipy.optimize import minimize\n",
    "#from scipy.optimize import dual_annealing\n",
    "#from pandas import Series, DataFrame\n",
    "import pandas as pd\n",
    "import matplotlib\n",
    "import matplotlib.pyplot as plt\n",
    "matplotlib.use('Qt5Agg')\n",
    "%matplotlib qt5"
   ]
  },
  {
   "cell_type": "code",
   "execution_count": 2,
   "metadata": {},
   "outputs": [],
   "source": [
    "#\n",
    "# if pade.py is not in the current directory, set this path:\n",
    "#\n",
    "#import sys\n",
    "#sys.path.append('../Python_libs')\n",
    "#import rac_pade_functions as racx\n",
    "#\n",
    "# need guess and res_ene with new convention\n",
    "#\n",
    "def res_ene(A, B):\n",
    "    \"\"\" resonance energy from A=alpha**2 and B=beta**2 \"\"\"\n",
    "    Er = B - A**2  # beta**2 - alpha**4\n",
    "    G = 4*A * np.sqrt(B) # 4*alpha**2 * abs(beta)\n",
    "    return Er, G\n",
    "\n",
    "def guess(Er, G):\n",
    "    \"\"\" guess for A = alpha**2 and B = beta**2 from Eres \"\"\"\n",
    "    alpha=0.5*np.sqrt(2.0)*(-2*Er + np.sqrt(4*Er**2 + G**2))**0.25\n",
    "    beta=0.5*G/np.sqrt(-2*Er + np.sqrt(4*Er**2 + G**2))\n",
    "    return [alpha**2, beta**2]"
   ]
  },
  {
   "cell_type": "code",
   "execution_count": 3,
   "metadata": {},
   "outputs": [
    {
     "data": {
      "text/html": [
       "<div>\n",
       "<style scoped>\n",
       "    .dataframe tbody tr th:only-of-type {\n",
       "        vertical-align: middle;\n",
       "    }\n",
       "\n",
       "    .dataframe tbody tr th {\n",
       "        vertical-align: top;\n",
       "    }\n",
       "\n",
       "    .dataframe thead th {\n",
       "        text-align: right;\n",
       "    }\n",
       "</style>\n",
       "<table border=\"1\" class=\"dataframe\">\n",
       "  <thead>\n",
       "    <tr style=\"text-align: right;\">\n",
       "      <th></th>\n",
       "      <th>l</th>\n",
       "      <th>E1</th>\n",
       "      <th>E2</th>\n",
       "      <th>E3</th>\n",
       "      <th>E4</th>\n",
       "    </tr>\n",
       "  </thead>\n",
       "  <tbody>\n",
       "    <tr>\n",
       "      <th>0</th>\n",
       "      <td>0.0</td>\n",
       "      <td>0.469219</td>\n",
       "      <td>1.365173</td>\n",
       "      <td>1.938043</td>\n",
       "      <td>3.271038</td>\n",
       "    </tr>\n",
       "    <tr>\n",
       "      <th>1</th>\n",
       "      <td>0.2</td>\n",
       "      <td>0.457846</td>\n",
       "      <td>1.314401</td>\n",
       "      <td>1.844238</td>\n",
       "      <td>3.242423</td>\n",
       "    </tr>\n",
       "    <tr>\n",
       "      <th>2</th>\n",
       "      <td>0.4</td>\n",
       "      <td>0.446073</td>\n",
       "      <td>1.251127</td>\n",
       "      <td>1.760926</td>\n",
       "      <td>3.215267</td>\n",
       "    </tr>\n",
       "    <tr>\n",
       "      <th>3</th>\n",
       "      <td>0.6</td>\n",
       "      <td>0.433754</td>\n",
       "      <td>1.173608</td>\n",
       "      <td>1.690292</td>\n",
       "      <td>3.189317</td>\n",
       "    </tr>\n",
       "    <tr>\n",
       "      <th>4</th>\n",
       "      <td>0.8</td>\n",
       "      <td>0.420648</td>\n",
       "      <td>1.082215</td>\n",
       "      <td>1.632448</td>\n",
       "      <td>3.164365</td>\n",
       "    </tr>\n",
       "  </tbody>\n",
       "</table>\n",
       "</div>"
      ],
      "text/plain": [
       "     l        E1        E2        E3        E4\n",
       "0  0.0  0.469219  1.365173  1.938043  3.271038\n",
       "1  0.2  0.457846  1.314401  1.844238  3.242423\n",
       "2  0.4  0.446073  1.251127  1.760926  3.215267\n",
       "3  0.6  0.433754  1.173608  1.690292  3.189317\n",
       "4  0.8  0.420648  1.082215  1.632448  3.164365"
      ]
     },
     "execution_count": 3,
     "metadata": {},
     "output_type": "execute_result"
    }
   ],
   "source": [
    "Angs2Bohr=1.8897259886\n",
    "au2eV=27.211386027\n",
    "au2cm=219474.63068\n",
    "#\n",
    "#  files in the current directory do not need the path name\n",
    "#\n",
    "#df = pd.read_csv(\"/home/thomas/Python/StabPlots/Stab_data/1D_a0.2_b0_c0.14/crossing_1.dat\", delim_whitespace=True)\n",
    "df = pd.read_csv(\"sb_rac.csv\")\n",
    "#df = pd.read_csv(\"crossing_1.dat\", delim_whitespace=True)\n",
    "plt.cla()\n",
    "plt.plot(df.l.values, df.E1.values, 'o-')\n",
    "plt.plot(df.l.values, df.E2.values, 'o-')\n",
    "plt.plot(df.l.values, df.E3.values, 'o-')\n",
    "plt.show()\n",
    "df[:5]"
   ]
  },
  {
   "cell_type": "code",
   "execution_count": 4,
   "metadata": {},
   "outputs": [
    {
     "name": "stdout",
     "output_type": "stream",
     "text": [
      "N= 89\n"
     ]
    }
   ],
   "source": [
    "i_neg = np.argmin(abs(df.E1.values))\n",
    "if df.E1[i_neg] > 0:\n",
    "    i_neg += 1\n",
    "ls = df.l.values[i_neg:]\n",
    "print('N=',len(ls))\n",
    "Es = df.E1.values[i_neg:]\n",
    "plt.cla()\n",
    "plt.plot(df.l.values, df.E1.values, 'b-')\n",
    "plt.plot(df.l.values, df.E2.values, 'b-')\n",
    "plt.plot(df.l.values, df.E3.values, 'b-')\n",
    "plt.plot(ls, Es, 'o-', color=\"orange\")\n",
    "plt.show()"
   ]
  },
  {
   "cell_type": "code",
   "execution_count": 5,
   "metadata": {},
   "outputs": [],
   "source": [
    "k2s = -Es\n",
    "ks  = np.sqrt(k2s)"
   ]
  },
  {
   "cell_type": "code",
   "execution_count": 6,
   "metadata": {},
   "outputs": [],
   "source": [
    "def chi2_gen(params, ks, k2s, lbs, pade):\n",
    "    \"\"\"\n",
    "    chi2 = mean of squared deviations \n",
    "    \"\"\"\n",
    "    diffs = pade(ks, k2s, params) - lbs\n",
    "    return np.sum(np.square(diffs)) / len(ks)\n",
    "\n",
    "def chi2_gen_num_jac(params, ks, k2s, lbs, pade, step=1e-5, tiny=1e-8):\n",
    "    \"\"\"\n",
    "    chi2 = mean of squared deviations and its numerical gradient\n",
    "    \"\"\"\n",
    "    n_kappa = len(ks)\n",
    "    n_para = len(params)\n",
    "    p0 = list(params)\n",
    "    diffs = pade(ks, k2s, params) - lbs\n",
    "    chi2 = np.sum(np.square(diffs)) / n_kappa\n",
    "    \n",
    "    dchi2 = np.zeros(n_para)\n",
    "    for ip in range(n_para):\n",
    "        h = params[ip]*step + tiny\n",
    "        pm = np.array(p0[:ip] + [p0[ip]-h] + p0[ip+1:])\n",
    "        pp = np.array(p0[:ip] + [p0[ip]+h] + p0[ip+1:])\n",
    "        chi2_m = chi2_gen(pm, ks, k2s, lbs, pade)\n",
    "        chi2_p = chi2_gen(pp, ks, k2s, lbs, pade)\n",
    "        dchi2[ip] = (chi2_p - chi2_m)/(2*h)\n",
    "    return chi2, dchi2\n",
    "    \n",
    "def pade_31(k, ksq, params):\n",
    "    \"\"\" \n",
    "    Pade [3,1] without gradient  \n",
    "    \"\"\"\n",
    "    l = params[0]\n",
    "    A = params[1]\n",
    "    B = params[2]\n",
    "    D = params[3]\n",
    "    a4b2 = A*A + B\n",
    "    aak2 = 2*A*k\n",
    "    ddk = D*k\n",
    "    num = (ksq + aak2 + a4b2) * (1 + ddk)\n",
    "    den = a4b2 + aak2 + ddk*a4b2\n",
    "    return l * num / den\n",
    "\n",
    "def pade_31_num_jac(k, ksq, params, step=1e-5, tiny=1e-8):\n",
    "    \"\"\" \n",
    "    Pade [3,1] with numerical gradient \n",
    "    \"\"\"\n",
    "    f = pade_31(k, ksq, params)\n",
    "    l = params[0]\n",
    "    a = params[1]  # this is A\n",
    "    b = params[2]  # this is B\n",
    "    d = params[3]  # this is D\n",
    "    h = l*step + tiny\n",
    "    dfdl = (pade_31(k, ksq, [l+h,a,b,d]) - pade_31(k, ksq, [l-h,a,b,d]))/(2*h)\n",
    "    h = a*step + tiny\n",
    "    dfda = (pade_31(k, ksq, [l,a+h,b,d]) - pade_31(k, ksq, [l,a-h,b,d]))/(2*h)\n",
    "    h = b*step + tiny\n",
    "    dfdb = (pade_31(k, ksq, [l,a,b+h,d]) - pade_31(k, ksq, [l,a,b-h,d]))/(2*h)\n",
    "    h = d*step + tiny\n",
    "    dfdd = (pade_31(k, ksq, [l,a,b,d+h]) - pade_31(k, ksq, [l,a,b,d-h]))/(2*h)\n",
    "    return f, np.array([dfdl, dfda, dfdb, dfdd])"
   ]
  },
  {
   "cell_type": "code",
   "execution_count": 7,
   "metadata": {},
   "outputs": [],
   "source": [
    "def chi2_gen_j(params, ks, k2s, lbs, pade):\n",
    "    \"\"\"\n",
    "    chi2 = mean of squared deviations and its analytical gradient\n",
    "    \"\"\"\n",
    "    n_kappa = len(ks)\n",
    "    n_param = len(params)\n",
    "    fs, dfs = pade(ks, k2s, params)\n",
    "    diffs = fs - lbs\n",
    "    chi2 = np.sum(np.square(diffs)) / n_kappa\n",
    "    dchi2 = np.zeros(n_param)\n",
    "    for ip in range(n_param):\n",
    "        dchi2[ip] = 2./n_kappa * np.sum(diffs*dfs[ip])\n",
    "    return chi2, dchi2\n",
    "\n",
    "def pade_31j(k, ksq, params):\n",
    "    \"\"\"\n",
    "    Pade [3,1] with analytical gradient (see RAC-31_derivatives notebook)\n",
    "    \"\"\"\n",
    "    l = params[0]\n",
    "    a2 = params[1]\n",
    "    b2 = params[2]\n",
    "    d2 = params[3]\n",
    "    a4b2 = a2*a2 + b2\n",
    "    aak2 = a2*k*2\n",
    "    ddk = d2*k\n",
    "    fr1 = (ksq + aak2 + a4b2)\n",
    "    fr2 = (1 + ddk)\n",
    "    den = a4b2 + aak2 + ddk*a4b2\n",
    "    dl = fr1*fr2/den\n",
    "    f = l*dl\n",
    "    da = -2*ksq*l * fr2 * (a2*a2*d2 + a2*fr2 - b2*d2 + k) / den**2\n",
    "    db = -ksq*l * fr2 * (2*a2*d2 + fr2) / den**2\n",
    "    dd = 2*a2*ksq*l * fr1/den**2\n",
    "    return f, np.array([dl, da, db, dd])"
   ]
  },
  {
   "cell_type": "code",
   "execution_count": 13,
   "metadata": {},
   "outputs": [
    {
     "name": "stdout",
     "output_type": "stream",
     "text": [
      "A and B [0.05047548741588786, 2.0025477748298317]\n",
      "res_ene (1.9999999999999603, 0.28571428571428575)\n"
     ]
    }
   ],
   "source": [
    "#\n",
    "#  start parameters computed backwards from a guess for the energy and the width\n",
    "#\n",
    "E0, G0 = 2.00, 2/7\n",
    "p0s=[1.1] + guess(E0, G0) + [0.25]\n",
    "print('A and B', p0s[1:3])\n",
    "print('res_ene', res_ene(p0s[1], p0s[2]))"
   ]
  },
  {
   "cell_type": "code",
   "execution_count": 14,
   "metadata": {},
   "outputs": [
    {
     "name": "stdout",
     "output_type": "stream",
     "text": [
      "num grad: [  7.49507397 -11.08740885  -3.2465722    1.41924825]\n",
      "ana grad: [  7.49507394 -11.08740727  -3.24657225   1.41924818]\n"
     ]
    }
   ],
   "source": [
    "#\n",
    "#  the derivative of [3,1] works\n",
    "#\n",
    "f1s, df1s = pade_31_num_jac(ks[88], k2s[88], p0s, step=1e-8, tiny=1e-11)\n",
    "print(\"num grad:\", df1s)\n",
    "\n",
    "f2s, df2s = pade_31j(ks[88], k2s[88], p0s)\n",
    "print(\"ana grad:\", df2s)"
   ]
  },
  {
   "cell_type": "code",
   "execution_count": 15,
   "metadata": {},
   "outputs": [
    {
     "data": {
      "text/plain": [
       "52.415954742841656"
      ]
     },
     "execution_count": 15,
     "metadata": {},
     "output_type": "execute_result"
    }
   ],
   "source": [
    "#\n",
    "#  this is the reference when called with jac=False so that BFGS calls its own jac\n",
    "#\n",
    "chi2_gen(p0s, ks, k2s, ls, pade_31)"
   ]
  },
  {
   "cell_type": "code",
   "execution_count": 16,
   "metadata": {},
   "outputs": [
    {
     "data": {
      "text/plain": [
       "(52.415954742841656,\n",
       " array([-66.9006039 ,  81.52202719,  27.10085756, -10.38224678]))"
      ]
     },
     "execution_count": 16,
     "metadata": {},
     "output_type": "execute_result"
    }
   ],
   "source": [
    "#\n",
    "#  pade-independent testing\n",
    "#\n",
    "chi2_gen_num_jac(p0s, ks, k2s, ls, pade_31)"
   ]
  },
  {
   "cell_type": "code",
   "execution_count": 17,
   "metadata": {},
   "outputs": [
    {
     "data": {
      "text/plain": [
       "(52.415954742841656,\n",
       " array([-66.9006039 ,  81.5220272 ,  27.10085756, -10.38224678]))"
      ]
     },
     "execution_count": 17,
     "metadata": {},
     "output_type": "execute_result"
    }
   ],
   "source": [
    "#\n",
    "#  analytical gradients for [3,1]\n",
    "#\n",
    "chi2_gen_j(p0s, ks, k2s, ls, pade_31j)"
   ]
  },
  {
   "cell_type": "code",
   "execution_count": 19,
   "metadata": {},
   "outputs": [],
   "source": [
    "E0, G0 = 2.00, 2/7\n",
    "p0s=[1.1] + guess(E0, G0) + [0.5]"
   ]
  },
  {
   "cell_type": "code",
   "execution_count": 20,
   "metadata": {},
   "outputs": [],
   "source": [
    "# either bounds or constraints can be used to force positive parameters\n",
    "\n",
    "bnds = ((0, None), (0, None), (0, None), (0, None))\n",
    "\n",
    "cons = ({'type': 'ineq', 'fun': lambda x: x[0] },\n",
    "        {'type': 'ineq', 'fun': lambda x: x[1] },\n",
    "        {'type': 'ineq', 'fun': lambda x: x[2] },\n",
    "        {'type': 'ineq', 'fun': lambda x: x[3] })"
   ]
  },
  {
   "cell_type": "code",
   "execution_count": 21,
   "metadata": {},
   "outputs": [
    {
     "name": "stdout",
     "output_type": "stream",
     "text": [
      "Start parameters: [1.1, 0.05047548741588786, 2.0025477748298317, 0.5]\n",
      "BFGS, internal numerical gradient\n",
      "      fun: 3.0157784593253126e-06\n",
      " hess_inv: array([[  15.15332602,  -17.50890906,   30.08499799,  -70.85416177],\n",
      "       [ -17.50890906,   28.14849243,  -38.39104213,  119.082367  ],\n",
      "       [  30.08499799,  -38.39104213,   62.22646073, -156.46849636],\n",
      "       [ -70.85416177,  119.082367  , -156.46849636,  508.16106076]])\n",
      "      jac: array([-8.87851678e-06,  6.04847940e-05,  1.30985505e-05, -1.10179222e-05])\n",
      "  message: 'Desired error not necessarily achieved due to precision loss.'\n",
      "     nfev: 954\n",
      "      nit: 81\n",
      "     njev: 157\n",
      "   status: 2\n",
      "  success: False\n",
      "        x: array([2.4023501 , 0.07356302, 1.64191205, 0.20607174])\n",
      "chi=3.016e-06\n",
      "Er=1.636501,  Gamma=0.377046\n"
     ]
    }
   ],
   "source": [
    "#\n",
    "#  start with BFGS (the golden standard)\n",
    "#\n",
    "\n",
    "#\n",
    "#  test results of other minimizers wrt BFGS\n",
    "#\n",
    "#p0s=[2.44040724, 0.16932892, 1.32155826, 0.        ] # NM and TNC result\n",
    "\n",
    "print(\"Start parameters:\",p0s)\n",
    "print('BFGS, internal numerical gradient')\n",
    "res = minimize(chi2_gen, p0s, args=(ks, k2s, ls, pade_31), \n",
    "               method='BFGS', options={'gtol':1e-7})\n",
    "print(res)\n",
    "print(\"chi=%.3e\" % res.fun)\n",
    "print(\"Er=%f,  Gamma=%f\" % res_ene(res.x[1], res.x[2]))"
   ]
  },
  {
   "cell_type": "code",
   "execution_count": 22,
   "metadata": {},
   "outputs": [
    {
     "name": "stdout",
     "output_type": "stream",
     "text": [
      "BFGS analytic gradient\n",
      "      fun: 3.0155975480501723e-06\n",
      " hess_inv: array([[  14.28870876,  -14.40985838,   27.22536504,  -57.2371618 ],\n",
      "       [ -14.40985838,   23.38379941,  -31.86397818,   98.78750102],\n",
      "       [  27.22536504,  -31.86397818,   54.98602136, -128.1108875 ],\n",
      "       [ -57.2371618 ,   98.78750102, -128.1108875 ,  421.95126234]])\n",
      "      jac: array([ 1.13417461e-08, -4.53517242e-08, -1.18495436e-08,  8.37832550e-09])\n",
      "  message: 'Optimization terminated successfully.'\n",
      "     nfev: 100\n",
      "      nit: 84\n",
      "     njev: 100\n",
      "   status: 0\n",
      "  success: True\n",
      "        x: array([2.4022862 , 0.07365684, 1.641779  , 0.2064697 ])\n",
      "chi=3.016e-06\n",
      "Er=1.636354,  Gamma=0.377512\n"
     ]
    }
   ],
   "source": [
    "print('BFGS analytic gradient')\n",
    "res = minimize(chi2_gen_j, p0s, args=(ks, k2s, ls, pade_31j), \n",
    "               method='BFGS', jac=True, options={'gtol':1e-7})\n",
    "print(res)\n",
    "print(\"chi=%.3e\" % res.fun)\n",
    "print(\"Er=%f,  Gamma=%f\" % res_ene(res.x[1], res.x[2]))"
   ]
  },
  {
   "cell_type": "code",
   "execution_count": 23,
   "metadata": {},
   "outputs": [
    {
     "name": "stdout",
     "output_type": "stream",
     "text": [
      "Nelder-Mead\n",
      " final_simplex: (array([[2.38501839, 0.10568962, 1.61292287, 0.34469704],\n",
      "       [2.3849787 , 0.10569161, 1.61286201, 0.34466932],\n",
      "       [2.38501331, 0.1056887 , 1.61292513, 0.34470363],\n",
      "       [2.38496666, 0.10569221, 1.61284547, 0.34466084],\n",
      "       [2.38500572, 0.10569304, 1.6128829 , 0.34466444]]), array([1.67518439e-05, 1.67518620e-05, 1.67518937e-05, 1.67519423e-05,\n",
      "       1.67519777e-05]))\n",
      "           fun: 1.6751843885334512e-05\n",
      "       message: 'Optimization terminated successfully.'\n",
      "          nfev: 492\n",
      "           nit: 287\n",
      "        status: 0\n",
      "       success: True\n",
      "             x: array([2.38501839, 0.10568962, 1.61292287, 0.34469704])\n",
      "chi=1.675e-05\n",
      "Er=1.601753,  Gamma=0.536907\n"
     ]
    }
   ],
   "source": [
    "print('Nelder-Mead')\n",
    "res = minimize(chi2_gen, p0s, args=(ks, k2s, ls, pade_31), \n",
    "               method='Nelder-Mead', options={'fatol':1e-8})\n",
    "print(res)\n",
    "print(\"chi=%.3e\" % res.fun)\n",
    "print(\"Er=%f,  Gamma=%f\" % res_ene(res.x[1], res.x[2]))"
   ]
  },
  {
   "cell_type": "code",
   "execution_count": 24,
   "metadata": {},
   "outputs": [
    {
     "name": "stdout",
     "output_type": "stream",
     "text": [
      "Conjugate gradient\n",
      "     fun: 3.0155994783804372e-06\n",
      "     jac: array([ 4.80465511e-08,  2.66286253e-08, -8.72480755e-08,  6.29439232e-08])\n",
      " message: 'Optimization terminated successfully.'\n",
      "    nfev: 834\n",
      "     nit: 346\n",
      "    njev: 834\n",
      "  status: 0\n",
      " success: True\n",
      "       x: array([2.40227971, 0.07366695, 1.6417648 , 0.20651215])\n",
      "chi=3.016e-06\n",
      "Er=1.636338,  Gamma=0.377562\n"
     ]
    }
   ],
   "source": [
    "print('Conjugate gradient')\n",
    "res = minimize(chi2_gen_j, p0s, args=(ks, k2s, ls, pade_31j), \n",
    "               method='CG', jac=True, options={'gtol':1e-7})\n",
    "print(res)\n",
    "print(\"chi=%.3e\" % res.fun)\n",
    "print(\"Er=%f,  Gamma=%f\" % res_ene(res.x[1], res.x[2]))"
   ]
  },
  {
   "cell_type": "code",
   "execution_count": 25,
   "metadata": {},
   "outputs": [
    {
     "name": "stdout",
     "output_type": "stream",
     "text": [
      "L-BFGS-B with bounds\n",
      "      fun: 3.0156467126972585e-06\n",
      " hess_inv: <4x4 LbfgsInvHessProduct with dtype=float64>\n",
      "      jac: array([ 6.67713823e-05, -2.55262727e-04, -7.03735241e-05,  4.74090809e-05])\n",
      "  message: b'CONVERGENCE: REL_REDUCTION_OF_F_<=_FACTR*EPSMCH'\n",
      "     nfev: 81\n",
      "      nit: 68\n",
      "   status: 0\n",
      "  success: True\n",
      "        x: array([2.40228988, 0.07365072, 1.64178874, 0.20644813])\n",
      "chi=3.016e-06\n",
      "Er=1.636364,  Gamma=0.377481\n"
     ]
    }
   ],
   "source": [
    "print('L-BFGS-B with bounds')\n",
    "res = minimize(chi2_gen_j, p0s, args=(ks, k2s, ls, pade_31j), \n",
    "               method='L-BFGS-B', jac=True, bounds=bnds, options={'ftol':1e-10, 'gtol':1e-7})\n",
    "print(res)\n",
    "print(\"chi=%.3e\" % res.fun)\n",
    "print(\"Er=%f,  Gamma=%f\" % res_ene(res.x[1], res.x[2]))"
   ]
  },
  {
   "cell_type": "code",
   "execution_count": 26,
   "metadata": {},
   "outputs": [
    {
     "name": "stdout",
     "output_type": "stream",
     "text": [
      "TNC with bounds\n",
      "     fun: 2.787648758735746e-05\n",
      "     jac: array([-3.76308383e-04,  8.34980945e-04,  3.58653210e-04, -1.11760177e-05])\n",
      " message: 'Max. number of function evaluations reached'\n",
      "    nfev: 100\n",
      "     nit: 29\n",
      "  status: 3\n",
      " success: False\n",
      "       x: array([2.37966941, 0.11894299, 1.6107724 , 0.40875541])\n",
      "chi=2.788e-05\n",
      "Er=1.596625,  Gamma=0.603832\n"
     ]
    }
   ],
   "source": [
    "print('TNC with bounds')\n",
    "res = minimize(chi2_gen_j, p0s, args=(ks, k2s, ls, pade_31j), \n",
    "               method='TNC', jac=True, bounds=bnds, options={'gtol':1e-7})\n",
    "print(res)\n",
    "print(\"chi=%.3e\" % res.fun)\n",
    "print(\"Er=%f,  Gamma=%f\" % res_ene(res.x[1], res.x[2]))"
   ]
  },
  {
   "cell_type": "code",
   "execution_count": 27,
   "metadata": {},
   "outputs": [
    {
     "name": "stdout",
     "output_type": "stream",
     "text": [
      "COBYLA with constraints\n",
      "     fun: 0.00021821060841032978\n",
      "   maxcv: 0.0\n",
      " message: 'Maximum number of function evaluations has been exceeded.'\n",
      "    nfev: 10000\n",
      "  status: 2\n",
      " success: False\n",
      "       x: array([2.33211822, 0.20183142, 1.79183575, 1.74913892])\n",
      "chi=2.182e-04\n",
      "Er=1.751100,  Gamma=1.080682\n"
     ]
    }
   ],
   "source": [
    "print('COBYLA with constraints')\n",
    "res = minimize(chi2_gen, p0s, args=(ks, k2s, ls, pade_31), \n",
    "               method='COBYLA', tol=1e-7, constraints=cons, options={'maxiter':10000})\n",
    "print(res)\n",
    "print(\"chi=%.3e\" % res.fun)\n",
    "print(\"Er=%f,  Gamma=%f\" % res_ene(res.x[1], res.x[2]))"
   ]
  },
  {
   "cell_type": "code",
   "execution_count": 32,
   "metadata": {},
   "outputs": [
    {
     "name": "stdout",
     "output_type": "stream",
     "text": [
      "SLSQP, analytic gradient\n",
      "     fun: 3.0155997014606822e-06\n",
      "     jac: array([ 1.44188354e-05, -5.39661080e-05, -1.51400745e-05,  1.00050991e-05])\n",
      " message: 'Optimization terminated successfully.'\n",
      "    nfev: 76\n",
      "     nit: 59\n",
      "    njev: 59\n",
      "  status: 0\n",
      " success: True\n",
      "       x: array([2.40228497, 0.07365807, 1.64177669, 0.20647505])\n",
      "chi=3.016e-06\n",
      "Er=1.636351,  Gamma=0.377518\n"
     ]
    }
   ],
   "source": [
    "#\n",
    "#  Sequential least squares programming (allows constraints) \n",
    "#\n",
    "\n",
    "print('SLSQP, analytic gradient')\n",
    "res = minimize(chi2_gen_j, p0s, args=(ks, k2s, ls, pade_31j), \n",
    "               method='SLSQP', jac=True, constraints=cons, options={'ftol':1e-10})\n",
    "print(res)\n",
    "print(\"chi=%.3e\" % res.fun)\n",
    "print(\"Er=%f,  Gamma=%f\" % res_ene(res.x[1], res.x[2]))"
   ]
  },
  {
   "cell_type": "code",
   "execution_count": null,
   "metadata": {},
   "outputs": [],
   "source": [
    "print('Trust Constraint')\n",
    "res = minimize(chi2_gen_j, p0s, args=(ks, k2s, ls, pade_31j), \n",
    "               method='trust-constr', constraints=cons, jac=True)\n",
    "print(res)\n",
    "print(\"chi=%.3e\" % res.fun)\n",
    "print(\"Er=%f,  Gamma=%f\" % res_ene(res.x[1], res.x[2]))"
   ]
  },
  {
   "cell_type": "code",
   "execution_count": null,
   "metadata": {},
   "outputs": [],
   "source": []
  }
 ],
 "metadata": {
  "kernelspec": {
   "display_name": "Python 3",
   "language": "python",
   "name": "python3"
  },
  "language_info": {
   "codemirror_mode": {
    "name": "ipython",
    "version": 3
   },
   "file_extension": ".py",
   "mimetype": "text/x-python",
   "name": "python",
   "nbconvert_exporter": "python",
   "pygments_lexer": "ipython3",
   "version": "3.6.9"
  }
 },
 "nbformat": 4,
 "nbformat_minor": 2
}
