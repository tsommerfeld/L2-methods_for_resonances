{
 "cells": [
  {
   "cell_type": "code",
   "execution_count": 18,
   "metadata": {},
   "outputs": [],
   "source": [
    "import numpy as np\n",
    "from scipy.optimize import least_squares\n",
    "#from pandas import Series, DataFrame\n",
    "import pandas as pd\n",
    "import matplotlib\n",
    "import matplotlib.pyplot as plt\n",
    "matplotlib.use('Qt5Agg')\n",
    "#%matplotlib qt5\n",
    "%matplotlib inline\n",
    "#\n",
    "# if pade.py is not in the current directory, set this path:\n",
    "#\n",
    "#import sys\n",
    "#sys.path.append('../Python_libs')\n",
    "from rac_aux import *"
   ]
  },
  {
   "cell_type": "code",
   "execution_count": 19,
   "metadata": {},
   "outputs": [
    {
     "data": {
      "image/png": "[encoded data removed]",
      "text/plain": [
       "<Figure size 432x288 with 1 Axes>"
      ]
     },
     "metadata": {
      "needs_background": "light"
     },
     "output_type": "display_data"
    },
    {
     "data": {
      "text/html": [
       "<div>\n",
       "<style scoped>\n",
       "    .dataframe tbody tr th:only-of-type {\n",
       "        vertical-align: middle;\n",
       "    }\n",
       "\n",
       "    .dataframe tbody tr th {\n",
       "        vertical-align: top;\n",
       "    }\n",
       "\n",
       "    .dataframe thead th {\n",
       "        text-align: right;\n",
       "    }\n",
       "</style>\n",
       "<table border=\"1\" class=\"dataframe\">\n",
       "  <thead>\n",
       "    <tr style=\"text-align: right;\">\n",
       "      <th></th>\n",
       "      <th>l</th>\n",
       "      <th>E1</th>\n",
       "      <th>E2</th>\n",
       "      <th>E3</th>\n",
       "      <th>E4</th>\n",
       "    </tr>\n",
       "  </thead>\n",
       "  <tbody>\n",
       "    <tr>\n",
       "      <th>0</th>\n",
       "      <td>0.0</td>\n",
       "      <td>0.469219</td>\n",
       "      <td>1.365173</td>\n",
       "      <td>1.938043</td>\n",
       "      <td>3.271038</td>\n",
       "    </tr>\n",
       "    <tr>\n",
       "      <th>1</th>\n",
       "      <td>0.2</td>\n",
       "      <td>0.457846</td>\n",
       "      <td>1.314401</td>\n",
       "      <td>1.844238</td>\n",
       "      <td>3.242423</td>\n",
       "    </tr>\n",
       "    <tr>\n",
       "      <th>2</th>\n",
       "      <td>0.4</td>\n",
       "      <td>0.446073</td>\n",
       "      <td>1.251127</td>\n",
       "      <td>1.760926</td>\n",
       "      <td>3.215267</td>\n",
       "    </tr>\n",
       "    <tr>\n",
       "      <th>3</th>\n",
       "      <td>0.6</td>\n",
       "      <td>0.433754</td>\n",
       "      <td>1.173608</td>\n",
       "      <td>1.690292</td>\n",
       "      <td>3.189317</td>\n",
       "    </tr>\n",
       "    <tr>\n",
       "      <th>4</th>\n",
       "      <td>0.8</td>\n",
       "      <td>0.420648</td>\n",
       "      <td>1.082215</td>\n",
       "      <td>1.632448</td>\n",
       "      <td>3.164365</td>\n",
       "    </tr>\n",
       "  </tbody>\n",
       "</table>\n",
       "</div>"
      ],
      "text/plain": [
       "     l        E1        E2        E3        E4\n",
       "0  0.0  0.469219  1.365173  1.938043  3.271038\n",
       "1  0.2  0.457846  1.314401  1.844238  3.242423\n",
       "2  0.4  0.446073  1.251127  1.760926  3.215267\n",
       "3  0.6  0.433754  1.173608  1.690292  3.189317\n",
       "4  0.8  0.420648  1.082215  1.632448  3.164365"
      ]
     },
     "execution_count": 19,
     "metadata": {},
     "output_type": "execute_result"
    }
   ],
   "source": [
    "Angs2Bohr=1.8897259886\n",
    "au2eV=27.211386027\n",
    "au2cm=219474.63068\n",
    "#\n",
    "#  files in the current directory do not need the path name\n",
    "#\n",
    "#df = pd.read_csv(\"/home/thomas/Python/StabPlots/Stab_data/1D_a0.2_b0_c0.14/crossing_1.dat\", delim_whitespace=True)\n",
    "df = pd.read_csv(\"sb_rac.csv\")\n",
    "#df = pd.read_csv(\"crossing_1.dat\", delim_whitespace=True)\n",
    "\n",
    "plot_it=True\n",
    "if plot_it:\n",
    "    plt.cla()\n",
    "    plt.plot(df.l.values, df.E1.values, 'o-')\n",
    "    plt.plot(df.l.values, df.E2.values, 'o-')\n",
    "    plt.plot(df.l.values, df.E3.values, 'o-')\n",
    "    plt.show()\n",
    "df[:5]"
   ]
  },
  {
   "cell_type": "code",
   "execution_count": 3,
   "metadata": {},
   "outputs": [
    {
     "name": "stdout",
     "output_type": "stream",
     "text": [
      "N= 89\n"
     ]
    }
   ],
   "source": [
    "i_neg = np.argmin(abs(df.E1.values))\n",
    "if df.E1[i_neg] > 0:\n",
    "    i_neg += 1\n",
    "ls = df.l.values[i_neg:]\n",
    "print('N=',len(ls))\n",
    "Es = df.E1.values[i_neg:]\n",
    "if plot_it:\n",
    "    plt.cla()\n",
    "    plt.plot(df.l.values, df.E1.values, 'b-')\n",
    "    plt.plot(df.l.values, df.E2.values, 'b-')\n",
    "    plt.plot(df.l.values, df.E3.values, 'b-')\n",
    "    plt.plot(ls, Es, 'o', color=\"orange\")\n",
    "    plt.show()"
   ]
  },
  {
   "cell_type": "code",
   "execution_count": 4,
   "metadata": {},
   "outputs": [],
   "source": [
    "k2s = -Es\n",
    "ks  = np.sqrt(k2s)"
   ]
  },
  {
   "cell_type": "code",
   "execution_count": 9,
   "metadata": {},
   "outputs": [
    {
     "name": "stdout",
     "output_type": "stream",
     "text": [
      "[2.3919, 0.2964, 1.3187, 1.3736, 0.29655, 0.4543, 0.5078, 1]\n",
      "33.16551690973274\n"
     ]
    }
   ],
   "source": [
    "# start params\n",
    "p31_opt = [2.4022, 0.2713, 1.2813, 0.4543]\n",
    "p42_opt = [2.3919, 0.2964, 1.3187, 1.3736,  0.29655, 0.5078]\n",
    "p0s = p42_opt[0:5] + p31_opt[3:] + p42_opt[5:] + [1]\n",
    "print(p0s)\n",
    "print(chi2_gen(p0s, ks, k2s, ls, pade_53_lsq))"
   ]
  },
  {
   "cell_type": "code",
   "execution_count": 6,
   "metadata": {},
   "outputs": [
    {
     "name": "stdout",
     "output_type": "stream",
     "text": [
      "num grad:\n",
      " [[ 0.05109042  0.03439393  0.02001603  0.13483982  0.10638061  0.23072723\n",
      "  -0.00033939 -0.02434429]\n",
      " [ 0.05115288  0.03427232  0.01982363  0.13499377  0.10717097  0.23184297\n",
      "  -0.00033769 -0.0243752 ]\n",
      " [ 0.05121644  0.03415321  0.01963566  0.1351494   0.10796052  0.23295666\n",
      "  -0.00033602 -0.02440661]\n",
      " [ 0.05128105  0.03403652  0.01945195  0.13530663  0.10874926  0.23406828\n",
      "  -0.0003344  -0.0244385 ]\n",
      " [ 0.05134669  0.03392217  0.01927238  0.13546539  0.1095372   0.23517783\n",
      "  -0.00033281 -0.02447086]\n",
      " [ 0.05141329  0.0338101   0.01909678  0.13562559  0.11032434  0.23628531\n",
      "  -0.00033126 -0.02450365]]\n",
      "ana grad:\n",
      " [[ 0.05109042  0.03439393  0.02001603  0.13483982  0.10638061  0.23072723\n",
      "  -0.00033939 -0.02434429]\n",
      " [ 0.05115288  0.03427232  0.01982363  0.13499377  0.10717097  0.23184297\n",
      "  -0.00033769 -0.0243752 ]\n",
      " [ 0.05121644  0.03415321  0.01963566  0.1351494   0.10796052  0.23295666\n",
      "  -0.00033602 -0.02440661]\n",
      " [ 0.05128105  0.03403652  0.01945195  0.13530663  0.10874926  0.23406828\n",
      "  -0.0003344  -0.0244385 ]\n",
      " [ 0.05134669  0.03392217  0.01927238  0.13546539  0.1095372   0.23517783\n",
      "  -0.00033281 -0.02447086]\n",
      " [ 0.05141329  0.0338101   0.01909678  0.13562559  0.11032434  0.23628531\n",
      "  -0.00033126 -0.02450365]]\n"
     ]
    },
    {
     "data": {
      "text/plain": [
       "1.2168254197294816e-09"
      ]
     },
     "execution_count": 6,
     "metadata": {},
     "output_type": "execute_result"
    }
   ],
   "source": [
    "#\n",
    "#  the derivative of [5,3] works\n",
    "#\n",
    "\n",
    "N=6\n",
    "\n",
    "df1s = pade_gen_j_lsq(p0s, ks[-N:], k2s[-N:], ls[-N:], pade_53_lsq)\n",
    "print(\"num grad:\\n\", df1s)\n",
    "\n",
    "df2s = pade_53j_lsq(p0s, ks[-N:], k2s[-N:], ls[-N:])\n",
    "print(\"ana grad:\\n\", df2s)\n",
    "\n",
    "np.sqrt(np.sum(np.square(df1s-df2s)))"
   ]
  },
  {
   "cell_type": "code",
   "execution_count": null,
   "metadata": {},
   "outputs": [],
   "source": [
    "# start params\n",
    "p31_opt = [2.4022, 0.2713, 1.2813, 0.4543]\n",
    "p42_opt = [2.3919, 0.2964, 1.3187, 1.3736,  0.29655, 0.5078]\n",
    "p0s = p42_opt[0:5] + p31_opt[3:] + p42_opt[5:] + [1]\n",
    "print(p0s)"
   ]
  },
  {
   "cell_type": "code",
   "execution_count": 15,
   "metadata": {},
   "outputs": [
    {
     "name": "stdout",
     "output_type": "stream",
     "text": [
      "Start parameters: [2.3919, 0.2964, 1.3187, 1.3736, 0.29655, 0.4543, 0.5078, 1]\n",
      "Least squares, 2-point jac\n",
      "njev: 986\n",
      "cost: 1.0404935673740506e-09\n",
      "grad: [-3.68563660e-08 -1.87475545e-08 -1.26978125e-08 -2.73876825e-09\n",
      " -9.91550368e-08 -1.31568086e-07  5.14696853e-08  6.37290085e-08]\n",
      "message: `xtol` termination condition is satisfied.\n",
      "success: True\n",
      "x: [2.39268253 0.24355109 1.32306897 0.48813835 1.67345685 0.31170218\n",
      " 2.20311935 0.83989086]\n",
      "chi2 = 2.338e-11\n",
      "Er=1.746993,  Gamma=0.313923\n"
     ]
    }
   ],
   "source": [
    "#\n",
    "#  test results of other minimizers wrt least squares\n",
    "#\n",
    "#p0s=res.x\n",
    "\n",
    "print(\"Start parameters:\",p0s)\n",
    "print('Least squares, 2-point jac')\n",
    "res = least_squares(pade_53_lsq, p0s, method='trf', jac='2-point', \n",
    "                    args=(ks, k2s, ls),  max_nfev=5000)\n",
    "print(\"njev:\",res.njev)\n",
    "print(\"cost:\",res.cost)\n",
    "print(\"grad:\",res.grad)\n",
    "print(\"message:\",res.message)\n",
    "print(\"success:\",res.success)\n",
    "print(\"x:\", res.x)\n",
    "print('chi2 = %.3e' % (res.cost*2/len(ks)))\n",
    "print(\"Er=%f,  Gamma=%f\" % res_ene(res.x[1], res.x[2]))"
   ]
  },
  {
   "cell_type": "code",
   "execution_count": 16,
   "metadata": {},
   "outputs": [
    {
     "name": "stdout",
     "output_type": "stream",
     "text": [
      "Least squares, trust-region-reflective (default) with analytic jac\n",
      "njev: 979\n",
      "cost: 1.0404935461823376e-09\n",
      "grad: [-2.17611480e-09 -1.09934897e-09 -7.30644619e-10 -1.61813359e-10\n",
      " -5.86444157e-09 -7.84455929e-09  3.03309240e-09  3.79793634e-09]\n",
      "message: `gtol` termination condition is satisfied.\n",
      "success: True\n",
      "x: [2.39268253 0.24355147 1.32306903 0.48814693 1.67346062 0.31170181\n",
      " 2.203125   0.83989187]\n",
      "chi2 = 2.338e-11\n",
      "Er=1.746993,  Gamma=0.313924\n"
     ]
    }
   ],
   "source": [
    "print('Least squares, trust-region-reflective (default) with analytic jac')\n",
    "res = least_squares(pade_53_lsq, p0s, method='trf', jac=pade_53j_lsq, \n",
    "                    args=(ks, k2s, ls),  max_nfev=5000)\n",
    "print(\"njev:\",res.njev)\n",
    "print(\"cost:\",res.cost)\n",
    "print(\"grad:\",res.grad)\n",
    "print(\"message:\",res.message)\n",
    "print(\"success:\",res.success)\n",
    "print(\"x:\", res.x)\n",
    "print('chi2 = %.3e' % (res.cost*2/len(ks)))\n",
    "print(\"Er=%f,  Gamma=%f\" % res_ene(res.x[1], res.x[2]))"
   ]
  },
  {
   "cell_type": "code",
   "execution_count": 14,
   "metadata": {},
   "outputs": [
    {
     "name": "stdout",
     "output_type": "stream",
     "text": [
      "Least squares, Levenberg-Marquardt with analytic jac\n",
      "njev: 1377\n",
      "cost: 1.040493546107574e-09\n",
      "grad: [-3.05447952e-12 -1.55709745e-12 -1.05903234e-12 -2.27488606e-13\n",
      " -8.21444712e-12 -1.08594610e-11  4.27041673e-12  5.26040112e-12]\n",
      "message: `gtol` termination condition is satisfied.\n",
      "success: True\n",
      "x: [2.39268253 0.24355148 1.32306903 0.4881469  1.67346084 0.3117018\n",
      " 2.20312529 0.83989196]\n",
      "chi2 = 2.338e-11\n",
      "Er=1.746993,  Gamma=0.313924\n"
     ]
    }
   ],
   "source": [
    "print('Least squares, Levenberg-Marquardt with analytic jac')\n",
    "res = least_squares(pade_53_lsq, p0s, method='lm', jac=pade_53j_lsq, \n",
    "                    args=(ks, k2s, ls), max_nfev=5000)\n",
    "print(\"njev:\",res.njev)\n",
    "print(\"cost:\",res.cost)\n",
    "print(\"grad:\",res.grad)\n",
    "print(\"message:\",res.message)\n",
    "print(\"success:\",res.success)\n",
    "print(\"x:\", res.x)\n",
    "print('chi2 = %.3e' % (res.cost*2/len(ks)))\n",
    "print(\"Er=%f,  Gamma=%f\" % res_ene(res.x[1], res.x[2]))"
   ]
  },
  {
   "cell_type": "code",
   "execution_count": 17,
   "metadata": {},
   "outputs": [
    {
     "name": "stdout",
     "output_type": "stream",
     "text": [
      "Least squares, TRF with bounds\n",
      "njev: 2427\n",
      "cost: 1.0405087711138972e-09\n",
      "grad: [-2.25103142e-09 -1.10836755e-09 -6.70515918e-10 -1.66634190e-10\n",
      " -6.11507222e-09 -8.44991906e-09  3.08251033e-09  4.05253810e-09]\n",
      "message: `gtol` termination condition is satisfied.\n",
      "success: True\n",
      "x: [2.39268239 0.24352545 1.3230728  0.48819407 1.67292887 0.3117231\n",
      " 2.202417   0.83967531]\n",
      "chi2 = 2.338e-11\n",
      "Er=1.747005,  Gamma=0.313857\n"
     ]
    }
   ],
   "source": [
    "print('Least squares, TRF with bounds')\n",
    "\n",
    "bnds=([0,0,0, 0,0,0, 0,0],[np.inf,np.inf,np.inf, np.inf,np.inf,np.inf, np.inf,np.inf])\n",
    "\n",
    "res = least_squares(pade_53_lsq, p0s, jac=pade_53j_lsq, bounds=bnds, \n",
    "                    args=(ks, k2s, ls),  max_nfev=5000)\n",
    "print(\"njev:\",res.njev)\n",
    "print(\"cost:\",res.cost)\n",
    "print(\"grad:\",res.grad)\n",
    "print(\"message:\",res.message)\n",
    "print(\"success:\",res.success)\n",
    "print(\"x:\", res.x)\n",
    "print('chi2 = %.3e' % (res.cost*2/len(ks)))\n",
    "print(\"Er=%f,  Gamma=%f\" % res_ene(res.x[1], res.x[2]))"
   ]
  },
  {
   "cell_type": "code",
   "execution_count": null,
   "metadata": {},
   "outputs": [],
   "source": [
    "l0, a, b, d = res.x"
   ]
  },
  {
   "cell_type": "code",
   "execution_count": null,
   "metadata": {},
   "outputs": [],
   "source": []
  },
  {
   "cell_type": "code",
   "execution_count": null,
   "metadata": {},
   "outputs": [],
   "source": []
  }
 ],
 "metadata": {
  "kernelspec": {
   "display_name": "Python 3",
   "language": "python",
   "name": "python3"
  },
  "language_info": {
   "codemirror_mode": {
    "name": "ipython",
    "version": 3
   },
   "file_extension": ".py",
   "mimetype": "text/x-python",
   "name": "python",
   "nbconvert_exporter": "python",
   "pygments_lexer": "ipython3",
   "version": "3.6.9"
  }
 },
 "nbformat": 4,
 "nbformat_minor": 4
}
