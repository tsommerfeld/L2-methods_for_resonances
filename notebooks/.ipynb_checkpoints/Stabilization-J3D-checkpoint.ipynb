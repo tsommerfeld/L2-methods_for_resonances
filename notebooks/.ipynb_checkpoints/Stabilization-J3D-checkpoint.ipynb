{
 "cells": [
  {
   "cell_type": "code",
   "execution_count": 1,
   "metadata": {},
   "outputs": [],
   "source": [
    "import numpy as np\n",
    "import sys\n",
    "import matplotlib.pyplot as plt\n",
    "%matplotlib qt5\n",
    "#\n",
    "#  extend path by location of the dvr package\n",
    "#\n",
    "jolanta_root=\"/home/thomas/Current_Work/Jolanta-by-dvr/\"\n",
    "sys.path.append(jolanta_root+'Python_libs')\n",
    "import dvr\n",
    "import jolanta"
   ]
  },
  {
   "cell_type": "code",
   "execution_count": 2,
   "metadata": {},
   "outputs": [],
   "source": [
    "amu_to_au=1822.888486192\n",
    "au2cm=219474.63068\n",
    "au2eV=27.211386027\n",
    "Angs2Bohr=1.8897259886"
   ]
  },
  {
   "cell_type": "code",
   "execution_count": 3,
   "metadata": {},
   "outputs": [
    {
     "name": "stdout",
     "output_type": "stream",
     "text": [
      "  1    0.01170180 au =      0.31842 eV\n",
      "  2    0.03547063 au =      0.96521 eV\n",
      "  3    0.06136177 au =      1.66974 eV\n",
      "  4    0.08324826 au =      2.26530 eV\n",
      "  5    0.13292595 au =      3.61710 eV\n"
     ]
    }
   ],
   "source": [
    "#\n",
    "#  compute DVR of T and V\n",
    "#  then show the density of states\n",
    "#  in a potential + energy-levels plot\n",
    "#  the standard 3D-Jolanta is used (resonance at 1.75 -0.2i eV)\n",
    "#\n",
    "rmin=0\n",
    "rmax=30      # grid from 0 to rmax\n",
    "thresh = 3   # maximum energy for plot\n",
    "ppB = 10     # grid points per Bohr\n",
    "\n",
    "nGrid=int((rmax-rmin)*ppB)\n",
    "rs = dvr.DVRGrid(rmin, rmax, nGrid)\n",
    "Vs = jolanta.Jolanta_3D(rs)\n",
    "Ts = dvr.KineticEnergy(1, rmin, rmax, nGrid)\n",
    "[energy, wf] = dvr.DVRDiag2(nGrid, Ts, Vs)\n",
    "\n",
    "n_ene=0\n",
    "for i in range(nGrid):\n",
    "    print(\"%3d  %12.8f au = %12.5f eV\" % (i+1, energy[i], energy[i]*au2eV))\n",
    "    n_ene += 1\n",
    "    if energy[i]*au2eV > thresh:\n",
    "        break\n",
    "\n",
    "# \"DVR normalization\", sum(wf[:,0]**2)\n",
    "# this is correct for plotting\n",
    "\n",
    "c=[\"orange\", \"blue\"]\n",
    "#h=float(xmax) / (nGrid+1.0)\n",
    "scale=3*au2eV\n",
    "\n",
    "plt.cla()\n",
    "plt.plot(rs,Vs*au2eV, '-', color=\"black\")\n",
    "for i in range(n_ene):\n",
    "    plt.plot(rs, scale*wf[:,i]**2+energy[i]*au2eV, '-', color=c[i%len(c)])\n",
    "plt.ylim(-2, 1.5*thresh)\n",
    "plt.xlabel('$r$ [Bohr]')\n",
    "plt.ylabel('$E$ [eV]')\n",
    "plt.show()"
   ]
  },
  {
   "cell_type": "code",
   "execution_count": 4,
   "metadata": {},
   "outputs": [
    {
     "name": "stdout",
     "output_type": "stream",
     "text": [
      "1 2 3 4 5 6 7 8 9 10 \n",
      "11 12 13 14 15 16 17 18 19 20 \n",
      "21 22 23 24 25 26 27 28 29 30 \n",
      "31 32 33 34 35 36 37 38 39 40 \n",
      "41 42 43 44 45 46 47 48 49 50 \n",
      "51 52 53 54 55 56 57 58 59 60 \n",
      "61 62 63 64 65 66 67 68 69 70 \n",
      "71 72 73 74 75 76 77 78 79 80 \n",
      "81 82 83 84 85 86 87 88 89 90 \n",
      "91 92 93 94 95 96 97 98 99 100 \n",
      "101 102 103 104 105 106 107 108 109 110 \n",
      "111 112 113 114 115 116 117 118 119 120 \n",
      "121 122 123 124 125 126 127 128 129 130 \n",
      "131 132 133 134 135 136 137 138 139 140 \n",
      "141 142 143 144 145 146 147 148 149 150 \n",
      "151 "
     ]
    }
   ],
   "source": [
    "#\n",
    "#  Stabilization calculation: \n",
    "#\n",
    "#  put the system into a box, change the box length \n",
    "#  our box length = L: from 0 to L\n",
    "#\n",
    "\n",
    "L_min=10       # smallest grid extent (box size)\n",
    "L_max=40       # largest grid extent (box size)\n",
    "nEs_keep=20    # how many energies are kept\n",
    "\n",
    "\n",
    "n_L=151 # ~ (L_max - L_min)/stepsize + 1  with stepsize = 0.2 Bohr\n",
    "\n",
    "\n",
    "L=np.linspace(L_min, L_max, num=n_L, endpoint=True)\n",
    "\n",
    "run_data = np.zeros((n_L,nEs_keep))  # array used to collect all eta-run data\n",
    "\n",
    "for iL in range(n_L):\n",
    "    rmax=L[iL]\n",
    "    nGrid=int((rmax-rmin)*ppB)\n",
    "    rs = dvr.DVRGrid(rmin, rmax, nGrid)\n",
    "    Vs = jolanta.Jolanta_3D(rs)\n",
    "    Ts = dvr.KineticEnergy(1, rmin, rmax, nGrid)\n",
    "    [energy, wf] = dvr.DVRDiag2(nGrid, Ts, Vs)\n",
    "    run_data[iL,:] = energy[0:nEs_keep]\n",
    "    print(iL+1, end=\" \")\n",
    "    if (iL+1)%10==0:\n",
    "        print()\n",
    "\n",
    "run_data *= au2eV"
   ]
  },
  {
   "cell_type": "code",
   "execution_count": 26,
   "metadata": {},
   "outputs": [],
   "source": [
    "#\n",
    "# all states contribute\n",
    "#\n",
    "plt.cla()\n",
    "for i in range(0, nEs_keep, 2):\n",
    "    plt.plot(L,run_data[:,i], '-', color='blue')\n",
    "    plt.plot(L,run_data[:,i+1], '-', color=\"orange\")\n",
    "plt.ylim(0,4)\n",
    "plt.show()"
   ]
  },
  {
   "cell_type": "code",
   "execution_count": 51,
   "metadata": {},
   "outputs": [],
   "source": [
    "def Maier80_analysis_a(Ls, Es, first=True, plot=False):\n",
    "    \"\"\"\n",
    "    JPB 13, L119 (1980)\n",
    "    Er from E'' = 0\n",
    "    Gamma from eq(8) evaluated at E'' = 0\n",
    "    Gamma = 2*sqrt(2*E_r)/(-L-2*E_r/E')\n",
    "    symmetric quotient approx E''[n] = (E[n+2]-2*E[n]+E[n-2])/(2*h)**2\n",
    "    for E(L) plotting the plateau is the first zero of E'' turning negative\n",
    "    for E(1/L**2) plotting the plateau is the 2nd zero of E'' turning positive\n",
    "    \"\"\"\n",
    "    N = len(Es)\n",
    "    Epp=np.zeros(N)\n",
    "    Epp[2] = (Es[4]-2*Es[2]+Es[0])\n",
    "    sign = np.sign(Epp[2])\n",
    "    for j in range(3,N-3):\n",
    "        Epp[j] = (Es[j+2]-2*Es[j]+Es[j-2])\n",
    "        if np.sign(Epp[j]) != np.sign(Epp[j-1]):\n",
    "            k = j\n",
    "            wk = abs(Epp[k])\n",
    "            wm = abs(Epp[k-1])\n",
    "            L0 = (L[k]*wk + L[k-1]*wm) / (wk + wm)\n",
    "            if first:\n",
    "                break\n",
    "    if plot:\n",
    "        plt.cla()\n",
    "        plt.plot(Ls, Es)\n",
    "        plt.plot([L0,L0],[Es[k],Es[k-1]], 'o-')\n",
    "        plt.show()\n",
    "    Er = (Es[k]*wk + Es[k-1]*wm) / (wk + wm)\n",
    "    print(\"Er = %f\" % Er)\n",
    "    # need Ep at k and k-1 and the weighted average"
   ]
  },
  {
   "cell_type": "code",
   "execution_count": 52,
   "metadata": {},
   "outputs": [
    {
     "name": "stdout",
     "output_type": "stream",
     "text": [
      "Er = 1.731751\n"
     ]
    }
   ],
   "source": [
    "Maier80_analysis_a(L, run_data[:,1])"
   ]
  },
  {
   "cell_type": "code",
   "execution_count": 39,
   "metadata": {},
   "outputs": [],
   "source": [
    "np.sign?"
   ]
  },
  {
   "cell_type": "code",
   "execution_count": 22,
   "metadata": {},
   "outputs": [],
   "source": [
    "#\n",
    "# copy the 5 lowest states from run_data to stab_data\n",
    "#\n",
    "nEs=5\n",
    "stab_data = run_data[:,0:nEs]\n",
    "#stab_data = np.zeros((n_L,nEs))\n",
    "#i = 0\n",
    "#for i in range(nEs):\n",
    "#    stab_data[:,i] = run_data[:,i]\n",
    "\n",
    "\n",
    "# plot directly vs box-size L    \n",
    "# vs 1/L**1.5 seems to give most linear results \n",
    "# even though it should is should be 1/L**2\n",
    "\n",
    "plt.cla()\n",
    "for i in range(nEs):\n",
    "    plt.plot(L,stab_data[:,i], '-', color='blue')\n",
    "plt.ylim(0,4)\n",
    "plt.show()"
   ]
  },
  {
   "cell_type": "code",
   "execution_count": 30,
   "metadata": {},
   "outputs": [],
   "source": [
    "#\n",
    "# You have to hand-select the L-ranges for your choice of a, b, c,\n",
    "# and grid parameters\n",
    "#\n",
    "# I suggest you put the crossing_j.dat files into a directory \n",
    "# with a useful name\n",
    "#\n",
    "#\n",
    "# better stategy: \n",
    "#  get derivatives along each state \n",
    "#  find inflection points (minimal derivatives) = center of plateaux\n",
    "#  get Er estimate as well as definition of crossings\n",
    "#"
   ]
  },
  {
   "cell_type": "code",
   "execution_count": 26,
   "metadata": {},
   "outputs": [],
   "source": [
    "#\n",
    "fn=\"crossing_1.dat\"\n",
    "#\n",
    "Lmin=10\n",
    "Lmax=20\n",
    "i=0\n",
    "j=1\n",
    "idx_min = np.searchsorted(L, Lmin, side=\"left\")\n",
    "idx_max = np.searchsorted(L, Lmax, side=\"right\")\n",
    "nL = idx_max - idx_min\n",
    "crossing = np.zeros((nL,3))\n",
    "crossing[:,0] = L[idx_min:idx_max]\n",
    "crossing[:,1] = stab_data[idx_min:idx_max,i]\n",
    "crossing[:,2] = stab_data[idx_min:idx_max,j]\n",
    "plt.cla()\n",
    "for i in range(nEs):\n",
    "    plt.plot(L,stab_data[:,i], '-', color='blue')\n",
    "plt.ylim(0,4)\n",
    "plt.plot(crossing[:,0], crossing[:,1], 'o-', color=\"orange\")\n",
    "plt.plot(crossing[:,0], crossing[:,2], 'o-', color=\"orange\")\n",
    "np.savetxt(fn, crossing, fmt='%15.12f', delimiter=' ', header='  L E1 E2', comments='')"
   ]
  },
  {
   "cell_type": "code",
   "execution_count": 29,
   "metadata": {},
   "outputs": [],
   "source": [
    "#\n",
    "fn=\"crossing_2.dat\"\n",
    "#\n",
    "Lmin=19\n",
    "Lmax=28\n",
    "i=1\n",
    "j=2\n",
    "idx_min = np.searchsorted(L, Lmin, side=\"left\")\n",
    "idx_max = np.searchsorted(L, Lmax, side=\"right\")\n",
    "nL = idx_max - idx_min\n",
    "crossing = np.zeros((nL,3))\n",
    "crossing[:,0] = L[idx_min:idx_max]\n",
    "crossing[:,1] = stab_data[idx_min:idx_max,i]\n",
    "crossing[:,2] = stab_data[idx_min:idx_max,j]\n",
    "plt.cla()\n",
    "for i in range(nEs):\n",
    "    plt.plot(L,stab_data[:,i], '-', color='blue')\n",
    "plt.ylim(0,4)\n",
    "plt.plot(crossing[:,0], crossing[:,1], 'o-', color=\"orange\")\n",
    "plt.plot(crossing[:,0], crossing[:,2], 'o-', color=\"orange\")\n",
    "np.savetxt(fn, crossing, fmt='%15.12f', delimiter=' ', header='  L E1 E2', comments='')"
   ]
  },
  {
   "cell_type": "code",
   "execution_count": 28,
   "metadata": {},
   "outputs": [],
   "source": [
    "#\n",
    "fn=\"crossing_3.dat\"\n",
    "#\n",
    "Lmin=20\n",
    "Lmax=23\n",
    "i=3\n",
    "j=4\n",
    "idx_min = np.searchsorted(L, Lmin, side=\"left\")\n",
    "idx_max = np.searchsorted(L, Lmax, side=\"right\")\n",
    "nL = idx_max - idx_min\n",
    "crossing = np.zeros((nL,3))\n",
    "crossing[:,0] = L[idx_min:idx_max]\n",
    "crossing[:,1] = stab_data[idx_min:idx_max,i]\n",
    "crossing[:,2] = stab_data[idx_min:idx_max,j]\n",
    "plt.cla()\n",
    "for i in range(nEs):\n",
    "    plt.plot(L,stab_data[:,i], '-', color='blue')\n",
    "plt.ylim(0,4)\n",
    "plt.plot(crossing[:,0], crossing[:,1], 'o-', color=\"orange\")\n",
    "plt.plot(crossing[:,0], crossing[:,2], 'o-', color=\"orange\")\n",
    "np.savetxt(fn, crossing, fmt='%15.12f', delimiter=' ', header='  L E1 E2', comments='')"
   ]
  },
  {
   "cell_type": "code",
   "execution_count": null,
   "metadata": {},
   "outputs": [],
   "source": []
  }
 ],
 "metadata": {
  "kernelspec": {
   "display_name": "Python 3",
   "language": "python",
   "name": "python3"
  },
  "language_info": {
   "codemirror_mode": {
    "name": "ipython",
    "version": 3
   },
   "file_extension": ".py",
   "mimetype": "text/x-python",
   "name": "python",
   "nbconvert_exporter": "python",
   "pygments_lexer": "ipython3",
   "version": "3.6.9"
  }
 },
 "nbformat": 4,
 "nbformat_minor": 2
}
