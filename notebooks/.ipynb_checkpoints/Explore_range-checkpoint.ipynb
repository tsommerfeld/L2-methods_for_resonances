{
 "cells": [
  {
   "cell_type": "code",
   "execution_count": 2,
   "metadata": {},
   "outputs": [],
   "source": [
    "import numpy as np\n",
    "from scipy.optimize import least_squares\n",
    "#from pandas import Series, DataFrame\n",
    "import pandas as pd\n",
    "import matplotlib\n",
    "import matplotlib.pyplot as plt\n",
    "matplotlib.use('Qt5Agg')\n",
    "%matplotlib qt5\n",
    "#\n",
    "# if pade.py is not in the current directory, set this path:\n",
    "#\n",
    "import sys\n",
    "#sys.path.append('../Python_libs')\n",
    "sys.path.append('../RAC')\n",
    "from rac_aux import *\n",
    "from esel import *"
   ]
  },
  {
   "cell_type": "code",
   "execution_count": 3,
   "metadata": {},
   "outputs": [],
   "source": [
    "#\n",
    "#   only for EOM-like data\n",
    "#\n",
    "Angs2Bohr=1.8897259886\n",
    "au2eV=27.211386027\n",
    "au2cm=219474.63068\n",
    "#\n",
    "#  files in the current directory do not need the path name\n",
    "#\n",
    "fname=\"/home/thomas/Current_Work/N2/RAC/ccage.dat\"\n",
    "\n",
    "zscale=False\n",
    "scale=False\n",
    "delta=False\n",
    "\n",
    "lraw, Eraw = read_data(fname, zscale, scale, delta)\n",
    "Ediab = diabatize(lraw, Eraw, verbose=3, mode=2)\n",
    "\n",
    "nstates = Eraw.shape[1]\n",
    "plot_it=True\n",
    "if plot_it:\n",
    "    plt.cla()\n",
    "    plt.plot(lraw, Ediab[:,0], 'o-')\n",
    "    for i in range(1,nstates):\n",
    "        plt.plot(lraw, Ediab[:,i], '-')\n",
    "    plt.show()"
   ]
  },
  {
   "cell_type": "code",
   "execution_count": 4,
   "metadata": {},
   "outputs": [
    {
     "data": {
      "text/html": [
       "<div>\n",
       "<style scoped>\n",
       "    .dataframe tbody tr th:only-of-type {\n",
       "        vertical-align: middle;\n",
       "    }\n",
       "\n",
       "    .dataframe tbody tr th {\n",
       "        vertical-align: top;\n",
       "    }\n",
       "\n",
       "    .dataframe thead th {\n",
       "        text-align: right;\n",
       "    }\n",
       "</style>\n",
       "<table border=\"1\" class=\"dataframe\">\n",
       "  <thead>\n",
       "    <tr style=\"text-align: right;\">\n",
       "      <th></th>\n",
       "      <th>Q</th>\n",
       "      <th>E1</th>\n",
       "      <th>E2_0</th>\n",
       "      <th>E2_1</th>\n",
       "      <th>E2_2</th>\n",
       "      <th>E0</th>\n",
       "      <th>Eb1</th>\n",
       "      <th>Eb2</th>\n",
       "      <th>Eb3</th>\n",
       "      <th>EA</th>\n",
       "    </tr>\n",
       "  </thead>\n",
       "  <tbody>\n",
       "    <tr>\n",
       "      <th>0</th>\n",
       "      <td>0.00</td>\n",
       "      <td>-43.960411</td>\n",
       "      <td>NaN</td>\n",
       "      <td>NaN</td>\n",
       "      <td>NaN</td>\n",
       "      <td>-43.916012</td>\n",
       "      <td>NaN</td>\n",
       "      <td>NaN</td>\n",
       "      <td>NaN</td>\n",
       "      <td>-1.208151</td>\n",
       "    </tr>\n",
       "    <tr>\n",
       "      <th>1</th>\n",
       "      <td>0.60</td>\n",
       "      <td>-49.247542</td>\n",
       "      <td>-49.214499</td>\n",
       "      <td>-49.202897</td>\n",
       "      <td>-49.146852</td>\n",
       "      <td>-49.079434</td>\n",
       "      <td>0.899138</td>\n",
       "      <td>1.214841</td>\n",
       "      <td>2.739895</td>\n",
       "      <td>-4.574453</td>\n",
       "    </tr>\n",
       "    <tr>\n",
       "      <th>2</th>\n",
       "      <td>0.65</td>\n",
       "      <td>-49.698251</td>\n",
       "      <td>-49.673861</td>\n",
       "      <td>-49.662199</td>\n",
       "      <td>-49.604970</td>\n",
       "      <td>-49.518972</td>\n",
       "      <td>0.663688</td>\n",
       "      <td>0.981038</td>\n",
       "      <td>2.538307</td>\n",
       "      <td>-4.878435</td>\n",
       "    </tr>\n",
       "    <tr>\n",
       "      <th>3</th>\n",
       "      <td>0.70</td>\n",
       "      <td>-50.150376</td>\n",
       "      <td>-50.134885</td>\n",
       "      <td>-50.123132</td>\n",
       "      <td>-50.064752</td>\n",
       "      <td>-49.959805</td>\n",
       "      <td>0.421547</td>\n",
       "      <td>0.741340</td>\n",
       "      <td>2.329946</td>\n",
       "      <td>-5.185717</td>\n",
       "    </tr>\n",
       "    <tr>\n",
       "      <th>4</th>\n",
       "      <td>0.75</td>\n",
       "      <td>-50.603949</td>\n",
       "      <td>-50.597585</td>\n",
       "      <td>-50.585768</td>\n",
       "      <td>-50.526207</td>\n",
       "      <td>-50.401964</td>\n",
       "      <td>0.173161</td>\n",
       "      <td>0.494727</td>\n",
       "      <td>2.115475</td>\n",
       "      <td>-5.496289</td>\n",
       "    </tr>\n",
       "  </tbody>\n",
       "</table>\n",
       "</div>"
      ],
      "text/plain": [
       "      Q         E1       E2_0       E2_1       E2_2         E0       Eb1  \\\n",
       "0  0.00 -43.960411        NaN        NaN        NaN -43.916012       NaN   \n",
       "1  0.60 -49.247542 -49.214499 -49.202897 -49.146852 -49.079434  0.899138   \n",
       "2  0.65 -49.698251 -49.673861 -49.662199 -49.604970 -49.518972  0.663688   \n",
       "3  0.70 -50.150376 -50.134885 -50.123132 -50.064752 -49.959805  0.421547   \n",
       "4  0.75 -50.603949 -50.597585 -50.585768 -50.526207 -50.401964  0.173161   \n",
       "\n",
       "        Eb2       Eb3        EA  \n",
       "0       NaN       NaN -1.208151  \n",
       "1  1.214841  2.739895 -4.574453  \n",
       "2  0.981038  2.538307 -4.878435  \n",
       "3  0.741340  2.329946 -5.185717  \n",
       "4  0.494727  2.115475 -5.496289  "
      ]
     },
     "execution_count": 4,
     "metadata": {},
     "output_type": "execute_result"
    }
   ],
   "source": [
    "########################################################\n",
    "#\n",
    "#  This and the following box for delta-like data like CASSCF\n",
    "#\n",
    "########################################################\n",
    "fname=\"/home/thomas/Current_Work/M3/Be3/PEC/mayTZ/R_2.19.dat\"\n",
    "df = pd.read_csv(fname, delim_whitespace=True)\n",
    "df['Eb1']=(df.E2_0 - df.E1)*au2eV\n",
    "df['Eb2']=(df.E2_1 - df.E1)*au2eV\n",
    "df['Eb3']=(df.E2_2 - df.E1)*au2eV\n",
    "df['EA']=(df.E1 - df.E0)*au2eV\n",
    "plt.cla()\n",
    "#plt.plot(df.Q.values, df.EA.values, 'o-')\n",
    "plt.plot(df.Q.values, df.Eb1.values, 'o-')\n",
    "plt.plot(df.Q.values, df.Eb2.values, 'o-')\n",
    "plt.plot(df.Q.values, df.Eb3.values, 'o-')\n",
    "plt.show()\n",
    "df[:5]"
   ]
  },
  {
   "cell_type": "code",
   "execution_count": 5,
   "metadata": {},
   "outputs": [],
   "source": [
    "lraw=np.copy(df.Q.values[1:])\n",
    "N=len(lraw)\n",
    "Eraw=np.zeros((N,2))\n",
    "Eraw[:,0]=np.copy(df.Eb1.values[1:])\n",
    "Eraw[:,1]=np.copy(df.Eb2.values[1:])\n",
    "Ediab = diabatize(lraw, Eraw, verbose=0, mode=3)\n",
    "plt.cla()\n",
    "plt.plot(lraw, Ediab[:,0], 'o-')\n",
    "plt.plot(lraw, Ediab[:,1], 'o-')\n",
    "plt.show()"
   ]
  },
  {
   "cell_type": "code",
   "execution_count": 6,
   "metadata": {},
   "outputs": [
    {
     "name": "stdout",
     "output_type": "stream",
     "text": [
      "7 29 55\n",
      "-0.5486013181245764 -7.6396850377170304 -17.886257140166975\n"
     ]
    }
   ],
   "source": [
    "Estart=-0.5\n",
    "Estop=-3*2.5\n",
    "Es=Ediab[:,0]\n",
    "jmin=np.argmin(np.abs(Es-Estart))\n",
    "jmax=np.argmin(np.abs(Es-Estop))\n",
    "print(jmin, jmax, N)\n",
    "print(Es[jmin], Es[jmax], Es[-1])"
   ]
  },
  {
   "cell_type": "code",
   "execution_count": null,
   "metadata": {},
   "outputs": [],
   "source": []
  },
  {
   "cell_type": "code",
   "execution_count": 7,
   "metadata": {},
   "outputs": [],
   "source": [
    "#\n",
    "#  So far, nm can be in [21, 31, 32, 42, 53]\n",
    "#\n",
    "nm=31\n",
    "\n",
    "pade_fns = {\"21\":(pade_21_lsq, pade_21j_lsq), \n",
    "            \"31\":(pade_31_lsq, pade_31j_lsq), \n",
    "            \"32\":(pade_32_lsq, pade_32j_lsq),\n",
    "            \"41\":(pade_41_lsq, pade_41j_lsq),\n",
    "            \"42\":(pade_42_lsq, pade_42j_lsq),\n",
    "            \"43\":(pade_43_lsq, pade_43j_lsq),\n",
    "            \"52\":(pade_52_lsq, pade_52j_lsq),\n",
    "            \"53\":(pade_53_lsq, pade_53j_lsq)}\n",
    "\n",
    "fun=pade_fns[str(nm)][0]\n",
    "jac=pade_fns[str(nm)][1]"
   ]
  },
  {
   "cell_type": "code",
   "execution_count": 8,
   "metadata": {},
   "outputs": [
    {
     "data": {
      "text/plain": [
       "[0.95, 0.3410374585039106, 2.331931823383198, 0.5]"
      ]
     },
     "execution_count": 8,
     "metadata": {},
     "output_type": "execute_result"
    }
   ],
   "source": [
    "E0 = 0.75*linear_extra(lraw[jmin:],Es[jmin:])\n",
    "G0 = 0.2*E0\n",
    "p0=[lraw[jmin]] + guess(E0, G0) + [0.5]\n",
    "p0"
   ]
  },
  {
   "cell_type": "code",
   "execution_count": 20,
   "metadata": {},
   "outputs": [],
   "source": [
    "#\n",
    "#  kappas, kappa**2, and sigmas (weights = sigma**2)\n",
    "#  least_squares() passes parg to each pade_nm function\n",
    "#\n",
    "ls=lraw[jmin:]\n",
    "Euse = Es[jmin:]\n",
    "k2s = -Es[jmin:]\n",
    "ks  = np.sqrt(k2s)\n",
    "sigmas = weights(len(ks), 'ones')\n",
    "#sigmas = weights(len(Es), 'energy', E0=Es[11], Es=Es)\n",
    "parg=(ks,k2s,ls,sigmas)"
   ]
  },
  {
   "cell_type": "code",
   "execution_count": 10,
   "metadata": {},
   "outputs": [
    {
     "name": "stdout",
     "output_type": "stream",
     "text": [
      "Least squares, trust-region-reflective (default) with analytic jac\n",
      "njev: 37\n",
      "cost: 2.0446889940590934e-06\n",
      "grad: [ 1.27381486e-09 -1.03193800e-09 -4.85710927e-10 -1.82648833e-10]\n",
      "message: `gtol` termination condition is satisfied.\n",
      "success: True\n",
      "x: [ 8.40442797e-01  5.25010585e-01  1.92570281e+00 -5.82066868e-06]\n",
      "chi2 = 4.089e-06\n",
      "Er=3.632356,  Gamma=2.123173\n"
     ]
    }
   ],
   "source": [
    "print('Least squares, trust-region-reflective (default) with analytic jac')\n",
    "res = least_squares(fun, p0, method='trf', jac=jac, args=parg)\n",
    "print(\"njev:\",res.njev)\n",
    "print(\"cost:\",res.cost)\n",
    "print(\"grad:\",res.grad)\n",
    "print(\"message:\",res.message)\n",
    "print(\"success:\",res.success)\n",
    "print(\"x:\", res.x)\n",
    "print('chi2 = %.3e' % (res.cost*2))\n",
    "print(\"Er=%f,  Gamma=%f\" % res_ene(res.x[1], res.x[2]))"
   ]
  },
  {
   "cell_type": "code",
   "execution_count": 22,
   "metadata": {},
   "outputs": [
    {
     "name": "stdout",
     "output_type": "stream",
     "text": [
      "1.2148405062034897 -17.886257140166975\n",
      " -2.849803     3.574246   2.548693   1.158e-07\n",
      " -2.954160     3.542164   2.668083   1.514e-07\n",
      " -3.086379     3.496382   2.844688   2.350e-07\n",
      " -3.198208     3.677098   2.236106   1.510e-06\n",
      " -3.311246     3.721492   2.074735   2.226e-06\n",
      " -3.425051     3.694465   2.089893   2.768e-06\n",
      " -3.539465     3.672310   2.101794   3.184e-06\n",
      " -3.654481     3.654619   2.110914   3.487e-06\n",
      " -3.770137     3.640976   2.117678   3.691e-06\n",
      " -3.886551     3.630910   2.122485   3.816e-06\n",
      " -4.003696     3.623812   2.125757   3.885e-06\n",
      " -4.121589     3.619216   2.127805   3.918e-06\n",
      " -4.240262     3.616705   2.128887   3.928e-06\n",
      " -4.359710     3.615890   2.129227   3.930e-06\n",
      " -4.479922     3.616453   2.128999   3.930e-06\n",
      " -4.600910     3.618142   2.128336   3.937e-06\n",
      " -4.722650     3.620733   2.127348   3.953e-06\n",
      " -4.845153     3.624061   2.126115   3.983e-06\n",
      " -4.968405     3.627974   2.124706   4.028e-06\n"
     ]
    }
   ],
   "source": [
    "Ers = []\n",
    "Gs = []\n",
    "chi2s = []\n",
    "print(Es[0],Es[-1])\n",
    "for j in range(jmax,len(ls)):\n",
    "    parg=(ks[:j], k2s[:j], ls[:j], sigmas[:j])\n",
    "    res = least_squares(fun, p0, method='trf', jac=jac, args=parg)\n",
    "    chi2s.append(res.cost*2)\n",
    "    Er, G = res_ene(res.x[1], res.x[2])\n",
    "    print(\"%10f   %10f %10f   %.3e\" % (Euse[j]/3.6, Er, G, res.cost*2))\n",
    "    Ers.append(Er)\n",
    "    Gs.append(G)"
   ]
  },
  {
   "cell_type": "code",
   "execution_count": 19,
   "metadata": {},
   "outputs": [
    {
     "data": {
      "text/plain": [
       "0.95"
      ]
     },
     "execution_count": 19,
     "metadata": {},
     "output_type": "execute_result"
    }
   ],
   "source": []
  },
  {
   "cell_type": "code",
   "execution_count": 23,
   "metadata": {},
   "outputs": [
    {
     "name": "stdout",
     "output_type": "stream",
     "text": [
      "All weights equal:  chi2 = 4.028e-06  Er=3.627974,  Gamma=2.124706\n",
      "Filter E =   1.21:  chi2 = 4.028e-06  Er=3.627974,  Gamma=2.124706\n",
      "Filter E =  -2.25:  chi2 = 4.028e-06  Er=3.627974,  Gamma=2.124706\n",
      "Filter E =  -6.91:  chi2 = 4.028e-06  Er=3.627974,  Gamma=2.124706\n",
      "Filter E = -12.33:  chi2 = 4.028e-06  Er=3.627974,  Gamma=2.124706\n",
      "Filter E = -17.89:  chi2 = 4.028e-06  Er=3.627974,  Gamma=2.124706\n"
     ]
    }
   ],
   "source": [
    "#\n",
    "# swipe energy filter \n",
    "#\n",
    "M=len(Es)\n",
    "sigmas = weights(M, 'ones')\n",
    "res = least_squares(fun, p0, method='trf', jac=jac, args=parg)\n",
    "Er, G = res_ene(res.x[1], res.x[2])\n",
    "print('All weights equal:  chi2 = %.3e  Er=%f,  Gamma=%f' % (res.cost*2, Er, G))\n",
    "M=len(Es)\n",
    "for n in [0, M//4, M//2, 3*M//4, M-1]:\n",
    "    sigmas = weights(M, 'energy', E0=Es[n], Es=Es)\n",
    "    res = least_squares(fun, p0, method='trf', jac=jac, args=parg)\n",
    "    Er, G = res_ene(res.x[1], res.x[2])\n",
    "    print('Filter E = %6.2f:  chi2 = %.3e  Er=%f,  Gamma=%f' % (Es[n], res.cost*2, Er, G))"
   ]
  },
  {
   "cell_type": "code",
   "execution_count": null,
   "metadata": {},
   "outputs": [],
   "source": []
  }
 ],
 "metadata": {
  "kernelspec": {
   "display_name": "Python 3",
   "language": "python",
   "name": "python3"
  },
  "language_info": {
   "codemirror_mode": {
    "name": "ipython",
    "version": 3
   },
   "file_extension": ".py",
   "mimetype": "text/x-python",
   "name": "python",
   "nbconvert_exporter": "python",
   "pygments_lexer": "ipython3",
   "version": "3.6.9"
  }
 },
 "nbformat": 4,
 "nbformat_minor": 4
}
