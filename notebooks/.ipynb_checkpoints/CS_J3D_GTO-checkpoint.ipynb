{
 "cells": [
  {
   "cell_type": "code",
   "execution_count": 1,
   "metadata": {},
   "outputs": [],
   "source": [
    "import numpy as np\n",
    "#import scipy.special\n",
    "from scipy.linalg import eigh      # symmetric or hermitian\n",
    "from scipy.linalg import eigvalsh  # symmetric or hermitian\n",
    "from scipy.linalg import eig       # general\n",
    "from scipy.linalg import eigvals   # general\n",
    "import matplotlib\n",
    "import matplotlib.pyplot as plt\n",
    "matplotlib.use('Qt5Agg')\n",
    "%matplotlib qt5\n",
    "#\n",
    "#  extend path by location of the dvr package\n",
    "#\n",
    "import sys\n",
    "sys.path.append('/home/thomas/Current_Work/Jolanta-by-dvr/Python_libs')\n",
    "import dvr\n",
    "import jolanta"
   ]
  },
  {
   "cell_type": "code",
   "execution_count": 2,
   "metadata": {},
   "outputs": [],
   "source": [
    "amu_to_au=1822.888486192\n",
    "au2cm=219474.63068\n",
    "au2eV=27.211386027\n",
    "Angs2Bohr=1.8897259886"
   ]
  },
  {
   "cell_type": "code",
   "execution_count": 3,
   "metadata": {},
   "outputs": [
    {
     "name": "stdout",
     "output_type": "stream",
     "text": [
      "              alpha           N          <r>         r_max\n",
      "  0        2.500000e+01   2.825e+01     0.63831     0.14142\n",
      "  1        1.250000e+01   1.680e+01     0.90270     0.20000\n",
      "  2        6.250000e+00   9.987e+00     1.27662     0.28284\n",
      "  3        3.125000e+00   5.938e+00     1.80541     0.40000\n",
      "  4        1.562500e+00   3.531e+00     2.55323     0.56569\n",
      "  5        7.812500e-01   2.099e+00     3.61081     0.80000\n",
      "  6        3.906250e-01   1.248e+00     5.10646     1.13137\n",
      "  7        1.953125e-01   7.423e-01     7.22163     1.60000\n",
      "  8        9.765625e-02   4.414e-01    10.21292     2.26274\n",
      "  9        4.882812e-02   2.624e-01    14.44325     3.20000\n",
      " 10        2.441406e-02   1.560e-01    20.42584     4.52548\n",
      " 11        1.220703e-02   9.278e-02    28.88651     6.40000\n",
      " 12        6.103516e-03   5.517e-02    40.85169     9.05097\n",
      " 13        3.051758e-03   3.280e-02    57.77301    12.80000\n",
      " 14        1.525879e-03   1.951e-02    81.70338    18.10193\n",
      " 15        7.629395e-04   1.160e-02   115.54603    25.60000\n"
     ]
    }
   ],
   "source": [
    "#\n",
    "# create an even scaled GTO basis set:  r^l*exp(-a_i*r^2)\n",
    "#\n",
    "l=1      # l-functions\n",
    "r0=0.2  # tightest alpha = 1/r0/r0\n",
    "even_scale = 2.0\n",
    "n_basis = 16\n",
    "\n",
    "alphas = np.zeros(n_basis)  # exponents\n",
    "Ns = np.zeros(n_basis)  # normalization constants N_i = 1/sqrt(S_ii)\n",
    "Res = np.zeros(n_basis) # r-expectation values\n",
    "Rms = np.zeros(n_basis) # max(GTO) = sqrt(l/2/a)\n",
    "\n",
    "print(\"              alpha           N          <r>         r_max\")\n",
    "alphas[0] = 1/r0/r0\n",
    "for i in range(n_basis):\n",
    "    if i > 0:\n",
    "        alphas[i] = alphas[i-1]/even_scale\n",
    "    Ns[i] = jolanta.S_12(alphas[i], alphas[i], l, l)**(-0.5)\n",
    "    Res[i] = Ns[i]*Ns[i] * jolanta.gto_integral_0_inf(alphas[i], n=2*l+1)\n",
    "    Rms[i] = np.sqrt(0.5*l/alphas[i])\n",
    "    print(\"%3d     %15.6e  %10.3e  %10.5f  %10.5f\" \n",
    "          % (i, alphas[i], Ns[i], Res[i], Rms[i]))"
   ]
  },
  {
   "cell_type": "code",
   "execution_count": 4,
   "metadata": {},
   "outputs": [
    {
     "name": "stdout",
     "output_type": "stream",
     "text": [
      "         alpha             <S>          <T>         <V>\n",
      "  0    2.500000e+01    1.0000e+00      37.5000000      98.8065761\n",
      "  1    1.250000e+01    1.0000e+00      18.7500000      48.8131046\n",
      "  2    6.250000e+00    1.0000e+00       9.3750000      23.8260207\n",
      "  3    3.125000e+00    1.0000e+00       4.6875000      11.3513008\n",
      "  4    1.562500e+00    1.0000e+00       2.3437500       5.1497442\n",
      "  5    7.812500e-01    1.0000e+00       1.1718750       2.1138344\n",
      "  6    3.906250e-01    1.0000e+00       0.5859375       0.7029248\n",
      "  7    1.953125e-01    1.0000e+00       0.2929688       0.1459439\n",
      "  8    9.765625e-02    1.0000e+00       0.1464844       0.0183891\n",
      "  9    4.882812e-02    1.0000e+00       0.0732422       0.0421234\n",
      " 10    2.441406e-02    1.0000e+00       0.0366211       0.0615516\n",
      " 11    1.220703e-02    1.0000e+00       0.0183105       0.0493194\n",
      " 12    6.103516e-03    1.0000e+00       0.0091553       0.0293233\n",
      " 13    3.051758e-03    1.0000e+00       0.0045776       0.0151556\n",
      " 14    1.525879e-03    1.0000e+00       0.0022888       0.0074060\n",
      " 15    7.629395e-04    1.0000e+00       0.0011444       0.0035630\n",
      "\n",
      "max(eigenvalue(S)) =  6.104e+00\n",
      "min(eigenvalue(S)) =  1.239e-04\n"
     ]
    }
   ],
   "source": [
    "my_a = 0.1 \n",
    "my_b = 1.2 \n",
    "my_c = 0.1\n",
    "\n",
    "S=np.zeros((n_basis,n_basis))\n",
    "T=np.zeros((n_basis,n_basis))\n",
    "V=np.zeros((n_basis,n_basis))\n",
    "\n",
    "for i in range(n_basis):\n",
    "    a1=alphas[i]\n",
    "    N1=Ns[i]\n",
    "    S[i,i] = N1*N1*jolanta.S_12(a1, a1, l, l)\n",
    "    T[i,i] = N1*N1*jolanta.T_12(a1, a1, l, l)\n",
    "    V[i,i] = N1*N1*jolanta.V_12(a1, a1, l, l, a=my_a, b=my_b, c=my_c)\n",
    "    for j in range(i):\n",
    "        a2 = alphas[j]\n",
    "        N2=Ns[j]\n",
    "        S[i,j] = S[j,i] = N1*N2*jolanta.S_12(a1, a2, l, l)\n",
    "        T[i,j] = T[j,i] = N1*N2*jolanta.T_12(a1, a2, l, l)\n",
    "        V[i,j] = V[j,i] = N1*N2*jolanta.V_12(a1, a2, l, l, a=my_a, b=my_b, c=my_c)\n",
    "if n_basis < 6:\n",
    "    print(S)\n",
    "    print(T)\n",
    "    print(V)\n",
    "print\n",
    "print(\"         alpha             <S>          <T>         <V>\")\n",
    "for i in range(n_basis):\n",
    "    print(\"%3d %15.6e  %12.4e  %14.7f  %14.7f\" \n",
    "          % (i, alphas[i], S[i,i], T[i,i], V[i,i]))\n",
    "\n",
    "Sev = eigvalsh(S)\n",
    "print(\"\\nmax(eigenvalue(S)) = %10.3e\" % np.max(Sev))\n",
    "print(\"min(eigenvalue(S)) = %10.3e\" % np.min(Sev))"
   ]
  },
  {
   "cell_type": "code",
   "execution_count": 7,
   "metadata": {},
   "outputs": [
    {
     "name": "stdout",
     "output_type": "stream",
     "text": [
      " 0      0.045380\n",
      " 1      0.156202\n",
      " 2      0.392286\n",
      " 3      0.887095\n",
      " 4      1.637659\n",
      " 5      2.346056\n",
      " 6      5.122665\n",
      " 7     11.414588\n",
      " 8     22.924310\n",
      " 9     46.748254\n",
      "10     98.751525\n",
      "11    211.354917\n",
      "12    444.907899\n",
      "13    951.138698\n",
      "14   1981.612653\n",
      "15   7424.525454\n"
     ]
    }
   ],
   "source": [
    "es, cs = eigh(T+V, b=S)\n",
    "for i in range(n_basis):\n",
    "    print(\"%2d  %12.6f\" % (i,es[i]*au2eV))\n"
   ]
  },
  {
   "cell_type": "code",
   "execution_count": 21,
   "metadata": {},
   "outputs": [],
   "source": [
    "rs=np.logspace(-1, 2, num=200)\n",
    "Vplot=jolanta.Jolanta_3D(rs, a=my_a, b=my_b, c=my_c)\n",
    "n_es=7\n",
    "mos=jolanta.eval_mos(rs, cs[:,0:n_es+1], alphas, Ns, l)\n",
    "\n",
    "plt.cla()\n",
    "plt.ylim(es[0]*au2eV-1, 10)\n",
    "plt.xscale('log')\n",
    "plt.plot(rs,Vplot*au2eV, '-', color=\"black\")\n",
    "gscale=20\n",
    "for i in range(n_es):\n",
    "    #plt.plot(rs, mos[:,i], '-', color=\"blue\")\n",
    "    plt.plot(rs, gscale*mos[:,i]**2+es[i]*au2eV, '-', color=\"blue\")\n",
    "plt.show()"
   ]
  },
  {
   "cell_type": "code",
   "execution_count": null,
   "metadata": {},
   "outputs": [],
   "source": [
    "\"\"\" complex diagonalization example \"\"\"\n",
    "\n",
    "theta=40.0/180.0*np.pi\n",
    "\n",
    "#\n",
    "#\n",
    "#   V_12 needs an optional theta argument!\n",
    "#\n",
    "#\n",
    "\n",
    "Vs = Jolanta_3D(rs*np.exp(1j*complex(theta)), a=my_a, b=my_b, c=my_c, l=1)\n",
    "\n",
    "\n",
    "for i in range(n_basis):\n",
    "    a1=alphas[i]\n",
    "    N1=Ns[i]\n",
    "    V[i,i] = N1*N1*jolanta.V_12(a1, a1, l, l, a=my_a, b=my_b, c=my_c)\n",
    "    for j in range(i):\n",
    "        a2 = alphas[j]\n",
    "        N2=Ns[j]\n",
    "        V[i,j] = V[j,i] = N1*N2*jolanta.V_12(a1, a2, l, l, a=my_a, b=my_b, c=my_c)\n",
    "\n",
    "\n",
    "\n",
    "\n",
    "\n",
    "H_theta = np.exp(-2j*complex(theta)) * Ts + np.diag(Vs)\n",
    "energies = eigvals(H_theta)\n",
    "energies.sort()\n",
    "energies[:10]*au2eV"
   ]
  }
 ],
 "metadata": {
  "kernelspec": {
   "display_name": "Python 3",
   "language": "python",
   "name": "python3"
  },
  "language_info": {
   "codemirror_mode": {
    "name": "ipython",
    "version": 3
   },
   "file_extension": ".py",
   "mimetype": "text/x-python",
   "name": "python",
   "nbconvert_exporter": "python",
   "pygments_lexer": "ipython3",
   "version": "3.6.9"
  }
 },
 "nbformat": 4,
 "nbformat_minor": 2
}
