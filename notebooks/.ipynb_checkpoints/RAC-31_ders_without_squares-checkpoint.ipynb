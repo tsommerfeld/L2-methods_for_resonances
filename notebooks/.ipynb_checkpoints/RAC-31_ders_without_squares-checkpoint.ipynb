{
 "cells": [
  {
   "cell_type": "code",
   "execution_count": 1,
   "metadata": {},
   "outputs": [
    {
     "name": "stdout",
     "output_type": "stream",
     "text": [
      "IPython console for SymPy 1.5.1 (Python 3.6.9-64-bit) (ground types: gmpy)\n",
      "\n",
      "These commands were executed:\n",
      ">>> from __future__ import division\n",
      ">>> from sympy import *\n",
      ">>> x, y, z, t = symbols('x y z t')\n",
      ">>> k, m, n = symbols('k m n', integer=True)\n",
      ">>> f, g, h = symbols('f g h', cls=Function)\n",
      ">>> init_printing()\n",
      "\n",
      "Documentation can be found at https://docs.sympy.org/1.5.1/\n",
      "\n"
     ]
    }
   ],
   "source": [
    "from sympy import init_session\n",
    "init_session()"
   ]
  },
  {
   "cell_type": "code",
   "execution_count": 2,
   "metadata": {},
   "outputs": [],
   "source": [
    "init_printing?"
   ]
  },
  {
   "cell_type": "code",
   "execution_count": 3,
   "metadata": {},
   "outputs": [],
   "source": [
    "# this is for rac[3,1]\n",
    "a, b, d, k, l0 = symbols('a b d k, l0')"
   ]
  },
  {
   "cell_type": "code",
   "execution_count": 4,
   "metadata": {},
   "outputs": [
    {
     "data": {
      "image/png": "[encoded data removed]",
      "text/latex": [
       "$\\displaystyle \\frac{l_{0} \\left(d^{2} k + 1\\right) \\left(a^{4} + 2 a^{2} k + b^{2} + k^{2}\\right)}{a^{4} d^{2} k + a^{4} + 2 a^{2} k + b^{2} d^{2} k + b^{2}}$"
      ],
      "text/plain": [
       "   ⎛ 2      ⎞ ⎛ 4      2      2    2⎞\n",
       "l₀⋅⎝d ⋅k + 1⎠⋅⎝a  + 2⋅a ⋅k + b  + k ⎠\n",
       "─────────────────────────────────────\n",
       "  4  2      4      2      2  2      2\n",
       " a ⋅d ⋅k + a  + 2⋅a ⋅k + b ⋅d ⋅k + b "
      ]
     },
     "execution_count": 4,
     "metadata": {},
     "output_type": "execute_result"
    }
   ],
   "source": [
    "f = k**2 + 2*a**2*k + a**4 + b**2\n",
    "g = 1 + d**2*k\n",
    "h = a**4 + b**2 + 2*a**2*k + d**2*a**4*k + d**2*b**2*k\n",
    "y = l0*f*g/h\n",
    "y"
   ]
  },
  {
   "cell_type": "code",
   "execution_count": 12,
   "metadata": {},
   "outputs": [
    {
     "data": {
      "image/png": "[encoded data removed]",
      "text/latex": [
       "$\\displaystyle \\frac{l_{0} \\left(4 a^{3} + 4 a k\\right) \\left(d^{2} k + 1\\right)}{a^{4} d^{2} k + a^{4} + 2 a^{2} k + b^{2} d^{2} k + b^{2}} + \\frac{l_{0} \\left(d^{2} k + 1\\right) \\left(- 4 a^{3} d^{2} k - 4 a^{3} - 4 a k\\right) \\left(a^{4} + 2 a^{2} k + b^{2} + k^{2}\\right)}{\\left(a^{4} d^{2} k + a^{4} + 2 a^{2} k + b^{2} d^{2} k + b^{2}\\right)^{2}}$"
      ],
      "text/plain": [
       "       ⎛   3        ⎞ ⎛ 2      ⎞          ⎛ 2      ⎞ ⎛     3  2        3      \n",
       "    l₀⋅⎝4⋅a  + 4⋅a⋅k⎠⋅⎝d ⋅k + 1⎠       l₀⋅⎝d ⋅k + 1⎠⋅⎝- 4⋅a ⋅d ⋅k - 4⋅a  - 4⋅a\n",
       "──────────────────────────────────── + ───────────────────────────────────────\n",
       " 4  2      4      2      2  2      2                                          \n",
       "a ⋅d ⋅k + a  + 2⋅a ⋅k + b ⋅d ⋅k + b                 ⎛ 4  2      4      2      \n",
       "                                                    ⎝a ⋅d ⋅k + a  + 2⋅a ⋅k + b\n",
       "\n",
       "  ⎞ ⎛ 4      2      2    2⎞\n",
       "⋅k⎠⋅⎝a  + 2⋅a ⋅k + b  + k ⎠\n",
       "───────────────────────────\n",
       "            2              \n",
       "2  2      2⎞               \n",
       " ⋅d ⋅k + b ⎠               "
      ]
     },
     "execution_count": 12,
     "metadata": {},
     "output_type": "execute_result"
    }
   ],
   "source": [
    "# implicit\n",
    "diff(y,a)"
   ]
  },
  {
   "cell_type": "code",
   "execution_count": 14,
   "metadata": {},
   "outputs": [
    {
     "data": {
      "image/png": "[encoded data removed]",
      "text/latex": [
       "$\\displaystyle - \\frac{4 a k^{2} l_{0} \\left(d^{2} k + 1\\right) \\left(a^{4} d^{2} + a^{2} d^{2} k + a^{2} - b^{2} d^{2} + k\\right)}{\\left(a^{4} d^{2} k + a^{4} + 2 a^{2} k + b^{2} d^{2} k + b^{2}\\right)^{2}}$"
      ],
      "text/plain": [
       "      2    ⎛ 2      ⎞ ⎛ 4  2    2  2      2    2  2    ⎞ \n",
       "-4⋅a⋅k ⋅l₀⋅⎝d ⋅k + 1⎠⋅⎝a ⋅d  + a ⋅d ⋅k + a  - b ⋅d  + k⎠ \n",
       "─────────────────────────────────────────────────────────\n",
       "                                               2         \n",
       "         ⎛ 4  2      4      2      2  2      2⎞          \n",
       "         ⎝a ⋅d ⋅k + a  + 2⋅a ⋅k + b ⋅d ⋅k + b ⎠          "
      ]
     },
     "execution_count": 14,
     "metadata": {},
     "output_type": "execute_result"
    }
   ],
   "source": [
    "# explicit:\n",
    "dfda=diff(f,a)\n",
    "dhda=diff(h,a)\n",
    "dyda = l0 * (dfda*g*h - dhda*f*g)/h**2\n",
    "dyda.factor()"
   ]
  },
  {
   "cell_type": "code",
   "execution_count": 6,
   "metadata": {},
   "outputs": [
    {
     "data": {
      "image/png": "[encoded data removed]",
      "text/latex": [
       "$\\displaystyle \\frac{\\left(d^{2} k + 1\\right) \\left(a^{4} + 2 a^{2} k + b^{2} + k^{2}\\right)}{a^{4} + b^{2} + k \\left(2 a^{2} + d^{2} \\left(a^{4} + b^{2}\\right)\\right)}$"
      ],
      "text/plain": [
       "⎛ 2      ⎞ ⎛ 4      2      2    2⎞\n",
       "⎝d ⋅k + 1⎠⋅⎝a  + 2⋅a ⋅k + b  + k ⎠\n",
       "──────────────────────────────────\n",
       " 4    2     ⎛   2    2 ⎛ 4    2⎞⎞ \n",
       "a  + b  + k⋅⎝2⋅a  + d ⋅⎝a  + b ⎠⎠ "
      ]
     },
     "execution_count": 6,
     "metadata": {},
     "output_type": "execute_result"
    }
   ],
   "source": [
    "diff(f,l0)"
   ]
  },
  {
   "cell_type": "code",
   "execution_count": 7,
   "metadata": {},
   "outputs": [
    {
     "data": {
      "image/png": "[encoded data removed]",
      "text/latex": [
       "$\\displaystyle - \\frac{4 a k^{2} l_{0} \\left(d^{2} k + 1\\right) \\left(a^{4} d^{2} + a^{2} d^{2} k + a^{2} - b^{2} d^{2} + k\\right)}{\\left(a^{4} d^{2} k + a^{4} + 2 a^{2} k + b^{2} d^{2} k + b^{2}\\right)^{2}}$"
      ],
      "text/plain": [
       "      2    ⎛ 2      ⎞ ⎛ 4  2    2  2      2    2  2    ⎞ \n",
       "-4⋅a⋅k ⋅l₀⋅⎝d ⋅k + 1⎠⋅⎝a ⋅d  + a ⋅d ⋅k + a  - b ⋅d  + k⎠ \n",
       "─────────────────────────────────────────────────────────\n",
       "                                               2         \n",
       "         ⎛ 4  2      4      2      2  2      2⎞          \n",
       "         ⎝a ⋅d ⋅k + a  + 2⋅a ⋅k + b ⋅d ⋅k + b ⎠          "
      ]
     },
     "execution_count": 7,
     "metadata": {},
     "output_type": "execute_result"
    }
   ],
   "source": [
    "da=diff(f,a)\n",
    "da.factor()"
   ]
  },
  {
   "cell_type": "code",
   "execution_count": 7,
   "metadata": {},
   "outputs": [
    {
     "data": {
      "text/latex": [
       "$\\displaystyle - \\frac{2 b k^{2} l_{0} \\left(d^{2} k + 1\\right) \\left(2 a^{2} d^{2} + d^{2} k + 1\\right)}{\\left(a^{4} d^{2} k + a^{4} + 2 a^{2} k + b^{2} d^{2} k + b^{2}\\right)^{2}}$"
      ],
      "text/plain": [
       "-2*b*k**2*l0*(d**2*k + 1)*(2*a**2*d**2 + d**2*k + 1)/(a**4*d**2*k + a**4 + 2*a**2*k + b**2*d**2*k + b**2)**2"
      ]
     },
     "execution_count": 7,
     "metadata": {},
     "output_type": "execute_result"
    }
   ],
   "source": [
    "db=diff(f,b)\n",
    "db.factor()"
   ]
  },
  {
   "cell_type": "code",
   "execution_count": 16,
   "metadata": {},
   "outputs": [
    {
     "data": {
      "text/latex": [
       "$\\displaystyle \\frac{4 a^{2} d k^{2} l_{0} \\left(a^{4} + 2 a^{2} k + b^{2} + k^{2}\\right)}{\\left(a^{4} d^{2} k + a^{4} + 2 a^{2} k + b^{2} d^{2} k + b^{2}\\right)^{2}}$"
      ],
      "text/plain": [
       "4*a**2*d*k**2*l0*(a**4 + 2*a**2*k + b**2 + k**2)/(a**4*d**2*k + a**4 + 2*a**2*k + b**2*d**2*k + b**2)**2"
      ]
     },
     "execution_count": 16,
     "metadata": {},
     "output_type": "execute_result"
    }
   ],
   "source": [
    "dd=diff(f,d)\n",
    "dd.factor()"
   ]
  },
  {
   "cell_type": "code",
   "execution_count": 11,
   "metadata": {},
   "outputs": [
    {
     "data": {
      "text/plain": [
       "'l0*(d**2*k + 1)*(a**4 + 2*a**2*k + b**2 + k**2)/(a**4*d**2*k + a**4 + 2*a**2*k + b**2*d**2*k + b**2)'"
      ]
     },
     "execution_count": 11,
     "metadata": {},
     "output_type": "execute_result"
    }
   ],
   "source": [
    "printing.sstrrepr(f.factor())"
   ]
  },
  {
   "cell_type": "code",
   "execution_count": 12,
   "metadata": {},
   "outputs": [
    {
     "data": {
      "text/plain": [
       "'(d**2*k + 1)*(a**4 + 2*a**2*k + b**2 + k**2)/(a**4*d**2*k + a**4 + 2*a**2*k + b**2*d**2*k + b**2)'"
      ]
     },
     "execution_count": 12,
     "metadata": {},
     "output_type": "execute_result"
    }
   ],
   "source": [
    "printing.sstrrepr(diff(f,l0).factor())"
   ]
  },
  {
   "cell_type": "code",
   "execution_count": 13,
   "metadata": {},
   "outputs": [
    {
     "data": {
      "text/plain": [
       "'-4*a*k**2*l0*(d**2*k + 1)*(a**4*d**2 + a**2*d**2*k + a**2 - b**2*d**2 + k)/(a**4*d**2*k + a**4 + 2*a**2*k + b**2*d**2*k + b**2)**2'"
      ]
     },
     "execution_count": 13,
     "metadata": {},
     "output_type": "execute_result"
    }
   ],
   "source": [
    "printing.sstrrepr(da.factor())"
   ]
  },
  {
   "cell_type": "code",
   "execution_count": 14,
   "metadata": {},
   "outputs": [
    {
     "data": {
      "text/plain": [
       "'-2*b*k**2*l0*(d**2*k + 1)*(2*a**2*d**2 + d**2*k + 1)/(a**4*d**2*k + a**4 + 2*a**2*k + b**2*d**2*k + b**2)**2'"
      ]
     },
     "execution_count": 14,
     "metadata": {},
     "output_type": "execute_result"
    }
   ],
   "source": [
    "printing.sstrrepr(db.factor())"
   ]
  },
  {
   "cell_type": "code",
   "execution_count": 17,
   "metadata": {},
   "outputs": [
    {
     "data": {
      "text/plain": [
       "'4*a**2*d*k**2*l0*(a**4 + 2*a**2*k + b**2 + k**2)/(a**4*d**2*k + a**4 + 2*a**2*k + b**2*d**2*k + b**2)**2'"
      ]
     },
     "execution_count": 17,
     "metadata": {},
     "output_type": "execute_result"
    }
   ],
   "source": [
    "printing.sstrrepr(dd.factor())"
   ]
  },
  {
   "cell_type": "code",
   "execution_count": null,
   "metadata": {},
   "outputs": [],
   "source": []
  }
 ],
 "metadata": {
  "kernelspec": {
   "display_name": "Python 3",
   "language": "python",
   "name": "python3"
  },
  "language_info": {
   "codemirror_mode": {
    "name": "ipython",
    "version": 3
   },
   "file_extension": ".py",
   "mimetype": "text/x-python",
   "name": "python",
   "nbconvert_exporter": "python",
   "pygments_lexer": "ipython3",
   "version": "3.6.9"
  }
 },
 "nbformat": 4,
 "nbformat_minor": 2
}
