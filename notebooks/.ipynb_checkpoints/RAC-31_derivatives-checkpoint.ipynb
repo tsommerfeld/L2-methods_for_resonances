{
 "cells": [
  {
   "cell_type": "code",
   "execution_count": null,
   "metadata": {},
   "outputs": [],
   "source": [
    "from sympy import init_session\n",
    "init_session()"
   ]
  },
  {
   "cell_type": "code",
   "execution_count": 8,
   "metadata": {},
   "outputs": [],
   "source": [
    "init_printing?"
   ]
  },
  {
   "cell_type": "code",
   "execution_count": 2,
   "metadata": {},
   "outputs": [],
   "source": [
    "# this is for rac[3,1]\n",
    "a, b, d, k, l0 = symbols('a b d k, l0')"
   ]
  },
  {
   "cell_type": "code",
   "execution_count": 3,
   "metadata": {},
   "outputs": [
    {
     "data": {
      "text/latex": [
       "$\\displaystyle \\frac{l_{0} \\left(d^{2} k + 1\\right) \\left(a^{4} + 2 a^{2} k + b^{2} + k^{2}\\right)}{a^{4} + b^{2} + k \\left(2 a^{2} + d^{2} \\left(a^{4} + b^{2}\\right)\\right)}$"
      ],
      "text/plain": [
       "l0*(d**2*k + 1)*(a**4 + 2*a**2*k + b**2 + k**2)/(a**4 + b**2 + k*(2*a**2 + d**2*(a**4 + b**2)))"
      ]
     },
     "execution_count": 3,
     "metadata": {},
     "output_type": "execute_result"
    }
   ],
   "source": [
    "f=l0*(k**2 +2*a**2*k + a**4+b**2)*(1+d**2*k)/(a**4 + b**2 + k*(2*a**2 + d**2*(a**4+b**2)))\n",
    "f"
   ]
  },
  {
   "cell_type": "code",
   "execution_count": 4,
   "metadata": {},
   "outputs": [
    {
     "data": {
      "text/latex": [
       "$\\displaystyle \\frac{l_{0} \\left(d^{2} k + 1\\right) \\left(a^{4} + 2 a^{2} k + b^{2} + k^{2}\\right)}{a^{4} d^{2} k + a^{4} + 2 a^{2} k + b^{2} d^{2} k + b^{2}}$"
      ],
      "text/plain": [
       "l0*(d**2*k + 1)*(a**4 + 2*a**2*k + b**2 + k**2)/(a**4*d**2*k + a**4 + 2*a**2*k + b**2*d**2*k + b**2)"
      ]
     },
     "execution_count": 4,
     "metadata": {},
     "output_type": "execute_result"
    }
   ],
   "source": [
    "f.factor()"
   ]
  },
  {
   "cell_type": "code",
   "execution_count": 5,
   "metadata": {},
   "outputs": [
    {
     "data": {
      "text/latex": [
       "$\\displaystyle \\frac{\\left(d^{2} k + 1\\right) \\left(a^{4} + 2 a^{2} k + b^{2} + k^{2}\\right)}{a^{4} + b^{2} + k \\left(2 a^{2} + d^{2} \\left(a^{4} + b^{2}\\right)\\right)}$"
      ],
      "text/plain": [
       "(d**2*k + 1)*(a**4 + 2*a**2*k + b**2 + k**2)/(a**4 + b**2 + k*(2*a**2 + d**2*(a**4 + b**2)))"
      ]
     },
     "execution_count": 5,
     "metadata": {},
     "output_type": "execute_result"
    }
   ],
   "source": [
    "diff(f,l0)"
   ]
  },
  {
   "cell_type": "code",
   "execution_count": 6,
   "metadata": {},
   "outputs": [
    {
     "data": {
      "text/latex": [
       "$\\displaystyle - \\frac{4 a k^{2} l_{0} \\left(d^{2} k + 1\\right) \\left(a^{4} d^{2} + a^{2} d^{2} k + a^{2} - b^{2} d^{2} + k\\right)}{\\left(a^{4} d^{2} k + a^{4} + 2 a^{2} k + b^{2} d^{2} k + b^{2}\\right)^{2}}$"
      ],
      "text/plain": [
       "-4*a*k**2*l0*(d**2*k + 1)*(a**4*d**2 + a**2*d**2*k + a**2 - b**2*d**2 + k)/(a**4*d**2*k + a**4 + 2*a**2*k + b**2*d**2*k + b**2)**2"
      ]
     },
     "execution_count": 6,
     "metadata": {},
     "output_type": "execute_result"
    }
   ],
   "source": [
    "da=diff(f,a)\n",
    "da.factor()"
   ]
  },
  {
   "cell_type": "code",
   "execution_count": 7,
   "metadata": {},
   "outputs": [
    {
     "data": {
      "text/latex": [
       "$\\displaystyle - \\frac{2 b k^{2} l_{0} \\left(d^{2} k + 1\\right) \\left(2 a^{2} d^{2} + d^{2} k + 1\\right)}{\\left(a^{4} d^{2} k + a^{4} + 2 a^{2} k + b^{2} d^{2} k + b^{2}\\right)^{2}}$"
      ],
      "text/plain": [
       "-2*b*k**2*l0*(d**2*k + 1)*(2*a**2*d**2 + d**2*k + 1)/(a**4*d**2*k + a**4 + 2*a**2*k + b**2*d**2*k + b**2)**2"
      ]
     },
     "execution_count": 7,
     "metadata": {},
     "output_type": "execute_result"
    }
   ],
   "source": [
    "db=diff(f,b)\n",
    "db.factor()"
   ]
  },
  {
   "cell_type": "code",
   "execution_count": 16,
   "metadata": {},
   "outputs": [
    {
     "data": {
      "text/latex": [
       "$\\displaystyle \\frac{4 a^{2} d k^{2} l_{0} \\left(a^{4} + 2 a^{2} k + b^{2} + k^{2}\\right)}{\\left(a^{4} d^{2} k + a^{4} + 2 a^{2} k + b^{2} d^{2} k + b^{2}\\right)^{2}}$"
      ],
      "text/plain": [
       "4*a**2*d*k**2*l0*(a**4 + 2*a**2*k + b**2 + k**2)/(a**4*d**2*k + a**4 + 2*a**2*k + b**2*d**2*k + b**2)**2"
      ]
     },
     "execution_count": 16,
     "metadata": {},
     "output_type": "execute_result"
    }
   ],
   "source": [
    "dd=diff(f,d)\n",
    "dd.factor()"
   ]
  },
  {
   "cell_type": "code",
   "execution_count": 11,
   "metadata": {},
   "outputs": [
    {
     "data": {
      "text/plain": [
       "'l0*(d**2*k + 1)*(a**4 + 2*a**2*k + b**2 + k**2)/(a**4*d**2*k + a**4 + 2*a**2*k + b**2*d**2*k + b**2)'"
      ]
     },
     "execution_count": 11,
     "metadata": {},
     "output_type": "execute_result"
    }
   ],
   "source": [
    "printing.sstrrepr(f.factor())"
   ]
  },
  {
   "cell_type": "code",
   "execution_count": 12,
   "metadata": {},
   "outputs": [
    {
     "data": {
      "text/plain": [
       "'(d**2*k + 1)*(a**4 + 2*a**2*k + b**2 + k**2)/(a**4*d**2*k + a**4 + 2*a**2*k + b**2*d**2*k + b**2)'"
      ]
     },
     "execution_count": 12,
     "metadata": {},
     "output_type": "execute_result"
    }
   ],
   "source": [
    "printing.sstrrepr(diff(f,l0).factor())"
   ]
  },
  {
   "cell_type": "code",
   "execution_count": 13,
   "metadata": {},
   "outputs": [
    {
     "data": {
      "text/plain": [
       "'-4*a*k**2*l0*(d**2*k + 1)*(a**4*d**2 + a**2*d**2*k + a**2 - b**2*d**2 + k)/(a**4*d**2*k + a**4 + 2*a**2*k + b**2*d**2*k + b**2)**2'"
      ]
     },
     "execution_count": 13,
     "metadata": {},
     "output_type": "execute_result"
    }
   ],
   "source": [
    "printing.sstrrepr(da.factor())"
   ]
  },
  {
   "cell_type": "code",
   "execution_count": 14,
   "metadata": {},
   "outputs": [
    {
     "data": {
      "text/plain": [
       "'-2*b*k**2*l0*(d**2*k + 1)*(2*a**2*d**2 + d**2*k + 1)/(a**4*d**2*k + a**4 + 2*a**2*k + b**2*d**2*k + b**2)**2'"
      ]
     },
     "execution_count": 14,
     "metadata": {},
     "output_type": "execute_result"
    }
   ],
   "source": [
    "printing.sstrrepr(db.factor())"
   ]
  },
  {
   "cell_type": "code",
   "execution_count": 17,
   "metadata": {},
   "outputs": [
    {
     "data": {
      "text/plain": [
       "'4*a**2*d*k**2*l0*(a**4 + 2*a**2*k + b**2 + k**2)/(a**4*d**2*k + a**4 + 2*a**2*k + b**2*d**2*k + b**2)**2'"
      ]
     },
     "execution_count": 17,
     "metadata": {},
     "output_type": "execute_result"
    }
   ],
   "source": [
    "printing.sstrrepr(dd.factor())"
   ]
  },
  {
   "cell_type": "code",
   "execution_count": null,
   "metadata": {},
   "outputs": [],
   "source": []
  }
 ],
 "metadata": {
  "kernelspec": {
   "display_name": "Python 3",
   "language": "python",
   "name": "python3"
  },
  "language_info": {
   "codemirror_mode": {
    "name": "ipython",
    "version": 3
   },
   "file_extension": ".py",
   "mimetype": "text/x-python",
   "name": "python",
   "nbconvert_exporter": "python",
   "pygments_lexer": "ipython3",
   "version": "3.6.10"
  }
 },
 "nbformat": 4,
 "nbformat_minor": 2
}
