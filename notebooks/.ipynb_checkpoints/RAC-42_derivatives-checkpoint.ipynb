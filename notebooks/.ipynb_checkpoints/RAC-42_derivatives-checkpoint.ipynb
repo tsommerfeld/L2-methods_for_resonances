{
 "cells": [
  {
   "cell_type": "code",
   "execution_count": 1,
   "metadata": {},
   "outputs": [
    {
     "name": "stdout",
     "output_type": "stream",
     "text": [
      "IPython console for SymPy 1.5.1 (Python 3.6.9-64-bit) (ground types: gmpy)\n",
      "\n",
      "These commands were executed:\n",
      ">>> from __future__ import division\n",
      ">>> from sympy import *\n",
      ">>> x, y, z, t = symbols('x y z t')\n",
      ">>> k, m, n = symbols('k m n', integer=True)\n",
      ">>> f, g, h = symbols('f g h', cls=Function)\n",
      ">>> init_printing()\n",
      "\n",
      "Documentation can be found at https://docs.sympy.org/1.5.1/\n",
      "\n"
     ]
    }
   ],
   "source": [
    "from sympy import init_session\n",
    "init_session()"
   ]
  },
  {
   "cell_type": "code",
   "execution_count": 3,
   "metadata": {},
   "outputs": [],
   "source": [
    "#init_printing?"
   ]
  },
  {
   "cell_type": "code",
   "execution_count": 4,
   "metadata": {},
   "outputs": [],
   "source": [
    "# this is for rac[4,2]\n",
    "a, b, o, d, g, k, l0 = symbols('a b o d g k l0', real=True, positive=True)"
   ]
  },
  {
   "cell_type": "code",
   "execution_count": 5,
   "metadata": {},
   "outputs": [
    {
     "data": {
      "image/png": "[encoded data removed]",
      "text/latex": [
       "$\\displaystyle \\frac{l_{0} \\left(d^{2} k^{2} + g^{2} k + 1\\right) \\left(a^{4} + 2 a^{2} k + b^{2} + k^{2}\\right)}{a^{4} + b^{2} + k^{2} o^{2} + k \\left(2 a^{2} + g^{2} \\left(a^{4} + b^{2}\\right)\\right)}$"
      ],
      "text/plain": [
       "   ⎛ 2  2    2      ⎞ ⎛ 4      2      2    2⎞\n",
       "l₀⋅⎝d ⋅k  + g ⋅k + 1⎠⋅⎝a  + 2⋅a ⋅k + b  + k ⎠\n",
       "─────────────────────────────────────────────\n",
       "   4    2    2  2     ⎛   2    2 ⎛ 4    2⎞⎞  \n",
       "  a  + b  + k ⋅o  + k⋅⎝2⋅a  + g ⋅⎝a  + b ⎠⎠  "
      ]
     },
     "execution_count": 5,
     "metadata": {},
     "output_type": "execute_result"
    }
   ],
   "source": [
    "# Roman's new factorization:\n",
    "f1 = k**2 + 2*a**2*k + a**4+b**2\n",
    "f2 = 1 + g**2*k + d**2*k**2\n",
    "A = a**4+b**2\n",
    "B = 2*a**2 + g**2*A\n",
    "\n",
    "f = l0 * f1 * f2 / (A + B*k + o**2*k**2)\n",
    "f"
   ]
  },
  {
   "cell_type": "code",
   "execution_count": 5,
   "metadata": {},
   "outputs": [
    {
     "data": {
      "image/png": "[encoded data removed]",
      "text/latex": [
       "$\\displaystyle \\frac{\\left(d^{2} k^{2} + g^{2} k + 1\\right) \\left(a^{4} + 2 a^{2} k + b^{2} + k^{2}\\right)}{a^{4} + b^{2} + k^{2} o^{2} + k \\left(2 a^{2} + g^{2} \\left(a^{4} + b^{2}\\right)\\right)}$"
      ],
      "text/plain": [
       "⎛ 2  2    2      ⎞ ⎛ 4      2      2    2⎞\n",
       "⎝d ⋅k  + g ⋅k + 1⎠⋅⎝a  + 2⋅a ⋅k + b  + k ⎠\n",
       "──────────────────────────────────────────\n",
       " 4    2    2  2     ⎛   2    2 ⎛ 4    2⎞⎞ \n",
       "a  + b  + k ⋅o  + k⋅⎝2⋅a  + g ⋅⎝a  + b ⎠⎠ "
      ]
     },
     "execution_count": 5,
     "metadata": {},
     "output_type": "execute_result"
    }
   ],
   "source": [
    "diff(f,l0)"
   ]
  },
  {
   "cell_type": "code",
   "execution_count": 6,
   "metadata": {},
   "outputs": [
    {
     "data": {
      "image/png": "[encoded data removed]",
      "text/latex": [
       "$\\displaystyle - \\frac{4 a k^{2} l_{0} \\left(d^{2} k^{2} + g^{2} k + 1\\right) \\left(a^{4} g^{2} + a^{2} g^{2} k - a^{2} o^{2} + a^{2} - b^{2} g^{2} - k o^{2} + k\\right)}{\\left(a^{4} g^{2} k + a^{4} + 2 a^{2} k + b^{2} g^{2} k + b^{2} + k^{2} o^{2}\\right)^{2}}$"
      ],
      "text/plain": [
       "      2    ⎛ 2  2    2      ⎞ ⎛ 4  2    2  2      2  2    2    2  2      2    \n",
       "-4⋅a⋅k ⋅l₀⋅⎝d ⋅k  + g ⋅k + 1⎠⋅⎝a ⋅g  + a ⋅g ⋅k - a ⋅o  + a  - b ⋅g  - k⋅o  + k\n",
       "──────────────────────────────────────────────────────────────────────────────\n",
       "                                                              2               \n",
       "                ⎛ 4  2      4      2      2  2      2    2  2⎞                \n",
       "                ⎝a ⋅g ⋅k + a  + 2⋅a ⋅k + b ⋅g ⋅k + b  + k ⋅o ⎠                \n",
       "\n",
       "⎞ \n",
       "⎠ \n",
       "──\n",
       "  \n",
       "  \n",
       "  "
      ]
     },
     "execution_count": 6,
     "metadata": {},
     "output_type": "execute_result"
    }
   ],
   "source": [
    "da=diff(f,a)\n",
    "da.factor()"
   ]
  },
  {
   "cell_type": "code",
   "execution_count": 7,
   "metadata": {},
   "outputs": [
    {
     "data": {
      "image/png": "[encoded data removed]",
      "text/latex": [
       "$\\displaystyle - \\frac{2 b k^{2} l_{0} \\left(d^{2} k^{2} + g^{2} k + 1\\right) \\left(2 a^{2} g^{2} + g^{2} k - o^{2} + 1\\right)}{\\left(a^{4} g^{2} k + a^{4} + 2 a^{2} k + b^{2} g^{2} k + b^{2} + k^{2} o^{2}\\right)^{2}}$"
      ],
      "text/plain": [
       "      2    ⎛ 2  2    2      ⎞ ⎛   2  2    2      2    ⎞ \n",
       "-2⋅b⋅k ⋅l₀⋅⎝d ⋅k  + g ⋅k + 1⎠⋅⎝2⋅a ⋅g  + g ⋅k - o  + 1⎠ \n",
       "────────────────────────────────────────────────────────\n",
       "                                                  2     \n",
       "    ⎛ 4  2      4      2      2  2      2    2  2⎞      \n",
       "    ⎝a ⋅g ⋅k + a  + 2⋅a ⋅k + b ⋅g ⋅k + b  + k ⋅o ⎠      "
      ]
     },
     "execution_count": 7,
     "metadata": {},
     "output_type": "execute_result"
    }
   ],
   "source": [
    "db=diff(f,b)\n",
    "db.factor()"
   ]
  },
  {
   "cell_type": "code",
   "execution_count": 8,
   "metadata": {},
   "outputs": [
    {
     "data": {
      "image/png": "[encoded data removed]",
      "text/latex": [
       "$\\displaystyle - \\frac{2 g k^{2} l_{0} \\left(a^{4} + 2 a^{2} k + b^{2} + k^{2}\\right) \\left(a^{4} d^{2} k - 2 a^{2} + b^{2} d^{2} k - k o^{2}\\right)}{\\left(a^{4} g^{2} k + a^{4} + 2 a^{2} k + b^{2} g^{2} k + b^{2} + k^{2} o^{2}\\right)^{2}}$"
      ],
      "text/plain": [
       "      2    ⎛ 4      2      2    2⎞ ⎛ 4  2        2    2  2        2⎞ \n",
       "-2⋅g⋅k ⋅l₀⋅⎝a  + 2⋅a ⋅k + b  + k ⎠⋅⎝a ⋅d ⋅k - 2⋅a  + b ⋅d ⋅k - k⋅o ⎠ \n",
       "─────────────────────────────────────────────────────────────────────\n",
       "                                                         2           \n",
       "           ⎛ 4  2      4      2      2  2      2    2  2⎞            \n",
       "           ⎝a ⋅g ⋅k + a  + 2⋅a ⋅k + b ⋅g ⋅k + b  + k ⋅o ⎠            "
      ]
     },
     "execution_count": 8,
     "metadata": {},
     "output_type": "execute_result"
    }
   ],
   "source": [
    "dg=diff(f,g)\n",
    "dg.factor()"
   ]
  },
  {
   "cell_type": "code",
   "execution_count": 9,
   "metadata": {},
   "outputs": [
    {
     "data": {
      "image/png": "[encoded data removed]",
      "text/latex": [
       "$\\displaystyle \\frac{2 d k^{2} l_{0} \\left(a^{4} + 2 a^{2} k + b^{2} + k^{2}\\right)}{a^{4} g^{2} k + a^{4} + 2 a^{2} k + b^{2} g^{2} k + b^{2} + k^{2} o^{2}}$"
      ],
      "text/plain": [
       "          2    ⎛ 4      2      2    2⎞      \n",
       "     2⋅d⋅k ⋅l₀⋅⎝a  + 2⋅a ⋅k + b  + k ⎠      \n",
       "────────────────────────────────────────────\n",
       " 4  2      4      2      2  2      2    2  2\n",
       "a ⋅g ⋅k + a  + 2⋅a ⋅k + b ⋅g ⋅k + b  + k ⋅o "
      ]
     },
     "execution_count": 9,
     "metadata": {},
     "output_type": "execute_result"
    }
   ],
   "source": [
    "dd=diff(f,d)\n",
    "dd.factor()"
   ]
  },
  {
   "cell_type": "code",
   "execution_count": 10,
   "metadata": {},
   "outputs": [
    {
     "data": {
      "image/png": "[encoded data removed]",
      "text/latex": [
       "$\\displaystyle - \\frac{2 k^{2} l_{0} o \\left(d^{2} k^{2} + g^{2} k + 1\\right) \\left(a^{4} + 2 a^{2} k + b^{2} + k^{2}\\right)}{\\left(a^{4} g^{2} k + a^{4} + 2 a^{2} k + b^{2} g^{2} k + b^{2} + k^{2} o^{2}\\right)^{2}}$"
      ],
      "text/plain": [
       "    2      ⎛ 2  2    2      ⎞ ⎛ 4      2      2    2⎞ \n",
       "-2⋅k ⋅l₀⋅o⋅⎝d ⋅k  + g ⋅k + 1⎠⋅⎝a  + 2⋅a ⋅k + b  + k ⎠ \n",
       "──────────────────────────────────────────────────────\n",
       "                                                 2    \n",
       "   ⎛ 4  2      4      2      2  2      2    2  2⎞     \n",
       "   ⎝a ⋅g ⋅k + a  + 2⋅a ⋅k + b ⋅g ⋅k + b  + k ⋅o ⎠     "
      ]
     },
     "execution_count": 10,
     "metadata": {},
     "output_type": "execute_result"
    }
   ],
   "source": [
    "do=diff(f,o)\n",
    "do.factor()"
   ]
  },
  {
   "cell_type": "code",
   "execution_count": null,
   "metadata": {},
   "outputs": [],
   "source": []
  },
  {
   "cell_type": "code",
   "execution_count": 10,
   "metadata": {},
   "outputs": [
    {
     "data": {
      "image/png": "[encoded data removed]",
      "text/latex": [
       "$\\displaystyle \\left\\{- a^{2} - i b, - a^{2} + i b\\right\\}$"
      ],
      "text/plain": [
       "⎧   2           2      ⎫\n",
       "⎨- a  - ⅈ⋅b, - a  + ⅈ⋅b⎬\n",
       "⎩                      ⎭"
      ]
     },
     "execution_count": 10,
     "metadata": {},
     "output_type": "execute_result"
    }
   ],
   "source": [
    "solveset(f1, k)"
   ]
  },
  {
   "cell_type": "code",
   "execution_count": 21,
   "metadata": {},
   "outputs": [
    {
     "data": {
      "image/png": "[encoded data removed]",
      "text/latex": [
       "$\\displaystyle a^{4} - 2.0 i a^{2} b - 1.0 b^{2}$"
      ],
      "text/plain": [
       " 4          2          2\n",
       "a  - 2.0⋅ⅈ⋅a ⋅b - 1.0⋅b "
      ]
     },
     "execution_count": 21,
     "metadata": {},
     "output_type": "execute_result"
    }
   ],
   "source": [
    "expand((-a**2 + 1j*b)**2)"
   ]
  },
  {
   "cell_type": "code",
   "execution_count": 27,
   "metadata": {},
   "outputs": [
    {
     "data": {
      "image/png": "[encoded data removed]",
      "text/latex": [
       "$\\displaystyle \\left\\{- a^{2} - i b, - a^{2} + i b\\right\\}$"
      ],
      "text/plain": [
       "⎧   2           2      ⎫\n",
       "⎨- a  - ⅈ⋅b, - a  + ⅈ⋅b⎬\n",
       "⎩                      ⎭"
      ]
     },
     "execution_count": 27,
     "metadata": {},
     "output_type": "execute_result"
    }
   ],
   "source": [
    "#\n",
    "#  in f2:  d2 = 1/(a**4+b**2)  and g2=2*a**2/(a**4+b**2)\n",
    "#\n",
    "f3 = k**2/(a**4+b**2) + k*2*a**2/(a**4+b**2) + 1\n",
    "solveset(f3, k)"
   ]
  },
  {
   "cell_type": "code",
   "execution_count": null,
   "metadata": {},
   "outputs": [],
   "source": []
  }
 ],
 "metadata": {
  "kernelspec": {
   "display_name": "Python 3",
   "language": "python",
   "name": "python3"
  },
  "language_info": {
   "codemirror_mode": {
    "name": "ipython",
    "version": 3
   },
   "file_extension": ".py",
   "mimetype": "text/x-python",
   "name": "python",
   "nbconvert_exporter": "python",
   "pygments_lexer": "ipython3",
   "version": "3.6.9"
  }
 },
 "nbformat": 4,
 "nbformat_minor": 4
}
