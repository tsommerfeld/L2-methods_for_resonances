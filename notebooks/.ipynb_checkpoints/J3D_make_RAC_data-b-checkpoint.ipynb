{
 "cells": [
  {
   "cell_type": "code",
   "execution_count": 1,
   "metadata": {},
   "outputs": [],
   "source": [
    "import numpy as np\n",
    "import sys\n",
    "import matplotlib.pyplot as plt\n",
    "%matplotlib qt5\n",
    "#\n",
    "#  extend path by location of the dvr package\n",
    "#\n",
    "jolanta_root=\"/home/thomas/Current_Work/Jolanta-by-dvr/\"\n",
    "sys.path.append(jolanta_root+'Python_libs')\n",
    "import dvr\n",
    "import jolanta"
   ]
  },
  {
   "cell_type": "code",
   "execution_count": 2,
   "metadata": {},
   "outputs": [],
   "source": [
    "amu_to_au=1822.888486192\n",
    "au2cm=219474.63068\n",
    "au2eV=27.211386027\n",
    "Angs2Bohr=1.8897259886"
   ]
  },
  {
   "cell_type": "code",
   "execution_count": 3,
   "metadata": {},
   "outputs": [
    {
     "name": "stdout",
     "output_type": "stream",
     "text": [
      "  1    0.01724346 au =      0.46922 eV\n",
      "  2    0.05016919 au =      1.36517 eV\n",
      "  3    0.07122177 au =      1.93804 eV\n",
      "  4    0.12020844 au =      3.27104 eV\n",
      "  5    0.19775190 au =      5.38110 eV\n",
      "  6    0.29240092 au =      7.95663 eV\n",
      "  7    0.40140403 au =     10.92276 eV\n"
     ]
    }
   ],
   "source": [
    "#\n",
    "#  compute DVR of T and V\n",
    "#  then show the density of states\n",
    "#  in a potential + energy-levels plot\n",
    "#  the standard 3D-Jolanta is used (resonance at 1.75 -0.2i eV)\n",
    "#\n",
    "rmin=0\n",
    "rmax=25      # grid from 0 to rmax\n",
    "thresh = 8   # maximum energy for plot\n",
    "ppB = 10     # grid points per Bohr\n",
    "\n",
    "nGrid=int((rmax-rmin)*ppB)\n",
    "rs = dvr.DVRGrid(rmin, rmax, nGrid)\n",
    "Vs = jolanta.Jolanta_3D(rs)\n",
    "Ts = dvr.KineticEnergy(1, rmin, rmax, nGrid)\n",
    "[energy, wf] = dvr.DVRDiag2(nGrid, Ts, Vs)\n",
    "\n",
    "n_ene=0\n",
    "for i in range(nGrid):\n",
    "    print(\"%3d  %12.8f au = %12.5f eV\" % (i+1, energy[i], energy[i]*au2eV))\n",
    "    n_ene += 1\n",
    "    if energy[i]*au2eV > thresh:\n",
    "        break\n",
    "\n",
    "# \"DVR normalization\", sum(wf[:,0]**2)\n",
    "# this is correct for plotting\n",
    "\n",
    "c=[\"orange\", \"blue\"]\n",
    "#h=float(xmax) / (nGrid+1.0)\n",
    "scale=3*au2eV\n",
    "\n",
    "plt.cla()\n",
    "plt.plot(rs,Vs*au2eV, '-', color=\"black\")\n",
    "for i in range(n_ene):\n",
    "    plt.plot(rs, scale*wf[:,i]**2+energy[i]*au2eV, '-', color=c[i%len(c)])\n",
    "plt.ylim(-5, 1.5*thresh)\n",
    "plt.xlabel('$r$ [Bohr]')\n",
    "plt.ylabel('$E$ [eV]')\n",
    "plt.show()"
   ]
  },
  {
   "cell_type": "code",
   "execution_count": 4,
   "metadata": {},
   "outputs": [],
   "source": [
    "#\n",
    "#  RAC data by change of the parameter b in the potential\n",
    "#\n",
    "plt.cla()\n",
    "plt.plot(rs, jolanta.Jolanta_3D(rs, b=1.2)*au2eV, '-', color=\"black\")\n",
    "for b in [1.3, 1.4, 1.5]:\n",
    "    plt.plot(rs, jolanta.Jolanta_3D(rs, b=b)*au2eV, color=\"blue\")\n",
    "\n",
    "plt.xlim(0,15)\n",
    "plt.ylim(-20, 10)\n",
    "plt.show()"
   ]
  },
  {
   "cell_type": "code",
   "execution_count": 6,
   "metadata": {},
   "outputs": [
    {
     "name": "stdout",
     "output_type": "stream",
     "text": [
      "1 2 3 4 5 6 7 8 9 10 \n",
      "11 12 13 14 15 16 17 18 19 20 \n",
      "21 22 23 24 25 26 27 28 29 30 \n",
      "31 32 33 34 35 36 37 38 39 40 \n",
      "41 42 43 44 45 46 47 48 49 50 \n",
      "51 52 53 54 55 56 57 58 59 60 \n",
      "61 62 63 64 65 66 67 68 69 70 \n",
      "71 72 73 74 75 76 77 78 79 80 \n",
      "81 82 83 84 85 86 87 88 89 90 \n",
      "91 92 93 94 95 96 97 98 99 100 \n",
      "101 "
     ]
    }
   ],
   "source": [
    "#\n",
    "#  RAC soft-box loop; scaling parameter lambda \n",
    "#\n",
    "\n",
    "ld_min=0\n",
    "ld_max=1.0\n",
    "nEs_keep=4    # how many energies are kept\n",
    "\n",
    "n_ld=101 # ~ (max - min)/stepsize + 1  with stepsize = 0.1 eV\n",
    "\n",
    "lds=np.linspace(ld_min, ld_max, num=n_ld, endpoint=True)\n",
    "\n",
    "run_data = np.zeros((n_ld, nEs_keep))  # array used to collect all eta-run data\n",
    "\n",
    "\n",
    "for l in range(n_ld):\n",
    "    Vs = jolanta.Jolanta_3D(rs, b=1.2+lds[l])\n",
    "    [energy, wf] = dvr.DVRDiag2(nGrid, Ts, Vs)\n",
    "    run_data[l,:] = energy[0:nEs_keep]\n",
    "    print(l+1, end=\" \")\n",
    "    if (l+1)%10==0:\n",
    "        print()\n",
    "\n",
    "run_data *= au2eV"
   ]
  },
  {
   "cell_type": "code",
   "execution_count": 7,
   "metadata": {},
   "outputs": [],
   "source": [
    "#\n",
    "# 3D: all states contribute\n",
    "#\n",
    "plt.cla()\n",
    "for i in range(0, nEs_keep):\n",
    "    plt.plot(lds,run_data[:,i], '-', color='blue')\n",
    "plt.show()"
   ]
  },
  {
   "cell_type": "code",
   "execution_count": null,
   "metadata": {},
   "outputs": [],
   "source": [
    "#\n",
    "#\n",
    "dlim=\" \"\n",
    "#dmim=\",\"  # use for creating .csv files\n",
    "#\n",
    "data = np.zeros((n_ld, nEs_keep+1))\n",
    "data[:,0]=lds\n",
    "data[:,1:]=run_data\n",
    "fname=\"rac_b-stab.dat\"\n",
    "header = 'l'\n",
    "for i in range(0, nEs_keep):\n",
    "    header = header + dlim + 'E' + str(i+1)\n",
    "\n",
    "np.savetxt(fname, data, fmt='%15.12f', delimiter=dlim, header=header)"
   ]
  },
  {
   "cell_type": "code",
   "execution_count": null,
   "metadata": {},
   "outputs": [],
   "source": []
  }
 ],
 "metadata": {
  "kernelspec": {
   "display_name": "Python 3",
   "language": "python",
   "name": "python3"
  },
  "language_info": {
   "codemirror_mode": {
    "name": "ipython",
    "version": 3
   },
   "file_extension": ".py",
   "mimetype": "text/x-python",
   "name": "python",
   "nbconvert_exporter": "python",
   "pygments_lexer": "ipython3",
   "version": "3.6.9"
  }
 },
 "nbformat": 4,
 "nbformat_minor": 2
}
