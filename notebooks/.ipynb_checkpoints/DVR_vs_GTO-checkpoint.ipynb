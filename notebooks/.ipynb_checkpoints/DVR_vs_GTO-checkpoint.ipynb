{
 "cells": [
  {
   "cell_type": "code",
   "execution_count": 1,
   "metadata": {},
   "outputs": [],
   "source": [
    "import numpy as np\n",
    "#import scipy.special\n",
    "from scipy.linalg import eigh      # symmetric or hermitian\n",
    "from scipy.linalg import eigvalsh  # symmetric or hermitian\n",
    "from scipy.linalg import eig       # general\n",
    "from scipy.linalg import eigvals   # general\n",
    "import matplotlib\n",
    "import matplotlib.pyplot as plt\n",
    "matplotlib.use('Qt5Agg')\n",
    "%matplotlib qt5\n",
    "#\n",
    "#  extend path by location of the dvr package\n",
    "#\n",
    "import sys\n",
    "sys.path.append('/home/thomas/Current_Work/Jolanta-by-dvr/Python_libs')\n",
    "import dvr\n",
    "import jolanta"
   ]
  },
  {
   "cell_type": "code",
   "execution_count": 2,
   "metadata": {},
   "outputs": [],
   "source": [
    "amu_to_au=1822.888486192\n",
    "au2cm=219474.63068\n",
    "au2eV=27.211386027\n",
    "Angs2Bohr=1.8897259886"
   ]
  },
  {
   "cell_type": "code",
   "execution_count": 3,
   "metadata": {},
   "outputs": [
    {
     "name": "stdout",
     "output_type": "stream",
     "text": [
      "nGrid = 600\n",
      "  1   -0.35709721 au =     -9.71711 eV\n",
      "  2    0.01960266 au =      0.53342 eV\n",
      "  3    0.06659757 au =      1.81221 eV\n",
      "  4    0.13299315 au =      3.61893 eV\n",
      "  5    0.13946505 au =      3.79504 eV\n",
      "  6    0.21555485 au =      5.86555 eV\n",
      "  7    0.30249117 au =      8.23120 eV\n",
      "  8    0.38445210 au =     10.46147 eV\n",
      "  9    0.46767854 au =     12.72618 eV\n",
      " 10    0.56884317 au =     15.47901 eV\n"
     ]
    }
   ],
   "source": [
    "#\n",
    "#  compute DVR of T and V\n",
    "#  then show the density of states\n",
    "#  in a potential + energy-levels plot\n",
    "#\n",
    "rmin=0\n",
    "rmax=30      # grid from 0 to rmax\n",
    "thresh = 15  # maximum energy for state in the plot in eV\n",
    "ppB = 20     # grid points per Bohr\n",
    "\n",
    "nGrid=int((rmax-rmin)*ppB)\n",
    "print(\"nGrid = %d\" % nGrid)\n",
    "rs = dvr.DVRGrid(rmin, rmax, nGrid)\n",
    "#\n",
    "#\n",
    "# bound state (-9.7 eV) and resonance (~3.7 eV)\n",
    "# a=0.040, b=1.2, c=0.025\n",
    "#\n",
    "ap=0.040\n",
    "bp=1.2\n",
    "cp=0.025\n",
    "Vs = jolanta.Jolanta_3D(rs, a=ap, b=bp, c=cp, l=1)\n",
    "Ts = dvr.KineticEnergy(1, rmin, rmax, nGrid)\n",
    "[energy, wf] = dvr.DVRDiag2(nGrid, Ts, Vs)\n",
    "\n",
    "n_ene=0\n",
    "for i in range(nGrid):\n",
    "    print(\"%3d  %12.8f au = %12.5f eV\" % (i+1, energy[i], energy[i]*au2eV))\n",
    "    n_ene += 1\n",
    "    if energy[i]*au2eV > thresh:\n",
    "        break\n",
    "\n",
    "# \"DVR normalization\", sum(wf[:,0]**2)\n",
    "# this is correct for plotting\n",
    "\n",
    "c=[\"orange\", \"blue\"]\n",
    "#h=float(xmax) / (nGrid+1.0)\n",
    "scale=150\n",
    "\n",
    "plt.plot(rs,Vs*au2eV, '-', color=\"black\")\n",
    "for i in range(n_ene):\n",
    "    plt.plot(rs, scale*wf[:,i]**2+energy[i]*au2eV, '-', color=\"orange\")\n",
    "plt.ylim(energy[0]*au2eV-1, energy[n_ene-1]*au2eV+1)\n",
    "plt.xlabel('$r$ [Bohr]')\n",
    "plt.ylabel('$E$ [eV]')\n",
    "plt.show()"
   ]
  },
  {
   "cell_type": "code",
   "execution_count": 4,
   "metadata": {},
   "outputs": [],
   "source": [
    "#run_data[0,1:8]"
   ]
  },
  {
   "cell_type": "code",
   "execution_count": 5,
   "metadata": {},
   "outputs": [
    {
     "name": "stdout",
     "output_type": "stream",
     "text": [
      "              alpha           N          <r>         r_max\n",
      "  0        1.000000e+02   7.989e+01     0.31915     0.07071\n",
      "  1        3.333333e+01   3.505e+01     0.55279     0.12247\n",
      "  2        1.111111e+01   1.538e+01     0.95746     0.21213\n",
      "  3        3.703704e+00   6.745e+00     1.65837     0.36742\n",
      "  4        1.234568e+00   2.959e+00     2.87238     0.63640\n",
      "  5        4.115226e-01   1.298e+00     4.97512     1.10227\n",
      "  6        1.371742e-01   5.695e-01     8.61715     1.90919\n",
      "  7        4.572474e-02   2.498e-01    14.92535     3.30681\n",
      "  8        1.524158e-02   1.096e-01    25.85146     5.72756\n",
      "  9        5.080526e-03   4.808e-02    44.77604     9.92043\n",
      " 10        1.693509e-03   2.109e-02    77.55438    17.18269\n",
      " 11        5.645029e-04   9.253e-03   134.32813    29.76130\n",
      " 12        1.881676e-04   4.059e-03   232.66314    51.54808\n",
      " 13        6.272255e-05   1.781e-03   402.98438    89.28390\n",
      " 14        2.090752e-05   7.812e-04   697.98941   154.64425\n",
      " 15        6.969172e-06   3.427e-04  1208.95313   267.85170\n"
     ]
    }
   ],
   "source": [
    "#\n",
    "# create an even scaled GTO basis set:  r^l*exp(-a_i*r^2)\n",
    "#\n",
    "l=1      # l-functions\n",
    "r0=0.1  # tightest alpha = 1/r0/r0\n",
    "even_scale = 3.0\n",
    "n_basis = 16\n",
    "\n",
    "alphas = np.zeros(n_basis)  # exponents\n",
    "Ns = np.zeros(n_basis)  # normalization constants N_i = 1/sqrt(S_ii)\n",
    "Res = np.zeros(n_basis) # r-expectation values\n",
    "Rms = np.zeros(n_basis) # max(GTO) = sqrt(l/2/a)\n",
    "\n",
    "print(\"              alpha           N          <r>         r_max\")\n",
    "alphas[0] = 1/r0/r0\n",
    "for i in range(n_basis):\n",
    "    if i > 0:\n",
    "        alphas[i] = alphas[i-1]/even_scale\n",
    "    Ns[i] = jolanta.S_12(alphas[i], alphas[i], l, l)**(-0.5)\n",
    "    Res[i] = Ns[i]*Ns[i] * jolanta.gto_integral_0_inf(alphas[i], n=2*l+1)\n",
    "    Rms[i] = np.sqrt(0.5*l/alphas[i])\n",
    "    print(\"%3d     %15.6e  %10.3e  %10.5f  %10.5f\" \n",
    "          % (i, alphas[i], Ns[i], Res[i], Rms[i]))"
   ]
  },
  {
   "cell_type": "code",
   "execution_count": 6,
   "metadata": {},
   "outputs": [
    {
     "name": "stdout",
     "output_type": "stream",
     "text": [
      "         alpha             <S>          <T>         <V>\n",
      "  0    1.000000e+02    1.0000e+00     150.0000000     398.8005249\n",
      "  1    3.333333e+01    1.0000e+00      50.0000000     132.1349072\n",
      "  2    1.111111e+01    1.0000e+00      16.6666667      43.2491590\n",
      "  3    3.703704e+00    1.0000e+00       5.5555556      13.6288963\n",
      "  4    1.234568e+00    1.0000e+00       1.8518519       3.7799643\n",
      "  5    4.115226e-01    1.0000e+00       0.6172840       0.5664063\n",
      "  6    1.371742e-01    1.0000e+00       0.2057613      -0.3283022\n",
      "  7    4.572474e-02    1.0000e+00       0.0685871      -0.2936426\n",
      "  8    1.524158e-02    1.0000e+00       0.0228624       0.0126717\n",
      "  9    5.080526e-03    1.0000e+00       0.0076208       0.0989973\n",
      " 10    1.693509e-03    1.0000e+00       0.0025403       0.0444290\n",
      " 11    5.645029e-04    1.0000e+00       0.0008468       0.0121047\n",
      " 12    1.881676e-04    1.0000e+00       0.0002823       0.0028556\n",
      " 13    6.272255e-05    1.0000e+00       0.0000941       0.0006700\n",
      " 14    2.090752e-05    1.0000e+00       0.0000314       0.0001652\n",
      " 15    6.969172e-06    1.0000e+00       0.0000105       0.0000436\n",
      "\n",
      "max(eigenvalue(S)) =  4.114e+00\n",
      "min(eigenvalue(S)) =  8.902e-03\n"
     ]
    }
   ],
   "source": [
    "S=np.zeros((n_basis,n_basis))\n",
    "T=np.zeros((n_basis,n_basis))\n",
    "V=np.zeros((n_basis,n_basis))\n",
    "\n",
    "for i in range(n_basis):\n",
    "    a1=alphas[i]\n",
    "    N1=Ns[i]\n",
    "    S[i,i] = N1*N1*jolanta.S_12(a1, a1, l, l)\n",
    "    T[i,i] = N1*N1*jolanta.T_12(a1, a1, l, l)\n",
    "    V[i,i] = N1*N1*jolanta.V_12(a1, a1, l, l, a=ap, b=bp, c=cp)\n",
    "    for j in range(i):\n",
    "        a2 = alphas[j]\n",
    "        N2=Ns[j]\n",
    "        S[i,j] = S[j,i] = N1*N2*jolanta.S_12(a1, a2, l, l)\n",
    "        T[i,j] = T[j,i] = N1*N2*jolanta.T_12(a1, a2, l, l)\n",
    "        V[i,j] = V[j,i] = N1*N2*jolanta.V_12(a1, a2, l, l, a=ap, b=bp, c=cp)\n",
    "if n_basis < 6:\n",
    "    print(S)\n",
    "    print(T)\n",
    "    print(V)\n",
    "print\n",
    "print(\"         alpha             <S>          <T>         <V>\")\n",
    "for i in range(n_basis):\n",
    "    print(\"%3d %15.6e  %12.4e  %14.7f  %14.7f\" \n",
    "          % (i, alphas[i], S[i,i], T[i,i], V[i,i]))\n",
    "\n",
    "Sev = eigvalsh(S)\n",
    "print(\"\\nmax(eigenvalue(S)) = %10.3e\" % np.max(Sev))\n",
    "print(\"min(eigenvalue(S)) = %10.3e\" % np.min(Sev))"
   ]
  },
  {
   "cell_type": "code",
   "execution_count": 7,
   "metadata": {},
   "outputs": [
    {
     "data": {
      "text/plain": [
       "array([-9.69811339e+00+0.j,  5.30946519e-04+0.j,  2.23725034e-03+0.j,\n",
       "        7.38503602e-03+0.j,  2.30854711e-02+0.j,  7.40286247e-02+0.j,\n",
       "        2.74278507e-01+0.j,  2.22354016e+00+0.j,  3.94724764e+00+0.j,\n",
       "        8.77052594e+00+0.j,  2.69298509e+01+0.j,  1.21880356e+02+0.j,\n",
       "        4.22205796e+02+0.j,  1.34915054e+03+0.j,  4.16676704e+03+0.j,\n",
       "        2.20336199e+04+0.j])"
      ]
     },
     "execution_count": 7,
     "metadata": {},
     "output_type": "execute_result"
    }
   ],
   "source": [
    "es = eig(T+V, b=S, right=False)\n",
    "es.sort()\n",
    "es*au2eV"
   ]
  },
  {
   "cell_type": "code",
   "execution_count": 8,
   "metadata": {},
   "outputs": [
    {
     "data": {
      "text/plain": [
       "array([-9.69811339e+00,  5.30946523e-04,  2.23725035e-03,  7.38503604e-03,\n",
       "        2.30854711e-02,  7.40286247e-02,  2.74278507e-01,  2.22354016e+00,\n",
       "        3.94724764e+00,  8.77052594e+00,  2.69298509e+01,  1.21880356e+02,\n",
       "        4.22205796e+02,  1.34915054e+03,  4.16676704e+03,  2.20336199e+04])"
      ]
     },
     "execution_count": 8,
     "metadata": {},
     "output_type": "execute_result"
    }
   ],
   "source": [
    "es = eigh(T+V, b=S, eigvals_only=True)\n",
    "es*au2eV"
   ]
  },
  {
   "cell_type": "code",
   "execution_count": 9,
   "metadata": {},
   "outputs": [
    {
     "data": {
      "text/plain": [
       "array([-9.69811339e+00,  5.30946523e-04,  2.23725035e-03,  7.38503604e-03,\n",
       "        2.30854711e-02,  7.40286247e-02,  2.74278507e-01,  2.22354016e+00,\n",
       "        3.94724764e+00,  8.77052594e+00,  2.69298509e+01,  1.21880356e+02,\n",
       "        4.22205796e+02,  1.34915054e+03,  4.16676704e+03,  2.20336199e+04])"
      ]
     },
     "execution_count": 9,
     "metadata": {},
     "output_type": "execute_result"
    }
   ],
   "source": [
    "es, cs = eigh(T+V, b=S)\n",
    "es*au2eV"
   ]
  },
  {
   "cell_type": "code",
   "execution_count": 11,
   "metadata": {},
   "outputs": [
    {
     "data": {
      "text/plain": [
       "array([ 1.11595450e-04,  9.63709516e-04, -4.99548935e-04,  1.60604704e-02,\n",
       "        3.26324250e-03,  3.96984496e-01, -1.07771440e+00, -2.90752559e-01,\n",
       "        1.17125441e-01, -6.99989504e-02,  4.04056226e-02, -2.28238618e-02,\n",
       "        1.26257537e-02, -6.69247320e-03,  3.12702933e-03, -9.58034666e-04])"
      ]
     },
     "execution_count": 11,
     "metadata": {},
     "output_type": "execute_result"
    }
   ],
   "source": [
    "cs[:,0]"
   ]
  },
  {
   "cell_type": "code",
   "execution_count": 16,
   "metadata": {},
   "outputs": [],
   "source": [
    "mo=jolanta.eval_mos(rs, cs[:,0], alphas, Ns, l)\n",
    "\n",
    "plt.cla()\n",
    "plt.plot(rs,-0.25*mo)\n",
    "plt.plot(rs,wf[:,0])\n",
    "plt.show()"
   ]
  },
  {
   "cell_type": "code",
   "execution_count": 17,
   "metadata": {},
   "outputs": [
    {
     "name": "stdout",
     "output_type": "stream",
     "text": [
      "  1   -0.35639910 au =     -9.69811 eV\n",
      "  2    0.00001951 au =      0.00053 eV\n",
      "  3    0.00008222 au =      0.00224 eV\n",
      "  4    0.00027140 au =      0.00739 eV\n",
      "  5    0.00084838 au =      0.02309 eV\n",
      "  6    0.00272050 au =      0.07403 eV\n",
      "  7    0.01007955 au =      0.27428 eV\n",
      "  8    0.08171359 au =      2.22354 eV\n",
      "  9    0.14505868 au =      3.94725 eV\n",
      " 10    0.32231089 au =      8.77053 eV\n"
     ]
    }
   ],
   "source": [
    "n_e_gto=0\n",
    "for i in range(n_basis):\n",
    "    if es[i]*au2eV > thresh:\n",
    "        break\n",
    "    print(\"%3d  %12.8f au = %12.5f eV\" % (i+1, es[i], es[i]*au2eV))\n",
    "    n_e_gto += 1\n",
    "\n",
    "mo=jolanta.eval_mos(rs, cs[:,0:n_e_gto+1], alphas, Ns, l)\n",
    "\n",
    "gscale=50\n",
    "plt.cla()\n",
    "plt.ylim(es[0]*au2eV-1, thresh)\n",
    "plt.plot(rs,Vs*au2eV, '-', color=\"black\")\n",
    "for i in range(n_e_gto):\n",
    "    plt.plot(rs, gscale*mo[:,i]**2+es[i]*au2eV, '-', color=\"blue\")\n",
    "plt.show()"
   ]
  },
  {
   "cell_type": "code",
   "execution_count": null,
   "metadata": {},
   "outputs": [],
   "source": []
  }
 ],
 "metadata": {
  "kernelspec": {
   "display_name": "Python 3",
   "language": "python",
   "name": "python3"
  },
  "language_info": {
   "codemirror_mode": {
    "name": "ipython",
    "version": 3
   },
   "file_extension": ".py",
   "mimetype": "text/x-python",
   "name": "python",
   "nbconvert_exporter": "python",
   "pygments_lexer": "ipython3",
   "version": "3.6.9"
  }
 },
 "nbformat": 4,
 "nbformat_minor": 2
}
