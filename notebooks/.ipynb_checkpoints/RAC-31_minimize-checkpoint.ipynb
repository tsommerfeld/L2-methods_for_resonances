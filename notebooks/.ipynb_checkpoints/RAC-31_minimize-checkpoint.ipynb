{
 "cells": [
  {
   "cell_type": "code",
   "execution_count": 1,
   "metadata": {},
   "outputs": [],
   "source": [
    "import numpy as np\n",
    "from scipy.optimize import minimize\n",
    "from scipy.optimize import dual_annealing\n",
    "#from pandas import Series, DataFrame\n",
    "import pandas as pd\n",
    "import matplotlib\n",
    "import matplotlib.pyplot as plt\n",
    "matplotlib.use('Qt5Agg')\n",
    "%matplotlib qt5\n",
    "#\n",
    "# if pade.py is not in the current directory, set this path:\n",
    "#\n",
    "import sys\n",
    "sys.path.append('../Python_libs')\n",
    "import rac_pade_functions as racx"
   ]
  },
  {
   "cell_type": "code",
   "execution_count": 2,
   "metadata": {},
   "outputs": [
    {
     "data": {
      "text/html": [
       "<div>\n",
       "<style scoped>\n",
       "    .dataframe tbody tr th:only-of-type {\n",
       "        vertical-align: middle;\n",
       "    }\n",
       "\n",
       "    .dataframe tbody tr th {\n",
       "        vertical-align: top;\n",
       "    }\n",
       "\n",
       "    .dataframe thead th {\n",
       "        text-align: right;\n",
       "    }\n",
       "</style>\n",
       "<table border=\"1\" class=\"dataframe\">\n",
       "  <thead>\n",
       "    <tr style=\"text-align: right;\">\n",
       "      <th></th>\n",
       "      <th>l</th>\n",
       "      <th>E1</th>\n",
       "      <th>E2</th>\n",
       "      <th>E3</th>\n",
       "      <th>E4</th>\n",
       "    </tr>\n",
       "  </thead>\n",
       "  <tbody>\n",
       "    <tr>\n",
       "      <th>0</th>\n",
       "      <td>0.0</td>\n",
       "      <td>0.469219</td>\n",
       "      <td>1.365173</td>\n",
       "      <td>1.938043</td>\n",
       "      <td>3.271038</td>\n",
       "    </tr>\n",
       "    <tr>\n",
       "      <th>1</th>\n",
       "      <td>0.2</td>\n",
       "      <td>0.457846</td>\n",
       "      <td>1.314401</td>\n",
       "      <td>1.844238</td>\n",
       "      <td>3.242423</td>\n",
       "    </tr>\n",
       "    <tr>\n",
       "      <th>2</th>\n",
       "      <td>0.4</td>\n",
       "      <td>0.446073</td>\n",
       "      <td>1.251127</td>\n",
       "      <td>1.760926</td>\n",
       "      <td>3.215267</td>\n",
       "    </tr>\n",
       "    <tr>\n",
       "      <th>3</th>\n",
       "      <td>0.6</td>\n",
       "      <td>0.433754</td>\n",
       "      <td>1.173608</td>\n",
       "      <td>1.690292</td>\n",
       "      <td>3.189317</td>\n",
       "    </tr>\n",
       "    <tr>\n",
       "      <th>4</th>\n",
       "      <td>0.8</td>\n",
       "      <td>0.420648</td>\n",
       "      <td>1.082215</td>\n",
       "      <td>1.632448</td>\n",
       "      <td>3.164365</td>\n",
       "    </tr>\n",
       "  </tbody>\n",
       "</table>\n",
       "</div>"
      ],
      "text/plain": [
       "     l        E1        E2        E3        E4\n",
       "0  0.0  0.469219  1.365173  1.938043  3.271038\n",
       "1  0.2  0.457846  1.314401  1.844238  3.242423\n",
       "2  0.4  0.446073  1.251127  1.760926  3.215267\n",
       "3  0.6  0.433754  1.173608  1.690292  3.189317\n",
       "4  0.8  0.420648  1.082215  1.632448  3.164365"
      ]
     },
     "execution_count": 2,
     "metadata": {},
     "output_type": "execute_result"
    }
   ],
   "source": [
    "Angs2Bohr=1.8897259886\n",
    "au2eV=27.211386027\n",
    "au2cm=219474.63068\n",
    "#\n",
    "#  files in the current directory do not need the path name\n",
    "#\n",
    "#df = pd.read_csv(\"/home/thomas/Python/StabPlots/Stab_data/1D_a0.2_b0_c0.14/crossing_1.dat\", delim_whitespace=True)\n",
    "df = pd.read_csv(\"sb_rac.csv\")\n",
    "#df = pd.read_csv(\"crossing_1.dat\", delim_whitespace=True)\n",
    "plt.cla()\n",
    "plt.plot(df.l.values, df.E1.values, 'o-')\n",
    "plt.plot(df.l.values, df.E2.values, 'o-')\n",
    "plt.plot(df.l.values, df.E3.values, 'o-')\n",
    "plt.show()\n",
    "df[:5]"
   ]
  },
  {
   "cell_type": "code",
   "execution_count": 3,
   "metadata": {},
   "outputs": [
    {
     "name": "stdout",
     "output_type": "stream",
     "text": [
      "N= 89\n"
     ]
    }
   ],
   "source": [
    "i_neg = np.argmin(abs(df.E1.values))\n",
    "if df.E1[i_neg] > 0:\n",
    "    i_neg += 1\n",
    "ls = df.l.values[i_neg:]\n",
    "print('N=',len(ls))\n",
    "Es = df.E1.values[i_neg:]\n",
    "plt.cla()\n",
    "plt.plot(df.l.values, df.E1.values, 'b-')\n",
    "plt.plot(df.l.values, df.E2.values, 'b-')\n",
    "plt.plot(df.l.values, df.E3.values, 'b-')\n",
    "plt.plot(ls, Es, 'o-', color=\"orange\")\n",
    "plt.show()"
   ]
  },
  {
   "cell_type": "code",
   "execution_count": 4,
   "metadata": {},
   "outputs": [],
   "source": [
    "k2s = -Es\n",
    "ks  = np.sqrt(k2s)"
   ]
  },
  {
   "cell_type": "code",
   "execution_count": 5,
   "metadata": {},
   "outputs": [],
   "source": [
    "def chi2_gen(params, ks, k2s, lbs, pade):\n",
    "    \"\"\"\n",
    "    chi2 = mean of squared deviations \n",
    "    \"\"\"\n",
    "    diffs = pade(ks, k2s, params) - lbs\n",
    "    return np.sum(np.square(diffs)) / len(ks)\n",
    "\n",
    "def chi2_gen_num_jac(params, ks, k2s, lbs, pade, step=1e-3, tiny=1e-6):\n",
    "    \"\"\"\n",
    "    chi2 = mean of squared deviations and its numerical gradient\n",
    "    \"\"\"\n",
    "    n_kappa = len(ks)\n",
    "    n_para = len(params)\n",
    "    p0 = list(params)\n",
    "    diffs = pade(ks, k2s, params) - lbs\n",
    "    chi2 = np.sum(np.square(diffs)) / n_kappa\n",
    "    \n",
    "    dchi2 = np.zeros(n_para)\n",
    "    for ip in range(n_para):\n",
    "        h = params[ip]*step + tiny\n",
    "        pm = np.array(p0[:ip] + [p0[ip]-h] + p0[ip+1:])\n",
    "        pp = np.array(p0[:ip] + [p0[ip]+h] + p0[ip+1:])\n",
    "        chi2_m = chi2_gen(pm, ks, k2s, lbs, pade)\n",
    "        chi2_p = chi2_gen(pp, ks, k2s, lbs, pade)\n",
    "        dchi2[ip] = (chi2_p - chi2_m)/(2*h)\n",
    "    return chi2, dchi2\n",
    "    \n",
    "def pade_31(k, ksq, params):\n",
    "    \"\"\" \n",
    "    Pade [3,1] without gradient  \n",
    "    \"\"\"\n",
    "    l = params[0]\n",
    "    a = params[1]\n",
    "    b = params[2]\n",
    "    d = params[3]\n",
    "    a4b2=a*a*a*a + b*b\n",
    "    aak2=a*a*k*2\n",
    "    ddk=d*d*k\n",
    "    num = (ksq + aak2 + a4b2) * (1 + ddk)\n",
    "    den = a4b2 + aak2 + ddk*a4b2\n",
    "    return l * num / den\n",
    "\n",
    "def pade_31_num_jac(k, ksq, params, step=1e-2, tiny=1e-4):\n",
    "    \"\"\" \n",
    "    Pade [3,1] with numerical gradient \n",
    "    \"\"\"\n",
    "    f = pade_31(k, ksq, params)\n",
    "    l = params[0]\n",
    "    a = params[1]\n",
    "    b = params[2]\n",
    "    d = params[3]\n",
    "    h = l*step + tiny\n",
    "    dfdl = (pade_31(k, ksq, [l+h,a,b,d]) - pade_31(k, ksq, [l-h,a,b,d]))/(2*h)\n",
    "    h = a*step + tiny\n",
    "    dfda = (pade_31(k, ksq, [l,a+h,b,d]) - pade_31(k, ksq, [l,a-h,b,d]))/(2*h)\n",
    "    h = b*step + tiny\n",
    "    dfdb = (pade_31(k, ksq, [l,a,b+h,d]) - pade_31(k, ksq, [l,a,b-h,d]))/(2*h)\n",
    "    h = d*step + tiny\n",
    "    dfdd = (pade_31(k, ksq, [l,a,b,d+h]) - pade_31(k, ksq, [l,a,b,d-h]))/(2*h)\n",
    "    return f, np.array([dfdl, dfda, dfdb, dfdd])"
   ]
  },
  {
   "cell_type": "code",
   "execution_count": 6,
   "metadata": {},
   "outputs": [],
   "source": [
    "def chi2_gen_j(params, ks, k2s, lbs, pade):\n",
    "    \"\"\"\n",
    "    chi2 = mean of squared deviations and its analytical gradient\n",
    "    \"\"\"\n",
    "    n_kappa = len(ks)\n",
    "    n_param = len(params)\n",
    "    fs, dfs = pade(ks, k2s, params)\n",
    "    diffs = fs - lbs\n",
    "    chi2 = np.sum(np.square(diffs)) / n_kappa\n",
    "    dchi2 = np.zeros(n_param)\n",
    "    for ip in range(n_param):\n",
    "        dchi2[ip] = 2./n_kappa * np.sum(diffs*dfs[ip])\n",
    "    return chi2, dchi2\n",
    "\n",
    "def pade_31j(k, ksq, params):\n",
    "    \"\"\"\n",
    "    Pade [3,1] with analytical gradient (see RAC-31_derivatives notebook)\n",
    "    \"\"\"\n",
    "    l = params[0]\n",
    "    a = params[1]\n",
    "    b = params[2]\n",
    "    d = params[3]\n",
    "    a2 = a*a\n",
    "    b2 = b*b\n",
    "    d2 = d*d\n",
    "    a4b2 = a2*a2 + b2\n",
    "    aak2 = a2*k*2\n",
    "    ddk = d2*k\n",
    "    fr1 = (ksq + aak2 + a4b2)\n",
    "    fr2 = (1 + ddk)\n",
    "    den = a4b2 + aak2 + ddk*a4b2\n",
    "    dl = fr1*fr2/den\n",
    "    f = l*dl\n",
    "    da = -4*a*ksq*l * fr2 * (a2*a2*d2 + a2*fr2 - b2*d2 + k) / den**2\n",
    "    db = -2*b*ksq*l * fr2 * (2*a2*d2 + fr2) / den**2\n",
    "    dd = 4*a2*d*ksq*l * fr1/den**2\n",
    "    return f, np.array([dl, da, db, dd])"
   ]
  },
  {
   "cell_type": "code",
   "execution_count": 7,
   "metadata": {},
   "outputs": [],
   "source": [
    "#\n",
    "#  start parameters computed backwards from a guess for the energy and the width\n",
    "#\n",
    "E0, G0 = 2.00, 2/7\n",
    "p0s=[1.1] + racx.guess(E0, G0) + [0.5]"
   ]
  },
  {
   "cell_type": "code",
   "execution_count": 8,
   "metadata": {},
   "outputs": [
    {
     "name": "stdout",
     "output_type": "stream",
     "text": [
      "num grad: [ 7.49507397 -4.9819603  -9.18854002  1.41924795]\n",
      "ana grad: [ 7.49507394 -4.98196024 -9.18854002  1.41924818]\n"
     ]
    }
   ],
   "source": [
    "#\n",
    "#  the derivative of [3,1] works\n",
    "#\n",
    "f1s, df1s = pade_31_num_jac(ks[88], k2s[88], p0s, step=1e-8, tiny=1e-11)\n",
    "print(\"num grad:\", df1s)\n",
    "\n",
    "f2s, df2s = pade_31j(ks[88], k2s[88], p0s)\n",
    "print(\"ana grad:\", df2s)"
   ]
  },
  {
   "cell_type": "code",
   "execution_count": 9,
   "metadata": {},
   "outputs": [
    {
     "data": {
      "text/plain": [
       "52.415954742841656"
      ]
     },
     "execution_count": 9,
     "metadata": {},
     "output_type": "execute_result"
    }
   ],
   "source": [
    "#\n",
    "#  this is the reference when called with jac=False so that BFGS calls its own jac\n",
    "#\n",
    "chi2_gen(p0s, ks, k2s, ls, pade_31)"
   ]
  },
  {
   "cell_type": "code",
   "execution_count": 10,
   "metadata": {},
   "outputs": [
    {
     "data": {
      "text/plain": [
       "(52.415954742841656,\n",
       " array([-66.9006039 ,  36.63069754,  76.70161933, -10.38224543]))"
      ]
     },
     "execution_count": 10,
     "metadata": {},
     "output_type": "execute_result"
    }
   ],
   "source": [
    "#\n",
    "#  pade-independent testing\n",
    "#\n",
    "chi2_gen_num_jac(p0s, ks, k2s, ls, pade_31)"
   ]
  },
  {
   "cell_type": "code",
   "execution_count": 11,
   "metadata": {},
   "outputs": [
    {
     "data": {
      "text/plain": [
       "(52.415954742841656,\n",
       " array([-66.9006039 ,  36.63070077,  76.70160859, -10.38224678]))"
      ]
     },
     "execution_count": 11,
     "metadata": {},
     "output_type": "execute_result"
    }
   ],
   "source": [
    "#\n",
    "#  analytical gradients for [3,1]\n",
    "#\n",
    "chi2_gen_j(p0s, ks, k2s, ls, pade_31j)"
   ]
  },
  {
   "cell_type": "code",
   "execution_count": 28,
   "metadata": {},
   "outputs": [],
   "source": [
    "E0, G0 = 2.00, 2/7\n",
    "p0s=[1.1] + racx.guess(E0, G0) + [0.5]"
   ]
  },
  {
   "cell_type": "code",
   "execution_count": 13,
   "metadata": {},
   "outputs": [],
   "source": [
    "# either bounds or constraints can be used to force positive parameters\n",
    "\n",
    "bnds = ((0, None), (0, None), (0, None), (0, None))\n",
    "\n",
    "cons = ({'type': 'ineq', 'fun': lambda x: x[0] },\n",
    "        {'type': 'ineq', 'fun': lambda x: x[1] },\n",
    "        {'type': 'ineq', 'fun': lambda x: x[2] },\n",
    "        {'type': 'ineq', 'fun': lambda x: x[3] })"
   ]
  },
  {
   "cell_type": "code",
   "execution_count": 29,
   "metadata": {},
   "outputs": [
    {
     "name": "stdout",
     "output_type": "stream",
     "text": [
      "Start parameters: [1.1, 0.22466750413864453, 1.4151140501139234, 0.5]\n",
      "BFGS, internal numerical gradient\n",
      "      fun: 3.0159595196231878e-06\n",
      " hess_inv: array([[ 15.88337009,  29.41925669,  11.87554517,  69.20082553],\n",
      "       [ 29.41925669,  84.04483817,  24.96552035, 210.36997813],\n",
      "       [ 11.87554517,  24.96552035,   9.33318592,  59.32905905],\n",
      "       [ 69.20082553, 210.36997813,  59.32905905, 533.02977062]])\n",
      "      jac: array([-6.66810138e-07, -6.29959516e-07,  1.29107738e-06,  1.97000020e-07])\n",
      "  message: 'Desired error not necessarily achieved due to precision loss.'\n",
      "     nfev: 1806\n",
      "      nit: 185\n",
      "     njev: 299\n",
      "   status: 2\n",
      "  success: False\n",
      "        x: array([ 2.40219073, -0.27164931,  1.2812399 , -0.4550124 ])\n",
      "chi=3.016e-06\n",
      "Er=1.636130,  Gamma=0.378188\n"
     ]
    }
   ],
   "source": [
    "#\n",
    "#  start with BFGS (the golden standard)\n",
    "#\n",
    "\n",
    "#\n",
    "#  test results of other minimizers wrt BFGS\n",
    "#\n",
    "#p0s=[2.44040724, 0.16932892, 1.32155826, 0.        ] # NM and TNC result\n",
    "#p0s=[2.37223416, 0.13635571, 1.61335633, 0.50136893]\n",
    "\n",
    "print(\"Start parameters:\",p0s)\n",
    "print('BFGS, internal numerical gradient')\n",
    "res = minimize(chi2_gen, p0s, args=(ks, k2s, ls, pade_31), \n",
    "               method='BFGS', options={'gtol':1e-7})\n",
    "print(res)\n",
    "print(\"chi=%.3e\" % res.fun)\n",
    "print(\"Er=%f,  Gamma=%f\" % racx.res_ene(res.x[1], res.x[2]))"
   ]
  },
  {
   "cell_type": "code",
   "execution_count": 30,
   "metadata": {},
   "outputs": [
    {
     "name": "stdout",
     "output_type": "stream",
     "text": [
      "BFGS analytic gradient\n",
      "      fun: 3.0155975501555383e-06\n",
      " hess_inv: array([[ 12.70879283,  26.97427272,   9.99751874,  64.48265454],\n",
      "       [ 26.97427272,  85.22964941,  24.02379081, 215.01555975],\n",
      "       [  9.99751874,  24.02379081,   8.27934306,  57.98755226],\n",
      "       [ 64.48265454, 215.01555975,  57.98755226, 547.98379581]])\n",
      "      jac: array([ 5.73811383e-08, -1.04021546e-08, -5.63930233e-08,  3.84652730e-09])\n",
      "  message: 'Optimization terminated successfully.'\n",
      "     nfev: 233\n",
      "      nit: 189\n",
      "     njev: 233\n",
      "   status: 0\n",
      "  success: True\n",
      "        x: array([ 2.40228638, -0.27139777,  1.28131935, -0.45438902])\n",
      "chi=3.016e-06\n",
      "Er=1.636354,  Gamma=0.377511\n"
     ]
    }
   ],
   "source": [
    "print('BFGS analytic gradient')\n",
    "res = minimize(chi2_gen_j, p0s, args=(ks, k2s, ls, pade_31j), \n",
    "               method='BFGS', jac=True, options={'gtol':1e-7})\n",
    "print(res)\n",
    "print(\"chi=%.3e\" % res.fun)\n",
    "print(\"Er=%f,  Gamma=%f\" % racx.res_ene(res.x[1], res.x[2]))"
   ]
  },
  {
   "cell_type": "code",
   "execution_count": 34,
   "metadata": {},
   "outputs": [
    {
     "name": "stdout",
     "output_type": "stream",
     "text": [
      "Nelder-Mead\n",
      " final_simplex: (array([[2.44043586, 0.16956807, 1.32151389, 0.02322596],\n",
      "       [2.44038811, 0.16959836, 1.32147288, 0.02320769],\n",
      "       [2.44052564, 0.16954202, 1.32156976, 0.02321572],\n",
      "       [2.44051364, 0.16958808, 1.32152692, 0.02315765],\n",
      "       [2.44047597, 0.16954337, 1.32155263, 0.02324037]]), array([9.61569958e-05, 9.61570259e-05, 9.61570827e-05, 9.61581258e-05,\n",
      "       9.61584642e-05]))\n",
      "           fun: 9.61569957635438e-05\n",
      "       message: 'Optimization terminated successfully.'\n",
      "          nfev: 441\n",
      "           nit: 257\n",
      "        status: 0\n",
      "       success: True\n",
      "             x: array([2.44043586, 0.16956807, 1.32151389, 0.02322596])\n",
      "chi=9.616e-05\n",
      "Er=1.745572,  Gamma=0.151992\n"
     ]
    }
   ],
   "source": [
    "print('Nelder-Mead')\n",
    "res = minimize(chi2_gen, p0s, args=(ks, k2s, ls, pade_31), \n",
    "               method='Nelder-Mead', options={'fatol':1e-8})\n",
    "print(res)\n",
    "print(\"chi=%.3e\" % res.fun)\n",
    "print(\"Er=%f,  Gamma=%f\" % racx.res_ene(res.x[1], res.x[2]))"
   ]
  },
  {
   "cell_type": "code",
   "execution_count": 35,
   "metadata": {},
   "outputs": [
    {
     "name": "stdout",
     "output_type": "stream",
     "text": [
      "Conjugate gradient\n",
      "     fun: 3.015598378866983e-06\n",
      "     jac: array([-9.97773159e-08, -3.36466340e-08, -2.51854832e-08, -5.48299324e-08])\n",
      " message: 'Optimization terminated successfully.'\n",
      "    nfev: 418\n",
      "     nit: 168\n",
      "    njev: 418\n",
      "  status: 0\n",
      " success: True\n",
      "       x: array([2.4022893 , 0.27138629, 1.28132215, 0.45435932])\n",
      "chi=3.016e-06\n",
      "Er=1.636362,  Gamma=0.377480\n"
     ]
    }
   ],
   "source": [
    "print('Conjugate gradient')\n",
    "res = minimize(chi2_gen_j, p0s, args=(ks, k2s, ls, pade_31j), \n",
    "               method='CG', jac=True, options={'gtol':1e-7})\n",
    "print(res)\n",
    "print(\"chi=%.3e\" % res.fun)\n",
    "print(\"Er=%f,  Gamma=%f\" % racx.res_ene(res.x[1], res.x[2]))"
   ]
  },
  {
   "cell_type": "code",
   "execution_count": 36,
   "metadata": {},
   "outputs": [
    {
     "name": "stdout",
     "output_type": "stream",
     "text": [
      "L-BFGS-B with bounds\n",
      "      fun: 3.0156000032858187e-06\n",
      " hess_inv: <4x4 LbfgsInvHessProduct with dtype=float64>\n",
      "      jac: array([ 9.22092705e-06, -1.75455818e-05, -2.32621538e-05,  5.56398487e-06])\n",
      "  message: b'CONVERGENCE: REL_REDUCTION_OF_F_<=_FACTR*EPSMCH'\n",
      "     nfev: 83\n",
      "      nit: 66\n",
      "   status: 0\n",
      "  success: True\n",
      "        x: array([2.40228589, 0.27140862, 1.28131802, 0.45441936])\n",
      "chi=3.016e-06\n",
      "Er=1.636350,  Gamma=0.377541\n"
     ]
    }
   ],
   "source": [
    "print('L-BFGS-B with bounds')\n",
    "res = minimize(chi2_gen_j, p0s, args=(ks, k2s, ls, pade_31j), \n",
    "               method='L-BFGS-B', jac=True, bounds=bnds, options={'ftol':1e-10, 'gtol':1e-7})\n",
    "print(res)\n",
    "print(\"chi=%.3e\" % res.fun)\n",
    "print(\"Er=%f,  Gamma=%f\" % racx.res_ene(res.x[1], res.x[2]))"
   ]
  },
  {
   "cell_type": "code",
   "execution_count": 37,
   "metadata": {},
   "outputs": [
    {
     "name": "stdout",
     "output_type": "stream",
     "text": [
      "TNC with bounds\n",
      "     fun: 9.686276402626803e-05\n",
      "     jac: array([-4.81317911e-05, -4.11358394e-06, -1.04926071e-05,  0.00000000e+00])\n",
      " message: 'Converged (|f_n-f_(n-1)| ~= 0)'\n",
      "    nfev: 83\n",
      "     nit: 20\n",
      "  status: 1\n",
      " success: True\n",
      "       x: array([2.44040724, 0.16932892, 1.32155826, 0.        ])\n",
      "chi=9.686e-05\n",
      "Er=1.745694,  Gamma=0.151568\n"
     ]
    }
   ],
   "source": [
    "print('TNC with bounds')\n",
    "res = minimize(chi2_gen_j, p0s, args=(ks, k2s, ls, pade_31j), \n",
    "               method='TNC', jac=True, bounds=bnds, options={'gtol':1e-7})\n",
    "print(res)\n",
    "print(\"chi=%.3e\" % res.fun)\n",
    "print(\"Er=%f,  Gamma=%f\" % racx.res_ene(res.x[1], res.x[2]))"
   ]
  },
  {
   "cell_type": "code",
   "execution_count": 38,
   "metadata": {},
   "outputs": [
    {
     "name": "stdout",
     "output_type": "stream",
     "text": [
      "COBYLA with constraints\n",
      "     fun: 0.00044623017466970685\n",
      "   maxcv: 0.0\n",
      " message: 'Maximum number of function evaluations has been exceeded.'\n",
      "    nfev: 10000\n",
      "  status: 2\n",
      " success: False\n",
      "       x: array([2.25177525, 0.48456724, 1.33498584, 1.66261286])\n",
      "chi=4.462e-04\n",
      "Er=1.727054,  Gamma=1.253848\n"
     ]
    }
   ],
   "source": [
    "print('COBYLA with constraints')\n",
    "res = minimize(chi2_gen, p0s, args=(ks, k2s, ls, pade_31), \n",
    "               method='COBYLA', tol=1e-7, constraints=cons, options={'maxiter':10000})\n",
    "print(res)\n",
    "print(\"chi=%.3e\" % res.fun)\n",
    "print(\"Er=%f,  Gamma=%f\" % racx.res_ene(res.x[1], res.x[2]))"
   ]
  },
  {
   "cell_type": "code",
   "execution_count": 47,
   "metadata": {},
   "outputs": [
    {
     "name": "stdout",
     "output_type": "stream",
     "text": [
      "SLSQP with bounds\n",
      "     fun: 3.01564282275708e-06\n",
      "     jac: array([ 9.27220900e-06, -1.72492714e-05, -2.41637280e-05,  5.69864797e-06])\n",
      " message: 'Optimization terminated successfully.'\n",
      "    nfev: 120\n",
      "     nit: 92\n",
      "    njev: 92\n",
      "  status: 0\n",
      " success: True\n",
      "       x: array([2.40225743, 0.27148706, 1.281294  , 0.45461489])\n",
      "chi=3.016e-06\n",
      "Er=1.636282,  Gamma=0.377752\n"
     ]
    }
   ],
   "source": [
    "#\n",
    "#  Sequential least squares programming (allows constraints) \n",
    "#\n",
    "\n",
    "print('SLSQP with constraints')\n",
    "res = minimize(chi2_gen_j, p0s, args=(ks, k2s, ls, pade_31j), \n",
    "               method='SLSQP', jac=True, constraints=cons, options={'ftol':1e-10})\n",
    "print(res)\n",
    "print(\"chi=%.3e\" % res.fun)\n",
    "print(\"Er=%f,  Gamma=%f\" % racx.res_ene(res.x[1], res.x[2]))"
   ]
  },
  {
   "cell_type": "code",
   "execution_count": 30,
   "metadata": {},
   "outputs": [
    {
     "name": "stdout",
     "output_type": "stream",
     "text": [
      "Trust Constraint\n"
     ]
    },
    {
     "name": "stderr",
     "output_type": "stream",
     "text": [
      "/home/thomas/psi4conda/lib/python3.6/site-packages/scipy/optimize/_hessian_update_strategy.py:187: UserWarning: delta_grad == 0.0. Check if the approximated function is linear. If the function is linear better results can be obtained by defining the Hessian as zero instead of using quasi-Newton approximations.\n",
      "  'approximations.', UserWarning)\n"
     ]
    },
    {
     "name": "stdout",
     "output_type": "stream",
     "text": [
      " barrier_parameter: 3.200000000000001e-05\n",
      " barrier_tolerance: 3.200000000000001e-05\n",
      "          cg_niter: 2323\n",
      "      cg_stop_cond: 4\n",
      "            constr: [array([2.35287119]), array([0.4221579]), array([1.28770424]), array([0.91263174])]\n",
      "       constr_nfev: [4980, 4980, 4980, 4980]\n",
      "       constr_nhev: [0, 0, 0, 0]\n",
      "       constr_njev: [0, 0, 0, 0]\n",
      "    constr_penalty: 1.0\n",
      "  constr_violation: 0.0\n",
      "    execution_time: 4.066244840621948\n",
      "               fun: 0.00010519814682772358\n",
      "              grad: array([1.88737142e-06, 1.94989374e-04, 4.96904831e-05, 2.53610702e-04])\n",
      "               jac: [array([[1., 0., 0., 0.]]), array([[0., 1., 0., 0.]]), array([[0., 0., 1., 0.]]), array([[0., 0., 0., 1.]])]\n",
      "   lagrangian_grad: array([-9.92095417e-06,  1.80284446e-05,  1.54953032e-05,  9.93112707e-05])\n",
      "           message: 'The maximum number of function evaluations is exceeded.'\n",
      "            method: 'tr_interior_point'\n",
      "              nfev: 996\n",
      "              nhev: 0\n",
      "               nit: 1001\n",
      "             niter: 1001\n",
      "              njev: 996\n",
      "        optimality: 9.931127071941874e-05\n",
      "            status: 0\n",
      "           success: False\n",
      "         tr_radius: 20929.505382551197\n",
      "                 v: [array([-1.18083256e-05]), array([-0.00017696]), array([-3.41951799e-05]), array([-0.0001543])]\n",
      "                 x: array([2.35287119, 0.4221579 , 1.28770424, 0.91263174])\n",
      "chi=1.052e-04\n",
      "Er=1.626421,  Gamma=0.917965\n"
     ]
    }
   ],
   "source": [
    "print('Trust Constraint')\n",
    "res = minimize(chi2_gen_j, p0s, args=(ks, k2s, ls, pade_31j), \n",
    "               method='trust-constr', constraints=cons, jac=True)\n",
    "print(res)\n",
    "print(\"chi=%.3e\" % res.fun)\n",
    "print(\"Er=%f,  Gamma=%f\" % racx.res_ene(res.x[1], res.x[2]))"
   ]
  },
  {
   "cell_type": "code",
   "execution_count": null,
   "metadata": {},
   "outputs": [],
   "source": []
  }
 ],
 "metadata": {
  "kernelspec": {
   "display_name": "Python 3",
   "language": "python",
   "name": "python3"
  },
  "language_info": {
   "codemirror_mode": {
    "name": "ipython",
    "version": 3
   },
   "file_extension": ".py",
   "mimetype": "text/x-python",
   "name": "python",
   "nbconvert_exporter": "python",
   "pygments_lexer": "ipython3",
   "version": "3.6.9"
  }
 },
 "nbformat": 4,
 "nbformat_minor": 4
}
