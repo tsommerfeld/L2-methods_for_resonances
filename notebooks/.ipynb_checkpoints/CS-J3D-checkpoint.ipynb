{
 "cells": [
  {
   "cell_type": "code",
   "execution_count": 4,
   "metadata": {},
   "outputs": [],
   "source": [
    "import numpy as np\n",
    "from numpy.linalg import eigvals\n",
    "import matplotlib\n",
    "import matplotlib.pyplot as plt\n",
    "matplotlib.use('Qt5Agg')\n",
    "%matplotlib qt5\n",
    "#\n",
    "#  extend path by location of the dvr package\n",
    "#\n",
    "import sys\n",
    "sys.path.append('/home/thomas/Current_Work/Jolanta-by-dvr/Python_libs')\n",
    "import dvr\n",
    "import jolanta\n",
    "import read_write"
   ]
  },
  {
   "cell_type": "code",
   "execution_count": 5,
   "metadata": {},
   "outputs": [],
   "source": [
    "amu_to_au=1822.888486192\n",
    "au2cm=219474.63068\n",
    "au2eV=27.211386027\n",
    "Angs2Bohr=1.8897259886"
   ]
  },
  {
   "cell_type": "code",
   "execution_count": 6,
   "metadata": {},
   "outputs": [
    {
     "name": "stdout",
     "output_type": "stream",
     "text": [
      "nGrid = 300\n",
      "  1    0.01170180 au =      0.31842 eV\n",
      "  2    0.03547063 au =      0.96521 eV\n",
      "  3    0.06136177 au =      1.66974 eV\n",
      "  4    0.08324826 au =      2.26530 eV\n",
      "  5    0.13292595 au =      3.61710 eV\n",
      "  6    0.19792627 au =      5.38585 eV\n"
     ]
    }
   ],
   "source": [
    "#\n",
    "#  compute DVR of T and V\n",
    "#  then show the density of states\n",
    "#  in a potential + energy-levels plot\n",
    "#\n",
    "rmin=0\n",
    "rmax=30      # grid from 0 to rmax\n",
    "thresh = 5   # maximum energy for state in the plot in eV\n",
    "ppB = 10     # grid points per Bohr\n",
    "\n",
    "nGrid=int((rmax-rmin)*ppB)\n",
    "print(\"nGrid = %d\" % nGrid)\n",
    "rs = dvr.DVRGrid(rmin, rmax, nGrid)\n",
    "Vs = jolanta.Jolanta_3D(rs, a=0.1, b=1.2, c=0.1, l=1)\n",
    "Ts = dvr.KineticEnergy(1, rmin, rmax, nGrid)\n",
    "[energy, wf] = dvr.DVRDiag2(nGrid, Ts, Vs)\n",
    "\n",
    "n_ene=0\n",
    "for i in range(nGrid):\n",
    "    print(\"%3d  %12.8f au = %12.5f eV\" % (i+1, energy[i], energy[i]*au2eV))\n",
    "    n_ene += 1\n",
    "    if energy[i]*au2eV > thresh:\n",
    "        break\n",
    "\n",
    "# \"DVR normalization\", sum(wf[:,0]**2)\n",
    "# this is correct for plotting\n",
    "\n",
    "c=[\"orange\", \"blue\"]\n",
    "#h=float(xmax) / (nGrid+1.0)\n",
    "scale=150\n",
    "\n",
    "plt.plot(rs,Vs*au2eV, '-', color=\"black\")\n",
    "for i in range(n_ene):\n",
    "    plt.plot(rs, scale*wf[:,i]**2+energy[i]*au2eV, '-', color=c[i%len(c)])\n",
    "plt.ylim(energy[0]*au2eV-1, energy[n_ene-1]*au2eV+1)\n",
    "plt.xlabel('$r$ [Bohr]')\n",
    "plt.ylabel('$E$ [eV]')\n",
    "plt.show()"
   ]
  },
  {
   "cell_type": "code",
   "execution_count": 27,
   "metadata": {},
   "outputs": [
    {
     "name": "stdout",
     "output_type": "stream",
     "text": [
      "0.6981317007977318\n"
     ]
    },
    {
     "data": {
      "text/plain": [
       "array([-0.0586289  -5.25656195j, -0.02464396 -3.35638671j,\n",
       "       -0.02436828 -7.66686727j,  0.02665461 -1.91931405j,\n",
       "        0.0377573  -0.29914998j,  0.05471593 -0.91311125j,\n",
       "        0.15257371-10.64207663j,  0.61492073-14.19015055j,\n",
       "        1.60407346-17.84363933j,  1.75699568 -0.19929499j])"
      ]
     },
     "execution_count": 27,
     "metadata": {},
     "output_type": "execute_result"
    }
   ],
   "source": [
    "\"\"\" complex diagonalization example \"\"\"\n",
    "\n",
    "theta=40.0/180.0*np.pi\n",
    "print(theta)\n",
    "Vs = jolanta.Jolanta_3D(rs*np.exp(1j*complex(theta)), a=0.1, b=1.2, c=0.1, l=1)\n",
    "H_theta = np.exp(-2j*complex(theta)) * Ts + np.diag(Vs)\n",
    "energies = eigvals(H_theta)\n",
    "energies.sort()\n",
    "energies[:10]*au2eV"
   ]
  },
  {
   "cell_type": "code",
   "execution_count": 22,
   "metadata": {},
   "outputs": [],
   "source": [
    "r2s = np.linspace(0.5,9.5,num=10)\n",
    "rts = r2s*np.exp(1j*complex(theta))\n",
    "(V0as, V0bs, V0cs) = jolanta.Jolanta_3D(r2s, a=0.1, b=1.2, c=0.1, l=1, as_parts=True)\n",
    "(Vas, Vbs, Vcs) = jolanta.Jolanta_3D(rts, a=0.1, b=1.2, c=0.1, l=1, as_parts=True)"
   ]
  },
  {
   "cell_type": "code",
   "execution_count": 28,
   "metadata": {},
   "outputs": [
    {
     "data": {
      "text/plain": [
       "array([ 2.01968890e-01+1.00069556e+00j,  4.64677495e-01+1.11108159e+00j,\n",
       "        1.19066794e+00+1.17967042e+00j,  2.70241432e+00+5.19374525e-01j,\n",
       "        4.40518158e+00-3.00065188e+00j, -1.45946448e-01-1.21781390e+01j,\n",
       "       -3.05237396e+01-1.20870459e+01j, -5.62591915e+01+8.79445772e+01j,\n",
       "        3.30955840e+02+2.09439998e+02j,  6.14441899e+02-1.62081686e+03j])"
      ]
     },
     "execution_count": 28,
     "metadata": {},
     "output_type": "execute_result"
    }
   ],
   "source": [
    "Vas/V0as"
   ]
  },
  {
   "cell_type": "code",
   "execution_count": null,
   "metadata": {},
   "outputs": [],
   "source": [
    "#\n",
    "# above theta = 40 deg the lowest Re(E) are basis set \n",
    "# representation artifacts, and we should either not go there\n",
    "# or use a better filter for the states to keep\n",
    "#"
   ]
  },
  {
   "cell_type": "code",
   "execution_count": 9,
   "metadata": {},
   "outputs": [
    {
     "name": "stdout",
     "output_type": "stream",
     "text": [
      "1 2 3 4 5 6 7 8 9 10 \n",
      "11 12 13 14 15 16 17 18 19 20 \n",
      "21 22 23 24 25 26 27 28 29 30 \n",
      "31 32 33 34 35 36 37 38 39 40 \n",
      "41 42 43 44 45 46 47 48 49 50 \n",
      "51 52 53 54 55 56 57 58 59 60 \n",
      "61 62 63 64 65 66 67 68 69 70 \n",
      "71 72 73 74 75 76 77 78 79 80 \n",
      "81 "
     ]
    }
   ],
   "source": [
    "#\n",
    "#  complex scaling loop: \n",
    "#\n",
    "#  start on the real axis (theta=0) and rotate to theta = theta_max \n",
    "#\n",
    "#  we keep n_keep energies with the lowest real part \n",
    "#\n",
    "\n",
    "n_theta=81\n",
    "n_keep=16\n",
    "theta_min=0\n",
    "theta_max=40.0/180.0*np.pi\n",
    "\n",
    "thetas=np.linspace(theta_min, theta_max, n_theta, endpoint=True)\n",
    "run_data = np.zeros((n_theta,n_keep), complex)  # array used to collect all theta-run data\n",
    "\n",
    "for i_theta in range(n_theta):\n",
    "    theta=thetas[i_theta]\n",
    "    Vs = jolanta.Jolanta_3D(rs*np.exp(1j*complex(theta)), a=0.1, b=1.2, c=0.1, l=1)\n",
    "    H_theta = np.exp(-2j*complex(theta)) * Ts + np.diag(Vs)\n",
    "    energies = eigvals(H_theta)\n",
    "    energies.sort()\n",
    "    run_data[i_theta,:] = energies[0:n_keep]\n",
    "    print(i_theta+1, end=\" \")\n",
    "    if (i_theta+1)%10==0:\n",
    "        print()\n",
    "\n",
    "run_data *= au2eV"
   ]
  },
  {
   "cell_type": "code",
   "execution_count": null,
   "metadata": {},
   "outputs": [],
   "source": [
    "#run_data[0,1:8]"
   ]
  },
  {
   "cell_type": "code",
   "execution_count": 11,
   "metadata": {},
   "outputs": [],
   "source": [
    "#\n",
    "# useful piece of the complex plane \n",
    "# (if unknown, plot all and zoom with matplotlib)\n",
    "#\n",
    "plt.cla()\n",
    "for i in range(0, n_keep):\n",
    "    plt.plot(run_data[:,i].real,  run_data[:,i].imag, 'o', color='blue')\n",
    "plt.xlim(0,5)\n",
    "plt.ylim(-1,0)\n",
    "plt.show()"
   ]
  },
  {
   "cell_type": "code",
   "execution_count": 12,
   "metadata": {},
   "outputs": [],
   "source": [
    "#\n",
    "#\n",
    "#  two follow ideas:\n",
    "#\n",
    "#   - at the last theta compute the angles and compare with 2*theta\n",
    "#     if significantly smaller, then resonance\n",
    "#\n",
    "#   - once a trajectory has five values, use them\n",
    "#     to establish a Pade[2,2]\n",
    "#     then predict for the next theta\n",
    "#\n",
    "def follow_nearest(follow, es):\n",
    "    \"\"\"\n",
    "    follow the energy closet to e0 from the real axis into the complex plane\n",
    "    es is a table of theta-run data es[i_theta,j_energies]\n",
    "    the algorithm used is simply nearest to the old energy\n",
    "    \"\"\"\n",
    "    (n_thetas, n_energies) = es.shape\n",
    "    trajectory = np.zeros(n_thetas,complex)\n",
    "    for j in range(0,n_thetas):\n",
    "        i = np.argmin(abs(es[j,:]-follow))\n",
    "        follow = trajectory[j] = es[j,i]\n",
    "    return trajectory"
   ]
  },
  {
   "cell_type": "code",
   "execution_count": 13,
   "metadata": {},
   "outputs": [],
   "source": [
    "n_save = n_keep//2\n",
    "trajectories = np.zeros((n_theta, n_save), complex)\n",
    "for j in range(n_save):\n",
    "    trajectories[:,j] = follow_nearest(run_data[0,j], run_data)\n",
    "for i in range(0, n_save):\n",
    "    plt.plot(trajectories[:,i].real,  trajectories[:,i].imag, '-')\n",
    "plt.show()"
   ]
  },
  {
   "cell_type": "code",
   "execution_count": null,
   "metadata": {},
   "outputs": [],
   "source": [
    "#\n",
    "#  save n_save trajectories to file\n",
    "#  csv as real and imag \n",
    "#  (at the moment easier than csv with complex)\n",
    "#  also, include no header, because the energies need to be sorted\n",
    "#  into trajectories first\n",
    "#\n",
    "fname=\"complex_scaling_rmax.\"+str(int(rmax))+\"_ppB.\"+str(ppB)+\".csv\"\n",
    "read_write.write_theta_run(fname,thetas,trajectories)"
   ]
  },
  {
   "cell_type": "code",
   "execution_count": 14,
   "metadata": {},
   "outputs": [
    {
     "name": "stdout",
     "output_type": "stream",
     "text": [
      "0 -82.80643512040358\n",
      "1 -86.57079292512012\n",
      "2 -6.471367088426272\n",
      "3 -89.20435195532649\n",
      "4 -90.42068144904269\n",
      "5 -90.63902021848122\n",
      "6 -90.18210758962188\n",
      "7 -89.17861607957353\n"
     ]
    }
   ],
   "source": [
    "#\n",
    "# regarding the question of automatization:\n",
    "# the resonance clearly stands out in CS/DVR\n",
    "# use to make a loop over the Jolanata parameters \n",
    "# and map Eres(a,b,c) in a useful range: 0.1 to 8 eV\n",
    "#\n",
    "for i in range(n_save):\n",
    "    print(i, np.angle(trajectories[-1,i],deg=True))"
   ]
  },
  {
   "cell_type": "code",
   "execution_count": 15,
   "metadata": {},
   "outputs": [],
   "source": [
    "res_traj = trajectories[:,2]"
   ]
  },
  {
   "cell_type": "code",
   "execution_count": 16,
   "metadata": {},
   "outputs": [],
   "source": [
    "def naive_derivative(xs, ys):\n",
    "    \"\"\" naive forward or backward derivative \"\"\"\n",
    "    return (ys[1]-ys[0])/(xs[1]-xs[0])\n",
    "\n",
    "def central_derivative(xs, ys):\n",
    "    \"\"\" central derivative at x[1] \"\"\"\n",
    "    return (ys[2]-ys[0])/(xs[2]-xs[0])\n",
    "\n",
    "def five_point_derivative(xs, ys):\n",
    "    \"\"\" five-point derivative at x[2] \"\"\"\n",
    "    \"\"\" (-ys[0] + 8*ys[1] - 8*ys[3] + ys[4])/(12*h)  \"\"\"\n",
    "    return (-ys[0] + 8*ys[1] - 8*ys[3] + ys[4])/(xs[4]-xs[0])/3"
   ]
  },
  {
   "cell_type": "code",
   "execution_count": 17,
   "metadata": {},
   "outputs": [],
   "source": [
    "abs_der = np.zeros(n_theta)\n",
    "abs_der[0] = abs(naive_derivative(thetas[0:2], res_traj[0:2]))\n",
    "abs_der[1] = abs(central_derivative(thetas[0:3], res_traj[0:3]))\n",
    "for k in range(2,n_theta-2):\n",
    "    abs_der[k] = abs(five_point_derivative(thetas[k-2:k+3], res_traj[k-2:k+3]))\n",
    "abs_der[-2] = abs(naive_derivative(thetas[-3:], res_traj[-3:]))\n",
    "abs_der[-1] = abs(naive_derivative(thetas[-2:], res_traj[-2:]))"
   ]
  },
  {
   "cell_type": "code",
   "execution_count": 18,
   "metadata": {},
   "outputs": [],
   "source": [
    "plt.cla()\n",
    "plt.plot(thetas*180/np.pi, np.log(abs_der))\n",
    "plt.show()"
   ]
  },
  {
   "cell_type": "code",
   "execution_count": 19,
   "metadata": {},
   "outputs": [
    {
     "name": "stdout",
     "output_type": "stream",
     "text": [
      "65 32.5\n",
      "(1.7569135282148007-0.19930673068469212j)\n",
      "(-4.711593980077922e-06+1.658790880348926e-06j)\n",
      "(4.855750322718677e-06-1.187225819349047e-06j)\n"
     ]
    }
   ],
   "source": [
    "#\n",
    "#  get a feeling for the stabilitity of the value\n",
    "#\n",
    "j_opt = np.argmin(abs_der)\n",
    "print(j_opt, thetas[j_opt]*180/np.pi)\n",
    "print(res_traj[j_opt])\n",
    "print(res_traj[j_opt-1]-res_traj[j_opt])\n",
    "print(res_traj[j_opt+1]-res_traj[j_opt])"
   ]
  },
  {
   "cell_type": "code",
   "execution_count": null,
   "metadata": {},
   "outputs": [],
   "source": []
  }
 ],
 "metadata": {
  "kernelspec": {
   "display_name": "Python 3",
   "language": "python",
   "name": "python3"
  },
  "language_info": {
   "codemirror_mode": {
    "name": "ipython",
    "version": 3
   },
   "file_extension": ".py",
   "mimetype": "text/x-python",
   "name": "python",
   "nbconvert_exporter": "python",
   "pygments_lexer": "ipython3",
   "version": "3.6.9"
  }
 },
 "nbformat": 4,
 "nbformat_minor": 2
}
