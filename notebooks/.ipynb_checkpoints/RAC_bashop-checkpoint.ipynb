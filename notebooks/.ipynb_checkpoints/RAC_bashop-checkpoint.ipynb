{
 "cells": [
  {
   "cell_type": "code",
   "execution_count": 31,
   "metadata": {},
   "outputs": [],
   "source": [
    "import numpy as np\n",
    "from scipy.optimize import least_squares\n",
    "from scipy.optimize import basinhopping\n",
    "from pandas import Series, DataFrame\n",
    "import pandas as pd\n",
    "import matplotlib\n",
    "import matplotlib.pyplot as plt\n",
    "matplotlib.use('Qt5Agg')\n",
    "%matplotlib qt5\n",
    "#\n",
    "# if pade.py is not in the current directory, set this path:\n",
    "#\n",
    "#import sys\n",
    "from rac_aux import *"
   ]
  },
  {
   "cell_type": "code",
   "execution_count": 2,
   "metadata": {},
   "outputs": [
    {
     "data": {
      "text/html": [
       "<div>\n",
       "<style scoped>\n",
       "    .dataframe tbody tr th:only-of-type {\n",
       "        vertical-align: middle;\n",
       "    }\n",
       "\n",
       "    .dataframe tbody tr th {\n",
       "        vertical-align: top;\n",
       "    }\n",
       "\n",
       "    .dataframe thead th {\n",
       "        text-align: right;\n",
       "    }\n",
       "</style>\n",
       "<table border=\"1\" class=\"dataframe\">\n",
       "  <thead>\n",
       "    <tr style=\"text-align: right;\">\n",
       "      <th></th>\n",
       "      <th>l</th>\n",
       "      <th>E1</th>\n",
       "      <th>E2</th>\n",
       "      <th>E3</th>\n",
       "      <th>E4</th>\n",
       "    </tr>\n",
       "  </thead>\n",
       "  <tbody>\n",
       "    <tr>\n",
       "      <th>0</th>\n",
       "      <td>0.0</td>\n",
       "      <td>0.469219</td>\n",
       "      <td>1.365173</td>\n",
       "      <td>1.938043</td>\n",
       "      <td>3.271038</td>\n",
       "    </tr>\n",
       "    <tr>\n",
       "      <th>1</th>\n",
       "      <td>0.2</td>\n",
       "      <td>0.457846</td>\n",
       "      <td>1.314401</td>\n",
       "      <td>1.844238</td>\n",
       "      <td>3.242423</td>\n",
       "    </tr>\n",
       "    <tr>\n",
       "      <th>2</th>\n",
       "      <td>0.4</td>\n",
       "      <td>0.446073</td>\n",
       "      <td>1.251127</td>\n",
       "      <td>1.760926</td>\n",
       "      <td>3.215267</td>\n",
       "    </tr>\n",
       "    <tr>\n",
       "      <th>3</th>\n",
       "      <td>0.6</td>\n",
       "      <td>0.433754</td>\n",
       "      <td>1.173608</td>\n",
       "      <td>1.690292</td>\n",
       "      <td>3.189317</td>\n",
       "    </tr>\n",
       "    <tr>\n",
       "      <th>4</th>\n",
       "      <td>0.8</td>\n",
       "      <td>0.420648</td>\n",
       "      <td>1.082215</td>\n",
       "      <td>1.632448</td>\n",
       "      <td>3.164365</td>\n",
       "    </tr>\n",
       "  </tbody>\n",
       "</table>\n",
       "</div>"
      ],
      "text/plain": [
       "     l        E1        E2        E3        E4\n",
       "0  0.0  0.469219  1.365173  1.938043  3.271038\n",
       "1  0.2  0.457846  1.314401  1.844238  3.242423\n",
       "2  0.4  0.446073  1.251127  1.760926  3.215267\n",
       "3  0.6  0.433754  1.173608  1.690292  3.189317\n",
       "4  0.8  0.420648  1.082215  1.632448  3.164365"
      ]
     },
     "execution_count": 2,
     "metadata": {},
     "output_type": "execute_result"
    }
   ],
   "source": [
    "Angs2Bohr=1.8897259886\n",
    "au2eV=27.211386027\n",
    "au2cm=219474.63068\n",
    "#\n",
    "#  files in the current directory do not need the path name\n",
    "#\n",
    "#df = pd.read_csv(\"/home/thomas/Python/StabPlots/Stab_data/1D_a0.2_b0_c0.14/crossing_1.dat\", delim_whitespace=True)\n",
    "df = pd.read_csv(\"sb_rac.csv\")\n",
    "#df = pd.read_csv(\"crossing_1.dat\", delim_whitespace=True)\n",
    "plt.cla()\n",
    "plt.plot(df.l.values, df.E1.values, 'o-')\n",
    "plt.plot(df.l.values, df.E2.values, 'o-')\n",
    "plt.plot(df.l.values, df.E3.values, 'o-')\n",
    "plt.show()\n",
    "df[:5]"
   ]
  },
  {
   "cell_type": "code",
   "execution_count": 3,
   "metadata": {},
   "outputs": [
    {
     "name": "stdout",
     "output_type": "stream",
     "text": [
      "N= 89\n"
     ]
    }
   ],
   "source": [
    "i_neg = np.argmin(abs(df.E1.values))\n",
    "if df.E1[i_neg] > 0:\n",
    "    i_neg += 1\n",
    "ls = df.l.values[i_neg:]\n",
    "print('N=',len(ls))\n",
    "Es = df.E1.values[i_neg:]\n",
    "plt.cla()\n",
    "plt.plot(df.l.values, df.E1.values, 'b-')\n",
    "plt.plot(df.l.values, df.E2.values, 'b-')\n",
    "plt.plot(df.l.values, df.E3.values, 'b-')\n",
    "plt.plot(ls, Es, 'o', color=\"orange\")\n",
    "plt.plot([df.l[0],df.l.values[-1]],[0,0],'-', color='black')\n",
    "plt.show()"
   ]
  },
  {
   "cell_type": "code",
   "execution_count": 4,
   "metadata": {},
   "outputs": [],
   "source": [
    "#\n",
    "#  kappas, kappa**2, and sigmas (weights = sigma**2)\n",
    "#  least_squares() passes parg to each pade_nm function\n",
    "#\n",
    "k2s = -Es\n",
    "ks  = np.sqrt(k2s)\n",
    "sigmas = weights(len(Es), 'ones')\n",
    "#sigmas = weights(len(Es), 'energy', E0=Es[11], Es=Es)\n",
    "parg=(ks,k2s,ls,sigmas)"
   ]
  },
  {
   "cell_type": "code",
   "execution_count": 23,
   "metadata": {},
   "outputs": [],
   "source": [
    "#\n",
    "#  So far, nm can be in [21, 31, 32, 42, 53]\n",
    "#\n",
    "nm=53\n",
    "\n",
    "pade_fns = {\"21\":(pade_21_lsq, pade_21j_lsq), \n",
    "            \"31\":(pade_31_lsq, pade_31j_lsq), \n",
    "            \"32\":(pade_32_lsq, pade_32j_lsq),\n",
    "            \"42\":(pade_42_lsq, pade_42j_lsq),\n",
    "            \"53\":(pade_53_lsq, pade_53j_lsq)}\n",
    "\n",
    "fun=pade_fns[str(nm)][0]\n",
    "jac=pade_fns[str(nm)][1]"
   ]
  },
  {
   "cell_type": "code",
   "execution_count": 24,
   "metadata": {},
   "outputs": [
    {
     "name": "stdout",
     "output_type": "stream",
     "text": [
      "[2.3919, 0.2964, 1.3187, 1.3736, 0.29655, 0.4543, 0.5078, 1]\n",
      "33.16551690973274\n"
     ]
    }
   ],
   "source": [
    "# start params depend on nm\n",
    "# basin_hopping should be less sensitive to good p0s\n",
    "p31_opt = [2.4022, 0.2713, 1.2813, 0.4543]\n",
    "p42_opt = [2.3919, 0.2964, 1.3187, 1.3736,  0.29655, 0.5078]\n",
    "\n",
    "E0 = linear_extra(ls,Es)\n",
    "G0 = 0.2*E0\n",
    "if nm == 21:\n",
    "    p0s=[ls[0]] + guess(E0, G0)\n",
    "elif nm == 31:\n",
    "    p0s=[ls[0]] + guess(E0, G0) + [10]\n",
    "elif nm == 32:\n",
    "    p0s=[ls[0]] + guess(E0, G0) + [10, 1]\n",
    "    #p0s=p31_opt + [0.2]\n",
    "elif nm == 42:\n",
    "    p0s=[ls[0]] + guess(E0, G0) + guess(5*E0,10*G0) + [10]\n",
    "elif nm == 53:\n",
    "    p0s = p42_opt[0:5] + p31_opt[3:] + p42_opt[5:] + [1]\n",
    "else:\n",
    "    print(\"Warning\", nm, \"not implemented\")\n",
    "print(p0s)\n",
    "print(chi2_gen(p0s, ks, k2s, ls, sigmas, fun))"
   ]
  },
  {
   "cell_type": "code",
   "execution_count": 25,
   "metadata": {},
   "outputs": [],
   "source": [
    "#\n",
    "#  Because basin_hopping calls a minimize()-like function, \n",
    "#  calling instead least_squares() requires jumping through some hoops\n",
    "#\n",
    "#  We minimize chi2 = 1/M sum_i (rac(k_i) - lambda_i)**2\n",
    "#\n",
    "#  basin_hopping needs bh_chi2() as parameter and will call this function directly \n",
    "#  (not just the local minimizer)\n",
    "#\n",
    "#  \n",
    "#  To call least_squares() a wrapper-function knowing how to call f_lsq(k)=rac(k)-lambda and \n",
    "#  a function returning the gradient matrix of f_lsq(k_i) with respect to the parameter p_j \n",
    "#\n",
    "arg_nm = (ks, k2s, ls, sigmas, fun, jac)\n",
    "\n",
    "def bh_chi2(params, args=()):\n",
    "    \"\"\"\n",
    "    at the moment   'args':(ks, k2s, ls, f_lsq, j_lsq)\n",
    "    \"\"\"\n",
    "    (ks, k2s, ls, sigmas, f_lsq, j_lsq) = args\n",
    "    diffs = f_lsq(params, ks, k2s, ls, sigmas)\n",
    "    return np.sum(np.square(diffs))\n",
    "\n",
    "def lsq_wrapper(fun, x0, args=(), method=None, jac=None, hess=None,\n",
    "             hessp=None, bounds=None, constraints=(), tol=None,\n",
    "             callback=None, options=None):\n",
    "    (ks, k2s, ls, sigmas, f_lsq, j_lsq) = args\n",
    "    res = least_squares(f_lsq, x0, method='trf', jac=j_lsq, \n",
    "                        args=(ks, k2s, ls, sigmas))\n",
    "    res.fun = res.cost*2\n",
    "    #print(res.fun, res.x)\n",
    "    #print('wrapper:', res.fun)\n",
    "    #delattr(res, 'njev')\n",
    "    return res\n",
    "\n",
    "def bh_call_back(x, f, accepted):\n",
    "    global jbh, chi2s, alphas, betas\n",
    "    #nonlocal jbh, chi2s, alphas, betas\n",
    "    chi2s[jbh] = f\n",
    "    alphas[jbh], betas[jbh] = x[1], x[2]\n",
    "    jbh += 1"
   ]
  },
  {
   "cell_type": "code",
   "execution_count": 26,
   "metadata": {},
   "outputs": [
    {
     "name": "stdout",
     "output_type": "stream",
     "text": [
      "4.929080018263523e-10\n",
      "4.929080018263522e-10\n"
     ]
    }
   ],
   "source": [
    "# check lsq_wrapper and bh_chi\n",
    "res = lsq_wrapper(bh_chi2, p0s, args=arg_nm)\n",
    "print(res.fun)\n",
    "print(bh_chi2(res.x, args=arg_nm))"
   ]
  },
  {
   "cell_type": "code",
   "execution_count": 27,
   "metadata": {},
   "outputs": [
    {
     "name": "stdout",
     "output_type": "stream",
     "text": [
      "2.338187743918324e-11\n",
      "[ 2.39268253  0.24355147  1.32306903  0.48814693 -1.67346061 -0.31170181\n",
      "  2.20312499  0.83989187]\n",
      "(1.746993122077947, 0.3139236176592722)\n"
     ]
    }
   ],
   "source": [
    "#\n",
    "#  for least_squares:\n",
    "#\n",
    "min_kwargs = {'method':lsq_wrapper, 'args':arg_nm, 'jac':True}\n",
    "\n",
    "jbh=0\n",
    "n_bh = 1000\n",
    "chi2s = np.zeros(n_bh)\n",
    "alphas = np.zeros(n_bh)\n",
    "betas = np.zeros(n_bh)\n",
    "res = basinhopping(bh_chi2, p0s, minimizer_kwargs=min_kwargs, niter=n_bh, \n",
    "                   T=1e-2, seed=1, callback=bh_call_back)\n",
    "print(res.fun)\n",
    "print(res.x)\n",
    "print(res_ene(res.x[1],res.x[2]))"
   ]
  },
  {
   "cell_type": "code",
   "execution_count": 28,
   "metadata": {},
   "outputs": [
    {
     "name": "stdout",
     "output_type": "stream",
     "text": [
      "[-10.63112062 -10.63112062 -10.63112062] [3.97233924 4.37782949 4.5341454 ]\n"
     ]
    }
   ],
   "source": [
    "Ers, Gms = res_ene(alphas, betas)\n",
    "logs = np.log10(chi2s)\n",
    "srt=np.sort(logs)\n",
    "print(srt[0:3], srt[-3:])"
   ]
  },
  {
   "cell_type": "code",
   "execution_count": 38,
   "metadata": {},
   "outputs": [
    {
     "data": {
      "text/html": [
       "<div>\n",
       "<style scoped>\n",
       "    .dataframe tbody tr th:only-of-type {\n",
       "        vertical-align: middle;\n",
       "    }\n",
       "\n",
       "    .dataframe tbody tr th {\n",
       "        vertical-align: top;\n",
       "    }\n",
       "\n",
       "    .dataframe thead th {\n",
       "        text-align: right;\n",
       "    }\n",
       "</style>\n",
       "<table border=\"1\" class=\"dataframe\">\n",
       "  <thead>\n",
       "    <tr style=\"text-align: right;\">\n",
       "      <th></th>\n",
       "      <th>logs</th>\n",
       "      <th>Er</th>\n",
       "      <th>G</th>\n",
       "    </tr>\n",
       "  </thead>\n",
       "  <tbody>\n",
       "    <tr>\n",
       "      <th>5</th>\n",
       "      <td>-10.631121</td>\n",
       "      <td>1.746993</td>\n",
       "      <td>0.313924</td>\n",
       "    </tr>\n",
       "    <tr>\n",
       "      <th>94</th>\n",
       "      <td>-10.631121</td>\n",
       "      <td>0.353463</td>\n",
       "      <td>0.101433</td>\n",
       "    </tr>\n",
       "    <tr>\n",
       "      <th>6</th>\n",
       "      <td>-10.631121</td>\n",
       "      <td>1.746993</td>\n",
       "      <td>0.313924</td>\n",
       "    </tr>\n",
       "    <tr>\n",
       "      <th>31</th>\n",
       "      <td>-10.631121</td>\n",
       "      <td>1.746993</td>\n",
       "      <td>0.313924</td>\n",
       "    </tr>\n",
       "    <tr>\n",
       "      <th>106</th>\n",
       "      <td>-10.631121</td>\n",
       "      <td>1.746993</td>\n",
       "      <td>0.313924</td>\n",
       "    </tr>\n",
       "  </tbody>\n",
       "</table>\n",
       "</div>"
      ],
      "text/plain": [
       "          logs        Er         G\n",
       "5   -10.631121  1.746993  0.313924\n",
       "94  -10.631121  0.353463  0.101433\n",
       "6   -10.631121  1.746993  0.313924\n",
       "31  -10.631121  1.746993  0.313924\n",
       "106 -10.631121  1.746993  0.313924"
      ]
     },
     "execution_count": 38,
     "metadata": {},
     "output_type": "execute_result"
    }
   ],
   "source": [
    "dic = {'logs':logs, 'Er':Ers, 'G':Gms}\n",
    "rf = DataFrame(dic)\n",
    "#print(rf[:5])\n",
    "rf = rf.sort_values('logs')\n",
    "rf[:5]"
   ]
  },
  {
   "cell_type": "code",
   "execution_count": 46,
   "metadata": {},
   "outputs": [
    {
     "data": {
      "text/plain": [
       "2244.6199185712394"
      ]
     },
     "execution_count": 46,
     "metadata": {},
     "output_type": "execute_result"
    }
   ],
   "source": []
  },
  {
   "cell_type": "code",
   "execution_count": 36,
   "metadata": {},
   "outputs": [
    {
     "data": {
      "text/plain": [
       "array([ 36.,   0.,   1.,   3.,   0.,   3.,  31.,  44.,  13.,  63.,   7.,\n",
       "        19.,   0.,   1.,   0.,   0.,  12.,   0.,   0.,   0.,   0.,   0.,\n",
       "         0.,   2., 312.,   1.,   1.,   0.,   1.,   0.,   5.,   3.,   7.,\n",
       "        11.,  15.,  27.,  40.,  41.,  26.,  30.,  57., 115.,  32.,  11.,\n",
       "        14.,   9.,   1.,   2.,   2.,   2.])"
      ]
     },
     "execution_count": 36,
     "metadata": {},
     "output_type": "execute_result"
    }
   ],
   "source": [
    "plt.cla()\n",
    "pop, edges, patches = plt.hist(logs, bins=50)\n",
    "pop"
   ]
  },
  {
   "cell_type": "code",
   "execution_count": 53,
   "metadata": {},
   "outputs": [],
   "source": [
    "if 'cb' in vars():\n",
    "    cb.remove()\n",
    "    del cb\n",
    "plt.cla()\n",
    "N=100   # needed for [5,3]\n",
    "# 'viridis', 'plasma'\n",
    "plt.scatter(rf.Er.values[:N], rf.G.values[:N], c=rf.logs[:N], s=20, cmap='viridis')\n",
    "#plt.xlim(0,3)\n",
    "#plt.ylim(0,1)\n",
    "cb = plt.colorbar()\n",
    "plt.tick_params(labelsize=12)\n",
    "plt.xlabel('$E_r$ [eV]', fontsize=10)\n",
    "plt.ylabel('$\\Gamma$ [eV]', fontsize=10)\n",
    "plt.show()"
   ]
  },
  {
   "cell_type": "code",
   "execution_count": null,
   "metadata": {},
   "outputs": [],
   "source": []
  }
 ],
 "metadata": {
  "kernelspec": {
   "display_name": "Python 3",
   "language": "python",
   "name": "python3"
  },
  "language_info": {
   "codemirror_mode": {
    "name": "ipython",
    "version": 3
   },
   "file_extension": ".py",
   "mimetype": "text/x-python",
   "name": "python",
   "nbconvert_exporter": "python",
   "pygments_lexer": "ipython3",
   "version": "3.6.9"
  }
 },
 "nbformat": 4,
 "nbformat_minor": 4
}
