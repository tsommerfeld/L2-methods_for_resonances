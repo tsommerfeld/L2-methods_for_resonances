{
 "cells": [
  {
   "cell_type": "code",
   "execution_count": 1,
   "metadata": {},
   "outputs": [],
   "source": [
    "import numpy as np\n",
    "#from scipy.optimize import minimize_scalar\n",
    "from scipy.optimize import root\n",
    "#from pandas import Series, DataFrame\n",
    "import pandas as pd\n",
    "import matplotlib\n",
    "import matplotlib.pyplot as plt\n",
    "matplotlib.use('Qt5Agg')\n",
    "%matplotlib qt5\n",
    "#\n",
    "# if pade.py is not in the current directory, set this path:\n",
    "#\n",
    "import sys\n",
    "sys.path.append('../Python_libs')\n",
    "import pade"
   ]
  },
  {
   "cell_type": "code",
   "execution_count": 2,
   "metadata": {},
   "outputs": [
    {
     "data": {
      "image/png": "[encoded data removed]",
      "text/plain": [
       "<Figure size 432x288 with 1 Axes>"
      ]
     },
     "metadata": {
      "needs_background": "light"
     },
     "output_type": "display_data"
    },
    {
     "data": {
      "text/html": [
       "<div>\n",
       "<style scoped>\n",
       "    .dataframe tbody tr th:only-of-type {\n",
       "        vertical-align: middle;\n",
       "    }\n",
       "\n",
       "    .dataframe tbody tr th {\n",
       "        vertical-align: top;\n",
       "    }\n",
       "\n",
       "    .dataframe thead th {\n",
       "        text-align: right;\n",
       "    }\n",
       "</style>\n",
       "<table border=\"1\" class=\"dataframe\">\n",
       "  <thead>\n",
       "    <tr style=\"text-align: right;\">\n",
       "      <th></th>\n",
       "      <th>L</th>\n",
       "      <th>E1</th>\n",
       "      <th>E2</th>\n",
       "    </tr>\n",
       "  </thead>\n",
       "  <tbody>\n",
       "    <tr>\n",
       "      <th>0</th>\n",
       "      <td>19.0</td>\n",
       "      <td>1.772996</td>\n",
       "      <td>3.096481</td>\n",
       "    </tr>\n",
       "    <tr>\n",
       "      <th>1</th>\n",
       "      <td>19.2</td>\n",
       "      <td>1.762277</td>\n",
       "      <td>3.026361</td>\n",
       "    </tr>\n",
       "    <tr>\n",
       "      <th>2</th>\n",
       "      <td>19.4</td>\n",
       "      <td>1.751653</td>\n",
       "      <td>2.959094</td>\n",
       "    </tr>\n",
       "    <tr>\n",
       "      <th>3</th>\n",
       "      <td>19.6</td>\n",
       "      <td>1.741077</td>\n",
       "      <td>2.894579</td>\n",
       "    </tr>\n",
       "    <tr>\n",
       "      <th>4</th>\n",
       "      <td>19.8</td>\n",
       "      <td>1.730506</td>\n",
       "      <td>2.832720</td>\n",
       "    </tr>\n",
       "  </tbody>\n",
       "</table>\n",
       "</div>"
      ],
      "text/plain": [
       "      L        E1        E2\n",
       "0  19.0  1.772996  3.096481\n",
       "1  19.2  1.762277  3.026361\n",
       "2  19.4  1.751653  2.959094\n",
       "3  19.6  1.741077  2.894579\n",
       "4  19.8  1.730506  2.832720"
      ]
     },
     "execution_count": 2,
     "metadata": {},
     "output_type": "execute_result"
    }
   ],
   "source": [
    "Angs2Bohr=1.8897259886\n",
    "au2eV=27.211386027\n",
    "au2cm=219474.63068\n",
    "#\n",
    "#  files in the current directory do not need the path name\n",
    "#\n",
    "#df = pd.read_csv(\"/home/thomas/Python/StabPlots/Stab_data/1D_a0.2_b0_c0.14/crossing_1.dat\", delim_whitespace=True)\n",
    "df = pd.read_csv(\"crossing_2.dat\", delim_whitespace=True)\n",
    "#df = pd.read_csv(\"crossing_1.dat\", delim_whitespace=True)\n",
    "plt.plot(df.L.values, df.E1.values, 'o-')\n",
    "plt.plot(df.L.values, df.E2.values, 'o-')\n",
    "plt.show()\n",
    "df[:5]"
   ]
  },
  {
   "cell_type": "code",
   "execution_count": 3,
   "metadata": {},
   "outputs": [
    {
     "name": "stdout",
     "output_type": "stream",
     "text": [
      "L_min = 24.600000\n",
      "First approximation: Er=1.685534   Gamma=0.181514\n",
      "Eres = (1.6855343641695-0.09075675483825128j)\n"
     ]
    }
   ],
   "source": [
    "def Maier80_analysis(E1s, E2s):\n",
    "    \"\"\"\n",
    "    JPB 13, L119 (1980)\n",
    "    Er either from E'' = 0 or from (E2-E1)/2 at closest approach\n",
    "    eq(8):  plateau: Gamma = 2*sqrt(2*E_r)/(-L-2E_r/E')\n",
    "    eq(11): mix:     Gamma = 0.5*pi*rho(E)*(E2-E1)^2   \n",
    "    \"\"\"\n",
    "\n",
    "\n",
    "#\n",
    "# Maier 1980\n",
    "#\n",
    "# Er = H11 = average(E1,E2) and pi*Gamma/2 = W = (E2-E1)/2\n",
    "# (seems wrong by a factor of 2: Ei = (E2 - E1)/pi)\n",
    "#\n",
    "i_min = np.argmin(abs(df.E1.values-df.E2.values))\n",
    "L_min=df.L[i_min]\n",
    "E_1 = df.E1[i_min]\n",
    "E_2 = df.E2[i_min]\n",
    "print(\"L_min = %f\" % (df.L[i_min]))\n",
    "Er=0.5*(E_1 + E_2)\n",
    "G0=(E_2 - E_1)/np.pi\n",
    "print(\"First approximation: Er=%f   Gamma=%f\" % (Er,G0))\n",
    "\n",
    "E_guess=(Er-0.5j*G0)\n",
    "print(\"Eres = {0}\".format(E_guess))"
   ]
  },
  {
   "cell_type": "code",
   "execution_count": 4,
   "metadata": {},
   "outputs": [
    {
     "name": "stdout",
     "output_type": "stream",
     "text": [
      "            2\n",
      "-0.0004898 x - 0.09178 x + 1\n",
      "           2\n",
      "-0.002896 x + 0.2617 x + 0.5578\n",
      "           2\n",
      "0.0003917 x + 0.1182 x - 7.439\n"
     ]
    },
    {
     "data": {
      "text/plain": [
       "[<matplotlib.lines.Line2D at 0x7f7da02bb160>]"
      ]
     },
     "execution_count": 4,
     "metadata": {},
     "output_type": "execute_result"
    },
    {
     "data": {
      "image/png": "[encoded data removed]",
      "text/plain": [
       "<Figure size 432x288 with 1 Axes>"
      ]
     },
     "metadata": {
      "needs_background": "light"
     },
     "output_type": "display_data"
    }
   ],
   "source": [
    "#\n",
    "# make one long list of all energies\n",
    "# (which requires the Ls twice)\n",
    "# and fit it to a generalized Pade approximant of order n-n-n\n",
    "#\n",
    "LL = list(df.L.values) + list(df.L.values)\n",
    "Es = list(df.E1.values) + list(df.E2.values)\n",
    "n=2\n",
    "A, B, C = pade.genpade2_via_lstsq(n, n, n, LL, Es, rcond=1e-14)\n",
    "print(A)\n",
    "print(B)\n",
    "print(C)\n",
    "\n",
    "#\n",
    "# compare the input energies and the fitted curves\n",
    "#\n",
    "npts=100\n",
    "Lplots=np.linspace(LL[0],LL[-1],npts)\n",
    "E1plot=np.zeros(npts)\n",
    "E2plot=np.zeros(npts)\n",
    "for i in range(npts):\n",
    "    E1plot[i]=pade.E_lower(Lplots[i], A, B, C)\n",
    "    E2plot[i]=pade.E_upper(Lplots[i], A, B, C)\n",
    "plt.cla()\n",
    "plt.plot(Lplots,E1plot,'-.')\n",
    "plt.plot(Lplots,E2plot,'-.')\n",
    "plt.plot(df.L.values,df.E1.values,'o')\n",
    "plt.plot(df.L.values,df.E2.values,'o')"
   ]
  },
  {
   "cell_type": "code",
   "execution_count": 5,
   "metadata": {},
   "outputs": [],
   "source": [
    "def dEdL(E, L, P, Q, R):\n",
    "    \"\"\" \n",
    "    we know: E^2*P + E*Q + P = 0 \n",
    "    therefore:\n",
    "    dEdL = E' = -(E^2*P' + E*Q' + R')/(2*E*P + Q)\n",
    "    input\n",
    "    P, Q, R: three polynomials that depend on L\n",
    "    E: the energy\n",
    "    L: the independent (scaling) variable\n",
    "    \"\"\"\n",
    "    Pp = P.deriv(1)(L)\n",
    "    Qp = Q.deriv(1)(L)\n",
    "    Rp = R.deriv(1)(L)\n",
    "    return -(E**2*Pp + E*Qp + Rp) / (2*E*P(L) + Q(L))\n",
    "\n",
    "def E_from_L(L, A, B, C):\n",
    "    \"\"\" \n",
    "    given L, solve E^2*A + E*B + C = 0\n",
    "    return roots\n",
    "    \"\"\"\n",
    "    P = np.poly1d([A(L), B(L), C(L)])\n",
    "    return P.roots\n",
    "\n",
    "def E_and_Ep(L, A, B, C):\n",
    "    \"\"\" \n",
    "    given L, solve E^2*A + E*B + C = 0\n",
    "    for every root, compute dEdL\n",
    "    return energies and abs(derivatives)\n",
    "    \"\"\"\n",
    "    P = np.poly1d([A(L), B(L), C(L)])\n",
    "    roots = P.roots\n",
    "    ders = []\n",
    "    for E in roots:\n",
    "        ders.append(abs(dEdL(E, L, A, B, C)))\n",
    "    return roots, ders"
   ]
  },
  {
   "cell_type": "code",
   "execution_count": 6,
   "metadata": {},
   "outputs": [
    {
     "name": "stdout",
     "output_type": "stream",
     "text": [
      "                          2\n",
      "(-0.005877 + 0.0004127j) x + (0.2993 + 0.004332j) x + (-3.666 + -0.3566j)\n",
      "(29.769469643136716+2.6695823820719338j) 0.03276856476965046\n",
      "(20.853027524453335+1.6221845086095117j) 0.055526445367414606\n"
     ]
    }
   ],
   "source": [
    "#\n",
    "#  we have E = E_guess and E^2*A + E*B + C = 0\n",
    "#  solve for L, which gives complex roots \n",
    "#  for each root find E'\n",
    "#\n",
    "P = np.poly1d(E_guess**2*A + E_guess * B + C)\n",
    "print(P)\n",
    "L_guesses = P.roots\n",
    "for r in L_guesses:\n",
    "    print(r, abs(dEdL(E_guess, r, A, B, C)))"
   ]
  },
  {
   "cell_type": "code",
   "execution_count": null,
   "metadata": {},
   "outputs": [],
   "source": []
  },
  {
   "cell_type": "code",
   "execution_count": 7,
   "metadata": {
    "scrolled": false
   },
   "outputs": [
    {
     "data": {
      "image/png": "[encoded data removed]",
      "text/plain": [
       "<Figure size 432x288 with 1 Axes>"
      ]
     },
     "metadata": {
      "needs_background": "light"
     },
     "output_type": "display_data"
    },
    {
     "data": {
      "image/png": "[encoded data removed]",
      "text/plain": [
       "<Figure size 432x288 with 2 Axes>"
      ]
     },
     "metadata": {
      "needs_background": "light"
     },
     "output_type": "display_data"
    },
    {
     "data": {
      "image/png": "[encoded data removed]",
      "text/plain": [
       "<Figure size 432x288 with 2 Axes>"
      ]
     },
     "metadata": {
      "needs_background": "light"
     },
     "output_type": "display_data"
    }
   ],
   "source": [
    "#\n",
    "#  evaluate the Pade approximant in the complex plane\n",
    "#  plot the abs(derivative) on a log-scale\n",
    "#\n",
    "npts=81\n",
    "rp=1\n",
    "ip=5\n",
    "Lrs = np.linspace(df.L.values[0]-rp, df.L.values[-1]+rp, npts)\n",
    "#Lrs = np.linspace(17.5, 18.5, npts)\n",
    "Lis = np.linspace(0, +ip, npts)\n",
    "#Lis = np.linspace(0.4, 1.0, npts)\n",
    "der1 = np.zeros([npts,npts])\n",
    "der2 = np.zeros([npts,npts])\n",
    "for r in range(npts):\n",
    "    for i in range(npts):\n",
    "        L=Lrs[r]+ 1j*Lis[i]\n",
    "        rs, ds = E_and_Ep(L, A, B, C)\n",
    "        der1[i,r] = np.log10(min(ds))\n",
    "        der2[i,r] = np.log10(max(ds))\n",
    "\n",
    "plt.cla()        \n",
    "plt.figure(2)\n",
    "plt.contourf(Lrs, Lis, der1, 10, cmap=plt.cm.jet_r)\n",
    "plt.colorbar()\n",
    "plt.figure(3)\n",
    "plt.contourf(Lrs, Lis, der2, 10, cmap=plt.cm.jet_r)\n",
    "plt.colorbar()\n",
    "plt.show()"
   ]
  },
  {
   "cell_type": "code",
   "execution_count": 8,
   "metadata": {},
   "outputs": [
    {
     "name": "stdout",
     "output_type": "stream",
     "text": [
      "(3.646958529017989-1.4453645126769454j) 0.601569308455356\n",
      "(1.8646173529719812-0.0927349644566848j) 0.03714120127661189\n"
     ]
    }
   ],
   "source": [
    "#\n",
    "#   check a read-off value from a graph\n",
    "#\n",
    "rs, ds = E_and_Ep(16.84+1j*2.4230, A, B, C)\n",
    "for i in range(2):\n",
    "    print(rs[i], ds[i])"
   ]
  },
  {
   "cell_type": "code",
   "execution_count": 9,
   "metadata": {},
   "outputs": [],
   "source": [
    "#\n",
    "#  for Newton we solve dEdL = 0 or E' = 0\n",
    "#\n",
    "#  so we iterate L[i+1] = L[i] - E'/E'' \n",
    "#\n",
    "#  the fraction E'/E'' can be worked out analytically: \n",
    "#  \n",
    "# (E^2*P' + E*Q' + R')  /\n",
    "# (2*P*E'^2 + 4*E*E'*P' + E^2*P'' + 2*E'*Q' + E*Q'' + R'')\n",
    "#\n",
    "def EpoEpp(E, L, P, Q, R):\n",
    "    \"\"\" E'/E'' needed for Newton's method \"\"\"\n",
    "    Pp = P.deriv(1)(L)\n",
    "    Qp = Q.deriv(1)(L)\n",
    "    Rp = R.deriv(1)(L)\n",
    "    Ep = -(E**2*Pp + E*Qp + Rp) / (2*E*P(L) + Q(L))\n",
    "    Ppp = P.deriv(2)(L)\n",
    "    Qpp = Q.deriv(2)(L)\n",
    "    Rpp = R.deriv(2)(L)\n",
    "    num = E**2*Pp + E*Qp + Rp\n",
    "    den = 2*P(L)*Ep**2 + 4*E*Ep*Pp + E**2*Ppp + 2*Ep*Qp + E*Qpp + Rpp\n",
    "    return num/den"
   ]
  },
  {
   "cell_type": "code",
   "execution_count": null,
   "metadata": {},
   "outputs": [],
   "source": []
  },
  {
   "cell_type": "code",
   "execution_count": 51,
   "metadata": {},
   "outputs": [
    {
     "data": {
      "text/plain": [
       "(0.07787255366019262-0.09223419215028802j)"
      ]
     },
     "execution_count": 51,
     "metadata": {},
     "output_type": "execute_result"
    }
   ],
   "source": [
    "EpoEpp(Ecurr, L_guess, A, B, C)"
   ]
  },
  {
   "cell_type": "code",
   "execution_count": 82,
   "metadata": {},
   "outputs": [
    {
     "name": "stdout",
     "output_type": "stream",
     "text": [
      "  0  (16.4084901, 0.6688791)   (6.7956617, -0.0826559)\n",
      "  1  (15.8872582, 1.0075641)   (6.8430212, -0.0675814)\n",
      "  2  (15.3406612, 1.8839875)   (6.8797208, -0.0806315)\n",
      "  3  (15.9402895, 3.4453362)   (6.8758984, -0.1102522)\n",
      "  4  (17.8550388, 2.7015728)   (6.8669607, -0.0935192)\n",
      "  5  (16.6487769, 3.3333710)   (6.8683047, -0.1065214)\n",
      "  6  (17.1557354, 1.9967563)   (6.8721811, -0.1041016)\n",
      "  7  (17.0125478, 2.3705682)   (6.8698152, -0.1014848)\n",
      "  8  (16.8533429, 2.4839862)   (6.8693985, -0.1015240)\n",
      "  9  (16.8274461, 2.4698142)   (6.8694021, -0.1015308)\n",
      " 10  (16.8279282, 2.4695120)   (6.8694021, -0.1015308)\n",
      " 11  (16.8279280, 2.4695119)   (6.8694021, -0.1015308)\n",
      " 12  (16.8279280, 2.4695119)   (6.8694021, -0.1015308)\n",
      "\n",
      "Final results:\n",
      "  L_star = (16.827928, 2.469512)\n",
      "  Er = 6.869402,  Gamma = -0.203062\n"
     ]
    }
   ],
   "source": [
    "max_step = 20\n",
    "Lstar = L_guesses[0]\n",
    "Ecurr = E_guess\n",
    "tol=1e-7\n",
    "for i in range(max_step):\n",
    "    delta_L = EpoEpp(Ecurr, Lstar, A, B, C)\n",
    "    Lstar = Lstar - delta_L\n",
    "    # compute new Ecurr (two roots, pick closer one to Ecurr)\n",
    "    Es = E_from_L(Lstar, A, B, C)\n",
    "    delta_E = min(abs(Es-Ecurr))\n",
    "    Ecurr = Es[np.argmin(abs(Es-Ecurr))]\n",
    "    # print table with L E\n",
    "    print(\"%3d  (%.7f, %.7f)   (%.7f, %.7f)\" % \n",
    "          (i, Lstar.real, Lstar.imag, Ecurr.real, Ecurr.imag))\n",
    "    # check convergence\n",
    "    if abs(delta_L) < tol and delta_E < tol:\n",
    "        break\n",
    "print(\"\\nFinal results:\")\n",
    "print(\"  L_star = (%.6f, %.6f)\" % (Lstar.real, Lstar.imag))\n",
    "print(\"  Er = %.6f,  Gamma = %.6f\" % (Ecurr.real, 2*Ecurr.imag))"
   ]
  },
  {
   "cell_type": "code",
   "execution_count": null,
   "metadata": {},
   "outputs": [],
   "source": []
  },
  {
   "cell_type": "code",
   "execution_count": null,
   "metadata": {},
   "outputs": [],
   "source": []
  },
  {
   "cell_type": "code",
   "execution_count": 17,
   "metadata": {},
   "outputs": [
    {
     "data": {
      "text/plain": [
       "array([14.80189532,  2.99137826])"
      ]
     },
     "execution_count": 17,
     "metadata": {},
     "output_type": "execute_result"
    }
   ],
   "source": [
    "\"\"\"\n",
    "  collects some results for small n\n",
    "  look again very carefully at:\n",
    "  - the derivative\n",
    "  - the right root (should work for the other root, \n",
    "    but Im(L) negative, right?\n",
    "  - the scipt.root function\n",
    "  - why does this stray outside the original L-range?\n",
    "    fit to larger L-ranges?\n",
    "\"\"\"\n",
    "L0_333=np.array([12.2, 2.93])\n",
    "L0_444=np.array([11.8, 3.53])\n",
    "L0_555=np.array([13.1, 3.04])\n",
    "L0_777=np.array([14.9, 3.04])\n",
    "sol = root(just_dE, L0_777)\n",
    "sol.x"
   ]
  },
  {
   "cell_type": "code",
   "execution_count": null,
   "metadata": {},
   "outputs": [],
   "source": [
    "Lstar=sol.x[0]+1j*sol.x[1]\n",
    "print(\"L=(%f, %f)\" % (Lstar.real, Lstar.imag))\n",
    "E, dE = pade.E_plus(Lstar, A, B, C, der=1)\n",
    "print(\"E=(%f, %f)\" % (E.real, E.imag))\n",
    "print(abs(dE))"
   ]
  },
  {
   "cell_type": "code",
   "execution_count": 18,
   "metadata": {},
   "outputs": [
    {
     "name": "stdout",
     "output_type": "stream",
     "text": [
      " 4  E=(5.577484, -5.258559)   L=(11.758195, 3.527790) dE=1.824215e-14\n",
      " 5  E=(4.994710, -3.354643)   L=(13.070174, 3.048151) dE=5.579869e-14\n",
      " 6  E=(3.835033, -2.158891)   L=(14.801895, 2.991378) dE=5.708510e-13\n",
      " 7  E=(4.659993, -2.215275)   L=(14.000000, 2.448980) dE=8.111599e-03\n",
      " 8  E=(4.771663, -2.034718)   L=(14.005551, 2.227597) dE=1.089630e-02\n"
     ]
    }
   ],
   "source": [
    "\"\"\"\n",
    "\n",
    "automatic loop over n\n",
    "\n",
    "I wonder whether this works. The results suck.\n",
    "\n",
    "\"\"\"\n",
    "npts=50\n",
    "Lrs = np.linspace(df.L.values[0], df.L.values[-1], npts)\n",
    "Lis = np.linspace(0.0, 8.0, npts)\n",
    "absdEs = np.zeros([npts,npts])\n",
    "\n",
    "for n in [4, 5, 6, 7, 8]:\n",
    "    A, B, C = pade.genpade2_via_lstsq(n, n, n, LL, Es, rcond=1e-14)\n",
    "    for r in range(npts):\n",
    "        for i in range(npts):\n",
    "            L = [Lrs[r],Lis[i]]\n",
    "            [dEr, dEi] = just_dE(L)\n",
    "            absdEs[i,r] = np.log10(abs(complex(dEr, dEi)))    \n",
    "    (i, r) = np.unravel_index(absdEs.argmin(), absdEs.shape)\n",
    "    L0 = [Lrs[r], Lis[i]]\n",
    "    sol = root(just_dE, L0)\n",
    "    L0 = sol.x\n",
    "    Lstar=complex(L0[0],L0[1])\n",
    "    E, dE = pade.E_plus(Lstar, A, B, C, der=1)\n",
    "    print(\"%2d  E=(%f, %f)   L=(%f, %f) dE=%e\"  % (n,E.real,E.imag,L0[0],L0[1], abs(dE)))"
   ]
  },
  {
   "cell_type": "code",
   "execution_count": null,
   "metadata": {},
   "outputs": [],
   "source": []
  }
 ],
 "metadata": {
  "kernelspec": {
   "display_name": "Python 3",
   "language": "python",
   "name": "python3"
  },
  "language_info": {
   "codemirror_mode": {
    "name": "ipython",
    "version": 3
   },
   "file_extension": ".py",
   "mimetype": "text/x-python",
   "name": "python",
   "nbconvert_exporter": "python",
   "pygments_lexer": "ipython3",
   "version": "3.6.7"
  }
 },
 "nbformat": 4,
 "nbformat_minor": 2
}
