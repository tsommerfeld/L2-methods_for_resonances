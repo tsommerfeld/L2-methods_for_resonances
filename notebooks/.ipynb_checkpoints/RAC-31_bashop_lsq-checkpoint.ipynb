{
 "cells": [
  {
   "cell_type": "code",
   "execution_count": 1,
   "metadata": {},
   "outputs": [],
   "source": [
    "import numpy as np\n",
    "from scipy.optimize import least_squares\n",
    "from scipy.optimize import basinhopping\n",
    "#from pandas import Series, DataFrame\n",
    "import pandas as pd\n",
    "import matplotlib\n",
    "import matplotlib.pyplot as plt\n",
    "matplotlib.use('Qt5Agg')\n",
    "%matplotlib qt5\n",
    "#\n",
    "# if pade.py is not in the current directory, set this path:\n",
    "#\n",
    "#import sys\n",
    "from rac_aux import *"
   ]
  },
  {
   "cell_type": "code",
   "execution_count": 2,
   "metadata": {},
   "outputs": [
    {
     "data": {
      "text/html": [
       "<div>\n",
       "<style scoped>\n",
       "    .dataframe tbody tr th:only-of-type {\n",
       "        vertical-align: middle;\n",
       "    }\n",
       "\n",
       "    .dataframe tbody tr th {\n",
       "        vertical-align: top;\n",
       "    }\n",
       "\n",
       "    .dataframe thead th {\n",
       "        text-align: right;\n",
       "    }\n",
       "</style>\n",
       "<table border=\"1\" class=\"dataframe\">\n",
       "  <thead>\n",
       "    <tr style=\"text-align: right;\">\n",
       "      <th></th>\n",
       "      <th>l</th>\n",
       "      <th>E1</th>\n",
       "      <th>E2</th>\n",
       "      <th>E3</th>\n",
       "      <th>E4</th>\n",
       "    </tr>\n",
       "  </thead>\n",
       "  <tbody>\n",
       "    <tr>\n",
       "      <th>0</th>\n",
       "      <td>0.0</td>\n",
       "      <td>0.469219</td>\n",
       "      <td>1.365173</td>\n",
       "      <td>1.938043</td>\n",
       "      <td>3.271038</td>\n",
       "    </tr>\n",
       "    <tr>\n",
       "      <th>1</th>\n",
       "      <td>0.2</td>\n",
       "      <td>0.457846</td>\n",
       "      <td>1.314401</td>\n",
       "      <td>1.844238</td>\n",
       "      <td>3.242423</td>\n",
       "    </tr>\n",
       "    <tr>\n",
       "      <th>2</th>\n",
       "      <td>0.4</td>\n",
       "      <td>0.446073</td>\n",
       "      <td>1.251127</td>\n",
       "      <td>1.760926</td>\n",
       "      <td>3.215267</td>\n",
       "    </tr>\n",
       "    <tr>\n",
       "      <th>3</th>\n",
       "      <td>0.6</td>\n",
       "      <td>0.433754</td>\n",
       "      <td>1.173608</td>\n",
       "      <td>1.690292</td>\n",
       "      <td>3.189317</td>\n",
       "    </tr>\n",
       "    <tr>\n",
       "      <th>4</th>\n",
       "      <td>0.8</td>\n",
       "      <td>0.420648</td>\n",
       "      <td>1.082215</td>\n",
       "      <td>1.632448</td>\n",
       "      <td>3.164365</td>\n",
       "    </tr>\n",
       "  </tbody>\n",
       "</table>\n",
       "</div>"
      ],
      "text/plain": [
       "     l        E1        E2        E3        E4\n",
       "0  0.0  0.469219  1.365173  1.938043  3.271038\n",
       "1  0.2  0.457846  1.314401  1.844238  3.242423\n",
       "2  0.4  0.446073  1.251127  1.760926  3.215267\n",
       "3  0.6  0.433754  1.173608  1.690292  3.189317\n",
       "4  0.8  0.420648  1.082215  1.632448  3.164365"
      ]
     },
     "execution_count": 2,
     "metadata": {},
     "output_type": "execute_result"
    }
   ],
   "source": [
    "Angs2Bohr=1.8897259886\n",
    "au2eV=27.211386027\n",
    "au2cm=219474.63068\n",
    "#\n",
    "#  files in the current directory do not need the path name\n",
    "#\n",
    "#df = pd.read_csv(\"/home/thomas/Python/StabPlots/Stab_data/1D_a0.2_b0_c0.14/crossing_1.dat\", delim_whitespace=True)\n",
    "df = pd.read_csv(\"sb_rac.csv\")\n",
    "#df = pd.read_csv(\"crossing_1.dat\", delim_whitespace=True)\n",
    "plt.cla()\n",
    "plt.plot(df.l.values, df.E1.values, 'o-')\n",
    "plt.plot(df.l.values, df.E2.values, 'o-')\n",
    "plt.plot(df.l.values, df.E3.values, 'o-')\n",
    "plt.show()\n",
    "df[:5]"
   ]
  },
  {
   "cell_type": "code",
   "execution_count": 3,
   "metadata": {},
   "outputs": [
    {
     "name": "stdout",
     "output_type": "stream",
     "text": [
      "N= 89\n"
     ]
    }
   ],
   "source": [
    "i_neg = np.argmin(abs(df.E1.values))\n",
    "if df.E1[i_neg] > 0:\n",
    "    i_neg += 1\n",
    "ls = df.l.values[i_neg:]\n",
    "print('N=',len(ls))\n",
    "Es = df.E1.values[i_neg:]\n",
    "plt.cla()\n",
    "plt.plot(df.l.values, df.E1.values, 'b-')\n",
    "plt.plot(df.l.values, df.E2.values, 'b-')\n",
    "plt.plot(df.l.values, df.E3.values, 'b-')\n",
    "plt.plot(ls, Es, 'o', color=\"orange\")\n",
    "plt.plot([df.l[0],df.l.values[-1]],[0,0],'-', color='black')\n",
    "plt.show()"
   ]
  },
  {
   "cell_type": "code",
   "execution_count": 4,
   "metadata": {},
   "outputs": [],
   "source": [
    "k2s = -Es\n",
    "ks  = np.sqrt(k2s)"
   ]
  },
  {
   "cell_type": "code",
   "execution_count": 5,
   "metadata": {},
   "outputs": [
    {
     "name": "stdout",
     "output_type": "stream",
     "text": [
      "[2.4, 0.2704669890140844, 1.4666963639216455, 10]\n",
      "0.7012464445272921\n"
     ]
    }
   ],
   "source": [
    "# start params\n",
    "E0 = linear_extra(ls,Es)\n",
    "G0 = 0.2*E0\n",
    "p0s=[ls[0]] + guess(E0, G0) + [10]\n",
    "print(p0s)\n",
    "print(chi2_gen(p0s, ks, k2s, ls, pade_31_lsq))"
   ]
  },
  {
   "cell_type": "code",
   "execution_count": 6,
   "metadata": {},
   "outputs": [],
   "source": [
    "#\n",
    "#  Because basin_hopping calls a minimize()-like function, \n",
    "#  calling instead least_squares() requires jumping through some hoops\n",
    "#\n",
    "#  We minimize chi2 = 1/M sum_i (rac(k_i) - lambda_i)**2\n",
    "#\n",
    "#  basin_hopping needs bh_chi2() as parameter and will call this function directly \n",
    "#  (not just the local minimizer)\n",
    "#\n",
    "#  \n",
    "#  To call least_squares() a wrapper-function knowing how to call f_lsq(k)=rac(k)-lambda and \n",
    "#  a function returning the gradient matrix of f_lsq(k_i) with respect to the parameter p_j \n",
    "#\n",
    "arg31 = (ks, k2s, ls, pade_31_lsq, pade_31j_lsq)\n",
    "\n",
    "def bh_chi2(params, args=()):\n",
    "    \"\"\"\n",
    "    at the moment   'args':(ks, k2s, ls, f_lsq, j_lsq)\n",
    "    \"\"\"\n",
    "    (ks, k2s, ls, f_lsq, j_lsq) = args\n",
    "    diffs = f_lsq(params, ks, k2s, ls)\n",
    "    return np.sum(np.square(diffs)) / len(ks)\n",
    "\n",
    "def lsq_wrapper(fun, x0, args=(), method=None, jac=None, hess=None,\n",
    "             hessp=None, bounds=None, constraints=(), tol=None,\n",
    "             callback=None, options=None):\n",
    "    (ks, k2s, ls, f_lsq, j_lsq) = args\n",
    "    res = least_squares(f_lsq, x0, method='trf', jac=j_lsq, args=(ks, k2s, ls))\n",
    "    res.fun = res.cost*2/len(args[0])\n",
    "    #print(res.fun, res.x)\n",
    "    #print('wrapper:', res.fun)\n",
    "    #delattr(res, 'njev')\n",
    "    return res\n",
    "\n",
    "def bh_call_back(x, f, accepted):\n",
    "    global jbh, chi2s, alphas, betas\n",
    "    #nonlocal jbh, chi2s, alphas, betas\n",
    "    chi2s[jbh] = f\n",
    "    alphas[jbh], betas[jbh] = x[1], x[2]\n",
    "    jbh += 1"
   ]
  },
  {
   "cell_type": "code",
   "execution_count": 7,
   "metadata": {},
   "outputs": [
    {
     "name": "stdout",
     "output_type": "stream",
     "text": [
      "3.015597548040383e-06\n",
      "3.015597548040384e-06\n"
     ]
    }
   ],
   "source": [
    "# check lsq_wrapper and bh_chi\n",
    "res = lsq_wrapper(bh_chi2, p0s, args=arg31)\n",
    "print(res.fun)\n",
    "print(bh_chi2(res.x, args=arg31))"
   ]
  },
  {
   "cell_type": "code",
   "execution_count": 24,
   "metadata": {},
   "outputs": [
    {
     "name": "stdout",
     "output_type": "stream",
     "text": [
      "3.0155975480382973e-06\n",
      "[ 2.40228618  0.27139798 -1.28131923  0.45438949]\n",
      "(1.6363536289412253, 0.3775118138214893)\n"
     ]
    }
   ],
   "source": [
    "#\n",
    "#  for least_squares:\n",
    "#\n",
    "min_kwargs = {'method':lsq_wrapper, 'args':arg31, 'jac':True}\n",
    "\n",
    "jbh=0\n",
    "n_bh = 1000\n",
    "chi2s = np.zeros(n_bh)\n",
    "alphas = np.zeros(n_bh)\n",
    "betas = np.zeros(n_bh)\n",
    "res = basinhopping(bh_chi2, p0s, minimizer_kwargs=min_kwargs, niter=n_bh, \n",
    "                   T=1e-2, seed=1, callback=bh_call_back)\n",
    "print(res.fun)\n",
    "print(res.x)\n",
    "print(res_ene(res.x[1],res.x[2]))"
   ]
  },
  {
   "cell_type": "code",
   "execution_count": 25,
   "metadata": {},
   "outputs": [
    {
     "name": "stdout",
     "output_type": "stream",
     "text": [
      "-5.520626618481523 -3.3079952864133566\n"
     ]
    }
   ],
   "source": [
    "Es, Gs = res_ene(alphas, betas)\n",
    "logs = np.log10(chi2s)\n",
    "print(min(logs), max(logs))"
   ]
  },
  {
   "cell_type": "code",
   "execution_count": 27,
   "metadata": {},
   "outputs": [
    {
     "data": {
      "text/plain": [
       "array([984.,   0.,   0.,   0.,   0.,   0.,   0.,   0.,   0.,   0.,   0.,\n",
       "         0.,   0.,   0.,   0.,   0.,   0.,   0.,   0.,   0.,   0.,   0.,\n",
       "         0.,   0.,   0.,   0.,   0.,   0.,   0.,   0.,   0.,   0.,   0.,\n",
       "         0.,   0.,   0.,   0.,   0.,   0.,   0.,   0.,   0.,   0.,   0.,\n",
       "         0.,   0.,   0.,   0.,   0.,  16.])"
      ]
     },
     "execution_count": 27,
     "metadata": {},
     "output_type": "execute_result"
    }
   ],
   "source": [
    "plt.cla()\n",
    "pop, edges, patches = plt.hist(logs, bins=50)\n",
    "pop"
   ]
  },
  {
   "cell_type": "code",
   "execution_count": 57,
   "metadata": {},
   "outputs": [],
   "source": [
    "if 'cb' in vars():\n",
    "    cb.remove()\n",
    "    del cb\n",
    "plt.cla()\n",
    "# 'viridis', 'plasma'\n",
    "plt.scatter(Es, Gs, c=logs, s=5, cmap='viridis')\n",
    "cb = plt.colorbar()\n",
    "plt.tick_params(labelsize=12)\n",
    "plt.xlabel('$E_r$ [eV]', fontsize=10)\n",
    "plt.ylabel('$\\Gamma$ [eV]', fontsize=10)\n",
    "plt.show()"
   ]
  },
  {
   "cell_type": "code",
   "execution_count": null,
   "metadata": {},
   "outputs": [],
   "source": []
  }
 ],
 "metadata": {
  "kernelspec": {
   "display_name": "Python 3",
   "language": "python",
   "name": "python3"
  },
  "language_info": {
   "codemirror_mode": {
    "name": "ipython",
    "version": 3
   },
   "file_extension": ".py",
   "mimetype": "text/x-python",
   "name": "python",
   "nbconvert_exporter": "python",
   "pygments_lexer": "ipython3",
   "version": "3.6.9"
  }
 },
 "nbformat": 4,
 "nbformat_minor": 4
}
