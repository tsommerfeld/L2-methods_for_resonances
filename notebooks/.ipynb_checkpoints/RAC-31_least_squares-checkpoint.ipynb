{
 "cells": [
  {
   "cell_type": "code",
   "execution_count": 1,
   "metadata": {},
   "outputs": [],
   "source": [
    "import numpy as np\n",
    "from scipy.optimize import least_squares\n",
    "#from pandas import Series, DataFrame\n",
    "import pandas as pd\n",
    "import matplotlib\n",
    "import matplotlib.pyplot as plt\n",
    "matplotlib.use('Qt5Agg')\n",
    "%matplotlib qt5\n",
    "#\n",
    "# if pade.py is not in the current directory, set this path:\n",
    "#\n",
    "#import sys\n",
    "#sys.path.append('../Python_libs')\n",
    "from rac_aux import *"
   ]
  },
  {
   "cell_type": "code",
   "execution_count": 2,
   "metadata": {},
   "outputs": [
    {
     "data": {
      "text/html": [
       "<div>\n",
       "<style scoped>\n",
       "    .dataframe tbody tr th:only-of-type {\n",
       "        vertical-align: middle;\n",
       "    }\n",
       "\n",
       "    .dataframe tbody tr th {\n",
       "        vertical-align: top;\n",
       "    }\n",
       "\n",
       "    .dataframe thead th {\n",
       "        text-align: right;\n",
       "    }\n",
       "</style>\n",
       "<table border=\"1\" class=\"dataframe\">\n",
       "  <thead>\n",
       "    <tr style=\"text-align: right;\">\n",
       "      <th></th>\n",
       "      <th>l</th>\n",
       "      <th>E1</th>\n",
       "      <th>E2</th>\n",
       "      <th>E3</th>\n",
       "      <th>E4</th>\n",
       "    </tr>\n",
       "  </thead>\n",
       "  <tbody>\n",
       "    <tr>\n",
       "      <th>0</th>\n",
       "      <td>0.0</td>\n",
       "      <td>0.469219</td>\n",
       "      <td>1.365173</td>\n",
       "      <td>1.938043</td>\n",
       "      <td>3.271038</td>\n",
       "    </tr>\n",
       "    <tr>\n",
       "      <th>1</th>\n",
       "      <td>0.2</td>\n",
       "      <td>0.457846</td>\n",
       "      <td>1.314401</td>\n",
       "      <td>1.844238</td>\n",
       "      <td>3.242423</td>\n",
       "    </tr>\n",
       "    <tr>\n",
       "      <th>2</th>\n",
       "      <td>0.4</td>\n",
       "      <td>0.446073</td>\n",
       "      <td>1.251127</td>\n",
       "      <td>1.760926</td>\n",
       "      <td>3.215267</td>\n",
       "    </tr>\n",
       "    <tr>\n",
       "      <th>3</th>\n",
       "      <td>0.6</td>\n",
       "      <td>0.433754</td>\n",
       "      <td>1.173608</td>\n",
       "      <td>1.690292</td>\n",
       "      <td>3.189317</td>\n",
       "    </tr>\n",
       "    <tr>\n",
       "      <th>4</th>\n",
       "      <td>0.8</td>\n",
       "      <td>0.420648</td>\n",
       "      <td>1.082215</td>\n",
       "      <td>1.632448</td>\n",
       "      <td>3.164365</td>\n",
       "    </tr>\n",
       "  </tbody>\n",
       "</table>\n",
       "</div>"
      ],
      "text/plain": [
       "     l        E1        E2        E3        E4\n",
       "0  0.0  0.469219  1.365173  1.938043  3.271038\n",
       "1  0.2  0.457846  1.314401  1.844238  3.242423\n",
       "2  0.4  0.446073  1.251127  1.760926  3.215267\n",
       "3  0.6  0.433754  1.173608  1.690292  3.189317\n",
       "4  0.8  0.420648  1.082215  1.632448  3.164365"
      ]
     },
     "execution_count": 2,
     "metadata": {},
     "output_type": "execute_result"
    }
   ],
   "source": [
    "Angs2Bohr=1.8897259886\n",
    "au2eV=27.211386027\n",
    "au2cm=219474.63068\n",
    "#\n",
    "#  files in the current directory do not need the path name\n",
    "#\n",
    "#df = pd.read_csv(\"/home/thomas/Python/StabPlots/Stab_data/1D_a0.2_b0_c0.14/crossing_1.dat\", delim_whitespace=True)\n",
    "df = pd.read_csv(\"sb_rac.csv\")\n",
    "#df = pd.read_csv(\"crossing_1.dat\", delim_whitespace=True)\n",
    "\n",
    "plot_it=False\n",
    "if plot_it:\n",
    "    plt.cla()\n",
    "    plt.plot(df.l.values, df.E1.values, 'o-')\n",
    "    plt.plot(df.l.values, df.E2.values, 'o-')\n",
    "    plt.plot(df.l.values, df.E3.values, 'o-')\n",
    "    plt.show()\n",
    "df[:5]"
   ]
  },
  {
   "cell_type": "code",
   "execution_count": 3,
   "metadata": {},
   "outputs": [
    {
     "name": "stdout",
     "output_type": "stream",
     "text": [
      "N= 89\n"
     ]
    }
   ],
   "source": [
    "i_neg = np.argmin(abs(df.E1.values))\n",
    "if df.E1[i_neg] > 0:\n",
    "    i_neg += 1\n",
    "ls = df.l.values[i_neg:]\n",
    "print('N=',len(ls))\n",
    "Es = df.E1.values[i_neg:]\n",
    "if plot_it:\n",
    "    plt.cla()\n",
    "    plt.plot(df.l.values, df.E1.values, 'b-')\n",
    "    plt.plot(df.l.values, df.E2.values, 'b-')\n",
    "    plt.plot(df.l.values, df.E3.values, 'b-')\n",
    "    plt.plot(ls, Es, 'o', color=\"orange\")\n",
    "    plt.show()"
   ]
  },
  {
   "cell_type": "code",
   "execution_count": 5,
   "metadata": {},
   "outputs": [
    {
     "name": "stdout",
     "output_type": "stream",
     "text": [
      "[2.24682237e-10 1.87257265e-03 3.81786702e-03 5.80854724e-03\n",
      " 7.83082055e-03 9.87692088e-03 1.19420536e-02 1.40230325e-02\n",
      " 1.61176132e-02 1.82241397e-02 2.03413436e-02 2.24682241e-02\n",
      " 2.21954154e-02 2.19215597e-02 2.16467287e-02 2.13709836e-02\n",
      " 2.10943774e-02 2.08169564e-02 2.05387611e-02 2.02598279e-02\n",
      " 1.99801892e-02 1.96998743e-02 1.94189097e-02 1.91373196e-02\n",
      " 1.88551262e-02 1.85723499e-02 1.82890096e-02 1.80051227e-02\n",
      " 1.77207056e-02 1.74357733e-02 1.71503402e-02 1.68644196e-02\n",
      " 1.65780240e-02 1.62911652e-02 1.60038544e-02 1.57161023e-02\n",
      " 1.54279188e-02 1.51393134e-02 1.48502954e-02 1.45608732e-02\n",
      " 1.42710551e-02 1.39808492e-02 1.36902627e-02 1.33993031e-02\n",
      " 1.31079773e-02 1.28162918e-02 1.25242532e-02 1.22318675e-02\n",
      " 1.19391407e-02 1.16460786e-02 1.13526865e-02 1.10589699e-02\n",
      " 1.07649339e-02 1.04705834e-02 1.01759234e-02 9.88095833e-03\n",
      " 9.58569284e-03 9.29013127e-03 8.99427788e-03 8.69813678e-03\n",
      " 8.40171197e-03 8.10500734e-03 7.80802667e-03 7.51077365e-03\n",
      " 7.21325184e-03 6.91546472e-03 6.61741570e-03 6.31910808e-03\n",
      " 6.02054508e-03 5.72172983e-03 5.42266542e-03 5.12335482e-03\n",
      " 4.82380096e-03 4.52400669e-03 4.22397479e-03 3.92370800e-03\n",
      " 3.62320897e-03 3.32248030e-03 3.02152454e-03 2.72034419e-03\n",
      " 2.41894167e-03 2.11731938e-03 1.81547966e-03 1.51342479e-03\n",
      " 1.21115702e-03 9.08678542e-04 6.05991516e-04 3.03098053e-04\n",
      " 2.24682243e-10]\n"
     ]
    }
   ],
   "source": [
    "k2s = -Es\n",
    "ks  = np.sqrt(k2s)\n",
    "M = len(ks)\n",
    "sigmas = weights(M, 'energy', E0=Es[11], Es=Es)\n",
    "#print(np.square(sigmas))\n",
    "#sum(np.square(sigmas))"
   ]
  },
  {
   "cell_type": "code",
   "execution_count": 6,
   "metadata": {},
   "outputs": [
    {
     "name": "stdout",
     "output_type": "stream",
     "text": [
      "0.005109884913136468\n"
     ]
    }
   ],
   "source": [
    "# start params\n",
    "E0 = linear_extra(ls,Es)\n",
    "G0 = 0.2*E0\n",
    "p0s=[ls[0]] + guess(E0, G0) + [10]\n",
    "print(chi2_gen(p0s, ks, k2s, ls, sigmas, pade_31_lsq))"
   ]
  },
  {
   "cell_type": "code",
   "execution_count": 7,
   "metadata": {},
   "outputs": [
    {
     "name": "stdout",
     "output_type": "stream",
     "text": [
      "num grad:\n",
      " [[ 2.87654657e-01  1.45146266e-01 -8.11511530e-01  9.30972056e-05]\n",
      " [ 2.60098342e-01  1.30532370e-01 -7.34992731e-01  8.41817105e-05]\n",
      " [ 2.27689136e-01  1.13654178e-01 -6.44457044e-01  7.36948503e-05]\n",
      " [ 1.87899068e-01  9.32923957e-02 -5.32680808e-01  6.08182423e-05]\n",
      " [ 1.34274138e-01  6.63144819e-02 -3.81250662e-01  4.34626065e-05]\n",
      " [ 1.16802129e-04  5.73821497e-05 -3.32146997e-04  3.78083790e-08]]\n",
      "ana grad:\n",
      " [[ 2.87654657e-01  1.45146266e-01 -8.11511530e-01  9.30972048e-05]\n",
      " [ 2.60098342e-01  1.30532370e-01 -7.34992731e-01  8.41817111e-05]\n",
      " [ 2.27689136e-01  1.13654178e-01 -6.44457044e-01  7.36948501e-05]\n",
      " [ 1.87899068e-01  9.32923957e-02 -5.32680808e-01  6.08182420e-05]\n",
      " [ 1.34274138e-01  6.63144819e-02 -3.81250662e-01  4.34626062e-05]\n",
      " [ 1.16802129e-04  5.73821497e-05 -3.32146997e-04  3.78083792e-08]]\n"
     ]
    },
    {
     "data": {
      "text/plain": [
       "3.0663926905504794e-10"
      ]
     },
     "execution_count": 7,
     "metadata": {},
     "output_type": "execute_result"
    }
   ],
   "source": [
    "#\n",
    "#  the derivative of [3,1] works\n",
    "#\n",
    "\n",
    "N=6\n",
    "\n",
    "df1s = pade_gen_j_lsq(p0s, ks[-N:], k2s[-N:], ls[-N:], sigmas[-N:], pade_31_lsq)\n",
    "print(\"num grad:\\n\", df1s)\n",
    "\n",
    "df2s = pade_31j_lsq(p0s, ks[-N:], k2s[-N:], ls[-N:], sigmas[-N:])\n",
    "print(\"ana grad:\\n\", df2s)\n",
    "\n",
    "np.sqrt(np.sum(np.square(df1s-df2s)))"
   ]
  },
  {
   "cell_type": "code",
   "execution_count": null,
   "metadata": {},
   "outputs": [],
   "source": [
    "# start params\n",
    "E0 = linear_extra(ls,Es)\n",
    "G0 = 0.2*E0\n",
    "p0s=[ls[0]] + guess(E0, G0) + [10]\n",
    "print(chi2_gen(p0s, ks, k2s, ls, pade_31_lsq))"
   ]
  },
  {
   "cell_type": "code",
   "execution_count": 8,
   "metadata": {},
   "outputs": [
    {
     "name": "stdout",
     "output_type": "stream",
     "text": [
      "Start parameters: [2.4, 0.2704669890140844, 1.4666963639216455, 10]\n",
      "Least squares, 2-point jac\n",
      "njev: 85\n",
      "cost: 3.545500238921138e-07\n",
      "grad: [ 3.73297925e-10 -6.20589345e-10 -9.69174722e-10  2.40008234e-10]\n",
      "message: `gtol` termination condition is satisfied.\n",
      "success: True\n",
      "x: [2.41088739 0.25921047 1.28764641 0.42770067]\n",
      "chi2 = 7.091e-07\n",
      "Er=1.653519,  Gamma=0.346068\n"
     ]
    }
   ],
   "source": [
    "#\n",
    "#  test results of other minimizers wrt least squares\n",
    "#\n",
    "#p0s=res.x\n",
    "\n",
    "print(\"Start parameters:\",p0s)\n",
    "print('Least squares, 2-point jac')\n",
    "res = least_squares(pade_31_lsq, p0s, method='trf', jac='3-point', args=(ks, k2s, ls, sigmas))\n",
    "print(\"njev:\",res.njev)\n",
    "print(\"cost:\",res.cost)\n",
    "print(\"grad:\",res.grad)\n",
    "print(\"message:\",res.message)\n",
    "print(\"success:\",res.success)\n",
    "print(\"x:\", res.x)\n",
    "print('chi2 = %.3e' % (res.cost*2))\n",
    "print(\"Er=%f,  Gamma=%f\" % res_ene(res.x[1], res.x[2]))"
   ]
  },
  {
   "cell_type": "code",
   "execution_count": 11,
   "metadata": {},
   "outputs": [
    {
     "name": "stdout",
     "output_type": "stream",
     "text": [
      "Least squares, trust-region-reflective (default) with analytic jac\n",
      "njev: 85\n",
      "cost: 3.545500238919992e-07\n",
      "grad: [ 3.73296470e-10 -6.20560009e-10 -9.69161531e-10  2.40014020e-10]\n",
      "message: `gtol` termination condition is satisfied.\n",
      "success: True\n",
      "x: [2.41088739 0.25921047 1.28764641 0.42770067]\n",
      "chi2 = 7.091e-07\n",
      "Er=1.653519,  Gamma=0.346068\n"
     ]
    }
   ],
   "source": [
    "print('Least squares, trust-region-reflective (default) with analytic jac')\n",
    "res = least_squares(pade_31_lsq, p0s, method='trf', jac=pade_31j_lsq, args=(ks, k2s, ls, sigmas))\n",
    "print(\"njev:\",res.njev)\n",
    "print(\"cost:\",res.cost)\n",
    "print(\"grad:\",res.grad)\n",
    "print(\"message:\",res.message)\n",
    "print(\"success:\",res.success)\n",
    "print(\"x:\", res.x)\n",
    "print('chi2 = %.3e' % (res.cost*2))\n",
    "print(\"Er=%f,  Gamma=%f\" % res_ene(res.x[1], res.x[2]))"
   ]
  },
  {
   "cell_type": "code",
   "execution_count": 12,
   "metadata": {},
   "outputs": [
    {
     "name": "stdout",
     "output_type": "stream",
     "text": [
      "Least squares, Levenberg-Marquardt with analytic jac\n",
      "njev: 90\n",
      "cost: 3.5455002388528007e-07\n",
      "grad: [ 6.03451589e-13  4.89765571e-13 -1.86830720e-12  2.44746205e-12]\n",
      "message: `ftol` termination condition is satisfied.\n",
      "success: True\n",
      "x: [2.41088742 0.2592104  1.28764643 0.42770048]\n",
      "chi2 = 7.091e-07\n",
      "Er=1.653519,  Gamma=0.346068\n"
     ]
    }
   ],
   "source": [
    "print('Least squares, Levenberg-Marquardt with analytic jac')\n",
    "res = least_squares(pade_31_lsq, p0s, method='lm', jac=pade_31j_lsq, args=(ks, k2s, ls, sigmas))\n",
    "print(\"njev:\",res.njev)\n",
    "print(\"cost:\",res.cost)\n",
    "print(\"grad:\",res.grad)\n",
    "print(\"message:\",res.message)\n",
    "print(\"success:\",res.success)\n",
    "print(\"x:\", res.x)\n",
    "print('chi2 = %.3e' % (res.cost*2))\n",
    "print(\"Er=%f,  Gamma=%f\" % res_ene(res.x[1], res.x[2]))"
   ]
  },
  {
   "cell_type": "code",
   "execution_count": 14,
   "metadata": {},
   "outputs": [
    {
     "name": "stdout",
     "output_type": "stream",
     "text": [
      "Least squares, TRF with bounds\n",
      "njev: 140\n",
      "cost: 3.5455002389789345e-07\n",
      "grad: [ 6.62498652e-10 -1.11869240e-09 -1.71681325e-09  4.04287024e-10]\n",
      "message: `gtol` termination condition is satisfied.\n",
      "success: True\n",
      "x: [2.41088738 0.2592105  1.2876464  0.42770074]\n",
      "chi2 = 7.091e-07\n",
      "Er=1.653519,  Gamma=0.346068\n"
     ]
    }
   ],
   "source": [
    "print('Least squares, TRF with bounds')\n",
    "\n",
    "bnds=([0,0,0,0],[np.inf,np.inf,np.inf,np.inf])\n",
    "\n",
    "res = least_squares(pade_31_lsq, p0s, jac=pade_31j_lsq, bounds=bnds, args=(ks, k2s, ls, sigmas))\n",
    "print(\"njev:\",res.njev)\n",
    "print(\"cost:\",res.cost)\n",
    "print(\"grad:\",res.grad)\n",
    "print(\"message:\",res.message)\n",
    "print(\"success:\",res.success)\n",
    "print(\"x:\", res.x)\n",
    "print('chi2 = %.3e' % (res.cost*2))\n",
    "print(\"Er=%f,  Gamma=%f\" % res_ene(res.x[1], res.x[2]))"
   ]
  },
  {
   "cell_type": "code",
   "execution_count": null,
   "metadata": {},
   "outputs": [],
   "source": [
    "l0, a, b, d = res.x"
   ]
  },
  {
   "cell_type": "code",
   "execution_count": 23,
   "metadata": {},
   "outputs": [
    {
     "name": "stdout",
     "output_type": "stream",
     "text": [
      "All weights equal:  chi2 = 3.016e-06  Er=1.636354,  Gamma=0.377512\n",
      "Filter E =  -0.00:  chi2 = 3.428e-06  Er=1.630063,  Gamma=0.414489\n",
      "Filter E =  -3.30:  chi2 = 4.717e-07  Er=1.657890,  Gamma=0.334536\n",
      "Filter E =  -6.81:  chi2 = 3.055e-07  Er=1.662154,  Gamma=0.323769\n",
      "Filter E = -10.43:  chi2 = 2.394e-07  Er=1.665032,  Gamma=0.316689\n",
      "Filter E = -14.11:  chi2 = 2.176e-07  Er=1.668696,  Gamma=0.308203\n"
     ]
    }
   ],
   "source": [
    "#\n",
    "# swipe energy filter \n",
    "#\n",
    "sigmas = weights(M, 'ones')\n",
    "res = least_squares(pade_31_lsq, p0s, method='trf', jac=pade_31j_lsq, args=(ks, k2s, ls, sigmas))\n",
    "Er, G = res_ene(res.x[1], res.x[2])\n",
    "print('All weights equal:  chi2 = %.3e  Er=%f,  Gamma=%f' % (res.cost*2, Er, G))\n",
    "M=len(Es)\n",
    "for n in [0, M//4, M//2, 3*M//4, M-1]:\n",
    "    sigmas = weights(M, 'energy', E0=Es[n], Es=Es)\n",
    "    res = least_squares(pade_31_lsq, p0s, method='trf', jac=pade_31j_lsq, args=(ks, k2s, ls, sigmas))\n",
    "    Er, G = res_ene(res.x[1], res.x[2])\n",
    "    print('Filter E = %6.2f:  chi2 = %.3e  Er=%f,  Gamma=%f' % (Es[n], res.cost*2, Er, G))"
   ]
  },
  {
   "cell_type": "code",
   "execution_count": null,
   "metadata": {},
   "outputs": [],
   "source": []
  }
 ],
 "metadata": {
  "kernelspec": {
   "display_name": "Python 3",
   "language": "python",
   "name": "python3"
  },
  "language_info": {
   "codemirror_mode": {
    "name": "ipython",
    "version": 3
   },
   "file_extension": ".py",
   "mimetype": "text/x-python",
   "name": "python",
   "nbconvert_exporter": "python",
   "pygments_lexer": "ipython3",
   "version": "3.6.9"
  }
 },
 "nbformat": 4,
 "nbformat_minor": 4
}
