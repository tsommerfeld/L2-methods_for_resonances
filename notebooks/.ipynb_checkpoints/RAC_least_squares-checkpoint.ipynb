{
 "cells": [
  {
   "cell_type": "code",
   "execution_count": 1,
   "metadata": {},
   "outputs": [],
   "source": [
    "import numpy as np\n",
    "from scipy.optimize import least_squares\n",
    "#from pandas import Series, DataFrame\n",
    "import pandas as pd\n",
    "import matplotlib\n",
    "import matplotlib.pyplot as plt\n",
    "matplotlib.use('Qt5Agg')\n",
    "%matplotlib qt5\n",
    "#\n",
    "# if pade.py is not in the current directory, set this path:\n",
    "#\n",
    "#import sys\n",
    "#sys.path.append('../Python_libs')\n",
    "from rac_aux import *"
   ]
  },
  {
   "cell_type": "code",
   "execution_count": 2,
   "metadata": {},
   "outputs": [
    {
     "data": {
      "text/html": [
       "<div>\n",
       "<style scoped>\n",
       "    .dataframe tbody tr th:only-of-type {\n",
       "        vertical-align: middle;\n",
       "    }\n",
       "\n",
       "    .dataframe tbody tr th {\n",
       "        vertical-align: top;\n",
       "    }\n",
       "\n",
       "    .dataframe thead th {\n",
       "        text-align: right;\n",
       "    }\n",
       "</style>\n",
       "<table border=\"1\" class=\"dataframe\">\n",
       "  <thead>\n",
       "    <tr style=\"text-align: right;\">\n",
       "      <th></th>\n",
       "      <th>l</th>\n",
       "      <th>E1</th>\n",
       "      <th>E2</th>\n",
       "      <th>E3</th>\n",
       "      <th>E4</th>\n",
       "    </tr>\n",
       "  </thead>\n",
       "  <tbody>\n",
       "    <tr>\n",
       "      <th>0</th>\n",
       "      <td>0.0</td>\n",
       "      <td>0.469219</td>\n",
       "      <td>1.365173</td>\n",
       "      <td>1.938043</td>\n",
       "      <td>3.271038</td>\n",
       "    </tr>\n",
       "    <tr>\n",
       "      <th>1</th>\n",
       "      <td>0.2</td>\n",
       "      <td>0.457846</td>\n",
       "      <td>1.314401</td>\n",
       "      <td>1.844238</td>\n",
       "      <td>3.242423</td>\n",
       "    </tr>\n",
       "    <tr>\n",
       "      <th>2</th>\n",
       "      <td>0.4</td>\n",
       "      <td>0.446073</td>\n",
       "      <td>1.251127</td>\n",
       "      <td>1.760926</td>\n",
       "      <td>3.215267</td>\n",
       "    </tr>\n",
       "    <tr>\n",
       "      <th>3</th>\n",
       "      <td>0.6</td>\n",
       "      <td>0.433754</td>\n",
       "      <td>1.173608</td>\n",
       "      <td>1.690292</td>\n",
       "      <td>3.189317</td>\n",
       "    </tr>\n",
       "    <tr>\n",
       "      <th>4</th>\n",
       "      <td>0.8</td>\n",
       "      <td>0.420648</td>\n",
       "      <td>1.082215</td>\n",
       "      <td>1.632448</td>\n",
       "      <td>3.164365</td>\n",
       "    </tr>\n",
       "  </tbody>\n",
       "</table>\n",
       "</div>"
      ],
      "text/plain": [
       "     l        E1        E2        E3        E4\n",
       "0  0.0  0.469219  1.365173  1.938043  3.271038\n",
       "1  0.2  0.457846  1.314401  1.844238  3.242423\n",
       "2  0.4  0.446073  1.251127  1.760926  3.215267\n",
       "3  0.6  0.433754  1.173608  1.690292  3.189317\n",
       "4  0.8  0.420648  1.082215  1.632448  3.164365"
      ]
     },
     "execution_count": 2,
     "metadata": {},
     "output_type": "execute_result"
    }
   ],
   "source": [
    "Angs2Bohr=1.8897259886\n",
    "au2eV=27.211386027\n",
    "au2cm=219474.63068\n",
    "#\n",
    "#  files in the current directory do not need the path name\n",
    "#\n",
    "#df = pd.read_csv(\"/home/thomas/Python/StabPlots/Stab_data/1D_a0.2_b0_c0.14/crossing_1.dat\", delim_whitespace=True)\n",
    "df = pd.read_csv(\"sb_rac.csv\")\n",
    "#df = pd.read_csv(\"crossing_1.dat\", delim_whitespace=True)\n",
    "\n",
    "plot_it=False\n",
    "if plot_it:\n",
    "    plt.cla()\n",
    "    plt.plot(df.l.values, df.E1.values, 'o-')\n",
    "    plt.plot(df.l.values, df.E2.values, 'o-')\n",
    "    plt.plot(df.l.values, df.E3.values, 'o-')\n",
    "    plt.show()\n",
    "df[:5]"
   ]
  },
  {
   "cell_type": "code",
   "execution_count": 3,
   "metadata": {},
   "outputs": [
    {
     "name": "stdout",
     "output_type": "stream",
     "text": [
      "N= 89\n"
     ]
    }
   ],
   "source": [
    "#\n",
    "# put all negative E(lambda) points into the vectors: ls and Es\n",
    "#\n",
    "i_neg = np.argmin(abs(df.E1.values))\n",
    "if df.E1[i_neg] > 0:\n",
    "    i_neg += 1\n",
    "ls = df.l.values[i_neg:]\n",
    "print('N=',len(ls))\n",
    "Es = df.E1.values[i_neg:]\n",
    "if plot_it:\n",
    "    plt.cla()\n",
    "    plt.plot(df.l.values, df.E1.values, 'b-')\n",
    "    plt.plot(df.l.values, df.E2.values, 'b-')\n",
    "    plt.plot(df.l.values, df.E3.values, 'b-')\n",
    "    plt.plot(ls, Es, 'o', color=\"orange\")\n",
    "    plt.show()"
   ]
  },
  {
   "cell_type": "code",
   "execution_count": 4,
   "metadata": {},
   "outputs": [],
   "source": [
    "#\n",
    "#  So far, nm can be in [21, 31, 32, 42, 53]\n",
    "#\n",
    "nm=52\n",
    "\n",
    "pade_fns = {\"21\":(pade_21_lsq, pade_21j_lsq), \n",
    "            \"31\":(pade_31_lsq, pade_31j_lsq), \n",
    "            \"32\":(pade_32_lsq, pade_32j_lsq),\n",
    "            \"41\":(pade_41_lsq, pade_41j_lsq),\n",
    "            \"42\":(pade_42_lsq, pade_42j_lsq),\n",
    "            \"43\":(pade_43_lsq, pade_43j_lsq),\n",
    "            \"52\":(pade_52_lsq, pade_52j_lsq),\n",
    "            \"53\":(pade_53_lsq, pade_53j_lsq)}\n",
    "\n",
    "fun=pade_fns[str(nm)][0]\n",
    "jac=pade_fns[str(nm)][1]"
   ]
  },
  {
   "cell_type": "code",
   "execution_count": 5,
   "metadata": {},
   "outputs": [],
   "source": [
    "#\n",
    "#  kappas, kappa**2, and sigmas (weights = sigma**2)\n",
    "#  least_squares() passes parg to each pade_nm function\n",
    "#\n",
    "k2s = -Es\n",
    "ks  = np.sqrt(k2s)\n",
    "sigmas = weights(len(Es), 'ones')\n",
    "#sigmas = weights(len(Es), 'energy', E0=Es[11], Es=Es)\n",
    "parg=(ks,k2s,ls,sigmas)"
   ]
  },
  {
   "cell_type": "code",
   "execution_count": 6,
   "metadata": {},
   "outputs": [
    {
     "name": "stdout",
     "output_type": "stream",
     "text": [
      "[2.3919, 0.2964, 1.3187, 1.3736, 0.29655, 0.4543, 0.5078]\n",
      "44.46446034627342\n"
     ]
    }
   ],
   "source": [
    "# start params depend on nm\n",
    "p31_opt = [2.4022, 0.2713, 1.2813, 0.4543]\n",
    "p42_opt = [2.3919, 0.2964, 1.3187, 1.3736,  0.29655, 0.5078]\n",
    "\n",
    "E0 = linear_extra(ls,Es)\n",
    "G0 = 0.2*E0\n",
    "if nm == 21:\n",
    "    p0s=[ls[0]] + guess(E0, G0)\n",
    "elif nm == 31:\n",
    "    p0s=[ls[0]] + guess(E0, G0) + [10]\n",
    "elif nm == 32:\n",
    "    p0s=[ls[0]] + guess(E0, G0) + [1] + [1]\n",
    "    #p0s=p31_opt + [0.2]\n",
    "elif nm == 41:\n",
    "    p0s=[ls[0]] + guess(E0, G0) + [0.5] + [0.2]\n",
    "    #p0s=p31_opt + [0.2]\n",
    "elif nm == 42:\n",
    "    p0s=[ls[0]] + guess(E0, G0) + guess(5*E0,10*G0) + [10]\n",
    "elif nm == 43:\n",
    "    p0s=[ls[0]] + guess(E0, G0) + guess(5*E0,10*G0) + [10] + [1]\n",
    "elif nm == 52:\n",
    "    p0s = p42_opt[0:5] + p31_opt[3:] + p42_opt[5:]\n",
    "elif nm == 53:\n",
    "    p0s = p42_opt[0:5] + p31_opt[3:] + p42_opt[5:] + [1]\n",
    "else:\n",
    "    print(\"Warning\", nm, \"not implemented\")\n",
    "print(p0s)\n",
    "print(chi2_gen(p0s, ks, k2s, ls, sigmas, fun))"
   ]
  },
  {
   "cell_type": "code",
   "execution_count": 7,
   "metadata": {},
   "outputs": [
    {
     "name": "stdout",
     "output_type": "stream",
     "text": [
      "num grad:\n",
      " [[ 1.37383209  0.03204416 -3.35452054  0.63457996  2.86059677  5.21497334\n",
      "  -2.31516613]\n",
      " [ 1.39211532  0.02859121 -3.40018344  0.64427337  2.91663665  5.30757509\n",
      "  -2.35949209]\n",
      " [ 1.41045751  0.02509895 -3.44592924  0.65400784  2.97314181  5.40076536\n",
      "  -2.40416537]\n",
      " [ 1.42885837  0.02156789 -3.49175721  0.6637831   3.03011108  5.49454134\n",
      "  -2.44918489]\n",
      " [ 1.4473176   0.01799851 -3.5376666   0.6735989   3.08754327  5.58890029\n",
      "  -2.49454957]\n",
      " [ 1.46583491  0.01439128 -3.58365671  0.68345501  3.14543725  5.68383948\n",
      "  -2.54025838]]\n",
      "ana grad:\n",
      " [[ 1.37383209  0.03204416 -3.35452054  0.63457996  2.86059677  5.21497334\n",
      "  -2.31516613]\n",
      " [ 1.39211532  0.02859121 -3.40018344  0.64427337  2.91663665  5.30757509\n",
      "  -2.35949209]\n",
      " [ 1.41045751  0.02509895 -3.44592924  0.65400784  2.97314181  5.40076536\n",
      "  -2.40416537]\n",
      " [ 1.42885837  0.02156789 -3.49175721  0.6637831   3.03011108  5.49454134\n",
      "  -2.44918489]\n",
      " [ 1.4473176   0.01799851 -3.5376666   0.6735989   3.08754327  5.58890029\n",
      "  -2.49454957]\n",
      " [ 1.46583491  0.01439128 -3.58365671  0.68345501  3.14543725  5.68383948\n",
      "  -2.54025838]]\n"
     ]
    },
    {
     "data": {
      "text/plain": [
       "8.53959107366595e-10"
      ]
     },
     "execution_count": 7,
     "metadata": {},
     "output_type": "execute_result"
    }
   ],
   "source": [
    "#\n",
    "#  test the derivative of [n,m] \n",
    "#\n",
    "\n",
    "N=6\n",
    "\n",
    "df1s = pade_gen_j_lsq(p0s, ks[-N:], k2s[-N:], ls[-N:], sigmas[-N:], fun)\n",
    "print(\"num grad:\\n\", df1s)\n",
    "\n",
    "df2s = jac(p0s, ks[-N:], k2s[-N:], ls[-N:], sigmas[-N:])\n",
    "print(\"ana grad:\\n\", df2s)\n",
    "\n",
    "np.sqrt(np.sum(np.square(df1s-df2s)))"
   ]
  },
  {
   "cell_type": "code",
   "execution_count": 8,
   "metadata": {},
   "outputs": [
    {
     "name": "stdout",
     "output_type": "stream",
     "text": [
      "Least squares, trust-region-reflective (default) with 2-point jac\n",
      "njev: 494\n",
      "cost: 1.0043535182463408e-07\n",
      "grad: [ 1.08599529e-05  5.60665139e-06 -2.09606236e-05  1.24967231e-06\n",
      "  1.17630043e-05  3.09621379e-09 -9.68416283e-06]\n",
      "message: The maximum number of function evaluations is exceeded.\n",
      "success: False\n",
      "x: [2.38918236e+00 2.68556795e-01 1.31026277e+00 3.34251359e+00\n",
      " 1.07134265e+00 1.79172301e-05 1.70850180e+00]\n",
      "chi2 = 2.009e-07\n",
      "Er=1.711587,  Gamma=0.377999\n"
     ]
    }
   ],
   "source": [
    "print('Least squares, trust-region-reflective (default) with 2-point jac')\n",
    "res = least_squares(fun, p0s, method='trf', jac='2-point', args=parg)\n",
    "print(\"njev:\",res.njev)\n",
    "print(\"cost:\",res.cost)\n",
    "print(\"grad:\",res.grad)\n",
    "print(\"message:\",res.message)\n",
    "print(\"success:\",res.success)\n",
    "print(\"x:\", res.x)\n",
    "print('chi2 = %.3e' % (res.cost*2))\n",
    "print(\"Er=%f,  Gamma=%f\" % res_ene(res.x[1], res.x[2]))"
   ]
  },
  {
   "cell_type": "code",
   "execution_count": 9,
   "metadata": {},
   "outputs": [
    {
     "name": "stdout",
     "output_type": "stream",
     "text": [
      "Least squares, trust-region-reflective (default) with analytic jac\n",
      "njev: 500\n",
      "cost: 1.0011046881307903e-07\n",
      "grad: [ 7.06203411e-05  3.63836600e-05 -1.36392219e-04  8.05513793e-06\n",
      "  7.68069017e-05 -5.01275900e-07 -6.33302497e-05]\n",
      "message: The maximum number of function evaluations is exceeded.\n",
      "success: False\n",
      "x: [ 2.38919360e+00  2.68589480e-01  1.31029159e+00  3.32808846e+00\n",
      "  1.06615861e+00 -4.65087257e-04  1.70035502e+00]\n",
      "chi2 = 2.002e-07\n",
      "Er=1.711660,  Gamma=0.378099\n"
     ]
    }
   ],
   "source": [
    "print('Least squares, trust-region-reflective (default) with analytic jac')\n",
    "res = least_squares(fun, p0s, method='trf', jac=jac, args=parg)\n",
    "print(\"njev:\",res.njev)\n",
    "print(\"cost:\",res.cost)\n",
    "print(\"grad:\",res.grad)\n",
    "print(\"message:\",res.message)\n",
    "print(\"success:\",res.success)\n",
    "print(\"x:\", res.x)\n",
    "print('chi2 = %.3e' % (res.cost*2))\n",
    "print(\"Er=%f,  Gamma=%f\" % res_ene(res.x[1], res.x[2]))"
   ]
  },
  {
   "cell_type": "code",
   "execution_count": 10,
   "metadata": {},
   "outputs": [
    {
     "name": "stdout",
     "output_type": "stream",
     "text": [
      "Least squares, Levenberg-Marquardt with analytic jac\n",
      "njev: 497\n",
      "cost: 1.1085498000123574e-08\n",
      "grad: [-8.57229853e-11 -6.58772065e-12  1.97361652e-10 -2.07944792e-11\n",
      " -1.47989052e-10 -1.54388151e-20  1.32540183e-10]\n",
      "message: `ftol` termination condition is satisfied.\n",
      "success: True\n",
      "x: [2.39193211e+00 2.96440582e-01 1.31873182e+00 1.37365493e+00\n",
      " 2.96560436e-01 6.42671575e-14 5.07907122e-01]\n",
      "chi2 = 2.217e-08\n",
      "Er=1.731331,  Gamma=0.463545\n"
     ]
    }
   ],
   "source": [
    "print('Least squares, Levenberg-Marquardt with analytic jac')\n",
    "res = least_squares(fun, p0s, method='lm', jac=jac, args=parg)\n",
    "print(\"njev:\",res.njev)\n",
    "print(\"cost:\",res.cost)\n",
    "print(\"grad:\",res.grad)\n",
    "print(\"message:\",res.message)\n",
    "print(\"success:\",res.success)\n",
    "print(\"x:\", res.x)\n",
    "print('chi2 = %.3e' % (res.cost*2))\n",
    "print(\"Er=%f,  Gamma=%f\" % res_ene(res.x[1], res.x[2]))"
   ]
  },
  {
   "cell_type": "code",
   "execution_count": 11,
   "metadata": {},
   "outputs": [
    {
     "name": "stdout",
     "output_type": "stream",
     "text": [
      "Least squares, TRF with bounds\n",
      "njev: 436\n",
      "cost: 1.1085497956036341e-08\n",
      "grad: [ 1.63878831e-10  7.07763508e-12 -3.83964086e-10  1.11696040e-10\n",
      " -2.00303186e-12  4.19751172e-10 -2.66200998e-10]\n",
      "message: `gtol` termination condition is satisfied.\n",
      "success: True\n",
      "x: [2.39193215e+00 2.96441315e-01 1.31873181e+00 1.35612216e+00\n",
      " 1.55413835e-05 2.18677265e-01 5.07896221e-01]\n",
      "chi2 = 2.217e-08\n",
      "Er=1.731331,  Gamma=0.463547\n"
     ]
    }
   ],
   "source": [
    "print('Least squares, TRF with bounds')\n",
    "\n",
    "#\n",
    "#  bnds depend on the number of parameters\n",
    "#\n",
    "npara=len(p0s)\n",
    "zs = np.zeros(npara)\n",
    "infs = np.full(npara, np.inf)\n",
    "bnds=(zs, infs)\n",
    "\n",
    "res = least_squares(fun, p0s, jac=jac, bounds=bnds, args=parg)\n",
    "print(\"njev:\",res.njev)\n",
    "print(\"cost:\",res.cost)\n",
    "print(\"grad:\",res.grad)\n",
    "print(\"message:\",res.message)\n",
    "print(\"success:\",res.success)\n",
    "print(\"x:\", res.x)\n",
    "print('chi2 = %.3e' % (res.cost*2))\n",
    "print(\"Er=%f,  Gamma=%f\" % res_ene(res.x[1], res.x[2]))"
   ]
  },
  {
   "cell_type": "code",
   "execution_count": null,
   "metadata": {},
   "outputs": [],
   "source": [
    "#\n",
    "# swipe energy filter \n",
    "#\n",
    "M=len(Es)\n",
    "sigmas = weights(M, 'ones')\n",
    "res = least_squares(fun, p0s, method='trf', jac=jac, args=(ks, k2s, ls, sigmas))\n",
    "Er, G = res_ene(res.x[1], res.x[2])\n",
    "print('All weights equal:  chi2 = %.3e  Er=%f,  Gamma=%f' % (res.cost*2, Er, G))\n",
    "M=len(Es)\n",
    "for n in [0, M//4, M//2, 3*M//4, M-1]:\n",
    "    sigmas = weights(M, 'energy', E0=Es[n], Es=Es)\n",
    "    res = least_squares(fun, p0s, method='trf', jac=jac, args=(ks, k2s, ls, sigmas))\n",
    "    Er, G = res_ene(res.x[1], res.x[2])\n",
    "    print('Filter E = %6.2f:  chi2 = %.3e  Er=%f,  Gamma=%f' % (Es[n], res.cost*2, Er, G))"
   ]
  },
  {
   "cell_type": "code",
   "execution_count": null,
   "metadata": {},
   "outputs": [],
   "source": []
  }
 ],
 "metadata": {
  "kernelspec": {
   "display_name": "Python 3",
   "language": "python",
   "name": "python3"
  },
  "language_info": {
   "codemirror_mode": {
    "name": "ipython",
    "version": 3
   },
   "file_extension": ".py",
   "mimetype": "text/x-python",
   "name": "python",
   "nbconvert_exporter": "python",
   "pygments_lexer": "ipython3",
   "version": "3.6.9"
  }
 },
 "nbformat": 4,
 "nbformat_minor": 4
}
