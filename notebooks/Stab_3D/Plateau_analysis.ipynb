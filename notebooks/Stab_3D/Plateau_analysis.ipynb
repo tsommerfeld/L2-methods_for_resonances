{
 "cells": [
  {
   "cell_type": "markdown",
   "metadata": {},
   "source": [
    "## Analysis of a Stabilization graph\n",
    "Based on Arie Landau *et al.*, *J. Phys. Chem.* A 2016, 120, 3098−3108\n",
    "\n",
    "Analytic continuation of a single root using standard Pade approximants and input data from a plateau. "
   ]
  },
  {
   "cell_type": "code",
   "execution_count": 1,
   "metadata": {},
   "outputs": [],
   "source": [
    "import numpy as np\n",
    "from scipy.optimize import minimize_scalar, root_scalar\n",
    "from scipy import interpolate\n",
    "import pandas as pd\n",
    "import matplotlib\n",
    "import matplotlib.pyplot as plt\n",
    "matplotlib.use('Qt5Agg')\n",
    "%matplotlib qt5\n",
    "Angs2Bohr=1.8897259886\n",
    "au2eV=27.211386027\n",
    "au2cm=219474.63068"
   ]
  },
  {
   "cell_type": "code",
   "execution_count": 2,
   "metadata": {},
   "outputs": [],
   "source": [
    "#\n",
    "# put pade.py into the current directory or put its location into the system path\n",
    "#\n",
    "import sys\n",
    "sys.path.append('../../Python_libs')\n",
    "import pade\n",
    "import stabtools as st"
   ]
  },
  {
   "cell_type": "markdown",
   "metadata": {},
   "source": [
    "Landau outlines a ten-step protocol:\n",
    "\n",
    "### Step 1: Get a real stabilization graph\n",
    "\n",
    "The scaling parameter $z$ may be a box length $L$  or a scaling factor $\\alpha$ of a set of Gaussians."
   ]
  },
  {
   "cell_type": "code",
   "execution_count": 3,
   "metadata": {},
   "outputs": [
    {
     "data": {
      "text/html": [
       "<div>\n",
       "<style scoped>\n",
       "    .dataframe tbody tr th:only-of-type {\n",
       "        vertical-align: middle;\n",
       "    }\n",
       "\n",
       "    .dataframe tbody tr th {\n",
       "        vertical-align: top;\n",
       "    }\n",
       "\n",
       "    .dataframe thead th {\n",
       "        text-align: right;\n",
       "    }\n",
       "</style>\n",
       "<table border=\"1\" class=\"dataframe\">\n",
       "  <thead>\n",
       "    <tr style=\"text-align: right;\">\n",
       "      <th></th>\n",
       "      <th>L</th>\n",
       "      <th>z</th>\n",
       "      <th>E1</th>\n",
       "      <th>E2</th>\n",
       "      <th>E3</th>\n",
       "      <th>E4</th>\n",
       "      <th>E5</th>\n",
       "      <th>E6</th>\n",
       "    </tr>\n",
       "  </thead>\n",
       "  <tbody>\n",
       "    <tr>\n",
       "      <th>0</th>\n",
       "      <td>1.423025</td>\n",
       "      <td>0.493827</td>\n",
       "      <td>-7.170508</td>\n",
       "      <td>0.159275</td>\n",
       "      <td>0.523245</td>\n",
       "      <td>1.098066</td>\n",
       "      <td>1.858843</td>\n",
       "      <td>2.728974</td>\n",
       "    </tr>\n",
       "    <tr>\n",
       "      <th>1</th>\n",
       "      <td>1.399532</td>\n",
       "      <td>0.510545</td>\n",
       "      <td>-7.170508</td>\n",
       "      <td>0.165750</td>\n",
       "      <td>0.545553</td>\n",
       "      <td>1.144416</td>\n",
       "      <td>1.933952</td>\n",
       "      <td>2.814184</td>\n",
       "    </tr>\n",
       "    <tr>\n",
       "      <th>2</th>\n",
       "      <td>1.377166</td>\n",
       "      <td>0.527263</td>\n",
       "      <td>-7.170508</td>\n",
       "      <td>0.172307</td>\n",
       "      <td>0.568155</td>\n",
       "      <td>1.191240</td>\n",
       "      <td>2.009268</td>\n",
       "      <td>2.890628</td>\n",
       "    </tr>\n",
       "    <tr>\n",
       "      <th>3</th>\n",
       "      <td>1.355838</td>\n",
       "      <td>0.543981</td>\n",
       "      <td>-7.170508</td>\n",
       "      <td>0.178946</td>\n",
       "      <td>0.591050</td>\n",
       "      <td>1.238525</td>\n",
       "      <td>2.084680</td>\n",
       "      <td>2.956664</td>\n",
       "    </tr>\n",
       "    <tr>\n",
       "      <th>4</th>\n",
       "      <td>1.335472</td>\n",
       "      <td>0.560700</td>\n",
       "      <td>-7.170508</td>\n",
       "      <td>0.185668</td>\n",
       "      <td>0.614238</td>\n",
       "      <td>1.286256</td>\n",
       "      <td>2.160057</td>\n",
       "      <td>3.011986</td>\n",
       "    </tr>\n",
       "  </tbody>\n",
       "</table>\n",
       "</div>"
      ],
      "text/plain": [
       "          L         z        E1        E2        E3        E4        E5  \\\n",
       "0  1.423025  0.493827 -7.170508  0.159275  0.523245  1.098066  1.858843   \n",
       "1  1.399532  0.510545 -7.170508  0.165750  0.545553  1.144416  1.933952   \n",
       "2  1.377166  0.527263 -7.170508  0.172307  0.568155  1.191240  2.009268   \n",
       "3  1.355838  0.543981 -7.170508  0.178946  0.591050  1.238525  2.084680   \n",
       "4  1.335472  0.560700 -7.170508  0.185668  0.614238  1.286256  2.160057   \n",
       "\n",
       "         E6  \n",
       "0  2.728974  \n",
       "1  2.814184  \n",
       "2  2.890628  \n",
       "3  2.956664  \n",
       "4  3.011986  "
      ]
     },
     "execution_count": 3,
     "metadata": {},
     "output_type": "execute_result"
    }
   ],
   "source": [
    "df = pd.read_csv(\"DVR_stab_plot.csv\")\n",
    "#df = pd.read_csv(\"GTO_unc_stab_plot.csv\")\n",
    "#df = pd.read_csv(\"GTO_DZ_stab_plot.csv\")\n",
    "#df = pd.read_csv(\"GTO_TZ_stab_plot.csv\")\n",
    "\n",
    "#df=pd.read_csv(\"/home/thomas/Current_Work/Caroline/Glyoxal/Stab/E_geo0.csv\", delim_whitespace=True)\n",
    "#df=pd.read_csv(\"/home/thomas/Current_Work/Caroline/Glyoxal/Stab/E_geo-1.csv\", delim_whitespace=True)\n",
    "#df=pd.read_csv(\"/home/thomas/Current_Work/Caroline/Glyoxal/Stab/Z_geo0_cleaned.csv\")\n",
    "#df=pd.read_csv(\"/home/thomas/Current_Work/Caroline/Glyoxal/Stab/Z_geo-1_cleaned.csv\")\n",
    "df.head()"
   ]
  },
  {
   "cell_type": "code",
   "execution_count": 4,
   "metadata": {},
   "outputs": [],
   "source": [
    "z_col=df.columns[1]\n",
    "zs=df[z_col].values\n",
    "zmin, zmax = zs[0], zs[-1]\n",
    "if zmax < zmin:\n",
    "    zmin, zmax = zmax, zmin\n",
    "zs=(zs-zmin)/(zmax-zmin)\n",
    "\n",
    "E_labels=df.columns[2:]\n",
    "if True:\n",
    "    plt.cla()\n",
    "    for E in E_labels:\n",
    "        plt.plot(zs, df[E].values, '.')\n",
    "    plt.ylim(0,8)\n",
    "    plt.show()"
   ]
  },
  {
   "cell_type": "markdown",
   "metadata": {},
   "source": [
    "### Step 2: Select the low curvature region of a plateu \n",
    "\n",
    "Set the following parameters after inspecting the stabilization plot:\n",
    "* lroot: root with a stabilization plateau\n",
    "* if the autoselect doesn't work, narrow search by setting zmin, zmax"
   ]
  },
  {
   "cell_type": "code",
   "execution_count": 6,
   "metadata": {},
   "outputs": [
    {
     "name": "stdout",
     "output_type": "stream",
     "text": [
      "0.0 1.0\n",
      "0.30833333333333335 -37.103068065958766\n"
     ]
    }
   ],
   "source": [
    "xs=zs\n",
    "lroot=3\n",
    "ys=df[E_labels[lroot]].values\n",
    "srch_range=(-1, -1)\n",
    "drop=0.5\n",
    "# def find_plateau(xs, ys, srch_range=(-1, -1), drop=0.5, smooth=0, alpha=True):\n",
    "#     \"\"\"\n",
    "#     find the plateau region of one root of a stabilization graph ys(xs)\n",
    "#     - the left and right crossings are defined be min/max curvature \n",
    "#     - the center is min(derivative) or curvature=0\n",
    "#     Parameters:\n",
    "#         xs : alphas or Ls\n",
    "#         ys : Energy of the root\n",
    "#         srch_range=(xmin, xmax): \n",
    "#             search range; (-1,-1) is the whole range, can be used to slice the data \n",
    "#         drop: plateau region starts when the curvature drops to this percentage of its max\n",
    "#         smooth: parameter passed into the spline \n",
    "#         alpha: root has positive slope (1/L^2 stabilization graph)\n",
    "#     Returns: \n",
    "#         success, \n",
    "#         x_sel, y_sel:\n",
    "#     \"\"\"\n",
    "def der1(x, a, b, c):\n",
    "    # spline = (a, b, c)\n",
    "    return interpolate.splev(x, (a,b,c), der=1)\n",
    "\n",
    "def der2(x, a, b, c):\n",
    "    # spline = (a, b, c)\n",
    "    return interpolate.splev(x, (a,b,c), der=2)\n",
    "\n",
    "def mder2(x, a, b, c):\n",
    "    # spline = (a, b, c)\n",
    "    return -interpolate.splev(x, (a,b,c), der=2)\n",
    "\n",
    "trouble=True\n",
    "# search range, normally xs[0,len(xs)]\n",
    "xmin, xmax = srch_range\n",
    "j0, j1 = 0, len(xs)\n",
    "if xmin != -1:\n",
    "    j0 = np.argmin(np.abs(xs-xmin))\n",
    "if xmax != -1:\n",
    "    j1 = np.argmin(np.abs(xs-xmax)) + 1\n",
    "xuse, yuse = xs[j0:j1], ys[j0:j1]\n",
    "xmin, xmax = xuse[0], xuse[-1]\n",
    "step=xuse[1]-xuse[0]\n",
    "print(xmin, xmax)\n",
    "sp = interpolate.splrep(xuse, yuse, s=0)\n",
    "d2s = interpolate.splev(xuse, sp, der=2)\n",
    "\n",
    "# Find the left crossing, xl, from min curvature \n",
    "jl=np.argmin(d2s)\n",
    "xl=xuse[jl]\n",
    "res = minimize_scalar(der2, (xl-step, xl, xl+step), args=sp)\n",
    "if res.success:\n",
    "    xl = ref.x\n",
    "else:\n",
    "    trouble = True  \n",
    "# Find the right crossing, xr, from max curvature \n",
    "jr=np.argmax(d2s)\n",
    "xr=xuse[jr]\n",
    "res = minimize_scalar(mder2, (xr-step, xr, xr+step), args=sp)\n",
    "if res.success:\n",
    "    xr = res.x\n",
    "else:\n",
    "    trouble = True\n",
    "\n",
    "# between xl and xr, find the dropping points d2 = drop*min(d2)    \n",
    "\n",
    "\n",
    "\n",
    "\n",
    "if trouble:\n",
    "    plt.cla()\n",
    "    plt.plot(xuse,d2s,'o-')\n",
    "    plt.show()"
   ]
  },
  {
   "cell_type": "code",
   "execution_count": 21,
   "metadata": {},
   "outputs": [
    {
     "data": {
      "text/plain": [
       "0.30833333333333335"
      ]
     },
     "execution_count": 21,
     "metadata": {},
     "output_type": "execute_result"
    }
   ],
   "source": []
  },
  {
   "cell_type": "code",
   "execution_count": 9,
   "metadata": {},
   "outputs": [
    {
     "name": "stdout",
     "output_type": "stream",
     "text": [
      "Plateau center at z=0.478218\n",
      "Crossings at z=0.308333 and z=0.666667\n",
      "N = 23,  max n: 11\n"
     ]
    }
   ],
   "source": [
    "lroot=3\n",
    "zmin, zmax = -1, -1\n",
    "E_0=df[E_labels[lroot]].values\n",
    "d1s, d2s = st.der_and_curvature(zs,E_0)\n",
    "(jc, j1, j2), (zc, z1, z2) = st.plateau(zs,E_0,srch_range=(zmin,zmax))\n",
    "if jc > 0:\n",
    "    print('Plateau center at z=%f' % (zc))\n",
    "if j1 > 0 and j2 > 0:\n",
    "    print('Crossings at z=%f and z=%f' % (z1, z2))\n",
    "    if j1 > j2:\n",
    "        j1, j2 = j2, j1\n",
    "    d2dn, d2up = d2s[j1], d2s[j2]\n",
    "    ipdn=j1+np.argmin(np.abs(d2s[j1:j2]-0.5*d2dn))\n",
    "    ipup=j1+np.argmin(np.abs(d2s[j1:j2]-0.5*d2up))\n",
    "    alps=zs[ipdn:ipup+1]\n",
    "    Es=E_0[ipdn:ipup+1]\n",
    "    npts = len(Es)\n",
    "    print('N = %d,  max n: %d' % (npts, (npts-1)/2))\n",
    "    plt.cla()\n",
    "    plt.plot(zs, E_0, '-')\n",
    "    plt.plot(alps, Es, 'o')\n",
    "    plt.ylabel('root '+str(lroot))\n",
    "    plt.show()\n",
    "else:\n",
    "    print('No plateau with adjacent crossings found.')\n",
    "    print(jc, j1, j2)\n",
    "    plt.cla()\n",
    "    plt.plot(zs,d1s,label=\"1st der\")\n",
    "    plt.plot(zs,d2s,label=\"2nd der\")\n",
    "    plt.legend()\n",
    "    plt.ylabel('derivative and curvature')\n",
    "    plt.show()"
   ]
  },
  {
   "cell_type": "markdown",
   "metadata": {},
   "source": [
    "### Step 3 and 4: Fit to [$n$,$n$]-Pade approximant and show the result"
   ]
  },
  {
   "cell_type": "code",
   "execution_count": 12,
   "metadata": {},
   "outputs": [
    {
     "name": "stdout",
     "output_type": "stream",
     "text": [
      "E = P/Q\n",
      "P :\n",
      "         4         3         2\n",
      "79.78 x - 162.2 x + 114.5 x - 32.63 x + 3.259\n",
      "Q :\n",
      "         4         3         2\n",
      "25.73 x - 51.63 x + 35.99 x - 10.13 x + 1\n"
     ]
    }
   ],
   "source": [
    "n=4\n",
    "P, Q = pade.pade_via_lstsq(n, n, alps, Es)\n",
    "print('E = P/Q')\n",
    "print('P :\\n ', P)\n",
    "print('Q :\\n ', Q)\n",
    "\n",
    "#\n",
    "# compare the input energies and the fitted curves\n",
    "#\n",
    "npts=200\n",
    "aplot=np.linspace(zs[0],zs[-1],npts)\n",
    "Eplot=P(aplot)/Q(aplot)\n",
    "#for i in range(npts):\n",
    "#    E1plot[i]=pade.E_lower(Lplots[i], A, B, C)\n",
    "#    E2plot[i]=pade.E_upper(Lplots[i], A, B, C)\n",
    "plt.cla()\n",
    "plt.plot(zs, E_0, '-.')\n",
    "plt.plot(alps, Es, 'o')\n",
    "plt.plot(aplot,Eplot,'-')\n",
    "plt.ylim(0,6)\n",
    "plt.show()"
   ]
  },
  {
   "cell_type": "markdown",
   "metadata": {},
   "source": [
    "### Steps $5-8$\n",
    "\n",
    "Instead of computing $\\theta$ and $\\alpha$ trajectories,\n",
    "* Evaluate the derivative of the Pade approximant in the complex plane.\n",
    "* Plot its log-abs on a colorscale.\n",
    "* Read the approximate stable point off the graph.\n",
    "* Find the precise stable point with Newton-Raphson."
   ]
  },
  {
   "cell_type": "code",
   "execution_count": 13,
   "metadata": {},
   "outputs": [],
   "source": [
    "npts=81\n",
    "rp=1.2 # plus/minus x%\n",
    "ip=2*zc\n",
    "Lrs = np.linspace(alps[0]*(1-rp), alps[-1]*(1+rp), npts)\n",
    "Lis = np.linspace(-ip, 0, npts)\n",
    "der = np.zeros([npts,npts])\n",
    "for r in range(npts):\n",
    "    for i in range(npts):\n",
    "        L=Lrs[r]+ 1j*Lis[i]\n",
    "        der[i,r] = np.log10(abs(pade.dEds(L, P, Q)))\n",
    "\n",
    "plt.cla() \n",
    "plt.contourf(Lrs, Lis, der, 10, cmap=plt.cm.jet_r)\n",
    "plt.colorbar()\n",
    "plt.show()"
   ]
  },
  {
   "cell_type": "code",
   "execution_count": 14,
   "metadata": {},
   "outputs": [
    {
     "name": "stdout",
     "output_type": "stream",
     "text": [
      "dE/ds = (0.04617419124592006+0.10715286091836371j)\n",
      "E'/E'' = (-0.005513550321611129+0.025434859797220374j)\n"
     ]
    }
   ],
   "source": [
    "#   read-off from graph, derivative and Newton step should be small\n",
    "\n",
    "#L_guess=0.13+1j*0.33  # DVR\n",
    "#L_guess=0.40+1j*0.22  # DVR\n",
    "#L_guess=0.26+1j*0.34  # GTO3\n",
    "L_guess=0.4-1j*0.2  \n",
    "\n",
    "\n",
    "der = pade.dEds(L_guess, P, Q)\n",
    "print(\"dE/ds =\", der)\n",
    "corr = pade.EpoEpp(L_guess, P, Q)\n",
    "print(\"E'/E'' =\", corr)"
   ]
  },
  {
   "cell_type": "code",
   "execution_count": 15,
   "metadata": {},
   "outputs": [
    {
     "name": "stdout",
     "output_type": "stream",
     "text": [
      "  0  (0.4055136, -0.2254349)   (3.1737639, -0.1475754)\n",
      "  1  (0.4070496, -0.2306210)   (3.1738118, -0.1475786)\n",
      "  2  (0.4071519, -0.2307950)   (3.1738119, -0.1475786)\n",
      "  3  (0.4071521, -0.2307951)   (3.1738119, -0.1475786)\n",
      "  4  (0.4071521, -0.2307951)   (3.1738119, -0.1475786)\n",
      "\n",
      "Final results:\n",
      "  L_star = (0.407152, -0.230795)\n",
      "  Er = 3.173812,  Ei = -0.147579\n"
     ]
    }
   ],
   "source": [
    "# Newton Raphson\n",
    "\n",
    "max_step = 20\n",
    "Lstar = L_guess\n",
    "Ecurr = P(Lstar)/Q(Lstar)\n",
    "tol=1e-7\n",
    "for i in range(max_step):\n",
    "    delta_L = pade.EpoEpp(Lstar, P, Q)\n",
    "    Lstar = Lstar - delta_L\n",
    "    Enew = P(Lstar)/Q(Lstar)\n",
    "    delta_E = Enew - Ecurr\n",
    "    Ecurr = Enew\n",
    "    # print table with L E\n",
    "    print(\"%3d  (%.7f, %.7f)   (%.7f, %.7f)\" % \n",
    "          (i, Lstar.real, Lstar.imag, Ecurr.real, Ecurr.imag))\n",
    "    # check convergence\n",
    "    if abs(delta_L) < tol and delta_E < tol:\n",
    "        break\n",
    "print(\"\\nFinal results:\")\n",
    "print(\"  L_star = (%.6f, %.6f)\" % (Lstar.real, Lstar.imag))\n",
    "print(\"  Er = %.6f,  Ei = %.6f\" % (Ecurr.real, Ecurr.imag))\n",
    "# table = (n,Lstar.real, Lstar.imag,Ecurr.real, 2*Ecurr.imag)\n",
    "# print('| %1d | (%.6f, %.6f) | %.6f | %.6f |' % table)"
   ]
  },
  {
   "cell_type": "markdown",
   "metadata": {},
   "source": [
    "To do **steps 9 and 10**: \n",
    "* Go back and repeat with different $n$.\n",
    "* Use a different percentage than the default."
   ]
  },
  {
   "cell_type": "code",
   "execution_count": null,
   "metadata": {},
   "outputs": [],
   "source": []
  }
 ],
 "metadata": {
  "kernelspec": {
   "display_name": "Python 3",
   "language": "python",
   "name": "python3"
  },
  "language_info": {
   "codemirror_mode": {
    "name": "ipython",
    "version": 3
   },
   "file_extension": ".py",
   "mimetype": "text/x-python",
   "name": "python",
   "nbconvert_exporter": "python",
   "pygments_lexer": "ipython3",
   "version": "3.8.8"
  }
 },
 "nbformat": 4,
 "nbformat_minor": 4
}
