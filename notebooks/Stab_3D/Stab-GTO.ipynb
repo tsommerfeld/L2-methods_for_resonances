{
 "cells": [
  {
   "cell_type": "markdown",
   "metadata": {},
   "source": [
    "## Stabilization plot via Exponent Scaling"
   ]
  },
  {
   "cell_type": "code",
   "execution_count": 8,
   "metadata": {},
   "outputs": [],
   "source": [
    "show_wavefunctions=True  # use for making basis sets"
   ]
  },
  {
   "cell_type": "code",
   "execution_count": 9,
   "metadata": {},
   "outputs": [],
   "source": [
    "import numpy as np\n",
    "from scipy.linalg import eigh, eigvalsh\n",
    "import matplotlib\n",
    "import matplotlib.pyplot as plt\n",
    "matplotlib.use('Qt5Agg')\n",
    "%matplotlib qt5\n",
    "import pandas as pd"
   ]
  },
  {
   "cell_type": "code",
   "execution_count": 10,
   "metadata": {},
   "outputs": [],
   "source": [
    "import sys\n",
    "sys.path.append('../../Python_libs')\n",
    "import dvr\n",
    "from jolanta import Jolanta_3D\n",
    "from GTO_basis import GBR"
   ]
  },
  {
   "cell_type": "code",
   "execution_count": 11,
   "metadata": {},
   "outputs": [],
   "source": [
    "amu_to_au=1822.888486192\n",
    "au2cm=219474.63068\n",
    "au2eV=27.211386027\n",
    "Angs2Bohr=1.8897259886   "
   ]
  },
  {
   "cell_type": "code",
   "execution_count": 22,
   "metadata": {},
   "outputs": [],
   "source": [
    "#\n",
    "# Jolanata parameters a, b, c:\n",
    "#\n",
    "#      bound state:  -7.17051 eV\n",
    "#      resonance (3.1729556 - 0.16085j) eV\n",
    "jparam=(0.028, 1.0, 0.028)"
   ]
  },
  {
   "cell_type": "markdown",
   "metadata": {},
   "source": [
    "For exponent scaling see *J. Phys. Chem. A* **118**, 7489 (2014)"
   ]
  },
  {
   "cell_type": "code",
   "execution_count": 13,
   "metadata": {},
   "outputs": [],
   "source": [
    "def stab_point(a_val, nvscale, alpha_Ken, cont, diff, run=False):\n",
    "    \"\"\"\n",
    "    Scale a basis set \n",
    "    Input:\n",
    "        a_val: valence exponents\n",
    "        nvscale: number of valence exponents to be scaled\n",
    "        alpha_Ken:  \n",
    "            scaling factor for nvscale valence and diffuse exponents\n",
    "            reasonable: 1/(s*alpha_Ken) < 5 and alpha_Ken < s \n",
    "        cont: contraction scheme\n",
    "        diff: (ndf, sdf)\n",
    "    Output:\n",
    "       Es: energies\n",
    "       cs: GTO coefficients \n",
    "    \"\"\"\n",
    "    if nvscale < 1:\n",
    "        sys.error('At least one valence function must be scaled.')\n",
    "    nval=len(a_val)\n",
    "    a_use = a_val.copy()\n",
    "    for i in range(nvscale+1):\n",
    "        a_use[-i] *= alpha_Ken\n",
    "    ndf, sdf = diff\n",
    "    Bas = GBR(a_use, jparam, contract=cont, diffuse=diff)\n",
    "    #Bas.print_exp()\n",
    "    #return\n",
    "    S, T, V = Bas.STV()\n",
    "    if run:\n",
    "        Es = eigvalsh(T+V, b=S)\n",
    "        return Es\n",
    "    Es, cs = eigh(T+V, b=S)\n",
    "    return Es, cs"
   ]
  },
  {
   "cell_type": "markdown",
   "metadata": {},
   "source": [
    "Define GTO basis sets\n",
    "* first valence exponent *a0* and valence even-scaling factor *s*\n",
    "* number of diffuse functions *ndf* and even-scaling factor *sdf*\n",
    "* contraction scheme for the valence functions: $(n_{cont}, n_{unc})$"
   ]
  },
  {
   "cell_type": "code",
   "execution_count": 14,
   "metadata": {},
   "outputs": [
    {
     "name": "stdout",
     "output_type": "stream",
     "text": [
      "GTO_TZ_stab_plot.csv\n"
     ]
    }
   ],
   "source": [
    "sets=['GTO_unc', 'GTO_DZ', 'GTO_TZ']\n",
    "bas = sets[2]\n",
    "nval=10\n",
    "a0=17.0\n",
    "s=2\n",
    "ndf=4\n",
    "sdf=1.5\n",
    "if bas == 'GTO_unc':\n",
    "    contract = (0,0)\n",
    "elif bas == 'GTO_DZ':\n",
    "    contract = (1,1)  # one contracted, one uncontracted function\n",
    "elif bas == 'GTO_TZ':\n",
    "    contract = (1,2)  # one contracted, two uncontracted function\n",
    "else:\n",
    "    print('No such basis.')\n",
    "\n",
    "nvscale=1\n",
    "fname=bas+'_stab_plot.csv'\n",
    "print(fname)"
   ]
  },
  {
   "cell_type": "markdown",
   "metadata": {},
   "source": [
    "### Valence set\n",
    "Compare the bound state with DVR: $E_0 = -7.17051$ eV"
   ]
  },
  {
   "cell_type": "code",
   "execution_count": 15,
   "metadata": {},
   "outputs": [
    {
     "name": "stdout",
     "output_type": "stream",
     "text": [
      "E0 = -7.170439   Emax = 7.526354\n"
     ]
    }
   ],
   "source": [
    "alpha_val=[a0]\n",
    "for i in range(nval-1):\n",
    "    alpha_val.append(alpha_val[-1]/s)\n",
    "Val = GBR(alpha_val, jparam, contract=contract, diffuse=(0,0))\n",
    "S, T, V = Val.STV()\n",
    "Es, cs = eigh(T+V, b=S)\n",
    "print(f'E0 = {Es[0]*au2eV:.6f}   Emax = {Es[-1]*au2eV:.6f}')\n",
    "\n",
    "if show_wavefunctions:\n",
    "    scale=10\n",
    "    xmax=15\n",
    "    xs=np.linspace(0.1,xmax,200)\n",
    "    Vs=Jolanta_3D(xs, jparam)\n",
    "    plt.cla()\n",
    "    plt.plot(xs,Vs*au2eV, '-', color=\"blue\")\n",
    "    for i in range(len(Es)):\n",
    "        ys=Val.eval_vector(cs[:,i], xs)\n",
    "        plt.plot(xs,scale*ys**2+Es[i]*au2eV, '-')\n",
    "    plt.ylim(-8,10)\n",
    "    plt.show()"
   ]
  },
  {
   "cell_type": "markdown",
   "metadata": {},
   "source": [
    "### Extend the basis by a diffuse set to be scaled"
   ]
  },
  {
   "cell_type": "code",
   "execution_count": 16,
   "metadata": {},
   "outputs": [
    {
     "name": "stdout",
     "output_type": "stream",
     "text": [
      "E0 = -7.170445   Emax = 12.806117\n"
     ]
    }
   ],
   "source": [
    "Bas = GBR(alpha_val, jparam, contract=contract, diffuse=(ndf,sdf))\n",
    "S, T, V = Bas.STV()\n",
    "Es, cs = eigh(T+V, b=S)\n",
    "nEs = len(Es)\n",
    "print(f'E0 = {Es[0]*au2eV:.6f}   Emax = {Es[-1]*au2eV:.6f}')\n",
    "\n",
    "if show_wavefunctions:\n",
    "    Emax=10 # eV\n",
    "    plt.cla()\n",
    "    plt.plot(xs,Vs*au2eV, '-', color=\"blue\")\n",
    "    for i, E in enumerate(Es):\n",
    "        ys=Bas.eval_vector(cs[:,i], xs)\n",
    "        plt.plot(xs,scale*ys**2+E*au2eV, '-')\n",
    "        if E*au2eV > Emax:\n",
    "            break\n",
    "\n",
    "    plt.ylim(-10,Emax+1)\n",
    "    plt.show()"
   ]
  },
  {
   "cell_type": "markdown",
   "metadata": {},
   "source": [
    "### Stabilization calculation\n",
    "\n",
    "Ken's scaling: scale diffuse basis with $a = \\alpha = z$"
   ]
  },
  {
   "cell_type": "code",
   "execution_count": 17,
   "metadata": {},
   "outputs": [
    {
     "name": "stdout",
     "output_type": "stream",
     "text": [
      "points = 160\n",
      "1 2 3 4 5 6 7 8 9 10 \n",
      "11 12 13 14 15 16 17 18 19 20 \n",
      "21 22 23 24 25 26 27 28 29 30 \n",
      "31 32 33 34 35 36 37 38 39 40 \n",
      "41 42 43 44 45 46 47 48 49 50 \n",
      "51 52 53 54 55 56 57 58 59 60 \n",
      "61 62 63 64 65 66 67 68 69 70 \n",
      "71 72 73 74 75 76 77 78 79 80 \n",
      "81 82 83 84 85 86 87 88 89 90 \n",
      "91 92 93 94 95 96 97 98 99 100 \n",
      "101 102 103 104 105 106 107 108 109 110 \n",
      "111 112 113 114 115 116 117 118 119 120 \n",
      "121 122 123 124 125 126 127 128 129 130 \n",
      "131 132 133 134 135 136 137 138 139 140 \n",
      "141 142 143 144 145 146 147 148 149 150 \n",
      "151 152 153 154 155 156 157 158 159 160 \n"
     ]
    }
   ],
   "source": [
    "a_min=0.3       # small a: diffuse fns, large L\n",
    "a_max=1.9       # large a: tighter fns, small L\n",
    "\n",
    "n_a=int((a_max - a_min)/0.01) + 1  \n",
    "print(\"points =\", n_a)\n",
    "\n",
    "a_list=np.linspace(a_min, a_max, num=n_a, endpoint=True)\n",
    "L_list=1/np.sqrt(a_list)\n",
    "\n",
    "run_data = np.zeros((n_a, nEs))  # array used to collect all eta-run data\n",
    "\n",
    "for ia in range(n_a):\n",
    "    a_Ken = a_list[ia] \n",
    "    Es = stab_point(alpha_val, nvscale, a_Ken, contract, (ndf,sdf), run=True)\n",
    "    run_data[ia,:] = Es[0:nEs]\n",
    "    print(ia+1, end=\" \")\n",
    "    if (ia+1)%10==0:\n",
    "        print()\n",
    "\n",
    "run_data *= au2eV"
   ]
  },
  {
   "cell_type": "markdown",
   "metadata": {},
   "source": [
    "<br> $E(\\alpha)$-plot"
   ]
  },
  {
   "cell_type": "code",
   "execution_count": 18,
   "metadata": {},
   "outputs": [],
   "source": [
    "plt.cla()\n",
    "for i in range(0, nEs):\n",
    "    plt.plot(a_list,run_data[:,i], '-', color='blue')\n",
    "plt.ylim(0,8)\n",
    "plt.show()"
   ]
  },
  {
   "cell_type": "code",
   "execution_count": 19,
   "metadata": {},
   "outputs": [],
   "source": [
    "stab_data = np.zeros((n_a,nEs+2))\n",
    "i = 0\n",
    "stab_data[:,0] = L_list\n",
    "stab_data[:,1] = a_list\n",
    "for i in range(nEs):\n",
    "    stab_data[:,i+2] = run_data[:,i]\n",
    "\n",
    "# for checking what we got\n",
    "plt.cla()\n",
    "for i in range(nEs):\n",
    "    plt.plot(stab_data[:,0],stab_data[:,i+2], '-', color='blue')\n",
    "plt.ylim(0,10)\n",
    "plt.show()"
   ]
  },
  {
   "cell_type": "code",
   "execution_count": 20,
   "metadata": {},
   "outputs": [
    {
     "data": {
      "text/html": [
       "<div>\n",
       "<style scoped>\n",
       "    .dataframe tbody tr th:only-of-type {\n",
       "        vertical-align: middle;\n",
       "    }\n",
       "\n",
       "    .dataframe tbody tr th {\n",
       "        vertical-align: top;\n",
       "    }\n",
       "\n",
       "    .dataframe thead th {\n",
       "        text-align: right;\n",
       "    }\n",
       "</style>\n",
       "<table border=\"1\" class=\"dataframe\">\n",
       "  <thead>\n",
       "    <tr style=\"text-align: right;\">\n",
       "      <th></th>\n",
       "      <th>L</th>\n",
       "      <th>z</th>\n",
       "      <th>E1</th>\n",
       "      <th>E2</th>\n",
       "      <th>E3</th>\n",
       "      <th>E4</th>\n",
       "      <th>E5</th>\n",
       "      <th>E6</th>\n",
       "      <th>E7</th>\n",
       "    </tr>\n",
       "  </thead>\n",
       "  <tbody>\n",
       "    <tr>\n",
       "      <th>0</th>\n",
       "      <td>1.825742</td>\n",
       "      <td>0.300000</td>\n",
       "      <td>-7.170448</td>\n",
       "      <td>0.087908</td>\n",
       "      <td>0.311252</td>\n",
       "      <td>0.744851</td>\n",
       "      <td>1.887052</td>\n",
       "      <td>3.208072</td>\n",
       "      <td>6.198476</td>\n",
       "    </tr>\n",
       "    <tr>\n",
       "      <th>1</th>\n",
       "      <td>1.795871</td>\n",
       "      <td>0.310063</td>\n",
       "      <td>-7.170447</td>\n",
       "      <td>0.091174</td>\n",
       "      <td>0.323694</td>\n",
       "      <td>0.776332</td>\n",
       "      <td>1.973841</td>\n",
       "      <td>3.228715</td>\n",
       "      <td>6.323012</td>\n",
       "    </tr>\n",
       "    <tr>\n",
       "      <th>2</th>\n",
       "      <td>1.767420</td>\n",
       "      <td>0.320126</td>\n",
       "      <td>-7.170447</td>\n",
       "      <td>0.094467</td>\n",
       "      <td>0.336242</td>\n",
       "      <td>0.808294</td>\n",
       "      <td>2.059987</td>\n",
       "      <td>3.250052</td>\n",
       "      <td>6.445424</td>\n",
       "    </tr>\n",
       "    <tr>\n",
       "      <th>3</th>\n",
       "      <td>1.740279</td>\n",
       "      <td>0.330189</td>\n",
       "      <td>-7.170447</td>\n",
       "      <td>0.097789</td>\n",
       "      <td>0.348895</td>\n",
       "      <td>0.840741</td>\n",
       "      <td>2.145085</td>\n",
       "      <td>3.272481</td>\n",
       "      <td>6.565790</td>\n",
       "    </tr>\n",
       "    <tr>\n",
       "      <th>4</th>\n",
       "      <td>1.714352</td>\n",
       "      <td>0.340252</td>\n",
       "      <td>-7.170447</td>\n",
       "      <td>0.101138</td>\n",
       "      <td>0.361654</td>\n",
       "      <td>0.873671</td>\n",
       "      <td>2.228683</td>\n",
       "      <td>3.296428</td>\n",
       "      <td>6.684194</td>\n",
       "    </tr>\n",
       "  </tbody>\n",
       "</table>\n",
       "</div>"
      ],
      "text/plain": [
       "          L         z        E1        E2        E3        E4        E5  \\\n",
       "0  1.825742  0.300000 -7.170448  0.087908  0.311252  0.744851  1.887052   \n",
       "1  1.795871  0.310063 -7.170447  0.091174  0.323694  0.776332  1.973841   \n",
       "2  1.767420  0.320126 -7.170447  0.094467  0.336242  0.808294  2.059987   \n",
       "3  1.740279  0.330189 -7.170447  0.097789  0.348895  0.840741  2.145085   \n",
       "4  1.714352  0.340252 -7.170447  0.101138  0.361654  0.873671  2.228683   \n",
       "\n",
       "         E6        E7  \n",
       "0  3.208072  6.198476  \n",
       "1  3.228715  6.323012  \n",
       "2  3.250052  6.445424  \n",
       "3  3.272481  6.565790  \n",
       "4  3.296428  6.684194  "
      ]
     },
     "execution_count": 20,
     "metadata": {},
     "output_type": "execute_result"
    }
   ],
   "source": [
    "cols = ['L', 'z']\n",
    "for i in range(nEs):\n",
    "    cols.append('E'+str(i+1))\n",
    "df = pd.DataFrame(stab_data, columns=cols)\n",
    "df.head(5)"
   ]
  },
  {
   "cell_type": "code",
   "execution_count": 21,
   "metadata": {},
   "outputs": [],
   "source": [
    "df.to_csv(fname, index=False)"
   ]
  },
  {
   "cell_type": "code",
   "execution_count": null,
   "metadata": {},
   "outputs": [],
   "source": []
  }
 ],
 "metadata": {
  "kernelspec": {
   "display_name": "Python 3",
   "language": "python",
   "name": "python3"
  },
  "language_info": {
   "codemirror_mode": {
    "name": "ipython",
    "version": 3
   },
   "file_extension": ".py",
   "mimetype": "text/x-python",
   "name": "python",
   "nbconvert_exporter": "python",
   "pygments_lexer": "ipython3",
   "version": "3.8.8"
  }
 },
 "nbformat": 4,
 "nbformat_minor": 4
}
