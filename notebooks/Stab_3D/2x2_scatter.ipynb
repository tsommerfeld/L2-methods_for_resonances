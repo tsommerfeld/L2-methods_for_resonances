{
 "cells": [
  {
   "cell_type": "markdown",
   "metadata": {},
   "source": [
    "## Analysis with 2-by-2 model Hamiltonian\n",
    "Based on Benjamin J. Carlson *et al.*, *J. Phys. Chem. Lett.* **12**, 1202-1206 (2021)\n",
    "\n",
    "* Take 70% of a crossing as a data set\n",
    "* Select all sets that  \n",
    "  * include the mid point\n",
    "  * consist of 8 or more connected points\n",
    "* Print the average and do some analysis"
   ]
  },
  {
   "cell_type": "code",
   "execution_count": 14,
   "metadata": {},
   "outputs": [],
   "source": [
    "import sys\n",
    "import numpy as np\n",
    "import pandas as pd\n",
    "import matplotlib\n",
    "import matplotlib.pyplot as plt\n",
    "\n",
    "sys.path.append('../../Python_libs')\n",
    "import stabtools as st\n",
    "\n",
    "matplotlib.use('Qt5Agg')\n",
    "%matplotlib qt5\n"
   ]
  },
  {
   "cell_type": "markdown",
   "metadata": {},
   "source": [
    "### Read-in stabilization data"
   ]
  },
  {
   "cell_type": "code",
   "execution_count": 4,
   "metadata": {},
   "outputs": [
    {
     "data": {
      "text/html": [
       "<div>\n",
       "<style scoped>\n",
       "    .dataframe tbody tr th:only-of-type {\n",
       "        vertical-align: middle;\n",
       "    }\n",
       "\n",
       "    .dataframe tbody tr th {\n",
       "        vertical-align: top;\n",
       "    }\n",
       "\n",
       "    .dataframe thead th {\n",
       "        text-align: right;\n",
       "    }\n",
       "</style>\n",
       "<table border=\"1\" class=\"dataframe\">\n",
       "  <thead>\n",
       "    <tr style=\"text-align: right;\">\n",
       "      <th></th>\n",
       "      <th>L</th>\n",
       "      <th>z</th>\n",
       "      <th>E1</th>\n",
       "      <th>E2</th>\n",
       "      <th>E3</th>\n",
       "      <th>E4</th>\n",
       "      <th>E5</th>\n",
       "      <th>E6</th>\n",
       "    </tr>\n",
       "  </thead>\n",
       "  <tbody>\n",
       "    <tr>\n",
       "      <th>0</th>\n",
       "      <td>1.423025</td>\n",
       "      <td>0.493827</td>\n",
       "      <td>-7.170508</td>\n",
       "      <td>0.159275</td>\n",
       "      <td>0.523245</td>\n",
       "      <td>1.098066</td>\n",
       "      <td>1.858843</td>\n",
       "      <td>2.728974</td>\n",
       "    </tr>\n",
       "    <tr>\n",
       "      <th>1</th>\n",
       "      <td>1.399532</td>\n",
       "      <td>0.510545</td>\n",
       "      <td>-7.170508</td>\n",
       "      <td>0.165750</td>\n",
       "      <td>0.545553</td>\n",
       "      <td>1.144416</td>\n",
       "      <td>1.933952</td>\n",
       "      <td>2.814184</td>\n",
       "    </tr>\n",
       "    <tr>\n",
       "      <th>2</th>\n",
       "      <td>1.377166</td>\n",
       "      <td>0.527263</td>\n",
       "      <td>-7.170508</td>\n",
       "      <td>0.172307</td>\n",
       "      <td>0.568155</td>\n",
       "      <td>1.191240</td>\n",
       "      <td>2.009268</td>\n",
       "      <td>2.890628</td>\n",
       "    </tr>\n",
       "    <tr>\n",
       "      <th>3</th>\n",
       "      <td>1.355838</td>\n",
       "      <td>0.543981</td>\n",
       "      <td>-7.170508</td>\n",
       "      <td>0.178946</td>\n",
       "      <td>0.591050</td>\n",
       "      <td>1.238525</td>\n",
       "      <td>2.084680</td>\n",
       "      <td>2.956664</td>\n",
       "    </tr>\n",
       "    <tr>\n",
       "      <th>4</th>\n",
       "      <td>1.335472</td>\n",
       "      <td>0.560700</td>\n",
       "      <td>-7.170508</td>\n",
       "      <td>0.185668</td>\n",
       "      <td>0.614238</td>\n",
       "      <td>1.286256</td>\n",
       "      <td>2.160057</td>\n",
       "      <td>3.011986</td>\n",
       "    </tr>\n",
       "  </tbody>\n",
       "</table>\n",
       "</div>"
      ],
      "text/plain": [
       "          L         z        E1        E2        E3        E4        E5  \\\n",
       "0  1.423025  0.493827 -7.170508  0.159275  0.523245  1.098066  1.858843   \n",
       "1  1.399532  0.510545 -7.170508  0.165750  0.545553  1.144416  1.933952   \n",
       "2  1.377166  0.527263 -7.170508  0.172307  0.568155  1.191240  2.009268   \n",
       "3  1.355838  0.543981 -7.170508  0.178946  0.591050  1.238525  2.084680   \n",
       "4  1.335472  0.560700 -7.170508  0.185668  0.614238  1.286256  2.160057   \n",
       "\n",
       "         E6  \n",
       "0  2.728974  \n",
       "1  2.814184  \n",
       "2  2.890628  \n",
       "3  2.956664  \n",
       "4  3.011986  "
      ]
     },
     "execution_count": 4,
     "metadata": {},
     "output_type": "execute_result"
    }
   ],
   "source": [
    "Angs2Bohr=1.8897259886\n",
    "au2eV=27.211386027\n",
    "au2cm=219474.63068\n",
    "#\n",
    "#  files in the current directory do not need the path name\n",
    "#\n",
    "dfin=pd.read_csv(\"DVR_stab_plot.csv\")\n",
    "#dfin=pd.read_csv(\"GTO_DZ_stab_plot.csv\")\n",
    "dfin.head()"
   ]
  },
  {
   "cell_type": "code",
   "execution_count": 5,
   "metadata": {},
   "outputs": [
    {
     "data": {
      "image/png": "[encoded data removed]",
      "text/plain": [
       "<Figure size 432x288 with 1 Axes>"
      ]
     },
     "metadata": {
      "needs_background": "light"
     },
     "output_type": "display_data"
    }
   ],
   "source": [
    "z_col=dfin.columns[1]\n",
    "all_zs=dfin[z_col].values\n",
    "zmin, zmax = all_zs[0], all_zs[-1]\n",
    "if zmax < zmin:\n",
    "    zmin, zmax = zmax, zmin\n",
    "all_zs=(all_zs-zmin)/(zmax-zmin)\n",
    "\n",
    "E_labels=dfin.columns[2:]\n",
    "plt.cla()\n",
    "plt.xlabel('Z')\n",
    "plt.ylabel('E')\n",
    "for E in E_labels:\n",
    "    plt.plot(all_zs, dfin[E].values, '-')\n",
    "plt.ylim(0,7)\n",
    "plt.show()"
   ]
  },
  {
   "cell_type": "markdown",
   "metadata": {},
   "source": [
    "Set the following parameters after inspecting the stabilization plot:\n",
    "* lroot: the lower root; the 2nd root is lroot+1\n",
    "* curvature_cutoff: the crossing is defined by the minimum and maximum curvature positions; the  selection range is determined by the drop off of the abs(curvature) "
   ]
  },
  {
   "cell_type": "code",
   "execution_count": 6,
   "metadata": {},
   "outputs": [
    {
     "name": "stdout",
     "output_type": "stream",
     "text": [
      "Center of the crossing at z=0.30833333\n",
      "N = 20 points on each curve\n"
     ]
    },
    {
     "data": {
      "image/png": "[encoded data removed]",
      "text/plain": [
       "<Figure size 432x288 with 1 Axes>"
      ]
     },
     "metadata": {
      "needs_background": "light"
     },
     "output_type": "display_data"
    }
   ],
   "source": [
    "lroot = 3\n",
    "curvature_cutoff=0.3\n",
    "\n",
    "E_lw=dfin[E_labels[lroot]].values\n",
    "E_up=dfin[E_labels[lroot+1]].values\n",
    "success, cross_center, zs, E1s, E2s = st.crossing(all_zs, E_lw, E_up, curvature_cutoff)\n",
    "\n",
    "if success:\n",
    "    print(f'Center of the crossing at z={cross_center:.8f}')\n",
    "    npts = len(zs)\n",
    "    print(f'N = {npts} points on each curve')\n",
    "    plt.cla()\n",
    "    plt.plot(all_zs, E_lw, all_zs, E_up)\n",
    "    plt.plot(zs, E1s, 'o', zs, E2s, 'o')\n",
    "    plt.ylabel('roots '+str(lroot)+' and '+str(lroot+1))\n",
    "    plt.show()\n",
    "else:\n",
    "    print('No crossing found.')\n",
    "    zcs = (all_zs[zs[0]], all_zs[zs[1]])\n",
    "    print('min/max curvature at z=%f and z=%f' % zcs)\n",
    "    plt.cla()\n",
    "    plt.plot(all_zs, E1s, all_zs, E2s)\n",
    "    plt.ylabel('curvature '+str(lroot)+' and '+str(lroot+1))\n",
    "    plt.show()"
   ]
  },
  {
   "cell_type": "code",
   "execution_count": 7,
   "metadata": {},
   "outputs": [
    {
     "name": "stdout",
     "output_type": "stream",
     "text": [
      "   0     0   3.143024 -0.194062   3.160e-05\n",
      "   0     1   3.143052 -0.195445   2.492e-05\n",
      "   0     2   3.143147 -0.197047   1.933e-05\n",
      "   0     3   3.143329 -0.198881   1.471e-05\n",
      "   0     4   3.143620 -0.200963   1.095e-05\n",
      "   0     5   3.144045 -0.203310   7.957e-06\n",
      "   0     6   3.144637 -0.205943   5.630e-06\n",
      "   0     7   3.145431 -0.208881   3.867e-06\n",
      "   0     8   3.146472 -0.212147   2.572e-06\n",
      "   0     9   3.147811 -0.215765   1.653e-06\n",
      "   0    10   3.149510 -0.219757   1.025e-06\n",
      "   1     0   3.144079 -0.191512   2.082e-05\n",
      "   1     1   3.144030 -0.192702   1.593e-05\n",
      "   1     2   3.144030 -0.194101   1.196e-05\n",
      "   1     3   3.144096 -0.195723   8.775e-06\n",
      "   1     4   3.144248 -0.197581   6.274e-06\n",
      "   1     5   3.144507 -0.199691   4.354e-06\n",
      "   1     6   3.144901 -0.202072   2.921e-06\n",
      "   1     7   3.145461 -0.204744   1.887e-06\n",
      "   1     8   3.146223 -0.207727   1.168e-06\n",
      "   1     9   3.147233 -0.211043   6.910e-07\n",
      "   1    10   3.148540 -0.214715   3.892e-07\n",
      "   2     0   3.145098 -0.189292   1.398e-05\n",
      "   2     1   3.144989 -0.190300   1.036e-05\n",
      "   2     2   3.144913 -0.191509   7.511e-06\n",
      "   2     3   3.144884 -0.192932   5.299e-06\n",
      "   2     4   3.144919 -0.194580   3.623e-06\n",
      "   2     5   3.145039 -0.196470   2.387e-06\n",
      "   2     6   3.145265 -0.198618   1.507e-06\n",
      "   2     7   3.145625 -0.201042   9.048e-07\n",
      "   2     8   3.146151 -0.203763   5.128e-07\n",
      "   2     9   3.146879 -0.206800   2.722e-07\n",
      "   3     0   3.146076 -0.187371   9.578e-06\n",
      "   3     1   3.145923 -0.188207   6.872e-06\n",
      "   3     2   3.145787 -0.189237   4.802e-06\n",
      "   3     3   3.145682 -0.190472   3.251e-06\n",
      "   3     4   3.145622 -0.191924   2.120e-06\n",
      "   3     5   3.145624 -0.193607   1.321e-06\n",
      "   3     6   3.145709 -0.195536   7.793e-07\n",
      "   3     7   3.145899 -0.197730   4.305e-07\n",
      "   3     8   3.146223 -0.200206   2.195e-07\n",
      "   4     0   3.147008 -0.185727   6.677e-06\n",
      "   4     1   3.146825 -0.186399   4.636e-06\n",
      "   4     2   3.146646 -0.187258   3.123e-06\n",
      "   4     3   3.146480 -0.188315   2.028e-06\n",
      "   4     4   3.146343 -0.189581   1.259e-06\n",
      "   4     5   3.146249 -0.191069   7.405e-07\n",
      "   4     6   3.146215 -0.192793   4.069e-07\n",
      "   4     7   3.146263 -0.194770   2.054e-07\n",
      "   5     0   3.147886 -0.184340   4.712e-06\n",
      "   5     1   3.147688 -0.184855   3.167e-06\n",
      "   5     2   3.147479 -0.185552   2.056e-06\n",
      "   5     3   3.147270 -0.186439   1.280e-06\n",
      "   5     4   3.147072 -0.187528   7.572e-07\n",
      "   5     5   3.146900 -0.188830   4.199e-07\n",
      "   5     6   3.146769 -0.190360   2.147e-07\n",
      "   6     0   3.148700 -0.183195   3.338e-06\n",
      "   6     1   3.148501 -0.183560   2.171e-06\n",
      "   6     2   3.148277 -0.184100   1.359e-06\n",
      "   6     3   3.148039 -0.184826   8.105e-07\n",
      "   6     4   3.147797 -0.185746   4.559e-07\n",
      "   6     5   3.147565 -0.186872   2.380e-07\n"
     ]
    }
   ],
   "source": [
    "N=len(zs)\n",
    "j_mid=np.argmin(abs(zs-cross_center))\n",
    "min_data=8 # \n",
    "\n",
    "ils=[]\n",
    "irs=[]\n",
    "Ers=[]\n",
    "Eis=[]\n",
    "chi2s=[]\n",
    "\n",
    "for ilft in range(j_mid-1):\n",
    "    for irht in range(N,j_mid+1,-1):\n",
    "        if irht - ilft > min_data:\n",
    "            zsel, E1sel, E2sel = zs[ilft:irht], E1s[ilft:irht], E2s[ilft:irht]\n",
    "            zreal, zimag, Er, Ei, chi2 = st.tbt_ana_lsq(zsel, E1sel, E2sel, cross_center)\n",
    "            ils.append(ilft)\n",
    "            irs.append(N-irht)\n",
    "            Ers.append(Er)\n",
    "            Eis.append(Ei)\n",
    "            chi2s.append(chi2)\n",
    "            print(f'{ilft:4d}  {N-irht:4d}   {Er:8f} {Ei:8f}   {chi2:.3e}')"
   ]
  },
  {
   "cell_type": "code",
   "execution_count": 8,
   "metadata": {},
   "outputs": [
    {
     "data": {
      "text/html": [
       "<div>\n",
       "<style scoped>\n",
       "    .dataframe tbody tr th:only-of-type {\n",
       "        vertical-align: middle;\n",
       "    }\n",
       "\n",
       "    .dataframe tbody tr th {\n",
       "        vertical-align: top;\n",
       "    }\n",
       "\n",
       "    .dataframe thead th {\n",
       "        text-align: right;\n",
       "    }\n",
       "</style>\n",
       "<table border=\"1\" class=\"dataframe\">\n",
       "  <thead>\n",
       "    <tr style=\"text-align: right;\">\n",
       "      <th></th>\n",
       "      <th>left</th>\n",
       "      <th>right</th>\n",
       "      <th>Er</th>\n",
       "      <th>Ei</th>\n",
       "      <th>chi2</th>\n",
       "    </tr>\n",
       "  </thead>\n",
       "  <tbody>\n",
       "    <tr>\n",
       "      <th>count</th>\n",
       "      <td>62.000000</td>\n",
       "      <td>62.000000</td>\n",
       "      <td>62.000000</td>\n",
       "      <td>62.000000</td>\n",
       "      <td>6.200000e+01</td>\n",
       "    </tr>\n",
       "    <tr>\n",
       "      <th>mean</th>\n",
       "      <td>2.596774</td>\n",
       "      <td>4.112903</td>\n",
       "      <td>3.145963</td>\n",
       "      <td>-0.195089</td>\n",
       "      <td>5.083050e-06</td>\n",
       "    </tr>\n",
       "    <tr>\n",
       "      <th>std</th>\n",
       "      <td>1.954060</td>\n",
       "      <td>2.852119</td>\n",
       "      <td>0.001528</td>\n",
       "      <td>0.008845</td>\n",
       "      <td>6.472940e-06</td>\n",
       "    </tr>\n",
       "    <tr>\n",
       "      <th>min</th>\n",
       "      <td>0.000000</td>\n",
       "      <td>0.000000</td>\n",
       "      <td>3.143024</td>\n",
       "      <td>-0.219757</td>\n",
       "      <td>2.054148e-07</td>\n",
       "    </tr>\n",
       "    <tr>\n",
       "      <th>25%</th>\n",
       "      <td>1.000000</td>\n",
       "      <td>2.000000</td>\n",
       "      <td>3.144914</td>\n",
       "      <td>-0.200077</td>\n",
       "      <td>8.340946e-07</td>\n",
       "    </tr>\n",
       "    <tr>\n",
       "      <th>50%</th>\n",
       "      <td>2.000000</td>\n",
       "      <td>4.000000</td>\n",
       "      <td>3.146000</td>\n",
       "      <td>-0.193269</td>\n",
       "      <td>2.479571e-06</td>\n",
       "    </tr>\n",
       "    <tr>\n",
       "      <th>75%</th>\n",
       "      <td>4.000000</td>\n",
       "      <td>6.000000</td>\n",
       "      <td>3.146981</td>\n",
       "      <td>-0.188234</td>\n",
       "      <td>6.576463e-06</td>\n",
       "    </tr>\n",
       "    <tr>\n",
       "      <th>max</th>\n",
       "      <td>6.000000</td>\n",
       "      <td>10.000000</td>\n",
       "      <td>3.149510</td>\n",
       "      <td>-0.183195</td>\n",
       "      <td>3.159536e-05</td>\n",
       "    </tr>\n",
       "  </tbody>\n",
       "</table>\n",
       "</div>"
      ],
      "text/plain": [
       "            left      right         Er         Ei          chi2\n",
       "count  62.000000  62.000000  62.000000  62.000000  6.200000e+01\n",
       "mean    2.596774   4.112903   3.145963  -0.195089  5.083050e-06\n",
       "std     1.954060   2.852119   0.001528   0.008845  6.472940e-06\n",
       "min     0.000000   0.000000   3.143024  -0.219757  2.054148e-07\n",
       "25%     1.000000   2.000000   3.144914  -0.200077  8.340946e-07\n",
       "50%     2.000000   4.000000   3.146000  -0.193269  2.479571e-06\n",
       "75%     4.000000   6.000000   3.146981  -0.188234  6.576463e-06\n",
       "max     6.000000  10.000000   3.149510  -0.183195  3.159536e-05"
      ]
     },
     "execution_count": 8,
     "metadata": {},
     "output_type": "execute_result"
    },
    {
     "data": {
      "image/png": "[encoded data removed]",
      "text/plain": [
       "<Figure size 432x288 with 1 Axes>"
      ]
     },
     "metadata": {
      "needs_background": "light"
     },
     "output_type": "display_data"
    }
   ],
   "source": [
    "dic={'left':ils, 'right':irs, 'Er':Ers, 'Ei':Eis, 'chi2':chi2s}\n",
    "df=pd.DataFrame(dic)\n",
    "df.plot.scatter(x='Er', y='Ei')\n",
    "df.describe()"
   ]
  },
  {
   "cell_type": "code",
   "execution_count": 9,
   "metadata": {},
   "outputs": [],
   "source": [
    "xs=df.Er.values\n",
    "ys=df.Ei.values"
   ]
  },
  {
   "cell_type": "code",
   "execution_count": 11,
   "metadata": {},
   "outputs": [
    {
     "data": {
      "image/png": "[encoded data removed]",
      "text/plain": [
       "<Figure size 432x288 with 2 Axes>"
      ]
     },
     "metadata": {
      "needs_background": "light"
     },
     "output_type": "display_data"
    }
   ],
   "source": [
    "#\n",
    "#  long vs short datasets\n",
    "#\n",
    "j_left=df.left.values*1.0\n",
    "j_right=df.right.values*1.0\n",
    "sum_pts=j_left + j_right\n",
    "#sum_pts=left + right\n",
    "plt.cla()\n",
    "plt.scatter(xs, ys, marker='.', c=sum_pts, cmap='viridis')\n",
    "plt.colorbar()\n",
    "plt.show()"
   ]
  },
  {
   "cell_type": "code",
   "execution_count": 12,
   "metadata": {},
   "outputs": [
    {
     "data": {
      "image/png": "[encoded data removed]",
      "text/plain": [
       "<Figure size 432x288 with 2 Axes>"
      ]
     },
     "metadata": {
      "needs_background": "light"
     },
     "output_type": "display_data"
    }
   ],
   "source": [
    "#\n",
    "#  symmetric vs unsymmetric datasets\n",
    "#\n",
    "diff_pts=abs(j_left - j_right)\n",
    "plt.cla()\n",
    "plt.scatter(xs, ys, marker='.', c=diff_pts, cmap='viridis')\n",
    "plt.colorbar()\n",
    "plt.show()"
   ]
  },
  {
   "cell_type": "code",
   "execution_count": 15,
   "metadata": {},
   "outputs": [],
   "source": [
    "# both\n",
    "\n",
    "fig, axs = plt.subplots(1, 2, sharex=True, sharey=True)\n",
    "\n",
    "fig.set_figwidth(6.4)\n",
    "fig.set_figheight(3.2)\n",
    "\n",
    "#axs[0].set_xticks([3.15, 3.18])\n",
    "\n",
    "axs[0].scatter(xs, ys, marker='.', c=sum_pts, cmap='viridis')\n",
    "axs[1].scatter(xs, ys, marker='.', c=diff_pts, cmap='viridis')\n",
    "axs[0].plot(3.17296,-0.160848,'k+',markersize=10)\n",
    "axs[1].plot(3.17296,-0.160848,'k+',markersize=10)\n",
    "axs[0].set_xlabel(\"$E_r$ [eV]\", fontsize=12)\n",
    "axs[1].set_xlabel(\"$E_r$ [eV]\", fontsize=12)\n",
    "axs[0].set_ylabel(\"$E_i$ [eV]\", fontsize=12)\n",
    "\n",
    "plt.tight_layout()\n",
    "plt.show()"
   ]
  },
  {
   "cell_type": "code",
   "execution_count": null,
   "metadata": {},
   "outputs": [],
   "source": []
  }
 ],
 "metadata": {
  "kernelspec": {
   "display_name": "Python 3",
   "language": "python",
   "name": "python3"
  },
  "language_info": {
   "codemirror_mode": {
    "name": "ipython",
    "version": 3
   },
   "file_extension": ".py",
   "mimetype": "text/x-python",
   "name": "python",
   "nbconvert_exporter": "python",
   "pygments_lexer": "ipython3",
   "version": "3.8.8"
  }
 },
 "nbformat": 4,
 "nbformat_minor": 4
}
