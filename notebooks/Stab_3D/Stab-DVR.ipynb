{
 "cells": [
  {
   "cell_type": "markdown",
   "metadata": {},
   "source": [
    "## Stabilization/DVR: step 1"
   ]
  },
  {
   "cell_type": "code",
   "execution_count": 1,
   "metadata": {},
   "outputs": [],
   "source": [
    "import numpy as np\n",
    "from numpy.linalg import eigvals\n",
    "import matplotlib\n",
    "import matplotlib.pyplot as plt\n",
    "matplotlib.use('Qt5Agg')\n",
    "%matplotlib qt5\n",
    "import pandas as pd"
   ]
  },
  {
   "cell_type": "code",
   "execution_count": 2,
   "metadata": {},
   "outputs": [],
   "source": [
    "#\n",
    "#  extend path by location of the dvr package\n",
    "#\n",
    "import sys\n",
    "sys.path.append('../../Python_libs')\n",
    "#sys.path.append('/home/thomas/Current_Work/Jolanta-by-dvr/Python_libs')\n",
    "import dvr\n",
    "from jolanta import Jolanta_3D"
   ]
  },
  {
   "cell_type": "code",
   "execution_count": 3,
   "metadata": {},
   "outputs": [],
   "source": [
    "amu_to_au=1822.888486192\n",
    "au2cm=219474.63068\n",
    "au2eV=27.211386027\n",
    "Angs2Bohr=1.8897259886"
   ]
  },
  {
   "cell_type": "code",
   "execution_count": 4,
   "metadata": {},
   "outputs": [],
   "source": [
    "#\n",
    "# Jolanata parameters a, b, c:\n",
    "#\n",
    "#    bound state:  -12.26336 eV\n",
    "#    resonance: (3.279526396 - 0.2079713j)  eV\n",
    "jparam=(0.028, 1.0, 0.028)"
   ]
  },
  {
   "cell_type": "code",
   "execution_count": 5,
   "metadata": {},
   "outputs": [
    {
     "name": "stdout",
     "output_type": "stream",
     "text": [
      "  1   -0.26351131 au =     -7.17051 eV\n",
      "  2    0.06066341 au =      1.65074 eV\n",
      "  3    0.11675239 au =      3.17699 eV\n",
      "  4    0.17971292 au =      4.89024 eV\n",
      "  5    0.29854286 au =      8.12377 eV\n"
     ]
    }
   ],
   "source": [
    "#\n",
    "#  compute DVR of T and V\n",
    "#  then show the density of states\n",
    "#  in a potential + energy-levels plot\n",
    "#\n",
    "xmin=0\n",
    "xmax=20      # grid from -xmax to xmax\n",
    "thresh = 5   # maximum energy for plot\n",
    "ppB = 15     # grid points per Bohr\n",
    "\n",
    "nGrid=int((xmax-xmin)*ppB)\n",
    "xs = dvr.DVRGrid(xmin, xmax, nGrid)\n",
    "Ts = dvr.KineticEnergy(1, xmin, xmax, nGrid)\n",
    "Vs=Jolanta_3D(xs, jparam)\n",
    "[energy, wf] = dvr.DVRDiag2(nGrid, Ts, Vs, wf=True)\n",
    "\n",
    "n_ene=0\n",
    "for i in range(nGrid):\n",
    "    print(\"%3d  %12.8f au = %12.5f eV\" % (i+1, energy[i], energy[i]*au2eV))\n",
    "    n_ene += 1\n",
    "    if energy[i]*au2eV > thresh:\n",
    "        break\n",
    "\n",
    "# \"DVR normalization\", sum(wf[:,0]**2)\n",
    "# this is correct for plotting\n",
    "\n",
    "c=[\"orange\", \"blue\"]\n",
    "h=float(xmax) / (nGrid+1.0)\n",
    "scale=400\n",
    "\n",
    "plt.plot(xs,Vs*au2eV, '-', color=\"black\")\n",
    "for i in range(n_ene):\n",
    "    plt.plot(xs, scale*wf[:,i]**2+energy[i]*au2eV, '-', color=c[i%len(c)])\n",
    "#plt.ylim(0, 20)\n",
    "plt.xlabel('$x$ [Bohr]')\n",
    "plt.ylabel('$E$ [eV]')\n",
    "plt.ylim(-8,8)\n",
    "plt.show()"
   ]
  },
  {
   "cell_type": "markdown",
   "metadata": {},
   "source": [
    "### Stabilization loop\n",
    "\n"
   ]
  },
  {
   "cell_type": "code",
   "execution_count": 12,
   "metadata": {},
   "outputs": [
    {
     "name": "stdout",
     "output_type": "stream",
     "text": [
      "1 2 3 4 5 6 7 8 9 10 \n",
      "11 12 13 14 15 16 17 18 19 20 \n",
      "21 22 23 24 25 26 27 28 29 30 \n",
      "31 32 33 34 35 36 37 38 39 40 \n",
      "41 42 43 44 45 46 47 48 49 50 \n",
      "51 52 53 54 55 56 57 58 59 60 \n",
      "61 62 63 64 65 66 67 68 69 70 \n",
      "71 72 73 74 75 76 77 78 79 80 \n",
      "81 82 83 84 85 86 87 88 89 90 \n",
      "91 92 93 94 95 96 97 98 99 100 \n",
      "101 102 103 104 105 106 107 108 109 110 \n",
      "111 112 113 114 115 116 117 118 119 120 \n",
      "121 "
     ]
    }
   ],
   "source": [
    "L_min=20        # smallest grid extent (box size)\n",
    "L_max=45       # largest grid extent (box size)\n",
    "nEs_keep=30    # how many energies are kept\n",
    "\n",
    "s_min=1/L_max**2\n",
    "s_max=1/L_min**2\n",
    "\n",
    "\n",
    "n_s=121  \n",
    "slist=np.linspace(s_min, s_max, num=n_s, endpoint=True)\n",
    "Llist=1/np.sqrt(slist)\n",
    "\n",
    "run_data = np.zeros((n_s, nEs_keep))  # array used to collect the energies\n",
    "dc_data  = np.zeros((n_s, nEs_keep))  # array used to collect the DC energies\n",
    "\n",
    "do_DC=False\n",
    "\n",
    "for i in range(n_s):\n",
    "    xmax=1/np.sqrt(slist[i])\n",
    "    xmin=0\n",
    "    nGrid=int((xmax-xmin)*ppB)\n",
    "    xs = dvr.DVRGrid(xmin, xmax, nGrid)\n",
    "    Vs = Jolanta_3D(xs, jparam)\n",
    "    Ts = dvr.KineticEnergy(1, xmin, xmax, nGrid)\n",
    "    energy, wf= dvr.DVRDiag2(nGrid, Ts, Vs, wf=True)\n",
    "    run_data[i,:] = energy[0:nEs_keep]\n",
    "\n",
    "    if do_DC:\n",
    "        C = wf[:,1:]\n",
    "        TC = np.matmul(Ts,C)\n",
    "        Tprime = np.matmul(C.transpose(),TC)\n",
    "        V0s=np.zeros(nGrid-1)  # no potential for DC states\n",
    "        energy = dvr.DVRDiag2(nGrid, Tprime, V0s)\n",
    "        dc_data[i,:] = energy[0:nEs_keep]\n",
    "        \n",
    "    print(i+1, end=\" \")\n",
    "    if (i+1)%10==0:\n",
    "        print()\n",
    "\n",
    "run_data *= au2eV\n",
    "dc_data *= au2eV\n",
    "slist*=1000"
   ]
  },
  {
   "cell_type": "markdown",
   "metadata": {},
   "source": [
    "<br> $E(L)$ and $E(\\alpha)$ plots"
   ]
  },
  {
   "cell_type": "code",
   "execution_count": 18,
   "metadata": {},
   "outputs": [],
   "source": [
    "plt.cla()\n",
    "for i in range(0, nEs_keep):\n",
    "    plt.plot(slist,run_data[:,i], 'o-', color='blue')\n",
    "    if do_DC:\n",
    "        plt.plot(slist,dc_data[:,i], '-', color='grey')\n",
    "    plt.ylim(0,7)\n",
    "plt.xscale('linear')\n",
    "plt.show()"
   ]
  },
  {
   "cell_type": "code",
   "execution_count": 19,
   "metadata": {},
   "outputs": [],
   "source": [
    "#\n",
    "# copy the nEs lowest odd states from run_data to stab_data\n",
    "#\n",
    "nEs=6\n",
    "stab_data = np.zeros((n_s,nEs+2))\n",
    "i = 0\n",
    "stab_data[:,0] = 1/np.sqrt(slist)\n",
    "stab_data[:,1] = slist\n",
    "for i in range(nEs):\n",
    "    stab_data[:,i+2] = run_data[:,i]\n",
    "\n",
    "# for checking what we got\n",
    "plt.cla()\n",
    "for i in range(nEs):\n",
    "    plt.plot(stab_data[:,0],stab_data[:,i+2], '-', color='blue')\n",
    "plt.ylim(0,10)\n",
    "plt.show()"
   ]
  },
  {
   "cell_type": "code",
   "execution_count": 20,
   "metadata": {},
   "outputs": [
    {
     "data": {
      "text/html": [
       "<div>\n",
       "<style scoped>\n",
       "    .dataframe tbody tr th:only-of-type {\n",
       "        vertical-align: middle;\n",
       "    }\n",
       "\n",
       "    .dataframe tbody tr th {\n",
       "        vertical-align: top;\n",
       "    }\n",
       "\n",
       "    .dataframe thead th {\n",
       "        text-align: right;\n",
       "    }\n",
       "</style>\n",
       "<table border=\"1\" class=\"dataframe\">\n",
       "  <thead>\n",
       "    <tr style=\"text-align: right;\">\n",
       "      <th></th>\n",
       "      <th>L</th>\n",
       "      <th>z</th>\n",
       "      <th>E1</th>\n",
       "      <th>E2</th>\n",
       "      <th>E3</th>\n",
       "      <th>E4</th>\n",
       "      <th>E5</th>\n",
       "      <th>E6</th>\n",
       "    </tr>\n",
       "  </thead>\n",
       "  <tbody>\n",
       "    <tr>\n",
       "      <th>0</th>\n",
       "      <td>1.423025</td>\n",
       "      <td>0.493827</td>\n",
       "      <td>-7.170508</td>\n",
       "      <td>0.159275</td>\n",
       "      <td>0.523245</td>\n",
       "      <td>1.098066</td>\n",
       "      <td>1.858843</td>\n",
       "      <td>2.728974</td>\n",
       "    </tr>\n",
       "    <tr>\n",
       "      <th>1</th>\n",
       "      <td>1.399532</td>\n",
       "      <td>0.510545</td>\n",
       "      <td>-7.170508</td>\n",
       "      <td>0.165750</td>\n",
       "      <td>0.545553</td>\n",
       "      <td>1.144416</td>\n",
       "      <td>1.933952</td>\n",
       "      <td>2.814184</td>\n",
       "    </tr>\n",
       "    <tr>\n",
       "      <th>2</th>\n",
       "      <td>1.377166</td>\n",
       "      <td>0.527263</td>\n",
       "      <td>-7.170508</td>\n",
       "      <td>0.172307</td>\n",
       "      <td>0.568155</td>\n",
       "      <td>1.191240</td>\n",
       "      <td>2.009268</td>\n",
       "      <td>2.890628</td>\n",
       "    </tr>\n",
       "    <tr>\n",
       "      <th>3</th>\n",
       "      <td>1.355838</td>\n",
       "      <td>0.543981</td>\n",
       "      <td>-7.170508</td>\n",
       "      <td>0.178946</td>\n",
       "      <td>0.591050</td>\n",
       "      <td>1.238525</td>\n",
       "      <td>2.084680</td>\n",
       "      <td>2.956664</td>\n",
       "    </tr>\n",
       "    <tr>\n",
       "      <th>4</th>\n",
       "      <td>1.335472</td>\n",
       "      <td>0.560700</td>\n",
       "      <td>-7.170508</td>\n",
       "      <td>0.185668</td>\n",
       "      <td>0.614238</td>\n",
       "      <td>1.286256</td>\n",
       "      <td>2.160057</td>\n",
       "      <td>3.011986</td>\n",
       "    </tr>\n",
       "  </tbody>\n",
       "</table>\n",
       "</div>"
      ],
      "text/plain": [
       "          L         z        E1        E2        E3        E4        E5  \\\n",
       "0  1.423025  0.493827 -7.170508  0.159275  0.523245  1.098066  1.858843   \n",
       "1  1.399532  0.510545 -7.170508  0.165750  0.545553  1.144416  1.933952   \n",
       "2  1.377166  0.527263 -7.170508  0.172307  0.568155  1.191240  2.009268   \n",
       "3  1.355838  0.543981 -7.170508  0.178946  0.591050  1.238525  2.084680   \n",
       "4  1.335472  0.560700 -7.170508  0.185668  0.614238  1.286256  2.160057   \n",
       "\n",
       "         E6  \n",
       "0  2.728974  \n",
       "1  2.814184  \n",
       "2  2.890628  \n",
       "3  2.956664  \n",
       "4  3.011986  "
      ]
     },
     "execution_count": 20,
     "metadata": {},
     "output_type": "execute_result"
    }
   ],
   "source": [
    "cols = ['L', 'z']\n",
    "for i in range(nEs):\n",
    "    cols.append('E'+str(i+1))\n",
    "df = pd.DataFrame(stab_data, columns=cols)\n",
    "df.head(5)"
   ]
  },
  {
   "cell_type": "code",
   "execution_count": 21,
   "metadata": {},
   "outputs": [],
   "source": [
    "df.to_csv('DVR_stab_plot.csv', index=False)"
   ]
  },
  {
   "cell_type": "code",
   "execution_count": null,
   "metadata": {},
   "outputs": [],
   "source": []
  }
 ],
 "metadata": {
  "kernelspec": {
   "display_name": "Python 3",
   "language": "python",
   "name": "python3"
  },
  "language_info": {
   "codemirror_mode": {
    "name": "ipython",
    "version": 3
   },
   "file_extension": ".py",
   "mimetype": "text/x-python",
   "name": "python",
   "nbconvert_exporter": "python",
   "pygments_lexer": "ipython3",
   "version": "3.8.8"
  }
 },
 "nbformat": 4,
 "nbformat_minor": 4
}
