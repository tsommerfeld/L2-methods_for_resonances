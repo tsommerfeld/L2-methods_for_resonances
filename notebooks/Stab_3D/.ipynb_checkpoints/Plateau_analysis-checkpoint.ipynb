{
 "cells": [
  {
   "cell_type": "markdown",
   "metadata": {},
   "source": [
    "## Analysis of a Stabilization graph\n",
    "Based on Arie Landau *et al.*, *J. Phys. Chem.* A 2016, 120, 3098−3108\n",
    "\n",
    "Analytic continuation of a single root using standard Pade approximants and input data from a plateau. "
   ]
  },
  {
   "cell_type": "code",
   "execution_count": 1,
   "metadata": {},
   "outputs": [],
   "source": [
    "import numpy as np\n",
    "#from scipy.optimize import minimize_scalar\n",
    "#from scipy.optimize import root\n",
    "#from pandas import Series, DataFrame\n",
    "import pandas as pd\n",
    "import matplotlib\n",
    "import matplotlib.pyplot as plt\n",
    "matplotlib.use('Qt5Agg')\n",
    "%matplotlib qt5\n",
    "Angs2Bohr=1.8897259886\n",
    "au2eV=27.211386027\n",
    "au2cm=219474.63068"
   ]
  },
  {
   "cell_type": "code",
   "execution_count": 2,
   "metadata": {},
   "outputs": [],
   "source": [
    "#\n",
    "# put pade.py into the current directory or put its location into the system path\n",
    "#\n",
    "import sys\n",
    "sys.path.append('../../Python_libs')\n",
    "import pade\n",
    "import stabtools as st"
   ]
  },
  {
   "cell_type": "markdown",
   "metadata": {},
   "source": [
    "Landau outlines a ten-step protocol:\n",
    "\n",
    "### Step 1: Get a real stabilization graph\n",
    "\n",
    "The scaling parameter $z$ may be a box length $L$  or a scaling factor $\\alpha$ of a set of Gaussians."
   ]
  },
  {
   "cell_type": "code",
   "execution_count": 11,
   "metadata": {},
   "outputs": [
    {
     "data": {
      "text/html": [
       "<div>\n",
       "<style scoped>\n",
       "    .dataframe tbody tr th:only-of-type {\n",
       "        vertical-align: middle;\n",
       "    }\n",
       "\n",
       "    .dataframe tbody tr th {\n",
       "        vertical-align: top;\n",
       "    }\n",
       "\n",
       "    .dataframe thead th {\n",
       "        text-align: right;\n",
       "    }\n",
       "</style>\n",
       "<table border=\"1\" class=\"dataframe\">\n",
       "  <thead>\n",
       "    <tr style=\"text-align: right;\">\n",
       "      <th></th>\n",
       "      <th>L</th>\n",
       "      <th>z</th>\n",
       "      <th>E1</th>\n",
       "      <th>E2</th>\n",
       "      <th>E3</th>\n",
       "      <th>E4</th>\n",
       "      <th>E5</th>\n",
       "      <th>E6</th>\n",
       "      <th>E7</th>\n",
       "    </tr>\n",
       "  </thead>\n",
       "  <tbody>\n",
       "    <tr>\n",
       "      <th>0</th>\n",
       "      <td>1.825742</td>\n",
       "      <td>0.300000</td>\n",
       "      <td>-7.170448</td>\n",
       "      <td>0.087908</td>\n",
       "      <td>0.311252</td>\n",
       "      <td>0.744851</td>\n",
       "      <td>1.887052</td>\n",
       "      <td>3.208072</td>\n",
       "      <td>6.198476</td>\n",
       "    </tr>\n",
       "    <tr>\n",
       "      <th>1</th>\n",
       "      <td>1.795871</td>\n",
       "      <td>0.310063</td>\n",
       "      <td>-7.170447</td>\n",
       "      <td>0.091174</td>\n",
       "      <td>0.323694</td>\n",
       "      <td>0.776332</td>\n",
       "      <td>1.973841</td>\n",
       "      <td>3.228715</td>\n",
       "      <td>6.323012</td>\n",
       "    </tr>\n",
       "    <tr>\n",
       "      <th>2</th>\n",
       "      <td>1.767420</td>\n",
       "      <td>0.320126</td>\n",
       "      <td>-7.170447</td>\n",
       "      <td>0.094467</td>\n",
       "      <td>0.336242</td>\n",
       "      <td>0.808294</td>\n",
       "      <td>2.059987</td>\n",
       "      <td>3.250052</td>\n",
       "      <td>6.445424</td>\n",
       "    </tr>\n",
       "    <tr>\n",
       "      <th>3</th>\n",
       "      <td>1.740279</td>\n",
       "      <td>0.330189</td>\n",
       "      <td>-7.170447</td>\n",
       "      <td>0.097789</td>\n",
       "      <td>0.348895</td>\n",
       "      <td>0.840741</td>\n",
       "      <td>2.145085</td>\n",
       "      <td>3.272481</td>\n",
       "      <td>6.565790</td>\n",
       "    </tr>\n",
       "    <tr>\n",
       "      <th>4</th>\n",
       "      <td>1.714352</td>\n",
       "      <td>0.340252</td>\n",
       "      <td>-7.170447</td>\n",
       "      <td>0.101138</td>\n",
       "      <td>0.361654</td>\n",
       "      <td>0.873671</td>\n",
       "      <td>2.228683</td>\n",
       "      <td>3.296428</td>\n",
       "      <td>6.684194</td>\n",
       "    </tr>\n",
       "  </tbody>\n",
       "</table>\n",
       "</div>"
      ],
      "text/plain": [
       "          L         z        E1        E2        E3        E4        E5  \\\n",
       "0  1.825742  0.300000 -7.170448  0.087908  0.311252  0.744851  1.887052   \n",
       "1  1.795871  0.310063 -7.170447  0.091174  0.323694  0.776332  1.973841   \n",
       "2  1.767420  0.320126 -7.170447  0.094467  0.336242  0.808294  2.059987   \n",
       "3  1.740279  0.330189 -7.170447  0.097789  0.348895  0.840741  2.145085   \n",
       "4  1.714352  0.340252 -7.170447  0.101138  0.361654  0.873671  2.228683   \n",
       "\n",
       "         E6        E7  \n",
       "0  3.208072  6.198476  \n",
       "1  3.228715  6.323012  \n",
       "2  3.250052  6.445424  \n",
       "3  3.272481  6.565790  \n",
       "4  3.296428  6.684194  "
      ]
     },
     "execution_count": 11,
     "metadata": {},
     "output_type": "execute_result"
    }
   ],
   "source": [
    "#df = pd.read_csv(\"DVR_stab_plot.csv\")\n",
    "#df = pd.read_csv(\"GTO_unc_stab_plot.csv\")\n",
    "#df = pd.read_csv(\"GTO_DZ_stab_plot.csv\")\n",
    "df = pd.read_csv(\"GTO_TZ_stab_plot.csv\")\n",
    "df.head()"
   ]
  },
  {
   "cell_type": "code",
   "execution_count": 12,
   "metadata": {},
   "outputs": [],
   "source": [
    "z_col=df.columns[1]\n",
    "zs=df[z_col].values\n",
    "zmin, zmax = zs[0], zs[-1]\n",
    "if zmax < zmin:\n",
    "    zmin, zmax = zmax, zmin\n",
    "zs=(zs-zmin)/(zmax-zmin)\n",
    "\n",
    "E_labels=df.columns[2:]\n",
    "if True:\n",
    "    plt.cla()\n",
    "    for E in E_labels:\n",
    "        plt.plot(zs, df[E].values, '.')\n",
    "    plt.ylim(0,8)\n",
    "    plt.show()"
   ]
  },
  {
   "cell_type": "markdown",
   "metadata": {},
   "source": [
    "### Step 2: Select the low curvature region of a plateu \n",
    "\n",
    "Set the following parameters after inspecting the stabilization plot:\n",
    "* lroot: root with a stabilization plateau\n",
    "* if the autoselect doesn't work, narrow search by setting zmin, zmax"
   ]
  },
  {
   "cell_type": "code",
   "execution_count": 18,
   "metadata": {},
   "outputs": [
    {
     "name": "stdout",
     "output_type": "stream",
     "text": [
      "Plateau center at z=0.214431\n",
      "Crossings at z=0.069182 and z=0.345912\n",
      "N = 28,  max n: 13\n"
     ]
    }
   ],
   "source": [
    "lroot=4\n",
    "zmin, zmax = -1, -1\n",
    "E_0=df[E_labels[lroot]].values\n",
    "d1s, d2s = st.der_and_curvature(zs,E_0)\n",
    "(jc, j1, j2), (zc, z1, z2) = st.plateau(zs,E_0,srch_range=(zmin,zmax))\n",
    "if jc > 0:\n",
    "    print('Plateau center at z=%f' % (zc))\n",
    "if j1 > 0 and j2 > 0:\n",
    "    print('Crossings at z=%f and z=%f' % (z1, z2))\n",
    "    if j1 > j2:\n",
    "        j1, j2 = j2, j1\n",
    "    d2dn, d2up = d2s[j1], d2s[j2]\n",
    "    ipdn=j1+np.argmin(np.abs(d2s[j1:j2]-0.5*d2dn))\n",
    "    ipup=j1+np.argmin(np.abs(d2s[j1:j2]-0.5*d2up))\n",
    "    alps=zs[ipdn:ipup+1]\n",
    "    Es=E_0[ipdn:ipup+1]\n",
    "    npts = len(Es)\n",
    "    print('N = %d,  max n: %d' % (npts, (npts-1)/2))\n",
    "    plt.cla()\n",
    "    plt.plot(zs, E_0, '-')\n",
    "    plt.plot(alps, Es, 'o')\n",
    "    plt.ylabel('root '+str(lroot))\n",
    "    plt.show()\n",
    "else:\n",
    "    print('No plateau with adjacent crossings found.')\n",
    "    print(jc, j1, j2)\n",
    "    plt.cla()\n",
    "    plt.plot(zs,d1s,label=\"1st der\")\n",
    "    plt.plot(zs,d2s,label=\"2nd der\")\n",
    "    plt.legend()\n",
    "    plt.ylabel('derivative and curvature')\n",
    "    plt.show()"
   ]
  },
  {
   "cell_type": "markdown",
   "metadata": {},
   "source": [
    "### Step 3 and 4: Fit to [$n$,$n$]-Pade approximant and show the result"
   ]
  },
  {
   "cell_type": "code",
   "execution_count": 19,
   "metadata": {},
   "outputs": [
    {
     "name": "stdout",
     "output_type": "stream",
     "text": [
      "E = P/Q\n",
      "P :\n",
      "        4        3        2\n",
      "8474 x - 7409 x + 1962 x - 157.4 x + 3.814\n",
      "Q :\n",
      "        4        3         2\n",
      "2689 x - 2302 x + 593.9 x - 45.2 x + 1\n"
     ]
    }
   ],
   "source": [
    "n=4\n",
    "P, Q = pade.pade_via_lstsq(n, n, alps, Es)\n",
    "print('E = P/Q')\n",
    "print('P :\\n ', P)\n",
    "print('Q :\\n ', Q)\n",
    "\n",
    "#\n",
    "# compare the input energies and the fitted curves\n",
    "#\n",
    "npts=200\n",
    "aplot=np.linspace(zs[0],zs[-1],npts)\n",
    "Eplot=P(aplot)/Q(aplot)\n",
    "#for i in range(npts):\n",
    "#    E1plot[i]=pade.E_lower(Lplots[i], A, B, C)\n",
    "#    E2plot[i]=pade.E_upper(Lplots[i], A, B, C)\n",
    "plt.cla()\n",
    "plt.plot(zs, E_0, '-.')\n",
    "plt.plot(alps, Es, 'o')\n",
    "plt.plot(aplot,Eplot,'-')\n",
    "plt.ylim(0,6)\n",
    "plt.show()"
   ]
  },
  {
   "cell_type": "markdown",
   "metadata": {},
   "source": [
    "### Steps $5-8$\n",
    "\n",
    "Instead of computing $\\theta$ and $\\alpha$ trajectories,\n",
    "* Evaluate the derivative of the Pade approximant in the complex plane.\n",
    "* Plot its log-abs on a colorscale.\n",
    "* Read the approximate stable point off the graph.\n",
    "* Find the precise stable point with Newton-Raphson."
   ]
  },
  {
   "cell_type": "code",
   "execution_count": 20,
   "metadata": {},
   "outputs": [],
   "source": [
    "npts=81\n",
    "rp=1.2 # plus/minus x%\n",
    "ip=2*zc\n",
    "Lrs = np.linspace(alps[0]*(1-rp), alps[-1]*(1+rp), npts)\n",
    "Lis = np.linspace(-ip, 0, npts)\n",
    "der = np.zeros([npts,npts])\n",
    "for r in range(npts):\n",
    "    for i in range(npts):\n",
    "        L=Lrs[r]+ 1j*Lis[i]\n",
    "        der[i,r] = np.log10(abs(pade.dEds(L, P, Q)))\n",
    "\n",
    "plt.cla() \n",
    "plt.contourf(Lrs, Lis, der, 10, cmap=plt.cm.jet_r)\n",
    "plt.colorbar()\n",
    "plt.show()"
   ]
  },
  {
   "cell_type": "code",
   "execution_count": 21,
   "metadata": {},
   "outputs": [
    {
     "name": "stdout",
     "output_type": "stream",
     "text": [
      "dE/ds = (-0.021582725771307865-0.06777080136364597j)\n",
      "E'/E'' = (0.017796884946345556-0.01026448932237077j)\n"
     ]
    }
   ],
   "source": [
    "#   read-off from graph, derivative and Newton step should be small\n",
    "\n",
    "#L_guess=0.13+1j*0.33  # DVR\n",
    "#L_guess=0.40+1j*0.22  # DVR\n",
    "#L_guess=0.26+1j*0.34  # GTO3\n",
    "L_guess=0.2-1j*0.2  \n",
    "\n",
    "\n",
    "der = pade.dEds(L_guess, P, Q)\n",
    "print(\"dE/ds =\", der)\n",
    "corr = pade.EpoEpp(L_guess, P, Q)\n",
    "print(\"E'/E'' =\", corr)"
   ]
  },
  {
   "cell_type": "code",
   "execution_count": 22,
   "metadata": {},
   "outputs": [
    {
     "name": "stdout",
     "output_type": "stream",
     "text": [
      "  0  (0.1822031, -0.1897355)   (3.1863010, -0.1451942)\n",
      "  1  (0.1850608, -0.1885619)   (3.1862825, -0.1451892)\n",
      "  2  (0.1850064, -0.1885090)   (3.1862825, -0.1451892)\n",
      "  3  (0.1850064, -0.1885090)   (3.1862825, -0.1451892)\n",
      "\n",
      "Final results:\n",
      "  L_star = (0.185006, -0.188509)\n",
      "  Er = 3.186282,  Ei = -0.145189\n"
     ]
    }
   ],
   "source": [
    "# Newton Raphson\n",
    "\n",
    "max_step = 20\n",
    "Lstar = L_guess\n",
    "Ecurr = P(Lstar)/Q(Lstar)\n",
    "tol=1e-7\n",
    "for i in range(max_step):\n",
    "    delta_L = pade.EpoEpp(Lstar, P, Q)\n",
    "    Lstar = Lstar - delta_L\n",
    "    Enew = P(Lstar)/Q(Lstar)\n",
    "    delta_E = Enew - Ecurr\n",
    "    Ecurr = Enew\n",
    "    # print table with L E\n",
    "    print(\"%3d  (%.7f, %.7f)   (%.7f, %.7f)\" % \n",
    "          (i, Lstar.real, Lstar.imag, Ecurr.real, Ecurr.imag))\n",
    "    # check convergence\n",
    "    if abs(delta_L) < tol and delta_E < tol:\n",
    "        break\n",
    "print(\"\\nFinal results:\")\n",
    "print(\"  L_star = (%.6f, %.6f)\" % (Lstar.real, Lstar.imag))\n",
    "print(\"  Er = %.6f,  Ei = %.6f\" % (Ecurr.real, Ecurr.imag))\n",
    "# table = (n,Lstar.real, Lstar.imag,Ecurr.real, 2*Ecurr.imag)\n",
    "# print('| %1d | (%.6f, %.6f) | %.6f | %.6f |' % table)"
   ]
  },
  {
   "cell_type": "markdown",
   "metadata": {},
   "source": [
    "To do **steps 9 and 10**: \n",
    "* Go back and repeat with different $n$.\n",
    "* Use a different percentage than the default."
   ]
  },
  {
   "cell_type": "code",
   "execution_count": null,
   "metadata": {},
   "outputs": [],
   "source": []
  }
 ],
 "metadata": {
  "kernelspec": {
   "display_name": "Python 3",
   "language": "python",
   "name": "python3"
  },
  "language_info": {
   "codemirror_mode": {
    "name": "ipython",
    "version": 3
   },
   "file_extension": ".py",
   "mimetype": "text/x-python",
   "name": "python",
   "nbconvert_exporter": "python",
   "pygments_lexer": "ipython3",
   "version": "3.8.8"
  }
 },
 "nbformat": 4,
 "nbformat_minor": 4
}
