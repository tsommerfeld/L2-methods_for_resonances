{
 "cells": [
  {
   "cell_type": "markdown",
   "metadata": {},
   "source": [
    "## Analysis of a Stabilization graph\n",
    "Based on Arie Landau *et al.*, *J. Phys. Chem.* A 2016, 120, 3098−3108\n",
    "\n",
    "Analytic continuation of a single root using standard Pade approximants and input data from a plateau. "
   ]
  },
  {
   "cell_type": "code",
   "execution_count": 1,
   "metadata": {},
   "outputs": [],
   "source": [
    "import numpy as np\n",
    "#from scipy.optimize import minimize_scalar\n",
    "#from scipy.optimize import root\n",
    "#from pandas import Series, DataFrame\n",
    "import pandas as pd\n",
    "import matplotlib\n",
    "import matplotlib.pyplot as plt\n",
    "matplotlib.use('Qt5Agg')\n",
    "%matplotlib qt5\n",
    "Angs2Bohr=1.8897259886\n",
    "au2eV=27.211386027\n",
    "au2cm=219474.63068"
   ]
  },
  {
   "cell_type": "code",
   "execution_count": 2,
   "metadata": {},
   "outputs": [],
   "source": [
    "#\n",
    "# put pade.py into the current directory or put its location into the system path\n",
    "#\n",
    "import sys\n",
    "sys.path.append('../../Python_libs')\n",
    "import pade\n",
    "import stabtools as st"
   ]
  },
  {
   "cell_type": "markdown",
   "metadata": {},
   "source": [
    "Landau outlines a ten-step protocol:\n",
    "\n",
    "### Step 1: Get a real stabilization graph\n",
    "\n",
    "The scaling parameter $z$ may be a box length $L$  or a scaling factor $\\alpha$ of a set of Gaussians."
   ]
  },
  {
   "cell_type": "code",
   "execution_count": 3,
   "metadata": {},
   "outputs": [
    {
     "data": {
      "text/html": [
       "<div>\n",
       "<style scoped>\n",
       "    .dataframe tbody tr th:only-of-type {\n",
       "        vertical-align: middle;\n",
       "    }\n",
       "\n",
       "    .dataframe tbody tr th {\n",
       "        vertical-align: top;\n",
       "    }\n",
       "\n",
       "    .dataframe thead th {\n",
       "        text-align: right;\n",
       "    }\n",
       "</style>\n",
       "<table border=\"1\" class=\"dataframe\">\n",
       "  <thead>\n",
       "    <tr style=\"text-align: right;\">\n",
       "      <th></th>\n",
       "      <th>L</th>\n",
       "      <th>z</th>\n",
       "      <th>E1</th>\n",
       "      <th>E2</th>\n",
       "      <th>E3</th>\n",
       "      <th>E4</th>\n",
       "      <th>E5</th>\n",
       "      <th>E6</th>\n",
       "    </tr>\n",
       "  </thead>\n",
       "  <tbody>\n",
       "    <tr>\n",
       "      <th>0</th>\n",
       "      <td>1.423025</td>\n",
       "      <td>0.493827</td>\n",
       "      <td>-7.170508</td>\n",
       "      <td>0.159275</td>\n",
       "      <td>0.523245</td>\n",
       "      <td>1.098066</td>\n",
       "      <td>1.858843</td>\n",
       "      <td>2.728974</td>\n",
       "    </tr>\n",
       "    <tr>\n",
       "      <th>1</th>\n",
       "      <td>1.399532</td>\n",
       "      <td>0.510545</td>\n",
       "      <td>-7.170508</td>\n",
       "      <td>0.165750</td>\n",
       "      <td>0.545553</td>\n",
       "      <td>1.144416</td>\n",
       "      <td>1.933952</td>\n",
       "      <td>2.814184</td>\n",
       "    </tr>\n",
       "    <tr>\n",
       "      <th>2</th>\n",
       "      <td>1.377166</td>\n",
       "      <td>0.527263</td>\n",
       "      <td>-7.170508</td>\n",
       "      <td>0.172307</td>\n",
       "      <td>0.568155</td>\n",
       "      <td>1.191240</td>\n",
       "      <td>2.009268</td>\n",
       "      <td>2.890628</td>\n",
       "    </tr>\n",
       "    <tr>\n",
       "      <th>3</th>\n",
       "      <td>1.355838</td>\n",
       "      <td>0.543981</td>\n",
       "      <td>-7.170508</td>\n",
       "      <td>0.178946</td>\n",
       "      <td>0.591050</td>\n",
       "      <td>1.238525</td>\n",
       "      <td>2.084680</td>\n",
       "      <td>2.956664</td>\n",
       "    </tr>\n",
       "    <tr>\n",
       "      <th>4</th>\n",
       "      <td>1.335472</td>\n",
       "      <td>0.560700</td>\n",
       "      <td>-7.170508</td>\n",
       "      <td>0.185668</td>\n",
       "      <td>0.614238</td>\n",
       "      <td>1.286256</td>\n",
       "      <td>2.160057</td>\n",
       "      <td>3.011986</td>\n",
       "    </tr>\n",
       "  </tbody>\n",
       "</table>\n",
       "</div>"
      ],
      "text/plain": [
       "          L         z        E1        E2        E3        E4        E5  \\\n",
       "0  1.423025  0.493827 -7.170508  0.159275  0.523245  1.098066  1.858843   \n",
       "1  1.399532  0.510545 -7.170508  0.165750  0.545553  1.144416  1.933952   \n",
       "2  1.377166  0.527263 -7.170508  0.172307  0.568155  1.191240  2.009268   \n",
       "3  1.355838  0.543981 -7.170508  0.178946  0.591050  1.238525  2.084680   \n",
       "4  1.335472  0.560700 -7.170508  0.185668  0.614238  1.286256  2.160057   \n",
       "\n",
       "         E6  \n",
       "0  2.728974  \n",
       "1  2.814184  \n",
       "2  2.890628  \n",
       "3  2.956664  \n",
       "4  3.011986  "
      ]
     },
     "execution_count": 3,
     "metadata": {},
     "output_type": "execute_result"
    }
   ],
   "source": [
    "df = pd.read_csv(\"DVR_stab_plot.csv\")\n",
    "#df = pd.read_csv(\"GTO3_stab_plot.csv\")\n",
    "#df = pd.read_csv(\"GTO2_stab_plot.csv\")\n",
    "#df = pd.read_csv(\"GTO1_stab_plot.csv\")\n",
    "df.head()"
   ]
  },
  {
   "cell_type": "code",
   "execution_count": 4,
   "metadata": {},
   "outputs": [
    {
     "data": {
      "image/png": "[encoded data removed]",
      "text/plain": [
       "<Figure size 432x288 with 1 Axes>"
      ]
     },
     "metadata": {
      "needs_background": "light"
     },
     "output_type": "display_data"
    }
   ],
   "source": [
    "z_col=df.columns[1]\n",
    "zs=df[z_col].values\n",
    "zmin, zmax = zs[0], zs[-1]\n",
    "if zmax < zmin:\n",
    "    zmin, zmax = zmax, zmin\n",
    "zs=(zs-zmin)/(zmax-zmin)\n",
    "\n",
    "E_labels=df.columns[2:]\n",
    "if True:\n",
    "    plt.cla()\n",
    "    for E in E_labels:\n",
    "        plt.plot(zs, df[E].values, '.')\n",
    "    plt.ylim(0,8)\n",
    "    plt.show()"
   ]
  },
  {
   "cell_type": "markdown",
   "metadata": {},
   "source": [
    "### Step 2: Select the low curvature region of a plateu \n",
    "\n",
    "Set the following parameters after inspecting the stabilization plot:\n",
    "* lroot: root with a stabilization plateau"
   ]
  },
  {
   "cell_type": "code",
   "execution_count": 43,
   "metadata": {},
   "outputs": [
    {
     "name": "stdout",
     "output_type": "stream",
     "text": [
      "Plateau center at z=0.264900\n",
      "Crossings at z=0.021834 and z=0.519651\n",
      "N = 71,  max n: 35\n"
     ]
    }
   ],
   "source": [
    "lroot=5\n",
    "E_0=df[E_labels[lroot]].values\n",
    "d1s, d2s = st.der_and_curvature(zs,E_0)\n",
    "(jc, j1, j2), (zc, z1, z2) = st.plateau(zs,E_0)\n",
    "if jc > 0:\n",
    "    print('Plateau center at z=%f' % (zc))\n",
    "if j1 > 0 and j2 > 0:\n",
    "    print('Crossings at z=%f and z=%f' % (z1, z2))\n",
    "    if j1 > j2:\n",
    "        j1, j2 = j2, j1\n",
    "    d2dn, d2up = d2s[j1], d2s[j2]\n",
    "    ipdn=j1+np.argmin(np.abs(d2s[j1:j2]-0.5*d2dn))\n",
    "    ipup=j1+np.argmin(np.abs(d2s[j1:j2]-0.5*d2up))\n",
    "    alps=zs[ipdn:ipup+1]\n",
    "    Es=E_0[ipdn:ipup+1]\n",
    "    npts = len(Es)\n",
    "    print('N = %d,  max n: %d' % (npts, (npts-1)/2))\n",
    "    plt.cla()\n",
    "    plt.plot(zs, E_0, '-')\n",
    "    plt.plot(alps, Es, 'o')\n",
    "    plt.ylabel('root '+str(lroot))\n",
    "    plt.show()\n",
    "else:\n",
    "    print('No plateau with adjacent crossings found.')\n",
    "    plt.cla()\n",
    "    plt.plot(zs,d1s,label=\"1st der\")\n",
    "    plt.plot(zs,d2s,label=\"2nd der\")\n",
    "    plt.legend()\n",
    "    plt.ylabel('derivative and curvature')\n",
    "    plt.show()"
   ]
  },
  {
   "cell_type": "code",
   "execution_count": 44,
   "metadata": {},
   "outputs": [],
   "source": [
    "#\n",
    "#  Alternative approach that uses a certain percentage of the zrange\n",
    "#  between the crossings\n",
    "#\n",
    "# use=0.8\n",
    "# lroot=3\n",
    "# #lroot=7\n",
    "\n",
    "\n",
    "# Em1=df[E_labels[lroot-1]].values\n",
    "# Ep1=df[E_labels[lroot+1]].values\n",
    "\n",
    "# jctr, zctr, der = st.min_der(zs, E_0)\n",
    "# jup, zup, dEu = st.min_delta_search(zs, zctr, E_0, Em1, up=True)\n",
    "# jdn, zdn, dEd = st.min_delta_search(zs, zctr, E_0, Ep1, up=False)\n",
    "# print('Plateau:  z=%f to z=%f, center at z=%f' % (zdn, zup, zctr))\n",
    "# zdn+=(zctr-zdn)*((1-use)/2)\n",
    "# zup-=(zup-zctr)*((1-use)/2)\n",
    "# print('selected  z=%f to z=%f, center at z=%f' % (zdn, zup, zctr))\n",
    "# i_min=np.argmin(abs(zs-zdn))\n",
    "# i_max=np.argmin(abs(zs-zup))+1\n",
    "\n",
    "# alps=zs[i_min:i_max]\n",
    "# Es=E_0[i_min:i_max]\n",
    "# npts = len(Es)\n",
    "# print('N = %d,  max n: %d' % (npts, (npts-1)/2))\n",
    "\n",
    "# plt.cla()\n",
    "# plt.plot(zs, E_0, '-')\n",
    "# plt.plot(alps, Es, 'o')\n",
    "# plt.show()"
   ]
  },
  {
   "cell_type": "markdown",
   "metadata": {},
   "source": [
    "### Step 3 and 4: Fit to [$n$,$n$]-Pade approximant and show the result"
   ]
  },
  {
   "cell_type": "code",
   "execution_count": 57,
   "metadata": {},
   "outputs": [
    {
     "name": "stdout",
     "output_type": "stream",
     "text": [
      "E = P/Q\n",
      "P :\n",
      "        5        4        3         2\n",
      "7235 x - 7773 x + 1224 x + 588.5 x + 23.02 x + 2.562\n",
      "Q :\n",
      "        5        4         3         2\n",
      "2239 x - 2334 x + 306.5 x + 194.6 x + 6.764 x + 1\n"
     ]
    }
   ],
   "source": [
    "n=5\n",
    "P, Q = pade.pade_via_lstsq(n, n, alps, Es)\n",
    "print('E = P/Q')\n",
    "print('P :\\n ', P)\n",
    "print('Q :\\n ', Q)\n",
    "\n",
    "#\n",
    "# compare the input energies and the fitted curves\n",
    "#\n",
    "npts=200\n",
    "aplot=np.linspace(zs[0],zs[-1],npts)\n",
    "Eplot=P(aplot)/Q(aplot)\n",
    "#for i in range(npts):\n",
    "#    E1plot[i]=pade.E_lower(Lplots[i], A, B, C)\n",
    "#    E2plot[i]=pade.E_upper(Lplots[i], A, B, C)\n",
    "plt.cla()\n",
    "plt.plot(zs, E_0, '-.')\n",
    "plt.plot(alps, Es, 'o')\n",
    "plt.plot(aplot,Eplot,'-')\n",
    "plt.ylim(0,6)\n",
    "plt.show()"
   ]
  },
  {
   "cell_type": "markdown",
   "metadata": {},
   "source": [
    "### Steps $5-8$\n",
    "\n",
    "Instead of computing $\\theta$ and $\\alpha$ trajectories,\n",
    "* Evaluate the derivative of the Pade approximant in the complex plane.\n",
    "* Plot its log-abs on a colorscale.\n",
    "* Read the approximate stable point off the graph.\n",
    "* Find the precise stable point with Newton-Raphson."
   ]
  },
  {
   "cell_type": "code",
   "execution_count": 58,
   "metadata": {},
   "outputs": [],
   "source": [
    "npts=81\n",
    "rp=1.2 # plus/minus x%\n",
    "ip=2*zc\n",
    "Lrs = np.linspace(alps[0]*(1-rp), alps[-1]*(1+rp), npts)\n",
    "Lis = np.linspace(0, +ip, npts)\n",
    "der = np.zeros([npts,npts])\n",
    "for r in range(npts):\n",
    "    for i in range(npts):\n",
    "        L=Lrs[r]+ 1j*Lis[i]\n",
    "        der[i,r] = np.log10(abs(pade.dEds(L, P, Q)))\n",
    "\n",
    "plt.cla() \n",
    "plt.contourf(Lrs, Lis, der, 10, cmap=plt.cm.jet_r)\n",
    "plt.colorbar()\n",
    "plt.show()"
   ]
  },
  {
   "cell_type": "code",
   "execution_count": 59,
   "metadata": {},
   "outputs": [
    {
     "name": "stdout",
     "output_type": "stream",
     "text": [
      "dE/ds = (0.07199895960981402-0.007569970888501948j)\n",
      "E'/E'' = (0.0046284557544550966-0.04886064035817348j)\n"
     ]
    }
   ],
   "source": [
    "#   read-off from graph, derivative and Newton step should be small\n",
    "\n",
    "#L_guess=0.13+1j*0.33  # DVR\n",
    "#L_guess=0.40+1j*0.22  # DVR\n",
    "#L_guess=0.26+1j*0.34  # GTO3\n",
    "L_guess=0.2+1j*0.3  # GTO2\n",
    "\n",
    "\n",
    "der = pade.dEds(L_guess, P, Q)\n",
    "print(\"dE/ds =\", der)\n",
    "corr = pade.EpoEpp(L_guess, P, Q)\n",
    "print(\"E'/E'' =\", corr)"
   ]
  },
  {
   "cell_type": "code",
   "execution_count": 60,
   "metadata": {},
   "outputs": [
    {
     "name": "stdout",
     "output_type": "stream",
     "text": [
      "  0  (0.1953715, 0.3488606)   (3.2094935, 0.1472785)\n",
      "  1  (0.1997301, 0.3583693)   (3.2095418, 0.1473139)\n",
      "  2  (0.2001094, 0.3584653)   (3.2095419, 0.1473139)\n",
      "  3  (0.2001094, 0.3584648)   (3.2095419, 0.1473139)\n",
      "  4  (0.2001094, 0.3584648)   (3.2095419, 0.1473139)\n",
      "\n",
      "Final results:\n",
      "  L_star = (0.200109, 0.358465)\n",
      "  Er = 3.209542,  Gamma = 0.294628\n",
      "| 5 | (0.200109, 0.358465) | 3.209542 | 0.294628 |\n"
     ]
    }
   ],
   "source": [
    "# Newton Raphson\n",
    "\n",
    "max_step = 20\n",
    "Lstar = L_guess\n",
    "Ecurr = P(Lstar)/Q(Lstar)\n",
    "tol=1e-7\n",
    "for i in range(max_step):\n",
    "    delta_L = pade.EpoEpp(Lstar, P, Q)\n",
    "    Lstar = Lstar - delta_L\n",
    "    Enew = P(Lstar)/Q(Lstar)\n",
    "    delta_E = Enew - Ecurr\n",
    "    Ecurr = Enew\n",
    "    # print table with L E\n",
    "    print(\"%3d  (%.7f, %.7f)   (%.7f, %.7f)\" % \n",
    "          (i, Lstar.real, Lstar.imag, Ecurr.real, Ecurr.imag))\n",
    "    # check convergence\n",
    "    if abs(delta_L) < tol and delta_E < tol:\n",
    "        break\n",
    "print(\"\\nFinal results:\")\n",
    "print(\"  L_star = (%.6f, %.6f)\" % (Lstar.real, Lstar.imag))\n",
    "print(\"  Er = %.6f,  Gamma = %.6f\" % (Ecurr.real, 2*Ecurr.imag))\n",
    "table = (n,Lstar.real, Lstar.imag,Ecurr.real, 2*Ecurr.imag)\n",
    "print('| %1d | (%.6f, %.6f) | %.6f | %.6f |' % table)"
   ]
  },
  {
   "cell_type": "markdown",
   "metadata": {},
   "source": [
    "To do **steps 9 and 10**: \n",
    "* Go back and repeat with different $n$.\n",
    "* Use a different percentage than the default."
   ]
  },
  {
   "cell_type": "code",
   "execution_count": null,
   "metadata": {},
   "outputs": [],
   "source": []
  }
 ],
 "metadata": {
  "kernelspec": {
   "display_name": "Python 3",
   "language": "python",
   "name": "python3"
  },
  "language_info": {
   "codemirror_mode": {
    "name": "ipython",
    "version": 3
   },
   "file_extension": ".py",
   "mimetype": "text/x-python",
   "name": "python",
   "nbconvert_exporter": "python",
   "pygments_lexer": "ipython3",
   "version": "3.6.11"
  }
 },
 "nbformat": 4,
 "nbformat_minor": 4
}
