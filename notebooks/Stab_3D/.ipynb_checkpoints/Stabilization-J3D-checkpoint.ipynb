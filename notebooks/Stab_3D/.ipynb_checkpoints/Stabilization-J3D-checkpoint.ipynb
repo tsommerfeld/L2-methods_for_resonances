{
 "cells": [
  {
   "cell_type": "code",
   "execution_count": 2,
   "metadata": {},
   "outputs": [],
   "source": [
    "import numpy as np\n",
    "from numpy.linalg import eigvals\n",
    "import matplotlib\n",
    "import matplotlib.pyplot as plt\n",
    "matplotlib.use('Qt5Agg')\n",
    "%matplotlib qt5\n",
    "import pandas as pd"
   ]
  },
  {
   "cell_type": "code",
   "execution_count": 4,
   "metadata": {},
   "outputs": [],
   "source": [
    "#\n",
    "#  extend path by location of the dvr package\n",
    "#\n",
    "import sys\n",
    "sys.path.append('../../Python_libs')\n",
    "#sys.path.append('/home/thomas/Current_Work/Jolanta-by-dvr/Python_libs')\n",
    "import dvr\n",
    "from jolanta import Jolanta_3D"
   ]
  },
  {
   "cell_type": "code",
   "execution_count": 5,
   "metadata": {},
   "outputs": [],
   "source": [
    "amu_to_au=1822.888486192\n",
    "au2cm=219474.63068\n",
    "au2eV=27.211386027\n",
    "Angs2Bohr=1.8897259886"
   ]
  },
  {
   "cell_type": "code",
   "execution_count": 7,
   "metadata": {},
   "outputs": [],
   "source": [
    "#\n",
    "# Jolanata parameters a, b, c:\n",
    "#\n",
    "#    bound state:  -12.26336 eV\n",
    "#    resonance: (3.279526396 - 0.2079713j)  eV\n",
    "jparam=(0.028, 1.0, 0.028)"
   ]
  },
  {
   "cell_type": "code",
   "execution_count": 9,
   "metadata": {},
   "outputs": [
    {
     "name": "stdout",
     "output_type": "stream",
     "text": [
      "  1   -0.26351131 au =     -7.17051 eV\n",
      "  2    0.06066341 au =      1.65074 eV\n",
      "  3    0.11675239 au =      3.17699 eV\n",
      "  4    0.17971292 au =      4.89024 eV\n",
      "  5    0.29854286 au =      8.12377 eV\n"
     ]
    }
   ],
   "source": [
    "#\n",
    "#  compute DVR of T and V\n",
    "#  then show the density of states\n",
    "#  in a potential + energy-levels plot\n",
    "#\n",
    "xmin=0\n",
    "xmax=20      # grid from -xmax to xmax\n",
    "thresh = 5   # maximum energy for plot\n",
    "ppB = 15     # grid points per Bohr\n",
    "\n",
    "nGrid=int((xmax-xmin)*ppB)\n",
    "xs = dvr.DVRGrid(xmin, xmax, nGrid)\n",
    "Ts = dvr.KineticEnergy(1, xmin, xmax, nGrid)\n",
    "Vs=Jolanta_3D(xs, jparam)\n",
    "[energy, wf] = dvr.DVRDiag2(nGrid, Ts, Vs, wf=True)\n",
    "\n",
    "n_ene=0\n",
    "for i in range(nGrid):\n",
    "    print(\"%3d  %12.8f au = %12.5f eV\" % (i+1, energy[i], energy[i]*au2eV))\n",
    "    n_ene += 1\n",
    "    if energy[i]*au2eV > thresh:\n",
    "        break\n",
    "\n",
    "# \"DVR normalization\", sum(wf[:,0]**2)\n",
    "# this is correct for plotting\n",
    "\n",
    "c=[\"orange\", \"blue\"]\n",
    "h=float(xmax) / (nGrid+1.0)\n",
    "scale=400\n",
    "\n",
    "plt.plot(xs,Vs*au2eV, '-', color=\"black\")\n",
    "for i in range(n_ene):\n",
    "    plt.plot(xs, scale*wf[:,i]**2+energy[i]*au2eV, '-', color=c[i%len(c)])\n",
    "#plt.ylim(0, 20)\n",
    "plt.xlabel('$x$ [Bohr]')\n",
    "plt.ylabel('$E$ [eV]')\n",
    "plt.ylim(-8,8)\n",
    "plt.show()"
   ]
  },
  {
   "cell_type": "markdown",
   "metadata": {},
   "source": [
    "### The DC states looks terrible.\n",
    "\n",
    "Because I fail to explicitly orthogonalize on the bound state? I think so."
   ]
  },
  {
   "cell_type": "code",
   "execution_count": 22,
   "metadata": {},
   "outputs": [
    {
     "name": "stdout",
     "output_type": "stream",
     "text": [
      "1 2 3 4 5 6 7 8 9 10 \n",
      "11 12 13 14 15 16 17 18 19 20 \n",
      "21 22 23 24 25 26 27 28 29 30 \n",
      "31 32 33 34 35 36 37 38 39 40 \n",
      "41 42 43 44 45 46 47 48 49 50 \n",
      "51 52 53 54 55 56 57 58 59 60 \n"
     ]
    }
   ],
   "source": [
    "#\n",
    "#  Stabilization calculation: \n",
    "#\n",
    "#  put the system into a box, change the box length \n",
    "#  our box length = 2L: from -L to L\n",
    "#\n",
    "\n",
    "L_min=20        # smallest grid extent (box size)\n",
    "L_max=40       # largest grid extent (box size)\n",
    "nEs_keep=30    # how many energies are kept\n",
    "\n",
    "s_min=1/L_max**2\n",
    "s_max=1/L_min**2\n",
    "\n",
    "\n",
    "n_s=60  \n",
    "slist=np.logspace(np.log10(s_min), np.log10(s_max), num=n_s, endpoint=True)\n",
    "\n",
    "run_data = np.zeros((n_s, nEs_keep))  # array used to collect the energies\n",
    "dc_data  = np.zeros((n_s, nEs_keep))  # array used to collect the DC energies\n",
    "\n",
    "\n",
    "for i in range(n_s):\n",
    "    xmax=1/np.sqrt(slist[i])\n",
    "    xmin=0\n",
    "    nGrid=int((xmax-xmin)*ppB)\n",
    "    xs = dvr.DVRGrid(xmin, xmax, nGrid)\n",
    "    Vs = Jolanta_3D(xs, jparam)\n",
    "    Ts = dvr.KineticEnergy(1, xmin, xmax, nGrid)\n",
    "    energy, wf= dvr.DVRDiag2(nGrid, Ts, Vs, wf=True)\n",
    "    run_data[i,:] = energy[0:nEs_keep]\n",
    "    \n",
    "    C = wf[:,1:]\n",
    "    TC = np.matmul(Ts,C)\n",
    "    Tprime = np.matmul(C.transpose(),TC)\n",
    "    V0s=np.zeros(nGrid-1)  # no potential for DC states\n",
    "    energy = dvr.DVRDiag2(nGrid, Tprime, V0s)\n",
    "    dc_data[i,:] = energy[0:nEs_keep]\n",
    "    print(i+1, end=\" \")\n",
    "    if (i+1)%10==0:\n",
    "        print()\n",
    "\n",
    "run_data *= au2eV\n",
    "dc_data *= au2eV"
   ]
  },
  {
   "cell_type": "markdown",
   "metadata": {},
   "source": [
    "<br> $E(L)$ and $E(\\alpha)$ plots"
   ]
  },
  {
   "cell_type": "code",
   "execution_count": 23,
   "metadata": {},
   "outputs": [],
   "source": [
    "plt.cla()\n",
    "for i in range(0, nEs_keep):\n",
    "    plt.plot(1/np.sqrt(slist),run_data[:,i], 'o-', color='blue')\n",
    "    plt.plot(1/np.sqrt(slist),dc_data[:,i], '-', color='grey')\n",
    "    plt.ylim(0,10)\n",
    "#plt.xscale('log')\n",
    "plt.show()"
   ]
  },
  {
   "cell_type": "code",
   "execution_count": null,
   "metadata": {},
   "outputs": [],
   "source": []
  },
  {
   "cell_type": "code",
   "execution_count": 24,
   "metadata": {},
   "outputs": [],
   "source": [
    "plt.cla()\n",
    "for i in range(1, nEs_keep):\n",
    "    plt.plot(slist,run_data[:,i], 'o-', color='blue')\n",
    "    plt.plot(slist,dc_data[:,i], '-', color='grey')\n",
    "plt.ylim(0,8)\n",
    "\n",
    "#plt.xscale(\"log\")\n",
    "#plt.yscale(\"log\")\n",
    "\n",
    "plt.show()"
   ]
  },
  {
   "cell_type": "code",
   "execution_count": null,
   "metadata": {},
   "outputs": [],
   "source": [
    "#\n",
    "# copy the nEs lowest odd states from run_data to stab_data\n",
    "#\n",
    "nEs=6\n",
    "stab_data = np.zeros((n_s,nEs+1))\n",
    "i = 0\n",
    "stab_data[:,0] = slist\n",
    "for i in range(nEs):\n",
    "    stab_data[:,i+1] = run_data[:,i]\n",
    "\n",
    "# for checking what we got\n",
    "plt.cla()\n",
    "for i in range(nEs):\n",
    "    plt.plot(stab_data[:,0],stab_data[:,i+1], '-', color='blue')\n",
    "plt.ylim(0,10)\n",
    "plt.show()"
   ]
  },
  {
   "cell_type": "code",
   "execution_count": null,
   "metadata": {},
   "outputs": [],
   "source": [
    "cols = ['L']\n",
    "for i in range(nEs):\n",
    "    cols.append('E'+str(i+1))\n",
    "df = pd.DataFrame(stab_data, columns=cols)\n",
    "df.head(5)"
   ]
  },
  {
   "cell_type": "code",
   "execution_count": null,
   "metadata": {},
   "outputs": [],
   "source": [
    "df.to_csv('DVR_stab_plot_0.028_1.0_0.028.csv', index=False)"
   ]
  },
  {
   "cell_type": "code",
   "execution_count": null,
   "metadata": {},
   "outputs": [],
   "source": []
  }
 ],
 "metadata": {
  "kernelspec": {
   "display_name": "Python 3",
   "language": "python",
   "name": "python3"
  },
  "language_info": {
   "codemirror_mode": {
    "name": "ipython",
    "version": 3
   },
   "file_extension": ".py",
   "mimetype": "text/x-python",
   "name": "python",
   "nbconvert_exporter": "python",
   "pygments_lexer": "ipython3",
   "version": "3.6.9"
  }
 },
 "nbformat": 4,
 "nbformat_minor": 4
}
