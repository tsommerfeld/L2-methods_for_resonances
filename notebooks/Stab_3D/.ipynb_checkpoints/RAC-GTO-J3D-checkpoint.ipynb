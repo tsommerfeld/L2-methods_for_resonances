{
 "cells": [
  {
   "cell_type": "code",
   "execution_count": 9,
   "metadata": {},
   "outputs": [],
   "source": [
    "import numpy as np\n",
    "from scipy.linalg import eigh, eigvalsh\n",
    "import matplotlib\n",
    "import matplotlib.pyplot as plt\n",
    "matplotlib.use('Qt5Agg')\n",
    "%matplotlib qt5\n",
    "import pandas as pd"
   ]
  },
  {
   "cell_type": "code",
   "execution_count": 14,
   "metadata": {},
   "outputs": [],
   "source": [
    "#\n",
    "#  extend path by location of the dvr package\n",
    "#\n",
    "import sys\n",
    "sys.path.append('../../Python_libs')\n",
    "#sys.path.append('/home/thomas/Current_Work/Jolanta-by-dvr/Python_libs')\n",
    "import dvr\n",
    "from jolanta import Jolanta_3D_PNorm, Jolanta_3D_GTO, Jolanta_GTO_H\n",
    "#from jolanta import Eval_GTO_wf\n",
    "from jolanta import Jolanta_3D"
   ]
  },
  {
   "cell_type": "code",
   "execution_count": 5,
   "metadata": {},
   "outputs": [],
   "source": [
    "amu_to_au=1822.888486192\n",
    "au2cm=219474.63068\n",
    "au2eV=27.211386027\n",
    "Angs2Bohr=1.8897259886"
   ]
  },
  {
   "cell_type": "code",
   "execution_count": 6,
   "metadata": {},
   "outputs": [],
   "source": [
    "#\n",
    "# Jolanata parameters a, b, c:\n",
    "#\n",
    "#    bound state:  -12.26336 eV\n",
    "#    resonance: (3.279526396 - 0.2079713j)  eV\n",
    "jparam=(0.028, 1.0, 0.028)"
   ]
  },
  {
   "cell_type": "markdown",
   "metadata": {},
   "source": [
    "<br> \n",
    "Create a GTO basis set $[\\alpha_0, \\alpha_1, ...]$ and $[N_0, N_1, ...]$"
   ]
  },
  {
   "cell_type": "code",
   "execution_count": 7,
   "metadata": {},
   "outputs": [
    {
     "name": "stdout",
     "output_type": "stream",
     "text": [
      "       alpha                   1/sqrt(alpha)            Norm\n",
      "    4.0000000000e+00        5.0000000000e-01        1.6502866319e+01\n",
      "    1.3333333333e+00        8.6602540378e-01        4.1798222483e+00\n",
      "    4.4444444444e-01        1.5000000000e+00        1.0586593680e+00\n",
      "    1.4814814815e-01        2.5980762114e+00        2.6813572225e-01\n",
      "    4.9382716049e-02        4.5000000000e+00        6.7913030121e-02\n",
      "    1.6460905350e-02        7.7942286341e+00        1.7200914602e-02\n"
     ]
    }
   ],
   "source": [
    "nval=6\n",
    "a0=4.0\n",
    "s=3\n",
    "alpha_val=[a0]\n",
    "for i in range(nval-1):\n",
    "    alpha_val.append(alpha_val[-1]/s)\n",
    "N_val=[]\n",
    "print(\"       alpha                   1/sqrt(alpha)            Norm\")\n",
    "for a in alpha_val:\n",
    "    N_val.append(Jolanta_3D_PNorm(a))\n",
    "    print(\"%20.10e    %20.10e    %20.10e\" % (a, np.sqrt(1/a), N_val[-1]))"
   ]
  },
  {
   "cell_type": "markdown",
   "metadata": {},
   "source": [
    "<br>\n",
    "Build <b> S <\\b>, <b> T <\\b>, and <b> V <\\b> and diagonalize <b> H <\\b>"
   ]
  },
  {
   "cell_type": "code",
   "execution_count": 10,
   "metadata": {},
   "outputs": [
    {
     "name": "stdout",
     "output_type": "stream",
     "text": [
      "Es= [ -7.15762037   3.07548737   4.72178109  22.49624629 103.24705433]\n",
      "wf0:\n"
     ]
    },
    {
     "data": {
      "text/plain": [
       "array([-6.23331604e-04,  3.05106784e-03, -5.18632883e-03,  8.44954308e-01,\n",
       "        2.28073995e-01, -3.95989547e-02])"
      ]
     },
     "execution_count": 10,
     "metadata": {},
     "output_type": "execute_result"
    }
   ],
   "source": [
    "S, T, V = Jolanta_GTO_H(Jolanta_3D_GTO, alpha_val, N_val, jparam)\n",
    "Es, cs = eigh(T+V, b=S)\n",
    "print(\"Es=\", Es[:5]*au2eV)\n",
    "j=0\n",
    "print(\"wf%d:\" % (j))\n",
    "cs[:,j]"
   ]
  },
  {
   "cell_type": "markdown",
   "metadata": {},
   "source": [
    "Test for the bound even state <br>\n",
    "$E_{DVR}$ = -7.17051 eV"
   ]
  },
  {
   "cell_type": "code",
   "execution_count": 15,
   "metadata": {},
   "outputs": [
    {
     "ename": "NameError",
     "evalue": "name 'Eval_GTO_wf' is not defined",
     "output_type": "error",
     "traceback": [
      "\u001b[0;31m---------------------------------------------------------------------------\u001b[0m",
      "\u001b[0;31mNameError\u001b[0m                                 Traceback (most recent call last)",
      "\u001b[0;32m<ipython-input-15-a803263ec1bd>\u001b[0m in \u001b[0;36m<module>\u001b[0;34m\u001b[0m\n\u001b[1;32m      7\u001b[0m \u001b[0mplt\u001b[0m\u001b[0;34m.\u001b[0m\u001b[0mplot\u001b[0m\u001b[0;34m(\u001b[0m\u001b[0mxs\u001b[0m\u001b[0;34m,\u001b[0m\u001b[0mVs\u001b[0m\u001b[0;34m*\u001b[0m\u001b[0mau2eV\u001b[0m\u001b[0;34m,\u001b[0m \u001b[0;34m'-'\u001b[0m\u001b[0;34m,\u001b[0m \u001b[0mcolor\u001b[0m\u001b[0;34m=\u001b[0m\u001b[0;34m\"blue\"\u001b[0m\u001b[0;34m)\u001b[0m\u001b[0;34m\u001b[0m\u001b[0;34m\u001b[0m\u001b[0m\n\u001b[1;32m      8\u001b[0m \u001b[0;32mfor\u001b[0m \u001b[0mi\u001b[0m \u001b[0;32min\u001b[0m \u001b[0mrange\u001b[0m\u001b[0;34m(\u001b[0m\u001b[0;36m4\u001b[0m\u001b[0;34m)\u001b[0m\u001b[0;34m:\u001b[0m\u001b[0;34m\u001b[0m\u001b[0;34m\u001b[0m\u001b[0m\n\u001b[0;32m----> 9\u001b[0;31m     \u001b[0mys\u001b[0m\u001b[0;34m=\u001b[0m\u001b[0mEval_GTO_wf\u001b[0m\u001b[0;34m(\u001b[0m\u001b[0malpha_val\u001b[0m\u001b[0;34m,\u001b[0m \u001b[0mN_val\u001b[0m\u001b[0;34m,\u001b[0m \u001b[0mcs\u001b[0m\u001b[0;34m[\u001b[0m\u001b[0;34m:\u001b[0m\u001b[0;34m,\u001b[0m\u001b[0mi\u001b[0m\u001b[0;34m]\u001b[0m\u001b[0;34m,\u001b[0m \u001b[0mxs\u001b[0m\u001b[0;34m,\u001b[0m \u001b[0ml\u001b[0m\u001b[0;34m=\u001b[0m\u001b[0ml\u001b[0m\u001b[0;34m)\u001b[0m\u001b[0;34m\u001b[0m\u001b[0;34m\u001b[0m\u001b[0m\n\u001b[0m\u001b[1;32m     10\u001b[0m     \u001b[0mplt\u001b[0m\u001b[0;34m.\u001b[0m\u001b[0mplot\u001b[0m\u001b[0;34m(\u001b[0m\u001b[0mxs\u001b[0m\u001b[0;34m,\u001b[0m\u001b[0mscale\u001b[0m\u001b[0;34m*\u001b[0m\u001b[0mys\u001b[0m\u001b[0;34m**\u001b[0m\u001b[0;36m2\u001b[0m\u001b[0;34m+\u001b[0m\u001b[0mEs\u001b[0m\u001b[0;34m[\u001b[0m\u001b[0mi\u001b[0m\u001b[0;34m]\u001b[0m\u001b[0;34m*\u001b[0m\u001b[0mau2eV\u001b[0m\u001b[0;34m,\u001b[0m \u001b[0;34m'-'\u001b[0m\u001b[0;34m)\u001b[0m\u001b[0;34m\u001b[0m\u001b[0;34m\u001b[0m\u001b[0m\n\u001b[1;32m     11\u001b[0m \u001b[0;34m\u001b[0m\u001b[0m\n",
      "\u001b[0;31mNameError\u001b[0m: name 'Eval_GTO_wf' is not defined"
     ]
    }
   ],
   "source": [
    "xmax=15\n",
    "xs=np.linspace(-xmax,xmax,200)\n",
    "Vs=Jolanta_3D(xs, jparam)\n",
    "\n",
    "scale=10\n",
    "plt.cla()\n",
    "plt.plot(xs,Vs*au2eV, '-', color=\"blue\")\n",
    "for i in range(4):\n",
    "    ys=Eval_GTO_wf(alpha_val, N_val, cs[:,i], xs, l=l)\n",
    "    plt.plot(xs,scale*ys**2+Es[i]*au2eV, '-')\n",
    "\n",
    "plt.ylim(0,10)\n",
    "plt.show()"
   ]
  },
  {
   "cell_type": "markdown",
   "metadata": {},
   "source": [
    "<br>\n",
    "\n",
    "### Extend the basis by a diffuse set to be scaled"
   ]
  },
  {
   "cell_type": "code",
   "execution_count": 30,
   "metadata": {},
   "outputs": [
    {
     "name": "stdout",
     "output_type": "stream",
     "text": [
      "       alpha                   1/sqrt(alpha)            Norm\n",
      "    5.4869684499e-03        1.3500000000e+01        4.3566229135e-03\n",
      "    2.7434842250e-03        1.9091883092e+01        1.8317342953e-03\n",
      "    1.3717421125e-03        2.7000000000e+01        7.7014940131e-04\n"
     ]
    }
   ],
   "source": [
    "ndiff=3\n",
    "s_diff=2\n",
    "alpha_diff=[alpha_val[-1]/3]\n",
    "for i in range(ndiff-1):\n",
    "    alpha_diff.append(alpha_diff[-1]/s_diff)\n",
    "N_diff=[]\n",
    "print(\"       alpha                   1/sqrt(alpha)            Norm\")\n",
    "for a in alpha_diff:\n",
    "    N_diff.append(Jolanta_3D_PNorm(a))\n",
    "    print(\"%20.10e    %20.10e    %20.10e\" % (a, np.sqrt(1/a), N_diff[-1]))"
   ]
  },
  {
   "cell_type": "code",
   "execution_count": null,
   "metadata": {},
   "outputs": [],
   "source": [
    "alphas = alpha_val + alpha_diff\n",
    "Ns = N_val + N_diff\n",
    "S, T, V = Jolanta_GTO_H(Jolanta_3D_GTO, alphas, Ns, jparam)\n",
    "Es, cs = eigh(T+V, b=S)\n",
    "Es*au2eV\n",
    "print(Es[:6])\n",
    "\n",
    "Emax=9 #eV\n",
    "plt.cla()\n",
    "plt.plot(xs,Vs*au2eV, '-', color=\"blue\")\n",
    "for i in range(len(alphas)):\n",
    "    ys=Eval_GTO_wf(alphas, Ns, cs[:,i], xs, l=l)\n",
    "    plt.plot(xs,scale*ys**2+Es[i]*au2eV, '-')\n",
    "    if Es[i]*au2eV > Emax:\n",
    "        break\n",
    "        \n",
    "plt.ylim(0,Emax+1)\n",
    "plt.show()"
   ]
  },
  {
   "cell_type": "markdown",
   "metadata": {},
   "source": [
    "Put it all in one function\n",
    "* add diffuse functions and their norms\n",
    "* build the Hamiltonian and diagonalize it"
   ]
  },
  {
   "cell_type": "code",
   "execution_count": 35,
   "metadata": {},
   "outputs": [],
   "source": [
    "def stab_point(a_val, a_diff, alpha_Ken):\n",
    "    \"\"\"\n",
    "    builds a basis consisting of a valence and a diffuse set, \n",
    "    builds the Hamiltonian, and diagonalizes it\n",
    "    Input:\n",
    "        a_val: exponents of the valence set\n",
    "        a_diff: exponents of the unscaled diffuse set (alpha_Ken = 1) \n",
    "        alpha_Ken:  scaling factor for the diffuse exponents\n",
    "                    typically between 0.5 and 2\n",
    "    Output:\n",
    "       alphas, Ns: exponents and normalization for plotting\n",
    "       Es: energies\n",
    "       cs: GTO coefficients \n",
    "    \"\"\"\n",
    "    a_all = a_val.copy()\n",
    "    for a in a_diff:\n",
    "        a_all.append(a*alpha_Ken)\n",
    "    Ns = []\n",
    "    for a in a_all:\n",
    "        Ns.append(Jolanta_3D_PNorm(a))\n",
    "    S, T, V = Jolanta_GTO_H(Jolanta_3D_GTO, a_all, Ns, jparam)\n",
    "    Es, cs = eigh(T+V, b=S)\n",
    "    return a_all, Ns, Es, cs"
   ]
  },
  {
   "cell_type": "code",
   "execution_count": 36,
   "metadata": {},
   "outputs": [
    {
     "name": "stdout",
     "output_type": "stream",
     "text": [
      "[-7.16304206e+00  1.70710589e-01  7.17423215e-01  2.43154867e+00\n",
      "  3.51420625e+00  7.00676433e+00  2.38229485e+01  1.04156632e+02\n",
      "  3.78192141e+02]\n"
     ]
    }
   ],
   "source": [
    "a2, Ns, Es, cs = stab_point(alpha_val, alpha_diff, 2)\n",
    "Es*=au2eV\n",
    "print(Es)"
   ]
  },
  {
   "cell_type": "markdown",
   "metadata": {},
   "source": [
    "<br>\n",
    "\n",
    "### Stabilization calculation\n",
    "\n",
    "And the good question here is which exponents I should scale\n",
    "(1) Converge s-state\n",
    "(2) use that to define valence"
   ]
  },
  {
   "cell_type": "code",
   "execution_count": 41,
   "metadata": {},
   "outputs": [
    {
     "name": "stdout",
     "output_type": "stream",
     "text": [
      "points = 100\n",
      "1 2 3 4 5 6 7 8 9 10 \n",
      "11 12 13 14 15 16 17 18 19 20 \n",
      "21 22 23 24 25 26 27 28 29 30 \n",
      "31 32 33 34 35 36 37 38 39 40 \n",
      "41 42 43 44 45 46 47 48 49 50 \n",
      "51 52 53 54 55 56 57 58 59 60 \n",
      "61 62 63 64 65 66 67 68 69 70 \n",
      "71 72 73 74 75 76 77 78 79 80 \n",
      "81 82 83 84 85 86 87 88 89 90 \n",
      "91 92 93 94 95 96 97 98 99 100 \n"
     ]
    }
   ],
   "source": [
    "#\n",
    "#  Stabilization calculation: \n",
    "#\n",
    "#  Ken's scaling: scale diffuse basis with a\n",
    "#\n",
    "\n",
    "a_min=0.8       # small a: diffuse fns, large L\n",
    "a_max=2.8       # large a: tighter fns, small L\n",
    "nEs_keep=nval+ndiff\n",
    "\n",
    "n_a=int((a_max - a_min)/0.02) + 1  \n",
    "print(\"points =\", n_a)\n",
    "\n",
    "a_list=np.linspace(a_min, a_max, num=n_a, endpoint=True)\n",
    "\n",
    "run_data = np.zeros((n_a, nEs_keep))  # array used to collect all eta-run data\n",
    "\n",
    "for ia in range(n_a):\n",
    "    a_Ken = a_list[ia] \n",
    "    a2, Ns, Es, cs = stab_point(alpha_val, alpha_diff, a_Ken)\n",
    "    run_data[ia,:] = Es[0:nEs_keep]\n",
    "    print(ia+1, end=\" \")\n",
    "    if (ia+1)%10==0:\n",
    "        print()\n",
    "\n",
    "run_data *= au2eV"
   ]
  },
  {
   "cell_type": "markdown",
   "metadata": {},
   "source": [
    "<br> $E(\\alpha)$-plot"
   ]
  },
  {
   "cell_type": "code",
   "execution_count": 42,
   "metadata": {},
   "outputs": [],
   "source": [
    "plt.cla()\n",
    "for i in range(0, nEs_keep):\n",
    "    plt.plot(a_list,run_data[:,i], '-', color='blue')\n",
    "plt.ylim(0,8)\n",
    "plt.show()"
   ]
  },
  {
   "cell_type": "markdown",
   "metadata": {},
   "source": [
    "<br> $E(L)$-log-log-plot: only odd states "
   ]
  },
  {
   "cell_type": "code",
   "execution_count": 43,
   "metadata": {},
   "outputs": [],
   "source": [
    "#\n",
    "# copy the nEs lowest odd states from run_data to stab_data\n",
    "#\n",
    "nEs=6\n",
    "stab_data = np.zeros((n_a,nEs+1))\n",
    "i = 0\n",
    "stab_data[:,0] = a_list\n",
    "stab_data[:,1:] = run_data[:,:nEs]\n",
    "\n",
    "# for checking what we got\n",
    "plt.cla()\n",
    "for i in range(nEs):\n",
    "    plt.plot(stab_data[:,0],stab_data[:,i+1], '-', color='blue')\n",
    "plt.ylim(0,6)\n",
    "plt.show()"
   ]
  },
  {
   "cell_type": "code",
   "execution_count": 44,
   "metadata": {},
   "outputs": [
    {
     "data": {
      "text/html": [
       "<div>\n",
       "<style scoped>\n",
       "    .dataframe tbody tr th:only-of-type {\n",
       "        vertical-align: middle;\n",
       "    }\n",
       "\n",
       "    .dataframe tbody tr th {\n",
       "        vertical-align: top;\n",
       "    }\n",
       "\n",
       "    .dataframe thead th {\n",
       "        text-align: right;\n",
       "    }\n",
       "</style>\n",
       "<table border=\"1\" class=\"dataframe\">\n",
       "  <thead>\n",
       "    <tr style=\"text-align: right;\">\n",
       "      <th></th>\n",
       "      <th>L</th>\n",
       "      <th>E1</th>\n",
       "      <th>E2</th>\n",
       "      <th>E3</th>\n",
       "      <th>E4</th>\n",
       "      <th>E5</th>\n",
       "      <th>E6</th>\n",
       "    </tr>\n",
       "  </thead>\n",
       "  <tbody>\n",
       "    <tr>\n",
       "      <th>0</th>\n",
       "      <td>0.800000</td>\n",
       "      <td>-7.159377</td>\n",
       "      <td>0.063245</td>\n",
       "      <td>0.238712</td>\n",
       "      <td>1.000148</td>\n",
       "      <td>3.209590</td>\n",
       "      <td>5.496726</td>\n",
       "    </tr>\n",
       "    <tr>\n",
       "      <th>1</th>\n",
       "      <td>0.820202</td>\n",
       "      <td>-7.159440</td>\n",
       "      <td>0.064925</td>\n",
       "      <td>0.245738</td>\n",
       "      <td>1.028534</td>\n",
       "      <td>3.213441</td>\n",
       "      <td>5.523262</td>\n",
       "    </tr>\n",
       "    <tr>\n",
       "      <th>2</th>\n",
       "      <td>0.840404</td>\n",
       "      <td>-7.159504</td>\n",
       "      <td>0.066608</td>\n",
       "      <td>0.252810</td>\n",
       "      <td>1.056850</td>\n",
       "      <td>3.217285</td>\n",
       "      <td>5.549827</td>\n",
       "    </tr>\n",
       "    <tr>\n",
       "      <th>3</th>\n",
       "      <td>0.860606</td>\n",
       "      <td>-7.159567</td>\n",
       "      <td>0.068297</td>\n",
       "      <td>0.259929</td>\n",
       "      <td>1.085089</td>\n",
       "      <td>3.221124</td>\n",
       "      <td>5.576414</td>\n",
       "    </tr>\n",
       "    <tr>\n",
       "      <th>4</th>\n",
       "      <td>0.880808</td>\n",
       "      <td>-7.159631</td>\n",
       "      <td>0.069989</td>\n",
       "      <td>0.267094</td>\n",
       "      <td>1.113246</td>\n",
       "      <td>3.224960</td>\n",
       "      <td>5.603013</td>\n",
       "    </tr>\n",
       "  </tbody>\n",
       "</table>\n",
       "</div>"
      ],
      "text/plain": [
       "          L        E1        E2        E3        E4        E5        E6\n",
       "0  0.800000 -7.159377  0.063245  0.238712  1.000148  3.209590  5.496726\n",
       "1  0.820202 -7.159440  0.064925  0.245738  1.028534  3.213441  5.523262\n",
       "2  0.840404 -7.159504  0.066608  0.252810  1.056850  3.217285  5.549827\n",
       "3  0.860606 -7.159567  0.068297  0.259929  1.085089  3.221124  5.576414\n",
       "4  0.880808 -7.159631  0.069989  0.267094  1.113246  3.224960  5.603013"
      ]
     },
     "execution_count": 44,
     "metadata": {},
     "output_type": "execute_result"
    }
   ],
   "source": [
    "cols = ['L']\n",
    "for i in range(nEs):\n",
    "    cols.append('E'+str(i+1))\n",
    "df = pd.DataFrame(stab_data, columns=cols)\n",
    "df.head(5)"
   ]
  },
  {
   "cell_type": "code",
   "execution_count": 45,
   "metadata": {},
   "outputs": [],
   "source": [
    "df.to_csv('GTO_6_3_stab_plot_0.028_1.0_0.028.csv', index=False)"
   ]
  },
  {
   "cell_type": "code",
   "execution_count": null,
   "metadata": {},
   "outputs": [],
   "source": []
  }
 ],
 "metadata": {
  "kernelspec": {
   "display_name": "Python 3",
   "language": "python",
   "name": "python3"
  },
  "language_info": {
   "codemirror_mode": {
    "name": "ipython",
    "version": 3
   },
   "file_extension": ".py",
   "mimetype": "text/x-python",
   "name": "python",
   "nbconvert_exporter": "python",
   "pygments_lexer": "ipython3",
   "version": "3.6.9"
  }
 },
 "nbformat": 4,
 "nbformat_minor": 4
}
