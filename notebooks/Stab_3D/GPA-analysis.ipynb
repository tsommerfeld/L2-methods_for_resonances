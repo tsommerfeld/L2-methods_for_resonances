{
 "cells": [
  {
   "cell_type": "markdown",
   "metadata": {},
   "source": [
    "## Analysis of a Stabilization graph\n",
    "Based on J.S.-Y. Chao *et al.*, *J. Chem. Phys.* **93**, 1125 (1990)\n",
    "\n",
    "See also M. F. Falcetta *et al.*, *J. Phys. Chem. A* **118**, 7489 (2014) \n",
    "\n",
    "Analytic continuation of two roots using a generalized Pade approximant and input data from a crossing."
   ]
  },
  {
   "cell_type": "code",
   "execution_count": 1,
   "metadata": {},
   "outputs": [],
   "source": [
    "import numpy as np\n",
    "import pandas as pd\n",
    "import matplotlib\n",
    "import matplotlib.pyplot as plt\n",
    "#matplotlib.use('Qt5Agg')\n",
    "#%matplotlib qt5"
   ]
  },
  {
   "cell_type": "code",
   "execution_count": 2,
   "metadata": {},
   "outputs": [],
   "source": [
    "#\n",
    "# if pade.py is not in the current directory, set this path:\n",
    "#\n",
    "import sys\n",
    "sys.path.append('../../Python_libs')\n",
    "import gen_pade as gpa\n",
    "import stabtools as st"
   ]
  },
  {
   "cell_type": "code",
   "execution_count": 3,
   "metadata": {},
   "outputs": [
    {
     "data": {
      "text/html": [
       "<div>\n",
       "<style scoped>\n",
       "    .dataframe tbody tr th:only-of-type {\n",
       "        vertical-align: middle;\n",
       "    }\n",
       "\n",
       "    .dataframe tbody tr th {\n",
       "        vertical-align: top;\n",
       "    }\n",
       "\n",
       "    .dataframe thead th {\n",
       "        text-align: right;\n",
       "    }\n",
       "</style>\n",
       "<table border=\"1\" class=\"dataframe\">\n",
       "  <thead>\n",
       "    <tr style=\"text-align: right;\">\n",
       "      <th></th>\n",
       "      <th>L</th>\n",
       "      <th>z</th>\n",
       "      <th>E1</th>\n",
       "      <th>E2</th>\n",
       "      <th>E3</th>\n",
       "      <th>E4</th>\n",
       "      <th>E5</th>\n",
       "      <th>E6</th>\n",
       "    </tr>\n",
       "  </thead>\n",
       "  <tbody>\n",
       "    <tr>\n",
       "      <th>116</th>\n",
       "      <td>0.641088</td>\n",
       "      <td>2.433128</td>\n",
       "      <td>-7.170508</td>\n",
       "      <td>1.578341</td>\n",
       "      <td>3.158979</td>\n",
       "      <td>4.734751</td>\n",
       "      <td>7.902352</td>\n",
       "      <td>11.477557</td>\n",
       "    </tr>\n",
       "    <tr>\n",
       "      <th>117</th>\n",
       "      <td>0.638897</td>\n",
       "      <td>2.449846</td>\n",
       "      <td>-7.170508</td>\n",
       "      <td>1.596348</td>\n",
       "      <td>3.163555</td>\n",
       "      <td>4.773552</td>\n",
       "      <td>7.957817</td>\n",
       "      <td>11.557290</td>\n",
       "    </tr>\n",
       "    <tr>\n",
       "      <th>118</th>\n",
       "      <td>0.636728</td>\n",
       "      <td>2.466564</td>\n",
       "      <td>-7.170508</td>\n",
       "      <td>1.614418</td>\n",
       "      <td>3.168079</td>\n",
       "      <td>4.812406</td>\n",
       "      <td>8.013206</td>\n",
       "      <td>11.637082</td>\n",
       "    </tr>\n",
       "    <tr>\n",
       "      <th>119</th>\n",
       "      <td>0.634581</td>\n",
       "      <td>2.483282</td>\n",
       "      <td>-7.170508</td>\n",
       "      <td>1.632548</td>\n",
       "      <td>3.172556</td>\n",
       "      <td>4.851303</td>\n",
       "      <td>8.068521</td>\n",
       "      <td>11.716934</td>\n",
       "    </tr>\n",
       "    <tr>\n",
       "      <th>120</th>\n",
       "      <td>0.632456</td>\n",
       "      <td>2.500000</td>\n",
       "      <td>-7.170508</td>\n",
       "      <td>1.650735</td>\n",
       "      <td>3.176994</td>\n",
       "      <td>4.890238</td>\n",
       "      <td>8.123765</td>\n",
       "      <td>11.796845</td>\n",
       "    </tr>\n",
       "  </tbody>\n",
       "</table>\n",
       "</div>"
      ],
      "text/plain": [
       "            L         z        E1        E2        E3        E4        E5  \\\n",
       "116  0.641088  2.433128 -7.170508  1.578341  3.158979  4.734751  7.902352   \n",
       "117  0.638897  2.449846 -7.170508  1.596348  3.163555  4.773552  7.957817   \n",
       "118  0.636728  2.466564 -7.170508  1.614418  3.168079  4.812406  8.013206   \n",
       "119  0.634581  2.483282 -7.170508  1.632548  3.172556  4.851303  8.068521   \n",
       "120  0.632456  2.500000 -7.170508  1.650735  3.176994  4.890238  8.123765   \n",
       "\n",
       "            E6  \n",
       "116  11.477557  \n",
       "117  11.557290  \n",
       "118  11.637082  \n",
       "119  11.716934  \n",
       "120  11.796845  "
      ]
     },
     "execution_count": 3,
     "metadata": {},
     "output_type": "execute_result"
    }
   ],
   "source": [
    "Angs2Bohr=1.8897259886\n",
    "au2eV=27.211386027\n",
    "au2cm=219474.63068\n",
    "#\n",
    "df=pd.read_csv(\"DVR_stab_plot.csv\", delim_whitespace=False)\n",
    "#df=pd.read_csv(\"GTO_unc_stab_plot.csv\", delim_whitespace=False)\n",
    "#df=pd.read_csv(\"GTO_DZ_stab_plot.csv\", delim_whitespace=False)\n",
    "#df=pd.read_csv(\"GTO_TZ_stab_plot.csv\", delim_whitespace=False)\n",
    "#\n",
    "#df=pd.read_csv(\"/home/thomas/Current_Work/Caroline/Glyoxal/Stab/E_geo0.csv\", delim_whitespace=True)\n",
    "#df=pd.read_csv(\"/home/thomas/Current_Work/Caroline/Glyoxal/Stab/E_geo-1.csv\", delim_whitespace=True)\n",
    "#df=pd.read_csv(\"/home/thomas/Current_Work/Caroline/Glyoxal/Stab/Z_geo0_cleaned.csv\")\n",
    "#df=pd.read_csv(\"/home/thomas/Current_Work/Caroline/Glyoxal/Stab/Z_geo-1_cleaned.csv\")\n",
    "\n",
    "df.tail()"
   ]
  },
  {
   "cell_type": "code",
   "execution_count": 4,
   "metadata": {},
   "outputs": [
    {
     "data": {
      "image/png": "[encoded data removed]",
      "text/plain": [
       "<Figure size 432x288 with 1 Axes>"
      ]
     },
     "metadata": {
      "needs_background": "light"
     },
     "output_type": "display_data"
    }
   ],
   "source": [
    "alpha=df.columns[1]\n",
    "E_labels=df.columns[2:]\n",
    "zs=df[alpha].values\n",
    "zmin, zmax = zs[0], zs[-1]\n",
    "if zmax < zmin:\n",
    "    zmin, zmax = zmax, zmin\n",
    "zs=(zs-zmin)/(zmax-zmin)\n",
    "if True:\n",
    "    plt.cla()\n",
    "    for E in E_labels:\n",
    "        plt.plot(zs, df[E].values, 'o-')\n",
    "    plt.ylim(0,6)\n",
    "    plt.show()"
   ]
  },
  {
   "cell_type": "markdown",
   "metadata": {},
   "source": [
    "Set the following parameters after inspecting the stabilization plot:\n",
    "* lroot: the lower root; the 2nd root is lroot+1\n",
    "* curvature_drop-off: the crossing is defined by the minimum and maximum curvature positions; the  selection range is determined by the drop off of the abs(curvature) "
   ]
  },
  {
   "cell_type": "code",
   "execution_count": 5,
   "metadata": {},
   "outputs": [],
   "source": [
    "debug=False\n",
    "if debug:\n",
    "    lroot=2\n",
    "    sth=1e-9\n",
    "    curvature_drop_off=0.5\n",
    "    E_lw=df[E_labels[lroot]].values\n",
    "    E_up=df[E_labels[lroot+1]].values\n",
    "    d1_lw, d2_lw = st.der_and_curvature(zs, E_lw, smooth=sth)\n",
    "    d1_up, d2_up = st.der_and_curvature(zs, E_up, smooth=sth)\n",
    "    j1_mn = np.argmin(d2_lw)\n",
    "    j2_mx = np.argmax(d2_up)\n",
    "    print(j1_mn, j2_mx)\n",
    "    plt.cla()\n",
    "    plt.plot(zs, d2_lw, zs, d2_up)\n",
    "    plt.ylabel('curvature '+str(lroot)+' and '+str(lroot+1))\n",
    "    plt.show()    "
   ]
  },
  {
   "cell_type": "markdown",
   "metadata": {},
   "source": [
    "The auto-select may not work for *ab initio* data and broad crossings. \n",
    "* Check with the debug box above.\n",
    "* Play with the smooth parameter.\n",
    "* If all fails, use a range selected by-eye. "
   ]
  },
  {
   "cell_type": "code",
   "execution_count": 6,
   "metadata": {},
   "outputs": [
    {
     "name": "stdout",
     "output_type": "stream",
     "text": [
      "Center of the crossing at z=0.308333\n",
      "N = 15 points on each curve\n"
     ]
    },
    {
     "data": {
      "image/png": "[encoded data removed]",
      "text/plain": [
       "<Figure size 432x288 with 1 Axes>"
      ]
     },
     "metadata": {
      "needs_background": "light"
     },
     "output_type": "display_data"
    }
   ],
   "source": [
    "lroot=3\n",
    "curvature_drop_off=0.5\n",
    "E_lw=df[E_labels[lroot]].values\n",
    "E_up=df[E_labels[lroot+1]].values\n",
    "#success, zc, alps, E1s, E2s = st.crossing(zs, E_lw, E_up, select=-1)\n",
    "success, zc, alps, E1s, E2s = st.crossing(zs, E_lw, E_up, select=curvature_drop_off)\n",
    "npts = len(alps)\n",
    "if not success or npts < 2:\n",
    "    print('No crossing found. Try debug box above')\n",
    "else:\n",
    "    print('Center of the crossing at z=%f' % (zc))\n",
    "    print('N = %d points on each curve' % (npts))\n",
    "    plt.cla()\n",
    "    plt.plot(zs, E_lw, zs, E_up)\n",
    "    plt.plot(alps, E1s, 'o', alps, E2s, 'o')\n",
    "    plt.ylabel('roots '+str(lroot)+' and '+str(lroot+1))\n",
    "    plt.show()"
   ]
  },
  {
   "cell_type": "code",
   "execution_count": 7,
   "metadata": {},
   "outputs": [],
   "source": [
    "by_hand=False\n",
    "if by_hand:\n",
    "    z_min=0.105\n",
    "    z_max=0.35\n",
    "    jmin=np.argmin(np.abs(zs-z_min))\n",
    "    jmax=np.argmin(np.abs(zs-z_max))+1\n",
    "    if jmax > len(zs):\n",
    "        jmax = -1\n",
    "    alps=zs[jmin:jmax]\n",
    "    E1s=E_lw[jmin:jmax]\n",
    "    E2s=E_up[jmin:jmax]\n",
    "    print(f'{len(alps)} points on each curve')\n",
    "    plt.cla()\n",
    "    plt.plot(zs, E_lw, zs, E_up)\n",
    "    plt.plot(alps, E1s, 'o', alps, E2s, 'o')\n",
    "    plt.ylabel('roots '+str(lroot)+' and '+str(lroot+1))\n",
    "    plt.show()    "
   ]
  },
  {
   "cell_type": "markdown",
   "metadata": {},
   "source": [
    "Make one long list of all energies, which requires the L or alpha list twice,\n",
    "to prepare the fit to a generalized Pade approximant."
   ]
  },
  {
   "cell_type": "code",
   "execution_count": 8,
   "metadata": {},
   "outputs": [],
   "source": [
    "LL = list(alps) + list(alps)\n",
    "Es = list(E1s) + list(E2s)"
   ]
  },
  {
   "cell_type": "markdown",
   "metadata": {},
   "source": [
    "## Fit to generalized [$n$,$n$,$n$]-Pade approximant."
   ]
  },
  {
   "cell_type": "code",
   "execution_count": 9,
   "metadata": {},
   "outputs": [
    {
     "name": "stdout",
     "output_type": "stream",
     "text": [
      "P*E^2 + Q*E + R = 0\n",
      "P :\n",
      "         2\n",
      "1.679 x - 0.4627 x + 0.1167\n",
      "\n",
      "Q :\n",
      "          3         2\n",
      "-14.07 x - 2.162 x + 0.6701 x - 0.4335\n",
      "\n",
      "R :\n",
      "         4         3         2\n",
      "12.01 x + 31.53 x - 4.334 x + 1.277 x + 0.3103\n"
     ]
    },
    {
     "data": {
      "text/plain": [
       "[<matplotlib.lines.Line2D at 0x7fe73ae94730>]"
      ]
     },
     "execution_count": 9,
     "metadata": {},
     "output_type": "execute_result"
    },
    {
     "data": {
      "image/png": "[encoded data removed]",
      "text/plain": [
       "<Figure size 432x288 with 1 Axes>"
      ]
     },
     "metadata": {
      "needs_background": "light"
     },
     "output_type": "display_data"
    }
   ],
   "source": [
    "nP, nQ, nR = 2, 3, 4\n",
    "A, B, C = gpa.genpade2_via_lstsq(nP, nQ, nR, LL, Es, rcond=1e-14)\n",
    "print('P*E^2 + Q*E + R = 0')\n",
    "print('P :\\n ', A)\n",
    "print('\\nQ :\\n ', B)\n",
    "print('\\nR :\\n ', C)\n",
    "\n",
    "#\n",
    "# compare the input energies and the fitted curves\n",
    "#\n",
    "npts=100\n",
    "Lplots=np.linspace(LL[0],LL[-1],npts)\n",
    "E1plot=np.zeros(npts)\n",
    "E2plot=np.zeros(npts)\n",
    "for i in range(npts):\n",
    "    E1plot[i]=gpa.E_lower(Lplots[i], A, B, C)\n",
    "    E2plot[i]=gpa.E_upper(Lplots[i], A, B, C)\n",
    "plt.cla()\n",
    "plt.plot(Lplots,E1plot,'-.')\n",
    "plt.plot(Lplots,E2plot,'-.')\n",
    "plt.plot(alps,E1s,'o')\n",
    "plt.plot(alps,E2s,'o')"
   ]
  },
  {
   "cell_type": "markdown",
   "metadata": {
    "tags": []
   },
   "source": [
    "### Evaluate the Pade approximant in the complex plane. \n",
    "* That gives two roots. \n",
    "* Plot log(|dE/dL|) for the lower (or for both) "
   ]
  },
  {
   "cell_type": "code",
   "execution_count": 41,
   "metadata": {},
   "outputs": [],
   "source": [
    "npts=48\n",
    "s=1\n",
    "center=(alps[-1]+alps[0])/2\n",
    "half_d=(alps[-1]-alps[0])/2\n",
    "re1=center - (1+s)*half_d\n",
    "re2=center + (1+s)*half_d\n",
    "im1=-4*half_d\n",
    "im2=0\n",
    "Res=np.linspace(re1,re2,npts) \n",
    "Ims=np.linspace(im1,im2,npts)\n",
    "der1 = np.zeros([npts,npts])\n",
    "der2 = np.zeros([npts,npts])\n",
    "for r in range(npts):\n",
    "    for i in range(npts):\n",
    "        z = Res[r] + 1j*Ims[i]\n",
    "        rs, ds = gpa.E_and_Ep(z, A, B, C)\n",
    "        der1[i,r] = np.log10(min(ds))\n",
    "        #der2[i,r] = np.log10(max(ds))\n",
    "\n",
    "plt.cla()        \n",
    "#plt.figure(1)\n",
    "plt.contourf(Res, Ims, der1, 10, cmap=plt.cm.jet_r)\n",
    "plt.colorbar()\n",
    "#plt.figure(2)\n",
    "#plt.contourf(Res, Ims, der2, 10, cmap=plt.cm.jet_r)\n",
    "#plt.colorbar()\n",
    "plt.show()"
   ]
  },
  {
   "cell_type": "markdown",
   "metadata": {},
   "source": [
    "### Establish a list of stationary points.\n",
    "\n",
    "* Start Newton on an N-by-N search grid.\n",
    "* Do at most 10 steps discarding unconverged runs.\n",
    "* Drop any duplicates."
   ]
  },
  {
   "cell_type": "code",
   "execution_count": 46,
   "metadata": {},
   "outputs": [
    {
     "data": {
      "text/html": [
       "<div>\n",
       "<style scoped>\n",
       "    .dataframe tbody tr th:only-of-type {\n",
       "        vertical-align: middle;\n",
       "    }\n",
       "\n",
       "    .dataframe tbody tr th {\n",
       "        vertical-align: top;\n",
       "    }\n",
       "\n",
       "    .dataframe thead th {\n",
       "        text-align: right;\n",
       "    }\n",
       "</style>\n",
       "<table border=\"1\" class=\"dataframe\">\n",
       "  <thead>\n",
       "    <tr style=\"text-align: right;\">\n",
       "      <th></th>\n",
       "      <th>Er</th>\n",
       "      <th>Ei</th>\n",
       "      <th>Lr</th>\n",
       "      <th>Li</th>\n",
       "      <th>Er6dig</th>\n",
       "      <th>Ei6dig</th>\n",
       "    </tr>\n",
       "  </thead>\n",
       "  <tbody>\n",
       "    <tr>\n",
       "      <th>2</th>\n",
       "      <td>3.199801</td>\n",
       "      <td>-0.161587</td>\n",
       "      <td>0.237439</td>\n",
       "      <td>-0.119341</td>\n",
       "      <td>3.199801</td>\n",
       "      <td>-0.161587</td>\n",
       "    </tr>\n",
       "    <tr>\n",
       "      <th>0</th>\n",
       "      <td>3.148585</td>\n",
       "      <td>-0.161590</td>\n",
       "      <td>0.345780</td>\n",
       "      <td>-0.168395</td>\n",
       "      <td>3.148585</td>\n",
       "      <td>-0.161590</td>\n",
       "    </tr>\n",
       "  </tbody>\n",
       "</table>\n",
       "</div>"
      ],
      "text/plain": [
       "         Er        Ei        Lr        Li    Er6dig    Ei6dig\n",
       "2  3.199801 -0.161587  0.237439 -0.119341  3.199801 -0.161587\n",
       "0  3.148585 -0.161590  0.345780 -0.168395  3.148585 -0.161590"
      ]
     },
     "execution_count": 46,
     "metadata": {},
     "output_type": "execute_result"
    }
   ],
   "source": [
    "Econv = []\n",
    "Lconv = []\n",
    "npts = 10\n",
    "Res=np.linspace(re1,re2,npts) \n",
    "Ims=np.linspace(im1,im2,npts)\n",
    "for r in range(npts):\n",
    "    for i in range(npts):\n",
    "        z_guess = Res[r] + 1j*Ims[i]\n",
    "        conv, Lstar, Estar, der = gpa.GPA_NewtonRaphson(z_guess, (A, B, C), max_step=10, verbose=False)\n",
    "        if conv:\n",
    "            Econv.append(Estar)\n",
    "            Lconv.append(Lstar)\n",
    "\n",
    "Econv = np.array(Econv)\n",
    "Lconv = np.array(Lconv)\n",
    "df=pd.DataFrame({\"Er\": Econv.real, \"Ei\": Econv.imag, \"Lr\": Lconv.real, \"Li\": Lconv.imag})\n",
    "df['Er6dig']=np.round(df['Er'],6)\n",
    "df['Ei6dig']=np.round(df['Ei'],6)\n",
    "df.drop_duplicates(subset=['Er6dig', 'Ei6dig'], inplace=True)\n",
    "pattern=((df['Li']<0) & (df['Lr']>0))\n",
    "df[pattern].sort_values(by=['Lr'])"
   ]
  },
  {
   "cell_type": "code",
   "execution_count": 47,
   "metadata": {},
   "outputs": [
    {
     "data": {
      "text/html": [
       "<div>\n",
       "<style scoped>\n",
       "    .dataframe tbody tr th:only-of-type {\n",
       "        vertical-align: middle;\n",
       "    }\n",
       "\n",
       "    .dataframe tbody tr th {\n",
       "        vertical-align: top;\n",
       "    }\n",
       "\n",
       "    .dataframe thead th {\n",
       "        text-align: right;\n",
       "    }\n",
       "</style>\n",
       "<table border=\"1\" class=\"dataframe\">\n",
       "  <thead>\n",
       "    <tr style=\"text-align: right;\">\n",
       "      <th></th>\n",
       "      <th>Er</th>\n",
       "      <th>Ei</th>\n",
       "      <th>Lr</th>\n",
       "      <th>Li</th>\n",
       "      <th>Er6dig</th>\n",
       "      <th>Ei6dig</th>\n",
       "    </tr>\n",
       "  </thead>\n",
       "  <tbody>\n",
       "    <tr>\n",
       "      <th>count</th>\n",
       "      <td>2.000000</td>\n",
       "      <td>2.000000</td>\n",
       "      <td>2.000000</td>\n",
       "      <td>2.000000</td>\n",
       "      <td>2.000000</td>\n",
       "      <td>2.000000</td>\n",
       "    </tr>\n",
       "    <tr>\n",
       "      <th>mean</th>\n",
       "      <td>3.174193</td>\n",
       "      <td>-0.161588</td>\n",
       "      <td>0.291610</td>\n",
       "      <td>-0.143868</td>\n",
       "      <td>3.174193</td>\n",
       "      <td>-0.161589</td>\n",
       "    </tr>\n",
       "    <tr>\n",
       "      <th>std</th>\n",
       "      <td>0.036215</td>\n",
       "      <td>0.000002</td>\n",
       "      <td>0.076609</td>\n",
       "      <td>0.034686</td>\n",
       "      <td>0.036215</td>\n",
       "      <td>0.000002</td>\n",
       "    </tr>\n",
       "    <tr>\n",
       "      <th>min</th>\n",
       "      <td>3.148585</td>\n",
       "      <td>-0.161590</td>\n",
       "      <td>0.237439</td>\n",
       "      <td>-0.168395</td>\n",
       "      <td>3.148585</td>\n",
       "      <td>-0.161590</td>\n",
       "    </tr>\n",
       "    <tr>\n",
       "      <th>25%</th>\n",
       "      <td>3.161389</td>\n",
       "      <td>-0.161589</td>\n",
       "      <td>0.264524</td>\n",
       "      <td>-0.156131</td>\n",
       "      <td>3.161389</td>\n",
       "      <td>-0.161589</td>\n",
       "    </tr>\n",
       "    <tr>\n",
       "      <th>50%</th>\n",
       "      <td>3.174193</td>\n",
       "      <td>-0.161588</td>\n",
       "      <td>0.291610</td>\n",
       "      <td>-0.143868</td>\n",
       "      <td>3.174193</td>\n",
       "      <td>-0.161589</td>\n",
       "    </tr>\n",
       "    <tr>\n",
       "      <th>75%</th>\n",
       "      <td>3.186997</td>\n",
       "      <td>-0.161588</td>\n",
       "      <td>0.318695</td>\n",
       "      <td>-0.131604</td>\n",
       "      <td>3.186997</td>\n",
       "      <td>-0.161588</td>\n",
       "    </tr>\n",
       "    <tr>\n",
       "      <th>max</th>\n",
       "      <td>3.199801</td>\n",
       "      <td>-0.161587</td>\n",
       "      <td>0.345780</td>\n",
       "      <td>-0.119341</td>\n",
       "      <td>3.199801</td>\n",
       "      <td>-0.161587</td>\n",
       "    </tr>\n",
       "  </tbody>\n",
       "</table>\n",
       "</div>"
      ],
      "text/plain": [
       "             Er        Ei        Lr        Li    Er6dig    Ei6dig\n",
       "count  2.000000  2.000000  2.000000  2.000000  2.000000  2.000000\n",
       "mean   3.174193 -0.161588  0.291610 -0.143868  3.174193 -0.161589\n",
       "std    0.036215  0.000002  0.076609  0.034686  0.036215  0.000002\n",
       "min    3.148585 -0.161590  0.237439 -0.168395  3.148585 -0.161590\n",
       "25%    3.161389 -0.161589  0.264524 -0.156131  3.161389 -0.161589\n",
       "50%    3.174193 -0.161588  0.291610 -0.143868  3.174193 -0.161589\n",
       "75%    3.186997 -0.161588  0.318695 -0.131604  3.186997 -0.161588\n",
       "max    3.199801 -0.161587  0.345780 -0.119341  3.199801 -0.161587"
      ]
     },
     "execution_count": 47,
     "metadata": {},
     "output_type": "execute_result"
    }
   ],
   "source": [
    "df[pattern].describe()"
   ]
  },
  {
   "cell_type": "markdown",
   "metadata": {},
   "source": [
    "Identify and optimize roots by hand"
   ]
  },
  {
   "cell_type": "code",
   "execution_count": 23,
   "metadata": {},
   "outputs": [
    {
     "name": "stdout",
     "output_type": "stream",
     "text": [
      "(3.404677, -1.022421)  d=8.100316\n",
      "(3.147459, -0.163520)  d=0.242815\n",
      "Newton step for root 1: (-0.005239, 0.015873)\n"
     ]
    }
   ],
   "source": [
    "#\n",
    "#   read-off minima from figure 1\n",
    "#\n",
    "L_guess=0.34-1j*0.15\n",
    "\n",
    "roots, ders = gpa.E_and_Ep(L_guess, A, B, C)\n",
    "for i, r in enumerate(roots):\n",
    "    print('(%f, %f)  d=%f' % (r.real, r.imag, ders[i]))\n",
    "i_root=np.argmin(ders)\n",
    "Ecurr=roots[i_root]\n",
    "step = gpa.EpoEpp(Ecurr, L_guess, A, B, C)\n",
    "print('Newton step for root %d: (%f, %f)' % (i_root, step.real, step.imag))"
   ]
  },
  {
   "cell_type": "code",
   "execution_count": 24,
   "metadata": {},
   "outputs": [
    {
     "name": "stdout",
     "output_type": "stream",
     "text": [
      "Newton Raphson steps:\n",
      " step    z_curr                   E_curr\n",
      "-----------------------------------------------------\n",
      "  0   (0.3452387, -0.1658729)   (3.1485616, -0.1616183)\n",
      "  1   (0.3457857, -0.1683543)   (3.1485855, -0.1615899)\n",
      "  2   (0.3457805, -0.1683946)   (3.1485855, -0.1615899)\n",
      "  3   (0.3457805, -0.1683946)   (3.1485855, -0.1615899)\n",
      "  L_star = (0.345780, -0.168395)\n",
      "  derivative = 7.503e-14\n",
      "  Er = 3.148585,  Ei = -0.161590\n"
     ]
    }
   ],
   "source": [
    "conv, Lstar, Estar, der = gpa.GPA_NewtonRaphson(L_guess, (A, B, C))\n",
    "if conv:\n",
    "    print(\"  L_star = (%.6f, %.6f)\" % (Lstar.real, Lstar.imag))\n",
    "    print('  derivative = %.3e' % (der))\n",
    "    print(\"  Er = %.6f,  Ei = %.6f\" % (Estar.real, Estar.imag))\n",
    "else:\n",
    "    print(\"No convergence in 20 steps.\")"
   ]
  },
  {
   "cell_type": "code",
   "execution_count": null,
   "metadata": {},
   "outputs": [],
   "source": []
  }
 ],
 "metadata": {
  "kernelspec": {
   "display_name": "Python 3",
   "language": "python",
   "name": "python3"
  },
  "language_info": {
   "codemirror_mode": {
    "name": "ipython",
    "version": 3
   },
   "file_extension": ".py",
   "mimetype": "text/x-python",
   "name": "python",
   "nbconvert_exporter": "python",
   "pygments_lexer": "ipython3",
   "version": "3.8.8"
  }
 },
 "nbformat": 4,
 "nbformat_minor": 4
}
