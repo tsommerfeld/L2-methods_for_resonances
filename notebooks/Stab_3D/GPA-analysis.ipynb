{
 "cells": [
  {
   "cell_type": "markdown",
   "metadata": {},
   "source": [
    "## Analysis of a Stabilization graph\n",
    "Based on J.S.-Y. Chao *et al.*, *J. Chem. Phys.* **93**, 1125 (1990)\n",
    "\n",
    "See also M. F. Falcetta *et al.*, *J. Phys. Chem. A* **118**, 7489 (2014) \n",
    "\n",
    "Analytic continuation of two roots using a generalized Pade approximant and input data from a crossing."
   ]
  },
  {
   "cell_type": "code",
   "execution_count": 1,
   "metadata": {},
   "outputs": [],
   "source": [
    "import numpy as np\n",
    "import pandas as pd\n",
    "import matplotlib\n",
    "import matplotlib.pyplot as plt\n",
    "#matplotlib.use('Qt5Agg')\n",
    "#%matplotlib qt5"
   ]
  },
  {
   "cell_type": "code",
   "execution_count": 2,
   "metadata": {},
   "outputs": [],
   "source": [
    "#\n",
    "# if pade.py is not in the current directory, set this path:\n",
    "#\n",
    "import sys\n",
    "sys.path.append('../../Python_libs')\n",
    "import gen_pade as gpa\n",
    "import stabtools as st"
   ]
  },
  {
   "cell_type": "code",
   "execution_count": 3,
   "metadata": {},
   "outputs": [
    {
     "data": {
      "text/html": [
       "<div>\n",
       "<style scoped>\n",
       "    .dataframe tbody tr th:only-of-type {\n",
       "        vertical-align: middle;\n",
       "    }\n",
       "\n",
       "    .dataframe tbody tr th {\n",
       "        vertical-align: top;\n",
       "    }\n",
       "\n",
       "    .dataframe thead th {\n",
       "        text-align: right;\n",
       "    }\n",
       "</style>\n",
       "<table border=\"1\" class=\"dataframe\">\n",
       "  <thead>\n",
       "    <tr style=\"text-align: right;\">\n",
       "      <th></th>\n",
       "      <th>L</th>\n",
       "      <th>z</th>\n",
       "      <th>E1</th>\n",
       "      <th>E2</th>\n",
       "      <th>E3</th>\n",
       "      <th>E4</th>\n",
       "      <th>E5</th>\n",
       "      <th>E6</th>\n",
       "      <th>E7</th>\n",
       "    </tr>\n",
       "  </thead>\n",
       "  <tbody>\n",
       "    <tr>\n",
       "      <th>155</th>\n",
       "      <td>0.733285</td>\n",
       "      <td>1.859748</td>\n",
       "      <td>-7.170453</td>\n",
       "      <td>0.937669</td>\n",
       "      <td>2.937078</td>\n",
       "      <td>3.876867</td>\n",
       "      <td>7.437323</td>\n",
       "      <td>12.848171</td>\n",
       "      <td>19.658801</td>\n",
       "    </tr>\n",
       "    <tr>\n",
       "      <th>156</th>\n",
       "      <td>0.731309</td>\n",
       "      <td>1.869811</td>\n",
       "      <td>-7.170453</td>\n",
       "      <td>0.945644</td>\n",
       "      <td>2.944293</td>\n",
       "      <td>3.896012</td>\n",
       "      <td>7.472387</td>\n",
       "      <td>12.899824</td>\n",
       "      <td>19.735561</td>\n",
       "    </tr>\n",
       "    <tr>\n",
       "      <th>157</th>\n",
       "      <td>0.729349</td>\n",
       "      <td>1.879874</td>\n",
       "      <td>-7.170453</td>\n",
       "      <td>0.953651</td>\n",
       "      <td>2.951278</td>\n",
       "      <td>3.915364</td>\n",
       "      <td>7.507352</td>\n",
       "      <td>12.951403</td>\n",
       "      <td>19.812274</td>\n",
       "    </tr>\n",
       "    <tr>\n",
       "      <th>158</th>\n",
       "      <td>0.727405</td>\n",
       "      <td>1.889937</td>\n",
       "      <td>-7.170453</td>\n",
       "      <td>0.961689</td>\n",
       "      <td>2.958041</td>\n",
       "      <td>3.934914</td>\n",
       "      <td>7.542221</td>\n",
       "      <td>13.002907</td>\n",
       "      <td>19.888941</td>\n",
       "    </tr>\n",
       "    <tr>\n",
       "      <th>159</th>\n",
       "      <td>0.725476</td>\n",
       "      <td>1.900000</td>\n",
       "      <td>-7.170453</td>\n",
       "      <td>0.969759</td>\n",
       "      <td>2.964592</td>\n",
       "      <td>3.954651</td>\n",
       "      <td>7.576995</td>\n",
       "      <td>13.054338</td>\n",
       "      <td>19.965564</td>\n",
       "    </tr>\n",
       "  </tbody>\n",
       "</table>\n",
       "</div>"
      ],
      "text/plain": [
       "            L         z        E1        E2        E3        E4        E5  \\\n",
       "155  0.733285  1.859748 -7.170453  0.937669  2.937078  3.876867  7.437323   \n",
       "156  0.731309  1.869811 -7.170453  0.945644  2.944293  3.896012  7.472387   \n",
       "157  0.729349  1.879874 -7.170453  0.953651  2.951278  3.915364  7.507352   \n",
       "158  0.727405  1.889937 -7.170453  0.961689  2.958041  3.934914  7.542221   \n",
       "159  0.725476  1.900000 -7.170453  0.969759  2.964592  3.954651  7.576995   \n",
       "\n",
       "            E6         E7  \n",
       "155  12.848171  19.658801  \n",
       "156  12.899824  19.735561  \n",
       "157  12.951403  19.812274  \n",
       "158  13.002907  19.888941  \n",
       "159  13.054338  19.965564  "
      ]
     },
     "execution_count": 3,
     "metadata": {},
     "output_type": "execute_result"
    }
   ],
   "source": [
    "Angs2Bohr=1.8897259886\n",
    "au2eV=27.211386027\n",
    "au2cm=219474.63068\n",
    "#\n",
    "#df=pd.read_csv(\"DVR_stab_plot.csv\", delim_whitespace=False)\n",
    "#df=pd.read_csv(\"GTO_unc_stab_plot.csv\", delim_whitespace=False)\n",
    "#df=pd.read_csv(\"GTO_DZ_stab_plot.csv\", delim_whitespace=False)\n",
    "df=pd.read_csv(\"GTO_TZ_stab_plot.csv\", delim_whitespace=False)\n",
    "df.tail()"
   ]
  },
  {
   "cell_type": "code",
   "execution_count": 4,
   "metadata": {},
   "outputs": [
    {
     "data": {
      "image/png": "[encoded data removed]",
      "text/plain": [
       "<Figure size 432x288 with 1 Axes>"
      ]
     },
     "metadata": {
      "needs_background": "light"
     },
     "output_type": "display_data"
    }
   ],
   "source": [
    "alpha=df.columns[1]\n",
    "E_labels=df.columns[2:]\n",
    "zs=df[alpha].values\n",
    "zmin, zmax = zs[0], zs[-1]\n",
    "if zmax < zmin:\n",
    "    zmin, zmax = zmax, zmin\n",
    "zs=(zs-zmin)/(zmax-zmin)\n",
    "if True:\n",
    "    plt.cla()\n",
    "    for E in E_labels:\n",
    "        plt.plot(zs, df[E].values, '-')\n",
    "    plt.ylim(0,6)\n",
    "    plt.show()"
   ]
  },
  {
   "cell_type": "markdown",
   "metadata": {},
   "source": [
    "Set the following parameters after inspecting the stabilization plot:\n",
    "* lroot: the lower root; the 2nd root is lroot+1\n",
    "* curvature_drop-off: the crossing is defined by the minimum and maximum curvature positions; the  selection range is determined by the drop off of the abs(curvature) "
   ]
  },
  {
   "cell_type": "code",
   "execution_count": 5,
   "metadata": {},
   "outputs": [
    {
     "name": "stdout",
     "output_type": "stream",
     "text": [
      "Center of the crossing at z=0.069182\n",
      "N = 14 points on each curve\n"
     ]
    },
    {
     "data": {
      "image/png": "[encoded data removed]",
      "text/plain": [
       "<Figure size 432x288 with 1 Axes>"
      ]
     },
     "metadata": {
      "needs_background": "light"
     },
     "output_type": "display_data"
    }
   ],
   "source": [
    "lroot=4\n",
    "curvature_drop_off=0.5\n",
    "E_lw=df[E_labels[lroot]].values\n",
    "E_up=df[E_labels[lroot+1]].values\n",
    "#success, zc, alps, E1s, E2s = st.crossing(zs, E_lw, E_up, select=-1)\n",
    "success, zc, alps, E1s, E2s = st.crossing(zs, E_lw, E_up, select=curvature_drop_off)\n",
    "if not success:\n",
    "    print('No crossing found.')\n",
    "    zcs = (zs[alps[0]], zs[alps[1]])\n",
    "    print('min/max curvature at z=%f and z=%f' % zcs)\n",
    "    plt.cla()\n",
    "    plt.plot(zs, E1s, zs, E2s)\n",
    "    plt.ylabel('curvature '+str(lroot)+' and '+str(lroot+1))\n",
    "    plt.show()\n",
    "else:\n",
    "    print('Center of the crossing at z=%f' % (zc))\n",
    "    npts = len(alps)\n",
    "    print('N = %d points on each curve' % (npts))\n",
    "    plt.cla()\n",
    "    plt.plot(zs, E_lw, zs, E_up)\n",
    "    plt.plot(alps, E1s, 'o', alps, E2s, 'o')\n",
    "    plt.ylabel('roots '+str(lroot)+' and '+str(lroot+1))\n",
    "    plt.show()"
   ]
  },
  {
   "cell_type": "markdown",
   "metadata": {},
   "source": [
    "Make one long list of all energies, which requires the L or alpha list twice,\n",
    "to prepare the fit to a generalized Pade approximant."
   ]
  },
  {
   "cell_type": "code",
   "execution_count": 6,
   "metadata": {},
   "outputs": [],
   "source": [
    "LL = list(alps) + list(alps)\n",
    "Es = list(E1s) + list(E2s)"
   ]
  },
  {
   "cell_type": "markdown",
   "metadata": {},
   "source": [
    "## Fit to generalized [$n$,$n$,$n$]-Pade approximant."
   ]
  },
  {
   "cell_type": "code",
   "execution_count": 7,
   "metadata": {},
   "outputs": [
    {
     "name": "stdout",
     "output_type": "stream",
     "text": [
      "P*E^2 + Q*E + R = 0\n",
      "P :\n",
      "           2\n",
      "-0.5516 x + 0.4284 x + 0.08176\n",
      "\n",
      "Q :\n",
      "         3         2\n",
      "13.89 x - 4.904 x - 3.569 x - 0.4167\n",
      "\n",
      "R :\n",
      "         4      3        2\n",
      "4.632 x - 44 x + 22.6 x + 6.694 x + 0.4953\n"
     ]
    },
    {
     "data": {
      "text/plain": [
       "[<matplotlib.lines.Line2D at 0x7f37483dca90>]"
      ]
     },
     "execution_count": 7,
     "metadata": {},
     "output_type": "execute_result"
    },
    {
     "data": {
      "image/png": "[encoded data removed]",
      "text/plain": [
       "<Figure size 432x288 with 1 Axes>"
      ]
     },
     "metadata": {
      "needs_background": "light"
     },
     "output_type": "display_data"
    }
   ],
   "source": [
    "nP, nQ, nR = 2, 3, 4\n",
    "A, B, C = gpa.genpade2_via_lstsq(nP, nQ, nR, LL, Es, rcond=1e-14)\n",
    "print('P*E^2 + Q*E + R = 0')\n",
    "print('P :\\n ', A)\n",
    "print('\\nQ :\\n ', B)\n",
    "print('\\nR :\\n ', C)\n",
    "\n",
    "#\n",
    "# compare the input energies and the fitted curves\n",
    "#\n",
    "npts=100\n",
    "Lplots=np.linspace(LL[0],LL[-1],npts)\n",
    "E1plot=np.zeros(npts)\n",
    "E2plot=np.zeros(npts)\n",
    "for i in range(npts):\n",
    "    E1plot[i]=gpa.E_lower(Lplots[i], A, B, C)\n",
    "    E2plot[i]=gpa.E_upper(Lplots[i], A, B, C)\n",
    "plt.cla()\n",
    "plt.plot(Lplots,E1plot,'-.')\n",
    "plt.plot(Lplots,E2plot,'-.')\n",
    "plt.plot(alps,E1s,'o')\n",
    "plt.plot(alps,E2s,'o')"
   ]
  },
  {
   "cell_type": "markdown",
   "metadata": {
    "tags": []
   },
   "source": [
    "### Evaluate the Pade approximant in the complex plane. \n",
    "* That gives two roots. \n",
    "* Plot log(|dE/dL|) for both\n",
    "* Do a grid search: start from minima in all $n_g$-by-$n_g$ squares  "
   ]
  },
  {
   "cell_type": "code",
   "execution_count": 8,
   "metadata": {},
   "outputs": [
    {
     "data": {
      "image/png": "[encoded data removed]",
      "text/plain": [
       "<Figure size 432x288 with 2 Axes>"
      ]
     },
     "metadata": {
      "needs_background": "light"
     },
     "output_type": "display_data"
    },
    {
     "data": {
      "image/png": "[encoded data removed]",
      "text/plain": [
       "<Figure size 432x288 with 2 Axes>"
      ]
     },
     "metadata": {
      "needs_background": "light"
     },
     "output_type": "display_data"
    }
   ],
   "source": [
    "ng=9\n",
    "npts=ng*ng\n",
    "rp=0.8 # plus/minus x%\n",
    "ip=(alps[-1]+alps[0])\n",
    "Lrs = np.linspace(alps[0]*(1-rp), alps[-1]*(1+rp), npts)\n",
    "#Lis = np.linspace(0, +ip, npts)\n",
    "Lis = np.linspace(-ip, 0, npts)\n",
    "der1 = np.zeros([npts,npts])\n",
    "der2 = np.zeros([npts,npts])\n",
    "for r in range(npts):\n",
    "    for i in range(npts):\n",
    "        L=Lrs[r]+ 1j*Lis[i]\n",
    "        rs, ds = gpa.E_and_Ep(L, A, B, C)\n",
    "        der1[i,r] = np.log10(min(ds))\n",
    "        der2[i,r] = np.log10(max(ds))\n",
    "\n",
    "plt.cla()        \n",
    "plt.figure(1)\n",
    "plt.contourf(Lrs, Lis, der1, 10, cmap=plt.cm.jet_r)\n",
    "plt.colorbar()\n",
    "plt.figure(2)\n",
    "plt.contourf(Lrs, Lis, der2, 10, cmap=plt.cm.jet_r)\n",
    "plt.colorbar()\n",
    "plt.show()"
   ]
  },
  {
   "cell_type": "code",
   "execution_count": 9,
   "metadata": {},
   "outputs": [
    {
     "name": "stdout",
     "output_type": "stream",
     "text": [
      "(17, 1) -2.2593285817360127\n"
     ]
    }
   ],
   "source": [
    "i2 = np.unravel_index(np.argmin(der1, axis=None), der1.shape)\n",
    "print(i2, der1[i2])"
   ]
  },
  {
   "cell_type": "code",
   "execution_count": 10,
   "metadata": {},
   "outputs": [
    {
     "data": {
      "text/html": [
       "<div>\n",
       "<style scoped>\n",
       "    .dataframe tbody tr th:only-of-type {\n",
       "        vertical-align: middle;\n",
       "    }\n",
       "\n",
       "    .dataframe tbody tr th {\n",
       "        vertical-align: top;\n",
       "    }\n",
       "\n",
       "    .dataframe thead th {\n",
       "        text-align: right;\n",
       "    }\n",
       "</style>\n",
       "<table border=\"1\" class=\"dataframe\">\n",
       "  <thead>\n",
       "    <tr style=\"text-align: right;\">\n",
       "      <th></th>\n",
       "      <th>Er</th>\n",
       "      <th>Ei</th>\n",
       "      <th>Lr</th>\n",
       "      <th>Li</th>\n",
       "      <th>Er6dig</th>\n",
       "      <th>Ei6dig</th>\n",
       "    </tr>\n",
       "  </thead>\n",
       "  <tbody>\n",
       "    <tr>\n",
       "      <th>0</th>\n",
       "      <td>3.191009</td>\n",
       "      <td>-0.185501</td>\n",
       "      <td>0.009074</td>\n",
       "      <td>-0.114209</td>\n",
       "      <td>3.191009</td>\n",
       "      <td>-0.185501</td>\n",
       "    </tr>\n",
       "    <tr>\n",
       "      <th>8</th>\n",
       "      <td>3.175656</td>\n",
       "      <td>-0.163405</td>\n",
       "      <td>0.130352</td>\n",
       "      <td>-0.196128</td>\n",
       "      <td>3.175656</td>\n",
       "      <td>-0.163405</td>\n",
       "    </tr>\n",
       "  </tbody>\n",
       "</table>\n",
       "</div>"
      ],
      "text/plain": [
       "         Er        Ei        Lr        Li    Er6dig    Ei6dig\n",
       "0  3.191009 -0.185501  0.009074 -0.114209  3.191009 -0.185501\n",
       "8  3.175656 -0.163405  0.130352 -0.196128  3.175656 -0.163405"
      ]
     },
     "execution_count": 10,
     "metadata": {},
     "output_type": "execute_result"
    }
   ],
   "source": [
    "Econv = []\n",
    "Lconv = []\n",
    "for i in range(0,npts,ng):\n",
    "    for j in range(0,npts,ng):\n",
    "        square = der1[i:i+ng,j:j+ng]\n",
    "        i2 = np.unravel_index(np.argmin(square, axis=None), square.shape)\n",
    "        if square[i2] < 0:\n",
    "            L_guess=Lrs[i2[0]+i] + 1j*Lis[i2[1]+j]\n",
    "            conv, Lstar, Estar, der = gpa.GPA_NewtonRaphson(L_guess, (A, B, C), verbose=False)\n",
    "            if conv:\n",
    "                Econv.append(Estar)\n",
    "                Lconv.append(Lstar)\n",
    "\n",
    "Econv = np.array(Econv)\n",
    "Lconv = np.array(Lconv)\n",
    "df=pd.DataFrame({\"Er\": Econv.real, \"Ei\": Econv.imag, \"Lr\": Lconv.real, \"Li\": Lconv.imag})\n",
    "df['Er6dig']=np.round(df['Er'],6)\n",
    "df['Ei6dig']=np.round(df['Ei'],6)\n",
    "df.drop_duplicates(subset=['Er6dig', 'Ei6dig'], inplace=True)\n",
    "df[(df['Li']<0)].sort_values(by=['Lr'])"
   ]
  },
  {
   "cell_type": "markdown",
   "metadata": {},
   "source": [
    "Identify and optimize roots by hand"
   ]
  },
  {
   "cell_type": "code",
   "execution_count": 25,
   "metadata": {},
   "outputs": [
    {
     "name": "stdout",
     "output_type": "stream",
     "text": [
      "(4.000649, -0.051271)  d=0.269108\n",
      "(3.301534, -0.792857)  d=16.867657\n",
      "Newton step for root 0: (-0.002640, -0.004774)\n"
     ]
    }
   ],
   "source": [
    "#\n",
    "#   read-off minima from figure 1\n",
    "#\n",
    "L_guess=0.08-1j*0.05  # roots 3/4 n=234\n",
    "#L_guess=0.18-1j*0.05  # roots 3/4 n=234\n",
    "\n",
    "roots, ders = gpa.E_and_Ep(L_guess, A, B, C)\n",
    "for i, r in enumerate(roots):\n",
    "    print('(%f, %f)  d=%f' % (r.real, r.imag, ders[i]))\n",
    "i_root=np.argmin(ders)\n",
    "Ecurr=roots[i_root]\n",
    "step = gpa.EpoEpp(Ecurr, L_guess, A, B, C)\n",
    "print('Newton step for root %d: (%f, %f)' % (i_root, step.real, step.imag))"
   ]
  },
  {
   "cell_type": "code",
   "execution_count": 26,
   "metadata": {},
   "outputs": [
    {
     "name": "stdout",
     "output_type": "stream",
     "text": [
      "Newton Raphson steps:\n",
      " step    z_curr                   E_curr\n",
      "-----------------------------------------------------\n",
      "  0   (0.0826404, -0.0452260)   (3.9999496, -0.0511353)\n",
      "  1   (0.0825395, -0.0454272)   (3.9999482, -0.0511352)\n",
      "  2   (0.0825394, -0.0454277)   (3.9999482, -0.0511352)\n",
      "  3   (0.0825394, -0.0454277)   (3.9999482, -0.0511352)\n",
      "  L_star = (0.082539, -0.045428)\n",
      "  derivative = 3.054e-14\n",
      "  Er = 3.999948,  Ei = -0.051135\n"
     ]
    }
   ],
   "source": [
    "conv, Lstar, Estar, der = gpa.GPA_NewtonRaphson(L_guess, (A, B, C))\n",
    "if conv:\n",
    "    print(\"  L_star = (%.6f, %.6f)\" % (Lstar.real, Lstar.imag))\n",
    "    print('  derivative = %.3e' % (der))\n",
    "    print(\"  Er = %.6f,  Ei = %.6f\" % (Estar.real, Estar.imag))\n",
    "else:\n",
    "    print(\"No convergence in 20 steps.\")"
   ]
  },
  {
   "cell_type": "code",
   "execution_count": null,
   "metadata": {},
   "outputs": [],
   "source": []
  }
 ],
 "metadata": {
  "kernelspec": {
   "display_name": "Python 3",
   "language": "python",
   "name": "python3"
  },
  "language_info": {
   "codemirror_mode": {
    "name": "ipython",
    "version": 3
   },
   "file_extension": ".py",
   "mimetype": "text/x-python",
   "name": "python",
   "nbconvert_exporter": "python",
   "pygments_lexer": "ipython3",
   "version": "3.8.8"
  }
 },
 "nbformat": 4,
 "nbformat_minor": 4
}
