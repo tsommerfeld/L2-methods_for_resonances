{
 "cells": [
  {
   "cell_type": "markdown",
   "metadata": {},
   "source": [
    "## Analysis with 2-by-2 model Hamiltonian\n",
    "Based on Benjamin J. Carlson *et al.*, *J. Phys. Chem. Lett.* **12**, 1202-1206 (2021)\n"
   ]
  },
  {
   "cell_type": "code",
   "execution_count": 1,
   "metadata": {},
   "outputs": [],
   "source": [
    "import sys\n",
    "import numpy as np\n",
    "import pandas as pd\n",
    "import matplotlib\n",
    "import matplotlib.pyplot as plt\n",
    "import scipy\n",
    "from scipy import optimize\n",
    "\n",
    "sys.path.append('../../Python_libs')\n",
    "import stabtools as st\n",
    "\n",
    "#matplotlib.use('Qt5Agg')\n",
    "%matplotlib inline"
   ]
  },
  {
   "cell_type": "markdown",
   "metadata": {},
   "source": [
    "***\n",
    "# Read-in stabilization data"
   ]
  },
  {
   "cell_type": "code",
   "execution_count": 2,
   "metadata": {},
   "outputs": [
    {
     "data": {
      "text/html": [
       "<div>\n",
       "<style scoped>\n",
       "    .dataframe tbody tr th:only-of-type {\n",
       "        vertical-align: middle;\n",
       "    }\n",
       "\n",
       "    .dataframe tbody tr th {\n",
       "        vertical-align: top;\n",
       "    }\n",
       "\n",
       "    .dataframe thead th {\n",
       "        text-align: right;\n",
       "    }\n",
       "</style>\n",
       "<table border=\"1\" class=\"dataframe\">\n",
       "  <thead>\n",
       "    <tr style=\"text-align: right;\">\n",
       "      <th></th>\n",
       "      <th>L</th>\n",
       "      <th>z</th>\n",
       "      <th>E1</th>\n",
       "      <th>E2</th>\n",
       "      <th>E3</th>\n",
       "      <th>E4</th>\n",
       "      <th>E5</th>\n",
       "      <th>E6</th>\n",
       "    </tr>\n",
       "  </thead>\n",
       "  <tbody>\n",
       "    <tr>\n",
       "      <th>0</th>\n",
       "      <td>1.423025</td>\n",
       "      <td>0.493827</td>\n",
       "      <td>-7.170508</td>\n",
       "      <td>0.159275</td>\n",
       "      <td>0.523245</td>\n",
       "      <td>1.098066</td>\n",
       "      <td>1.858843</td>\n",
       "      <td>2.728974</td>\n",
       "    </tr>\n",
       "    <tr>\n",
       "      <th>1</th>\n",
       "      <td>1.399532</td>\n",
       "      <td>0.510545</td>\n",
       "      <td>-7.170508</td>\n",
       "      <td>0.165750</td>\n",
       "      <td>0.545553</td>\n",
       "      <td>1.144416</td>\n",
       "      <td>1.933952</td>\n",
       "      <td>2.814184</td>\n",
       "    </tr>\n",
       "    <tr>\n",
       "      <th>2</th>\n",
       "      <td>1.377166</td>\n",
       "      <td>0.527263</td>\n",
       "      <td>-7.170508</td>\n",
       "      <td>0.172307</td>\n",
       "      <td>0.568155</td>\n",
       "      <td>1.191240</td>\n",
       "      <td>2.009268</td>\n",
       "      <td>2.890628</td>\n",
       "    </tr>\n",
       "    <tr>\n",
       "      <th>3</th>\n",
       "      <td>1.355838</td>\n",
       "      <td>0.543981</td>\n",
       "      <td>-7.170508</td>\n",
       "      <td>0.178946</td>\n",
       "      <td>0.591050</td>\n",
       "      <td>1.238525</td>\n",
       "      <td>2.084680</td>\n",
       "      <td>2.956664</td>\n",
       "    </tr>\n",
       "    <tr>\n",
       "      <th>4</th>\n",
       "      <td>1.335472</td>\n",
       "      <td>0.560700</td>\n",
       "      <td>-7.170508</td>\n",
       "      <td>0.185668</td>\n",
       "      <td>0.614238</td>\n",
       "      <td>1.286256</td>\n",
       "      <td>2.160057</td>\n",
       "      <td>3.011986</td>\n",
       "    </tr>\n",
       "  </tbody>\n",
       "</table>\n",
       "</div>"
      ],
      "text/plain": [
       "          L         z        E1        E2        E3        E4        E5  \\\n",
       "0  1.423025  0.493827 -7.170508  0.159275  0.523245  1.098066  1.858843   \n",
       "1  1.399532  0.510545 -7.170508  0.165750  0.545553  1.144416  1.933952   \n",
       "2  1.377166  0.527263 -7.170508  0.172307  0.568155  1.191240  2.009268   \n",
       "3  1.355838  0.543981 -7.170508  0.178946  0.591050  1.238525  2.084680   \n",
       "4  1.335472  0.560700 -7.170508  0.185668  0.614238  1.286256  2.160057   \n",
       "\n",
       "         E6  \n",
       "0  2.728974  \n",
       "1  2.814184  \n",
       "2  2.890628  \n",
       "3  2.956664  \n",
       "4  3.011986  "
      ]
     },
     "execution_count": 2,
     "metadata": {},
     "output_type": "execute_result"
    }
   ],
   "source": [
    "Angs2Bohr=1.8897259886\n",
    "au2eV=27.211386027\n",
    "au2cm=219474.63068\n",
    "#\n",
    "#  files in the current directory do not need the path name\n",
    "#\n",
    "df=pd.read_csv(\"DVR_stab_plot.csv\")\n",
    "#df=pd.read_csv(\"GTO_TZ_stab_plot.csv\")\n",
    "df.head()"
   ]
  },
  {
   "cell_type": "code",
   "execution_count": 3,
   "metadata": {},
   "outputs": [
    {
     "data": {
      "image/png": "[encoded data removed]",
      "text/plain": [
       "<Figure size 432x288 with 1 Axes>"
      ]
     },
     "metadata": {
      "needs_background": "light"
     },
     "output_type": "display_data"
    }
   ],
   "source": [
    "z_col=df.columns[1]\n",
    "all_zs=df[z_col].values\n",
    "zmin, zmax = all_zs[0], all_zs[-1]\n",
    "if zmax < zmin:\n",
    "    zmin, zmax = zmax, zmin\n",
    "all_zs=(all_zs-zmin)/(zmax-zmin)\n",
    "\n",
    "E_labels=df.columns[2:]\n",
    "plt.cla()\n",
    "plt.xlabel('Z')\n",
    "plt.ylabel('E')\n",
    "for E in E_labels:\n",
    "    plt.plot(all_zs, df[E].values, '-')\n",
    "plt.ylim(0,7)\n",
    "plt.show()"
   ]
  },
  {
   "cell_type": "markdown",
   "metadata": {},
   "source": [
    "Set the following parameters after inspecting the stabilization plot:\n",
    "* lroot: the lower root; the 2nd root is lroot+1\n",
    "* curvature_cutoff: the crossing is defined by the minimum and maximum curvature positions; the  selection range is determined by the drop off of the abs(curvature) "
   ]
  },
  {
   "cell_type": "code",
   "execution_count": 4,
   "metadata": {},
   "outputs": [
    {
     "name": "stdout",
     "output_type": "stream",
     "text": [
      "Center of the crossing at z=0.30833333\n",
      "N = 15 points on each curve\n"
     ]
    },
    {
     "data": {
      "image/png": "[encoded data removed]",
      "text/plain": [
       "<Figure size 432x288 with 1 Axes>"
      ]
     },
     "metadata": {
      "needs_background": "light"
     },
     "output_type": "display_data"
    }
   ],
   "source": [
    "lroot = 3\n",
    "curvature_cutoff=0.5\n",
    "\n",
    "E_lw=df[E_labels[lroot]].values\n",
    "E_up=df[E_labels[lroot+1]].values\n",
    "success, cross_center, zs, E1s, E2s = st.crossing(all_zs, E_lw, E_up, curvature_cutoff)\n",
    "\n",
    "if success:\n",
    "    print(f'Center of the crossing at z={cross_center:.8f}')\n",
    "    npts = len(zs)\n",
    "    print(f'N = {npts} points on each curve')\n",
    "    plt.cla()\n",
    "    plt.plot(all_zs, E_lw, all_zs, E_up)\n",
    "    plt.plot(zs, E1s, 'o', zs, E2s, 'o')\n",
    "    plt.ylabel('roots '+str(lroot)+' and '+str(lroot+1))\n",
    "    plt.show()\n",
    "else:\n",
    "    print('No crossing found.')\n",
    "    zcs = (all_zs[zs[0]], all_zs[zs[1]])\n",
    "    print('min/max curvature at z=%f and z=%f' % zcs)\n",
    "    plt.cla()\n",
    "    plt.plot(all_zs, E1s, all_zs, E2s)\n",
    "    plt.ylabel('curvature '+str(lroot)+' and '+str(lroot+1))\n",
    "    plt.show()\n",
    "    \n"
   ]
  },
  {
   "cell_type": "markdown",
   "metadata": {},
   "source": [
    "Combining the upper and lower curve into one list for fitting."
   ]
  },
  {
   "cell_type": "code",
   "execution_count": 5,
   "metadata": {},
   "outputs": [],
   "source": [
    "Es = np.append(E1s, E2s)"
   ]
  },
  {
   "cell_type": "markdown",
   "metadata": {},
   "source": [
    "***\n",
    "## Defining Fit Function\n",
    "$E_{\\pm}=\\frac{H_{11}+H_{22}}{2}\\pm \\frac{1}{2}\\sqrt{(H_{11}-H_{22})^{2}+4H_{12}^{2}}$\n",
    "\n",
    "where  \n",
    "$H_{11}=a_{0}$  \n",
    "$H_{22}=a_{0}+a_{1}(z-z_{1})$  \n",
    "$H_{12}^{2}=A+B(z-z_{1})^{2}$   \n",
    "\n",
    "With free parameters: $a_{0}$, $a_{1}$, $A$, $B$, $z_{1}$"
   ]
  },
  {
   "cell_type": "code",
   "execution_count": 6,
   "metadata": {},
   "outputs": [],
   "source": [
    "def eqn_3(z, a0, a1, A, B, z1):\n",
    "    '''Returns an (E-, E+) value for z'''\n",
    " \n",
    "    H11 = a0\n",
    "    H22 = a0 + a1*(z-z1)\n",
    "    H122 = A + B*(z-z1)**2\n",
    "    \n",
    "    f1 = (H11+H22)*0.5\n",
    "    f2 = 0.5*((H11-H22)**2+4*H122)**0.5\n",
    "   \n",
    "    return np.append(f1-f2, f1+f2) #returns (E-, E+) for a list of Zs\n",
    "\n",
    "def eqn_3_lsq(params, xdata, ydata):\n",
    "    '''Returns residuals for eqn_3'''\n",
    "    a0, a1, A, B, z1 = params\n",
    "    return eqn_3(xdata, a0, a1, A, B, z1)-ydata\n"
   ]
  },
  {
   "cell_type": "markdown",
   "metadata": {},
   "source": [
    "Additionally, to fit using least squares directly, a function returning residuals is needed (eqn_3_lsq)"
   ]
  },
  {
   "cell_type": "markdown",
   "metadata": {},
   "source": [
    "***\n",
    "## Guessing start parameters\n"
   ]
  },
  {
   "cell_type": "code",
   "execution_count": 7,
   "metadata": {},
   "outputs": [
    {
     "data": {
      "image/png": "[encoded data removed]",
      "text/plain": [
       "<Figure size 432x288 with 1 Axes>"
      ]
     },
     "metadata": {
      "needs_background": "light"
     },
     "output_type": "display_data"
    },
    {
     "name": "stdout",
     "output_type": "stream",
     "text": [
      "chi^2: 0.07661583\n",
      "Guess parameters:\n",
      "a0              a1              A              B              z1             \n",
      "3.17151634      9.88997813      0.08219437     -1.00000000    0.30833333     \n"
     ]
    }
   ],
   "source": [
    "# Parameters to guess:a0, a1, A, B, z1\n",
    "\n",
    "a0 = E2s[0]-(E2s[0]-E1s[-1])/2\n",
    "a1=(E1s[0]-E2s[-1])/(zs[0]-zs[-1]) # slope of H22\n",
    "A = (min(E2s-E1s)/2)**2 # approxiamte min distance between upper and lower squared\n",
    "B = -1.0 # Guess arbitrary, negative number\n",
    "z1 = cross_center\n",
    "guess = [a0, a1, A, B, z1]\n",
    "\n",
    "plt.cla()\n",
    "plt.title('Initial Guess')\n",
    "plt.xlabel('Z')\n",
    "plt.ylabel('E')\n",
    "plt.plot(zs, E1s, 'bo')  # plot original data\n",
    "plt.plot(zs, E2s, 'bo')\n",
    "\n",
    "plt.axhline(y=a0,color='b',label='approx. $H_{11}$')\n",
    "plt.plot(zs,a0+a1*(zs-z1),'r-',label='approx $H_{22}$')\n",
    "plt.axvline(x=z1,color='g', label='approx Z crossing')\n",
    "\n",
    "Zplot=np.linspace(zs[0],zs[-1],npts) # create npts between min and max Z range from original data\n",
    "Eplot = eqn_3(Zplot,a0, a1, A, B, z1)\n",
    "plt.plot(Zplot, Eplot[:len(Eplot)//2],'r-.', label='Guess') # plot guess function with npts\n",
    "plt.plot(Zplot, Eplot[len(Eplot)//2:],'r-.')\n",
    "\n",
    "plt.legend()\n",
    "plt.show()\n",
    "\n",
    "# chi^2\n",
    "Esfit = eqn_3(zs, a0, a1, A, B, z1)\n",
    "chi2 = sum((Esfit-Es)**2)\n",
    "print(f'chi^2: {chi2:.8f}')\n",
    "\n",
    "print('Guess parameters:')\n",
    "print (\"{:<15} {:<15} {:<15}{:<15}{:<15}\".format('a0','a1','A','B','z1'))\n",
    "print (\"{:<15.8f} {:<15.8f} {:<15.8f}{:<15.8f}{:<15.8f}\".format(a0,a1,A,B,z1))"
   ]
  },
  {
   "cell_type": "markdown",
   "metadata": {},
   "source": [
    "***\n",
    "## Fitting Results and $\\chi^{2}$\n",
    "\n",
    "After fitting, the stationary point and resonance energy are extracted from:\n",
    "\n",
    "$z^{*}=z_{1}-i\\sqrt{\\frac{a_{1}A}{|B|(A_{1}^{2}+4B)}}$\n",
    "\n",
    "$E_{res}=a_{0}-2i\\left[\\left(\\frac{\\sqrt{A|B|}}{\\sqrt{4B+a_{1}^{2}}}\\right)\\right]$"
   ]
  },
  {
   "cell_type": "code",
   "execution_count": 8,
   "metadata": {},
   "outputs": [
    {
     "data": {
      "image/png": "[encoded data removed]",
      "text/plain": [
       "<Figure size 432x288 with 1 Axes>"
      ]
     },
     "metadata": {
      "needs_background": "light"
     },
     "output_type": "display_data"
    },
    {
     "name": "stdout",
     "output_type": "stream",
     "text": [
      "Optimized parameters:\n",
      "a0              a1              A              B              z1             \n",
      "3.14488392      7.91363172      0.08193481     -4.89077002    0.30408393     \n",
      "\n",
      "Results:\n",
      "Z* = 0.304084-0.055486\n",
      "Eres = 3.144884 -0.192932\n",
      "chi^2: 0.00000530\n"
     ]
    }
   ],
   "source": [
    "# fit then extract parameters\n",
    "params = scipy.optimize.curve_fit(eqn_3, zs, Es, p0=guess)\n",
    "a0, a1, A, B, z1 = params[0]\n",
    "\n",
    "plt.cla()\n",
    "plt.title('After Fit')\n",
    "plt.xlabel('Z')\n",
    "plt.ylabel('E')\n",
    "plt.plot(zs, E1s, 'bo')  # plot original data\n",
    "plt.plot(zs, E2s, 'bo')\n",
    "plt.axhline(y=a0,color='b',label='Fit $H_{11}$')\n",
    "plt.axvline(x=z1,color='g', label='Fit Z crossing')\n",
    "\n",
    "Zplot=np.linspace(zs[0],zs[-1],npts) # create npts between min and max Z range from original data\n",
    "Eplot = eqn_3(Zplot,a0, a1, A, B, z1)\n",
    "plt.plot(Zplot, Eplot[:len(Eplot)//2],'r-.', label='Fit') # plot Fitted function with npts\n",
    "plt.plot(Zplot, Eplot[len(Eplot)//2:],'r-.')\n",
    "plt.plot(zs,a0+a1*(zs-z1),'r-',label='approx $H_{22}$')\n",
    "\n",
    "plt.legend()\n",
    "plt.show()\n",
    "\n",
    "\n",
    "print('Optimized parameters:')\n",
    "print (\"{:<15} {:<15} {:<15}{:<15}{:<15}\".format('a0','a1','A','B','z1'))\n",
    "print (\"{:<15.8f} {:<15.8f} {:<15.8f}{:<15.8f}{:<15.8f}\".format(a0,a1,A,B,z1))\n",
    "\n",
    "print('\\nResults:')\n",
    "# stationary point\n",
    "zimag = np.sqrt((a1*A)/(abs(B)*(a1**2+4*B)))\n",
    "print(f'Z* = {z1:.6f}-{zimag:.6f}')\n",
    "\n",
    "# resonance energy\n",
    "Ei = 2*(np.sqrt(A*abs(B)))/(np.sqrt(4*B+a1**2))\n",
    "print(f'Eres = {a0:.6f} -{Ei:.6f}')\n",
    "\n",
    "# chi^2\n",
    "Esfit = eqn_3(zs, a0, a1, A, B, z1)\n",
    "chi2 = sum((Esfit-Es)**2)\n",
    "print(f'chi^2: {chi2:.8f}')"
   ]
  },
  {
   "cell_type": "code",
   "execution_count": null,
   "metadata": {},
   "outputs": [],
   "source": []
  },
  {
   "cell_type": "markdown",
   "metadata": {},
   "source": [
    "***\n",
    "## Least squares implementation"
   ]
  },
  {
   "cell_type": "code",
   "execution_count": 15,
   "metadata": {},
   "outputs": [
    {
     "name": "stdout",
     "output_type": "stream",
     "text": [
      "njev: 4\n",
      "cost: 6.43854070482767e-07\n",
      "grad: [ 2.56372701e-12 -9.73308291e-11  8.40045925e-09 -1.47836044e-11\n",
      " -7.21533199e-09]\n",
      "message: `gtol` termination condition is satisfied.\n",
      "success: True\n",
      "x: [  3.14857298  11.44068466   0.06243116 -12.31670549   0.12502829]\n",
      "chi2 = 1.288e-06\n",
      "\n",
      "\n",
      "Optimized parameters:\n",
      "a0              a1              A              B              z1             \n",
      "3.14857298      11.44068466     0.06243116     -12.31670549   0.12502829     \n",
      "\n",
      "Results:\n",
      "Z* = 0.125028-0.026655\n",
      "Eres = 3.148573 - 0.194121\n"
     ]
    }
   ],
   "source": [
    "def eqn_3_lsq(params, xdata, ydata):\n",
    "    a0, a1, A, B, z1 = params\n",
    "    return eqn_3(xdata, a0, a1, A, B, z1)-ydata\n",
    "\n",
    "data = (zs, Es)\n",
    "\n",
    "res = scipy.optimize.least_squares(eqn_3_lsq, x0=guess, args=data)\n",
    "print(\"njev:\",res.njev)\n",
    "print(\"cost:\",res.cost)\n",
    "print(\"grad:\",res.grad)\n",
    "print(\"message:\",res.message)\n",
    "print(\"success:\",res.success)\n",
    "print(\"x:\", res.x)\n",
    "print('chi2 = %.3e' % (res.cost*2))\n",
    "\n",
    "\n",
    "a0,a1,A,B,z1=res.x[0],res.x[1],res.x[2],res.x[3],res.x[4]\n",
    "print('\\n\\nOptimized parameters:')\n",
    "print (\"{:<15} {:<15} {:<15}{:<15}{:<15}\".format('a0','a1','A','B','z1'))\n",
    "print (\"{:<15.8f} {:<15.8f} {:<15.8f}{:<15.8f}{:<15.8f}\".format(a0,a1,A,B,z1))\n",
    "\n",
    "print('\\nResults:')\n",
    "# stationary point\n",
    "zimag = np.sqrt((a1*A)/(abs(B)*(a1**2+4*B)))\n",
    "print(f'Z* = {z1:.6f}-{zimag:.6f}')\n",
    "\n",
    "# resonance energy\n",
    "Ei = 2*(np.sqrt(A*abs(B)))/(np.sqrt(4*B+a1**2))\n",
    "print(f'Eres = {a0:.6f} - {Ei:.6f}')"
   ]
  },
  {
   "cell_type": "code",
   "execution_count": null,
   "metadata": {},
   "outputs": [],
   "source": []
  },
  {
   "cell_type": "code",
   "execution_count": null,
   "metadata": {},
   "outputs": [],
   "source": []
  },
  {
   "cell_type": "code",
   "execution_count": null,
   "metadata": {},
   "outputs": [],
   "source": []
  }
 ],
 "metadata": {
  "kernelspec": {
   "display_name": "Python 3",
   "language": "python",
   "name": "python3"
  },
  "language_info": {
   "codemirror_mode": {
    "name": "ipython",
    "version": 3
   },
   "file_extension": ".py",
   "mimetype": "text/x-python",
   "name": "python",
   "nbconvert_exporter": "python",
   "pygments_lexer": "ipython3",
   "version": "3.8.8"
  }
 },
 "nbformat": 4,
 "nbformat_minor": 4
}
