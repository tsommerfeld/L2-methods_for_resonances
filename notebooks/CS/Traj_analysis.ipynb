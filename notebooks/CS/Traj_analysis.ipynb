{
 "cells": [
  {
   "cell_type": "markdown",
   "metadata": {},
   "source": [
    "### CS: step 2 from trajectories in .csv files "
   ]
  },
  {
   "cell_type": "code",
   "execution_count": 2,
   "metadata": {},
   "outputs": [],
   "source": [
    "import numpy as np\n",
    "from scipy.linalg import eig, eigh, eigvals, eigvalsh\n",
    "import matplotlib\n",
    "import matplotlib.pyplot as plt\n",
    "matplotlib.use('Qt5Agg')\n",
    "%matplotlib qt5\n",
    "import pandas as pd"
   ]
  },
  {
   "cell_type": "markdown",
   "metadata": {},
   "source": [
    "### DVR reference value\n",
    "* (3.1729556212701966-0.16084889558781004j)\n",
    "* (-1.4354245561065682e-06+2.766522097519264e-08j)\n",
    "* (1.4358934654623567e-06+6.092757803832782e-08j)"
   ]
  },
  {
   "cell_type": "code",
   "execution_count": 17,
   "metadata": {},
   "outputs": [
    {
     "data": {
      "text/html": [
       "<div>\n",
       "<style scoped>\n",
       "    .dataframe tbody tr th:only-of-type {\n",
       "        vertical-align: middle;\n",
       "    }\n",
       "\n",
       "    .dataframe tbody tr th {\n",
       "        vertical-align: top;\n",
       "    }\n",
       "\n",
       "    .dataframe thead th {\n",
       "        text-align: right;\n",
       "    }\n",
       "</style>\n",
       "<table border=\"1\" class=\"dataframe\">\n",
       "  <thead>\n",
       "    <tr style=\"text-align: right;\">\n",
       "      <th></th>\n",
       "      <th>theta</th>\n",
       "      <th>ReE</th>\n",
       "      <th>ImE</th>\n",
       "      <th>der</th>\n",
       "    </tr>\n",
       "  </thead>\n",
       "  <tbody>\n",
       "    <tr>\n",
       "      <th>96</th>\n",
       "      <td>14.40</td>\n",
       "      <td>3.077156</td>\n",
       "      <td>-0.403484</td>\n",
       "      <td>0.062112</td>\n",
       "    </tr>\n",
       "    <tr>\n",
       "      <th>97</th>\n",
       "      <td>14.55</td>\n",
       "      <td>3.073819</td>\n",
       "      <td>-0.412405</td>\n",
       "      <td>0.064896</td>\n",
       "    </tr>\n",
       "    <tr>\n",
       "      <th>98</th>\n",
       "      <td>14.70</td>\n",
       "      <td>3.070317</td>\n",
       "      <td>-0.421718</td>\n",
       "      <td>0.067799</td>\n",
       "    </tr>\n",
       "    <tr>\n",
       "      <th>99</th>\n",
       "      <td>14.85</td>\n",
       "      <td>3.066638</td>\n",
       "      <td>-0.431441</td>\n",
       "      <td>0.069303</td>\n",
       "    </tr>\n",
       "    <tr>\n",
       "      <th>100</th>\n",
       "      <td>15.00</td>\n",
       "      <td>3.062775</td>\n",
       "      <td>-0.441591</td>\n",
       "      <td>0.072398</td>\n",
       "    </tr>\n",
       "  </tbody>\n",
       "</table>\n",
       "</div>"
      ],
      "text/plain": [
       "     theta       ReE       ImE       der\n",
       "96   14.40  3.077156 -0.403484  0.062112\n",
       "97   14.55  3.073819 -0.412405  0.064896\n",
       "98   14.70  3.070317 -0.421718  0.067799\n",
       "99   14.85  3.066638 -0.431441  0.069303\n",
       "100  15.00  3.062775 -0.441591  0.072398"
      ]
     },
     "execution_count": 17,
     "metadata": {},
     "output_type": "execute_result"
    }
   ],
   "source": [
    "df = pd.read_csv('Traj_GTO2.csv')\n",
    "df.tail(5)"
   ]
  },
  {
   "cell_type": "code",
   "execution_count": 18,
   "metadata": {},
   "outputs": [],
   "source": [
    "thetas=df['theta'].values\n",
    "n=len(thetas)\n",
    "es=df['ReE'].values  + 1j*df['ImE'].values\n",
    "abs_der = df['der'].values\n",
    "plt.figure(1)\n",
    "plt.cla()\n",
    "plt.plot(es.real, es.imag, 'o')\n",
    "plt.figure(2)\n",
    "plt.cla()\n",
    "plt.plot(thetas, abs_der, 'o')\n",
    "#plt.yscale('log')\n",
    "plt.show()"
   ]
  },
  {
   "cell_type": "markdown",
   "metadata": {},
   "source": [
    "Find a minimum of $\\left\\lvert\\frac{dE}{d\\theta}\\right\\rvert$ for $\\theta > \\theta_0$."
   ]
  },
  {
   "cell_type": "code",
   "execution_count": 19,
   "metadata": {},
   "outputs": [
    {
     "name": "stdout",
     "output_type": "stream",
     "text": [
      "57 8.549999999999999\n",
      "(3.1284220434413696-0.25433977705120825j)\n",
      "(-0.0002508740648701213+0.0001061782544941603j)\n",
      "(0.00015478183371975263-0.0002870965433041661j)\n",
      "| 3.128422  | -0.254340 | 8.55 | 1.9e-03 |\n"
     ]
    }
   ],
   "source": [
    "theta0=6\n",
    "j0=np.argmin(np.abs(thetas-theta0))\n",
    "j_opt = j0 + np.argmin(abs_der[j0:])\n",
    "print(j_opt, thetas[j_opt])\n",
    "Eres = es[j_opt]\n",
    "print(Eres)\n",
    "print(es[j_opt-1]-Eres)\n",
    "print(es[j_opt+1]-Eres)\n",
    "format='| %.6f  | %.6f | %.2f | %.1e |'\n",
    "print(format % (Eres.real, Eres.imag, thetas[j_opt], abs_der[j_opt]))"
   ]
  },
  {
   "cell_type": "code",
   "execution_count": 29,
   "metadata": {},
   "outputs": [
    {
     "data": {
      "text/plain": [
       "array([0.06223039, 0.06194248, 0.06158344, 0.06117199, 0.06072853,\n",
       "       0.06027342, 0.05982557, 0.05940154, 0.05901507, 0.05867693,\n",
       "       0.05839513, 0.05817522, 0.05802065, 0.05793324, 0.05791349,\n",
       "       0.05796095, 0.05807448, 0.05825246, 0.058493  , 0.05879402,\n",
       "       0.0591534 , 0.05956902, 0.06003882, 0.06056085, 0.06113325,\n",
       "       0.06175431, 0.06242244, 0.06313619, 0.06389425, 0.06469543,\n",
       "       0.06553867, 0.06642301, 0.06734763, 0.06831177, 0.06931479,\n",
       "       0.07035612, 0.0714353 , 0.0725519 , 0.07370559, 0.07489608,\n",
       "       0.07612316, 0.07738664, 0.0786864 , 0.08002236, 0.08139448,\n",
       "       0.08280274, 0.08424717, 0.08572783, 0.08724479, 0.08801839,\n",
       "       0.08959003])"
      ]
     },
     "execution_count": 29,
     "metadata": {},
     "output_type": "execute_result"
    }
   ],
   "source": [
    "abs_der[j0:]"
   ]
  },
  {
   "cell_type": "code",
   "execution_count": null,
   "metadata": {},
   "outputs": [],
   "source": []
  }
 ],
 "metadata": {
  "kernelspec": {
   "display_name": "Python 3",
   "language": "python",
   "name": "python3"
  },
  "language_info": {
   "codemirror_mode": {
    "name": "ipython",
    "version": 3
   },
   "file_extension": ".py",
   "mimetype": "text/x-python",
   "name": "python",
   "nbconvert_exporter": "python",
   "pygments_lexer": "ipython3",
   "version": "3.8.8"
  }
 },
 "nbformat": 4,
 "nbformat_minor": 4
}
