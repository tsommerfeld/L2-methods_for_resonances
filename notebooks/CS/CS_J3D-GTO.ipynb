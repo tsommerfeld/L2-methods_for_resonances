{
 "cells": [
  {
   "cell_type": "markdown",
   "metadata": {},
   "source": [
    "### Complex scalilng with Gaussian basis sets"
   ]
  },
  {
   "cell_type": "code",
   "execution_count": 1,
   "metadata": {},
   "outputs": [],
   "source": [
    "show_plots=False"
   ]
  },
  {
   "cell_type": "code",
   "execution_count": 2,
   "metadata": {},
   "outputs": [],
   "source": [
    "import numpy as np\n",
    "from scipy.linalg import eig, eigh, eigvals, eigvalsh\n",
    "import matplotlib\n",
    "import matplotlib.pyplot as plt\n",
    "matplotlib.use('Qt5Agg')\n",
    "%matplotlib qt5\n",
    "import pandas as pd"
   ]
  },
  {
   "cell_type": "code",
   "execution_count": 27,
   "metadata": {},
   "outputs": [],
   "source": [
    "#\n",
    "#  extend path by location of the dvr package\n",
    "#\n",
    "import sys\n",
    "sys.path.append('../../Python_libs')\n",
    "from captools import simple_traj_der\n",
    "from GTO_basis import GBR\n",
    "from jolanta import Jolanta_3D"
   ]
  },
  {
   "cell_type": "code",
   "execution_count": 4,
   "metadata": {},
   "outputs": [],
   "source": [
    "amu_to_au=1822.888486192\n",
    "au2cm=219474.63068\n",
    "au2eV=27.211386027\n",
    "Angs2Bohr=1.8897259886"
   ]
  },
  {
   "cell_type": "code",
   "execution_count": 5,
   "metadata": {},
   "outputs": [],
   "source": [
    "#\n",
    "# Jolanata parameters a, b, c:\n",
    "#\n",
    "#   CS-DVR:   \n",
    "#      bound state:  -7.17051 eV\n",
    "#      resonance (3.1729556 - 0.16085j) eV\n",
    "#\n",
    "jparam=(0.028, 1.0, 0.028)"
   ]
  },
  {
   "cell_type": "markdown",
   "metadata": {},
   "source": [
    "* Create a valence set $[\\alpha_0, \\alpha_0/s, \\alpha_0/s^2, ..., \\alpha_N]$\n",
    "* Diagonalize **H** to compare with $E_0^{DVR}$\n",
    "* Add diffuse functions $[\\alpha_N/s_{df}, ...]$\n",
    "* Diagonalize **H** again"
   ]
  },
  {
   "cell_type": "code",
   "execution_count": 16,
   "metadata": {},
   "outputs": [
    {
     "name": "stdout",
     "output_type": "stream",
     "text": [
      "Traj_GTO_TZ.csv\n"
     ]
    }
   ],
   "source": [
    "sets=['GTO_unc', 'GTO_DZ', 'GTO_TZ']\n",
    "bas = sets[2]\n",
    "nval=10\n",
    "a0=17.0\n",
    "s=2\n",
    "ndf=4\n",
    "sdf=1.5\n",
    "if bas == 'GTO_unc':\n",
    "    contract = (0,0)\n",
    "elif bas == 'GTO_DZ':\n",
    "    contract = (1,1)  # one contracted, one uncontracted function\n",
    "elif bas == 'GTO_TZ':\n",
    "    contract = (1,2)  # one contracted, two uncontracted function\n",
    "else:\n",
    "    print('No such basis.')\n",
    "\n",
    "fname='Traj_' + bas + '.csv'\n",
    "print(fname)"
   ]
  },
  {
   "cell_type": "markdown",
   "metadata": {},
   "source": [
    "### Valence set\n",
    "Compare the bound state with DVR: $E_0 = -7.17051$ eV"
   ]
  },
  {
   "cell_type": "code",
   "execution_count": 26,
   "metadata": {},
   "outputs": [
    {
     "name": "stdout",
     "output_type": "stream",
     "text": [
      "E0 = -7.170439   Emax = 7.526354\n",
      "      alpha         r0=1/sqrt(alpha)     Norm\n",
      "   1.70000000e+01    2.42535625e-01    1.0070e+02\n",
      "   8.50000000e+00    3.42997170e-01    4.2341e+01\n",
      "   4.25000000e+00    4.85071250e-01    1.7802e+01\n",
      "   2.12500000e+00    6.85994341e-01    7.4848e+00\n",
      "   1.06250000e+00    9.70142500e-01    3.1470e+00\n",
      "   5.31250000e-01    1.37198868e+00    1.3231e+00\n",
      "   2.65625000e-01    1.94028500e+00    5.5631e-01\n",
      "   1.32812500e-01    2.74397736e+00    2.3390e-01\n",
      "   6.64062500e-02    3.88057000e+00    9.8343e-02\n",
      "   3.32031250e-02    5.48795472e+00    4.1348e-02\n"
     ]
    }
   ],
   "source": [
    "alpha_val=[a0]\n",
    "for i in range(nval-1):\n",
    "    alpha_val.append(alpha_val[-1]/s)\n",
    "Val = GBR(alpha_val, jparam, contract=contract, diffuse=(0,0))\n",
    "S, T, V = Val.STV()\n",
    "Es, cs = eigh(T+V, b=S)\n",
    "print(f'E0 = {Es[0]*au2eV:.6f}   Emax = {Es[-1]*au2eV:.6f}')\n",
    "Val.print_exp()\n",
    "\n",
    "if show_plots:\n",
    "    scale=10\n",
    "    xmax=15\n",
    "    xs=np.linspace(0.1,xmax,200)\n",
    "    Vs=Jolanta_3D(xs, jparam)\n",
    "    plt.cla()\n",
    "    plt.plot(xs,Vs*au2eV, '-', color=\"blue\")\n",
    "    for i in range(len(Es)):\n",
    "        ys=Val.eval_vector(cs[:,i], xs)\n",
    "        plt.plot(xs,scale*ys**2+Es[i]*au2eV, '-')\n",
    "    plt.ylim(-8,10)\n",
    "    plt.show()"
   ]
  },
  {
   "cell_type": "markdown",
   "metadata": {},
   "source": [
    "### Extend the basis by a diffuse set"
   ]
  },
  {
   "cell_type": "code",
   "execution_count": 18,
   "metadata": {},
   "outputs": [
    {
     "name": "stdout",
     "output_type": "stream",
     "text": [
      "E0 = -7.170445   Emax = 12.806117\n"
     ]
    }
   ],
   "source": [
    "Bas = GBR(alpha_val, jparam, contract=contract, diffuse=(ndf,sdf))\n",
    "S, T, V = Bas.STV()\n",
    "Es, cs = eigh(T+V, b=S)\n",
    "nEs = len(Es)\n",
    "print(f'E0 = {Es[0]*au2eV:.6f}   Emax = {Es[-1]*au2eV:.6f}')\n",
    "\n",
    "if show_plots:\n",
    "    Emax=10 # eV\n",
    "    plt.cla()\n",
    "    plt.plot(xs,Vs*au2eV, '-', color=\"blue\")\n",
    "    for i, E in enumerate(Es):\n",
    "        ys=Bas.eval_vector(cs[:,i], xs)\n",
    "        plt.plot(xs,scale*ys**2+E*au2eV, '-')\n",
    "        if E*au2eV > Emax:\n",
    "            break\n",
    "\n",
    "    plt.ylim(-10,Emax+1)\n",
    "    plt.show()"
   ]
  },
  {
   "cell_type": "markdown",
   "metadata": {},
   "source": [
    "***\n",
    "### CS\n",
    "Example for testing library. With:\n",
    "\n",
    "`nval=10, a0=17.0, s=2, ndf=4, sdf=1.5, theta = 10 deg`\n",
    "1. `(-7.171756, 0.000583)`\n",
    "2. `(0.327329, -0.171381)`\n",
    "3. `(1.228884, -0.692745)`\n",
    "4. `(3.165013, -0.147167)`\n",
    "5. `(3.431676, -1.806220)`"
   ]
  },
  {
   "cell_type": "code",
   "execution_count": 19,
   "metadata": {},
   "outputs": [],
   "source": [
    "if False:\n",
    "    theta=10.0/180.0*np.pi\n",
    "    print(\"theta = %f\" % (theta))\n",
    "    H_theta = Bas.H_theta(theta)\n",
    "    energies = eigvals(H_theta, b=S)\n",
    "    energies.sort()\n",
    "    energies*=au2eV\n",
    "    for e in energies:\n",
    "        print(\"(%f, %f)\" % (e.real, e.imag))"
   ]
  },
  {
   "cell_type": "markdown",
   "metadata": {},
   "source": [
    "### $\\theta$-run"
   ]
  },
  {
   "cell_type": "code",
   "execution_count": 20,
   "metadata": {},
   "outputs": [
    {
     "name": "stdout",
     "output_type": "stream",
     "text": [
      "1 2 3 4 5 6 7 8 9 10 \n",
      "11 12 13 14 15 16 17 18 19 20 \n",
      "21 22 23 24 25 26 27 28 29 30 \n",
      "31 32 33 34 35 36 37 38 39 40 \n",
      "41 42 43 44 45 46 47 48 49 50 \n",
      "51 52 53 54 55 56 57 58 59 60 \n",
      "61 62 63 64 65 66 67 68 69 70 \n",
      "71 72 73 74 75 76 77 78 79 80 \n",
      "81 82 83 84 85 86 87 88 89 90 \n",
      "91 92 93 94 95 96 97 98 99 100 \n",
      "101 "
     ]
    }
   ],
   "source": [
    "n_keep=nEs\n",
    "\n",
    "theta_min=0\n",
    "theta_max=16\n",
    "n_theta=101\n",
    "thetas=np.linspace(theta_min, theta_max, num=n_theta)\n",
    "run_data = np.zeros((n_theta,n_keep), complex)  # array used to collect all theta-run data\n",
    "\n",
    "for i, tdeg in enumerate(thetas):\n",
    "    theta = tdeg/180.0*np.pi\n",
    "    H_theta = Bas.H_theta(theta)\n",
    "    energies = au2eV * eigvals(H_theta, b=S)\n",
    "    energies.sort()\n",
    "    run_data[i,:] = energies[0:n_keep]\n",
    "    print(i+1, end=\" \")\n",
    "    if (i+1)%10==0:\n",
    "        print()"
   ]
  },
  {
   "cell_type": "markdown",
   "metadata": {},
   "source": [
    "Raw $\\eta$ trajectories"
   ]
  },
  {
   "cell_type": "code",
   "execution_count": 21,
   "metadata": {},
   "outputs": [],
   "source": [
    "plt.cla()\n",
    "for i in range(0, n_keep):\n",
    "    plt.plot(run_data[:,i].real,  run_data[:,i].imag, 'o')\n",
    "plt.xlim(0,8)\n",
    "plt.ylim(-2,0.5)\n",
    "plt.show()"
   ]
  },
  {
   "cell_type": "markdown",
   "metadata": {},
   "source": [
    "Get the resonance trajectory by naive nearest follow"
   ]
  },
  {
   "cell_type": "code",
   "execution_count": 22,
   "metadata": {},
   "outputs": [],
   "source": [
    "#follow=3.7\n",
    "follow=3.0\n",
    "es=np.zeros(n_theta,complex)\n",
    "\n",
    "for j in range(0,n_theta):\n",
    "    i = np.argmin(abs(run_data[j,:]-follow))\n",
    "    es[j] = run_data[j,i]\n",
    "    follow = es[j]\n",
    "plt.cla()\n",
    "plt.ylim(-1,0.0)\n",
    "plt.plot(es.real, es.imag, 'o-')\n",
    "plt.show()"
   ]
  },
  {
   "cell_type": "code",
   "execution_count": 23,
   "metadata": {},
   "outputs": [],
   "source": [
    "abs_der = np.abs(simple_traj_der(thetas, es))\n",
    "plt.cla()\n",
    "plt.plot(thetas, np.log10(abs_der), 'o-')\n",
    "plt.xlabel(r'$\\theta$ [deg.]')\n",
    "plt.ylabel(r'$\\log \\vert dE/d \\theta{} \\vert $')\n",
    "plt.show()"
   ]
  },
  {
   "cell_type": "code",
   "execution_count": 24,
   "metadata": {},
   "outputs": [],
   "source": [
    "df = pd.DataFrame({\"theta\": thetas, \n",
    "                   \"ReE\":es.real, \n",
    "                   \"ImE\":es.imag,\n",
    "                   \"der\": abs_der})\n",
    "fname = 'Traj_' + bas + '.csv'\n",
    "df.to_csv(fname, index=False)"
   ]
  },
  {
   "cell_type": "markdown",
   "metadata": {},
   "source": [
    "## Use the box below or the Traj-analysis notebook\n",
    "\n",
    "### DVR reference value\n",
    "* (3.1729556212701966-0.16084889558781004j)\n",
    "* derivative:   (-1.4354245561065682e-06+2.766522097519264e-08j)\n",
    "* 1 deg change: (1.4358934654623567e-06+6.092757803832782e-08j)"
   ]
  },
  {
   "cell_type": "code",
   "execution_count": 25,
   "metadata": {},
   "outputs": [
    {
     "name": "stdout",
     "output_type": "stream",
     "text": [
      "29 4.64\n",
      "(3.099076491793533-0.06820716073493643j)\n",
      "(6.816480375926304e-05+0.0004275374599530396j)\n",
      "(-0.00024872015692078975-0.0003456555770968983j)\n",
      "| 3.099076  | -0.068207 | 4.64 | 2.6e-03 |\n"
     ]
    }
   ],
   "source": [
    "j_opt = np.argmin(abs_der)\n",
    "print(j_opt, thetas[j_opt])\n",
    "Eres = es[j_opt]\n",
    "print(Eres)\n",
    "print(es[j_opt-1]-Eres)\n",
    "print(es[j_opt+1]-Eres)\n",
    "format='| %.6f  | %.6f | %.2f | %.1e |'\n",
    "print(format % (Eres.real, Eres.imag, thetas[j_opt], abs_der[j_opt]))"
   ]
  },
  {
   "cell_type": "code",
   "execution_count": null,
   "metadata": {},
   "outputs": [],
   "source": []
  },
  {
   "cell_type": "code",
   "execution_count": null,
   "metadata": {},
   "outputs": [],
   "source": []
  }
 ],
 "metadata": {
  "kernelspec": {
   "display_name": "Python 3",
   "language": "python",
   "name": "python3"
  },
  "language_info": {
   "codemirror_mode": {
    "name": "ipython",
    "version": 3
   },
   "file_extension": ".py",
   "mimetype": "text/x-python",
   "name": "python",
   "nbconvert_exporter": "python",
   "pygments_lexer": "ipython3",
   "version": "3.8.8"
  }
 },
 "nbformat": 4,
 "nbformat_minor": 4
}
