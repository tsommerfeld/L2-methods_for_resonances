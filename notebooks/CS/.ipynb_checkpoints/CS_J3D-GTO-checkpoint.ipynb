{
 "cells": [
  {
   "cell_type": "markdown",
   "metadata": {},
   "source": [
    "### CS/GTO: step 1 and 2"
   ]
  },
  {
   "cell_type": "code",
   "execution_count": 1,
   "metadata": {},
   "outputs": [],
   "source": [
    "show_plots=False"
   ]
  },
  {
   "cell_type": "code",
   "execution_count": 2,
   "metadata": {},
   "outputs": [],
   "source": [
    "import numpy as np\n",
    "from scipy.linalg import eig, eigh, eigvals, eigvalsh\n",
    "from scipy.optimize import minimize\n",
    "import matplotlib\n",
    "import matplotlib.pyplot as plt\n",
    "matplotlib.use('Qt5Agg')\n",
    "%matplotlib qt5\n",
    "import pandas as pd"
   ]
  },
  {
   "cell_type": "code",
   "execution_count": 3,
   "metadata": {},
   "outputs": [],
   "source": [
    "#\n",
    "#  extend path by location of the dvr package\n",
    "#\n",
    "import sys\n",
    "sys.path.append('../../Python_libs')\n",
    "from captools import simple_traj_der, five_point_derivative \n",
    "from GTO_basis import GBR\n",
    "from jolanta import Jolanta_3D"
   ]
  },
  {
   "cell_type": "code",
   "execution_count": 4,
   "metadata": {},
   "outputs": [],
   "source": [
    "amu_to_au=1822.888486192\n",
    "au2cm=219474.63068\n",
    "au2eV=27.211386027\n",
    "Angs2Bohr=1.8897259886"
   ]
  },
  {
   "cell_type": "code",
   "execution_count": 5,
   "metadata": {},
   "outputs": [],
   "source": [
    "#\n",
    "# Jolanata parameters a, b, c:\n",
    "#\n",
    "#   CS-DVR:   \n",
    "#      bound state:  -7.17051 eV\n",
    "#      resonance (3.1729556 - 0.16085j) eV\n",
    "#\n",
    "jparam=(0.028, 1.0, 0.028)"
   ]
  },
  {
   "cell_type": "markdown",
   "metadata": {},
   "source": [
    "* Create a valence set $[\\alpha_0, \\alpha_0/s, \\alpha_0/s^2, ..., \\alpha_N]$\n",
    "* Diagonalize **H** to compare with $E_0^{DVR}$\n",
    "* Add diffuse functions $[\\alpha_N/s_{df}, ...]$\n",
    "* Diagonalize **H** again"
   ]
  },
  {
   "cell_type": "code",
   "execution_count": 6,
   "metadata": {},
   "outputs": [
    {
     "name": "stdout",
     "output_type": "stream",
     "text": [
      "Traj_GTO_unc.csv\n"
     ]
    }
   ],
   "source": [
    "sets=['GTO_unc', 'GTO_DZ', 'GTO_TZ']\n",
    "bas = sets[0]\n",
    "nval=10\n",
    "a0=17.0\n",
    "s=2\n",
    "ndf=4\n",
    "sdf=1.5\n",
    "if bas == 'GTO_unc':\n",
    "    contract = (0,0)\n",
    "elif bas == 'GTO_DZ':\n",
    "    contract = (1,1)  # one contracted, one uncontracted function\n",
    "elif bas == 'GTO_TZ':\n",
    "    contract = (1,2)  # one contracted, two uncontracted function\n",
    "else:\n",
    "    print('No such basis.')\n",
    "\n",
    "fname='Traj_' + bas + '.csv'\n",
    "print(fname)"
   ]
  },
  {
   "cell_type": "markdown",
   "metadata": {},
   "source": [
    "### Valence set\n",
    "Compare the bound state with DVR: $E_0 = -7.17051$ eV"
   ]
  },
  {
   "cell_type": "code",
   "execution_count": 7,
   "metadata": {},
   "outputs": [
    {
     "name": "stdout",
     "output_type": "stream",
     "text": [
      "E0 = -7.170439   Emax = 2419.320761\n",
      "      alpha         r0=1/sqrt(alpha)     Norm\n",
      "   1.70000000e+01    2.42535625e-01    1.0070e+02\n",
      "   8.50000000e+00    3.42997170e-01    4.2341e+01\n",
      "   4.25000000e+00    4.85071250e-01    1.7802e+01\n",
      "   2.12500000e+00    6.85994341e-01    7.4848e+00\n",
      "   1.06250000e+00    9.70142500e-01    3.1470e+00\n",
      "   5.31250000e-01    1.37198868e+00    1.3231e+00\n",
      "   2.65625000e-01    1.94028500e+00    5.5631e-01\n",
      "   1.32812500e-01    2.74397736e+00    2.3390e-01\n",
      "   6.64062500e-02    3.88057000e+00    9.8343e-02\n",
      "   3.32031250e-02    5.48795472e+00    4.1348e-02\n"
     ]
    }
   ],
   "source": [
    "alpha_val=[a0]\n",
    "for i in range(nval-1):\n",
    "    alpha_val.append(alpha_val[-1]/s)\n",
    "Val = GBR(alpha_val, jparam, contract=contract, diffuse=(0,0))\n",
    "S, T, V = Val.STV()\n",
    "Es, cs = eigh(T+V, b=S)\n",
    "print(f'E0 = {Es[0]*au2eV:.6f}   Emax = {Es[-1]*au2eV:.6f}')\n",
    "Val.print_exp()\n",
    "\n",
    "if show_plots:\n",
    "    scale=10\n",
    "    xmax=15\n",
    "    xs=np.linspace(0.1,xmax,200)\n",
    "    Vs=Jolanta_3D(xs, jparam)\n",
    "    plt.cla()\n",
    "    plt.plot(xs,Vs*au2eV, '-', color=\"blue\")\n",
    "    for i in range(len(Es)):\n",
    "        ys=Val.eval_vector(cs[:,i], xs)\n",
    "        plt.plot(xs,scale*ys**2+Es[i]*au2eV, '-')\n",
    "    plt.ylim(-8,10)\n",
    "    plt.show()"
   ]
  },
  {
   "cell_type": "markdown",
   "metadata": {},
   "source": [
    "### Extend the basis by a diffuse set"
   ]
  },
  {
   "cell_type": "code",
   "execution_count": 8,
   "metadata": {},
   "outputs": [
    {
     "name": "stdout",
     "output_type": "stream",
     "text": [
      "E0 = -7.170447   Emax = 2421.905980\n"
     ]
    }
   ],
   "source": [
    "Bas = GBR(alpha_val, jparam, contract=contract, diffuse=(ndf,sdf))\n",
    "S, T, V = Bas.STV()\n",
    "Es, cs = eigh(T+V, b=S)\n",
    "nEs = len(Es)\n",
    "print(f'E0 = {Es[0]*au2eV:.6f}   Emax = {Es[-1]*au2eV:.6f}')\n",
    "\n",
    "if show_plots:\n",
    "    Emax=10 # eV\n",
    "    plt.cla()\n",
    "    plt.plot(xs,Vs*au2eV, '-', color=\"blue\")\n",
    "    for i, E in enumerate(Es):\n",
    "        ys=Bas.eval_vector(cs[:,i], xs)\n",
    "        plt.plot(xs,scale*ys**2+E*au2eV, '-')\n",
    "        if E*au2eV > Emax:\n",
    "            break\n",
    "\n",
    "    plt.ylim(-10,Emax+1)\n",
    "    plt.show()"
   ]
  },
  {
   "cell_type": "markdown",
   "metadata": {},
   "source": [
    "***\n",
    "### CS\n",
    "Example for testing library. With:\n",
    "\n",
    "`nval=10, a0=17.0, s=2, ndf=4, sdf=1.5, theta = 10 deg`\n",
    "1. `(-7.171756, 0.000583)`\n",
    "2. `(0.327329, -0.171381)`\n",
    "3. `(1.228884, -0.692745)`\n",
    "4. `(3.165013, -0.147167)`\n",
    "5. `(3.431676, -1.806220)`"
   ]
  },
  {
   "cell_type": "code",
   "execution_count": 9,
   "metadata": {},
   "outputs": [
    {
     "name": "stdout",
     "output_type": "stream",
     "text": [
      "theta = 0.139626\n",
      "(-7.171084, 0.000342)\n",
      "(0.344332, -0.140453)\n",
      "(1.304015, -0.565986)\n",
      "(3.152077, -0.151021)\n",
      "(3.591431, -1.412265)\n",
      "(7.487083, -2.093086)\n",
      "(12.154227, -3.213948)\n",
      "(21.924637, -7.105574)\n",
      "(47.856322, -17.015877)\n",
      "(108.475496, -36.285772)\n",
      "(236.367357, -74.120776)\n",
      "(500.570665, -150.587619)\n",
      "(1056.707013, -310.511939)\n",
      "(2326.966794, -675.120632)\n"
     ]
    }
   ],
   "source": [
    "if True:\n",
    "    theta=8.0/180.0*np.pi\n",
    "    print(\"theta = %f\" % (theta))\n",
    "    H_theta = Bas.H_theta(theta+0.00005, 1.00000)\n",
    "    energies = eigvals(H_theta, b=S)\n",
    "    energies.sort()\n",
    "    energies*=au2eV\n",
    "    for e in energies:\n",
    "        print(\"(%f, %f)\" % (e.real, e.imag))"
   ]
  },
  {
   "cell_type": "markdown",
   "metadata": {},
   "source": [
    "### $\\theta$-run"
   ]
  },
  {
   "cell_type": "code",
   "execution_count": 10,
   "metadata": {},
   "outputs": [
    {
     "name": "stdout",
     "output_type": "stream",
     "text": [
      "1 2 3 4 5 6 7 8 9 10 \n",
      "11 12 13 14 15 16 17 18 19 20 \n",
      "21 22 23 24 25 26 27 28 29 30 \n",
      "31 32 33 34 35 36 37 38 39 40 \n",
      "41 42 43 44 45 46 47 48 49 50 \n",
      "51 52 53 54 55 56 57 58 59 60 \n",
      "61 62 63 64 65 66 67 68 69 70 \n",
      "71 72 73 74 75 76 77 78 79 80 \n",
      "81 82 83 84 85 86 87 88 89 90 \n",
      "91 92 93 94 95 96 97 98 99 100 \n",
      "101 "
     ]
    }
   ],
   "source": [
    "n_keep=nEs\n",
    "\n",
    "theta_min=0\n",
    "theta_max=16\n",
    "n_theta=101\n",
    "thetas=np.linspace(theta_min, theta_max, num=n_theta)\n",
    "run_data = np.zeros((n_theta,n_keep), complex)  # array used to collect all theta-run data\n",
    "\n",
    "for i, tdeg in enumerate(thetas):\n",
    "    theta = tdeg/180.0*np.pi\n",
    "    H_theta = Bas.H_theta(theta, 1.0)\n",
    "    energies = au2eV * eigvals(H_theta, b=S)\n",
    "    energies.sort()\n",
    "    run_data[i,:] = energies[0:n_keep]\n",
    "    print(i+1, end=\" \")\n",
    "    if (i+1)%10==0:\n",
    "        print()"
   ]
  },
  {
   "cell_type": "markdown",
   "metadata": {},
   "source": [
    "Raw $\\eta$ trajectories"
   ]
  },
  {
   "cell_type": "code",
   "execution_count": 11,
   "metadata": {},
   "outputs": [],
   "source": [
    "plt.cla()\n",
    "for i in range(0, n_keep):\n",
    "    plt.plot(run_data[:,i].real,  run_data[:,i].imag, 'o')\n",
    "plt.xlim(0,8)\n",
    "plt.ylim(-2,0.5)\n",
    "plt.show()"
   ]
  },
  {
   "cell_type": "markdown",
   "metadata": {},
   "source": [
    "Get the resonance trajectory by naive nearest follow\n",
    "\n",
    "We start with the energy nearest `follow` "
   ]
  },
  {
   "cell_type": "code",
   "execution_count": 12,
   "metadata": {},
   "outputs": [],
   "source": [
    "#follow=3.7\n",
    "follow=3.0\n",
    "es=np.zeros(n_theta,complex)\n",
    "\n",
    "for j in range(0,n_theta):\n",
    "    i = np.argmin(abs(run_data[j,:]-follow))\n",
    "    es[j] = run_data[j,i]\n",
    "    follow = es[j]\n",
    "plt.cla()\n",
    "plt.ylim(-1,0.0)\n",
    "plt.plot(es.real, es.imag, 'o-')\n",
    "plt.show()"
   ]
  },
  {
   "cell_type": "code",
   "execution_count": 13,
   "metadata": {},
   "outputs": [],
   "source": [
    "abs_der = np.abs(simple_traj_der(thetas, es))\n",
    "plt.cla()\n",
    "plt.plot(thetas, np.log10(abs_der), 'o-')\n",
    "plt.xlabel(r'$\\theta$ [deg.]')\n",
    "plt.ylabel(r'$\\log \\vert dE/d \\theta{} \\vert $')\n",
    "plt.show()"
   ]
  },
  {
   "cell_type": "code",
   "execution_count": 14,
   "metadata": {},
   "outputs": [],
   "source": [
    "df = pd.DataFrame({\"theta\": thetas, \n",
    "                   \"ReE\":es.real, \n",
    "                   \"ImE\":es.imag,\n",
    "                   \"der\": abs_der})\n",
    "fname = 'Traj_' + bas + '.csv'\n",
    "df.to_csv(fname, index=False)"
   ]
  },
  {
   "cell_type": "markdown",
   "metadata": {},
   "source": [
    "Energy, $\\theta_{opt} $, and stability for $\\alpha=1$"
   ]
  },
  {
   "cell_type": "code",
   "execution_count": 24,
   "metadata": {},
   "outputs": [
    {
     "name": "stdout",
     "output_type": "stream",
     "text": [
      "theta_opt 11.040000000000001\n",
      "E_res (3.1692295664154315-0.14411821624242616j)\n",
      "dE/dtheta 0.004881233243806652\n",
      "delta-E down (-0.0005794423188767439-0.0005237844928482893j)\n",
      "delta-E up   (0.0005591583569932723+0.0005466002429930505j)\n"
     ]
    }
   ],
   "source": [
    "j_opt = np.argmin(abs_der)\n",
    "if j_opt == len(thetas)-1:\n",
    "    j_opt -= 1\n",
    "theta_opt = thetas[j_opt]\n",
    "Eres=es[j_opt]\n",
    "print('theta_opt', thetas[j_opt])\n",
    "print('E_res', Eres)\n",
    "print('dE/dtheta', abs_der[j_opt])\n",
    "print('delta-E down', es[j_opt-1]-es[j_opt])\n",
    "print('delta-E up  ', es[j_opt+1]-es[j_opt])"
   ]
  },
  {
   "cell_type": "markdown",
   "metadata": {},
   "source": [
    "### Don't optimize $\\eta=\\alpha\\,\\exp(i\\theta)$\n",
    "\n",
    "**For GTOs the primitive numerical derivative is unstable.**"
   ]
  },
  {
   "cell_type": "code",
   "execution_count": 28,
   "metadata": {},
   "outputs": [],
   "source": [
    "def objective(eta, dx, E_near, verbose=False):\n",
    "    \"\"\"\n",
    "    Input: \n",
    "        eta: (alpha, theta); z = alpha*exp(i*theta)\n",
    "        dx:  numerical derivatives using z +/- dx or idx\n",
    "        E_near: select the eigenvalue nearest to this energy  \n",
    "    Output: \n",
    "        dE/dz along Re(z), dE/dz along Im(z) for the state near E_near\n",
    "    This requires four single points.\n",
    "    \"\"\"\n",
    "    a, t = eta\n",
    "    z0 = a*np.exp(1j*t)\n",
    "    es = np.zeros(2, complex)\n",
    "    zs = np.array([z0-dx, z0+dx])\n",
    "    for i, z in enumerate(zs):\n",
    "        a, t = np.abs(z), np.angle(z)\n",
    "        es[i] = near_E(a, t, E_near)\n",
    "    dEdz_re = (es[1] - es[0])/(2*dx)\n",
    "    zs = [z0-1j*dx, z0+1j*dx]\n",
    "    for i, z in enumerate(zs):\n",
    "        a, t = np.abs(z), np.angle(z)\n",
    "        es[i] = near_E(a, t, E_near)\n",
    "    dEdz_im = (es[1] - es[0])/(2j*dx)\n",
    "    if verbose:\n",
    "        print(dEdz_re)\n",
    "        print(dEdz_im)\n",
    "    return np.abs(0.5*(dEdz_re + dEdz_im)) \n",
    "\n",
    "def ECS(alpha, theta):\n",
    "    \"\"\" diag H(alpha*exp(i*theta)) and return eigenvalues \"\"\"\n",
    "    H_theta = Bas.H_theta(theta, alpha)\n",
    "    return eigvals(H_theta, b=S)\n",
    "\n",
    "def near_E(alpha, theta, E_near):\n",
    "    \"\"\" diag H(alpha*exp(i*theta)) and return eigenvalue near E_near \"\"\"\n",
    "    Es = ECS(alpha, theta)\n",
    "    j = np.argmin(np.abs(Es - E_near))\n",
    "    return Es[j]"
   ]
  },
  {
   "cell_type": "code",
   "execution_count": 32,
   "metadata": {},
   "outputs": [
    {
     "name": "stdout",
     "output_type": "stream",
     "text": [
      "(-0.05026468491142744-1.9077031085368823j)\n",
      "(-0.2706172373061824+0.996945859327504j)\n"
     ]
    },
    {
     "data": {
      "text/plain": [
       "0.4828156933534529"
      ]
     },
     "execution_count": 32,
     "metadata": {},
     "output_type": "execute_result"
    }
   ],
   "source": [
    "alpha_curr=1.0\n",
    "theta_curr=theta_opt/180.0*np.pi\n",
    "dx=0.001\n",
    "E_find = Eres/au2eV\n",
    "objective((alpha_curr, theta_curr), dx, E_find, verbose=True)"
   ]
  },
  {
   "cell_type": "code",
   "execution_count": 33,
   "metadata": {},
   "outputs": [
    {
     "name": "stdout",
     "output_type": "stream",
     "text": [
      "p0= [1.0, 0.19268434942017398]\n",
      "Eres0= (3.1692295664154315-0.14411821624242616j)\n",
      "f0= 0.4828156933534529\n",
      "Optimization terminated successfully.\n",
      "[1.15969003 0.20451713]\n",
      "0.0246259033514554\n",
      "Eres= (3.64741613569381+0.8421105067721848j)\n",
      "Energy change= (0.47818656927837866+0.986228723014611j)\n"
     ]
    }
   ],
   "source": [
    "args=(dx, E_find)\n",
    "p0=[alpha_curr, theta_curr]\n",
    "print('p0=', p0)\n",
    "print('Eres0=', near_E(alpha_curr, theta_curr, E_find)*au2eV)\n",
    "print('f0=', objective(p0, dx, E_find))\n",
    "res=minimize(objective, p0, args=args, method='Nelder-Mead')\n",
    "print(res.message)\n",
    "print(res.x)\n",
    "print(res.fun)\n",
    "Eopt=near_E(res.x[0], res.x[1], E_find)*au2eV\n",
    "print('Eres=', Eopt)\n",
    "print('Energy change=', Eopt-Eres)"
   ]
  },
  {
   "cell_type": "code",
   "execution_count": null,
   "metadata": {},
   "outputs": [],
   "source": []
  }
 ],
 "metadata": {
  "kernelspec": {
   "display_name": "Python 3",
   "language": "python",
   "name": "python3"
  },
  "language_info": {
   "codemirror_mode": {
    "name": "ipython",
    "version": 3
   },
   "file_extension": ".py",
   "mimetype": "text/x-python",
   "name": "python",
   "nbconvert_exporter": "python",
   "pygments_lexer": "ipython3",
   "version": "3.8.8"
  }
 },
 "nbformat": 4,
 "nbformat_minor": 4
}
