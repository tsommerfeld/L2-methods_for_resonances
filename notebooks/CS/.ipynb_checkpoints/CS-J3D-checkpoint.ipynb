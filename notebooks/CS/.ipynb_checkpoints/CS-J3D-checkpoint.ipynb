{
 "cells": [
  {
   "cell_type": "code",
   "execution_count": 2,
   "metadata": {},
   "outputs": [],
   "source": [
    "import numpy as np\n",
    "from numpy.linalg import eigvals\n",
    "import matplotlib\n",
    "import matplotlib.pyplot as plt\n",
    "matplotlib.use('Qt5Agg')\n",
    "%matplotlib qt5\n",
    "import pandas as pd"
   ]
  },
  {
   "cell_type": "code",
   "execution_count": 3,
   "metadata": {},
   "outputs": [],
   "source": [
    "#\n",
    "#  extend path by location of the dvr package\n",
    "#\n",
    "import sys\n",
    "sys.path.append('/home/thomas/Current_Work/Jolanta-by-dvr/Python_libs')\n",
    "import dvr\n",
    "from jolanta import Jolanta_1Db\n",
    "import read_write"
   ]
  },
  {
   "cell_type": "code",
   "execution_count": 4,
   "metadata": {},
   "outputs": [],
   "source": [
    "amu_to_au=1822.888486192\n",
    "au2cm=219474.63068\n",
    "au2eV=27.211386027\n",
    "Angs2Bohr=1.8897259886"
   ]
  },
  {
   "cell_type": "code",
   "execution_count": 58,
   "metadata": {},
   "outputs": [],
   "source": [
    "#\n",
    "#   jparam=(0.2, 0.6, 0.14):    Eres = (6.699621036628718-0.5542519532286214j)   error=1e-9\n",
    "#   jparam=(0.2, 0.7, 0.14):    Eres = (5.001593230564798-0.35788290488286384j)\n",
    "#   jparam=(0.2, 0.8, 0.14):    Eres = (3.279526396851306-0.207971322889114j)\n",
    "#   jparam=(0.15, 0.8, 0.14):   Eres = (0.8696689855466049-0.14183784022465826j)\n",
    "#   jparam=(0.15, 0.8, 0.15):   Eres = (0.8121415543147166-0.19248020878123678j)"
   ]
  },
  {
   "cell_type": "code",
   "execution_count": 82,
   "metadata": {},
   "outputs": [],
   "source": [
    "#\n",
    "# Jolanata parameters a, b, c:\n",
    "#\n",
    "jparam=(0.15, 0.8, 0.14)"
   ]
  },
  {
   "cell_type": "code",
   "execution_count": 83,
   "metadata": {},
   "outputs": [
    {
     "name": "stdout",
     "output_type": "stream",
     "text": [
      "nGrid = 750\n",
      "  1   -0.48156660 au =    -13.10409 eV\n",
      "  2    0.01035432 au =      0.28176 eV\n",
      "  3    0.01108732 au =      0.30170 eV\n",
      "  4    0.03007783 au =      0.81846 eV\n",
      "  5    0.04382380 au =      1.19251 eV\n",
      "  6    0.04991074 au =      1.35814 eV\n",
      "  7    0.09652059 au =      2.62646 eV\n",
      "  8    0.10206124 au =      2.77723 eV\n",
      "  9    0.16582669 au =      4.51237 eV\n",
      " 10    0.17542258 au =      4.77349 eV\n",
      " 11    0.24595867 au =      6.69288 eV\n",
      " 12    0.26622767 au =      7.24442 eV\n"
     ]
    }
   ],
   "source": [
    "#\n",
    "#  compute DVR of T and V\n",
    "#  then show the density of states\n",
    "#  in a potential + energy-levels plot\n",
    "#\n",
    "xmax=25\n",
    "xmin=-xmax   # grid from -xmin to xmax\n",
    "thresh = 7   # maximum energy for state in the plot in eV\n",
    "ppB = 15     # grid points per Bohr\n",
    "\n",
    "nGrid=int((xmax-xmin)*ppB)\n",
    "print(\"nGrid = %d\" % nGrid)\n",
    "xs = dvr.DVRGrid(xmin, xmax, nGrid)\n",
    "Vs = Jolanta_1Db(xs, jparam)\n",
    "Ts = dvr.KineticEnergy(1, xmin, xmax, nGrid)\n",
    "[energy, wf] = dvr.DVRDiag2(nGrid, Ts, Vs)\n",
    "\n",
    "n_ene=0\n",
    "for i in range(nGrid):\n",
    "    print(\"%3d  %12.8f au = %12.5f eV\" % (i+1, energy[i], energy[i]*au2eV))\n",
    "    n_ene += 1\n",
    "    if energy[i]*au2eV > thresh:\n",
    "        break\n",
    "\n",
    "# \"DVR normalization\", sum(wf[:,0]**2)\n",
    "# this is correct for plotting\n",
    "\n",
    "c=[\"orange\", \"blue\"]\n",
    "#h=float(xmax) / (nGrid+1.0)\n",
    "scale=150\n",
    "\n",
    "plt.cla()\n",
    "plt.plot(xs,Vs*au2eV, '-', color=\"black\")\n",
    "for i in range(n_ene):\n",
    "    plt.plot(xs, scale*wf[:,i]**2+energy[i]*au2eV, '-', color=c[i%len(c)])\n",
    "plt.ylim(energy[0]*au2eV-1, energy[n_ene-1]*au2eV+1)\n",
    "plt.xlabel('$x$ [Bohr]')\n",
    "plt.ylabel('$E$ [eV]')\n",
    "plt.show()"
   ]
  },
  {
   "cell_type": "code",
   "execution_count": 84,
   "metadata": {},
   "outputs": [
    {
     "name": "stdout",
     "output_type": "stream",
     "text": [
      "theta = 0.436332\n"
     ]
    },
    {
     "data": {
      "text/plain": [
       "(-2.0, 0.5)"
      ]
     },
     "execution_count": 84,
     "metadata": {},
     "output_type": "execute_result"
    }
   ],
   "source": [
    "\"\"\" complex diagonalization example \"\"\"\n",
    "\n",
    "theta=25.0/180.0*np.pi\n",
    "print(\"theta = %f\" % (theta))\n",
    "Vs = Jolanta_1Db(xs*np.exp(1j*complex(theta)), jparam)\n",
    "H_theta = np.exp(-2j*complex(theta)) * Ts + np.diag(Vs)\n",
    "energies = eigvals(H_theta)\n",
    "energies.sort()\n",
    "energies[:20]*au2eV\n",
    "plt.cla()\n",
    "plt.plot(energies.real*au2eV, energies.imag*au2eV, 'o')\n",
    "plt.xlim(-8,10)\n",
    "plt.ylim(-2,0.5)"
   ]
  },
  {
   "cell_type": "markdown",
   "metadata": {},
   "source": [
    "For small $\\theta$ everything is fine, but for larger angles basis set artifacts become apparent = there are eigenvalues off the rotation string with small real and hige imaginary part. Thus, above some $\\theta$, sorting the eigenvalue by low real part stops working as a filter. "
   ]
  },
  {
   "cell_type": "code",
   "execution_count": 85,
   "metadata": {},
   "outputs": [
    {
     "name": "stdout",
     "output_type": "stream",
     "text": [
      "1 2 3 4 5 6 7 8 9 10 \n",
      "11 12 13 14 15 16 17 18 19 20 \n",
      "21 22 23 24 25 26 27 28 29 30 \n",
      "31 32 33 34 35 36 37 38 39 40 \n",
      "41 "
     ]
    }
   ],
   "source": [
    "#\n",
    "#  complex scaling loop: \n",
    "#\n",
    "#  start on the real axis (theta=0) and rotate to theta = theta_max \n",
    "#\n",
    "#  we keep n_keep energies with the lowest real part \n",
    "#\n",
    "\n",
    "n_keep=30\n",
    "theta_min=0\n",
    "theta_max=40\n",
    "n_theta=theta_max - theta_min + 1\n",
    "thetas=[t for t in range(theta_min, theta_max+1)]\n",
    "\n",
    "run_data = np.zeros((n_theta,n_keep), complex)  # array used to collect all theta-run data\n",
    "#run_data = np.zeros((n_keep,n_theta), complex)  # array used to collect all theta-run data\n",
    "\n",
    "for i_theta in range(n_theta):\n",
    "    theta=thetas[i_theta]/180.0*np.pi\n",
    "    Vs = Jolanta_1Db(xs*np.exp(1j*complex(theta)), jparam)\n",
    "    H_theta = np.exp(-2j*complex(theta)) * Ts + np.diag(Vs)\n",
    "    energies = eigvals(H_theta)\n",
    "    energies.sort()\n",
    "    run_data[i_theta,:] = energies[0:n_keep]\n",
    "    #run_data[:,i_theta] = energies[0:n_keep]\n",
    "    print(i_theta+1, end=\" \")\n",
    "    if (i_theta+1)%10==0:\n",
    "        print()\n",
    "\n",
    "run_data *= au2eV"
   ]
  },
  {
   "cell_type": "code",
   "execution_count": 87,
   "metadata": {},
   "outputs": [],
   "source": [
    "#\n",
    "# useful piece of the complex plane \n",
    "# (if unknown, plot all and zoom with matplotlib)\n",
    "#\n",
    "plt.cla()\n",
    "for i in range(0, n_keep):\n",
    "    plt.plot(run_data[:,i].real,  run_data[:,i].imag, 'o')\n",
    "plt.xlim(-1,10)\n",
    "plt.ylim(-1,0)\n",
    "plt.show()"
   ]
  },
  {
   "cell_type": "code",
   "execution_count": 88,
   "metadata": {},
   "outputs": [],
   "source": [
    "#\n",
    "#\n",
    "#  two follow ideas:\n",
    "#\n",
    "#   - at the last theta compute the angles and compare with 2*theta\n",
    "#     if significantly smaller, then resonance\n",
    "#\n",
    "#   - once a trajectory has five values, use them\n",
    "#     to establish a Pade[2,2]\n",
    "#     then predict for the next theta\n",
    "#\n",
    "def follow_nearest(follow, es):\n",
    "    \"\"\"\n",
    "    follow the energy closet to e0 from the real axis into the complex plane\n",
    "    es is a table of theta-run data es[i_theta,j_energies]\n",
    "    the algorithm used is simply nearest to the old energy\n",
    "    \"\"\"\n",
    "    (n_thetas, n_energies) = es.shape\n",
    "    trajectory = np.zeros(n_thetas,complex)\n",
    "    for j in range(0,n_thetas):\n",
    "        i = np.argmin(abs(es[j,:]-follow))\n",
    "        follow = trajectory[j] = es[j,i]\n",
    "    return trajectory"
   ]
  },
  {
   "cell_type": "code",
   "execution_count": 89,
   "metadata": {},
   "outputs": [],
   "source": [
    "n_save = n_keep//2\n",
    "trajectories = np.zeros((n_theta, n_save), complex)\n",
    "for j in range(n_save):\n",
    "    trajectories[:,j] = follow_nearest(run_data[0,j], run_data)\n",
    "for i in range(0, n_save):\n",
    "    plt.plot(trajectories[:,i].real,  trajectories[:,i].imag, '-')\n",
    "plt.show()"
   ]
  },
  {
   "cell_type": "code",
   "execution_count": 90,
   "metadata": {},
   "outputs": [],
   "source": [
    "#\n",
    "#  save n_save trajectories to file\n",
    "#  csv as real and imag \n",
    "#  (at the moment easier than csv with complex)\n",
    "#  also, include no header, because the energies need to be sorted\n",
    "#  into trajectories first\n",
    "#\n",
    "#fname=\"complex_scaling_rmax.\"+str(int(rmax))+\"_ppB.\"+str(ppB)+\".csv\"\n",
    "#read_write.write_theta_run(fname,thetas,trajectories)"
   ]
  },
  {
   "cell_type": "code",
   "execution_count": 91,
   "metadata": {},
   "outputs": [
    {
     "name": "stdout",
     "output_type": "stream",
     "text": [
      "0 179.99999999999088\n",
      "1 -90.95591568945919\n",
      "2 -90.95591568945919\n",
      "3 -9.268053728140458\n",
      "4 -91.44194527659826\n",
      "5 -91.44194527659826\n",
      "6 -92.01006558568841\n",
      "7 -92.01006558568841\n",
      "8 -91.48616736658423\n",
      "9 -91.48616736658423\n",
      "10 -90.79526732725907\n",
      "11 -90.79526732725907\n",
      "12 -25.187778831245215\n",
      "13 -89.94984913713414\n",
      "14 -89.94984913713414\n"
     ]
    }
   ],
   "source": [
    "#\n",
    "# regarding the question of automatization:\n",
    "# the resonance clearly stands out in CS/DVR\n",
    "# use to make a loop over the Jolanata parameters \n",
    "# and map Eres(a,b,c) in a useful range: 0.1 to 8 eV\n",
    "#\n",
    "for i in range(n_save):\n",
    "    print(i, np.angle(trajectories[-1,i],deg=True))"
   ]
  },
  {
   "cell_type": "code",
   "execution_count": 92,
   "metadata": {},
   "outputs": [],
   "source": [
    "res_traj = trajectories[:,3]"
   ]
  },
  {
   "cell_type": "code",
   "execution_count": 93,
   "metadata": {},
   "outputs": [],
   "source": [
    "def naive_derivative(xs, ys):\n",
    "    \"\"\" naive forward or backward derivative \"\"\"\n",
    "    return (ys[1]-ys[0])/(xs[1]-xs[0])\n",
    "\n",
    "def central_derivative(xs, ys):\n",
    "    \"\"\" central derivative at x[1] \"\"\"\n",
    "    return (ys[2]-ys[0])/(xs[2]-xs[0])\n",
    "\n",
    "def five_point_derivative(xs, ys):\n",
    "    \"\"\" five-point derivative at x[2] \"\"\"\n",
    "    \"\"\" (-ys[0] + 8*ys[1] - 8*ys[3] + ys[4])/(12*h)  \"\"\"\n",
    "    return (-ys[0] + 8*ys[1] - 8*ys[3] + ys[4])/(xs[4]-xs[0])/3"
   ]
  },
  {
   "cell_type": "code",
   "execution_count": 94,
   "metadata": {},
   "outputs": [],
   "source": [
    "abs_der = np.zeros(n_theta)\n",
    "abs_der[0] = abs(naive_derivative(thetas[0:2], res_traj[0:2]))\n",
    "abs_der[1] = abs(central_derivative(thetas[0:3], res_traj[0:3]))\n",
    "for k in range(2,n_theta-2):\n",
    "    abs_der[k] = abs(five_point_derivative(thetas[k-2:k+3], res_traj[k-2:k+3]))\n",
    "abs_der[-2] = abs(naive_derivative(thetas[-3:], res_traj[-3:]))\n",
    "abs_der[-1] = abs(naive_derivative(thetas[-2:], res_traj[-2:]))"
   ]
  },
  {
   "cell_type": "code",
   "execution_count": 95,
   "metadata": {},
   "outputs": [],
   "source": [
    "plt.cla()\n",
    "plt.plot(thetas, np.log(abs_der), 'o-')\n",
    "plt.show()"
   ]
  },
  {
   "cell_type": "code",
   "execution_count": 96,
   "metadata": {},
   "outputs": [
    {
     "name": "stdout",
     "output_type": "stream",
     "text": [
      "38 38\n",
      "(0.8696689855466049-0.14183784022465826j)\n",
      "(1.969203050256052e-05+5.046653604012796e-05j)\n",
      "(-2.0663096704232053e-05-4.001912573572963e-05j)\n"
     ]
    }
   ],
   "source": [
    "#\n",
    "#  get a feeling for the stabilitity of the value\n",
    "#\n",
    "j_opt = np.argmin(abs_der)-2\n",
    "print(j_opt, thetas[j_opt])\n",
    "print(res_traj[j_opt])\n",
    "print(res_traj[j_opt-1]-res_traj[j_opt])\n",
    "print(res_traj[j_opt+1]-res_traj[j_opt])"
   ]
  },
  {
   "cell_type": "code",
   "execution_count": null,
   "metadata": {},
   "outputs": [],
   "source": []
  }
 ],
 "metadata": {
  "kernelspec": {
   "display_name": "Python 3",
   "language": "python",
   "name": "python3"
  },
  "language_info": {
   "codemirror_mode": {
    "name": "ipython",
    "version": 3
   },
   "file_extension": ".py",
   "mimetype": "text/x-python",
   "name": "python",
   "nbconvert_exporter": "python",
   "pygments_lexer": "ipython3",
   "version": "3.6.9"
  }
 },
 "nbformat": 4,
 "nbformat_minor": 4
}
