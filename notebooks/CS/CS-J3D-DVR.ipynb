{
 "cells": [
  {
   "cell_type": "code",
   "execution_count": 1,
   "metadata": {},
   "outputs": [],
   "source": [
    "import numpy as np\n",
    "from numpy.linalg import eigvals\n",
    "import matplotlib\n",
    "import matplotlib.pyplot as plt\n",
    "matplotlib.use('Qt5Agg')\n",
    "%matplotlib qt5\n",
    "import pandas as pd"
   ]
  },
  {
   "cell_type": "code",
   "execution_count": 3,
   "metadata": {},
   "outputs": [],
   "source": [
    "#\n",
    "#  extend path by location of the dvr package\n",
    "#\n",
    "import sys\n",
    "sys.path.append('../../Python_libs')\n",
    "import dvr\n",
    "from jolanta import Jolanta_3D\n",
    "from captools import simple_traj_der"
   ]
  },
  {
   "cell_type": "code",
   "execution_count": 3,
   "metadata": {},
   "outputs": [],
   "source": [
    "amu_to_au=1822.888486192\n",
    "au2cm=219474.63068\n",
    "au2eV=27.211386027\n",
    "Angs2Bohr=1.8897259886"
   ]
  },
  {
   "cell_type": "code",
   "execution_count": 4,
   "metadata": {},
   "outputs": [],
   "source": [
    "#\n",
    "# Jolanata-3D parameters a, b, c: (0.028, 1.0, 0.028)\n",
    "#\n",
    "#   CS-DVR:   \n",
    "#      bound state: -7.17051 eV\n",
    "#      resonance (3.1729556 - 0.16085j) eV\n",
    "#\n",
    "jparam=(0.028, 1.0, 0.028)"
   ]
  },
  {
   "cell_type": "code",
   "execution_count": 5,
   "metadata": {},
   "outputs": [
    {
     "name": "stdout",
     "output_type": "stream",
     "text": [
      "  1   -0.26351131 au =     -7.17051 eV\n",
      "  2    0.01683168 au =      0.45801 eV\n",
      "  3    0.05606363 au =      1.52557 eV\n",
      "  4    0.10555774 au =      2.87237 eV\n",
      "  5    0.12662372 au =      3.44561 eV\n",
      "  6    0.18685288 au =      5.08453 eV\n",
      "  7    0.26221360 au =      7.13520 eV\n"
     ]
    }
   ],
   "source": [
    "#\n",
    "#  compute DVR of T and V\n",
    "#  then show the density of states\n",
    "#  in a potential + energy-levels plot\n",
    "#\n",
    "xmax=30\n",
    "xmin=0   # grid from -xmin to xmax\n",
    "thresh = 7   # maximum energy for state in the plot in eV\n",
    "ppB = 15     # grid points per Bohr\n",
    "\n",
    "nGrid=int((xmax-xmin)*ppB)\n",
    "xs = dvr.DVRGrid(xmin, xmax, nGrid)\n",
    "Ts = dvr.KineticEnergy(1, xmin, xmax, nGrid)\n",
    "Vs=Jolanta_3D(xs, jparam)\n",
    "[energy, wf] = dvr.DVRDiag2(nGrid, Ts, Vs, wf=True)\n",
    "\n",
    "n_ene=0\n",
    "for i in range(nGrid):\n",
    "    print(\"%3d  %12.8f au = %12.5f eV\" % (i+1, energy[i], energy[i]*au2eV))\n",
    "    n_ene += 1\n",
    "    if energy[i]*au2eV > thresh:\n",
    "        break\n",
    "\n",
    "# \"DVR normalization\", sum(wf[:,0]**2)\n",
    "# this is correct for plotting\n",
    "\n",
    "c=[\"orange\", \"blue\"]\n",
    "h=float(xmax) / (nGrid+1.0)\n",
    "scale=400\n",
    "\n",
    "plt.plot(xs,Vs*au2eV, '-', color=\"black\")\n",
    "for i in range(n_ene):\n",
    "    plt.plot(xs, scale*wf[:,i]**2+energy[i]*au2eV, '-', color=c[i%len(c)])\n",
    "#plt.ylim(0, 20)\n",
    "plt.xlabel('$x$ [Bohr]')\n",
    "plt.ylabel('$E$ [eV]')\n",
    "plt.ylim(-8,8)\n",
    "plt.show()"
   ]
  },
  {
   "cell_type": "code",
   "execution_count": 30,
   "metadata": {},
   "outputs": [
    {
     "name": "stdout",
     "output_type": "stream",
     "text": [
      "theta = 0.436332\n"
     ]
    },
    {
     "data": {
      "text/plain": [
       "(-2, 0.5)"
      ]
     },
     "execution_count": 30,
     "metadata": {},
     "output_type": "execute_result"
    }
   ],
   "source": [
    "\"\"\" complex diagonalization example \"\"\"\n",
    "\n",
    "theta=25.0/180.0*np.pi\n",
    "print(\"theta = %f\" % (theta))\n",
    "Vs = Jolanta_3D(xs*np.exp(1j*complex(theta)), jparam)\n",
    "H_theta = np.exp(-2j*complex(theta)) * Ts + np.diag(Vs)\n",
    "energies = eigvals(H_theta)\n",
    "energies.sort()\n",
    "energies[:20]*au2eV\n",
    "plt.cla()\n",
    "plt.plot(energies.real*au2eV, energies.imag*au2eV, 'o')\n",
    "plt.xlim(-8,10)\n",
    "plt.ylim(-2,0.5)"
   ]
  },
  {
   "cell_type": "markdown",
   "metadata": {},
   "source": [
    "For small $\\theta$ everything is fine, but for larger angles basis set artifacts become apparent = there are eigenvalues off the rotation string with small real and hige imaginary part. Thus, above some $\\theta$, sorting the eigenvalue by low real part stops working as a filter. "
   ]
  },
  {
   "cell_type": "code",
   "execution_count": 31,
   "metadata": {},
   "outputs": [
    {
     "name": "stdout",
     "output_type": "stream",
     "text": [
      "1 2 3 4 5 6 7 8 9 10 \n",
      "11 12 13 14 15 16 17 18 19 20 \n",
      "21 22 23 24 25 26 27 28 29 30 \n",
      "31 32 33 34 35 36 37 38 39 40 \n",
      "41 "
     ]
    }
   ],
   "source": [
    "#\n",
    "#  complex scaling loop: \n",
    "#\n",
    "#  start on the real axis (theta=0) and rotate to theta = theta_max \n",
    "#\n",
    "#  we keep n_keep energies with the lowest real part \n",
    "#\n",
    "\n",
    "n_keep=30\n",
    "theta_min=0\n",
    "theta_max=40\n",
    "n_theta=theta_max - theta_min + 1\n",
    "thetas=[t for t in range(theta_min, theta_max+1)]\n",
    "\n",
    "run_data = np.zeros((n_theta,n_keep), complex)  # array used to collect all theta-run data\n",
    "#run_data = np.zeros((n_keep,n_theta), complex)  # array used to collect all theta-run data\n",
    "\n",
    "for i_theta in range(n_theta):\n",
    "    theta=thetas[i_theta]/180.0*np.pi\n",
    "    Vs = Jolanta_3D(xs*np.exp(1j*complex(theta)), jparam)\n",
    "    H_theta = np.exp(-2j*complex(theta)) * Ts + np.diag(Vs)\n",
    "    energies = eigvals(H_theta)\n",
    "    energies.sort()\n",
    "    run_data[i_theta,:] = energies[0:n_keep]\n",
    "    #run_data[:,i_theta] = energies[0:n_keep]\n",
    "    print(i_theta+1, end=\" \")\n",
    "    if (i_theta+1)%10==0:\n",
    "        print()\n",
    "\n",
    "run_data *= au2eV"
   ]
  },
  {
   "cell_type": "markdown",
   "metadata": {},
   "source": [
    "Plot the raw data; use matplotlib to zoom."
   ]
  },
  {
   "cell_type": "code",
   "execution_count": 32,
   "metadata": {},
   "outputs": [],
   "source": [
    "plt.cla()\n",
    "for i in range(0, n_keep):\n",
    "    plt.plot(run_data[:,i].real,  run_data[:,i].imag, 'o')\n",
    "plt.xlim(-1,10)\n",
    "plt.ylim(-1,0)\n",
    "plt.show()"
   ]
  },
  {
   "cell_type": "markdown",
   "metadata": {},
   "source": [
    "Two follow ideas:\n",
    "\n",
    "1. at the last $\\theta$ compute the angles and compare with $2*\\theta$ if significantly smaller, then resonance\n",
    "2.  once a trajectory has five values, use them to establish a Pade[2,2] then predict for the next theta\n",
    "\n"
   ]
  },
  {
   "cell_type": "code",
   "execution_count": 33,
   "metadata": {},
   "outputs": [],
   "source": [
    "def follow_nearest(follow, es):\n",
    "    \"\"\"\n",
    "    follow the energy closet to e0 from the real axis into the complex plane\n",
    "    es is a table of theta-run data es[i_theta,j_energies]\n",
    "    the algorithm used is simply nearest to the old energy\n",
    "    \"\"\"\n",
    "    (n_thetas, n_energies) = es.shape\n",
    "    trajectory = np.zeros(n_thetas,complex)\n",
    "    for j in range(0,n_thetas):\n",
    "        i = np.argmin(abs(es[j,:]-follow))\n",
    "        follow = trajectory[j] = es[j,i]\n",
    "    return trajectory"
   ]
  },
  {
   "cell_type": "code",
   "execution_count": 34,
   "metadata": {},
   "outputs": [],
   "source": [
    "n_save = n_keep//2\n",
    "trajectories = np.zeros((n_theta, n_save), complex)\n",
    "for j in range(n_save):\n",
    "    trajectories[:,j] = follow_nearest(run_data[0,j], run_data)\n",
    "plt.xlim(-1,20)\n",
    "plt.ylim(-10,0)\n",
    "for i in range(0, n_save):\n",
    "    plt.plot(trajectories[:,i].real,  trajectories[:,i].imag, '-')\n",
    "plt.show()"
   ]
  },
  {
   "cell_type": "code",
   "execution_count": 35,
   "metadata": {},
   "outputs": [],
   "source": [
    "#\n",
    "#  save n_save trajectories to file\n",
    "#  csv as real and imag \n",
    "#  (at the moment easier than csv with complex)\n",
    "#  also, include no header, because the energies need to be sorted\n",
    "#  into trajectories first\n",
    "#\n",
    "#fname=\"complex_scaling_rmax.\"+str(int(rmax))+\"_ppB.\"+str(ppB)+\".csv\"\n",
    "#read_write.write_theta_run(fname,thetas,trajectories)"
   ]
  },
  {
   "cell_type": "markdown",
   "metadata": {},
   "source": [
    "The resonance clearly stands out in CS/DVR.\n",
    "Follow the trajectory that finishes with the smallest angle."
   ]
  },
  {
   "cell_type": "code",
   "execution_count": 36,
   "metadata": {},
   "outputs": [
    {
     "name": "stdout",
     "output_type": "stream",
     "text": [
      "0 -179.99980238441225\n",
      "1 -105.68845920485826\n",
      "2 -114.15405497496475\n",
      "3 -114.46044686754207\n",
      "4 -2.9020156944302453\n",
      "5 -98.1668419877256\n",
      "6 -101.11743002992317\n",
      "7 -32.10968523480819\n",
      "8 -98.4560292763116\n",
      "9 -98.01144437707109\n",
      "10 -52.29813241727825\n",
      "11 -96.33500132733968\n",
      "12 -92.28516799540056\n",
      "13 -63.17563466846886\n",
      "14 -90.97816746794189\n",
      "Minimum angle index: 4\n"
     ]
    }
   ],
   "source": [
    "for i in range(n_save):\n",
    "    print(i, np.angle(trajectories[-1,i],deg=True))\n",
    "print(\"Minimum angle index:\",np.argmax(np.angle(trajectories[-1,0:n_save])))"
   ]
  },
  {
   "cell_type": "code",
   "execution_count": 37,
   "metadata": {},
   "outputs": [],
   "source": [
    "res_traj = trajectories[:,4]\n",
    "abs_der = np.abs(simple_traj_der(thetas, res_traj))\n",
    "plt.cla()\n",
    "plt.plot(thetas, np.log(abs_der), 'o-')\n",
    "plt.show()"
   ]
  },
  {
   "cell_type": "code",
   "execution_count": 38,
   "metadata": {},
   "outputs": [
    {
     "name": "stdout",
     "output_type": "stream",
     "text": [
      "34 34\n",
      "resonance (3.1729556212701966-0.16084889558781004j)\n",
      "abs_der 1.4360534078713517e-06\n",
      "change down (-1.4354245561065682e-06+2.766522097519264e-08j)\n",
      "change up (1.4358934654623567e-06+6.092757803832782e-08j)\n"
     ]
    }
   ],
   "source": [
    "#\n",
    "#  get a feeling for the stabilitity of the value\n",
    "#\n",
    "j_opt = np.argmin(abs_der)\n",
    "if j_opt == len(thetas)-1:\n",
    "    j_opt -= 1\n",
    "print(j_opt, thetas[j_opt])\n",
    "print('resonance', res_traj[j_opt])\n",
    "print('abs_der', abs_der[j_opt])\n",
    "print('change down', res_traj[j_opt-1]-res_traj[j_opt])\n",
    "print('change up', res_traj[j_opt+1]-res_traj[j_opt])"
   ]
  },
  {
   "cell_type": "code",
   "execution_count": 27,
   "metadata": {},
   "outputs": [
    {
     "data": {
      "text/plain": [
       "41"
      ]
     },
     "execution_count": 27,
     "metadata": {},
     "output_type": "execute_result"
    }
   ],
   "source": [
    "len(thetas)"
   ]
  },
  {
   "cell_type": "code",
   "execution_count": null,
   "metadata": {},
   "outputs": [],
   "source": []
  }
 ],
 "metadata": {
  "kernelspec": {
   "display_name": "Python 3",
   "language": "python",
   "name": "python3"
  },
  "language_info": {
   "codemirror_mode": {
    "name": "ipython",
    "version": 3
   },
   "file_extension": ".py",
   "mimetype": "text/x-python",
   "name": "python",
   "nbconvert_exporter": "python",
   "pygments_lexer": "ipython3",
   "version": "3.8.8"
  }
 },
 "nbformat": 4,
 "nbformat_minor": 4
}
