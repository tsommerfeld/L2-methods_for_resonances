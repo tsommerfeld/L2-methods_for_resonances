{
 "cells": [
  {
   "cell_type": "markdown",
   "metadata": {},
   "source": [
    "## CS/DVR: step 1 and 2"
   ]
  },
  {
   "cell_type": "code",
   "execution_count": 1,
   "metadata": {},
   "outputs": [],
   "source": [
    "import numpy as np\n",
    "from numpy.linalg import eigvals\n",
    "from scipy.optimize import minimize\n",
    "import matplotlib\n",
    "import matplotlib.pyplot as plt\n",
    "matplotlib.use('Qt5Agg')\n",
    "%matplotlib qt5\n",
    "import pandas as pd"
   ]
  },
  {
   "cell_type": "code",
   "execution_count": 2,
   "metadata": {},
   "outputs": [],
   "source": [
    "#\n",
    "#  extend path by location of the dvr package\n",
    "#\n",
    "import sys\n",
    "sys.path.append('../../Python_libs')\n",
    "import dvr\n",
    "from jolanta import Jolanta_3D\n",
    "from captools import simple_traj_der, five_point_derivative"
   ]
  },
  {
   "cell_type": "code",
   "execution_count": 3,
   "metadata": {},
   "outputs": [],
   "source": [
    "amu_to_au=1822.888486192\n",
    "au2cm=219474.63068\n",
    "au2eV=27.211386027\n",
    "Angs2Bohr=1.8897259886"
   ]
  },
  {
   "cell_type": "code",
   "execution_count": 4,
   "metadata": {},
   "outputs": [],
   "source": [
    "#\n",
    "# Jolanata-3D parameters a, b, c: (0.028, 1.0, 0.028)\n",
    "#\n",
    "#   CS-DVR:   \n",
    "#      bound state: -7.17051 eV\n",
    "#      resonance (3.1729556 - 0.16085j) eV\n",
    "#\n",
    "jparam=(0.028, 1.0, 0.028)"
   ]
  },
  {
   "cell_type": "code",
   "execution_count": 5,
   "metadata": {},
   "outputs": [
    {
     "name": "stdout",
     "output_type": "stream",
     "text": [
      "  1   -0.26351131 au =     -7.17051 eV\n",
      "  2    0.02918102 au =      0.79406 eV\n",
      "  3    0.09074913 au =      2.46941 eV\n",
      "  4    0.12080260 au =      3.28721 eV\n",
      "  5    0.18417311 au =      5.01161 eV\n",
      "  6    0.27654358 au =      7.52513 eV\n"
     ]
    }
   ],
   "source": [
    "#\n",
    "#  compute DVR of T and V\n",
    "#  then show the density of states\n",
    "#  in a potential + energy-levels plot\n",
    "#\n",
    "xmax=25\n",
    "xmin=0   # grid from -xmin to xmax\n",
    "thresh = 7   # maximum energy for state in the plot in eV\n",
    "ppB = 15     # grid points per Bohr\n",
    "\n",
    "nGrid=int((xmax-xmin)*ppB)\n",
    "xs = dvr.DVRGrid(xmin, xmax, nGrid)\n",
    "Ts = dvr.KineticEnergy(1, xmin, xmax, nGrid)\n",
    "Vs=Jolanta_3D(xs, jparam)\n",
    "[energy, wf] = dvr.DVRDiag2(nGrid, Ts, Vs, wf=True)\n",
    "\n",
    "n_ene=0\n",
    "for i in range(nGrid):\n",
    "    print(\"%3d  %12.8f au = %12.5f eV\" % (i+1, energy[i], energy[i]*au2eV))\n",
    "    n_ene += 1\n",
    "    if energy[i]*au2eV > thresh:\n",
    "        break\n",
    "\n",
    "# \"DVR normalization\", sum(wf[:,0]**2)\n",
    "# this is correct for plotting\n",
    "\n",
    "c=[\"orange\", \"blue\"]\n",
    "h=float(xmax) / (nGrid+1.0)\n",
    "scale=400\n",
    "\n",
    "plt.plot(xs,Vs*au2eV, '-', color=\"black\")\n",
    "for i in range(n_ene):\n",
    "    plt.plot(xs, scale*wf[:,i]**2+energy[i]*au2eV, '-', color=c[i%len(c)])\n",
    "#plt.ylim(0, 20)\n",
    "plt.xlabel('$x$ [Bohr]')\n",
    "plt.ylabel('$E$ [eV]')\n",
    "plt.ylim(-8,8)\n",
    "plt.show()"
   ]
  },
  {
   "cell_type": "markdown",
   "metadata": {},
   "source": [
    "Two helper functions"
   ]
  },
  {
   "cell_type": "code",
   "execution_count": 6,
   "metadata": {},
   "outputs": [],
   "source": [
    "def ECS(alpha, theta):\n",
    "    \"\"\" diag H(alpha*exp(i*theta)) and return eigenvalues \"\"\"\n",
    "    eta=alpha*np.exp(1j*theta)\n",
    "    Vs = Jolanta_3D(xs*eta, jparam)\n",
    "    H_theta = Ts/eta**2 + np.diag(Vs)\n",
    "    return eigvals(H_theta)\n",
    "\n",
    "def near_E(alpha, theta, E_near):\n",
    "    \"\"\" diag H(alpha*exp(i*theta)) and return eigenvalue near E_near \"\"\"\n",
    "    Es = ECS(alpha, theta)\n",
    "    j = np.argmin(np.abs(Es - E_near))\n",
    "    return Es[j]"
   ]
  },
  {
   "cell_type": "code",
   "execution_count": 7,
   "metadata": {},
   "outputs": [
    {
     "name": "stdout",
     "output_type": "stream",
     "text": [
      "0 (-7.17048676323494-2.757442235297604e-05j)\n",
      "1 (0.12319575418222453-0.6447856747464203j)\n",
      "2 (0.6769051073757529-2.510872946805203j)\n",
      "3 (2.2813269896572237-5.036498142249488j)\n",
      "4 (3.1729350979582995-0.16086331778407406j)\n",
      "5 (4.8475998455820974-8.113277014269515j)\n",
      "6 (7.513829958365812-4.717125131061044j)\n",
      "7 (8.121591146545715-11.38052093763252j)\n",
      "8 (11.32008035953136-13.287205284627333j)\n",
      "9 (13.083027798587672-16.59321807868231j)\n"
     ]
    }
   ],
   "source": [
    "\"\"\" complex diagonalization example \"\"\"\n",
    "\n",
    "theta=25.0/180.0*np.pi\n",
    "energies = ECS(1.0, theta)\n",
    "energies.sort()\n",
    "energies *= au2eV\n",
    "for i in range(10):\n",
    "    print(i, energies[i])\n",
    "plt.cla()\n",
    "plt.plot(energies.real, energies.imag, 'o')\n",
    "plt.xlim(-8,10)\n",
    "plt.ylim(-2,0.5)\n",
    "plt.show()"
   ]
  },
  {
   "cell_type": "markdown",
   "metadata": {},
   "source": [
    "For small $\\theta$ everything is fine, but for larger angles basis set artifacts become apparent = there are eigenvalues off the rotation string with small real and huge imaginary part. Thus, above some $\\theta$, sorting the eigenvalue by low real part stops working as a filter. "
   ]
  },
  {
   "cell_type": "code",
   "execution_count": 8,
   "metadata": {},
   "outputs": [
    {
     "name": "stdout",
     "output_type": "stream",
     "text": [
      "1 2 3 4 5 6 7 8 9 10 \n",
      "11 12 13 14 15 16 17 18 19 20 \n",
      "21 22 23 24 25 26 27 28 29 30 \n",
      "31 32 33 34 35 36 37 38 39 40 \n",
      "41 "
     ]
    }
   ],
   "source": [
    "#\n",
    "#  complex scaling loop: \n",
    "#\n",
    "#  start on the real axis (theta=0) and rotate to theta = theta_max \n",
    "#\n",
    "#  we keep n_keep energies with the lowest real part \n",
    "#\n",
    "\n",
    "n_keep=30\n",
    "theta_min=0\n",
    "theta_max=40\n",
    "n_theta=theta_max - theta_min + 1\n",
    "thetas=[t for t in range(theta_min, theta_max+1)]\n",
    "\n",
    "run_data = np.zeros((n_theta,n_keep), complex)  # array used to collect all theta-run data\n",
    "#run_data = np.zeros((n_keep,n_theta), complex)  # array used to collect all theta-run data\n",
    "\n",
    "for i_theta in range(n_theta):\n",
    "    theta=thetas[i_theta]/180.0*np.pi\n",
    "    energies = ECS(1.0, theta)\n",
    "    energies.sort()\n",
    "    run_data[i_theta,:] = energies[0:n_keep]\n",
    "    #run_data[:,i_theta] = energies[0:n_keep]\n",
    "    print(i_theta+1, end=\" \")\n",
    "    if (i_theta+1)%10==0:\n",
    "        print()\n",
    "\n",
    "run_data *= au2eV"
   ]
  },
  {
   "cell_type": "markdown",
   "metadata": {},
   "source": [
    "Plot the raw data; use matplotlib to zoom."
   ]
  },
  {
   "cell_type": "code",
   "execution_count": 9,
   "metadata": {},
   "outputs": [],
   "source": [
    "plt.cla()\n",
    "for i in range(0, n_keep):\n",
    "    plt.plot(run_data[:,i].real,  run_data[:,i].imag, 'o')\n",
    "plt.xlim(-1,10)\n",
    "plt.ylim(-1,0)\n",
    "plt.show()"
   ]
  },
  {
   "cell_type": "markdown",
   "metadata": {},
   "source": [
    "Two follow ideas:\n",
    "\n",
    "1. at the last $\\theta$ compute the angles and compare with $2*\\theta$ if significantly smaller, then resonance\n",
    "2.  once a trajectory has five values, use them to establish a Pade[2,2] then predict for the next theta\n",
    "\n"
   ]
  },
  {
   "cell_type": "code",
   "execution_count": 10,
   "metadata": {},
   "outputs": [],
   "source": [
    "def follow_nearest(follow, es):\n",
    "    \"\"\"\n",
    "    follow the energy closet to e0 from the real axis into the complex plane\n",
    "    es is a table of theta-run data es[i_theta,j_energies]\n",
    "    the algorithm used is simply nearest to the old energy\n",
    "    \"\"\"\n",
    "    (n_thetas, n_energies) = es.shape\n",
    "    trajectory = np.zeros(n_thetas,complex)\n",
    "    for j in range(0,n_thetas):\n",
    "        i = np.argmin(abs(es[j,:]-follow))\n",
    "        follow = trajectory[j] = es[j,i]\n",
    "    return trajectory"
   ]
  },
  {
   "cell_type": "code",
   "execution_count": 11,
   "metadata": {},
   "outputs": [],
   "source": [
    "n_save = n_keep//2\n",
    "trajectories = np.zeros((n_theta, n_save), complex)\n",
    "for j in range(n_save):\n",
    "    trajectories[:,j] = follow_nearest(run_data[0,j], run_data)\n",
    "plt.xlim(-1,20)\n",
    "plt.ylim(-10,0)\n",
    "for i in range(0, n_save):\n",
    "    plt.plot(trajectories[:,i].real,  trajectories[:,i].imag, '-')\n",
    "plt.show()"
   ]
  },
  {
   "cell_type": "code",
   "execution_count": 12,
   "metadata": {},
   "outputs": [],
   "source": [
    "#\n",
    "#  save n_save trajectories to file\n",
    "#  csv as real and imag \n",
    "#  (at the moment easier than csv with complex)\n",
    "#  also, include no header, because the energies need to be sorted\n",
    "#  into trajectories first\n",
    "#\n",
    "#fname=\"complex_scaling_rmax.\"+str(int(rmax))+\"_ppB.\"+str(ppB)+\".csv\"\n",
    "#read_write.write_theta_run(fname,thetas,trajectories)"
   ]
  },
  {
   "cell_type": "markdown",
   "metadata": {},
   "source": [
    "The resonance clearly stands out in CS/DVR.\n",
    "Follow the trajectory that finishes with the smallest angle."
   ]
  },
  {
   "cell_type": "code",
   "execution_count": 13,
   "metadata": {},
   "outputs": [
    {
     "name": "stdout",
     "output_type": "stream",
     "text": [
      "0 -179.99980264790037\n",
      "1 -114.86693835412485\n",
      "2 -122.97131985558339\n",
      "3 -2.90201435259857\n",
      "4 -101.3736921632065\n",
      "5 -32.109685024747904\n",
      "6 -104.59355491505079\n",
      "7 -95.13707394048981\n",
      "8 -52.29813433621948\n",
      "9 -93.21931421284157\n",
      "10 -63.17564494933142\n",
      "11 -63.17564494933142\n",
      "12 -87.11382163838118\n",
      "13 -70.16399195953744\n",
      "14 -87.11382163838118\n",
      "Minimum angle index: 3\n"
     ]
    }
   ],
   "source": [
    "for i in range(n_save):\n",
    "    print(i, np.angle(trajectories[-1,i],deg=True))\n",
    "print(\"Minimum angle index:\",np.argmax(np.angle(trajectories[-1,0:n_save])))"
   ]
  },
  {
   "cell_type": "code",
   "execution_count": 14,
   "metadata": {},
   "outputs": [],
   "source": [
    "res_traj = trajectories[:,3]\n",
    "abs_der = np.abs(simple_traj_der(thetas, res_traj))\n",
    "plt.cla()\n",
    "plt.plot(thetas, np.log(abs_der), 'o-')\n",
    "plt.xlabel(r'$\\theta$')\n",
    "plt.ylabel(r'$\\ln|dE/d\\theta|$')\n",
    "plt.show()"
   ]
  },
  {
   "cell_type": "markdown",
   "metadata": {},
   "source": [
    "Energy, $\\theta_{opt}$, and stability for $\\alpha=1$"
   ]
  },
  {
   "cell_type": "code",
   "execution_count": 15,
   "metadata": {},
   "outputs": [
    {
     "name": "stdout",
     "output_type": "stream",
     "text": [
      "theta_opt 39\n",
      "E_res (3.1729627262865874-0.16084768159778406j)\n",
      "dE/dtheta 1.4402761214424823e-06\n",
      "delta-E down (-1.4049190060205774e-06-3.1717170825840135e-07j)\n",
      "delta-E up   (1.3641803864317126e-06+4.161990286022377e-07j)\n"
     ]
    }
   ],
   "source": [
    "j_opt = np.argmin(abs_der)\n",
    "if j_opt == len(thetas)-1:\n",
    "    j_opt -= 1\n",
    "theta_opt = thetas[j_opt]\n",
    "Eres=res_traj[j_opt]\n",
    "print('theta_opt', thetas[j_opt])\n",
    "print('E_res', res_traj[j_opt])\n",
    "print('dE/dtheta', abs_der[j_opt])\n",
    "print('delta-E down', res_traj[j_opt-1]-res_traj[j_opt])\n",
    "print('delta-E up  ', res_traj[j_opt+1]-res_traj[j_opt])"
   ]
  },
  {
   "cell_type": "markdown",
   "metadata": {},
   "source": [
    "## Optimize $\\eta=\\alpha\\,\\exp(i\\theta)$\n",
    "\n",
    "* Define the objective $\\vert dE/dz\\vert$ using average central derivatives.\n",
    "* Find its minimum using simplex minimization.\n",
    "\n",
    "However, even though $\\eta$ changes quite a bit and $\\vert dE/dz\\vert$ decreases quite a lot, $E_{res}$ is essentially constant."
   ]
  },
  {
   "cell_type": "code",
   "execution_count": 27,
   "metadata": {},
   "outputs": [],
   "source": [
    "def objective(eta, dx, E_near, verbose=False):\n",
    "    \"\"\"\n",
    "    Input: \n",
    "        eta: (alpha, theta); z = alpha*exp(i*theta)\n",
    "        dx:  numerical derivatives using z +/- dx or idx\n",
    "        E_near: select the eigenvalue nearest to this energy  \n",
    "    Output: \n",
    "        dE/dz along Re(z), dE/dz along Im(z) for the state near E_near\n",
    "    This requires four single points.\n",
    "    \"\"\"\n",
    "    a, t = eta\n",
    "    z0 = a*np.exp(1j*t)\n",
    "    es = np.zeros(2, complex)\n",
    "    zs = np.array([z0-dx, z0+dx])\n",
    "    for i, z in enumerate(zs):\n",
    "        a, t = np.abs(z), np.angle(z)\n",
    "        es[i] = near_E(a, t, E_near)\n",
    "    dEdz_re = (es[1] - es[0])/(2*dx)\n",
    "    zs = [z0-1j*dx, z0+1j*dx]\n",
    "    for i, z in enumerate(zs):\n",
    "        a, t = np.abs(z), np.angle(z)\n",
    "        es[i] = near_E(a, t, E_near)\n",
    "    dEdz_im = (es[1] - es[0])/(2j*dx)\n",
    "    if verbose:\n",
    "        print(dEdz_re)\n",
    "        print(dEdz_im)\n",
    "    return np.abs(0.5*(dEdz_re + dEdz_im)) "
   ]
  },
  {
   "cell_type": "code",
   "execution_count": 29,
   "metadata": {},
   "outputs": [
    {
     "name": "stdout",
     "output_type": "stream",
     "text": [
      "(-1.229734536423166e-06-2.746350224059474e-06j)\n",
      "(-1.2323924459059499e-06-2.749129306145459e-06j)\n"
     ]
    },
    {
     "data": {
      "text/plain": [
       "3.0109120106711237e-06"
      ]
     },
     "execution_count": 29,
     "metadata": {},
     "output_type": "execute_result"
    }
   ],
   "source": [
    "alpha_curr=1.0\n",
    "theta_curr=theta_opt/180.0*np.pi\n",
    "dx=0.001\n",
    "E_find = Eres/au2eV\n",
    "objective((alpha_curr, theta_curr), dx, E_find, verbose=True)"
   ]
  },
  {
   "cell_type": "markdown",
   "metadata": {},
   "source": [
    "For DVR, finding $\\eta_{opt}=\\alpha_{opt}\\exp(i\\theta_{opt})$ *via* minimization is very slow. Computing $E_{res}$ on a grid and interpolating should be much faster."
   ]
  },
  {
   "cell_type": "code",
   "execution_count": 30,
   "metadata": {},
   "outputs": [
    {
     "name": "stdout",
     "output_type": "stream",
     "text": [
      "p0= [1.0, 0.6806784082777886]\n",
      "Eres0= (3.1729627262865874-0.16084768159778406j)\n",
      "f0= 3.0109120106711237e-06\n",
      "Optimization terminated successfully.\n",
      "[0.9415283  0.70868483]\n",
      "8.656724926280831e-09\n",
      "Eres= (3.1729630104542235-0.16084352057881723j)\n",
      "Energy change= (2.8416763608873907e-07+4.161018966830632e-06j)\n"
     ]
    }
   ],
   "source": [
    "args=(dx, E_find)\n",
    "p0=[alpha_curr, theta_curr]\n",
    "print('p0=', p0)\n",
    "print('Eres0=', near_E(alpha_curr, theta_curr, E_find)*au2eV)\n",
    "print('f0=', objective(p0, dx, E_find))\n",
    "res=minimize(objective, p0, args=args, method=\"Nelder-Mead\")\n",
    "print(res.message)\n",
    "print(res.x)\n",
    "print(res.fun)\n",
    "Eopt=near_E(res.x[0], res.x[1], E_find)*au2eV\n",
    "print('Eres=', Eopt)\n",
    "print('Energy change=', Eopt-Eres)"
   ]
  },
  {
   "cell_type": "raw",
   "metadata": {},
   "source": []
  }
 ],
 "metadata": {
  "kernelspec": {
   "display_name": "Python 3 (ipykernel)",
   "language": "python",
   "name": "python3"
  },
  "language_info": {
   "codemirror_mode": {
    "name": "ipython",
    "version": 3
   },
   "file_extension": ".py",
   "mimetype": "text/x-python",
   "name": "python",
   "nbconvert_exporter": "python",
   "pygments_lexer": "ipython3",
   "version": "3.8.12"
  }
 },
 "nbformat": 4,
 "nbformat_minor": 4
}
