{
 "cells": [
  {
   "cell_type": "code",
   "execution_count": 4,
   "metadata": {},
   "outputs": [],
   "source": [
    "import numpy as np\n",
    "from scipy.optimize import curve_fit\n",
    "#from scipy.optimize import minimize\n",
    "#from scipy.optimize import basinhopping\n",
    "from pandas import Series, DataFrame\n",
    "import pandas as pd\n",
    "import sys\n",
    "#import statsmodels.api as sm\n",
    "#from statsmodels.formula.api import ols\n",
    "#from statsmodels.stats.anova import anova_lm\n",
    "#get_ipython().magic('matplotlib qt5')\n",
    "import matplotlib\n",
    "import matplotlib.pyplot as plt\n",
    "matplotlib.use('Qt5Agg')\n",
    "%matplotlib qt5\n",
    "#sys.path.append('/home/thomas/Python/xyz_tools')\n",
    "#import coordinate_tools as ct"
   ]
  },
  {
   "cell_type": "code",
   "execution_count": 46,
   "metadata": {},
   "outputs": [
    {
     "name": "stdout",
     "output_type": "stream",
     "text": [
      "50 5\n"
     ]
    }
   ],
   "source": [
    "    fname = \"/home/thomas/Current_Work/Ethylene/eom_zscale.dat\"\n",
    "    data = np.lib.loadtxt(fname, skiprows=1)  # names for pandas read\n",
    "    ls = data[:,0]\n",
    "    Es = data[:,1:]\n",
    "    nl, nE = Es.shape\n",
    "    print(nl, nE)\n",
    "    for i in range(nl):\n",
    "        Es[i,:] = sorted(Es[i,:])\n",
    "    plt.cla()\n",
    "    for j in range(nE):\n",
    "        plt.plot(ls, Es[:,j], '-o')\n",
    "    plt.title('raw data')\n",
    "    plt.grid(True)\n",
    "    plt.show()       "
   ]
  },
  {
   "cell_type": "code",
   "execution_count": 47,
   "metadata": {},
   "outputs": [
    {
     "name": "stdout",
     "output_type": "stream",
     "text": [
      "[ -9.5062354   -9.79400217 -10.08295526 -10.37304566]\n",
      "[1.41 1.44 1.47 1.5 ]\n",
      "[[ 1.18177416e-05 -3.22624438e-05  2.19313778e-05]\n",
      " [-3.22624438e-05  8.81445667e-05 -5.99655936e-05]\n",
      " [ 2.19313778e-05 -5.99655936e-05  4.08276091e-05]]\n",
      "[-0.66589781 -7.69509074  2.6677861 ]\n"
     ]
    }
   ],
   "source": [
    "n=46\n",
    "n=40\n",
    "print(Es[46:,0])\n",
    "print(ls[46:])\n",
    "popt, pconv = curve_fit(p2, ls[n:],Es[n:,0], p0=[0.1, -8, 2])\n",
    "print(pconv)\n",
    "print(popt)"
   ]
  },
  {
   "cell_type": "code",
   "execution_count": 55,
   "metadata": {},
   "outputs": [],
   "source": [
    "def p2(x, a, b, c):\n",
    "    return a*x**2 + b*x + c\n",
    "\n",
    "def match(ls, Ead, Ed):\n",
    "    \"\"\"\n",
    "    have a block of diabatic energies\n",
    "    fit to quadratic function\n",
    "    predict and pick\n",
    "    replace picked value with 1e7 (or so)\n",
    "    \"\"\"\n",
    "    Ea=np.copy(Ead)\n",
    "    crazy = 1e7\n",
    "    nll, nEd = Ed.shape\n",
    "    E_sorted = np.zeros(nEd)\n",
    "    for j in range(nEd):\n",
    "        popt, pconv = curve_fit(p2, ls[1:],Ed[:,j], p0=[0.01, -5, 2])\n",
    "        a, b, c = popt\n",
    "        E_predict = p2(ls[0], a, b, c)\n",
    "        diff=np.abs(Ea-E_predict)\n",
    "        k=np.argmin(diff)\n",
    "        #print(E_predict, Ea[k], diff[k])\n",
    "        E_sorted[j] = Ea[k]\n",
    "        Ea[k] = crazy\n",
    "    return E_sorted"
   ]
  },
  {
   "cell_type": "code",
   "execution_count": 58,
   "metadata": {},
   "outputs": [],
   "source": [
    "    Edia = np.zeros((nl, nE))\n",
    "    # assume that states separate for high l\n",
    "    Edia[-5:,:] = Es[-5:,:]\n",
    "    # count from the back starting with ls[-6] = ls[n_ls-6] \n",
    "    # debug: range(n_ls-6, n_ls-7, -1):\n",
    "    # actual range(n_ls-6, -1, -1):\n",
    "    for k in range(nl-6, -1, -1):\n",
    "        Edia[k,:] = match(ls[k:], Es[k,:], Edia[k+1:,:])"
   ]
  },
  {
   "cell_type": "code",
   "execution_count": 59,
   "metadata": {},
   "outputs": [],
   "source": [
    "plt.cla()\n",
    "for i in range(nE):\n",
    "    plt.plot(ls, Edia[:,i], '-o')\n",
    "plt.title('diabatized')\n",
    "plt.grid(True)\n",
    "plt.show()"
   ]
  },
  {
   "cell_type": "code",
   "execution_count": null,
   "metadata": {},
   "outputs": [],
   "source": []
  }
 ],
 "metadata": {
  "kernelspec": {
   "display_name": "Python 3",
   "language": "python",
   "name": "python3"
  },
  "language_info": {
   "codemirror_mode": {
    "name": "ipython",
    "version": 3
   },
   "file_extension": ".py",
   "mimetype": "text/x-python",
   "name": "python",
   "nbconvert_exporter": "python",
   "pygments_lexer": "ipython3",
   "version": "3.6.9"
  }
 },
 "nbformat": 4,
 "nbformat_minor": 4
}
